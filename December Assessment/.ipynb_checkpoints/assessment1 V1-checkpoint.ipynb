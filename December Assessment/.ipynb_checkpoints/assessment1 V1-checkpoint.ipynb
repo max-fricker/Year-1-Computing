{
 "cells": [
  {
   "cell_type": "markdown",
   "metadata": {
    "deletable": false,
    "editable": false,
    "nbgrader": {
     "cell_type": "markdown",
     "checksum": "f4aa9653ec872fbba6d3c9059c747661",
     "grade": false,
     "grade_id": "cell-7768773a1cfc3752",
     "locked": true,
     "schema_version": 3,
     "solution": false
    }
   },
   "source": [
    "# M40006 In-Course Assessment\n",
    "\n",
    "# 15 December 2021, 9-11 am\n",
    "\n",
    "## Two Hours\n",
    "\n",
    "### Answer all questions, submitting your answers as a single Jupyter notebook."
   ]
  },
  {
   "cell_type": "markdown",
   "metadata": {
    "deletable": false,
    "editable": false,
    "nbgrader": {
     "cell_type": "markdown",
     "checksum": "bb7e37a10abb96102cdd17301e8a202a",
     "grade": false,
     "grade_id": "cell-2c3056a6124a5127",
     "locked": true,
     "schema_version": 3,
     "solution": false
    }
   },
   "source": [
    "To carry out this assignment, you may find useful, possibly amongst others:\n",
    "<ul>\n",
    "    <li>the core Python <code>pow</code>, <code>complex</code>, <code>range</code>, <code>abs</code> and <code>round</code> functions;</li>\n",
    "    <li>the functions <code>exp</code> and <code>log</code> from the <code>math</code> module;</li>\n",
    "    <li>the function <code>exp</code> from the <code>cmath</code> module;</li> \n",
    "    <li>the <code>plot</code> function from the <code>pyplot</code> module of <code>matplotlib</code>.\n",
    "</ul>\n",
    "\n",
    "It is recommended that you simply execute the following code cell:"
   ]
  },
  {
   "cell_type": "code",
   "execution_count": 19,
   "metadata": {
    "deletable": false,
    "editable": false,
    "nbgrader": {
     "cell_type": "code",
     "checksum": "4ee784fa8cdab59ce1aa899af85351ed",
     "grade": false,
     "grade_id": "cell-9d3af8ae7bbcd825",
     "locked": true,
     "schema_version": 3,
     "solution": false
    }
   },
   "outputs": [],
   "source": [
    "%matplotlib inline\n",
    "import math\n",
    "import cmath\n",
    "import matplotlib.pyplot as plt"
   ]
  },
  {
   "cell_type": "markdown",
   "metadata": {
    "deletable": false,
    "editable": false,
    "nbgrader": {
     "cell_type": "markdown",
     "checksum": "6f795bcfbe3b8c5fe7efdbd9dd1b80a1",
     "grade": false,
     "grade_id": "cell-3b0ada2b9a80bba9",
     "locked": true,
     "schema_version": 3,
     "solution": false
    }
   },
   "source": [
    "## Question 1 (20 marks)\n",
    "\n",
    "Using Python, and showing your code:"
   ]
  },
  {
   "cell_type": "markdown",
   "metadata": {
    "deletable": false,
    "editable": false,
    "nbgrader": {
     "cell_type": "markdown",
     "checksum": "18be843c8e366847234f455a142c6327",
     "grade": false,
     "grade_id": "cell-e3b16606adbbf31a",
     "locked": true,
     "schema_version": 3,
     "solution": false
    }
   },
   "source": [
    "(a) Define, as ints, the variables $a=7531$, $b=8392$ and $c=9917$."
   ]
  },
  {
   "cell_type": "code",
   "execution_count": 20,
   "metadata": {
    "deletable": false,
    "nbgrader": {
     "cell_type": "code",
     "checksum": "d34a24fc16e4075d4b8302ed79ebf911",
     "grade": true,
     "grade_id": "cell-5283fe9b75424541",
     "locked": false,
     "points": 3,
     "schema_version": 3,
     "solution": true
    }
   },
   "outputs": [
    {
     "name": "stdout",
     "output_type": "stream",
     "text": [
      "7531 8392 9917\n"
     ]
    }
   ],
   "source": [
    "a = 7531\n",
    "b = 8392\n",
    "c = 9917\n",
    "\n",
    "print(a , b ,c)"
   ]
  },
  {
   "cell_type": "markdown",
   "metadata": {
    "deletable": false,
    "editable": false,
    "nbgrader": {
     "cell_type": "markdown",
     "checksum": "19ecc4f64dbbc3da78286833cb393f27",
     "grade": false,
     "grade_id": "cell-ea7543901978045e",
     "locked": true,
     "schema_version": 3,
     "solution": false
    }
   },
   "source": [
    "(b) Calculate, as an int, $a \\times b$."
   ]
  },
  {
   "cell_type": "code",
   "execution_count": 21,
   "metadata": {
    "deletable": false,
    "nbgrader": {
     "cell_type": "code",
     "checksum": "92ee1ba323ae7c17bfb6d4a5b7976eb8",
     "grade": true,
     "grade_id": "cell-f3ce9155e9d81a9c",
     "locked": false,
     "points": 2,
     "schema_version": 3,
     "solution": true
    }
   },
   "outputs": [
    {
     "name": "stdout",
     "output_type": "stream",
     "text": [
      "63200152\n"
     ]
    }
   ],
   "source": [
    "d = a * b\n",
    "\n",
    "print(d)"
   ]
  },
  {
   "cell_type": "markdown",
   "metadata": {
    "deletable": false,
    "editable": false,
    "nbgrader": {
     "cell_type": "markdown",
     "checksum": "d2aff03ed4d0184e1877056bc73bb640",
     "grade": false,
     "grade_id": "cell-0260060628275456",
     "locked": true,
     "schema_version": 3,
     "solution": false
    }
   },
   "source": [
    "(c) Calculate, as a float, $a/b$."
   ]
  },
  {
   "cell_type": "code",
   "execution_count": 22,
   "metadata": {
    "deletable": false,
    "nbgrader": {
     "cell_type": "code",
     "checksum": "781df1c498859b7d0a93fcc748642525",
     "grade": true,
     "grade_id": "cell-a8e5ebbcdddbcd79",
     "locked": false,
     "points": 2,
     "schema_version": 3,
     "solution": true
    }
   },
   "outputs": [
    {
     "name": "stdout",
     "output_type": "stream",
     "text": [
      "0.8974022878932316\n"
     ]
    }
   ],
   "source": [
    "e = a / b\n",
    "\n",
    "print(e)"
   ]
  },
  {
   "cell_type": "markdown",
   "metadata": {
    "deletable": false,
    "editable": false,
    "nbgrader": {
     "cell_type": "markdown",
     "checksum": "f9abbff8e4280e9d46321866098ab085",
     "grade": false,
     "grade_id": "cell-99fb40e2b475fdc2",
     "locked": true,
     "schema_version": 3,
     "solution": false
    }
   },
   "source": [
    "(d) Calculate, as an int, the greatest integer less than or equal to $a^2/b$."
   ]
  },
  {
   "cell_type": "code",
   "execution_count": 23,
   "metadata": {
    "deletable": false,
    "nbgrader": {
     "cell_type": "code",
     "checksum": "fa6937f20bf23851701ce8187d7f0e25",
     "grade": true,
     "grade_id": "cell-b9b45249f78a7a43",
     "locked": false,
     "points": 3,
     "schema_version": 3,
     "solution": true
    }
   },
   "outputs": [
    {
     "name": "stdout",
     "output_type": "stream",
     "text": [
      "6758\n"
     ]
    }
   ],
   "source": [
    "f = (a ** 2) // b\n",
    "\n",
    "print(f)"
   ]
  },
  {
   "cell_type": "markdown",
   "metadata": {
    "deletable": false,
    "editable": false,
    "nbgrader": {
     "cell_type": "markdown",
     "checksum": "f14c642c408d8930e07a7db961628cb7",
     "grade": false,
     "grade_id": "cell-3744f46358c8eadf",
     "locked": true,
     "schema_version": 3,
     "solution": false
    }
   },
   "source": [
    "(e) Calculate, as an int, the remainder when $a^2$ is divided by $b$."
   ]
  },
  {
   "cell_type": "code",
   "execution_count": 24,
   "metadata": {
    "deletable": false,
    "nbgrader": {
     "cell_type": "code",
     "checksum": "3416111ffbbb8c46e95f29e720e8f1a3",
     "grade": true,
     "grade_id": "cell-a108cf0248f58238",
     "locked": false,
     "points": 3,
     "schema_version": 3,
     "solution": true
    }
   },
   "outputs": [
    {
     "name": "stdout",
     "output_type": "stream",
     "text": [
      "2825\n"
     ]
    }
   ],
   "source": [
    "g = (a ** 2) % b\n",
    "\n",
    "print(g)"
   ]
  },
  {
   "cell_type": "markdown",
   "metadata": {
    "deletable": false,
    "editable": false,
    "nbgrader": {
     "cell_type": "markdown",
     "checksum": "36cb04ca7cc7ca15b8021c472ff21768",
     "grade": false,
     "grade_id": "cell-47dd8a847b0bd23f",
     "locked": true,
     "schema_version": 3,
     "solution": false
    }
   },
   "source": [
    "(f) Calculate, as an int, the remainder when $a^b$ is divided by $c$. There are some marks for doing this fairly efficiently."
   ]
  },
  {
   "cell_type": "code",
   "execution_count": 25,
   "metadata": {
    "deletable": false,
    "nbgrader": {
     "cell_type": "code",
     "checksum": "b34abbea8dd43ff6cf85ae9b22835594",
     "grade": true,
     "grade_id": "cell-366a2c0ddd821e0a",
     "locked": false,
     "points": 4,
     "schema_version": 3,
     "solution": true
    }
   },
   "outputs": [
    {
     "name": "stdout",
     "output_type": "stream",
     "text": [
      "3033\n"
     ]
    }
   ],
   "source": [
    "h = pow(a, b, c)\n",
    "\n",
    "print(h)"
   ]
  },
  {
   "cell_type": "markdown",
   "metadata": {
    "deletable": false,
    "editable": false,
    "nbgrader": {
     "cell_type": "markdown",
     "checksum": "76da6107887cb176a2169002ec4d9809",
     "grade": false,
     "grade_id": "cell-3d27e62b3ffb8f31",
     "locked": true,
     "schema_version": 3,
     "solution": false
    }
   },
   "source": [
    "(g) Calculate, as a float, the value of $e^{a/b}$."
   ]
  },
  {
   "cell_type": "code",
   "execution_count": 26,
   "metadata": {
    "deletable": false,
    "nbgrader": {
     "cell_type": "code",
     "checksum": "4d8db72ed82b6e127dadd4f5dabae837",
     "grade": true,
     "grade_id": "cell-e79b41a1c35d530c",
     "locked": false,
     "points": 3,
     "schema_version": 3,
     "solution": true
    }
   },
   "outputs": [
    {
     "name": "stdout",
     "output_type": "stream",
     "text": [
      "3857.9876794850725\n"
     ]
    }
   ],
   "source": [
    "i = c ** (a / b)\n",
    "\n",
    "print(i)"
   ]
  },
  {
   "cell_type": "markdown",
   "metadata": {
    "deletable": false,
    "editable": false,
    "nbgrader": {
     "cell_type": "markdown",
     "checksum": "06d6a42b86cbe19bd099af078ecbd160",
     "grade": false,
     "grade_id": "cell-98993209ca7533c8",
     "locked": true,
     "schema_version": 3,
     "solution": false
    }
   },
   "source": [
    "## Question 2 (20 marks)\n",
    "\n",
    "(a) The <b>Gaussian integers</b> are those complex numbers whose real and imaginary parts are both integers. The following double comprehension generates a particular subset of the Gaussian integers:"
   ]
  },
  {
   "cell_type": "code",
   "execution_count": 27,
   "metadata": {
    "deletable": false,
    "editable": false,
    "nbgrader": {
     "cell_type": "code",
     "checksum": "113383c7addf8c7d299f2df5e4fa9d1f",
     "grade": false,
     "grade_id": "cell-215442553308eb1c",
     "locked": true,
     "schema_version": 3,
     "solution": false
    }
   },
   "outputs": [],
   "source": [
    "g_ints = [complex(m,n) for m in range(-10,11) for n in range(-10,11)]"
   ]
  },
  {
   "cell_type": "markdown",
   "metadata": {
    "deletable": false,
    "editable": false,
    "nbgrader": {
     "cell_type": "markdown",
     "checksum": "9c1a97a2983d6a527477210503008270",
     "grade": false,
     "grade_id": "cell-21eceb02d1cfe144",
     "locked": true,
     "schema_version": 3,
     "solution": false
    }
   },
   "source": [
    "Describe as carefully as possible the location of these points in the complex plane."
   ]
  },
  {
   "cell_type": "markdown",
   "metadata": {
    "deletable": false,
    "nbgrader": {
     "cell_type": "markdown",
     "checksum": "a6c540c46261b62d20295a89ea463a53",
     "grade": true,
     "grade_id": "cell-7b3e4bd6a257bf9c",
     "locked": false,
     "points": 2,
     "schema_version": 3,
     "solution": true
    }
   },
   "source": [
    "The complex numbers with integer coefficients within and including the edges of the square with coordinates (-10 - 10j), (-10 + 10j), (10 + 10j), (10 - 10j)."
   ]
  },
  {
   "cell_type": "markdown",
   "metadata": {
    "deletable": false,
    "editable": false,
    "nbgrader": {
     "cell_type": "markdown",
     "checksum": "e93c0dc2896c71c47326616763540f38",
     "grade": false,
     "grade_id": "cell-d5c6bc7408a302c7",
     "locked": true,
     "schema_version": 3,
     "solution": false
    }
   },
   "source": [
    "(b) The following filter comprehension selects only those members of `g_ints` the square of whose absolute value rounds to an integer greater than zero and less than or equal to 100:"
   ]
  },
  {
   "cell_type": "code",
   "execution_count": 28,
   "metadata": {
    "deletable": false,
    "editable": false,
    "nbgrader": {
     "cell_type": "code",
     "checksum": "64e9663275f24df7daeb52393dd8c935",
     "grade": false,
     "grade_id": "cell-3b52f58818ba83c5",
     "locked": true,
     "schema_version": 3,
     "solution": false
    }
   },
   "outputs": [],
   "source": [
    "g_ints2 = [z for z in g_ints if abs(z) > 0 and round(abs(z)**2) <= 100]"
   ]
  },
  {
   "cell_type": "markdown",
   "metadata": {
    "deletable": false,
    "editable": false,
    "nbgrader": {
     "cell_type": "markdown",
     "checksum": "13715ec5b9fc5be6eda7a2b69591f24a",
     "grade": false,
     "grade_id": "cell-02ad2f1a6d876122",
     "locked": true,
     "schema_version": 3,
     "solution": false
    }
   },
   "source": [
    "Describe as carefully as possible the location of these points in the complex plane."
   ]
  },
  {
   "cell_type": "markdown",
   "metadata": {
    "deletable": false,
    "nbgrader": {
     "cell_type": "markdown",
     "checksum": "57024b696d799ee531342de0b26a1b7c",
     "grade": true,
     "grade_id": "cell-23e225acac448d82",
     "locked": false,
     "points": 2,
     "schema_version": 3,
     "solution": true
    }
   },
   "source": [
    "All points with integer coeeficients within circle radius 10 around the origin. The point 0 + 0j is not included so centre of circle is removed. "
   ]
  },
  {
   "cell_type": "markdown",
   "metadata": {
    "deletable": false,
    "editable": false,
    "nbgrader": {
     "cell_type": "markdown",
     "checksum": "8a54cd216ed82b5aa61330e615b4e236",
     "grade": false,
     "grade_id": "cell-aa14c7ff170338cd",
     "locked": true,
     "schema_version": 3,
     "solution": false
    }
   },
   "source": [
    "(c) Using a comprehension, or otherwise, create and print a list called `non_units` consisting of all those elements of `g_ints2` apart from `(1+0j), (-1+0j), (0+1j)` and `(0-1j)`."
   ]
  },
  {
   "cell_type": "code",
   "execution_count": 29,
   "metadata": {
    "deletable": false,
    "nbgrader": {
     "cell_type": "code",
     "checksum": "256610d841d710afe7da3a03ead3b83b",
     "grade": true,
     "grade_id": "cell-38e4c8fde77077e2",
     "locked": false,
     "points": 4,
     "schema_version": 3,
     "solution": true
    }
   },
   "outputs": [
    {
     "name": "stdout",
     "output_type": "stream",
     "text": [
      "[(-10+0j), (-9-4j), (-9-3j), (-9-2j), (-9-1j), (-9+0j), (-9+1j), (-9+2j), (-9+3j), (-9+4j), (-8-6j), (-8-5j), (-8-4j), (-8-3j), (-8-2j), (-8-1j), (-8+0j), (-8+1j), (-8+2j), (-8+3j), (-8+4j), (-8+5j), (-8+6j), (-7-7j), (-7-6j), (-7-5j), (-7-4j), (-7-3j), (-7-2j), (-7-1j), (-7+0j), (-7+1j), (-7+2j), (-7+3j), (-7+4j), (-7+5j), (-7+6j), (-7+7j), (-6-8j), (-6-7j), (-6-6j), (-6-5j), (-6-4j), (-6-3j), (-6-2j), (-6-1j), (-6+0j), (-6+1j), (-6+2j), (-6+3j), (-6+4j), (-6+5j), (-6+6j), (-6+7j), (-6+8j), (-5-8j), (-5-7j), (-5-6j), (-5-5j), (-5-4j), (-5-3j), (-5-2j), (-5-1j), (-5+0j), (-5+1j), (-5+2j), (-5+3j), (-5+4j), (-5+5j), (-5+6j), (-5+7j), (-5+8j), (-4-9j), (-4-8j), (-4-7j), (-4-6j), (-4-5j), (-4-4j), (-4-3j), (-4-2j), (-4-1j), (-4+0j), (-4+1j), (-4+2j), (-4+3j), (-4+4j), (-4+5j), (-4+6j), (-4+7j), (-4+8j), (-4+9j), (-3-9j), (-3-8j), (-3-7j), (-3-6j), (-3-5j), (-3-4j), (-3-3j), (-3-2j), (-3-1j), (-3+0j), (-3+1j), (-3+2j), (-3+3j), (-3+4j), (-3+5j), (-3+6j), (-3+7j), (-3+8j), (-3+9j), (-2-9j), (-2-8j), (-2-7j), (-2-6j), (-2-5j), (-2-4j), (-2-3j), (-2-2j), (-2-1j), (-2+0j), (-2+1j), (-2+2j), (-2+3j), (-2+4j), (-2+5j), (-2+6j), (-2+7j), (-2+8j), (-2+9j), (-1-9j), (-1-8j), (-1-7j), (-1-6j), (-1-5j), (-1-4j), (-1-3j), (-1-2j), (-1-1j), (-1+1j), (-1+2j), (-1+3j), (-1+4j), (-1+5j), (-1+6j), (-1+7j), (-1+8j), (-1+9j), -10j, -9j, -8j, -7j, -6j, -5j, -4j, -3j, -2j, 2j, 3j, 4j, 5j, 6j, 7j, 8j, 9j, 10j, (1-9j), (1-8j), (1-7j), (1-6j), (1-5j), (1-4j), (1-3j), (1-2j), (1-1j), (1+1j), (1+2j), (1+3j), (1+4j), (1+5j), (1+6j), (1+7j), (1+8j), (1+9j), (2-9j), (2-8j), (2-7j), (2-6j), (2-5j), (2-4j), (2-3j), (2-2j), (2-1j), (2+0j), (2+1j), (2+2j), (2+3j), (2+4j), (2+5j), (2+6j), (2+7j), (2+8j), (2+9j), (3-9j), (3-8j), (3-7j), (3-6j), (3-5j), (3-4j), (3-3j), (3-2j), (3-1j), (3+0j), (3+1j), (3+2j), (3+3j), (3+4j), (3+5j), (3+6j), (3+7j), (3+8j), (3+9j), (4-9j), (4-8j), (4-7j), (4-6j), (4-5j), (4-4j), (4-3j), (4-2j), (4-1j), (4+0j), (4+1j), (4+2j), (4+3j), (4+4j), (4+5j), (4+6j), (4+7j), (4+8j), (4+9j), (5-8j), (5-7j), (5-6j), (5-5j), (5-4j), (5-3j), (5-2j), (5-1j), (5+0j), (5+1j), (5+2j), (5+3j), (5+4j), (5+5j), (5+6j), (5+7j), (5+8j), (6-8j), (6-7j), (6-6j), (6-5j), (6-4j), (6-3j), (6-2j), (6-1j), (6+0j), (6+1j), (6+2j), (6+3j), (6+4j), (6+5j), (6+6j), (6+7j), (6+8j), (7-7j), (7-6j), (7-5j), (7-4j), (7-3j), (7-2j), (7-1j), (7+0j), (7+1j), (7+2j), (7+3j), (7+4j), (7+5j), (7+6j), (7+7j), (8-6j), (8-5j), (8-4j), (8-3j), (8-2j), (8-1j), (8+0j), (8+1j), (8+2j), (8+3j), (8+4j), (8+5j), (8+6j), (9-4j), (9-3j), (9-2j), (9-1j), (9+0j), (9+1j), (9+2j), (9+3j), (9+4j), (10+0j)]\n"
     ]
    }
   ],
   "source": [
    "non_units = [z for z in g_ints2 if z != 1 + 0j and z != -1 + 0j and z != 0 + 1j and z != 0 - 1j] \n",
    "\n",
    "print(non_units)"
   ]
  },
  {
   "cell_type": "markdown",
   "metadata": {
    "deletable": false,
    "editable": false,
    "nbgrader": {
     "cell_type": "markdown",
     "checksum": "48e6953ff0394ceae78cbf4491bbf998",
     "grade": false,
     "grade_id": "cell-548ab2322bc3b6ac",
     "locked": true,
     "schema_version": 3,
     "solution": false
    }
   },
   "source": [
    "(d) Using a double comprehension, or otherwise, create, but do not print, a list called `products` consisting of the products of the form $z_1\\,z_2$ where $z_1$ and $z_2$ are elements of `non_units`. Your list may, if you like, contain repeated elements."
   ]
  },
  {
   "cell_type": "code",
   "execution_count": 30,
   "metadata": {
    "deletable": false,
    "nbgrader": {
     "cell_type": "code",
     "checksum": "18a479cb14d7900dcef840ba64b33115",
     "grade": true,
     "grade_id": "cell-0609713398a83702",
     "locked": false,
     "points": 3,
     "schema_version": 3,
     "solution": true
    }
   },
   "outputs": [],
   "source": [
    "products = [z1 * z2 for z1 in non_units for z2 in non_units]"
   ]
  },
  {
   "cell_type": "markdown",
   "metadata": {
    "deletable": false,
    "editable": false,
    "nbgrader": {
     "cell_type": "markdown",
     "checksum": "689467395c0c5f83b6ccd2de3377cfc1",
     "grade": false,
     "grade_id": "cell-43a347e1f79d0922",
     "locked": true,
     "schema_version": 3,
     "solution": false
    }
   },
   "source": [
    "(e) Hence create, and print, a list of the <b>irreducible</b> elements of `non_units` (that is, those that cannot be expressed as the product of two elements of `non_units`).\n"
   ]
  },
  {
   "cell_type": "code",
   "execution_count": 31,
   "metadata": {
    "deletable": false,
    "nbgrader": {
     "cell_type": "code",
     "checksum": "2bcae56e5a4322c15ea10e313b1ad5bb",
     "grade": true,
     "grade_id": "cell-ab8190a7485c6be4",
     "locked": false,
     "points": 4,
     "schema_version": 3,
     "solution": true
    }
   },
   "outputs": [
    {
     "name": "stdout",
     "output_type": "stream",
     "text": [
      "[(-9-4j), (-9+4j), (-8-5j), (-8-3j), (-8+3j), (-8+5j), (-7-2j), (-7+0j), (-7+2j), (-6-5j), (-6-1j), (-6+1j), (-6+5j), (-5-8j), (-5-6j), (-5-4j), (-5-2j), (-5+2j), (-5+4j), (-5+6j), (-5+8j), (-4-9j), (-4-5j), (-4-1j), (-4+1j), (-4+5j), (-4+9j), (-3-8j), (-3-2j), (-3+0j), (-3+2j), (-3+8j), (-2-7j), (-2-5j), (-2-3j), (-2-1j), (-2+1j), (-2+3j), (-2+5j), (-2+7j), (-1-6j), (-1-4j), (-1-2j), (-1-1j), (-1+1j), (-1+2j), (-1+4j), (-1+6j), -7j, -3j, 3j, 7j, (1-6j), (1-4j), (1-2j), (1-1j), (1+1j), (1+2j), (1+4j), (1+6j), (2-7j), (2-5j), (2-3j), (2-1j), (2+1j), (2+3j), (2+5j), (2+7j), (3-8j), (3-2j), (3+0j), (3+2j), (3+8j), (4-9j), (4-5j), (4-1j), (4+1j), (4+5j), (4+9j), (5-8j), (5-6j), (5-4j), (5-2j), (5+2j), (5+4j), (5+6j), (5+8j), (6-5j), (6-1j), (6+1j), (6+5j), (7-2j), (7+0j), (7+2j), (8-5j), (8-3j), (8+3j), (8+5j), (9-4j), (9+4j)]\n"
     ]
    }
   ],
   "source": [
    "for n in range(20):\n",
    "    for z3 in non_units:\n",
    "        for z4 in products:\n",
    "             if z3 == z4:\n",
    "                if z3 in non_units:\n",
    "                    non_units.remove(z3)\n",
    "    \n",
    "print(non_units)"
   ]
  },
  {
   "cell_type": "markdown",
   "metadata": {
    "deletable": false,
    "editable": false,
    "nbgrader": {
     "cell_type": "markdown",
     "checksum": "17d34d434bdf3b672272da500f0d2171",
     "grade": false,
     "grade_id": "cell-516e4e7cd1d32430",
     "locked": true,
     "schema_version": 3,
     "solution": false
    }
   },
   "source": [
    "(f) Starting with "
   ]
  },
  {
   "cell_type": "code",
   "execution_count": 32,
   "metadata": {
    "deletable": false,
    "editable": false,
    "nbgrader": {
     "cell_type": "code",
     "checksum": "afe2db101b39914a7e06c1ccbed0e409",
     "grade": false,
     "grade_id": "cell-e724b082d8485059",
     "locked": true,
     "schema_version": 3,
     "solution": false
    }
   },
   "outputs": [],
   "source": [
    "non_units = list(range(2,101))"
   ]
  },
  {
   "cell_type": "markdown",
   "metadata": {
    "deletable": false,
    "editable": false,
    "nbgrader": {
     "cell_type": "markdown",
     "checksum": "0fed18ec12013856afbf795d5a6a9712",
     "grade": false,
     "grade_id": "cell-59628ea14b96b00d",
     "locked": true,
     "schema_version": 3,
     "solution": false
    }
   },
   "source": [
    "use the same technique to calculate a list of the (real) primes between 2 and 100 inclusive."
   ]
  },
  {
   "cell_type": "code",
   "execution_count": 33,
   "metadata": {
    "deletable": false,
    "nbgrader": {
     "cell_type": "code",
     "checksum": "5946aa612bbcdaadee533564bc438e6e",
     "grade": true,
     "grade_id": "cell-a32cb5574fa2690a",
     "locked": false,
     "points": 5,
     "schema_version": 3,
     "solution": true
    }
   },
   "outputs": [
    {
     "name": "stdout",
     "output_type": "stream",
     "text": [
      "[2, 3, 5, 7, 11, 13, 17, 19, 23, 29, 31, 37, 41, 43, 47, 53, 59, 61, 67, 71, 73, 79, 83, 89, 97]\n",
      "25\n"
     ]
    }
   ],
   "source": [
    "products = [z1 * z2 for z1 in non_units for z2 in non_units]\n",
    "\n",
    "for n in range(20):\n",
    "    for z3 in non_units:\n",
    "        for z4 in products:\n",
    "             if z3 == z4:\n",
    "                if z3 in non_units:\n",
    "                    non_units.remove(z3)\n",
    "\n",
    "print(non_units)\n",
    "print(len(non_units))"
   ]
  },
  {
   "cell_type": "markdown",
   "metadata": {
    "deletable": false,
    "editable": false,
    "nbgrader": {
     "cell_type": "markdown",
     "checksum": "47981b95bebf7e8a4717830b423a71b1",
     "grade": false,
     "grade_id": "cell-5fa7c9b5af4004aa",
     "locked": true,
     "schema_version": 3,
     "solution": false
    }
   },
   "source": [
    "## Question 3 (35 marks)\n",
    "\n",
    "(a) By iterating the function\n",
    "$$f(y) = a\\,e^{-y}$$\n",
    "twenty times in each case using a `for` loop, in each case starting with $y=0.0$, find a solution of the equation\n",
    "$$y\\,e^y=a$$\n",
    "in the cases\n",
    "(i) $a=1.0$;\n",
    "(ii) $a=2.0$.\n",
    "In each case, you need print only the final value of your solution."
   ]
  },
  {
   "cell_type": "code",
   "execution_count": 34,
   "metadata": {
    "deletable": false,
    "nbgrader": {
     "cell_type": "code",
     "checksum": "878077ab521a2c9cecc31b8de56d745c",
     "grade": true,
     "grade_id": "cell-1a3def6ab07047bb",
     "locked": false,
     "points": 6,
     "schema_version": 3,
     "solution": true
    }
   },
   "outputs": [
    {
     "name": "stdout",
     "output_type": "stream",
     "text": [
      "[1.0, 0.5671354902062784]\n",
      "[2.0, 0.8184389794426334]\n"
     ]
    }
   ],
   "source": [
    "a = 1.0\n",
    "y = 0.0\n",
    "\n",
    "for n in range(20):\n",
    "    y = a * math.exp(-y)\n",
    "print([a, y])\n",
    "\n",
    "a = 2.0\n",
    "y = 0.0\n",
    "\n",
    "for n in range(20):\n",
    "    y = a * math.exp(-y)\n",
    "print([a, y])"
   ]
  },
  {
   "cell_type": "markdown",
   "metadata": {
    "deletable": false,
    "editable": false,
    "nbgrader": {
     "cell_type": "markdown",
     "checksum": "92a66d840ed7affd967b9d5ff343a248",
     "grade": false,
     "grade_id": "cell-716c6019954e023f",
     "locked": true,
     "schema_version": 3,
     "solution": false
    }
   },
   "source": [
    "(b) By iterating the function\n",
    "$$f(y) = a\\,e^{-y}$$\n",
    "using a `while` loop until successive iterates lie within $10^{-8}$ of each other, in each case starting with $y=0.0$, find a solution of the equation\n",
    "$$y\\,e^y=a$$\n",
    "in the cases\n",
    "(i) $a=1.0$;\n",
    "(ii) $a=2.0$.\n",
    "\n",
    "In each case, print  the final value of your solution, and also count, and print, the number of iterations that were necessary."
   ]
  },
  {
   "cell_type": "code",
   "execution_count": 35,
   "metadata": {
    "deletable": false,
    "nbgrader": {
     "cell_type": "code",
     "checksum": "cbcc9e2d3801c56fa20fa8300faa0877",
     "grade": true,
     "grade_id": "cell-bca7db84f9713c17",
     "locked": false,
     "points": 8,
     "schema_version": 3,
     "solution": true
    }
   },
   "outputs": [
    {
     "name": "stdout",
     "output_type": "stream",
     "text": [
      "[1.0, 0.5671432876313107, 34]\n",
      "[2.0, 0.8526054979184808, 120]\n"
     ]
    }
   ],
   "source": [
    "a = 1.0\n",
    "y = 0.0\n",
    "oldy = y\n",
    "newy = a * math.exp(-oldy)\n",
    "n = 1\n",
    "#initial value of n is 1 since did one iteration before the for loop\n",
    "while abs(oldy - newy) > 1e-8:\n",
    "    oldy = newy\n",
    "    newy = a * math.exp(-oldy)\n",
    "    n = n + 1\n",
    "print([a, newy, n])\n",
    "\n",
    "a = 2.0\n",
    "y = 0.0\n",
    "oldy = y\n",
    "newy = a * math.exp(-oldy)\n",
    "n = 1\n",
    "#initial value of n is 1 since did one iteration before the for loop\n",
    "while abs(oldy - newy) > 1e-8:\n",
    "    oldy = newy\n",
    "    newy = a * math.exp(-oldy)\n",
    "    n = n + 1\n",
    "print([a, newy, n])"
   ]
  },
  {
   "cell_type": "markdown",
   "metadata": {
    "deletable": false,
    "editable": false,
    "nbgrader": {
     "cell_type": "markdown",
     "checksum": "084c33d838a9c9191f3dfb4673c60fa4",
     "grade": false,
     "grade_id": "cell-c0677e74909bc0ba",
     "locked": true,
     "schema_version": 3,
     "solution": false
    }
   },
   "source": [
    "(c) Investigate what happens when\n",
    "$$f(y) = a\\,e^{-y}$$\n",
    "is iterated for $a=3.0$, and briefly explain why this might be problematic."
   ]
  },
  {
   "cell_type": "code",
   "execution_count": 36,
   "metadata": {
    "deletable": false,
    "nbgrader": {
     "cell_type": "code",
     "checksum": "10e04e07b7670426e19cc6048e87d6fe",
     "grade": true,
     "grade_id": "cell-887fefb6c615feb0",
     "locked": false,
     "points": 3,
     "schema_version": 3,
     "solution": true
    }
   },
   "outputs": [
    {
     "ename": "KeyboardInterrupt",
     "evalue": "",
     "output_type": "error",
     "traceback": [
      "\u001b[1;31m---------------------------------------------------------------------------\u001b[0m",
      "\u001b[1;31mKeyboardInterrupt\u001b[0m                         Traceback (most recent call last)",
      "\u001b[1;32m<ipython-input-36-877c6e6ebf3f>\u001b[0m in \u001b[0;36m<module>\u001b[1;34m\u001b[0m\n\u001b[0;32m      7\u001b[0m     \u001b[0moldy\u001b[0m \u001b[1;33m=\u001b[0m \u001b[0mnewy\u001b[0m\u001b[1;33m\u001b[0m\u001b[1;33m\u001b[0m\u001b[0m\n\u001b[0;32m      8\u001b[0m     \u001b[0mnewy\u001b[0m \u001b[1;33m=\u001b[0m \u001b[0ma\u001b[0m \u001b[1;33m*\u001b[0m \u001b[0mmath\u001b[0m\u001b[1;33m.\u001b[0m\u001b[0mexp\u001b[0m\u001b[1;33m(\u001b[0m\u001b[1;33m-\u001b[0m\u001b[0moldy\u001b[0m\u001b[1;33m)\u001b[0m\u001b[1;33m\u001b[0m\u001b[1;33m\u001b[0m\u001b[0m\n\u001b[1;32m----> 9\u001b[1;33m     \u001b[0mn\u001b[0m \u001b[1;33m=\u001b[0m \u001b[0mn\u001b[0m \u001b[1;33m+\u001b[0m \u001b[1;36m1\u001b[0m\u001b[1;33m\u001b[0m\u001b[1;33m\u001b[0m\u001b[0m\n\u001b[0m\u001b[0;32m     10\u001b[0m \u001b[0mprint\u001b[0m\u001b[1;33m(\u001b[0m\u001b[1;33m[\u001b[0m\u001b[0ma\u001b[0m\u001b[1;33m,\u001b[0m \u001b[0mnewy\u001b[0m\u001b[1;33m,\u001b[0m \u001b[0mn\u001b[0m\u001b[1;33m]\u001b[0m\u001b[1;33m)\u001b[0m\u001b[1;33m\u001b[0m\u001b[1;33m\u001b[0m\u001b[0m\n\u001b[0;32m     11\u001b[0m \u001b[1;33m\u001b[0m\u001b[0m\n",
      "\u001b[1;31mKeyboardInterrupt\u001b[0m: "
     ]
    }
   ],
   "source": [
    "a = 3.0\n",
    "y = 0.0\n",
    "n = 1\n",
    "#initial value of n is 1 since did one iteration before the for loop\n",
    "oldy = y\n",
    "newy = a * math.exp(-oldy)\n",
    "while abs(oldy - newy) > 1e-8:\n",
    "    oldy = newy\n",
    "    newy = a * math.exp(-oldy)\n",
    "    n = n + 1\n",
    "print([a, newy, n])\n",
    "\n",
    "a = 3.0\n",
    "y = 0.0\n",
    "\n",
    "for n in range(20):\n",
    "    y = a * math.exp(-y)\n",
    "print([a, y])"
   ]
  },
  {
   "cell_type": "markdown",
   "metadata": {
    "deletable": false,
    "nbgrader": {
     "cell_type": "markdown",
     "checksum": "34b1d53a8bac4d70512092f178a1ba4b",
     "grade": true,
     "grade_id": "cell-c79d0daa3480b805",
     "locked": false,
     "points": 2,
     "schema_version": 3,
     "solution": true
    }
   },
   "source": [
    "The result alternates above and below the solution taking a long time converge to the answer. This means it is very ineffecient and takes up too much memory and time. "
   ]
  },
  {
   "cell_type": "markdown",
   "metadata": {
    "deletable": false,
    "editable": false,
    "nbgrader": {
     "cell_type": "markdown",
     "checksum": "f7fcb46c32637438775fa2b5dbd4b4d4",
     "grade": false,
     "grade_id": "cell-e4d02f57b7eea586",
     "locked": true,
     "schema_version": 3,
     "solution": false
    }
   },
   "source": [
    "(d) For the case $a=3.0$, solve\n",
    "$$y\\,e^y = a$$\n",
    "by using Newton's method: that is, by instead iterating \n",
    "$$f(y) = y - \\frac{y\\,e^y-a}{(1+y)\\,e^y}.$$\n",
    "Again, start with $y=0.0$ and again, iterate until successive iterates lie within $10^{-8}$ of each other. Again, print  the final value of your solution, and also count, and print, the number of iterations that were necessary."
   ]
  },
  {
   "cell_type": "code",
   "execution_count": 37,
   "metadata": {
    "deletable": false,
    "nbgrader": {
     "cell_type": "code",
     "checksum": "6241914d438a49ec1c41b7c2981c0071",
     "grade": true,
     "grade_id": "cell-009c00d86d5122fa",
     "locked": false,
     "points": 4,
     "schema_version": 3,
     "solution": true
    }
   },
   "outputs": [
    {
     "name": "stdout",
     "output_type": "stream",
     "text": [
      "[3.0, 1.04990889496404, 9]\n"
     ]
    }
   ],
   "source": [
    "a = 3.0\n",
    "y = 0.0\n",
    "n = 1\n",
    "#initial value of n is 1 since did one iteration before the for loop\n",
    "oldy = y\n",
    "newy = oldy - ((oldy * math.exp(oldy) - a) / ((1 + oldy) * math.exp(oldy)))\n",
    "while abs(oldy - newy) > 1e-8:\n",
    "    oldy = newy\n",
    "    newy = oldy - ((oldy * math.exp(oldy) - a) / ((1 + oldy) * math.exp(oldy)))\n",
    "    n = n + 1\n",
    "print([a, newy, n])"
   ]
  },
  {
   "cell_type": "markdown",
   "metadata": {
    "deletable": false,
    "editable": false,
    "nbgrader": {
     "cell_type": "markdown",
     "checksum": "8c04a9d80b73274b72059c9c1c58af79",
     "grade": false,
     "grade_id": "cell-020f3b408a16e387",
     "locked": true,
     "schema_version": 3,
     "solution": false
    }
   },
   "source": [
    "(e) Using an appropriate version of the `exp` function, find an approximate solution of $z\\,e^z=a$ for the non-real value $a=2+i$ (expressed in Python as `(2+1j)`). Use Newton's method with the same tolerance, $10^{-8}$, as in part (d), and again print the final value of your solution, and also count, and print, the number of iterations that were necessary."
   ]
  },
  {
   "cell_type": "code",
   "execution_count": 38,
   "metadata": {
    "deletable": false,
    "nbgrader": {
     "cell_type": "code",
     "checksum": "1dd56aee1e7241a9d63b8e190440bb50",
     "grade": true,
     "grade_id": "cell-b5a0c96e8687109c",
     "locked": false,
     "points": 4,
     "schema_version": 3,
     "solution": true
    }
   },
   "outputs": [
    {
     "name": "stdout",
     "output_type": "stream",
     "text": [
      "[(2+1j), (0.8906840692020068+0.22072564954715956j), 8]\n"
     ]
    }
   ],
   "source": [
    "a = 2 + 1j\n",
    "y = 0.0\n",
    "n = 1\n",
    "#initial value of n is 1 since did one iteration before the for loop\n",
    "oldy = y\n",
    "newy = oldy - (oldy * cmath.exp(oldy) - a) / ((1 + oldy) * cmath.exp(oldy))\n",
    "while abs(oldy - newy) > 1e-8:\n",
    "    oldy = newy\n",
    "    newy = oldy - (oldy * cmath.exp(oldy) - a) / ((1 + oldy) * cmath.exp(oldy))\n",
    "    n = n + 1\n",
    "print([a, newy, n])"
   ]
  },
  {
   "cell_type": "markdown",
   "metadata": {
    "deletable": false,
    "editable": false,
    "nbgrader": {
     "cell_type": "markdown",
     "checksum": "fb59d01d1629236621347f73096af288",
     "grade": false,
     "grade_id": "cell-06386de9a027b8d0",
     "locked": true,
     "schema_version": 3,
     "solution": false
    }
   },
   "source": [
    "(g) Show, by choosing different starting values for $y$, that in the case $a=-0.2$, the equation $y\\,e^y=a$ seems to have at least two real solutions, one close to $y=0$ and one close to $y=-3$."
   ]
  },
  {
   "cell_type": "code",
   "execution_count": 39,
   "metadata": {
    "deletable": false,
    "nbgrader": {
     "cell_type": "code",
     "checksum": "d143c77082e32ac7d7daf5baa4ad0a0c",
     "grade": true,
     "grade_id": "cell-024e2b5cd2f6e663",
     "locked": false,
     "points": 6,
     "schema_version": 3,
     "solution": true
    }
   },
   "outputs": [
    {
     "name": "stdout",
     "output_type": "stream",
     "text": [
      "[-0.2, 0.0, -0.25917110181907377, 5]\n",
      "[-0.2, -3.0, -2.5426413577735265, 5]\n"
     ]
    }
   ],
   "source": [
    "a = -0.2\n",
    "y = 0.0\n",
    "n = 1\n",
    "#initial value of n is 1 since did one iteration before the for loop\n",
    "oldy = y\n",
    "newy = oldy - ((oldy * math.exp(oldy) - a) / ((1 + oldy) * math.exp(oldy)))\n",
    "while abs(oldy - newy) > 1e-8:\n",
    "    oldy = newy\n",
    "    newy = oldy - ((oldy * math.exp(oldy) - a) / ((1 + oldy) * math.exp(oldy)))\n",
    "    n = n + 1\n",
    "print([a, y, newy, n])\n",
    "\n",
    "a = -0.2\n",
    "y = -3.0\n",
    "n = 1\n",
    "oldy = y\n",
    "newy = oldy - ((oldy * math.exp(oldy) - a) / ((1 + oldy) * math.exp(oldy)))\n",
    "while abs(oldy - newy) > 1e-8:\n",
    "    oldy = newy\n",
    "    newy = oldy - ((oldy * math.exp(oldy) - a) / ((1 + oldy) * math.exp(oldy)))\n",
    "    n = n + 1\n",
    "print([a, y, newy, n])"
   ]
  },
  {
   "cell_type": "markdown",
   "metadata": {
    "deletable": false,
    "editable": false,
    "nbgrader": {
     "cell_type": "markdown",
     "checksum": "6008cb5bfb9ed8bbf69010978f808a51",
     "grade": false,
     "grade_id": "cell-ec715b0be9daffb2",
     "locked": true,
     "schema_version": 3,
     "solution": false
    }
   },
   "source": [
    "(h) Explain <em>very</em> briefly how the following plot shows this (don't forget to execute the very first code cell in the notebook, which will enable graphics):"
   ]
  },
  {
   "cell_type": "code",
   "execution_count": 40,
   "metadata": {
    "deletable": false,
    "editable": false,
    "nbgrader": {
     "cell_type": "code",
     "checksum": "824a9c97dfccaf74291fa2c3ebd452db",
     "grade": false,
     "grade_id": "cell-a03fd7fc7b99d3df",
     "locked": true,
     "schema_version": 3,
     "solution": false
    }
   },
   "outputs": [
    {
     "data": {
      "text/plain": [
       "[<matplotlib.lines.Line2D at 0x1b5ec244820>,\n",
       " <matplotlib.lines.Line2D at 0x1b5ec2448e0>]"
      ]
     },
     "execution_count": 40,
     "metadata": {},
     "output_type": "execute_result"
    },
    {
     "data": {
      "image/png": "[encoded data removed]",
      "text/plain": [
       "<Figure size 432x288 with 1 Axes>"
      ]
     },
     "metadata": {
      "needs_background": "light"
     },
     "output_type": "display_data"
    }
   ],
   "source": [
    "yvalues = [0.01*t for t in range(-600,101)]\n",
    "avalues1 = [y*math.exp(y) for y in yvalues]\n",
    "avalues2 = [-0.2 for x in yvalues]\n",
    "plt.plot(avalues1, yvalues, avalues2, yvalues)"
   ]
  },
  {
   "cell_type": "markdown",
   "metadata": {
    "deletable": false,
    "nbgrader": {
     "cell_type": "markdown",
     "checksum": "7be1d0aed03725e416858238e2d5ed8e",
     "grade": true,
     "grade_id": "cell-a3f5fc9557fe7dda",
     "locked": false,
     "points": 2,
     "schema_version": 3,
     "solution": true
    }
   },
   "source": [
    "It shows the blue line, which is ye^y, crossing the line x = -0.2 at two points. One near y = 0 and the other near y = 3. This is as predcited from our results. "
   ]
  },
  {
   "cell_type": "markdown",
   "metadata": {
    "deletable": false,
    "editable": false,
    "nbgrader": {
     "cell_type": "markdown",
     "checksum": "3802614e2b20e3770d72f750661e49b0",
     "grade": false,
     "grade_id": "cell-a8d5f8fe140b77a9",
     "locked": true,
     "schema_version": 3,
     "solution": false
    }
   },
   "source": [
    "## Question 4 (25 marks)\n",
    "\n",
    "(a) Write a function called `LambertW0` that takes as its argument a single float, $a$, and returns a solution of\n",
    "$$y\\,e^y = a,$$\n",
    "obtained using Newton's method, starting at $y=0.0$, and iterating until successive iterates lie within $10^{-8}$ of one another."
   ]
  },
  {
   "cell_type": "code",
   "execution_count": 41,
   "metadata": {
    "deletable": false,
    "nbgrader": {
     "cell_type": "code",
     "checksum": "bf1fb54182fb76e6874f28ec224f4484",
     "grade": true,
     "grade_id": "cell-9e85fbeef9bcbcd8",
     "locked": false,
     "points": 5,
     "schema_version": 3,
     "solution": true
    }
   },
   "outputs": [],
   "source": [
    "def LambertW0(a):\n",
    "    y = 0.0\n",
    "    oldy = y\n",
    "    newy = oldy - ((oldy * math.exp(oldy) - a) / ((1 + oldy) * math.exp(oldy)))\n",
    "    while abs(oldy - newy) > 1e-8:\n",
    "        oldy = newy\n",
    "        newy = oldy - ((oldy * math.exp(oldy) - a) / ((1 + oldy) * math.exp(oldy)))\n",
    "    return(newy)"
   ]
  },
  {
   "cell_type": "markdown",
   "metadata": {
    "deletable": false,
    "editable": false,
    "nbgrader": {
     "cell_type": "markdown",
     "checksum": "4736f4d4a8185cc0c5742188e1c4e915",
     "grade": false,
     "grade_id": "cell-ec2d23abb3035e50",
     "locked": true,
     "schema_version": 3,
     "solution": false
    }
   },
   "source": [
    "(b) Test your function on $a=1.0$, $a=2.0$, $a=3.0$ and $a=-0.2$."
   ]
  },
  {
   "cell_type": "code",
   "execution_count": 42,
   "metadata": {
    "deletable": false,
    "nbgrader": {
     "cell_type": "code",
     "checksum": "67c188d9f7d8c41fb3f6c3dfe21bf6ec",
     "grade": true,
     "grade_id": "cell-32ed6d6c66de5ec8",
     "locked": false,
     "points": 2,
     "schema_version": 3,
     "solution": true
    }
   },
   "outputs": [
    {
     "name": "stdout",
     "output_type": "stream",
     "text": [
      "0.567143290409784\n",
      "0.8526055020137254\n",
      "1.04990889496404\n",
      "-0.25917110181907377\n"
     ]
    }
   ],
   "source": [
    "print(LambertW0(1.0))\n",
    "print(LambertW0(2.0))\n",
    "print(LambertW0(3.0))\n",
    "print(LambertW0(-0.2))"
   ]
  },
  {
   "cell_type": "markdown",
   "metadata": {
    "deletable": false,
    "editable": false,
    "nbgrader": {
     "cell_type": "markdown",
     "checksum": "bb3afae815550d3f16b9b1a6fedd97e9",
     "grade": false,
     "grade_id": "cell-30883a41b40ac7f0",
     "locked": true,
     "schema_version": 3,
     "solution": false
    }
   },
   "source": [
    "(c) Create a plot of $a$, on the <b>horizontal</b> axis, against `LambertW0(a)`, on the <b>vertical</b> axis, for values of $a$ between $-0.36$ and $2.5$ in steps of $0.01$. You need not label your axes or your plot."
   ]
  },
  {
   "cell_type": "code",
   "execution_count": 43,
   "metadata": {
    "deletable": false,
    "nbgrader": {
     "cell_type": "code",
     "checksum": "d91839aaa2eafbca2afb1ccff1be7f6d",
     "grade": true,
     "grade_id": "cell-7ae6b08b9a35e127",
     "locked": false,
     "points": 4,
     "schema_version": 3,
     "solution": true
    }
   },
   "outputs": [
    {
     "data": {
      "text/plain": [
       "[<matplotlib.lines.Line2D at 0x1b5eca6c400>]"
      ]
     },
     "execution_count": 43,
     "metadata": {},
     "output_type": "execute_result"
    },
    {
     "data": {
      "image/png": "[encoded data removed]",
      "text/plain": [
       "<Figure size 432x288 with 1 Axes>"
      ]
     },
     "metadata": {
      "needs_background": "light"
     },
     "output_type": "display_data"
    }
   ],
   "source": [
    "xvalues = [0.01*t for t in range(-36,251)]\n",
    "lambertvalues = [LambertW0(x) for x in xvalues]\n",
    "plt.plot(xvalues, lambertvalues)"
   ]
  },
  {
   "cell_type": "markdown",
   "metadata": {
    "deletable": false,
    "editable": false,
    "nbgrader": {
     "cell_type": "markdown",
     "checksum": "88058b802dcda547ccbfb8eb9269d1c1",
     "grade": false,
     "grade_id": "cell-4ce7dae2dff9f000",
     "locked": true,
     "schema_version": 3,
     "solution": false
    }
   },
   "source": [
    "(d) Comment <em>very</em> briefly on the relationship between this plot and the one in Question 3 part (h)."
   ]
  },
  {
   "cell_type": "markdown",
   "metadata": {
    "deletable": false,
    "nbgrader": {
     "cell_type": "markdown",
     "checksum": "9aa93bd9c461280eff73e3087177cddc",
     "grade": true,
     "grade_id": "cell-5f5558d91eca680c",
     "locked": false,
     "points": 1,
     "schema_version": 3,
     "solution": true
    }
   },
   "source": [
    "This is a zoomed in part of the graph in part (h). "
   ]
  },
  {
   "cell_type": "markdown",
   "metadata": {
    "deletable": false,
    "editable": false,
    "nbgrader": {
     "cell_type": "markdown",
     "checksum": "57fd281344b4bd482cf29d5f14c80de8",
     "grade": false,
     "grade_id": "cell-6988296632a96e82",
     "locked": true,
     "schema_version": 3,
     "solution": false
    }
   },
   "source": [
    "(e) Write a function called `LambertWminus1` that takes as its argument a single float, $a$, and returns a solution of\n",
    "$$y\\,e^y = a,$$\n",
    "obtained using Newton's method, and iterating until successive iterates lie within $10^{-8}$ of one another, <em>this time starting at</em> $y=\\log(-a)$. Test it on a few selected values of $a$ between $-0.36$ and $-0.01$."
   ]
  },
  {
   "cell_type": "code",
   "execution_count": 44,
   "metadata": {
    "deletable": false,
    "nbgrader": {
     "cell_type": "code",
     "checksum": "4cb0cda130b55a984d490c213af18ea6",
     "grade": true,
     "grade_id": "cell-478920f988605860",
     "locked": false,
     "points": 7,
     "schema_version": 3,
     "solution": true
    }
   },
   "outputs": [
    {
     "name": "stdout",
     "output_type": "stream",
     "text": [
      "(-6.472775124394005+0j)\n"
     ]
    }
   ],
   "source": [
    "def LambertWminus1(a):\n",
    "    y = cmath.log(-a)\n",
    "    oldy = y\n",
    "    newy = oldy - ((oldy * cmath.exp(oldy) - a) / ((1 + oldy) * cmath.exp(oldy)))\n",
    "    while abs(oldy - newy) > 1e-8:\n",
    "        oldy = newy\n",
    "        newy = oldy - ((oldy * cmath.exp(oldy) - a) / ((1 + oldy) * cmath.exp(oldy)))\n",
    "    return(newy)\n",
    "\n",
    "print(LambertWminus1(-0.01))"
   ]
  },
  {
   "cell_type": "markdown",
   "metadata": {
    "deletable": false,
    "editable": false,
    "nbgrader": {
     "cell_type": "markdown",
     "checksum": "723bd3710a3d9a5903d6f58ac81dc208",
     "grade": false,
     "grade_id": "cell-330d4e397691f172",
     "locked": true,
     "schema_version": 3,
     "solution": false
    }
   },
   "source": [
    "(g) Show, on the same pair of axes:\n",
    "<ul><li>a plot of $a$, on the horizontal axis, against <code>LambertW0(a)</code>, on the vertical axis, for values of $a$ between $-0.36$ and $2.5$;</li>\n",
    "    <li>a plot of $a$, on the horizontal axis, against <code>LambertWminus1(a)</code>, on the vertical axis, for values of $a$ between $-0.36$ and $-0.01$.</li>\n",
    "</ul>\n",
    "Use steps of $0.01$ in each case."
   ]
  },
  {
   "cell_type": "code",
   "execution_count": 46,
   "metadata": {
    "deletable": false,
    "nbgrader": {
     "cell_type": "code",
     "checksum": "895c72082d3e26a7289622f3d319cf0b",
     "grade": true,
     "grade_id": "cell-6b495b940640e6ba",
     "locked": false,
     "points": 5,
     "schema_version": 3,
     "solution": true
    }
   },
   "outputs": [
    {
     "data": {
      "text/plain": [
       "[<matplotlib.lines.Line2D at 0x1b5ecb38f10>,\n",
       " <matplotlib.lines.Line2D at 0x1b5ecb38fd0>]"
      ]
     },
     "execution_count": 46,
     "metadata": {},
     "output_type": "execute_result"
    },
    {
     "data": {
      "image/png": "[encoded data removed]",
      "text/plain": [
       "<Figure size 432x288 with 1 Axes>"
      ]
     },
     "metadata": {
      "needs_background": "light"
     },
     "output_type": "display_data"
    }
   ],
   "source": [
    "x1values = [0.01*t for t in range(-36,251)]\n",
    "x2values = [0.01*t for t in range(-36,-1)]\n",
    "lambert0values = [LambertW0(x) for x in x1values]\n",
    "lambertminusvalues = [LambertWminus1(x) for x in x2values]\n",
    "plt.plot(x1values, lambert0values, x2values, lambertminusvalues)"
   ]
  },
  {
   "cell_type": "markdown",
   "metadata": {
    "deletable": false,
    "editable": false,
    "nbgrader": {
     "cell_type": "markdown",
     "checksum": "237436fc36a75a73a19ffc33de90f761",
     "grade": false,
     "grade_id": "cell-062c80e5472ba946",
     "locked": true,
     "schema_version": 3,
     "solution": false
    }
   },
   "source": [
    "(h) Comment <em>very</em> briefly on the relationship between this plot and the one in Question 3 part (h)."
   ]
  },
  {
   "cell_type": "markdown",
   "metadata": {
    "deletable": false,
    "nbgrader": {
     "cell_type": "markdown",
     "checksum": "74380db45597345f86d7e474839c864a",
     "grade": true,
     "grade_id": "cell-f475d2b37ea3a5e0",
     "locked": false,
     "points": 1,
     "schema_version": 3,
     "solution": true
    }
   },
   "source": [
    "They are a plot of the same graph. "
   ]
  },
  {
   "cell_type": "code",
   "execution_count": null,
   "metadata": {},
   "outputs": [],
   "source": []
  }
 ],
 "metadata": {
  "kernelspec": {
   "display_name": "Python 3",
   "language": "python",
   "name": "python3"
  },
  "language_info": {
   "codemirror_mode": {
    "name": "ipython",
    "version": 3
   },
   "file_extension": ".py",
   "mimetype": "text/x-python",
   "name": "python",
   "nbconvert_exporter": "python",
   "pygments_lexer": "ipython3",
   "version": "3.8.8"
  }
 },
 "nbformat": 4,
 "nbformat_minor": 4
}
