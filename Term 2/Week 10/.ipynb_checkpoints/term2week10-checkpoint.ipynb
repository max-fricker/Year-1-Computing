{
 "cells": [
  {
   "cell_type": "code",
   "execution_count": 1,
   "id": "organized-slovakia",
   "metadata": {},
   "outputs": [
    {
     "name": "stdout",
     "output_type": "stream",
     "text": [
      "Autograder loaded successfully!\n",
      "Remember to always restart and run all from the Kernel menu before submitting!\n"
     ]
    }
   ],
   "source": [
    "from autograder_term2week10 import *\n",
    "import pandas as pd\n",
    "import numpy as np\n",
    "from copy import copy\n",
    "%matplotlib inline"
   ]
  },
  {
   "cell_type": "markdown",
   "id": "proud-remains",
   "metadata": {
    "deletable": false,
    "editable": false,
    "nbgrader": {
     "cell_type": "markdown",
     "checksum": "8a9bedd751f90f009828d60264fabe07",
     "grade": false,
     "grade_id": "cell-80e4721082798cb7",
     "locked": true,
     "schema_version": 3,
     "solution": false,
     "task": false
    }
   },
   "source": [
    "# <center> Introduction to Mathematical Computing </center>\n",
    "### <center>Phil Ramsden, Boumediene Hamzi, Sam Brzezicki, Matt Woolway</center>\n",
    "\n",
    "# <center> Data Handling and the pandas Module</center>"
   ]
  },
  {
   "cell_type": "markdown",
   "id": "opponent-backup",
   "metadata": {
    "deletable": false,
    "editable": false,
    "nbgrader": {
     "cell_type": "markdown",
     "checksum": "00c3d996305276ae341af4d2aabdb193",
     "grade": false,
     "grade_id": "cell-e0f5426b004be2e9",
     "locked": true,
     "schema_version": 3,
     "solution": false,
     "task": false
    }
   },
   "source": [
    "## Question 1\n",
    "\n",
    "### (i)\n",
    "\n",
    "(a) Create a pandas `Series`, `ser1`, consisting of the cosines of the values of $x$ between $0$ and $2\\,\\pi$ in steps of $\\pi/12$. Use the default indexing."
   ]
  },
  {
   "cell_type": "code",
   "execution_count": 2,
   "id": "minute-coupon",
   "metadata": {
    "deletable": false,
    "nbgrader": {
     "cell_type": "code",
     "checksum": "de18f8563f649d7f3b058e3511a25e90",
     "grade": false,
     "grade_id": "cell-a4374ca8e5a180bf",
     "locked": false,
     "schema_version": 3,
     "solution": true,
     "task": false
    }
   },
   "outputs": [
    {
     "data": {
      "text/plain": [
       "0     1.000000e+00\n",
       "1     9.659258e-01\n",
       "2     8.660254e-01\n",
       "3     7.071068e-01\n",
       "4     5.000000e-01\n",
       "5     2.588190e-01\n",
       "6     6.123234e-17\n",
       "7    -2.588190e-01\n",
       "8    -5.000000e-01\n",
       "9    -7.071068e-01\n",
       "10   -8.660254e-01\n",
       "11   -9.659258e-01\n",
       "12   -1.000000e+00\n",
       "13   -9.659258e-01\n",
       "14   -8.660254e-01\n",
       "15   -7.071068e-01\n",
       "16   -5.000000e-01\n",
       "17   -2.588190e-01\n",
       "18   -1.836970e-16\n",
       "19    2.588190e-01\n",
       "20    5.000000e-01\n",
       "21    7.071068e-01\n",
       "22    8.660254e-01\n",
       "23    9.659258e-01\n",
       "24    1.000000e+00\n",
       "dtype: float64"
      ]
     },
     "execution_count": 2,
     "metadata": {},
     "output_type": "execute_result"
    }
   ],
   "source": [
    "x = np.arange(0, 2 * np.pi + 0.01, np.pi / 12)\n",
    "\n",
    "ser1 = pd.Series(np.cos(x))\n",
    "ser1"
   ]
  },
  {
   "cell_type": "code",
   "execution_count": 3,
   "id": "based-denver",
   "metadata": {
    "deletable": false,
    "editable": false,
    "nbgrader": {
     "cell_type": "code",
     "checksum": "96fb7e05a73948831ccb1f63ebff3e39",
     "grade": true,
     "grade_id": "cell-0e8c3d3e2a5b4e61",
     "locked": true,
     "points": 1,
     "schema_version": 3,
     "solution": false,
     "task": false
    }
   },
   "outputs": [
    {
     "name": "stdout",
     "output_type": "stream",
     "text": [
      "ser1 is defined correctly\n",
      "Test passed!\n"
     ]
    },
    {
     "data": {
      "text/plain": [
       "1"
      ]
     },
     "execution_count": 3,
     "metadata": {},
     "output_type": "execute_result"
    }
   ],
   "source": [
    "# 1 Mark\n",
    "# Do not try to delete this cell\n",
    "# Run this cell for grading\n",
    "_globals = globals()\n",
    "question1ia(_globals)"
   ]
  },
  {
   "cell_type": "markdown",
   "id": "afraid-object",
   "metadata": {
    "deletable": false,
    "editable": false,
    "nbgrader": {
     "cell_type": "markdown",
     "checksum": "15c794775bcdb35e44f6265230ebee4a",
     "grade": false,
     "grade_id": "cell-b1075c475c3dfaa1",
     "locked": true,
     "schema_version": 3,
     "solution": false,
     "task": false
    }
   },
   "source": [
    "(b) Set a new index for `ser1`, consisting of the actual values of $x$ between $0$ and $2\\,\\pi$ in steps of $\\pi/12$."
   ]
  },
  {
   "cell_type": "code",
   "execution_count": null,
   "id": "competent-dodge",
   "metadata": {
    "deletable": false,
    "nbgrader": {
     "cell_type": "code",
     "checksum": "eabae6a54dc9646e5400052043137da1",
     "grade": false,
     "grade_id": "cell-989c40d88a3ec607",
     "locked": false,
     "schema_version": 3,
     "solution": true,
     "task": false
    }
   },
   "outputs": [],
   "source": [
    "# YOUR CODE HERE\n",
    "raise NotImplementedError()\n",
    "ser1"
   ]
  },
  {
   "cell_type": "code",
   "execution_count": null,
   "id": "changed-ancient",
   "metadata": {
    "deletable": false,
    "editable": false,
    "nbgrader": {
     "cell_type": "code",
     "checksum": "693ac187dd1e4b21ca92aec74475118d",
     "grade": true,
     "grade_id": "cell-6e1ff854eb57dfb4",
     "locked": true,
     "points": 1,
     "schema_version": 3,
     "solution": false,
     "task": false
    }
   },
   "outputs": [],
   "source": [
    "# 1 Mark\n",
    "# Do not try to delete this cell\n",
    "# Run this cell for grading\n",
    "_globals = globals()\n",
    "question1ib(_globals)"
   ]
  },
  {
   "cell_type": "markdown",
   "id": "characteristic-administration",
   "metadata": {
    "deletable": false,
    "editable": false,
    "nbgrader": {
     "cell_type": "markdown",
     "checksum": "c19d9d46478cadcab3d7cc8450516e74",
     "grade": false,
     "grade_id": "cell-62ab25705d346013",
     "locked": true,
     "schema_version": 3,
     "solution": false,
     "task": false
    }
   },
   "source": [
    "(c) Plot this series. Autograding won't be able to help here."
   ]
  },
  {
   "cell_type": "code",
   "execution_count": null,
   "id": "fourth-feelings",
   "metadata": {
    "deletable": false,
    "nbgrader": {
     "cell_type": "code",
     "checksum": "ace9d46b6cb18b613211e0fb764a32b3",
     "grade": false,
     "grade_id": "cell-46e961a89c2945bf",
     "locked": false,
     "schema_version": 3,
     "solution": true,
     "task": false
    }
   },
   "outputs": [],
   "source": [
    "# YOUR CODE HERE\n",
    "raise NotImplementedError()"
   ]
  },
  {
   "cell_type": "markdown",
   "id": "mighty-queens",
   "metadata": {
    "deletable": false,
    "editable": false,
    "nbgrader": {
     "cell_type": "markdown",
     "checksum": "321e6587c4ac5e3f50889be9d3e5eacd",
     "grade": false,
     "grade_id": "cell-f7858bb1f1688328",
     "locked": true,
     "schema_version": 3,
     "solution": false,
     "task": false
    }
   },
   "source": [
    "(d) Create a pandas Series, `poly_ser`, out of the dictionary"
   ]
  },
  {
   "cell_type": "code",
   "execution_count": null,
   "id": "sustained-sapphire",
   "metadata": {
    "deletable": false,
    "editable": false,
    "nbgrader": {
     "cell_type": "code",
     "checksum": "54517387554fc5e2b97b9adda7096e56",
     "grade": false,
     "grade_id": "cell-e17600d245444295",
     "locked": true,
     "schema_version": 3,
     "solution": false,
     "task": false
    }
   },
   "outputs": [],
   "source": [
    "polyhedra = {'platonic': 5,'archimedean': 13,'catalan': 13,'johnson (simple)': 28,'johnson': 92,'kepler-poinsot': 4}"
   ]
  },
  {
   "cell_type": "code",
   "execution_count": null,
   "id": "spread-dominican",
   "metadata": {
    "deletable": false,
    "nbgrader": {
     "cell_type": "code",
     "checksum": "8e52909d02281e22d8f2c68d738f340d",
     "grade": false,
     "grade_id": "cell-05ce8115491c970e",
     "locked": false,
     "schema_version": 3,
     "solution": true,
     "task": false
    }
   },
   "outputs": [],
   "source": [
    "# YOUR CODE HERE\n",
    "raise NotImplementedError()\n",
    "poly_ser"
   ]
  },
  {
   "cell_type": "code",
   "execution_count": null,
   "id": "regulation-proceeding",
   "metadata": {
    "deletable": false,
    "editable": false,
    "nbgrader": {
     "cell_type": "code",
     "checksum": "28033e8cd80eb245ac51cc263292b06b",
     "grade": true,
     "grade_id": "cell-066385814922abf3",
     "locked": true,
     "points": 1,
     "schema_version": 3,
     "solution": false,
     "task": false
    }
   },
   "outputs": [],
   "source": [
    "# 1 Mark\n",
    "# Do not try to delete this cell\n",
    "# Run this cell for grading\n",
    "_globals = globals()\n",
    "question1id(_globals)"
   ]
  },
  {
   "cell_type": "markdown",
   "id": "renewable-bullet",
   "metadata": {
    "deletable": false,
    "editable": false,
    "nbgrader": {
     "cell_type": "markdown",
     "checksum": "cf2081a57c99a38089403ab09bab6a21",
     "grade": false,
     "grade_id": "cell-b6f092345d123ffa",
     "locked": true,
     "schema_version": 3,
     "solution": false,
     "task": false
    }
   },
   "source": [
    "### (ii)\n",
    "\n",
    "(a) Create a DataFrame, `footballers_df`, from the dictionary"
   ]
  },
  {
   "cell_type": "code",
   "execution_count": null,
   "id": "desirable-pakistan",
   "metadata": {
    "deletable": false,
    "editable": false,
    "nbgrader": {
     "cell_type": "code",
     "checksum": "d4cbd7b38bcb93c06eb3f05712bcdf7d",
     "grade": false,
     "grade_id": "cell-b41904da1ebe4354",
     "locked": true,
     "schema_version": 3,
     "solution": false,
     "task": false
    }
   },
   "outputs": [],
   "source": [
    "footballers_dict = {'Position':('goalkeeper','left back','centre half'), 'Name':('Aisha','Esme','Colin'), 'Age':(15,14,15)}"
   ]
  },
  {
   "cell_type": "code",
   "execution_count": null,
   "id": "outside-solution",
   "metadata": {
    "deletable": false,
    "nbgrader": {
     "cell_type": "code",
     "checksum": "71c4364324c9927243be4f1ca2478ca1",
     "grade": false,
     "grade_id": "cell-90fd1519cdc47c7c",
     "locked": false,
     "schema_version": 3,
     "solution": true,
     "task": false
    }
   },
   "outputs": [],
   "source": [
    "# YOUR CODE HERE\n",
    "raise NotImplementedError()\n",
    "footballers_df"
   ]
  },
  {
   "cell_type": "code",
   "execution_count": null,
   "id": "removable-drill",
   "metadata": {
    "deletable": false,
    "editable": false,
    "nbgrader": {
     "cell_type": "code",
     "checksum": "d35ac62b36472c8f4f306c205a6c539c",
     "grade": true,
     "grade_id": "cell-bd48a99d36d460a6",
     "locked": true,
     "points": 1,
     "schema_version": 3,
     "solution": false,
     "task": false
    }
   },
   "outputs": [],
   "source": [
    "# 1 Mark\n",
    "# Do not try to delete this cell\n",
    "# Run this cell for grading\n",
    "_globals = globals()\n",
    "question1iia(_globals)"
   ]
  },
  {
   "cell_type": "markdown",
   "id": "advisory-document",
   "metadata": {
    "deletable": false,
    "editable": false,
    "nbgrader": {
     "cell_type": "markdown",
     "checksum": "7d07534bc7b8f8b8d481a978f4248193",
     "grade": false,
     "grade_id": "cell-7e7911021f866561",
     "locked": true,
     "schema_version": 3,
     "solution": false,
     "task": false
    }
   },
   "source": [
    "(b) Create a new DataFrame, `footballers_df2`, from `footballers_df`, in which the playing positions form not a column of data but the index."
   ]
  },
  {
   "cell_type": "code",
   "execution_count": null,
   "id": "double-input",
   "metadata": {
    "deletable": false,
    "nbgrader": {
     "cell_type": "code",
     "checksum": "59bae54404f3f7c1deee70164359095c",
     "grade": false,
     "grade_id": "cell-4a96c8064a0a1bba",
     "locked": false,
     "schema_version": 3,
     "solution": true,
     "task": false
    }
   },
   "outputs": [],
   "source": [
    "# YOUR CODE HERE\n",
    "raise NotImplementedError()\n",
    "footballers_df2"
   ]
  },
  {
   "cell_type": "code",
   "execution_count": null,
   "id": "requested-planning",
   "metadata": {
    "deletable": false,
    "editable": false,
    "nbgrader": {
     "cell_type": "code",
     "checksum": "1ee0236b8276562bf3e08c4861d5bfd2",
     "grade": true,
     "grade_id": "cell-1b7c991767e756d7",
     "locked": true,
     "points": 1,
     "schema_version": 3,
     "solution": false,
     "task": false
    }
   },
   "outputs": [],
   "source": [
    "# 1 Mark\n",
    "# Do not try to delete this cell\n",
    "# Run this cell for grading\n",
    "_globals = globals()\n",
    "question1iib(_globals)"
   ]
  },
  {
   "cell_type": "markdown",
   "id": "qualified-buffalo",
   "metadata": {
    "deletable": false,
    "editable": false,
    "nbgrader": {
     "cell_type": "markdown",
     "checksum": "844b4ce0a2164caec51aaf25ba8835fb",
     "grade": false,
     "grade_id": "cell-feea536b620d0083",
     "locked": true,
     "schema_version": 3,
     "solution": false,
     "task": false
    }
   },
   "source": [
    "(c) Create a DataFrame, `footballers_df3`, from `footballers_df2`, in which the players are sorted by name."
   ]
  },
  {
   "cell_type": "code",
   "execution_count": null,
   "id": "crazy-queen",
   "metadata": {
    "deletable": false,
    "nbgrader": {
     "cell_type": "code",
     "checksum": "5482bb215f1cbb26eabb0d437255e809",
     "grade": false,
     "grade_id": "cell-875a6e28334caa48",
     "locked": false,
     "schema_version": 3,
     "solution": true,
     "task": false
    }
   },
   "outputs": [],
   "source": [
    "# YOUR CODE HERE\n",
    "raise NotImplementedError()\n",
    "footballers_df3"
   ]
  },
  {
   "cell_type": "code",
   "execution_count": null,
   "id": "opening-baker",
   "metadata": {
    "deletable": false,
    "editable": false,
    "nbgrader": {
     "cell_type": "code",
     "checksum": "79eafc6287f6b8a14a100f4983af333d",
     "grade": true,
     "grade_id": "cell-51482557b8315a92",
     "locked": true,
     "points": 1,
     "schema_version": 3,
     "solution": false,
     "task": false
    }
   },
   "outputs": [],
   "source": [
    "# 1 Mark\n",
    "# Do not try to delete this cell\n",
    "# Run this cell for grading\n",
    "_globals = globals()\n",
    "question1iic(_globals)"
   ]
  },
  {
   "cell_type": "markdown",
   "id": "other-place",
   "metadata": {
    "deletable": false,
    "editable": false,
    "nbgrader": {
     "cell_type": "markdown",
     "checksum": "61849b1575126a32d50f80701651ecba",
     "grade": false,
     "grade_id": "cell-552751421445094b",
     "locked": true,
     "schema_version": 3,
     "solution": false,
     "task": false
    }
   },
   "source": [
    "## Question 2\n",
    "\n",
    "(a) Starting with the dictionaries"
   ]
  },
  {
   "cell_type": "code",
   "execution_count": null,
   "id": "matched-renaissance",
   "metadata": {
    "deletable": false,
    "editable": false,
    "nbgrader": {
     "cell_type": "code",
     "checksum": "bbd057609f34a830163e5ccb7f333407",
     "grade": false,
     "grade_id": "cell-97c4925bb58bbffc",
     "locked": true,
     "schema_version": 3,
     "solution": false,
     "task": false
    }
   },
   "outputs": [],
   "source": [
    "mercury_data = {'radius' : 2.4e6, 'mass' : 3.3e23, \n",
    "    'escape_velocity' : 4.3e3}\n",
    "venus_data = {'radius' : 6.1e6, 'mass' : 4.9e24, \n",
    "    'escape_velocity' : 1.0e4}\n",
    "earth_data = {'radius' : 6.3e6, 'mass' : 6.0e24, \n",
    "    'escape_velocity' : 1.1e4}\n",
    "mars_data = {'radius' : 3.4e6, 'mass' : 6.4e23, \n",
    "    'escape_velocity' : 5.0e3}\n",
    "jupiter_data = {'radius' : 6.9e7, 'mass' : 1.9e27, \n",
    "    'escape_velocity' : 6.0e4}\n",
    "saturn_data = {'radius' : 5.7e7, 'mass' : 5.6e26, \n",
    "    'escape_velocity' : 3.6e4}\n",
    "uranus_data = {'radius' : 2.5e7, 'mass' : 8.7e25, \n",
    "    'escape_velocity' : 2.2e4}\n",
    "neptune_data = {'radius' : 2.5e7, 'mass' : 1.0e26, \n",
    "    'escape_velocity' : 2.4e4}\n",
    "planet_data = {\n",
    "    'mercury': mercury_data,\n",
    "    'venus': venus_data,\n",
    "    'earth': earth_data,\n",
    "    'mars': mars_data,\n",
    "    'jupiter': jupiter_data,\n",
    "    'saturn': saturn_data,\n",
    "    'uranus': uranus_data,\n",
    "    'neptune': neptune_data\n",
    "}"
   ]
  },
  {
   "cell_type": "markdown",
   "id": "residential-spencer",
   "metadata": {
    "deletable": false,
    "editable": false,
    "nbgrader": {
     "cell_type": "markdown",
     "checksum": "945b48c456ab6971a0eb678b864566e9",
     "grade": false,
     "grade_id": "cell-af07158e5679c621",
     "locked": true,
     "schema_version": 3,
     "solution": false,
     "task": false
    }
   },
   "source": [
    "create a DataFrame, `planet_df`, whose index consists of the names of the planets and whose column headings are `escape_velocity`, `mass` and `radius`, in that order."
   ]
  },
  {
   "cell_type": "code",
   "execution_count": null,
   "id": "funky-jackson",
   "metadata": {
    "deletable": false,
    "nbgrader": {
     "cell_type": "code",
     "checksum": "6b7407de4c22dc3282c025aea2cc780e",
     "grade": false,
     "grade_id": "cell-b07f8b9efec1b066",
     "locked": false,
     "schema_version": 3,
     "solution": true,
     "task": false
    }
   },
   "outputs": [],
   "source": [
    "# YOUR CODE HERE\n",
    "raise NotImplementedError()\n",
    "planet_df"
   ]
  },
  {
   "cell_type": "code",
   "execution_count": null,
   "id": "north-toronto",
   "metadata": {
    "deletable": false,
    "editable": false,
    "nbgrader": {
     "cell_type": "code",
     "checksum": "c2a7574c7df886c5d65f3993028c89b9",
     "grade": true,
     "grade_id": "cell-49a7ff38e8e05407",
     "locked": true,
     "points": 1,
     "schema_version": 3,
     "solution": false,
     "task": false
    }
   },
   "outputs": [],
   "source": [
    "# 1 Mark\n",
    "# Do not try to delete this cell\n",
    "# Run this cell for grading\n",
    "_globals = globals()\n",
    "question2a(_globals)"
   ]
  },
  {
   "cell_type": "markdown",
   "id": "studied-examination",
   "metadata": {
    "deletable": false,
    "editable": false,
    "nbgrader": {
     "cell_type": "markdown",
     "checksum": "50a93c68c67dfbf784ba662933292860",
     "grade": false,
     "grade_id": "cell-06baca6dc8ab3f56",
     "locked": true,
     "schema_version": 3,
     "solution": false,
     "task": false
    }
   },
   "source": [
    "(b) Create a new DataFrame, `planet_df2`, containing the same data, but sorted by descending order of mass."
   ]
  },
  {
   "cell_type": "code",
   "execution_count": null,
   "id": "other-grove",
   "metadata": {
    "deletable": false,
    "nbgrader": {
     "cell_type": "code",
     "checksum": "aecc0878078bc5cee271b4afe13b89c4",
     "grade": false,
     "grade_id": "cell-8dc4ebcb88e17005",
     "locked": false,
     "schema_version": 3,
     "solution": true,
     "task": false
    }
   },
   "outputs": [],
   "source": [
    "# YOUR CODE HERE\n",
    "raise NotImplementedError()\n",
    "planet_df2"
   ]
  },
  {
   "cell_type": "code",
   "execution_count": null,
   "id": "cathedral-transcription",
   "metadata": {
    "deletable": false,
    "editable": false,
    "nbgrader": {
     "cell_type": "code",
     "checksum": "55a2b94418a6af51031e88ce6f3b5a48",
     "grade": true,
     "grade_id": "cell-e79c7d1dfe3385db",
     "locked": true,
     "points": 1,
     "schema_version": 3,
     "solution": false,
     "task": false
    }
   },
   "outputs": [],
   "source": [
    "# 1 Mark\n",
    "# Do not try to delete this cell\n",
    "# Run this cell for grading\n",
    "_globals = globals()\n",
    "question2b(_globals)"
   ]
  },
  {
   "cell_type": "markdown",
   "id": "tracked-operator",
   "metadata": {
    "deletable": false,
    "editable": false,
    "nbgrader": {
     "cell_type": "markdown",
     "checksum": "69e740ce59a6e1a2ae62f186315e5a87",
     "grade": false,
     "grade_id": "cell-d74b46f64d5a653a",
     "locked": true,
     "schema_version": 3,
     "solution": false,
     "task": false
    }
   },
   "source": [
    "(c) Create a Series, `escape_vel_ser`, consisting of the escape velocities of `planet_df`, indexed by planet name."
   ]
  },
  {
   "cell_type": "code",
   "execution_count": null,
   "id": "consecutive-spelling",
   "metadata": {
    "deletable": false,
    "nbgrader": {
     "cell_type": "code",
     "checksum": "d99533803695f4370ae33805812cda09",
     "grade": false,
     "grade_id": "cell-3aa58702d5b538ba",
     "locked": false,
     "schema_version": 3,
     "solution": true,
     "task": false
    }
   },
   "outputs": [],
   "source": [
    "# YOUR CODE HERE\n",
    "raise NotImplementedError()\n",
    "escape_vel_ser"
   ]
  },
  {
   "cell_type": "code",
   "execution_count": null,
   "id": "laughing-hobby",
   "metadata": {
    "deletable": false,
    "editable": false,
    "nbgrader": {
     "cell_type": "code",
     "checksum": "0b8ddeefc6dcf38793236eaa231fa073",
     "grade": true,
     "grade_id": "cell-179427882620c54e",
     "locked": true,
     "points": 1,
     "schema_version": 3,
     "solution": false,
     "task": false
    }
   },
   "outputs": [],
   "source": [
    "# 1 Mark\n",
    "# Do not try to delete this cell\n",
    "# Run this cell for grading\n",
    "_globals = globals()\n",
    "question2c(_globals)"
   ]
  },
  {
   "cell_type": "markdown",
   "id": "random-medline",
   "metadata": {
    "deletable": false,
    "editable": false,
    "nbgrader": {
     "cell_type": "markdown",
     "checksum": "53c296db89b8c36c24ffbcbfd2b7336a",
     "grade": false,
     "grade_id": "cell-259b8ccee56c6534",
     "locked": true,
     "schema_version": 3,
     "solution": false,
     "task": false
    }
   },
   "source": [
    "(d) Give `planet_df` a new column, `orbital_radius`, consisting of the following list of distances in Astronomical Units:"
   ]
  },
  {
   "cell_type": "code",
   "execution_count": null,
   "id": "imported-treatment",
   "metadata": {
    "deletable": false,
    "editable": false,
    "nbgrader": {
     "cell_type": "code",
     "checksum": "abc3043d744daaaa5e1fc4c4dcb1d72e",
     "grade": false,
     "grade_id": "cell-f16d543f455cd20e",
     "locked": true,
     "schema_version": 3,
     "solution": false,
     "task": false
    }
   },
   "outputs": [],
   "source": [
    "orbital_radius_list = [0.39, 0.72, 1.0, 1.5, 5.2, 9.5, 19.0, 30.0]"
   ]
  },
  {
   "cell_type": "code",
   "execution_count": null,
   "id": "independent-modern",
   "metadata": {
    "deletable": false,
    "nbgrader": {
     "cell_type": "code",
     "checksum": "0e092c85cb9f255e0d3cdaa2a0a63506",
     "grade": false,
     "grade_id": "cell-6e6863c07d933977",
     "locked": false,
     "schema_version": 3,
     "solution": true,
     "task": false
    }
   },
   "outputs": [],
   "source": [
    "# YOUR CODE HERE\n",
    "raise NotImplementedError()\n",
    "planet_df"
   ]
  },
  {
   "cell_type": "code",
   "execution_count": null,
   "id": "bibliographic-tragedy",
   "metadata": {
    "deletable": false,
    "editable": false,
    "nbgrader": {
     "cell_type": "code",
     "checksum": "70bf5ac2a2d01cb3294dcf168df7748f",
     "grade": true,
     "grade_id": "cell-8b7bac36e5e77dd3",
     "locked": true,
     "points": 1,
     "schema_version": 3,
     "solution": false,
     "task": false
    }
   },
   "outputs": [],
   "source": [
    "# 1 Mark\n",
    "# Do not try to delete this cell\n",
    "# Run this cell for grading\n",
    "_globals = globals()\n",
    "question2d(_globals)"
   ]
  },
  {
   "cell_type": "markdown",
   "id": "affecting-marking",
   "metadata": {
    "deletable": false,
    "editable": false,
    "nbgrader": {
     "cell_type": "markdown",
     "checksum": "6d3fc8e79e60cb686a78acc276406325",
     "grade": false,
     "grade_id": "cell-12cd78edd0961003",
     "locked": true,
     "schema_version": 3,
     "solution": false,
     "task": false
    }
   },
   "source": [
    "(e) One Astronomical Unit is $1.5\\times10^8$ metres. Convert the values for orbital radius to metres."
   ]
  },
  {
   "cell_type": "code",
   "execution_count": null,
   "id": "posted-wrist",
   "metadata": {
    "deletable": false,
    "nbgrader": {
     "cell_type": "code",
     "checksum": "89273b3a8e2975c8dbed31a52bc3a3d0",
     "grade": false,
     "grade_id": "cell-7c062efcf9f55d1a",
     "locked": false,
     "schema_version": 3,
     "solution": true,
     "task": false
    }
   },
   "outputs": [],
   "source": [
    "# YOUR CODE HERE\n",
    "raise NotImplementedError()\n",
    "planet_df"
   ]
  },
  {
   "cell_type": "code",
   "execution_count": null,
   "id": "active-developer",
   "metadata": {
    "deletable": false,
    "editable": false,
    "nbgrader": {
     "cell_type": "code",
     "checksum": "500931b53db9382d815ee85f05616a10",
     "grade": true,
     "grade_id": "cell-c2b3304d2520730e",
     "locked": true,
     "points": 1,
     "schema_version": 3,
     "solution": false,
     "task": false
    }
   },
   "outputs": [],
   "source": [
    "# 1 Mark\n",
    "# Do not try to delete this cell\n",
    "# Run this cell for grading\n",
    "_globals = globals()\n",
    "question2e(_globals)"
   ]
  },
  {
   "cell_type": "markdown",
   "id": "saved-cheese",
   "metadata": {
    "deletable": false,
    "editable": false,
    "nbgrader": {
     "cell_type": "markdown",
     "checksum": "3ffab44e0a0d9f748b66837ab4657145",
     "grade": false,
     "grade_id": "cell-d0e4b965f87f90f2",
     "locked": true,
     "schema_version": 3,
     "solution": false,
     "task": false
    }
   },
   "source": [
    "(f) Calculate the covariance of mass and radius, calling this `mass_rad_cov`."
   ]
  },
  {
   "cell_type": "code",
   "execution_count": null,
   "id": "directed-ordinance",
   "metadata": {
    "deletable": false,
    "nbgrader": {
     "cell_type": "code",
     "checksum": "a362f14056dc6c62d60fadeedd71edc1",
     "grade": false,
     "grade_id": "cell-ea9f1a41458f74c5",
     "locked": false,
     "schema_version": 3,
     "solution": true,
     "task": false
    }
   },
   "outputs": [],
   "source": [
    "# YOUR CODE HERE\n",
    "raise NotImplementedError()\n",
    "mass_rad_cov"
   ]
  },
  {
   "cell_type": "code",
   "execution_count": null,
   "id": "undefined-template",
   "metadata": {
    "deletable": false,
    "editable": false,
    "nbgrader": {
     "cell_type": "code",
     "checksum": "1b6e7d0959dff2d6628ba8d35140f57d",
     "grade": true,
     "grade_id": "cell-a871780f287ad9e4",
     "locked": true,
     "points": 1,
     "schema_version": 3,
     "solution": false,
     "task": false
    }
   },
   "outputs": [],
   "source": [
    "# 1 Mark\n",
    "# Do not try to delete this cell\n",
    "# Run this cell for grading\n",
    "_globals = globals()\n",
    "question2f(_globals)"
   ]
  },
  {
   "cell_type": "markdown",
   "id": "defensive-walker",
   "metadata": {
    "deletable": false,
    "editable": false,
    "nbgrader": {
     "cell_type": "markdown",
     "checksum": "2503caa196a2edcbf5e52e0670ae297c",
     "grade": false,
     "grade_id": "cell-660fc543478bdd9e",
     "locked": true,
     "schema_version": 3,
     "solution": false,
     "task": false
    }
   },
   "source": [
    "(g) Calculate the correlation of mass and radius, calling this `mass_rad_corr`."
   ]
  },
  {
   "cell_type": "code",
   "execution_count": null,
   "id": "homeless-analyst",
   "metadata": {
    "deletable": false,
    "nbgrader": {
     "cell_type": "code",
     "checksum": "b7189212f778c7187ba97a39fb38c253",
     "grade": false,
     "grade_id": "cell-d50940330c77e84b",
     "locked": false,
     "schema_version": 3,
     "solution": true,
     "task": false
    }
   },
   "outputs": [],
   "source": [
    "# YOUR CODE HERE\n",
    "raise NotImplementedError()\n",
    "mass_rad_corr"
   ]
  },
  {
   "cell_type": "code",
   "execution_count": null,
   "id": "married-steel",
   "metadata": {
    "deletable": false,
    "editable": false,
    "nbgrader": {
     "cell_type": "code",
     "checksum": "ecca5b88e85d1300b1f17e543e363137",
     "grade": true,
     "grade_id": "cell-f05d25deb78a4144",
     "locked": true,
     "points": 1,
     "schema_version": 3,
     "solution": false,
     "task": false
    }
   },
   "outputs": [],
   "source": [
    "# 1 Mark\n",
    "# Do not try to delete this cell\n",
    "# Run this cell for grading\n",
    "_globals = globals()\n",
    "question2g(_globals)"
   ]
  },
  {
   "cell_type": "markdown",
   "id": "mental-mileage",
   "metadata": {
    "deletable": false,
    "editable": false,
    "nbgrader": {
     "cell_type": "markdown",
     "checksum": "6fa668d63d4f7642747cf773ede400b9",
     "grade": false,
     "grade_id": "cell-2b7fdb540432bed9",
     "locked": true,
     "schema_version": 3,
     "solution": false,
     "task": false
    }
   },
   "source": [
    "(h) Calculate a correlation matrix for the entire DataFrame, calling this `planet_df_corr`."
   ]
  },
  {
   "cell_type": "code",
   "execution_count": null,
   "id": "binding-anger",
   "metadata": {
    "deletable": false,
    "nbgrader": {
     "cell_type": "code",
     "checksum": "15212cec7a439798e5794508531383c7",
     "grade": false,
     "grade_id": "cell-e56b5ed7f303e9cb",
     "locked": false,
     "schema_version": 3,
     "solution": true,
     "task": false
    }
   },
   "outputs": [],
   "source": [
    "# YOUR CODE HERE\n",
    "raise NotImplementedError()\n",
    "planet_df_corr"
   ]
  },
  {
   "cell_type": "code",
   "execution_count": null,
   "id": "separated-origin",
   "metadata": {
    "deletable": false,
    "editable": false,
    "nbgrader": {
     "cell_type": "code",
     "checksum": "cdd4b7addbead5f62db2238e13e34817",
     "grade": true,
     "grade_id": "cell-a374457031e5afac",
     "locked": true,
     "points": 1,
     "schema_version": 3,
     "solution": false,
     "task": false
    }
   },
   "outputs": [],
   "source": [
    "# 1 Mark\n",
    "# Do not try to delete this cell\n",
    "# Run this cell for grading\n",
    "_globals = globals()\n",
    "question2h(_globals)"
   ]
  },
  {
   "cell_type": "markdown",
   "id": "capital-heather",
   "metadata": {
    "deletable": false,
    "editable": false,
    "nbgrader": {
     "cell_type": "markdown",
     "checksum": "fd4bb6289db199e7f9490cdcf936d5ac",
     "grade": false,
     "grade_id": "cell-d8bbf65a585f3b91",
     "locked": true,
     "schema_version": 3,
     "solution": false,
     "task": false
    }
   },
   "source": [
    "(j) Group the planets by radius, showing the mean escape velocity and mass. Call this `planet_df_grouped`."
   ]
  },
  {
   "cell_type": "code",
   "execution_count": null,
   "id": "stretch-belly",
   "metadata": {
    "deletable": false,
    "nbgrader": {
     "cell_type": "code",
     "checksum": "2101c5018029d8841b6adf6edf821c1f",
     "grade": false,
     "grade_id": "cell-5bdf4457f70dd169",
     "locked": false,
     "schema_version": 3,
     "solution": true,
     "task": false
    }
   },
   "outputs": [],
   "source": [
    "# YOUR CODE HERE\n",
    "raise NotImplementedError()\n",
    "planet_df_grouped"
   ]
  },
  {
   "cell_type": "code",
   "execution_count": null,
   "id": "configured-sheffield",
   "metadata": {
    "deletable": false,
    "editable": false,
    "nbgrader": {
     "cell_type": "code",
     "checksum": "fc8db8ecc967575ba84bf2b7b436082d",
     "grade": true,
     "grade_id": "cell-3acb0d7b798ca5ce",
     "locked": true,
     "points": 1,
     "schema_version": 3,
     "solution": false,
     "task": false
    }
   },
   "outputs": [],
   "source": [
    "# 1 Mark\n",
    "# Do not try to delete this cell\n",
    "# Run this cell for grading\n",
    "_globals = globals()\n",
    "question2j(_globals)"
   ]
  },
  {
   "cell_type": "markdown",
   "id": "opponent-stick",
   "metadata": {
    "deletable": false,
    "editable": false,
    "nbgrader": {
     "cell_type": "markdown",
     "checksum": "bde519f48bfedec65b46d939ed0d0c7e",
     "grade": false,
     "grade_id": "cell-fadbb7d5caa5f9b7",
     "locked": true,
     "schema_version": 3,
     "solution": false,
     "task": false
    }
   },
   "source": [
    "## Question 3\n",
    "\n",
    "### (i)\n",
    "\n",
    "(a) Create a DataFrame called `stocks_df` by reading in the CSV file `'historical_stock_market.csv'` using `read_csv`. Use the default indexing."
   ]
  },
  {
   "cell_type": "code",
   "execution_count": null,
   "id": "expensive-brunei",
   "metadata": {
    "deletable": false,
    "nbgrader": {
     "cell_type": "code",
     "checksum": "81985a353ec67fb7dacdd48008cd54c8",
     "grade": false,
     "grade_id": "cell-6100949c13ea053a",
     "locked": false,
     "schema_version": 3,
     "solution": true,
     "task": false
    }
   },
   "outputs": [],
   "source": [
    "# YOUR CODE HERE\n",
    "raise NotImplementedError()\n",
    "stocks_df.head()"
   ]
  },
  {
   "cell_type": "code",
   "execution_count": null,
   "id": "caring-headquarters",
   "metadata": {
    "deletable": false,
    "editable": false,
    "nbgrader": {
     "cell_type": "code",
     "checksum": "fadbfddaee09ca88b9160097ed2c94ce",
     "grade": true,
     "grade_id": "cell-787345f9f8362bd9",
     "locked": true,
     "points": 1,
     "schema_version": 3,
     "solution": false,
     "task": false
    }
   },
   "outputs": [],
   "source": [
    "# 1 Mark\n",
    "# Do not try to delete this cell\n",
    "# Run this cell for grading\n",
    "_globals = globals()\n",
    "question3ia(_globals)"
   ]
  },
  {
   "cell_type": "markdown",
   "id": "instrumental-disaster",
   "metadata": {
    "deletable": false,
    "editable": false,
    "nbgrader": {
     "cell_type": "markdown",
     "checksum": "bcd502ea87db13969f41a1471056401e",
     "grade": false,
     "grade_id": "cell-dd9444f7a711ea60",
     "locked": true,
     "schema_version": 3,
     "solution": false,
     "task": false
    }
   },
   "source": [
    "(b) Create a DataFrame called `stocks_df2` by reading in `'historical_stock_market.csv'` using `read_csv`, making the 'Date' column into the index."
   ]
  },
  {
   "cell_type": "code",
   "execution_count": null,
   "id": "drawn-sacrifice",
   "metadata": {
    "deletable": false,
    "nbgrader": {
     "cell_type": "code",
     "checksum": "ede9cff7781da01da7b599cb57d3433e",
     "grade": false,
     "grade_id": "cell-0377451ae414cef7",
     "locked": false,
     "schema_version": 3,
     "solution": true,
     "task": false
    }
   },
   "outputs": [],
   "source": [
    "# YOUR CODE HERE\n",
    "raise NotImplementedError()\n",
    "stocks_df2.head()"
   ]
  },
  {
   "cell_type": "code",
   "execution_count": null,
   "id": "bearing-narrative",
   "metadata": {
    "deletable": false,
    "editable": false,
    "nbgrader": {
     "cell_type": "code",
     "checksum": "cc13b3c2218108c71f5ec1c9b632c95e",
     "grade": true,
     "grade_id": "cell-1d0daa2749fa0220",
     "locked": true,
     "points": 1,
     "schema_version": 3,
     "solution": false,
     "task": false
    }
   },
   "outputs": [],
   "source": [
    "# 1 Mark\n",
    "# Do not try to delete this cell\n",
    "# Run this cell for grading\n",
    "_globals = globals()\n",
    "question3ib(_globals)"
   ]
  },
  {
   "cell_type": "markdown",
   "id": "pacific-sellers",
   "metadata": {
    "deletable": false,
    "editable": false,
    "nbgrader": {
     "cell_type": "markdown",
     "checksum": "22305865b430f5430b1c652b873790a1",
     "grade": false,
     "grade_id": "cell-c7c53fa415d9b0d2",
     "locked": true,
     "schema_version": 3,
     "solution": false,
     "task": false
    }
   },
   "source": [
    "(c) Using the `to_datetime` function, convert the index of `stocks_df2` from the default format to a DateTimeField."
   ]
  },
  {
   "cell_type": "code",
   "execution_count": null,
   "id": "prompt-telephone",
   "metadata": {
    "deletable": false,
    "nbgrader": {
     "cell_type": "code",
     "checksum": "560132a849838c9e16964710d3f5de66",
     "grade": false,
     "grade_id": "cell-310f07b1f543ac1d",
     "locked": false,
     "schema_version": 3,
     "solution": true,
     "task": false
    }
   },
   "outputs": [],
   "source": [
    "# YOUR CODE HERE\n",
    "raise NotImplementedError()\n",
    "stocks_df2.head()"
   ]
  },
  {
   "cell_type": "code",
   "execution_count": null,
   "id": "scenic-green",
   "metadata": {
    "deletable": false,
    "editable": false,
    "nbgrader": {
     "cell_type": "code",
     "checksum": "268fadd0b0ac374411a44c1677825b24",
     "grade": true,
     "grade_id": "cell-2ca01e4a9433b11e",
     "locked": true,
     "points": 1,
     "schema_version": 3,
     "solution": false,
     "task": false
    }
   },
   "outputs": [],
   "source": [
    "# 1 Mark\n",
    "# Do not try to delete this cell\n",
    "# Run this cell for grading\n",
    "_globals = globals()\n",
    "question3ic(_globals)"
   ]
  },
  {
   "cell_type": "markdown",
   "id": "numerous-holmes",
   "metadata": {
    "deletable": false,
    "editable": false,
    "nbgrader": {
     "cell_type": "markdown",
     "checksum": "fb70d08631a2fb84b6114cd4dfa34dba",
     "grade": false,
     "grade_id": "cell-679b216203e81981",
     "locked": true,
     "schema_version": 3,
     "solution": false,
     "task": false
    }
   },
   "source": [
    "(d) Create a DataFrame, `stocks_change`, of day-on-day percentage changes in all columns of `stocks_df2`. Convert each incidence of NaN into 0."
   ]
  },
  {
   "cell_type": "code",
   "execution_count": null,
   "id": "medium-infrared",
   "metadata": {
    "deletable": false,
    "nbgrader": {
     "cell_type": "code",
     "checksum": "9fd282bd9a64312bb0182f291ca20c0e",
     "grade": false,
     "grade_id": "cell-85fad9cde7c57db1",
     "locked": false,
     "schema_version": 3,
     "solution": true,
     "task": false
    }
   },
   "outputs": [],
   "source": [
    "# YOUR CODE HERE\n",
    "raise NotImplementedError()\n",
    "stocks_change.head()"
   ]
  },
  {
   "cell_type": "code",
   "execution_count": null,
   "id": "solar-aruba",
   "metadata": {
    "deletable": false,
    "editable": false,
    "nbgrader": {
     "cell_type": "code",
     "checksum": "8aeb1ddb46aaab4bb17649981bb04811",
     "grade": true,
     "grade_id": "cell-9b95480b5c7555b8",
     "locked": true,
     "points": 1,
     "schema_version": 3,
     "solution": false,
     "task": false
    }
   },
   "outputs": [],
   "source": [
    "# 1 Mark\n",
    "# Do not try to delete this cell\n",
    "# Run this cell for grading\n",
    "_globals = globals()\n",
    "question3id(_globals)"
   ]
  },
  {
   "cell_type": "markdown",
   "id": "fatty-chancellor",
   "metadata": {
    "deletable": false,
    "editable": false,
    "nbgrader": {
     "cell_type": "markdown",
     "checksum": "98ced96440523e74ddafe3989309bfd2",
     "grade": false,
     "grade_id": "cell-a13160cee31e8137",
     "locked": true,
     "schema_version": 3,
     "solution": false,
     "task": false
    }
   },
   "source": [
    "(e) Create a DataFrame, `stocks_rollingmeans`, of 3-day rolling means in all columns of `stocks_df2`. Leave the NaNs as they are!"
   ]
  },
  {
   "cell_type": "code",
   "execution_count": null,
   "id": "printable-minority",
   "metadata": {
    "deletable": false,
    "nbgrader": {
     "cell_type": "code",
     "checksum": "5b40ee3e3a9e1289f40ab528a24c72ec",
     "grade": false,
     "grade_id": "cell-2f4a11780dcfd05e",
     "locked": false,
     "schema_version": 3,
     "solution": true,
     "task": false
    }
   },
   "outputs": [],
   "source": [
    "# YOUR CODE HERE\n",
    "raise NotImplementedError()\n",
    "stocks_rollingmeans.head()"
   ]
  },
  {
   "cell_type": "code",
   "execution_count": null,
   "id": "executive-opposition",
   "metadata": {
    "deletable": false,
    "editable": false,
    "nbgrader": {
     "cell_type": "code",
     "checksum": "608950b715a5ac33ca94450c3095f451",
     "grade": true,
     "grade_id": "cell-d4eb2ea758c3ca80",
     "locked": true,
     "points": 1,
     "schema_version": 3,
     "solution": false,
     "task": false
    }
   },
   "outputs": [],
   "source": [
    "# 1 Mark\n",
    "# Do not try to delete this cell\n",
    "# Run this cell for grading\n",
    "_globals = globals()\n",
    "question3ie(_globals)"
   ]
  },
  {
   "cell_type": "markdown",
   "id": "speaking-option",
   "metadata": {
    "deletable": false,
    "editable": false,
    "nbgrader": {
     "cell_type": "markdown",
     "checksum": "c68a0725c3671ef6423fe5cafd3328ba",
     "grade": false,
     "grade_id": "cell-55534d0072280ff7",
     "locked": true,
     "schema_version": 3,
     "solution": false,
     "task": false
    }
   },
   "source": [
    "(f) Create a DataFrame, `stocks_max`, in which each element in each column is a cumulative maximum of the elements to date in `stocks_df2`."
   ]
  },
  {
   "cell_type": "code",
   "execution_count": null,
   "id": "three-shopping",
   "metadata": {
    "deletable": false,
    "nbgrader": {
     "cell_type": "code",
     "checksum": "9a225867dc0bd67cffb80ae4b22d1e36",
     "grade": false,
     "grade_id": "cell-780f1c65275d1323",
     "locked": false,
     "schema_version": 3,
     "solution": true,
     "task": false
    }
   },
   "outputs": [],
   "source": [
    "# YOUR CODE HERE\n",
    "raise NotImplementedError()\n",
    "stocks_max.head()"
   ]
  },
  {
   "cell_type": "code",
   "execution_count": null,
   "id": "severe-audio",
   "metadata": {
    "deletable": false,
    "editable": false,
    "nbgrader": {
     "cell_type": "code",
     "checksum": "97303ded3ee0492eee7fcdbd78c31bf0",
     "grade": true,
     "grade_id": "cell-6fde718973bce3c8",
     "locked": true,
     "points": 1,
     "schema_version": 3,
     "solution": false,
     "task": false
    }
   },
   "outputs": [],
   "source": [
    "# 1 Mark\n",
    "# Do not try to delete this cell\n",
    "# Run this cell for grading\n",
    "_globals = globals()\n",
    "question3if(_globals)"
   ]
  },
  {
   "cell_type": "markdown",
   "id": "precise-subscription",
   "metadata": {
    "deletable": false,
    "editable": false,
    "nbgrader": {
     "cell_type": "markdown",
     "checksum": "6acacc38a7ae13b507e4d804e6e5c367",
     "grade": false,
     "grade_id": "cell-415fa72c13ae9d15",
     "locked": true,
     "schema_version": 3,
     "solution": false,
     "task": false
    }
   },
   "source": [
    "(g) Create an aggregate DataFrame, `stocks_agg`, showing the minimum, mean and maximum of all columns of `stocks_df2`."
   ]
  },
  {
   "cell_type": "code",
   "execution_count": null,
   "id": "committed-slovakia",
   "metadata": {
    "deletable": false,
    "nbgrader": {
     "cell_type": "code",
     "checksum": "6704d0793d683c43e1f7cf290cf4a3d1",
     "grade": false,
     "grade_id": "cell-b94fb4f0df273c3a",
     "locked": false,
     "schema_version": 3,
     "solution": true,
     "task": false
    }
   },
   "outputs": [],
   "source": [
    "# YOUR CODE HERE\n",
    "raise NotImplementedError()\n",
    "stocks_agg"
   ]
  },
  {
   "cell_type": "code",
   "execution_count": null,
   "id": "fatty-filename",
   "metadata": {
    "deletable": false,
    "editable": false,
    "nbgrader": {
     "cell_type": "code",
     "checksum": "974a218ef00776bf29dbff834b0be8dd",
     "grade": true,
     "grade_id": "cell-7eca99831cfbcad6",
     "locked": true,
     "points": 1,
     "schema_version": 3,
     "solution": false,
     "task": false
    }
   },
   "outputs": [],
   "source": [
    "# 1 Mark\n",
    "# Do not try to delete this cell\n",
    "# Run this cell for grading\n",
    "_globals = globals()\n",
    "question3ig(_globals)"
   ]
  },
  {
   "cell_type": "markdown",
   "id": "three-supplement",
   "metadata": {
    "deletable": false,
    "editable": false,
    "nbgrader": {
     "cell_type": "markdown",
     "checksum": "0ec3a81132f38925491d2b5475bd3b11",
     "grade": false,
     "grade_id": "cell-9561df276a2bbc8d",
     "locked": true,
     "schema_version": 3,
     "solution": false,
     "task": false
    }
   },
   "source": [
    "### (ii)\n",
    "\n",
    "(a) Write a renaming function (a lambda-expression works well) that inserts the string 'Max ' in front of any given string, and use it to relabel the columns of `stocks_max` 'Max Open', 'Max High', etc."
   ]
  },
  {
   "cell_type": "code",
   "execution_count": null,
   "id": "electric-fellow",
   "metadata": {
    "deletable": false,
    "nbgrader": {
     "cell_type": "code",
     "checksum": "ba91e2bdfdf00f6f0bab861d006473e0",
     "grade": false,
     "grade_id": "cell-f8fd7f486c19a01d",
     "locked": false,
     "schema_version": 3,
     "solution": true,
     "task": false
    }
   },
   "outputs": [],
   "source": [
    "# YOUR CODE HERE\n",
    "raise NotImplementedError()\n",
    "stocks_max.head()"
   ]
  },
  {
   "cell_type": "code",
   "execution_count": null,
   "id": "deadly-divorce",
   "metadata": {
    "deletable": false,
    "editable": false,
    "nbgrader": {
     "cell_type": "code",
     "checksum": "049c8cf030149aebe0863ab988783094",
     "grade": true,
     "grade_id": "cell-4362670a1c8f123f",
     "locked": true,
     "points": 1,
     "schema_version": 3,
     "solution": false,
     "task": false
    }
   },
   "outputs": [],
   "source": [
    "# 1 Mark\n",
    "# Do not try to delete this cell\n",
    "# Run this cell for grading\n",
    "_globals = globals()\n",
    "question3iia(_globals)"
   ]
  },
  {
   "cell_type": "markdown",
   "id": "understood-macedonia",
   "metadata": {
    "deletable": false,
    "editable": false,
    "nbgrader": {
     "cell_type": "markdown",
     "checksum": "06d8f54b112e78f9810875c949fd8673",
     "grade": false,
     "grade_id": "cell-29df2f174e5ba3d3",
     "locked": true,
     "schema_version": 3,
     "solution": false,
     "task": false
    }
   },
   "source": [
    "(b) Using `merge` or `concat`, create a DataFrame, `joined_df`, consisting of `stocks_df2` and your relabelled `stocks_max`, side by side."
   ]
  },
  {
   "cell_type": "code",
   "execution_count": null,
   "id": "sophisticated-essay",
   "metadata": {
    "deletable": false,
    "nbgrader": {
     "cell_type": "code",
     "checksum": "f606250089414c981bccacc62d6d350d",
     "grade": false,
     "grade_id": "cell-6da2ee12e9b98995",
     "locked": false,
     "schema_version": 3,
     "solution": true,
     "task": false
    }
   },
   "outputs": [],
   "source": [
    "# YOUR CODE HERE\n",
    "raise NotImplementedError()\n",
    "joined_df.head()"
   ]
  },
  {
   "cell_type": "code",
   "execution_count": null,
   "id": "eight-sudan",
   "metadata": {
    "deletable": false,
    "editable": false,
    "nbgrader": {
     "cell_type": "code",
     "checksum": "0147848229d03e20f80035d40015ab23",
     "grade": true,
     "grade_id": "cell-db80fb996c9e3fe1",
     "locked": true,
     "points": 1,
     "schema_version": 3,
     "solution": false,
     "task": false
    }
   },
   "outputs": [],
   "source": [
    "# 1 Mark\n",
    "# Do not try to delete this cell\n",
    "# Run this cell for grading\n",
    "_globals = globals()\n",
    "question3iib(_globals)"
   ]
  },
  {
   "cell_type": "markdown",
   "id": "korean-guinea",
   "metadata": {
    "deletable": false,
    "editable": false,
    "nbgrader": {
     "cell_type": "markdown",
     "checksum": "f3609ec25a97232145632d473a95d0d7",
     "grade": false,
     "grade_id": "cell-f15c7346eaa385eb",
     "locked": true,
     "schema_version": 3,
     "solution": false,
     "task": false
    }
   },
   "source": [
    "(c) Create a DataFrame, `stocks_df_monthly`, consisting of `stocks_df2` sampled at the end of each calendar month, with the figures appearing being those associated with the last trading day of each month. Omit the last four rows of `stocks_df2`, which include just four days of March 2020."
   ]
  },
  {
   "cell_type": "code",
   "execution_count": null,
   "id": "indian-patent",
   "metadata": {
    "deletable": false,
    "nbgrader": {
     "cell_type": "code",
     "checksum": "581d83629d57112b03b85fa507aee2f8",
     "grade": false,
     "grade_id": "cell-2cc2ce8757a699bd",
     "locked": false,
     "schema_version": 3,
     "solution": true,
     "task": false
    }
   },
   "outputs": [],
   "source": [
    "# YOUR CODE HERE\n",
    "raise NotImplementedError()\n",
    "stocks_df_monthly"
   ]
  },
  {
   "cell_type": "code",
   "execution_count": null,
   "id": "impaired-kidney",
   "metadata": {
    "deletable": false,
    "editable": false,
    "nbgrader": {
     "cell_type": "code",
     "checksum": "fff294f035854d80b632b3ac0e6a751e",
     "grade": true,
     "grade_id": "cell-4206ef1c3bf921b3",
     "locked": true,
     "points": 1,
     "schema_version": 3,
     "solution": false,
     "task": false
    }
   },
   "outputs": [],
   "source": [
    "# 1 Mark\n",
    "# Do not try to delete this cell\n",
    "# Run this cell for grading\n",
    "_globals = globals()\n",
    "question3iic(_globals)"
   ]
  },
  {
   "cell_type": "markdown",
   "id": "loving-internet",
   "metadata": {
    "deletable": false,
    "editable": false,
    "nbgrader": {
     "cell_type": "markdown",
     "checksum": "8e5dbaa52e11f6d5f071e10f19d820d5",
     "grade": false,
     "grade_id": "cell-00f604806652f942",
     "locked": true,
     "schema_version": 3,
     "solution": false,
     "task": false
    }
   },
   "source": [
    "(d) Create a DataFrame, `stocks_df_monthly2`, consisting of `stocks_df2` sampled at the end of each calendar month, with the figures appearing being:\n",
    "<ul>\n",
    "    <li>in the case of 'Open', the figures on the first trading day of each month;</li>\n",
    "    <li>in the case of 'High', the maximum figures for each month;</li>\n",
    "    <li>in the case of 'Low', the minimum figures for each month;</li>\n",
    "    <li>in the case of 'Close' and 'Adj Close', figures on the last trading day of each month;</li>\n",
    "    <li>in the case of 'Volume', the total figures for each month.</li>\n",
    "</ul>\n",
    "\n",
    "Omit the last four rows of `stocks_df2`, which include just four days of March 2020."
   ]
  },
  {
   "cell_type": "code",
   "execution_count": null,
   "id": "together-scratch",
   "metadata": {
    "deletable": false,
    "nbgrader": {
     "cell_type": "code",
     "checksum": "efe59644f3d7cd7b305c46404aec34db",
     "grade": false,
     "grade_id": "cell-52b55520fcf2472e",
     "locked": false,
     "schema_version": 3,
     "solution": true,
     "task": false
    }
   },
   "outputs": [],
   "source": [
    "# YOUR CODE HERE\n",
    "raise NotImplementedError()\n",
    "stocks_df_monthly2"
   ]
  },
  {
   "cell_type": "code",
   "execution_count": null,
   "id": "appreciated-bubble",
   "metadata": {
    "deletable": false,
    "editable": false,
    "nbgrader": {
     "cell_type": "code",
     "checksum": "6394a3d9ae954d8bec2483af936eb929",
     "grade": true,
     "grade_id": "cell-365978a60c1dae26",
     "locked": true,
     "points": 1,
     "schema_version": 3,
     "solution": false,
     "task": false
    }
   },
   "outputs": [],
   "source": [
    "# 1 Mark\n",
    "# Do not try to delete this cell\n",
    "# Run this cell for grading\n",
    "_globals = globals()\n",
    "question3iid(_globals)"
   ]
  },
  {
   "cell_type": "markdown",
   "id": "supreme-christianity",
   "metadata": {
    "deletable": false,
    "editable": false,
    "nbgrader": {
     "cell_type": "markdown",
     "checksum": "13ccd2ec61d1ce3f3e5dcf6ccd18bb73",
     "grade": false,
     "grade_id": "cell-fed99ecacaf644fb",
     "locked": true,
     "schema_version": 3,
     "solution": false,
     "task": false
    }
   },
   "source": [
    "(e) Using the `query` method, create a DataFrame, `stocks_fall`, consisting of the data for all those days on which the market fell. Use the closing figures rather than the adjusted closing figures."
   ]
  },
  {
   "cell_type": "code",
   "execution_count": null,
   "id": "fresh-newspaper",
   "metadata": {
    "deletable": false,
    "nbgrader": {
     "cell_type": "code",
     "checksum": "06c27a979dbfd875198e0f8dee297780",
     "grade": false,
     "grade_id": "cell-70b31c8650400acb",
     "locked": false,
     "schema_version": 3,
     "solution": true,
     "task": false
    }
   },
   "outputs": [],
   "source": [
    "# YOUR CODE HERE\n",
    "raise NotImplementedError()\n",
    "stocks_fall.head()"
   ]
  },
  {
   "cell_type": "code",
   "execution_count": null,
   "id": "alien-variation",
   "metadata": {
    "deletable": false,
    "editable": false,
    "nbgrader": {
     "cell_type": "code",
     "checksum": "6080e0ab4819e8fa2d32f8782bb2bee8",
     "grade": true,
     "grade_id": "cell-99d28d7b09c023cb",
     "locked": true,
     "points": 1,
     "schema_version": 3,
     "solution": false,
     "task": false
    }
   },
   "outputs": [],
   "source": [
    "# 1 Mark\n",
    "# Do not try to delete this cell\n",
    "# Run this cell for grading\n",
    "_globals = globals()\n",
    "question3iie(_globals)"
   ]
  },
  {
   "cell_type": "markdown",
   "id": "dying-singing",
   "metadata": {
    "deletable": false,
    "editable": false,
    "nbgrader": {
     "cell_type": "markdown",
     "checksum": "ca22e291e21230adab5b7535b6e5437d",
     "grade": false,
     "grade_id": "cell-4ac4c322029ace5b",
     "locked": true,
     "schema_version": 3,
     "solution": false,
     "task": false
    }
   },
   "source": [
    "(f) Create a DataFrame, `stocks_df3`, which is a copy of `stocks_df2`. To `stocks_df3`, add a column called 'Rise/fall' consisting of the difference between the 'Close' and 'Open' figures."
   ]
  },
  {
   "cell_type": "code",
   "execution_count": null,
   "id": "comfortable-planner",
   "metadata": {
    "deletable": false,
    "nbgrader": {
     "cell_type": "code",
     "checksum": "5a077e8b19a2dd16a5262dbe0999aec0",
     "grade": false,
     "grade_id": "cell-f87503cce2881eed",
     "locked": false,
     "schema_version": 3,
     "solution": true,
     "task": false
    }
   },
   "outputs": [],
   "source": [
    "# YOUR CODE HERE\n",
    "raise NotImplementedError()\n",
    "stocks_df3.head()"
   ]
  },
  {
   "cell_type": "code",
   "execution_count": null,
   "id": "pregnant-brisbane",
   "metadata": {
    "deletable": false,
    "editable": false,
    "nbgrader": {
     "cell_type": "code",
     "checksum": "568445413b8ed92819ffef990aebb52c",
     "grade": true,
     "grade_id": "cell-bf04935ac619e589",
     "locked": true,
     "points": 1,
     "schema_version": 3,
     "solution": false,
     "task": false
    }
   },
   "outputs": [],
   "source": [
    "# 1 Mark\n",
    "# Do not try to delete this cell\n",
    "# Run this cell for grading\n",
    "_globals = globals()\n",
    "question3iif(_globals)"
   ]
  },
  {
   "cell_type": "markdown",
   "id": "eight-musical",
   "metadata": {
    "deletable": false,
    "editable": false,
    "nbgrader": {
     "cell_type": "markdown",
     "checksum": "71213d87c3454e12fabd390d9bac489e",
     "grade": false,
     "grade_id": "cell-6d4529adc4258769",
     "locked": true,
     "schema_version": 3,
     "solution": false,
     "task": false
    }
   },
   "source": [
    "### (iii)\n",
    "\n",
    "(a) Create, on separate axes, line plots of the volume of trading for `stocks_df2` and `stocks_df_monthly2`; autograding can't help here, or anywhere else in this section!"
   ]
  },
  {
   "cell_type": "code",
   "execution_count": null,
   "id": "steady-guard",
   "metadata": {
    "deletable": false,
    "nbgrader": {
     "cell_type": "code",
     "checksum": "25fea25ecb51bceb32aa7322727ed36b",
     "grade": false,
     "grade_id": "cell-03757f9be6bc2668",
     "locked": false,
     "schema_version": 3,
     "solution": true,
     "task": false
    }
   },
   "outputs": [],
   "source": [
    "# YOUR CODE HERE\n",
    "raise NotImplementedError()"
   ]
  },
  {
   "cell_type": "code",
   "execution_count": null,
   "id": "aquatic-cleaning",
   "metadata": {
    "deletable": false,
    "nbgrader": {
     "cell_type": "code",
     "checksum": "f7bde8f94515996d2360e3391f8af6e4",
     "grade": false,
     "grade_id": "cell-48262cdba6b590ad",
     "locked": false,
     "schema_version": 3,
     "solution": true,
     "task": false
    }
   },
   "outputs": [],
   "source": [
    "# YOUR CODE HERE\n",
    "raise NotImplementedError()"
   ]
  },
  {
   "cell_type": "markdown",
   "id": "powerful-theory",
   "metadata": {
    "deletable": false,
    "editable": false,
    "nbgrader": {
     "cell_type": "markdown",
     "checksum": "f97c96377cce2404d24c1dea23c3dbe7",
     "grade": false,
     "grade_id": "cell-033244d8b75072be",
     "locked": true,
     "schema_version": 3,
     "solution": false,
     "task": false
    }
   },
   "source": [
    "(b) Create, on the same pair of axes, line plots of the 'High' figures from `stocks_df2` and `stocks_df_monthly2`."
   ]
  },
  {
   "cell_type": "code",
   "execution_count": null,
   "id": "educational-backup",
   "metadata": {
    "deletable": false,
    "nbgrader": {
     "cell_type": "code",
     "checksum": "211cdd35e1159e1e73411e99c8d0c958",
     "grade": false,
     "grade_id": "cell-90cf89e1971252fd",
     "locked": false,
     "schema_version": 3,
     "solution": true,
     "task": false
    }
   },
   "outputs": [],
   "source": [
    "# YOUR CODE HERE\n",
    "raise NotImplementedError()"
   ]
  },
  {
   "cell_type": "markdown",
   "id": "animal-method",
   "metadata": {
    "deletable": false,
    "editable": false,
    "nbgrader": {
     "cell_type": "markdown",
     "checksum": "5debce95f8599c4cbfb8cc9ed7ad7c0f",
     "grade": false,
     "grade_id": "cell-1557d946fedbb64e",
     "locked": true,
     "schema_version": 3,
     "solution": false,
     "task": false
    }
   },
   "source": [
    "(c) Create, on the same pair of axes, line plots of the 'Open', 'High', 'Low' and 'Close' figures for `stock_df2`. Do the same for `stock_df_monthly2` on a new pair of axes."
   ]
  },
  {
   "cell_type": "code",
   "execution_count": null,
   "id": "delayed-coast",
   "metadata": {
    "deletable": false,
    "nbgrader": {
     "cell_type": "code",
     "checksum": "72d5df6e100143e63b97e95d60c7e205",
     "grade": false,
     "grade_id": "cell-1bc140f4f78f6b58",
     "locked": false,
     "schema_version": 3,
     "solution": true,
     "task": false
    }
   },
   "outputs": [],
   "source": [
    "# YOUR CODE HERE\n",
    "raise NotImplementedError()"
   ]
  },
  {
   "cell_type": "code",
   "execution_count": null,
   "id": "plastic-complement",
   "metadata": {
    "deletable": false,
    "nbgrader": {
     "cell_type": "code",
     "checksum": "58611137eb069014c8cfb535bfd82e83",
     "grade": false,
     "grade_id": "cell-d8017ceb1bc0dfcd",
     "locked": false,
     "schema_version": 3,
     "solution": true,
     "task": false
    }
   },
   "outputs": [],
   "source": [
    "# YOUR CODE HERE\n",
    "raise NotImplementedError()"
   ]
  },
  {
   "cell_type": "markdown",
   "id": "abandoned-rachel",
   "metadata": {
    "deletable": false,
    "editable": false,
    "nbgrader": {
     "cell_type": "markdown",
     "checksum": "1698a01a02706e6f5f35e25413b99954",
     "grade": false,
     "grade_id": "cell-ef5c3c5471d7a1e2",
     "locked": true,
     "schema_version": 3,
     "solution": false,
     "task": false
    }
   },
   "source": [
    "(d) Show the 'Open', 'High', 'Low' and 'Close' figures for `stocks_df_monthly2` on a bar chart, with the bars appearing side by side."
   ]
  },
  {
   "cell_type": "code",
   "execution_count": null,
   "id": "universal-greensboro",
   "metadata": {
    "deletable": false,
    "nbgrader": {
     "cell_type": "code",
     "checksum": "bf9687ef12d0b7bce6fca07055e1fc2a",
     "grade": false,
     "grade_id": "cell-d3ee7086a436f6e6",
     "locked": false,
     "schema_version": 3,
     "solution": true,
     "task": false
    }
   },
   "outputs": [],
   "source": [
    "# YOUR CODE HERE\n",
    "raise NotImplementedError()"
   ]
  },
  {
   "cell_type": "markdown",
   "id": "relevant-sampling",
   "metadata": {
    "deletable": false,
    "editable": false,
    "nbgrader": {
     "cell_type": "markdown",
     "checksum": "cce748e4c0d99c60ff270910d417d018",
     "grade": false,
     "grade_id": "cell-ba6b8c77ed70bd89",
     "locked": true,
     "schema_version": 3,
     "solution": false,
     "task": false
    }
   },
   "source": [
    "(e) Create, on a single figure, box-and-whisker diagrams of the 'Open', 'High', 'Low' and 'Close' figures for `stock_df2`. Do the same for `stock_df_monthly2` on a separate single figure."
   ]
  },
  {
   "cell_type": "code",
   "execution_count": null,
   "id": "cultural-relaxation",
   "metadata": {
    "deletable": false,
    "nbgrader": {
     "cell_type": "code",
     "checksum": "8ecc6caed3073b52373922b6a1a5edd8",
     "grade": false,
     "grade_id": "cell-48c82cfe49fe5143",
     "locked": false,
     "schema_version": 3,
     "solution": true,
     "task": false
    }
   },
   "outputs": [],
   "source": [
    "# YOUR CODE HERE\n",
    "raise NotImplementedError()"
   ]
  },
  {
   "cell_type": "code",
   "execution_count": null,
   "id": "invalid-colleague",
   "metadata": {
    "deletable": false,
    "nbgrader": {
     "cell_type": "code",
     "checksum": "c3708f34372abee017b0eef0f9266084",
     "grade": false,
     "grade_id": "cell-98e43ddae5b86f12",
     "locked": false,
     "schema_version": 3,
     "solution": true,
     "task": false
    }
   },
   "outputs": [],
   "source": [
    "# YOUR CODE HERE\n",
    "raise NotImplementedError()"
   ]
  },
  {
   "cell_type": "markdown",
   "id": "obvious-edinburgh",
   "metadata": {
    "deletable": false,
    "editable": false,
    "nbgrader": {
     "cell_type": "markdown",
     "checksum": "db431db5fbf71e70276d2dd5fbc68e78",
     "grade": false,
     "grade_id": "cell-57d4ed82a5d94a28",
     "locked": true,
     "schema_version": 3,
     "solution": false,
     "task": false
    }
   },
   "source": [
    "(f) Create scatter plots of 'High' (on the vertical axis) against 'Low' (on the horizontal axis) for `stocks_df2` and `stocks_df_monthly2`."
   ]
  },
  {
   "cell_type": "code",
   "execution_count": null,
   "id": "perceived-letter",
   "metadata": {
    "deletable": false,
    "nbgrader": {
     "cell_type": "code",
     "checksum": "3b3ff04221362775c86761bb2a84efdd",
     "grade": false,
     "grade_id": "cell-a83a0ef7fb807785",
     "locked": false,
     "schema_version": 3,
     "solution": true,
     "task": false
    }
   },
   "outputs": [],
   "source": [
    "# YOUR CODE HERE\n",
    "raise NotImplementedError()"
   ]
  },
  {
   "cell_type": "code",
   "execution_count": null,
   "id": "prerequisite-freedom",
   "metadata": {
    "deletable": false,
    "nbgrader": {
     "cell_type": "code",
     "checksum": "96ac87581957b2425874e3a6022cf709",
     "grade": false,
     "grade_id": "cell-02a5ae72e9aba1be",
     "locked": false,
     "schema_version": 3,
     "solution": true,
     "task": false
    }
   },
   "outputs": [],
   "source": [
    "# YOUR CODE HERE\n",
    "raise NotImplementedError()"
   ]
  },
  {
   "cell_type": "markdown",
   "id": "bound-dallas",
   "metadata": {
    "deletable": false,
    "editable": false,
    "nbgrader": {
     "cell_type": "markdown",
     "checksum": "ef4f2e027f68ba535ff35a2b792cefd8",
     "grade": false,
     "grade_id": "cell-e61d89d79e0ed5d1",
     "locked": true,
     "schema_version": 3,
     "solution": false,
     "task": false
    }
   },
   "source": [
    "(g) Using `stocks_df3`, create an area plot of the rise and fall of the market with `stacked` set to `False`."
   ]
  },
  {
   "cell_type": "code",
   "execution_count": null,
   "id": "injured-format",
   "metadata": {
    "deletable": false,
    "nbgrader": {
     "cell_type": "code",
     "checksum": "e327a2130b7597acfd56c8abfc0b39c3",
     "grade": false,
     "grade_id": "cell-44bda767fabddaae",
     "locked": false,
     "schema_version": 3,
     "solution": true,
     "task": false
    }
   },
   "outputs": [],
   "source": [
    "# YOUR CODE HERE\n",
    "raise NotImplementedError()"
   ]
  },
  {
   "cell_type": "code",
   "execution_count": null,
   "id": "furnished-retailer",
   "metadata": {},
   "outputs": [],
   "source": []
  }
 ],
 "metadata": {
  "kernelspec": {
   "display_name": "Python 3",
   "language": "python",
   "name": "python3"
  },
  "language_info": {
   "codemirror_mode": {
    "name": "ipython",
    "version": 3
   },
   "file_extension": ".py",
   "mimetype": "text/x-python",
   "name": "python",
   "nbconvert_exporter": "python",
   "pygments_lexer": "ipython3",
   "version": "3.8.8"
  }
 },
 "nbformat": 4,
 "nbformat_minor": 5
}
