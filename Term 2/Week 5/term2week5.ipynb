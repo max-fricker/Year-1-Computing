{
 "cells": [
  {
   "cell_type": "code",
   "execution_count": 1,
   "id": "convenient-audio",
   "metadata": {},
   "outputs": [
    {
     "name": "stdout",
     "output_type": "stream",
     "text": [
      "Autograder loaded successfully!\n",
      "Remember to always restart and run all from the Kernel menu before submitting!\n"
     ]
    }
   ],
   "source": [
    "from autograder_term2week5 import *\n",
    "_globals = globals()\n",
    "import numpy as np\n",
    "import numpy.testing as npt\n",
    "import math\n",
    "import matplotlib.pyplot as plt\n",
    "from time import time\n",
    "%matplotlib inline"
   ]
  },
  {
   "cell_type": "markdown",
   "id": "several-thesis",
   "metadata": {
    "deletable": false,
    "editable": false,
    "nbgrader": {
     "cell_type": "markdown",
     "checksum": "5516d80e10b23bdefc078b03af221b09",
     "grade": false,
     "grade_id": "cell-681659d2c2f91666",
     "locked": true,
     "schema_version": 3,
     "solution": false,
     "task": false
    }
   },
   "source": [
    "# <center> Introduction to Mathematical Computing </center>\n",
    "### <center>Phil Ramsden, Boumediene Hamzi, Sam Brzezicki, Matt Woolway</center>\n",
    "\n",
    "# <center> Worksheet 9: Using numpy in Programming</center>\n",
    "\n",
    "**NOTE:** When answering a question, remember to remove the `raise NotImplementedError()` line."
   ]
  },
  {
   "cell_type": "markdown",
   "id": "unlikely-sector",
   "metadata": {
    "deletable": false,
    "editable": false,
    "nbgrader": {
     "cell_type": "markdown",
     "checksum": "7aa87d991854982d5d645ed3472a20f7",
     "grade": false,
     "grade_id": "cell-e6cff4b9e21316b7",
     "locked": true,
     "schema_version": 3,
     "solution": false,
     "task": false
    }
   },
   "source": [
    "## Question 1 (i)\n",
    "\n",
    "(a) Use the `range` function from \"core Python\" to create a `range` object called `myrange` containing the ints $97, 98, \\dots, 102$. Then create a list called `mylist` containing the same ints. Finally, use NumPy's `arange` function to create a one-dimensional NumPy array called `myarray` containing the same ints."
   ]
  },
  {
   "cell_type": "code",
   "execution_count": 2,
   "id": "intimate-cleaner",
   "metadata": {
    "deletable": false,
    "nbgrader": {
     "cell_type": "code",
     "checksum": "97cdb1009c8145c2be1730ee46c4d4f8",
     "grade": false,
     "grade_id": "cell-d95e5dc3c8888d91",
     "locked": false,
     "schema_version": 3,
     "solution": true,
     "task": false
    }
   },
   "outputs": [
    {
     "name": "stdout",
     "output_type": "stream",
     "text": [
      "range(97, 103)\n",
      "[97, 98, 99, 100, 101, 102]\n",
      "[ 97  98  99 100 101 102]\n"
     ]
    }
   ],
   "source": [
    "myrange = range(97, 103)\n",
    "mylist = [n for n in myrange]\n",
    "myarray = np.arange(97,103)\n",
    "\n",
    "print(myrange)\n",
    "print(mylist)\n",
    "print(myarray)"
   ]
  },
  {
   "cell_type": "code",
   "execution_count": 3,
   "id": "parental-director",
   "metadata": {
    "deletable": false,
    "editable": false,
    "nbgrader": {
     "cell_type": "code",
     "checksum": "24398bf03a6cf44ba272e226a4b6c8b5",
     "grade": true,
     "grade_id": "cell-00ab6f202e921ef6",
     "locked": true,
     "points": 3,
     "schema_version": 3,
     "solution": false,
     "task": false
    }
   },
   "outputs": [
    {
     "name": "stdout",
     "output_type": "stream",
     "text": [
      "myrange contains the right numbers\n",
      "myrange is a range\n",
      "First test passed!\n",
      "\n",
      "mylist contains the right numbers\n",
      "mylist is a list\n",
      "Second test passed!\n",
      "\n",
      "myarray contains the right numbers\n",
      "myarray is a numpy array\n",
      "Final test passed!\n",
      "\n",
      "3 out of 3\n"
     ]
    },
    {
     "data": {
      "text/plain": [
       "3"
      ]
     },
     "execution_count": 3,
     "metadata": {},
     "output_type": "execute_result"
    }
   ],
   "source": [
    "# 3 Marks\n",
    "# Do not try to delete this cell\n",
    "# Run this cell for grading\n",
    "_globals = globals()\n",
    "question1ia(_globals)"
   ]
  },
  {
   "cell_type": "markdown",
   "id": "stock-webster",
   "metadata": {
    "deletable": false,
    "editable": false,
    "nbgrader": {
     "cell_type": "markdown",
     "checksum": "0a65361f42d63a3aa0498c99ab819b2b",
     "grade": false,
     "grade_id": "cell-3973e5088e8161b2",
     "locked": true,
     "schema_version": 3,
     "solution": false,
     "task": false
    }
   },
   "source": [
    "(b) Write a `for` loop that iterates through `myrange`, printing the squares. Do the same for `mylist`, and attempt the same for `myarray`. Then state which of the following is true.\n",
    "\n",
    "<ol>\n",
    "    <li>You can iterate across <code>range</code> objects, Python lists and 1D NumPy arrays using a <code>for</code> loop, and afterwards, all three are unchanged.</li>\n",
    "    <li>You can iterate across <code>range</code> objects, Python lists and 1D NumPy arrays using a <code>for</code> loop, and afterwards, all three have become empty.</li>\n",
    "    <li>You can iterate across <code>range</code> objects, Python lists and 1D NumPy arrays using a <code>for</code> loop, and afterwards, only the NumPy array has become empty.</li>\n",
    "    <li>You can iterate across <code>range</code> objects and Python lists, but not 1D NumPy arrays, using a <code>for</code> loop.</li>\n",
    "</ol>"
   ]
  },
  {
   "cell_type": "code",
   "execution_count": 4,
   "id": "equivalent-client",
   "metadata": {
    "deletable": false,
    "nbgrader": {
     "cell_type": "code",
     "checksum": "cb6e95eacd7078aefdb5e8fa574409f8",
     "grade": false,
     "grade_id": "cell-ecc421cc340c9ac1",
     "locked": false,
     "schema_version": 3,
     "solution": true,
     "task": false
    }
   },
   "outputs": [],
   "source": [
    "\n",
    "\n",
    "question1ib_answer = 1"
   ]
  },
  {
   "cell_type": "code",
   "execution_count": 5,
   "id": "valid-ordering",
   "metadata": {
    "deletable": false,
    "editable": false,
    "nbgrader": {
     "cell_type": "code",
     "checksum": "9f8e65a030339ac2be75d349e41d8566",
     "grade": true,
     "grade_id": "cell-2880fd28ceea31df",
     "locked": true,
     "points": 1,
     "schema_version": 3,
     "solution": false,
     "task": false
    }
   },
   "outputs": [
    {
     "name": "stdout",
     "output_type": "stream",
     "text": [
      "test case passed!\n"
     ]
    }
   ],
   "source": [
    "# 1 Mark\n",
    "assert(question1ib_answer == question1ib())\n",
    "print('test case passed!')"
   ]
  },
  {
   "cell_type": "markdown",
   "id": "plain-country",
   "metadata": {
    "deletable": false,
    "editable": false,
    "nbgrader": {
     "cell_type": "markdown",
     "checksum": "622fd882af3bc796f72e59bd47a1b7e4",
     "grade": false,
     "grade_id": "cell-8c51da12cd758ab8",
     "locked": true,
     "schema_version": 3,
     "solution": false,
     "task": false
    }
   },
   "source": [
    "(c) Write a list comprehension that iterates across `myrange`, generating a list of all the squares; call it `range_squares`. Do the same for `mylist` (call it `list_squares`), and attempt the same for `my_array` (call it `array_squares` if it works)."
   ]
  },
  {
   "cell_type": "code",
   "execution_count": 6,
   "id": "optimum-tulsa",
   "metadata": {
    "deletable": false,
    "nbgrader": {
     "cell_type": "code",
     "checksum": "022d7dac2f1fa7ae9551187bbe775715",
     "grade": false,
     "grade_id": "cell-e2cda711fe7b4091",
     "locked": false,
     "schema_version": 3,
     "solution": true,
     "task": false
    }
   },
   "outputs": [
    {
     "name": "stdout",
     "output_type": "stream",
     "text": [
      "[9409, 9604, 9801, 10000, 10201, 10404]\n",
      "[9409, 9604, 9801, 10000, 10201, 10404]\n",
      "[9409, 9604, 9801, 10000, 10201, 10404]\n"
     ]
    }
   ],
   "source": [
    "range_squares = [n ** 2 for n in myrange]\n",
    "\n",
    "list_squares = [n ** 2 for n in mylist]\n",
    "\n",
    "array_squares = [n**2 for n in myarray]\n",
    "\n",
    "print(range_squares)\n",
    "print(list_squares)\n",
    "print(array_squares)"
   ]
  },
  {
   "cell_type": "code",
   "execution_count": 7,
   "id": "little-jungle",
   "metadata": {
    "deletable": false,
    "editable": false,
    "nbgrader": {
     "cell_type": "code",
     "checksum": "63ceab0e7808c550799bd96b08652ac2",
     "grade": true,
     "grade_id": "cell-25df616fe295d313",
     "locked": true,
     "points": 3,
     "schema_version": 3,
     "solution": false,
     "task": false
    }
   },
   "outputs": [
    {
     "name": "stdout",
     "output_type": "stream",
     "text": [
      "range_squares contains the right numbers\n",
      "range_squares is a list\n",
      "First test passed!\n",
      "\n",
      "list_squares contains the right numbers\n",
      "list_squares is a list\n",
      "Second test passed!\n",
      "\n",
      "list_squares contains the right numbers\n",
      "array_squares is a list\n",
      "Final test passed!\n",
      "\n",
      "3 out of 3\n"
     ]
    },
    {
     "data": {
      "text/plain": [
       "3"
      ]
     },
     "execution_count": 7,
     "metadata": {},
     "output_type": "execute_result"
    }
   ],
   "source": [
    "# 3 Marks\n",
    "# Do not try to delete this cell\n",
    "# Run this cell for grading\n",
    "_globals = globals()\n",
    "question1ic(_globals)"
   ]
  },
  {
   "cell_type": "markdown",
   "id": "excellent-consent",
   "metadata": {
    "deletable": false,
    "editable": false,
    "nbgrader": {
     "cell_type": "markdown",
     "checksum": "e41f7bae09062dd4147e1474ce1c216b",
     "grade": false,
     "grade_id": "cell-aac2b1132e590420",
     "locked": true,
     "schema_version": 3,
     "solution": false,
     "task": false
    }
   },
   "source": [
    "(d) State which of the following is true.\n",
    "\n",
    "<ol>\n",
    "    <li>You can iterate across <code>range</code> objects, Python lists and 1D NumPy arrays using a comprehension, and afterwards, all three are unchanged.</li>\n",
    "    <li>You can iterate across <code>range</code> objects, Python lists and 1D NumPy arrays using a comprehension, and afterwards, all three have become empty.</li>\n",
    "    <li>You can iterate across <code>range</code> objects, Python lists and 1D NumPy arrays using a comprehension, and afterwards, only the NumPy array has become empty.</li>\n",
    "    <li>You can iterate across <code>range</code> objects and Python lists, but not 1D NumPy arrays, using a comprehension.</li>\n",
    "</ol>"
   ]
  },
  {
   "cell_type": "code",
   "execution_count": 8,
   "id": "academic-bulletin",
   "metadata": {
    "deletable": false,
    "nbgrader": {
     "cell_type": "code",
     "checksum": "93962c7c06359d50314cc720ae828785",
     "grade": false,
     "grade_id": "cell-c74c42776e88e283",
     "locked": false,
     "schema_version": 3,
     "solution": true,
     "task": false
    }
   },
   "outputs": [
    {
     "name": "stdout",
     "output_type": "stream",
     "text": [
      "[97, 98, 99, 100, 101, 102] range(97, 103) [ 97  98  99 100 101 102]\n"
     ]
    }
   ],
   "source": [
    "print(mylist, myrange, myarray)\n",
    "\n",
    "question1id_answer = 1"
   ]
  },
  {
   "cell_type": "code",
   "execution_count": 9,
   "id": "departmental-wagner",
   "metadata": {
    "deletable": false,
    "editable": false,
    "nbgrader": {
     "cell_type": "code",
     "checksum": "340d4c9aa63330af735dc7e26dc433ea",
     "grade": true,
     "grade_id": "cell-0f2922dc93503c01",
     "locked": true,
     "points": 1,
     "schema_version": 3,
     "solution": false,
     "task": false
    }
   },
   "outputs": [
    {
     "name": "stdout",
     "output_type": "stream",
     "text": [
      "test case passed!\n"
     ]
    }
   ],
   "source": [
    "# 1 Mark\n",
    "assert(question1id_answer == question1id())\n",
    "print('test case passed!')"
   ]
  },
  {
   "cell_type": "markdown",
   "id": "nasty-delta",
   "metadata": {
    "deletable": false,
    "editable": false,
    "nbgrader": {
     "cell_type": "markdown",
     "checksum": "e0449344f849f1b7587ecc670bc8ea5c",
     "grade": false,
     "grade_id": "cell-7ef7309ca0252305",
     "locked": true,
     "schema_version": 3,
     "solution": false,
     "task": false
    }
   },
   "source": [
    "(e) From `myarray`, create a NumPy array consisting of all the squares; call it `square_array`. Do this in the simplest way possible, without using a loop or a comprehension. (Autograding won't be able to tell whether you've done that, though.)"
   ]
  },
  {
   "cell_type": "code",
   "execution_count": 10,
   "id": "horizontal-insulin",
   "metadata": {
    "deletable": false,
    "nbgrader": {
     "cell_type": "code",
     "checksum": "f7ee7751bb53d53f9bba26ba4963bc93",
     "grade": false,
     "grade_id": "cell-06e87771988d7b9c",
     "locked": false,
     "schema_version": 3,
     "solution": true,
     "task": false
    }
   },
   "outputs": [
    {
     "name": "stdout",
     "output_type": "stream",
     "text": [
      "[ 9409  9604  9801 10000 10201 10404]\n",
      "[[0 1 2 3]\n",
      " [0 1 2 3]\n",
      " [0 1 2 3]]\n"
     ]
    }
   ],
   "source": [
    "square_array = myarray**2\n",
    "\n",
    "print(square_array)\n",
    "\n",
    "print(np.array([[0, 1, 2, 3], [0, 1, 2, 3] ,[0, 1, 2, 3]]))"
   ]
  },
  {
   "cell_type": "code",
   "execution_count": 11,
   "id": "indian-folder",
   "metadata": {
    "deletable": false,
    "editable": false,
    "nbgrader": {
     "cell_type": "code",
     "checksum": "70ede6d1e916e1e8905a70ba0e6903ab",
     "grade": true,
     "grade_id": "cell-fd7531034dc64ada",
     "locked": true,
     "points": 1,
     "schema_version": 3,
     "solution": false,
     "task": false
    }
   },
   "outputs": [
    {
     "name": "stdout",
     "output_type": "stream",
     "text": [
      "square_array contains the right numbers\n",
      "square_array is a numpy array\n",
      "\n",
      "1 out of 1\n"
     ]
    },
    {
     "data": {
      "text/plain": [
       "1"
      ]
     },
     "execution_count": 11,
     "metadata": {},
     "output_type": "execute_result"
    }
   ],
   "source": [
    "# 1 Mark\n",
    "# Do not try to delete this cell\n",
    "# Run this cell for grading\n",
    "_globals = globals()\n",
    "question1ie(_globals)"
   ]
  },
  {
   "cell_type": "markdown",
   "id": "irish-seating",
   "metadata": {
    "deletable": false,
    "editable": false,
    "nbgrader": {
     "cell_type": "markdown",
     "checksum": "577adb351924025aebf9f7e6e44a735f",
     "grade": false,
     "grade_id": "cell-556db96c420024e2",
     "locked": true,
     "schema_version": 3,
     "solution": false,
     "task": false
    }
   },
   "source": [
    "(ii) Here's a simple lambda-expression:"
   ]
  },
  {
   "cell_type": "code",
   "execution_count": 12,
   "id": "surprising-battlefield",
   "metadata": {
    "deletable": false,
    "editable": false,
    "nbgrader": {
     "cell_type": "code",
     "checksum": "e5a235bcc5a1c72ecc574cf4c55e0458",
     "grade": false,
     "grade_id": "cell-0ff1acabb71bb83d",
     "locked": true,
     "schema_version": 3,
     "solution": false,
     "task": false
    }
   },
   "outputs": [],
   "source": [
    "add2 = lambda x, y : x + y"
   ]
  },
  {
   "cell_type": "markdown",
   "id": "illegal-medicare",
   "metadata": {
    "deletable": false,
    "editable": false,
    "nbgrader": {
     "cell_type": "markdown",
     "checksum": "6287404b99ff61c105c8d0a590ee905b",
     "grade": false,
     "grade_id": "cell-258ef7c76e98f526",
     "locked": true,
     "schema_version": 3,
     "solution": false,
     "task": false
    }
   },
   "source": [
    "This should be read as \"Let add2 be the function of $x$ and $y$ that adds $x$ to $y$.\" Then \n",
    "\n",
    "```python\n",
    "add2(3, 4)\n",
    "```\n",
    "\n",
    "will return 7, and so on."
   ]
  },
  {
   "cell_type": "markdown",
   "id": "authentic-justice",
   "metadata": {
    "deletable": false,
    "editable": false,
    "nbgrader": {
     "cell_type": "markdown",
     "checksum": "68a8b3736072da086e2b9e550602f875",
     "grade": false,
     "grade_id": "cell-eef72b94037dd2d3",
     "locked": true,
     "schema_version": 3,
     "solution": false,
     "task": false
    }
   },
   "source": [
    "(a) Use NumPy's `fromfunction` function, and the lambda-expression `add2` defined above, to create the 2d array `mat1`, which is equal to\n",
    "$$\\left(\n",
    "\\begin{array}{rrrr}\n",
    "0.0&1.0&2.0&3.0\\\\\n",
    "1.0&2.0&3.0&4.0\\\\\n",
    "2.0&3.0&4.0&5.0\n",
    "\\end{array}\\right).$$"
   ]
  },
  {
   "cell_type": "code",
   "execution_count": 14,
   "id": "oriental-detection",
   "metadata": {
    "deletable": false,
    "nbgrader": {
     "cell_type": "code",
     "checksum": "27c16672f5b96aede733b6dd12194dea",
     "grade": false,
     "grade_id": "cell-52765e48af5b8559",
     "locked": false,
     "schema_version": 3,
     "solution": true,
     "task": false
    }
   },
   "outputs": [
    {
     "name": "stdout",
     "output_type": "stream",
     "text": [
      "[[0. 1. 2. 3.]\n",
      " [1. 2. 3. 4.]\n",
      " [2. 3. 4. 5.]]\n"
     ]
    }
   ],
   "source": [
    "mat1 = np.fromfunction(add2, (3, 4))\n",
    "print(mat1)"
   ]
  },
  {
   "cell_type": "code",
   "execution_count": 15,
   "id": "nominated-deficit",
   "metadata": {
    "deletable": false,
    "editable": false,
    "nbgrader": {
     "cell_type": "code",
     "checksum": "cc1678b96726910a30ff46f62e6dec65",
     "grade": true,
     "grade_id": "cell-4c06f03e0246899a",
     "locked": true,
     "points": 1,
     "schema_version": 3,
     "solution": false,
     "task": false
    }
   },
   "outputs": [
    {
     "name": "stdout",
     "output_type": "stream",
     "text": [
      "Test passed!\n",
      "\n",
      "1 out of 1\n"
     ]
    },
    {
     "data": {
      "text/plain": [
       "1"
      ]
     },
     "execution_count": 15,
     "metadata": {},
     "output_type": "execute_result"
    }
   ],
   "source": [
    "# 1 Mark\n",
    "# Do not try to delete this cell\n",
    "# Run this cell for grading\n",
    "_globals = globals()\n",
    "question1iia(_globals)"
   ]
  },
  {
   "cell_type": "markdown",
   "id": "fleet-equilibrium",
   "metadata": {
    "deletable": false,
    "editable": false,
    "nbgrader": {
     "cell_type": "markdown",
     "checksum": "c2afeb1faeee81b033d73fab4b62bcad",
     "grade": false,
     "grade_id": "cell-38fc526f42e7550e",
     "locked": true,
     "schema_version": 3,
     "solution": false,
     "task": false
    }
   },
   "source": [
    "(b) Using NumPy's `nditer` function in a comprehension, create a list `squares1` of the squares of the entries of `mat1`, where the iteration is row-by-row; it should therefore begin\n",
    "\n",
    "```python\n",
    "[0.0, 1.0, 4.0, 9.0, 1.0, 4.0, ...\n",
    " ```"
   ]
  },
  {
   "cell_type": "code",
   "execution_count": 18,
   "id": "macro-baker",
   "metadata": {
    "deletable": false,
    "nbgrader": {
     "cell_type": "code",
     "checksum": "3e913ffb3fd2590f3bf9b1b7adc76177",
     "grade": false,
     "grade_id": "cell-bdf21dec04463b22",
     "locked": false,
     "schema_version": 3,
     "solution": true,
     "task": false
    }
   },
   "outputs": [
    {
     "name": "stdout",
     "output_type": "stream",
     "text": [
      "[0.0, 1.0, 4.0, 9.0, 1.0, 4.0, 9.0, 16.0, 4.0, 9.0, 16.0, 25.0]\n"
     ]
    }
   ],
   "source": [
    "squares1 = [x**2 for x in np.nditer(mat1)]\n",
    "\n",
    "print(squares1)"
   ]
  },
  {
   "cell_type": "code",
   "execution_count": 19,
   "id": "monetary-exemption",
   "metadata": {
    "deletable": false,
    "editable": false,
    "nbgrader": {
     "cell_type": "code",
     "checksum": "e8cae60bc48529c88b09285dbe09f3db",
     "grade": true,
     "grade_id": "cell-2c3bf4d9dcee662f",
     "locked": true,
     "points": 1,
     "schema_version": 3,
     "solution": false,
     "task": false
    }
   },
   "outputs": [
    {
     "name": "stdout",
     "output_type": "stream",
     "text": [
      "Test passed!\n",
      "\n",
      "1 out of 1\n"
     ]
    },
    {
     "data": {
      "text/plain": [
       "1"
      ]
     },
     "execution_count": 19,
     "metadata": {},
     "output_type": "execute_result"
    }
   ],
   "source": [
    "# 1 Mark\n",
    "# Do not try to delete this cell\n",
    "# Run this cell for grading\n",
    "_globals = globals()\n",
    "question1iib(_globals)"
   ]
  },
  {
   "cell_type": "markdown",
   "id": "retained-membership",
   "metadata": {
    "deletable": false,
    "editable": false,
    "nbgrader": {
     "cell_type": "markdown",
     "checksum": "57e34eccd62349a4a8de8af795d789bf",
     "grade": false,
     "grade_id": "cell-17bb7e7d49572063",
     "locked": true,
     "schema_version": 3,
     "solution": false,
     "task": false
    }
   },
   "source": [
    "(c) Using NumPy's `nditer` function in a comprehension, create a list `squares2` of the squares of the entries of `mat1`, where the iteration is column-by-colum; it should therefore begin\n",
    "\n",
    "```python\n",
    "[0.0, 1.0, 4.0, 1.0, 4.0, 9.0, ...\n",
    " ```"
   ]
  },
  {
   "cell_type": "code",
   "execution_count": 21,
   "id": "recognized-connectivity",
   "metadata": {
    "deletable": false,
    "nbgrader": {
     "cell_type": "code",
     "checksum": "99796019840332740da3466528a3987e",
     "grade": false,
     "grade_id": "cell-01f244a2a47a38b6",
     "locked": false,
     "schema_version": 3,
     "solution": true,
     "task": false
    }
   },
   "outputs": [
    {
     "name": "stdout",
     "output_type": "stream",
     "text": [
      "[0.0, 1.0, 4.0, 1.0, 4.0, 9.0, 4.0, 9.0, 16.0, 9.0, 16.0, 25.0]\n"
     ]
    }
   ],
   "source": [
    "squares2 = [x**2 for x in np.nditer(mat1, order = 'F')]\n",
    "\n",
    "print(squares2)"
   ]
  },
  {
   "cell_type": "code",
   "execution_count": 22,
   "id": "linear-cylinder",
   "metadata": {
    "deletable": false,
    "editable": false,
    "nbgrader": {
     "cell_type": "code",
     "checksum": "aba197d45d2b0e60ae81c6cbf66f2963",
     "grade": true,
     "grade_id": "cell-95c2e6ff666ce56d",
     "locked": true,
     "points": 1,
     "schema_version": 3,
     "solution": false,
     "task": false
    }
   },
   "outputs": [
    {
     "name": "stdout",
     "output_type": "stream",
     "text": [
      "Test passed!\n",
      "\n",
      "1 out of 1\n"
     ]
    },
    {
     "data": {
      "text/plain": [
       "1"
      ]
     },
     "execution_count": 22,
     "metadata": {},
     "output_type": "execute_result"
    }
   ],
   "source": [
    "# 1 Mark\n",
    "# Do not try to delete this cell\n",
    "# Run this cell for grading\n",
    "_globals = globals()\n",
    "question1iic(_globals)"
   ]
  },
  {
   "cell_type": "markdown",
   "id": "hispanic-suggestion",
   "metadata": {
    "deletable": false,
    "editable": false,
    "nbgrader": {
     "cell_type": "markdown",
     "checksum": "3a75f1198c8b82adfb3e979e473bb1ed",
     "grade": false,
     "grade_id": "cell-59bf83b6143b4995",
     "locked": true,
     "schema_version": 3,
     "solution": false,
     "task": false
    }
   },
   "source": [
    "(d) Using `fromfunction` with suitable lambda-expressions, create the 2d arrays `mat2`, `mat3` and `mat4`, respectively equal to\n",
    "\n",
    "$$\\left(\n",
    "\\begin{array}{rrrr}\n",
    "0.0&1.0&2.0&3.0\\\\\n",
    "1.0&0.0&1.0&2.0\\\\\n",
    "2.0&1.0&0.0&1.0\n",
    "\\end{array}\\right),\\left(\n",
    "\\begin{array}{rrrr}\n",
    "0.0&1.0&4.0&9.0\n",
    "\\end{array}\\right)\\mbox{ and }\\left(\n",
    "\\begin{array}{rrrr}\n",
    "0.0&1.0&4.0&9.0\\\\\n",
    "-1.0&0.0&3.0&8.0\\\\\n",
    "-4.0&-3.0&0.0&5.0\\\\\n",
    "-9.0&-8.0&-5.0&0.0\n",
    "\\end{array}\\right)$$"
   ]
  },
  {
   "cell_type": "code",
   "execution_count": 26,
   "id": "alternative-lawsuit",
   "metadata": {
    "deletable": false,
    "nbgrader": {
     "cell_type": "code",
     "checksum": "4a9dcf6d0ae0dd2ace9a7b823dcc7b0e",
     "grade": false,
     "grade_id": "cell-1565566b19f8ccde",
     "locked": false,
     "schema_version": 3,
     "solution": true,
     "task": false
    }
   },
   "outputs": [
    {
     "name": "stdout",
     "output_type": "stream",
     "text": [
      "[[0. 1. 2. 3.]\n",
      " [1. 0. 1. 2.]\n",
      " [2. 1. 0. 1.]]\n",
      "[[0. 1. 4. 9.]]\n",
      "[[ 0.  1.  4.  9.]\n",
      " [-1.  0.  3.  8.]\n",
      " [-4. -3.  0.  5.]\n",
      " [-9. -8. -5.  0.]]\n"
     ]
    }
   ],
   "source": [
    "mat2 = np.fromfunction(lambda i,j: abs(i - j), (3,4))\n",
    "\n",
    "mat3 = np.fromfunction(lambda i,j: (i + j) ** 2, (1,4))\n",
    "\n",
    "mat4 = np.fromfunction(lambda i,j: j ** 2 - i ** 2, (4,4))\n",
    "\n",
    "print(mat2)\n",
    "print(mat3)\n",
    "print(mat4)"
   ]
  },
  {
   "cell_type": "code",
   "execution_count": 27,
   "id": "mounted-radius",
   "metadata": {
    "deletable": false,
    "editable": false,
    "nbgrader": {
     "cell_type": "code",
     "checksum": "08ed23e021374756148d99dfae37c708",
     "grade": true,
     "grade_id": "cell-25147b5f92b638ed",
     "locked": true,
     "points": 3,
     "schema_version": 3,
     "solution": false,
     "task": false
    }
   },
   "outputs": [
    {
     "name": "stdout",
     "output_type": "stream",
     "text": [
      "mat2 is correct\n",
      "\n",
      "mat3 is correct\n",
      "\n",
      "mat4 is correct\n",
      "\n",
      "3 out of 3\n"
     ]
    },
    {
     "data": {
      "text/plain": [
       "3"
      ]
     },
     "execution_count": 27,
     "metadata": {},
     "output_type": "execute_result"
    }
   ],
   "source": [
    "# 3 Marks\n",
    "# Do not try to delete this cell\n",
    "# Run this cell for grading\n",
    "_globals = globals()\n",
    "question1iid(_globals)"
   ]
  },
  {
   "cell_type": "markdown",
   "id": "toxic-arkansas",
   "metadata": {
    "deletable": false,
    "editable": false,
    "nbgrader": {
     "cell_type": "markdown",
     "checksum": "0d82e051fd8ba8af89921a507268a6a8",
     "grade": false,
     "grade_id": "cell-c893f6562626b986",
     "locked": true,
     "schema_version": 3,
     "solution": false,
     "task": false
    }
   },
   "source": [
    "(e) Run the following code:"
   ]
  },
  {
   "cell_type": "code",
   "execution_count": 28,
   "id": "desirable-prime",
   "metadata": {
    "deletable": false,
    "editable": false,
    "nbgrader": {
     "cell_type": "code",
     "checksum": "fbbc3167f6ecf2faf1d67f5215cb963c",
     "grade": false,
     "grade_id": "cell-068b7d6c4b3c47f2",
     "locked": true,
     "schema_version": 3,
     "solution": false,
     "task": false
    }
   },
   "outputs": [
    {
     "name": "stdout",
     "output_type": "stream",
     "text": [
      "(0.0, 0.0, False)\n",
      "(1.0, 1.0, False)\n",
      "(2.0, 2.0, False)\n",
      "(3.0, 3.0, False)\n",
      "(1.0, 1.0, False)\n",
      "(2.0, 0.0, True)\n",
      "(3.0, 1.0, True)\n",
      "(4.0, 2.0, True)\n",
      "(2.0, 2.0, False)\n",
      "(3.0, 1.0, True)\n",
      "(4.0, 0.0, True)\n",
      "(5.0, 1.0, True)\n"
     ]
    }
   ],
   "source": [
    "for a, b in np.nditer((mat1, mat2)):\n",
    "    print((float(a), float(b), a > b))"
   ]
  },
  {
   "cell_type": "markdown",
   "id": "czech-circuit",
   "metadata": {
    "deletable": false,
    "editable": false,
    "nbgrader": {
     "cell_type": "markdown",
     "checksum": "d479619be4094805f754c90beb54a85e",
     "grade": false,
     "grade_id": "cell-fb5c6779556dd2ff",
     "locked": true,
     "schema_version": 3,
     "solution": false,
     "task": false
    }
   },
   "source": [
    "Then attempt it using `mat3` and `mat4` in place of `mat2`. Then choose which of the following statements is true:\n",
    "\n",
    "<ol>\n",
    "    <li>The <code>nditer</code> function allows you to iterate across two 2d arrays at the same time, but only if they're the same shape.</li>\n",
    "    <li>The <code>nditer</code> function allows you to iterate across two 2d arrays at the same time, but only if their shapes are such that you could, for example, add them.</li>\n",
    "    <li>The <code>nditer</code> function does not support iteration across two 2d arrays at the same time.</li>\n",
    "</ol>"
   ]
  },
  {
   "cell_type": "code",
   "execution_count": 29,
   "id": "starting-karma",
   "metadata": {
    "deletable": false,
    "nbgrader": {
     "cell_type": "code",
     "checksum": "abe3ed6339ea090f6df0da8a0ab04b78",
     "grade": false,
     "grade_id": "cell-f063e9d7858d8068",
     "locked": false,
     "schema_version": 3,
     "solution": true,
     "task": false
    }
   },
   "outputs": [],
   "source": [
    "\n",
    "\n",
    "question1iie_answer = 2"
   ]
  },
  {
   "cell_type": "code",
   "execution_count": 30,
   "id": "south-pearl",
   "metadata": {
    "deletable": false,
    "editable": false,
    "nbgrader": {
     "cell_type": "code",
     "checksum": "9f645f7f78b4917be46adef3d3e1d4b6",
     "grade": true,
     "grade_id": "cell-36049c0ab4bfb4d4",
     "locked": true,
     "points": 1,
     "schema_version": 3,
     "solution": false,
     "task": false
    }
   },
   "outputs": [
    {
     "name": "stdout",
     "output_type": "stream",
     "text": [
      "test case passed!\n"
     ]
    }
   ],
   "source": [
    "# 1 Mark\n",
    "assert(question1iie_answer == question1iie())\n",
    "print('test case passed!')"
   ]
  },
  {
   "cell_type": "markdown",
   "id": "better-myrtle",
   "metadata": {
    "deletable": false,
    "editable": false,
    "nbgrader": {
     "cell_type": "markdown",
     "checksum": "4e7a0e12eeea7c3f84bfbfa7aa5c40b7",
     "grade": false,
     "grade_id": "cell-fbf8771049b0604f",
     "locked": true,
     "schema_version": 3,
     "solution": false,
     "task": false
    }
   },
   "source": [
    "## Question 2\n",
    "\n",
    "(a) Write and test a function called `simpsons_rule1`. The function should take as its arguments:\n",
    "<ul>\n",
    "    <li>a function <code>func</code> from the reals to the reals;</li>\n",
    "    <li>a float, or int, <code>xmin</code>;</li>\n",
    "    <li>a float, or int, <code>xmax</code>;</li>\n",
    "    <li>a positive even int <code>n</code>, with default value 10.</li>\n",
    "</ul>\n",
    "\n",
    "It should then return an approximate value for the integral of <code>func(x)</code> with respect to <code>x</code> between <code>xmin</code> and <code>xmax</code>, obtained by using the Simpson's rule formula\n",
    "\n",
    "$$I \\approx \\frac{h}{3}\\,\\left(y_0 + 4\\,y_1 + 2\\,y_2 + \\dots + 2\\,y_{n-2}+4\\,y_{n-1} + y_n\\right),$$\n",
    "\n",
    "where $h$, the step size, is obtained by dividing the interval width by <code>n</code>.\n",
    "\n",
    "Your function should make no use of NumPy functionality, but should rely entirely either on loops, or on comprehensions, or both.\n",
    "\n",
    "Test your function: for example\n",
    "\n",
    "```python\n",
    "import math\n",
    "print(simpsons_rule1(math.sin, 0.0, math.pi/2))\n",
    "```\n",
    "should give something pretty close to 1.00000339."
   ]
  },
  {
   "cell_type": "code",
   "execution_count": 2,
   "id": "searching-contamination",
   "metadata": {
    "deletable": false,
    "nbgrader": {
     "cell_type": "code",
     "checksum": "5c942c65f13800ed97e851b016747a5d",
     "grade": false,
     "grade_id": "cell-e8165e838fb79f9b",
     "locked": false,
     "schema_version": 3,
     "solution": true,
     "task": false
    }
   },
   "outputs": [
    {
     "name": "stdout",
     "output_type": "stream",
     "text": [
      "1.0000033922209004\n"
     ]
    }
   ],
   "source": [
    "def simpsons_rule1(func, xmin, xmax, n=10):\n",
    "    import math\n",
    "    #docstring\n",
    "    h = (xmax - xmin) / n\n",
    "    x = [(xmin + h * r) for r in range(0, n+1)]\n",
    "    y = [func(r) for r in x]\n",
    "    I = y[0]\n",
    "    for r in range(1,n):\n",
    "        if r % 2 == 0:\n",
    "            I = I + 2 * y[r]\n",
    "        if r % 2 == 1:\n",
    "            I = I + 4 * y[r]\n",
    "    I = I + y[n]\n",
    "    return I * h /3\n",
    "import math\n",
    "print(simpsons_rule1(math.sin, 0, math.pi / 2))"
   ]
  },
  {
   "cell_type": "code",
   "execution_count": 3,
   "id": "italic-manchester",
   "metadata": {
    "deletable": false,
    "editable": false,
    "nbgrader": {
     "cell_type": "code",
     "checksum": "bdcf0b79466af9cba28bec04caf1708a",
     "grade": true,
     "grade_id": "cell-6d0e30c9d4358887",
     "locked": true,
     "points": 0,
     "schema_version": 3,
     "solution": false,
     "task": false
    }
   },
   "outputs": [
    {
     "name": "stdout",
     "output_type": "stream",
     "text": [
      "Test passed!\n"
     ]
    }
   ],
   "source": [
    "# No marks: function test\n",
    "\n",
    "try:\n",
    "    assert(np.isclose(simpsons_rule1(math.sin, 0, math.pi/2), 1.00000339))\n",
    "except:\n",
    "    print('Test failed!')\n",
    "else:\n",
    "    print('Test passed!')"
   ]
  },
  {
   "cell_type": "code",
   "execution_count": 4,
   "id": "outer-nightlife",
   "metadata": {
    "deletable": false,
    "editable": false,
    "nbgrader": {
     "cell_type": "code",
     "checksum": "406130cc85e2b3c9046e6dfcc6c8b3dc",
     "grade": true,
     "grade_id": "cell-c16ea2f873c5ba2b",
     "locked": true,
     "points": 4,
     "schema_version": 3,
     "solution": false,
     "task": false
    }
   },
   "outputs": [
    {
     "name": "stdout",
     "output_type": "stream",
     "text": [
      "Test with positional value of n passed!\n",
      "\n",
      "Test with keyword value of n passed!\n",
      "\n",
      "Test with default value of n passed!\n",
      "\n",
      "This function does not seem to have a docstring\n",
      "\n",
      "3 out of 4\n"
     ]
    },
    {
     "data": {
      "text/plain": [
       "3"
      ]
     },
     "execution_count": 4,
     "metadata": {},
     "output_type": "execute_result"
    }
   ],
   "source": [
    "# 4 Marks\n",
    "# Do not try to delete this cell\n",
    "# Run this cell for grading\n",
    "_globals = globals()\n",
    "question2a(_globals)"
   ]
  },
  {
   "cell_type": "markdown",
   "id": "miniature-flooring",
   "metadata": {
    "deletable": false,
    "editable": false,
    "nbgrader": {
     "cell_type": "markdown",
     "checksum": "9d417335f561317bf550b485212a74b6",
     "grade": false,
     "grade_id": "cell-c030ea1fdffc8b3c",
     "locked": true,
     "schema_version": 3,
     "solution": false,
     "task": false
    }
   },
   "source": [
    "(b) Write a function called <code>simpsons_rule2</code> that takes the same arguments and defaults as <code>simpsons_rule1</code>, and also returns the Simpson's rule approximation to the integral, but uses no loops or comprehensions. Instead, it should use NumPy arrays, vectorized operations and the `sum` function.\n",
    "\n",
    "Test your function: for example\n",
    "\n",
    "```python\n",
    "import numpy as np\n",
    "print(simpsons_rule2(np.sin, 0.0, np.pi/2))\n",
    "```\n",
    "should give something pretty close to 1.00000339."
   ]
  },
  {
   "cell_type": "code",
   "execution_count": 9,
   "id": "proof-english",
   "metadata": {
    "deletable": false,
    "nbgrader": {
     "cell_type": "code",
     "checksum": "6a4e2e89f45a18c128cc1c7ba254db75",
     "grade": false,
     "grade_id": "cell-89ec0c6ad2d8f9fa",
     "locked": false,
     "schema_version": 3,
     "solution": true,
     "task": false
    }
   },
   "outputs": [
    {
     "name": "stdout",
     "output_type": "stream",
     "text": [
      "[0.         0.15707963 0.31415927 0.4712389  0.62831853 0.78539816\n",
      " 0.9424778  1.09955743 1.25663706 1.41371669 1.57079633]\n",
      "[0.         0.15643447 0.30901699 0.4539905  0.58778525 0.70710678\n",
      " 0.80901699 0.89100652 0.95105652 0.98768834 1.        ]\n",
      "1.0000033922209004\n"
     ]
    }
   ],
   "source": [
    "def simpsons_rule2(func, xmin, xmax, n=10):\n",
    "    import numpy as np\n",
    "    h = (xmax - xmin) / n\n",
    "    x = np.linspace(xmin, xmax, n+1)\n",
    "    print(x)\n",
    "    y = func(x)\n",
    "    print(y)\n",
    "    I = y[0]\n",
    "    for r in range(1,n):\n",
    "        if r % 2 == 0:\n",
    "            I = I + 2 * y[r]\n",
    "        if r % 2 == 1:\n",
    "            I = I + 4 * y[r]\n",
    "    I = I + y[n]\n",
    "    return I * h /3\n",
    "import numpy as np\n",
    "print(simpsons_rule2(np.sin, 0.0, np.pi/2))"
   ]
  },
  {
   "cell_type": "code",
   "execution_count": 10,
   "id": "photographic-librarian",
   "metadata": {
    "deletable": false,
    "editable": false,
    "nbgrader": {
     "cell_type": "code",
     "checksum": "2c4f57bdcb44edc37e2fb52711dbf7ba",
     "grade": true,
     "grade_id": "cell-9019ca6df0e41e56",
     "locked": true,
     "points": 0,
     "schema_version": 3,
     "solution": false,
     "task": false
    }
   },
   "outputs": [
    {
     "name": "stdout",
     "output_type": "stream",
     "text": [
      "[0.         0.15707963 0.31415927 0.4712389  0.62831853 0.78539816\n",
      " 0.9424778  1.09955743 1.25663706 1.41371669 1.57079633]\n",
      "[0.         0.15643447 0.30901699 0.4539905  0.58778525 0.70710678\n",
      " 0.80901699 0.89100652 0.95105652 0.98768834 1.        ]\n",
      "Test passed!\n"
     ]
    }
   ],
   "source": [
    "# No marks: function test\n",
    "\n",
    "try:\n",
    "    assert(np.isclose(simpsons_rule2(np.sin, 0, np.pi/2), 1.00000339))\n",
    "except:\n",
    "    print('Test failed!')\n",
    "else:\n",
    "    print('Test passed!')"
   ]
  },
  {
   "cell_type": "code",
   "execution_count": 11,
   "id": "dramatic-visit",
   "metadata": {
    "deletable": false,
    "editable": false,
    "nbgrader": {
     "cell_type": "code",
     "checksum": "6636880182d45ee2d86b20187a5c1b5f",
     "grade": true,
     "grade_id": "cell-8064ad50498daec1",
     "locked": true,
     "points": 4,
     "schema_version": 3,
     "solution": false,
     "task": false
    }
   },
   "outputs": [
    {
     "name": "stdout",
     "output_type": "stream",
     "text": [
      "[0.         0.07853982 0.15707963 0.23561945 0.31415927 0.39269908\n",
      " 0.4712389  0.54977871 0.62831853 0.70685835 0.78539816 0.86393798\n",
      " 0.9424778  1.02101761 1.09955743 1.17809725 1.25663706 1.33517688\n",
      " 1.41371669 1.49225651 1.57079633]\n",
      "[0.         0.0784591  0.15643447 0.23344536 0.30901699 0.38268343\n",
      " 0.4539905  0.52249856 0.58778525 0.64944805 0.70710678 0.76040597\n",
      " 0.80901699 0.85264016 0.89100652 0.92387953 0.95105652 0.97236992\n",
      " 0.98768834 0.99691733 1.        ]\n",
      "Test with positional value of n passed!\n",
      "\n",
      "[0.         0.09817477 0.19634954 0.29452431 0.39269908 0.49087385\n",
      " 0.58904862 0.68722339 0.78539816 0.88357293 0.9817477  1.07992247\n",
      " 1.17809725 1.27627202 1.37444679 1.47262156 1.57079633]\n",
      "[0.         0.09801714 0.19509032 0.29028468 0.38268343 0.47139674\n",
      " 0.55557023 0.63439328 0.70710678 0.77301045 0.83146961 0.88192126\n",
      " 0.92387953 0.95694034 0.98078528 0.99518473 1.        ]\n",
      "Test with keyword value of n passed!\n",
      "\n",
      "[0.         0.15707963 0.31415927 0.4712389  0.62831853 0.78539816\n",
      " 0.9424778  1.09955743 1.25663706 1.41371669 1.57079633]\n",
      "[0.         0.15643447 0.30901699 0.4539905  0.58778525 0.70710678\n",
      " 0.80901699 0.89100652 0.95105652 0.98768834 1.        ]\n",
      "Test with default value of n passed!\n",
      "\n",
      "This function does not seem to have a docstring\n",
      "\n",
      "3 out of 4\n"
     ]
    },
    {
     "data": {
      "text/plain": [
       "3"
      ]
     },
     "execution_count": 11,
     "metadata": {},
     "output_type": "execute_result"
    }
   ],
   "source": [
    "# 4 Marks\n",
    "# Do not try to delete this cell\n",
    "# Run this cell for grading\n",
    "_globals = globals()\n",
    "question2b(_globals)"
   ]
  },
  {
   "cell_type": "markdown",
   "id": "duplicate-pleasure",
   "metadata": {
    "deletable": false,
    "editable": false,
    "nbgrader": {
     "cell_type": "markdown",
     "checksum": "e7f010ebba52fbf9f9023774f643753b",
     "grade": false,
     "grade_id": "cell-1a9c179800b3dba8",
     "locked": true,
     "schema_version": 3,
     "solution": false,
     "task": false
    }
   },
   "source": [
    "(c) Suppose\n",
    "\n",
    "```python\n",
    "f = lambda x: x**5 - x**4\n",
    "```\n",
    "\n",
    "Which of the following statements is true?\n",
    "\n",
    "<ol>\n",
    "    <li>Both of my Simpson's Rule functions work if <code>f</code> is a lambda-expression like this.</li>\n",
    "    <li>Only the first version, based on loops or comprehensions, works if <code>f</code> is a lambda-expression like this.</li>\n",
    "    <li>Only the second version, based on vectorization, works if <code>f</code> is a lambda-expression like this.</li>    \n",
    "    <li>Neither of my Simpson's Rule functions work if <code>f</code> is a lambda-expression like this.</li>\n",
    "</ol>"
   ]
  },
  {
   "cell_type": "code",
   "execution_count": 73,
   "id": "median-barbados",
   "metadata": {
    "deletable": false,
    "nbgrader": {
     "cell_type": "code",
     "checksum": "31932e699b20d34e6623f36b33be9f06",
     "grade": false,
     "grade_id": "cell-f26754aa5f6764b1",
     "locked": false,
     "schema_version": 3,
     "solution": true,
     "task": false
    }
   },
   "outputs": [],
   "source": [
    "\n",
    "\n",
    "question2c_answer = 1"
   ]
  },
  {
   "cell_type": "code",
   "execution_count": 74,
   "id": "clear-soundtrack",
   "metadata": {
    "deletable": false,
    "editable": false,
    "nbgrader": {
     "cell_type": "code",
     "checksum": "a5d00d3cfe1d1ee26493176942a45b58",
     "grade": true,
     "grade_id": "cell-20f9a47628789e74",
     "locked": true,
     "points": 1,
     "schema_version": 3,
     "solution": false,
     "task": false
    }
   },
   "outputs": [
    {
     "name": "stdout",
     "output_type": "stream",
     "text": [
      "test case passed!\n"
     ]
    }
   ],
   "source": [
    "# 1 Mark\n",
    "assert(question2c_answer == question2c())\n",
    "print('test case passed!')"
   ]
  },
  {
   "cell_type": "markdown",
   "id": "elementary-rugby",
   "metadata": {
    "deletable": false,
    "editable": false,
    "nbgrader": {
     "cell_type": "markdown",
     "checksum": "f90b1258c3e77aeb732ba6db40692776",
     "grade": false,
     "grade_id": "cell-7f7cfc4307920b54",
     "locked": true,
     "schema_version": 3,
     "solution": false,
     "task": false
    }
   },
   "source": [
    "(d) Suppose\n",
    "\n",
    "```python\n",
    "f = math.sin\n",
    "```\n",
    "\n",
    "Which of the following statements is true?\n",
    "\n",
    "<ol>\n",
    "    <li>Both of my Simpson's Rule functions work if <code>f</code> is a <code>math</code> function like this.</li>\n",
    "    <li>Only the first version, based on loops or comprehensions, works if <code>f</code> is a <code>math</code> function like this.</li>\n",
    "    <li>Only the second version, based on vectorization, works if <code>f</code> is a <code>math</code> function like this.</li>    \n",
    "    <li>Neither of my Simpson's Rule functions work if <code>f</code> is a <code>math</code> function like this.</li>\n",
    "</ol>"
   ]
  },
  {
   "cell_type": "code",
   "execution_count": 77,
   "id": "automatic-browse",
   "metadata": {
    "deletable": false,
    "nbgrader": {
     "cell_type": "code",
     "checksum": "7151f7fe938f87bade7b5cf0239d0054",
     "grade": false,
     "grade_id": "cell-6e70447cf4a24ab7",
     "locked": false,
     "schema_version": 3,
     "solution": true,
     "task": false
    }
   },
   "outputs": [],
   "source": [
    "\n",
    "\n",
    "question2d_answer = 2"
   ]
  },
  {
   "cell_type": "code",
   "execution_count": 78,
   "id": "light-therapist",
   "metadata": {
    "deletable": false,
    "editable": false,
    "nbgrader": {
     "cell_type": "code",
     "checksum": "8b1936d6597b32f77c542268eff56d09",
     "grade": true,
     "grade_id": "cell-2d53b14c84cacf50",
     "locked": true,
     "points": 1,
     "schema_version": 3,
     "solution": false,
     "task": false
    }
   },
   "outputs": [
    {
     "name": "stdout",
     "output_type": "stream",
     "text": [
      "test case passed!\n"
     ]
    }
   ],
   "source": [
    "# 1 Mark\n",
    "assert(question2d_answer == question2d())\n",
    "print('test case passed!')"
   ]
  },
  {
   "cell_type": "markdown",
   "id": "vital-jurisdiction",
   "metadata": {
    "deletable": false,
    "editable": false,
    "nbgrader": {
     "cell_type": "markdown",
     "checksum": "eccd7a75519a28ff77d08a6a8bc7432e",
     "grade": false,
     "grade_id": "cell-9ca0d6004a391634",
     "locked": true,
     "schema_version": 3,
     "solution": false,
     "task": false
    }
   },
   "source": [
    "(e) Suppose\n",
    "\n",
    "```python\n",
    "f = np.sin\n",
    "```\n",
    "\n",
    "Which of the following statements is true?\n",
    "\n",
    "<ol>\n",
    "    <li>Both of my Simpson's Rule functions work if <code>f</code> is a NumPy function like this.</li>\n",
    "    <li>Only the first version, based on loops or comprehensions, works if <code>f</code> is a NumPy function like this.</li>\n",
    "    <li>Only the second version, based on vectorization, works if <code>f</code> is a NumPy function like this.</li>    \n",
    "    <li>Neither of my Simpson's Rule functions work if <code>f</code> is a NumPy function like this.</li>\n",
    "</ol>"
   ]
  },
  {
   "cell_type": "code",
   "execution_count": 81,
   "id": "trying-private",
   "metadata": {
    "deletable": false,
    "nbgrader": {
     "cell_type": "code",
     "checksum": "3885765071480d2eb68b73bbd9897da5",
     "grade": false,
     "grade_id": "cell-ff823037ad2d47a5",
     "locked": false,
     "schema_version": 3,
     "solution": true,
     "task": false
    }
   },
   "outputs": [],
   "source": [
    "\n",
    "\n",
    "question2e_answer = 1"
   ]
  },
  {
   "cell_type": "code",
   "execution_count": 82,
   "id": "sized-overall",
   "metadata": {
    "deletable": false,
    "editable": false,
    "nbgrader": {
     "cell_type": "code",
     "checksum": "1e63f7ec6f4e5db7ec57f2c4487694f0",
     "grade": true,
     "grade_id": "cell-2448503a027accb7",
     "locked": true,
     "points": 1,
     "schema_version": 3,
     "solution": false,
     "task": false
    }
   },
   "outputs": [
    {
     "name": "stdout",
     "output_type": "stream",
     "text": [
      "test case passed!\n"
     ]
    }
   ],
   "source": [
    "# 1 Mark\n",
    "assert(question2e_answer == question2e())\n",
    "print('test case passed!')"
   ]
  },
  {
   "cell_type": "markdown",
   "id": "diagnostic-brook",
   "metadata": {
    "deletable": false,
    "editable": false,
    "nbgrader": {
     "cell_type": "markdown",
     "checksum": "c822d6e1f8adc92299efaea5177ad9a6",
     "grade": false,
     "grade_id": "cell-03022bb356226386",
     "locked": true,
     "schema_version": 3,
     "solution": false,
     "task": false
    }
   },
   "source": [
    "(f) Use both your functions to calculate an estimate for\n",
    "$$\\int_0^{\\pi/2}\\sin x\\,dx$$\n",
    "using `n = 5000000` (this is actually a silly thing to do, since rounding error soon mounts up and overwhelms any gains from using more sub-intervals).\n",
    "\n",
    "Use the `time` function from the `time` module to time both operations.\n",
    "\n",
    "Which of the following statements is true?\n",
    "<ol>\n",
    "    <li>Each of my Simpson's Rule functions executes in a similar time for large <code>n</code>.</li>\n",
    "    <li>The first version, based on loops or comprehensions, executes in a shorter time for large <code>n</code>.</li>\n",
    "    <li>The second version, based on vectorization, executes in a shorter time for large <code>n</code>.</li>\n",
    "</ol>"
   ]
  },
  {
   "cell_type": "code",
   "execution_count": 83,
   "id": "beneficial-concrete",
   "metadata": {
    "deletable": false,
    "nbgrader": {
     "cell_type": "code",
     "checksum": "5c52273c8da5a5e9bf280c893ed7260d",
     "grade": false,
     "grade_id": "cell-8abba501a3d58d61",
     "locked": false,
     "schema_version": 3,
     "solution": true,
     "task": false
    }
   },
   "outputs": [],
   "source": [
    "\n",
    "\n",
    "question2f_answer = 3"
   ]
  },
  {
   "cell_type": "code",
   "execution_count": 84,
   "id": "vital-agriculture",
   "metadata": {
    "deletable": false,
    "editable": false,
    "nbgrader": {
     "cell_type": "code",
     "checksum": "955c04024e27e2b331d5bea256a11519",
     "grade": true,
     "grade_id": "cell-2f2acae932361545",
     "locked": true,
     "points": 1,
     "schema_version": 3,
     "solution": false,
     "task": false
    }
   },
   "outputs": [
    {
     "name": "stdout",
     "output_type": "stream",
     "text": [
      "test case passed!\n"
     ]
    }
   ],
   "source": [
    "# 1 Mark\n",
    "assert(question2f_answer == question2f())\n",
    "print('test case passed!')"
   ]
  },
  {
   "cell_type": "markdown",
   "id": "operational-emphasis",
   "metadata": {
    "deletable": false,
    "editable": false,
    "nbgrader": {
     "cell_type": "markdown",
     "checksum": "9af958ee3ad95ff1af469687f45ac3da",
     "grade": false,
     "grade_id": "cell-d5f550638e3e4621",
     "locked": true,
     "schema_version": 3,
     "solution": false,
     "task": false
    }
   },
   "source": [
    "## Question 3\n",
    "\n",
    "The <b>Arnol'd sine map</b> is a discrete-time dynamical model for the behaviour of certain types of nonlinear oscillator. It takes the form of a function of a variable $\\theta$:\n",
    "\n",
    "$$f_{\\Omega, K}(\\theta) = \\theta + \\Omega - \\frac{K}{2\\,\\pi}\\,\\sin(2\\,\\pi\\,\\theta).$$"
   ]
  },
  {
   "cell_type": "markdown",
   "id": "inside-theater",
   "metadata": {
    "deletable": false,
    "editable": false,
    "nbgrader": {
     "cell_type": "markdown",
     "checksum": "edebe0b60e2868dc77da54d67c42d739",
     "grade": false,
     "grade_id": "cell-39628829fa744f6e",
     "locked": true,
     "schema_version": 3,
     "solution": false,
     "task": false
    }
   },
   "source": [
    "(a) Write and test two versions of an Arnol'd sine map function, called `sine_map1` and `sine_map2`. Each should take as its arguments three floats, standing for values of $\\Omega$, $K$ and $\\theta$, and return a single float equal to $f_{\\Omega,K}(\\theta).$ The first should use only functions and constants from the `math` module, and the second only functions and constants from NumPy. \n",
    "\n",
    "Good values for $\\Omega$, $K$ and $\\theta$ are $0.3$, $1.0$ and $0.3$ respectively."
   ]
  },
  {
   "cell_type": "code",
   "execution_count": 12,
   "id": "specialized-blake",
   "metadata": {
    "deletable": false,
    "nbgrader": {
     "cell_type": "code",
     "checksum": "136a5ecc26d9e6c1dff477359f7ac20f",
     "grade": false,
     "grade_id": "cell-e4b4f219fda0a2da",
     "locked": false,
     "schema_version": 3,
     "solution": true,
     "task": false
    }
   },
   "outputs": [],
   "source": [
    "def sine_map1(omega = 0.3, k = 1, theta = 0.3):\n",
    "    import math\n",
    "    f = theta + omega - (k / (2 * math.pi)) * math.sin(2 * math.pi * theta)\n",
    "    return f\n",
    "\n",
    "def sine_map2(omega = 0.3, k = 1, theta = 0.3):\n",
    "    import numpy as np\n",
    "    f = theta + omega - (k / (2 * np.pi)) * np.sin(2 * np.pi * theta)\n",
    "    return f"
   ]
  },
  {
   "cell_type": "code",
   "execution_count": 13,
   "id": "attempted-morrison",
   "metadata": {
    "deletable": false,
    "editable": false,
    "nbgrader": {
     "cell_type": "code",
     "checksum": "f070a2f3618166f9a1f8fed3a3b5b708",
     "grade": true,
     "grade_id": "cell-58a1559519a47dc2",
     "locked": true,
     "points": 0,
     "schema_version": 3,
     "solution": false,
     "task": false
    }
   },
   "outputs": [
    {
     "name": "stdout",
     "output_type": "stream",
     "text": [
      "Test passed!\n"
     ]
    }
   ],
   "source": [
    "# No marks: test cell\n",
    "\n",
    "try:\n",
    "    assert(np.isclose(sine_map1(0.3, 1.0, 0.3), 0.6 - 1.0/(2*np.pi) * np.sin(2*np.pi*0.3)))\n",
    "    assert(np.isclose(sine_map2(0.3, 1.0, 0.3), 0.6 - 1.0/(2*np.pi) * np.sin(2*np.pi*0.3)))\n",
    "except:\n",
    "    print('Test failed!')\n",
    "else:\n",
    "    print('Test passed!')"
   ]
  },
  {
   "cell_type": "code",
   "execution_count": 14,
   "id": "looking-roommate",
   "metadata": {
    "deletable": false,
    "editable": false,
    "nbgrader": {
     "cell_type": "code",
     "checksum": "9519cdfa85d24eae5ccea2243647c70f",
     "grade": true,
     "grade_id": "cell-7787ad54e7eb6eec",
     "locked": true,
     "points": 2,
     "schema_version": 3,
     "solution": false,
     "task": false
    }
   },
   "outputs": [
    {
     "name": "stdout",
     "output_type": "stream",
     "text": [
      "Test of sine_map1 passed!\n",
      "\n",
      "Test of sine_map2 passed!\n",
      "\n",
      "2 out of 2\n"
     ]
    },
    {
     "data": {
      "text/plain": [
       "2"
      ]
     },
     "execution_count": 14,
     "metadata": {},
     "output_type": "execute_result"
    }
   ],
   "source": [
    "# 2 Marks\n",
    "# Do not try to delete this cell\n",
    "# Run this cell for grading\n",
    "_globals = globals()\n",
    "question3a(_globals)"
   ]
  },
  {
   "cell_type": "markdown",
   "id": "biological-absence",
   "metadata": {
    "deletable": false,
    "editable": false,
    "nbgrader": {
     "cell_type": "markdown",
     "checksum": "4f9154ed6f38f8cb9c543eff076f36cc",
     "grade": false,
     "grade_id": "cell-1a3fdc0df5a5e562",
     "locked": true,
     "schema_version": 3,
     "solution": false,
     "task": false
    }
   },
   "source": [
    "(b) Which of the following statements is true:\n",
    "\n",
    "<ol>\n",
    "    <li>If $K$ and $\\theta$ are floats, and $\\Omega$ is a one-dimensional NumPy array, both of my sine map functions work.</li>\n",
    "    <li>If $K$ and $\\theta$ are floats, and $\\Omega$ is a one-dimensional NumPy array, only the first version, based on <code>math</code> functions, works.</li>\n",
    "    <li>If $K$ and $\\theta$ are floats, and $\\Omega$ is a one-dimensional NumPy array, only the second version, based on NumPy functions, works.</li>\n",
    "    <li>If $K$ and $\\theta$ are floats, and $\\Omega$ is a one-dimensional NumPy array, neither of my sine map functions works.</li>\n",
    "</ol>"
   ]
  },
  {
   "cell_type": "code",
   "execution_count": 18,
   "id": "cloudy-request",
   "metadata": {
    "deletable": false,
    "nbgrader": {
     "cell_type": "code",
     "checksum": "ae9579a918f969d3e703988429311b92",
     "grade": false,
     "grade_id": "cell-04074d9bc4c731ad",
     "locked": false,
     "schema_version": 3,
     "solution": true,
     "task": false
    }
   },
   "outputs": [],
   "source": [
    "\n",
    "\n",
    "question3b_answer = 1"
   ]
  },
  {
   "cell_type": "code",
   "execution_count": 19,
   "id": "handed-investigator",
   "metadata": {
    "deletable": false,
    "editable": false,
    "nbgrader": {
     "cell_type": "code",
     "checksum": "a1a3496401eea49d69bab6db465cd5e7",
     "grade": true,
     "grade_id": "cell-1c92c32f1c423af9",
     "locked": true,
     "points": 1,
     "schema_version": 3,
     "solution": false,
     "task": false
    }
   },
   "outputs": [
    {
     "name": "stdout",
     "output_type": "stream",
     "text": [
      "test case passed!\n"
     ]
    }
   ],
   "source": [
    "# 1 Mark\n",
    "assert(question3b_answer == question3b())\n",
    "print('test case passed!')"
   ]
  },
  {
   "cell_type": "markdown",
   "id": "intimate-performer",
   "metadata": {
    "deletable": false,
    "editable": false,
    "nbgrader": {
     "cell_type": "markdown",
     "checksum": "b0714c0fef730554c8e04c6f495d8ceb",
     "grade": false,
     "grade_id": "cell-3b1935f0363e1e0f",
     "locked": true,
     "schema_version": 3,
     "solution": false,
     "task": false
    }
   },
   "source": [
    "(c) Which of the following statements is true:\n",
    "\n",
    "<ol>\n",
    "    <li>If $\\Omega$ and $K$ are floats, and $\\theta$ is a one-dimensional NumPy array, both of my sine map functions work.</li>\n",
    "    <li>If $\\Omega$ and $K$ are floats, and $\\theta$ is a one-dimensional NumPy array, only the first version, based on <code>math</code> functions, works.</li>\n",
    "    <li>If $\\Omega$ and $K$ are floats, and $\\theta$ is a one-dimensional NumPy array, only the second version, based on NumPy functions, works.</li>\n",
    "    <li>If $\\Omega$ and $K$ are floats, and $\\theta$ is a one-dimensional NumPy array, neither of my sine map functions works.</li>\n",
    "</ol>"
   ]
  },
  {
   "cell_type": "code",
   "execution_count": 22,
   "id": "younger-disabled",
   "metadata": {
    "deletable": false,
    "nbgrader": {
     "cell_type": "code",
     "checksum": "626d0e7ebd3a9a57e598dd6117f76ef2",
     "grade": false,
     "grade_id": "cell-ec549d0d6d9d6ab7",
     "locked": false,
     "schema_version": 3,
     "solution": true,
     "task": false
    }
   },
   "outputs": [],
   "source": [
    "\n",
    "\n",
    "question3c_answer = 3"
   ]
  },
  {
   "cell_type": "code",
   "execution_count": 23,
   "id": "varying-nicaragua",
   "metadata": {
    "deletable": false,
    "editable": false,
    "nbgrader": {
     "cell_type": "code",
     "checksum": "e9978e9db14a3d177a011e52d08053f2",
     "grade": true,
     "grade_id": "cell-bdae71a6aa59ad6d",
     "locked": true,
     "points": 1,
     "schema_version": 3,
     "solution": false,
     "task": false
    }
   },
   "outputs": [
    {
     "name": "stdout",
     "output_type": "stream",
     "text": [
      "test case passed!\n"
     ]
    }
   ],
   "source": [
    "# 1 Mark\n",
    "assert(question3c_answer == question3c())\n",
    "print('test case passed!')"
   ]
  },
  {
   "cell_type": "markdown",
   "id": "weighted-breast",
   "metadata": {
    "deletable": false,
    "editable": false,
    "nbgrader": {
     "cell_type": "markdown",
     "checksum": "c5f684700196887e40f53eb79d71bb5b",
     "grade": false,
     "grade_id": "cell-298465893c6199b1",
     "locked": true,
     "schema_version": 3,
     "solution": false,
     "task": false
    }
   },
   "source": [
    "(d) The <b>rotation number</b> of the Arnol'd sine map, $\\omega_{\\Omega, K}(\\theta_0)$, can be defined to be\n",
    "$$\\lim_{n\\to\\infty}\\frac{\\theta_n-\\theta_0}{n},$$\n",
    "where $\\theta_0, \\theta_1, \\dots, \\theta_n$ are successive iterates of the sine map. An estimate for the rotation number can be obtained using the formula\n",
    "$$\\frac{\\theta_N-\\theta}{N},$$\n",
    "where $N$ is a large positive integer (sometimes quite a large value is necessary for a good approximation).\n",
    "\n",
    "Under suitable conditions, the rotation number can be shown to be independent of $\\theta_0$.\n",
    "\n",
    "Write and test functions called `rotation_number1` and `rotation_number2`. Each should take as its argument values of $\\Omega$, $K$ and $\\theta_0$, and a positive integer value of $N$, which should by default be 10000. Each should return a value of \n",
    "$$\\frac{\\theta_N-\\theta}{N}.$$\n",
    "The first should call only your `sine_map1` function, and the second only your `sine_map2` function."
   ]
  },
  {
   "cell_type": "code",
   "execution_count": 36,
   "id": "digital-estate",
   "metadata": {
    "deletable": false,
    "nbgrader": {
     "cell_type": "code",
     "checksum": "d6f2d85d6f4226fc782c99d4bd02cb38",
     "grade": false,
     "grade_id": "cell-9a9c8a3ed39b96d8",
     "locked": false,
     "schema_version": 3,
     "solution": true,
     "task": false
    }
   },
   "outputs": [],
   "source": [
    "def rotation_number1(omega = 0.3, k = 1, theta0 = 0.3, N = 10000):\n",
    "    the = theta0\n",
    "    for r in range(N):\n",
    "        the = sine_map1(omega, k, the)\n",
    "    return (the - theta0) / N\n",
    "\n",
    "def rotation_number2(omega = 0.3, k = 1, theta0 = 0.3, N = 10000):\n",
    "    the = theta0\n",
    "    for r in range(N):\n",
    "        the = sine_map2(omega, k, the)\n",
    "    return (the - theta0) / N"
   ]
  },
  {
   "cell_type": "code",
   "execution_count": 37,
   "id": "devoted-equipment",
   "metadata": {
    "deletable": false,
    "editable": false,
    "nbgrader": {
     "cell_type": "code",
     "checksum": "e6c4309650df2c589202d5cef243156d",
     "grade": true,
     "grade_id": "cell-5db8aebad3b0b18a",
     "locked": true,
     "points": 8,
     "schema_version": 3,
     "solution": false,
     "task": false
    }
   },
   "outputs": [
    {
     "name": "stdout",
     "output_type": "stream",
     "text": [
      "Test of rotation_number1 with positional value of N passed!\n",
      "\n",
      "Test of rotation_number1 with keyword value of N passed!\n",
      "\n",
      "Test of rotation_number1 with default value of N passed!\n",
      "\n",
      "The function rotation_number1 does not seem to have a docstring\n",
      "\n",
      "Test of rotation_number2 with positional value of N passed!\n",
      "\n",
      "Test of rotation_number2 with keyword value of N passed!\n",
      "\n",
      "Test of rotation_number2 with default value of N passed!\n",
      "\n",
      "The function rotation_number2 does not seem to have a docstring\n",
      "\n",
      "6 out of 8\n"
     ]
    },
    {
     "data": {
      "text/plain": [
       "6"
      ]
     },
     "execution_count": 37,
     "metadata": {},
     "output_type": "execute_result"
    }
   ],
   "source": [
    "# 8 Marks\n",
    "# Do not try to delete this cell\n",
    "# Run this cell for grading\n",
    "_globals = globals()\n",
    "question3d(_globals)"
   ]
  },
  {
   "cell_type": "markdown",
   "id": "unnecessary-rebecca",
   "metadata": {
    "deletable": false,
    "editable": false,
    "nbgrader": {
     "cell_type": "markdown",
     "checksum": "c0c5aa280975ced6528c575e424a0216",
     "grade": false,
     "grade_id": "cell-06952eda20e38547",
     "locked": true,
     "schema_version": 3,
     "solution": false,
     "task": false
    }
   },
   "source": [
    "Your second function should work if $K$ and $\\theta$ are floats, $N$ is a positive int, and $\\Omega$ is a one-dimensional NumPy array. \n",
    "\n",
    "Your first function <em>may</em> work in those circumstances, or it may not; this depends on exactly how you've implemented it. (It won't need to, so if it doesn't, don't worry; Phil's doesn't!)\n",
    "\n",
    "The second function should also work if $\\Omega$ and $K$ are floats, $N$ is a positive int, and $\\theta$ is a one-dimensional NumPy array, but the first is unlikely to.\n",
    "\n",
    "You might want to check these things!"
   ]
  },
  {
   "cell_type": "markdown",
   "id": "included-destruction",
   "metadata": {
    "deletable": false,
    "editable": false,
    "nbgrader": {
     "cell_type": "markdown",
     "checksum": "8f78adb879691c9c98e7eb5dd035f85e",
     "grade": false,
     "grade_id": "cell-870a3c4c7de5a498",
     "locked": true,
     "schema_version": 3,
     "solution": false,
     "task": false
    }
   },
   "source": [
    "For a suitable value of $K$ such as $1$, the plot of the rotation number of the sine map against $\\Omega$ is fascinating mathematically. It's an example of a so-called <b>Devil's staircase</b>, which is continuous everywhere, and differentiable with gradient zero <em>almost</em> everywhere (in a certain precise sense), and yet increases from 0 to 1 over the unit interval.\n",
    "\n",
    "(e) Write test a function called `rotation_number_list`. It should take as its arguments\n",
    "<ul>\n",
    "    <li>A list of values of $\\Omega$, <code>omega_list</code>.</li>\n",
    "    <li>Floats representing the values of $K$ and $\\theta_0$.</li>\n",
    "    <li>A positive int, $N$, by default equal to 10000.</li>\n",
    "</ul>\n",
    "\n",
    "It should then use your `rotation_number1` function in a suitable loop or comprehension, and return a list consisting of estimates for $\\omega_{\\Omega,K}(\\theta_0)$ for each value of $\\Omega$ in `omega_list`. It should make no use at all of NumPy functionality.\n",
    "\n",
    "In your tests, use fairly short lists of $\\Omega$-values and fairly small values of $N$."
   ]
  },
  {
   "cell_type": "code",
   "execution_count": null,
   "id": "requested-humidity",
   "metadata": {
    "deletable": false,
    "nbgrader": {
     "cell_type": "code",
     "checksum": "b766aab9dfb50bc15fd62888cd768912",
     "grade": false,
     "grade_id": "cell-155fce44558c929a",
     "locked": false,
     "schema_version": 3,
     "solution": true,
     "task": false
    }
   },
   "outputs": [],
   "source": [
    "# YOUR CODE HERE\n",
    "raise NotImplementedError()"
   ]
  },
  {
   "cell_type": "code",
   "execution_count": null,
   "id": "wrapped-maldives",
   "metadata": {
    "deletable": false,
    "editable": false,
    "nbgrader": {
     "cell_type": "code",
     "checksum": "606d75d6ecfd731e2d62e6d845521e8a",
     "grade": true,
     "grade_id": "cell-b358d3a0bb82a9eb",
     "locked": true,
     "points": 3,
     "schema_version": 3,
     "solution": false,
     "task": false
    }
   },
   "outputs": [],
   "source": [
    "# 3 Marks\n",
    "# Do not try to delete this cell\n",
    "# Run this cell for grading\n",
    "_globals = globals()\n",
    "question3e(_globals)"
   ]
  },
  {
   "cell_type": "markdown",
   "id": "positive-shock",
   "metadata": {
    "deletable": false,
    "editable": false,
    "nbgrader": {
     "cell_type": "markdown",
     "checksum": "99277015efcbca3a2c71b184cbd15a9f",
     "grade": false,
     "grade_id": "cell-a7699756718f5bdb",
     "locked": true,
     "schema_version": 3,
     "solution": false,
     "task": false
    }
   },
   "source": [
    "(f) Use your `rotation_number_list` function to create a plot of estimated rotation number against $\\Omega$ for \n",
    "$$\\Omega = 0.00, 0.01, 0.02, \\dots , 1.00;$$\n",
    "use $K=1$, $\\theta_0=0.3$ and $N=1000$. Autograding won't be able to help!\n",
    "\n",
    "<b>Note:</b> you may want to enlarge your diagram by including the line\n",
    "```python\n",
    "plt.figure(figsize=(10,10))\n",
    "```\n",
    "before `plt.plot(...`"
   ]
  },
  {
   "cell_type": "code",
   "execution_count": null,
   "id": "mobile-token",
   "metadata": {
    "deletable": false,
    "nbgrader": {
     "cell_type": "code",
     "checksum": "11dec5b63b393f9ab08dd2431aeeb354",
     "grade": false,
     "grade_id": "cell-6ad73ad008cb9314",
     "locked": false,
     "schema_version": 3,
     "solution": true,
     "task": false
    }
   },
   "outputs": [],
   "source": [
    "# YOUR CODE HERE\n",
    "raise NotImplementedError()"
   ]
  },
  {
   "cell_type": "markdown",
   "id": "previous-cookbook",
   "metadata": {
    "deletable": false,
    "editable": false,
    "nbgrader": {
     "cell_type": "markdown",
     "checksum": "2f39cf474bdd85e003a6887d416625f3",
     "grade": false,
     "grade_id": "cell-072e0c8e1429e6ef",
     "locked": true,
     "schema_version": 3,
     "solution": false,
     "task": false
    }
   },
   "source": [
    "(g) Directly use your `rotation_number2` function, which should work fine on 1D NumPy arrays of $\\Omega$-values, to create a plot of estimated rotation number against $\\Omega$ for \n",
    "$$\\Omega = 0.00, 0.01, 0.02, \\dots , 1.00;$$\n",
    "use $K=1$, $\\theta_0=0.3$ and $N=1000$. Again, autograding won't be able to help!"
   ]
  },
  {
   "cell_type": "code",
   "execution_count": null,
   "id": "spoken-witness",
   "metadata": {
    "deletable": false,
    "nbgrader": {
     "cell_type": "code",
     "checksum": "0d76b654285db563a255d2253105d4ab",
     "grade": false,
     "grade_id": "cell-f8aeaeda3163b281",
     "locked": false,
     "schema_version": 3,
     "solution": true,
     "task": false
    }
   },
   "outputs": [],
   "source": [
    "# YOUR CODE HERE\n",
    "raise NotImplementedError()"
   ]
  },
  {
   "cell_type": "markdown",
   "id": "unlikely-combine",
   "metadata": {
    "deletable": false,
    "editable": false,
    "nbgrader": {
     "cell_type": "markdown",
     "checksum": "02bf6bf6454cce62bab2363eac43a300",
     "grade": false,
     "grade_id": "cell-d5941a0f1eb00edd",
     "locked": true,
     "schema_version": 3,
     "solution": false,
     "task": false
    }
   },
   "source": [
    "(h) Repeat parts (f) and (g), this time for \n",
    "$$\\Omega = 0.000, 0.001, 0.002, \\dots, 1.000$$\n",
    "and $N=10000$ (use the same values for $K$ and $\\theta_0$). Use the `time` function from the `time` module to time the operations. \n",
    "\n",
    "Which of the following statements is true?\n",
    "\n",
    "<ol>\n",
    "    <li>The first method, based entirely on comprehensions and loops, and the second method, using vectorization, execute this task in similar time.</li>\n",
    "    <li>The first method, based entirely on comprehensions and loops, executes this task faster than the second method, using vectorization.</li>\n",
    "    <li>The first method, based entirely on comprehensions and loops, executes this task slower than the second method, using vectorization.</li>\n",
    "</ol>"
   ]
  },
  {
   "cell_type": "code",
   "execution_count": null,
   "id": "adverse-resort",
   "metadata": {
    "deletable": false,
    "nbgrader": {
     "cell_type": "code",
     "checksum": "c0eeebeb35a55a1d121eeb1071929e44",
     "grade": false,
     "grade_id": "cell-135f4a4df99980ad",
     "locked": false,
     "schema_version": 3,
     "solution": true,
     "task": false
    }
   },
   "outputs": [],
   "source": [
    "# YOUR CODE HERE\n",
    "raise NotImplementedError()\n",
    "\n",
    "question3h_answer = # insert one of 1, 2 or 3"
   ]
  },
  {
   "cell_type": "code",
   "execution_count": null,
   "id": "confidential-heritage",
   "metadata": {
    "deletable": false,
    "editable": false,
    "nbgrader": {
     "cell_type": "code",
     "checksum": "bd32571312ca78c5dc761df14a7c7f1e",
     "grade": true,
     "grade_id": "cell-0e2d33207cdcb7f8",
     "locked": true,
     "points": 1,
     "schema_version": 3,
     "solution": false,
     "task": false
    }
   },
   "outputs": [],
   "source": [
    "# 1 Mark\n",
    "assert(question3h_answer == question3h())\n",
    "print('test case passed!')"
   ]
  },
  {
   "cell_type": "markdown",
   "id": "racial-financing",
   "metadata": {
    "deletable": false,
    "editable": false,
    "nbgrader": {
     "cell_type": "markdown",
     "checksum": "6599973cc620111f20fc6214383f515c",
     "grade": false,
     "grade_id": "cell-f322390caad2dcb9",
     "locked": true,
     "schema_version": 3,
     "solution": false,
     "task": false
    }
   },
   "source": [
    "## Question 4 (i)\n",
    "\n",
    "(a) Create an array called `ints` containing all the integers between 2 and 30 inclusive."
   ]
  },
  {
   "cell_type": "code",
   "execution_count": null,
   "id": "chemical-producer",
   "metadata": {
    "deletable": false,
    "nbgrader": {
     "cell_type": "code",
     "checksum": "ce5f57b73cacd568e652c4c73e505ee5",
     "grade": false,
     "grade_id": "cell-eac09923cde5db3a",
     "locked": false,
     "schema_version": 3,
     "solution": true,
     "task": false
    }
   },
   "outputs": [],
   "source": [
    "# YOUR CODE HERE\n",
    "raise NotImplementedError()\n",
    "\n",
    "print(ints)"
   ]
  },
  {
   "cell_type": "code",
   "execution_count": null,
   "id": "breathing-lodge",
   "metadata": {
    "deletable": false,
    "editable": false,
    "nbgrader": {
     "cell_type": "code",
     "checksum": "1fb30e59f2521568538ec1682e167a37",
     "grade": true,
     "grade_id": "cell-d52e44e778dc2558",
     "locked": true,
     "points": 2,
     "schema_version": 3,
     "solution": false,
     "task": false
    }
   },
   "outputs": [],
   "source": [
    "# 2 Marks\n",
    "# Do not try to delete this cell\n",
    "# Run this cell for grading\n",
    "_globals = globals()\n",
    "question4ia(_globals)"
   ]
  },
  {
   "cell_type": "markdown",
   "id": "turkish-baghdad",
   "metadata": {
    "deletable": false,
    "editable": false,
    "nbgrader": {
     "cell_type": "markdown",
     "checksum": "1bb2c3930db8cbfd3d3ddeffb7be7920",
     "grade": false,
     "grade_id": "cell-4881007ac42b4df4",
     "locked": true,
     "schema_version": 3,
     "solution": false,
     "task": false
    }
   },
   "source": [
    "(b) Create, in one line, without using a comprehension, a Boolean array `bool1` consisting of `True` wherever the corresponding element of `ints` is divisible by 5, and `False` everywhere else; it should thus begin, when printed,\n",
    "\n",
    "```\n",
    "[False False False  True ...\n",
    "```"
   ]
  },
  {
   "cell_type": "code",
   "execution_count": null,
   "id": "afraid-heath",
   "metadata": {
    "deletable": false,
    "nbgrader": {
     "cell_type": "code",
     "checksum": "971895fdc1fc0339221f9ef7f5ca648d",
     "grade": false,
     "grade_id": "cell-ecda2f6c00c81c7c",
     "locked": false,
     "schema_version": 3,
     "solution": true,
     "task": false
    }
   },
   "outputs": [],
   "source": [
    "# YOUR CODE HERE\n",
    "raise NotImplementedError()\n",
    "\n",
    "print(bool1)"
   ]
  },
  {
   "cell_type": "code",
   "execution_count": null,
   "id": "overhead-royalty",
   "metadata": {
    "deletable": false,
    "editable": false,
    "nbgrader": {
     "cell_type": "code",
     "checksum": "9e1ebc39c49d0841ec86952dcab8c27a",
     "grade": true,
     "grade_id": "cell-e1fabf84a9751575",
     "locked": true,
     "points": 2,
     "schema_version": 3,
     "solution": false,
     "task": false
    }
   },
   "outputs": [],
   "source": [
    "# 2 Marks\n",
    "# Do not try to delete this cell\n",
    "# Run this cell for grading\n",
    "_globals = globals()\n",
    "question4ib(_globals)"
   ]
  },
  {
   "cell_type": "markdown",
   "id": "enormous-ethiopia",
   "metadata": {
    "deletable": false,
    "editable": false,
    "nbgrader": {
     "cell_type": "markdown",
     "checksum": "120af08c5563cc6597c868dd06444844",
     "grade": false,
     "grade_id": "cell-eb42110e2d01ca1f",
     "locked": true,
     "schema_version": 3,
     "solution": false,
     "task": false
    }
   },
   "source": [
    "(c) In one line, without using a comprehension, create an array `ints2` consisting of all those elements of `ints` that are not divisible by 5. "
   ]
  },
  {
   "cell_type": "code",
   "execution_count": null,
   "id": "royal-check",
   "metadata": {
    "deletable": false,
    "nbgrader": {
     "cell_type": "code",
     "checksum": "96294622da4046413312e489de130e00",
     "grade": false,
     "grade_id": "cell-794f25e0bac35656",
     "locked": false,
     "schema_version": 3,
     "solution": true,
     "task": false
    }
   },
   "outputs": [],
   "source": [
    "# YOUR CODE HERE\n",
    "raise NotImplementedError()\n",
    "\n",
    "print(ints2)"
   ]
  },
  {
   "cell_type": "code",
   "execution_count": null,
   "id": "streaming-anderson",
   "metadata": {
    "deletable": false,
    "editable": false,
    "nbgrader": {
     "cell_type": "code",
     "checksum": "d0b224366677f131e067456a36e23cee",
     "grade": true,
     "grade_id": "cell-190de25fd929f66e",
     "locked": true,
     "points": 2,
     "schema_version": 3,
     "solution": false,
     "task": false
    }
   },
   "outputs": [],
   "source": [
    "# 2 Marks\n",
    "# Do not try to delete this cell\n",
    "# Run this cell for grading\n",
    "_globals = globals()\n",
    "question4ic(_globals)"
   ]
  },
  {
   "cell_type": "markdown",
   "id": "pretty-airfare",
   "metadata": {
    "deletable": false,
    "editable": false,
    "nbgrader": {
     "cell_type": "markdown",
     "checksum": "56b88eae4a1a7e0e2409339272cc0e70",
     "grade": false,
     "grade_id": "cell-947a95bfa58cdece",
     "locked": true,
     "schema_version": 3,
     "solution": false,
     "task": false
    }
   },
   "source": [
    "(d) In one line, without using a comprehension, create an array `ints3` consisting of all those elements of `ints` that are divisible by neither 3 nor 4."
   ]
  },
  {
   "cell_type": "code",
   "execution_count": null,
   "id": "passive-blake",
   "metadata": {
    "deletable": false,
    "nbgrader": {
     "cell_type": "code",
     "checksum": "20809e16321ab1bf2e3a15f14238b50d",
     "grade": false,
     "grade_id": "cell-2095db5e816b850c",
     "locked": false,
     "schema_version": 3,
     "solution": true,
     "task": false
    }
   },
   "outputs": [],
   "source": [
    "# YOUR CODE HERE\n",
    "raise NotImplementedError()\n",
    "\n",
    "print(ints3)"
   ]
  },
  {
   "cell_type": "code",
   "execution_count": null,
   "id": "aggressive-survival",
   "metadata": {
    "deletable": false,
    "editable": false,
    "nbgrader": {
     "cell_type": "code",
     "checksum": "f207c4450578896c544a8d56aced76de",
     "grade": true,
     "grade_id": "cell-7e9789685eae5a84",
     "locked": true,
     "points": 2,
     "schema_version": 3,
     "solution": false,
     "task": false
    }
   },
   "outputs": [],
   "source": [
    "# 2 Marks\n",
    "# Do not try to delete this cell\n",
    "# Run this cell for grading\n",
    "_globals = globals()\n",
    "question4id(_globals)"
   ]
  },
  {
   "cell_type": "markdown",
   "id": "verified-kenya",
   "metadata": {
    "deletable": false,
    "editable": false,
    "nbgrader": {
     "cell_type": "markdown",
     "checksum": "68a80d12ab459b75c32b3d35f38a71b6",
     "grade": false,
     "grade_id": "cell-1ce045a5cb566b96",
     "locked": true,
     "schema_version": 3,
     "solution": false,
     "task": false
    }
   },
   "source": [
    "(e) In one line, without using a comprehension, create an array `ints4` consisting of all those elements of `ints` that are either equal to 2 or not divisible by 2."
   ]
  },
  {
   "cell_type": "code",
   "execution_count": null,
   "id": "parallel-acrylic",
   "metadata": {
    "deletable": false,
    "nbgrader": {
     "cell_type": "code",
     "checksum": "1d7d88273a01381ebd0463bd63324e9f",
     "grade": false,
     "grade_id": "cell-3b3d86d1a82f3819",
     "locked": false,
     "schema_version": 3,
     "solution": true,
     "task": false
    }
   },
   "outputs": [],
   "source": [
    "# YOUR CODE HERE\n",
    "raise NotImplementedError()\n",
    "\n",
    "print(ints4)"
   ]
  },
  {
   "cell_type": "code",
   "execution_count": null,
   "id": "absent-mouth",
   "metadata": {
    "deletable": false,
    "editable": false,
    "nbgrader": {
     "cell_type": "code",
     "checksum": "c55b958844a0781eb727f9317ac2fb85",
     "grade": true,
     "grade_id": "cell-9c8a2db5fa301d58",
     "locked": true,
     "points": 2,
     "schema_version": 3,
     "solution": false,
     "task": false
    }
   },
   "outputs": [],
   "source": [
    "# 2 Marks\n",
    "# Do not try to delete this cell\n",
    "# Run this cell for grading\n",
    "_globals = globals()\n",
    "question4ie(_globals)"
   ]
  },
  {
   "cell_type": "markdown",
   "id": "hundred-garbage",
   "metadata": {
    "deletable": false,
    "editable": false,
    "nbgrader": {
     "cell_type": "markdown",
     "checksum": "e577584e791e83a20beb3094a07eb73a",
     "grade": false,
     "grade_id": "cell-248aaa857c22b3eb",
     "locked": true,
     "schema_version": 3,
     "solution": false,
     "task": false
    }
   },
   "source": [
    "(f) Write and test a function called `my_primes2` that takes as its argument an int `n` greater than or equal to 2, and returns a NumPy array consisting of all the primes between 2 and `n` inclusive. Your function should use the Sieve of Eratosthenes, should work using Boolean arrays instead of comprehensions and should not use more iterations than are strictly necessary."
   ]
  },
  {
   "cell_type": "code",
   "execution_count": null,
   "id": "handled-graham",
   "metadata": {
    "deletable": false,
    "nbgrader": {
     "cell_type": "code",
     "checksum": "1bb802d21e7903e106d8aa4c34200368",
     "grade": false,
     "grade_id": "cell-f3c52ab5aef547d6",
     "locked": false,
     "schema_version": 3,
     "solution": true,
     "task": false
    }
   },
   "outputs": [],
   "source": [
    "def my_primes2(n):\n",
    "    # YOUR CODE HERE\n",
    "    raise NotImplementedError()"
   ]
  },
  {
   "cell_type": "code",
   "execution_count": null,
   "id": "confused-rally",
   "metadata": {
    "deletable": false,
    "editable": false,
    "nbgrader": {
     "cell_type": "code",
     "checksum": "70c0c90ebbe85a5fba00e641facd323a",
     "grade": true,
     "grade_id": "cell-0d8cd3336582ffe3",
     "locked": true,
     "points": 6,
     "schema_version": 3,
     "solution": false,
     "task": false
    }
   },
   "outputs": [],
   "source": [
    "# 6 Marks\n",
    "# Do not try to delete this cell\n",
    "# Run this cell for grading\n",
    "_globals = globals()\n",
    "question4if(_globals)"
   ]
  },
  {
   "cell_type": "markdown",
   "id": "frank-hampton",
   "metadata": {
    "deletable": false,
    "editable": false,
    "nbgrader": {
     "cell_type": "markdown",
     "checksum": "47229252d5431fcc4f43e7e909d26a20",
     "grade": false,
     "grade_id": "cell-f72cf2864c0ff37a",
     "locked": true,
     "schema_version": 3,
     "solution": false,
     "task": false
    }
   },
   "source": [
    "## Question 4 (ii)\n",
    "\n",
    "(a) For comparison purposes, write, or get from somewhere, a version called `my_primes1` which uses \"core\" Python lists instead, and filters using comprehensions instead of Boolean arrays. Test it."
   ]
  },
  {
   "cell_type": "code",
   "execution_count": null,
   "id": "prescribed-guinea",
   "metadata": {
    "deletable": false,
    "nbgrader": {
     "cell_type": "code",
     "checksum": "8421c0292a49414a8aff454fab651035",
     "grade": false,
     "grade_id": "cell-5a61d3c0313b5e3e",
     "locked": false,
     "schema_version": 3,
     "solution": true,
     "task": false
    }
   },
   "outputs": [],
   "source": [
    "def my_primes1(n):\n",
    "    # YOUR CODE HERE\n",
    "    raise NotImplementedError()"
   ]
  },
  {
   "cell_type": "code",
   "execution_count": null,
   "id": "emerging-missouri",
   "metadata": {
    "deletable": false,
    "editable": false,
    "nbgrader": {
     "cell_type": "code",
     "checksum": "968d4503bf13778cd70a51769243755a",
     "grade": true,
     "grade_id": "cell-d2a98728ef5b8a8e",
     "locked": true,
     "points": 6,
     "schema_version": 3,
     "solution": false,
     "task": false
    }
   },
   "outputs": [],
   "source": [
    "# 6 Marks\n",
    "# Do not try to delete this cell\n",
    "# Run this cell for grading\n",
    "_globals = globals()\n",
    "question4iia(_globals)"
   ]
  },
  {
   "cell_type": "markdown",
   "id": "hydraulic-photographer",
   "metadata": {
    "deletable": false,
    "editable": false,
    "nbgrader": {
     "cell_type": "markdown",
     "checksum": "7abc68ccb9ddc3bfa2cef20d1669441f",
     "grade": false,
     "grade_id": "cell-162ebbecbc6222e6",
     "locked": true,
     "schema_version": 3,
     "solution": false,
     "task": false
    }
   },
   "source": [
    "Your `my_primes2` function is likely to run much more efficiently than `my_primes1`, but depending on exactly how you've implemented it, we may be able to do even better. There's a video on Blackboard that explains the general approach, and it also cropped up on a bonus question earlier in the module; or you can just follow the steps in this part of the question.\n",
    "\n",
    "To get started, set up an array of 101 copies of `True`, as follows:"
   ]
  },
  {
   "cell_type": "code",
   "execution_count": null,
   "id": "occupied-intro",
   "metadata": {
    "deletable": false,
    "editable": false,
    "nbgrader": {
     "cell_type": "code",
     "checksum": "d0e7d74b8f040816e4afdb54bbc66af5",
     "grade": false,
     "grade_id": "cell-c33958c525cb1e33",
     "locked": true,
     "schema_version": 3,
     "solution": false,
     "task": false
    }
   },
   "outputs": [],
   "source": [
    "sieving_array = np.ones(101, dtype='bool')\n",
    "print(sieving_array)"
   ]
  },
  {
   "cell_type": "markdown",
   "id": "sticky-technician",
   "metadata": {
    "deletable": false,
    "editable": false,
    "nbgrader": {
     "cell_type": "markdown",
     "checksum": "5be546e269f3218899c5aa755abca6f7",
     "grade": false,
     "grade_id": "cell-ec641bf4e1303ece",
     "locked": true,
     "schema_version": 3,
     "solution": false,
     "task": false
    }
   },
   "source": [
    "(b) Make the values of the first two elements of this array (those with index 0 and 1) equal to `False`; do this in one line if you can."
   ]
  },
  {
   "cell_type": "code",
   "execution_count": null,
   "id": "found-fighter",
   "metadata": {
    "deletable": false,
    "nbgrader": {
     "cell_type": "code",
     "checksum": "9cf6b303d06018b87131b0045b2bfbb4",
     "grade": false,
     "grade_id": "cell-91704fbf0ad42a52",
     "locked": false,
     "schema_version": 3,
     "solution": true,
     "task": false
    }
   },
   "outputs": [],
   "source": [
    "# YOUR CODE HERE\n",
    "raise NotImplementedError()\n",
    "print(sieving_array)"
   ]
  },
  {
   "cell_type": "code",
   "execution_count": null,
   "id": "republican-cleaner",
   "metadata": {
    "deletable": false,
    "editable": false,
    "nbgrader": {
     "cell_type": "code",
     "checksum": "483598440e840ccdc646c05872bbc5d2",
     "grade": true,
     "grade_id": "cell-a6e17ead0d44d65e",
     "locked": true,
     "points": 1,
     "schema_version": 3,
     "solution": false,
     "task": false
    }
   },
   "outputs": [],
   "source": [
    "# 1 Mark\n",
    "# Do not try to delete this cell\n",
    "# Run this cell for grading\n",
    "_globals = globals()\n",
    "question4iib(_globals)"
   ]
  },
  {
   "cell_type": "markdown",
   "id": "elegant-selling",
   "metadata": {
    "deletable": false,
    "editable": false,
    "nbgrader": {
     "cell_type": "markdown",
     "checksum": "76ea333f603efc5a5554927d6e93554d",
     "grade": false,
     "grade_id": "cell-8cfab1eca4504183",
     "locked": true,
     "schema_version": 3,
     "solution": false,
     "task": false
    }
   },
   "source": [
    "(c) Make the elements with indexes $4, 6, 8, \\dots$ equal to `False`; do this in one line if you can."
   ]
  },
  {
   "cell_type": "code",
   "execution_count": null,
   "id": "lasting-shannon",
   "metadata": {
    "deletable": false,
    "nbgrader": {
     "cell_type": "code",
     "checksum": "bb95eecac5f5e3cfbde83f67e9e53098",
     "grade": false,
     "grade_id": "cell-da7f5b4f9967a290",
     "locked": false,
     "schema_version": 3,
     "solution": true,
     "task": false
    }
   },
   "outputs": [],
   "source": [
    "# YOUR CODE HERE\n",
    "raise NotImplementedError()\n",
    "print(sieving_array)"
   ]
  },
  {
   "cell_type": "code",
   "execution_count": null,
   "id": "civic-ribbon",
   "metadata": {
    "deletable": false,
    "editable": false,
    "nbgrader": {
     "cell_type": "code",
     "checksum": "41e316cb490472a68ac63fe8d419cffb",
     "grade": true,
     "grade_id": "cell-285814d146dc1acf",
     "locked": true,
     "points": 1,
     "schema_version": 3,
     "solution": false,
     "task": false
    }
   },
   "outputs": [],
   "source": [
    "# 1 Mark\n",
    "# Do not try to delete this cell\n",
    "# Run this cell for grading\n",
    "_globals = globals()\n",
    "question4iic(_globals)"
   ]
  },
  {
   "cell_type": "markdown",
   "id": "fleet-testimony",
   "metadata": {
    "deletable": false,
    "editable": false,
    "nbgrader": {
     "cell_type": "markdown",
     "checksum": "d3c6f27ce00de4cf9a9aaf43efef31f6",
     "grade": false,
     "grade_id": "cell-36e18c550f1c7883",
     "locked": true,
     "schema_version": 3,
     "solution": false,
     "task": false
    }
   },
   "source": [
    "(d) Make the elements with indexes $9, 12, 15, \\dots$ equal to `False`; again, in one line if possible. Some of them will already have the value `False`, but don't worry about that."
   ]
  },
  {
   "cell_type": "code",
   "execution_count": null,
   "id": "related-greeting",
   "metadata": {
    "deletable": false,
    "nbgrader": {
     "cell_type": "code",
     "checksum": "4af8c14240ccf664397889c72a84eb9b",
     "grade": false,
     "grade_id": "cell-09bc88b8b713ede2",
     "locked": false,
     "schema_version": 3,
     "solution": true,
     "task": false
    }
   },
   "outputs": [],
   "source": [
    "# YOUR CODE HERE\n",
    "raise NotImplementedError()\n",
    "print(sieving_array)"
   ]
  },
  {
   "cell_type": "code",
   "execution_count": null,
   "id": "satisfactory-convert",
   "metadata": {
    "deletable": false,
    "editable": false,
    "nbgrader": {
     "cell_type": "code",
     "checksum": "736d9c82dcb8fef1a7827a5c2b6cda98",
     "grade": true,
     "grade_id": "cell-822d38b5938639a6",
     "locked": true,
     "points": 1,
     "schema_version": 3,
     "solution": false,
     "task": false
    }
   },
   "outputs": [],
   "source": [
    "# 1 Mark\n",
    "# Do not try to delete this cell\n",
    "# Run this cell for grading\n",
    "_globals = globals()\n",
    "question4iid(_globals)"
   ]
  },
  {
   "cell_type": "markdown",
   "id": "green-particular",
   "metadata": {
    "deletable": false,
    "editable": false,
    "nbgrader": {
     "cell_type": "markdown",
     "checksum": "f2711ec0e778f85e12abf606c3318983",
     "grade": false,
     "grade_id": "cell-c6e971e4f9a3b123",
     "locked": true,
     "schema_version": 3,
     "solution": false,
     "task": false
    }
   },
   "source": [
    "(e) Make the elements with indexes $25, 30, 35, \\dots$ equal to `False`."
   ]
  },
  {
   "cell_type": "code",
   "execution_count": null,
   "id": "surprised-sensitivity",
   "metadata": {
    "deletable": false,
    "nbgrader": {
     "cell_type": "code",
     "checksum": "5a9758c3c873ad77b615e0c885c93dbe",
     "grade": false,
     "grade_id": "cell-dc8d4c365b9bba5d",
     "locked": false,
     "schema_version": 3,
     "solution": true,
     "task": false
    }
   },
   "outputs": [],
   "source": [
    "# YOUR CODE HERE\n",
    "raise NotImplementedError()\n",
    "print(sieving_array)"
   ]
  },
  {
   "cell_type": "code",
   "execution_count": null,
   "id": "infrared-papua",
   "metadata": {
    "deletable": false,
    "editable": false,
    "nbgrader": {
     "cell_type": "code",
     "checksum": "81ae55d77e53f07a2f74a8f94cd7f767",
     "grade": true,
     "grade_id": "cell-7644f05ed735d983",
     "locked": true,
     "points": 1,
     "schema_version": 3,
     "solution": false,
     "task": false
    }
   },
   "outputs": [],
   "source": [
    "# 1 Mark\n",
    "# Do not try to delete this cell\n",
    "# Run this cell for grading\n",
    "_globals = globals()\n",
    "question4iie(_globals)"
   ]
  },
  {
   "cell_type": "markdown",
   "id": "existing-bibliography",
   "metadata": {
    "deletable": false,
    "editable": false,
    "nbgrader": {
     "cell_type": "markdown",
     "checksum": "ca18c9f3028c43ea2a33b5f27298d7ba",
     "grade": false,
     "grade_id": "cell-d6adfaf3bf8721a3",
     "locked": true,
     "schema_version": 3,
     "solution": false,
     "task": false
    }
   },
   "source": [
    "(f) Make the elements with indexes $49, 56, 63, \\dots$ equal to `False`."
   ]
  },
  {
   "cell_type": "code",
   "execution_count": null,
   "id": "separate-variety",
   "metadata": {
    "deletable": false,
    "nbgrader": {
     "cell_type": "code",
     "checksum": "e8597757ad4bc8f0f7d73abec7e2a1f8",
     "grade": false,
     "grade_id": "cell-07827aa992961ea3",
     "locked": false,
     "schema_version": 3,
     "solution": true,
     "task": false
    }
   },
   "outputs": [],
   "source": [
    "# YOUR CODE HERE\n",
    "raise NotImplementedError()\n",
    "print(sieving_array)"
   ]
  },
  {
   "cell_type": "code",
   "execution_count": null,
   "id": "understood-reynolds",
   "metadata": {
    "deletable": false,
    "editable": false,
    "nbgrader": {
     "cell_type": "code",
     "checksum": "466145e65e8ec39cf1a21db77edeaa73",
     "grade": true,
     "grade_id": "cell-21d0c4d4d300c6ae",
     "locked": true,
     "points": 1,
     "schema_version": 3,
     "solution": false,
     "task": false
    }
   },
   "outputs": [],
   "source": [
    "# 1 Mark\n",
    "# Do not try to delete this cell\n",
    "# Run this cell for grading\n",
    "_globals = globals()\n",
    "question4iif(_globals)"
   ]
  },
  {
   "cell_type": "markdown",
   "id": "fluid-stuart",
   "metadata": {
    "deletable": false,
    "editable": false,
    "nbgrader": {
     "cell_type": "markdown",
     "checksum": "38cab141654cccdde695826b1968b119",
     "grade": false,
     "grade_id": "cell-6b77b4b8b2015d5d",
     "locked": true,
     "schema_version": 3,
     "solution": false,
     "task": false
    }
   },
   "source": [
    "If you now calculate"
   ]
  },
  {
   "cell_type": "code",
   "execution_count": null,
   "id": "permanent-pottery",
   "metadata": {
    "deletable": false,
    "editable": false,
    "nbgrader": {
     "cell_type": "code",
     "checksum": "7eb4d389e5306f1b549c104b3deed099",
     "grade": false,
     "grade_id": "cell-fa8de3d824c53f03",
     "locked": true,
     "schema_version": 3,
     "solution": false,
     "task": false
    }
   },
   "outputs": [],
   "source": [
    "np.arange(101)[sieving_array]"
   ]
  },
  {
   "cell_type": "markdown",
   "id": "abroad-ethiopia",
   "metadata": {
    "deletable": false,
    "editable": false,
    "nbgrader": {
     "cell_type": "markdown",
     "checksum": "43d2bcd752d7651361548f64d3acf2a0",
     "grade": false,
     "grade_id": "cell-5f336645c1a86790",
     "locked": true,
     "schema_version": 3,
     "solution": false,
     "task": false
    }
   },
   "source": [
    "you should see an array of the primes less than or equal to 100."
   ]
  },
  {
   "cell_type": "markdown",
   "id": "speaking-president",
   "metadata": {
    "deletable": false,
    "editable": false,
    "nbgrader": {
     "cell_type": "markdown",
     "checksum": "c426fde83f33f7f2315d7dacde8dc11f",
     "grade": false,
     "grade_id": "cell-016044db14e397cb",
     "locked": true,
     "schema_version": 3,
     "solution": false,
     "task": false
    }
   },
   "source": [
    "## Question 4 (iii)\n",
    "(a) Write, and test, a function called `my_primes3`, which uses logical arrays in the way you've explored in part (ii) of this question to calculate an array of the primes less than or equal to the input `n`."
   ]
  },
  {
   "cell_type": "code",
   "execution_count": null,
   "id": "applied-exclusive",
   "metadata": {
    "deletable": false,
    "nbgrader": {
     "cell_type": "code",
     "checksum": "b850a854418f547d5a0e83a21b209d12",
     "grade": false,
     "grade_id": "cell-117e9153cf873081",
     "locked": false,
     "schema_version": 3,
     "solution": true,
     "task": false
    }
   },
   "outputs": [],
   "source": [
    "def my_primes3(n):\n",
    "    # YOUR CODE HERE\n",
    "    raise NotImplementedError()"
   ]
  },
  {
   "cell_type": "code",
   "execution_count": null,
   "id": "regular-allowance",
   "metadata": {
    "deletable": false,
    "editable": false,
    "nbgrader": {
     "cell_type": "code",
     "checksum": "783f7fac018af1efa77ab1eea3c6266d",
     "grade": true,
     "grade_id": "cell-401d2f684a8fde45",
     "locked": true,
     "points": 6,
     "schema_version": 3,
     "solution": false,
     "task": false
    }
   },
   "outputs": [],
   "source": [
    "# 6 Marks\n",
    "# Do not try to delete this cell\n",
    "# Run this cell for grading\n",
    "_globals = globals()\n",
    "question4iiia(_globals)"
   ]
  },
  {
   "cell_type": "markdown",
   "id": "optimum-monte",
   "metadata": {
    "deletable": false,
    "editable": false,
    "nbgrader": {
     "cell_type": "markdown",
     "checksum": "7207c4686c0808eafae6bc6343315a67",
     "grade": false,
     "grade_id": "cell-58ca461fd9e64dfd",
     "locked": true,
     "schema_version": 3,
     "solution": false,
     "task": false
    }
   },
   "source": [
    "(b) Using the `time` function from the `time` module, compare the performance of `my_primes1`, `my_primes2` and `my_primes3` on calculating (without printing them) the primes less than or equal to one million.\n",
    "\n",
    "(Here, autograding simply tests whether the comparative performance of your three functions is what we'd expect.)"
   ]
  },
  {
   "cell_type": "code",
   "execution_count": null,
   "id": "linear-advisory",
   "metadata": {
    "deletable": false,
    "nbgrader": {
     "cell_type": "code",
     "checksum": "f4e22169bfe5dc1663a722b5f9e3203c",
     "grade": false,
     "grade_id": "cell-72d0926e8c64e8b8",
     "locked": false,
     "schema_version": 3,
     "solution": true,
     "task": false
    }
   },
   "outputs": [],
   "source": [
    "# YOUR CODE HERE\n",
    "raise NotImplementedError()"
   ]
  },
  {
   "cell_type": "code",
   "execution_count": null,
   "id": "suspended-chaos",
   "metadata": {
    "deletable": false,
    "editable": false,
    "nbgrader": {
     "cell_type": "code",
     "checksum": "ba1c90d32d92102cb95556592b0d9a7d",
     "grade": true,
     "grade_id": "cell-5bcc7f6ebfa8abd1",
     "locked": true,
     "points": 3,
     "schema_version": 3,
     "solution": false,
     "task": false
    }
   },
   "outputs": [],
   "source": [
    "# 3 Marks\n",
    "# Do not try to delete this cell\n",
    "# Run this cell for grading\n",
    "_globals = globals()\n",
    "question4iiib(_globals)"
   ]
  },
  {
   "cell_type": "markdown",
   "id": "first-situation",
   "metadata": {
    "deletable": false,
    "editable": false,
    "nbgrader": {
     "cell_type": "markdown",
     "checksum": "71b11f7b767e2516af6976e02686e031",
     "grade": false,
     "grade_id": "cell-83b612ad27c9ec79",
     "locked": true,
     "schema_version": 3,
     "solution": false,
     "task": false
    }
   },
   "source": [
    "## Bonus Question\n",
    "\n",
    "Write a function `first_deriv_approx_data`, which takes as inputs a 1D NumPy array (that is, a vector) of data points `x` and a vector of corresponding $f(x)$ values `y`. The function should return the best possible numerical approximations possible for the values of $f'(x)$ at each value of `x`, in each case using the forward, backward and central difference formulae; the function should use the most accurate formula for each and every point. Should `x` or `y` be empty, then the function should return the string, `'Insufficient Data'`."
   ]
  },
  {
   "cell_type": "code",
   "execution_count": null,
   "id": "illegal-general",
   "metadata": {
    "deletable": false,
    "nbgrader": {
     "cell_type": "code",
     "checksum": "653f0c3340e89a151de59e0740ab2dcf",
     "grade": false,
     "grade_id": "cell-78c093eca8a031a2",
     "locked": false,
     "schema_version": 3,
     "solution": true,
     "task": false
    }
   },
   "outputs": [],
   "source": [
    "def first_deriv_approx_data(x, y):\n",
    "    # YOUR CODE HERE\n",
    "    raise NotImplementedError()"
   ]
  },
  {
   "cell_type": "code",
   "execution_count": null,
   "id": "proprietary-relative",
   "metadata": {
    "deletable": false,
    "editable": false,
    "nbgrader": {
     "cell_type": "code",
     "checksum": "ed7b7c3f62426b1fb10d4b9b133015d7",
     "grade": true,
     "grade_id": "cell-9f6f6248ae8d7384",
     "locked": true,
     "points": 1,
     "schema_version": 3,
     "solution": false,
     "task": false
    }
   },
   "outputs": [],
   "source": [
    "# Run this test cell to check your code\n",
    "# Do not delete this cell\n",
    "# 1 Mark\n",
    "x = np.array([1.1, 1.2, 1.3, 1.4]) \n",
    "y = np.array([9.025013, 11.02318, 13.46374, 16.44465])\n",
    "npt.assert_array_almost_equal([22.193635, 27.10735 ], first_deriv_approx_data(x, y)[1:-1])\n",
    "print(\"Test case passed!!!\")"
   ]
  },
  {
   "cell_type": "code",
   "execution_count": null,
   "id": "grand-discipline",
   "metadata": {
    "deletable": false,
    "editable": false,
    "nbgrader": {
     "cell_type": "code",
     "checksum": "2bed1c3122560d4cf3d91f724a6b8c9d",
     "grade": true,
     "grade_id": "cell-9bb25c809ff8ad35",
     "locked": true,
     "points": 1,
     "schema_version": 3,
     "solution": false,
     "task": false
    }
   },
   "outputs": [],
   "source": [
    "# Run this test cell to check your code\n",
    "# Do not delete this cell\n",
    "# 1 Mark\n",
    "x = np.array([1.1, 1.2, 1.3, 1.4]) \n",
    "y = np.array([9.025013, 11.02318, 13.46374, 16.44465])\n",
    "npt.assert_almost_equal(19.98167000000003,  first_deriv_approx_data(x, y)[0])\n",
    "print(\"Test case passed!!!\")"
   ]
  },
  {
   "cell_type": "code",
   "execution_count": null,
   "id": "proprietary-detection",
   "metadata": {
    "deletable": false,
    "editable": false,
    "nbgrader": {
     "cell_type": "code",
     "checksum": "26bbf6762bcd632d22f812609f2974cc",
     "grade": true,
     "grade_id": "cell-d31fe351f5c21be5",
     "locked": true,
     "points": 1,
     "schema_version": 3,
     "solution": false,
     "task": false
    }
   },
   "outputs": [],
   "source": [
    "# Run this test cell to check your code\n",
    "# Do not delete this cell\n",
    "# 1 Mark\n",
    "x = np.array([1.1, 1.2, 1.3, 1.4]) \n",
    "y = np.array([9.025013, 11.02318, 13.46374, 16.44465])\n",
    "npt.assert_almost_equal(29.809100000000036,  first_deriv_approx_data(x, y)[-1])\n",
    "print(\"Test case passed!!!\")"
   ]
  },
  {
   "cell_type": "code",
   "execution_count": null,
   "id": "theoretical-wedding",
   "metadata": {
    "deletable": false,
    "editable": false,
    "nbgrader": {
     "cell_type": "code",
     "checksum": "505709fa723a8f4be8dfb775496b8103",
     "grade": true,
     "grade_id": "cell-00d699649ac22417",
     "locked": true,
     "points": 1,
     "schema_version": 3,
     "solution": false,
     "task": false
    }
   },
   "outputs": [],
   "source": [
    "# Run this test cell to check your code\n",
    "# Do not delete this cell\n",
    "# 1 Mark\n",
    "x = np.array([1.1, 1.2, 1.3, 1.4]) \n",
    "y = np.array([9.025013, 11.02318, 13.46374, 16.44465])\n",
    "npt.assert_array_almost_equal(np.array([19.98167 , 22.193635, 27.10735 , 29.8091  ]), first_deriv_approx_data(x, y))\n",
    "print('Test case passed!!!')"
   ]
  },
  {
   "cell_type": "code",
   "execution_count": null,
   "id": "moving-exhaust",
   "metadata": {
    "deletable": false,
    "editable": false,
    "nbgrader": {
     "cell_type": "code",
     "checksum": "0866ba9537b106c002f6ed33a00668a1",
     "grade": true,
     "grade_id": "cell-1f683b0b030307d4",
     "locked": true,
     "points": 2,
     "schema_version": 3,
     "solution": false,
     "task": false
    }
   },
   "outputs": [],
   "source": [
    "# Run this test cell to check your code\n",
    "# Do not delete this cell\n",
    "# 2 Marks"
   ]
  },
  {
   "cell_type": "code",
   "execution_count": null,
   "id": "nuclear-return",
   "metadata": {
    "deletable": false,
    "editable": false,
    "nbgrader": {
     "cell_type": "code",
     "checksum": "403cd816575fdf465a4b435fbb259153",
     "grade": true,
     "grade_id": "cell-b6bfeddfb200994e",
     "locked": true,
     "points": 2,
     "schema_version": 3,
     "solution": false,
     "task": false
    }
   },
   "outputs": [],
   "source": [
    "# Run this test cell to check your code\n",
    "# Do not delete this cell\n",
    "# 2 Marks"
   ]
  },
  {
   "cell_type": "code",
   "execution_count": null,
   "id": "neutral-graduation",
   "metadata": {},
   "outputs": [],
   "source": []
  }
 ],
 "metadata": {
  "kernelspec": {
   "display_name": "Python 3",
   "language": "python",
   "name": "python3"
  },
  "language_info": {
   "codemirror_mode": {
    "name": "ipython",
    "version": 3
   },
   "file_extension": ".py",
   "mimetype": "text/x-python",
   "name": "python",
   "nbconvert_exporter": "python",
   "pygments_lexer": "ipython3",
   "version": "3.8.8"
  }
 },
 "nbformat": 4,
 "nbformat_minor": 5
}
