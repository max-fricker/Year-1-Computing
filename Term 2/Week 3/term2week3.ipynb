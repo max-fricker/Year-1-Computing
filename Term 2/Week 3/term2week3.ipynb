{
 "cells": [
  {
   "cell_type": "code",
   "execution_count": 1,
   "id": "legendary-consciousness",
   "metadata": {},
   "outputs": [
    {
     "name": "stdout",
     "output_type": "stream",
     "text": [
      "Autograder loaded successfully!\n",
      "Remember to always restart and run all from the Kernel menu before submitting!\n"
     ]
    }
   ],
   "source": [
    "from autograder_term2week3 import *\n",
    "_globals = globals()\n",
    "import numpy as np\n",
    "import matplotlib.pyplot as plt\n",
    "%matplotlib inline"
   ]
  },
  {
   "cell_type": "markdown",
   "id": "compatible-representation",
   "metadata": {
    "deletable": false,
    "editable": false,
    "nbgrader": {
     "cell_type": "markdown",
     "checksum": "53ef3151a15fe2f26b25a0e51ad7879c",
     "grade": false,
     "grade_id": "cell-00a64f1f98a89bd7",
     "locked": true,
     "schema_version": 3,
     "solution": false,
     "task": false
    }
   },
   "source": [
    "# <center> Introduction to Mathematical Computing </center>\n",
    "### <center>Phil Ramsden, Boumediene Hamzi, Sam Brzezicki</center>\n",
    "\n",
    "# <center> Worksheet 7: Yet More About Functions, and numpy</center>\n",
    "\n",
    "**NOTE:** When answering a question, remember to remove the `raise NotImplementedError()` line."
   ]
  },
  {
   "cell_type": "markdown",
   "id": "alleged-collection",
   "metadata": {
    "deletable": false,
    "editable": false,
    "nbgrader": {
     "cell_type": "markdown",
     "checksum": "e3645923f24207cc6486185ac096d9aa",
     "grade": false,
     "grade_id": "cell-4c4f971c38fdd5b3",
     "locked": true,
     "schema_version": 3,
     "solution": false,
     "task": false
    }
   },
   "source": [
    "## Question 1\n",
    "\n",
    "(a) Write and test a function called <code>pop_min</code> that takes as its argument a non-empty list <code>num_list</code>, assumed to consist of ints and/or floats, and outputs its minimum value. However, your function should have the side-effect of removing this minimum value from <code>num_list</code>. \n",
    "\n",
    "Test your function. If you type\n",
    "\n",
    "```python\n",
    "this_list = [3, 5, 2, 7, 1, 2, 3, 1, 9]\n",
    "pop_min(this_list)\n",
    "```\n",
    "\n",
    "then you should get the output 1, and as a side-effect, the value of <code>this_list</code> should become\n",
    "\n",
    "<code>[3, 5, 2, 7, 2, 3, 1, 9]</code>."
   ]
  },
  {
   "cell_type": "code",
   "execution_count": 2,
   "id": "oriental-activity",
   "metadata": {
    "deletable": false,
    "nbgrader": {
     "cell_type": "code",
     "checksum": "9fdcae39ad2c2523769ccc9103fd4032",
     "grade": false,
     "grade_id": "cell-1ae855be0b82fa0e",
     "locked": false,
     "schema_version": 3,
     "solution": true,
     "task": false
    }
   },
   "outputs": [],
   "source": [
    "def pop_min(num_list):\n",
    "    mini = num_list[0]\n",
    "    mini_index = 0\n",
    "    for n in range(1, len(num_list)):\n",
    "        if num_list[n] < mini:\n",
    "            mini = num_list[n]\n",
    "            mini_index = n\n",
    "    return num_list.pop(mini_index)\n",
    "    "
   ]
  },
  {
   "cell_type": "code",
   "execution_count": 3,
   "id": "threaded-injection",
   "metadata": {
    "deletable": false,
    "editable": false,
    "nbgrader": {
     "cell_type": "code",
     "checksum": "71a4d0ef78b5f2155eb9f3fc0ab7c503",
     "grade": true,
     "grade_id": "cell-31d6d5b9b62d0a0c",
     "locked": true,
     "points": 0,
     "schema_version": 3,
     "solution": false,
     "task": false
    }
   },
   "outputs": [
    {
     "name": "stdout",
     "output_type": "stream",
     "text": [
      "Test passed!\n"
     ]
    }
   ],
   "source": [
    "# Function testing; not for marks\n",
    "this_list = [3, 5, 2, 7, 1, 2, 3, 1, 9]\n",
    "this_min = pop_min(this_list)\n",
    "try:\n",
    "    assert(this_min == 1)\n",
    "    assert(this_list == [3, 5, 2, 7, 2, 3, 1, 9])\n",
    "    print('Test passed!')\n",
    "except:\n",
    "    print('Test failed!')"
   ]
  },
  {
   "cell_type": "code",
   "execution_count": 4,
   "id": "aquatic-ambassador",
   "metadata": {
    "deletable": false,
    "editable": false,
    "nbgrader": {
     "cell_type": "code",
     "checksum": "de9dad3e12d3d17e8bb734f2765b3229",
     "grade": true,
     "grade_id": "cell-4b1a182e62d8ffcf",
     "locked": true,
     "points": 2,
     "schema_version": 3,
     "solution": false,
     "task": false
    }
   },
   "outputs": [
    {
     "name": "stdout",
     "output_type": "stream",
     "text": [
      "Testing: typical case\n",
      "Test passed!\n",
      "\n",
      "Testing: edge case\n",
      "Test passed!\n",
      "\n",
      "2 out of 2\n"
     ]
    },
    {
     "data": {
      "text/plain": [
       "2"
      ]
     },
     "execution_count": 4,
     "metadata": {},
     "output_type": "execute_result"
    }
   ],
   "source": [
    "# 2 Marks\n",
    "# Do not try to delete this cell\n",
    "# Run this cell for grading\n",
    "_globals = globals()\n",
    "question1a(_globals)"
   ]
  },
  {
   "cell_type": "markdown",
   "id": "stylish-studio",
   "metadata": {
    "deletable": false,
    "editable": false,
    "nbgrader": {
     "cell_type": "markdown",
     "checksum": "bebf00709512ce665782e824c0ab00c8",
     "grade": false,
     "grade_id": "cell-97893717d3b0867c",
     "locked": true,
     "schema_version": 3,
     "solution": false,
     "task": false
    }
   },
   "source": [
    "(b) Write and test a function called <code>simple_sort</code> that takes as its argument a list <code>num_list</code>, assumed to be numerical, and, by using <code>pop_min</code>, returns all the elements of <code>num_list</code>, in ascending order. "
   ]
  },
  {
   "cell_type": "code",
   "execution_count": 6,
   "id": "stable-replica",
   "metadata": {
    "deletable": false,
    "nbgrader": {
     "cell_type": "code",
     "checksum": "693514f0a77914be90e1f8befbf3e8ac",
     "grade": false,
     "grade_id": "cell-544ce6138c69ebf5",
     "locked": false,
     "schema_version": 3,
     "solution": true,
     "task": false
    }
   },
   "outputs": [
    {
     "name": "stdout",
     "output_type": "stream",
     "text": [
      "[0, 0, 1, 1, 2, 2, 3, 3, 6, 8, 9]\n"
     ]
    }
   ],
   "source": [
    "def simple_sort(num_list):\n",
    "    sorted_list = []\n",
    "    for n in range(len(num_list)):\n",
    "        sorted_list.append(pop_min(num_list))\n",
    "    return sorted_list\n",
    "print(simple_sort([6,8,3,9,2,0,3,0,1,2,1]))"
   ]
  },
  {
   "cell_type": "code",
   "execution_count": 7,
   "id": "noted-spain",
   "metadata": {
    "deletable": false,
    "editable": false,
    "nbgrader": {
     "cell_type": "code",
     "checksum": "64f780e989a8a168a22c77ec7f3f20c7",
     "grade": true,
     "grade_id": "cell-6e005ec6d0f955c4",
     "locked": true,
     "points": 2,
     "schema_version": 3,
     "solution": false,
     "task": false
    }
   },
   "outputs": [
    {
     "name": "stdout",
     "output_type": "stream",
     "text": [
      "Testing: typical case\n",
      "Test passed!\n",
      "\n",
      "Testing: edge case\n",
      "Test passed!\n",
      "\n",
      "2 out of 2\n"
     ]
    },
    {
     "data": {
      "text/plain": [
       "2"
      ]
     },
     "execution_count": 7,
     "metadata": {},
     "output_type": "execute_result"
    }
   ],
   "source": [
    "# 2 Marks\n",
    "# Do not try to delete this cell\n",
    "# Run this cell for grading\n",
    "_globals = globals()\n",
    "question1b(_globals)"
   ]
  },
  {
   "cell_type": "markdown",
   "id": "industrial-august",
   "metadata": {
    "deletable": false,
    "editable": false,
    "nbgrader": {
     "cell_type": "markdown",
     "checksum": "0adc68d6b2eaff037b3875a32ff6442a",
     "grade": false,
     "grade_id": "cell-83b0f39cfd3d2ab2",
     "locked": true,
     "schema_version": 3,
     "solution": false,
     "task": false
    }
   },
   "source": [
    "(c) If your function doesn't already do this, amend it so that as well as returning the sorted list, it has the side-effect of making the original list <em>equal</em> to the sorted list. So that if you type \n",
    "\n",
    "```python\n",
    "this_list = [3, 5, 2, 7, 1, 2, 3, 1, 9]\n",
    "simple_sort(this_list)\n",
    "```\n",
    "\n",
    "then you should get the output <code>[1, 1, 2, 2, 3, 3, 5, 7, 9]</code>, and as a side-effect, the value of <code>this_list</code> should become\n",
    "\n",
    "<code>[1, 1, 2, 2, 3, 3, 5, 7, 9]</code>."
   ]
  },
  {
   "cell_type": "code",
   "execution_count": 118,
   "id": "meaningful-accused",
   "metadata": {
    "deletable": false,
    "nbgrader": {
     "cell_type": "code",
     "checksum": "7732e151eb465aac7c6b92eccbabf7f2",
     "grade": false,
     "grade_id": "cell-d8a06ebb274f04d6",
     "locked": false,
     "schema_version": 3,
     "solution": true,
     "task": false
    }
   },
   "outputs": [
    {
     "name": "stdout",
     "output_type": "stream",
     "text": [
      "[1, 1, 2, 2, 3, 3, 5, 7, 9]\n",
      "[1, 1, 2, 2, 3, 3, 5, 7, 9]\n"
     ]
    }
   ],
   "source": [
    "def simple_sort(num_list):\n",
    "    sorted_list = []\n",
    "    for n in range(len(num_list)):\n",
    "        sorted_list.append(pop_min(num_list))\n",
    "    num_list += sorted_list\n",
    "    return sorted_list\n",
    "this_list = [3, 5, 2, 7, 1, 2, 3, 1, 9]\n",
    "print(simple_sort(this_list))\n",
    "print(this_list)"
   ]
  },
  {
   "cell_type": "code",
   "execution_count": 119,
   "id": "charming-gothic",
   "metadata": {
    "deletable": false,
    "editable": false,
    "nbgrader": {
     "cell_type": "code",
     "checksum": "81ab7e624605dc8a11b7587c216ec874",
     "grade": true,
     "grade_id": "cell-b3f8d41096690235",
     "locked": true,
     "points": 2,
     "schema_version": 3,
     "solution": false,
     "task": false
    }
   },
   "outputs": [
    {
     "name": "stdout",
     "output_type": "stream",
     "text": [
      "Testing: typical case\n",
      "Sorted list returned correctly\n",
      "List sorted correctly in place\n",
      "\n",
      "Testing: edge case\n",
      "Sorted list returned correctly\n",
      "List sorted correctly in place\n",
      "\n",
      "2 out of 2\n"
     ]
    },
    {
     "data": {
      "text/plain": [
       "2"
      ]
     },
     "execution_count": 119,
     "metadata": {},
     "output_type": "execute_result"
    }
   ],
   "source": [
    "# 2 Marks\n",
    "# Do not try to delete this cell\n",
    "# Run this cell for grading\n",
    "_globals = globals()\n",
    "question1c(_globals)"
   ]
  },
  {
   "cell_type": "markdown",
   "id": "satisfactory-perspective",
   "metadata": {
    "deletable": false,
    "editable": false,
    "nbgrader": {
     "cell_type": "markdown",
     "checksum": "022be5077df36f697281693b9c8b1ed1",
     "grade": false,
     "grade_id": "cell-6dbf463d4ed697dd",
     "locked": true,
     "schema_version": 3,
     "solution": false,
     "task": false
    }
   },
   "source": [
    "(d) Adapt your <code>pop_min</code> function so that every time one element is compared with another, it increments by one a global variable called <code>comparison_count</code>. Hence if you type\n",
    "\n",
    "```python\n",
    "comparison_count = 0    \n",
    "pm = pop_min([3, 5, 2, 7, 1, 2, 3, 1, 9])\n",
    "comparison_count\n",
    "```\n",
    "\n",
    "you should get 9.\n",
    "\n",
    "Using this, calculate the total number of comparisons necessary to sort the list <code>[3, 5, 2, 7, 1, 2, 3, 1, 9]</code> using <code>simple_sort</code>. \n",
    "\n",
    "Do you think this is an efficient method of sorting?"
   ]
  },
  {
   "cell_type": "code",
   "execution_count": 126,
   "id": "polished-switch",
   "metadata": {
    "deletable": false,
    "nbgrader": {
     "cell_type": "code",
     "checksum": "56d38aa545a14f598f481ade638d5630",
     "grade": false,
     "grade_id": "cell-c05510e3a3d77323",
     "locked": false,
     "schema_version": 3,
     "solution": true,
     "task": false
    }
   },
   "outputs": [
    {
     "data": {
      "text/plain": [
       "9"
      ]
     },
     "execution_count": 126,
     "metadata": {},
     "output_type": "execute_result"
    }
   ],
   "source": [
    "def pop_min(num_list):\n",
    "    mini = num_list[0]\n",
    "    mini_index = 0\n",
    "    global comparison_count\n",
    "    for n in range(1, len(num_list)):\n",
    "        comparison_count += 1\n",
    "        if num_list[n] < mini:\n",
    "            mini = num_list[n]\n",
    "            mini_index = n\n",
    "    return num_list.pop(mini_index)\n",
    "\n",
    "comparison_count = 0    \n",
    "pm = pop_min([3, 5, 2, 7, 1, 2, 3, 1, 9, 8])\n",
    "comparison_count"
   ]
  },
  {
   "cell_type": "code",
   "execution_count": 127,
   "id": "correct-click",
   "metadata": {
    "deletable": false,
    "editable": false,
    "nbgrader": {
     "cell_type": "code",
     "checksum": "e3259ca3459ddae7b55795d841081c0c",
     "grade": true,
     "grade_id": "cell-ded140af0df44312",
     "locked": true,
     "points": 2,
     "schema_version": 3,
     "solution": false,
     "task": false
    }
   },
   "outputs": [
    {
     "name": "stdout",
     "output_type": "stream",
     "text": [
      "Testing: typical case\n",
      "Sorted list returned correctly\n",
      "List sorted correctly in place\n",
      "Correct comparison count\n",
      "\n",
      "Testing: edge case\n",
      "Sorted list returned correctly\n",
      "List sorted correctly in place\n",
      "Correct comparison count\n",
      "\n",
      "2 out of 2\n"
     ]
    },
    {
     "data": {
      "text/plain": [
       "2"
      ]
     },
     "execution_count": 127,
     "metadata": {},
     "output_type": "execute_result"
    }
   ],
   "source": [
    "# 2 Marks\n",
    "# Do not try to delete this cell\n",
    "# Run this cell for grading\n",
    "_globals = globals()\n",
    "comparison_count = 0\n",
    "question1d(_globals)"
   ]
  },
  {
   "cell_type": "markdown",
   "id": "wanted-magic",
   "metadata": {
    "deletable": false,
    "editable": false,
    "nbgrader": {
     "cell_type": "markdown",
     "checksum": "09f844471062afe3abbaa0c1ebc4bc85",
     "grade": false,
     "grade_id": "cell-56034b39608031c6",
     "locked": true,
     "schema_version": 3,
     "solution": false,
     "task": false
    }
   },
   "source": [
    "## Question 2\n",
    "\n",
    "(i) Import the NumPy module, and then define three lists and three arrays as follows:"
   ]
  },
  {
   "cell_type": "code",
   "execution_count": 128,
   "id": "taken-pantyhose",
   "metadata": {
    "deletable": false,
    "editable": false,
    "nbgrader": {
     "cell_type": "code",
     "checksum": "426dc6191f84159f86384bb68f20482c",
     "grade": false,
     "grade_id": "cell-f0e4fbe982c4a3be",
     "locked": true,
     "schema_version": 3,
     "solution": false,
     "task": false
    }
   },
   "outputs": [],
   "source": [
    "int_list = [1, 2, 3]\n",
    "float_list = [4.0, 5.0, 6.0]\n",
    "int_float_list = [7, 8, 9.0]\n",
    "int_list2 = [10, 11, 12]\n",
    "\n",
    "int_arr = np.array(int_list)\n",
    "float_arr = np.array(float_list)\n",
    "int_float_arr = np.array(int_float_list)\n",
    "int_arr2 = np.array(int_list2)"
   ]
  },
  {
   "cell_type": "markdown",
   "id": "arctic-collins",
   "metadata": {
    "deletable": false,
    "editable": false,
    "nbgrader": {
     "cell_type": "markdown",
     "checksum": "3e5b68db50aae93e294a37178f6c16f9",
     "grade": false,
     "grade_id": "cell-f0b5253fc64af60f",
     "locked": true,
     "schema_version": 3,
     "solution": false,
     "task": false
    }
   },
   "source": [
    "Print each of your four arrays, and extract elements of them using, for example\n",
    "```python\n",
    "int_arr[0]\n",
    "```\n",
    "\n",
    "Then:\n",
    "\n",
    "(a) Complete the following statement:\n",
    "\n",
    "A NumPy array based on a list of ints contains \n",
    "\n",
    "<ol>\n",
    "    <li>only ints of some kind;</li>\n",
    "    <li>only floats of some kind;</li>\n",
    "    <li>both ints and floats.</li>\n",
    "</ol>"
   ]
  },
  {
   "cell_type": "code",
   "execution_count": 129,
   "id": "specific-renaissance",
   "metadata": {
    "deletable": false,
    "nbgrader": {
     "cell_type": "code",
     "checksum": "cb1a52d7187970b75acf11b0274ca111",
     "grade": false,
     "grade_id": "cell-251be60ac5fa1475",
     "locked": false,
     "schema_version": 3,
     "solution": true,
     "task": false
    }
   },
   "outputs": [],
   "source": [
    "import numpy as np\n",
    "\n",
    "int_list = [1, 2, 3]\n",
    "float_list = [4.0, 5.0, 6.0]\n",
    "int_float_list = [7, 8, 9.0]\n",
    "int_list2 = [10, 11, 12]\n",
    "\n",
    "int_arr = np.array(int_list)\n",
    "float_arr = np.array(float_list)\n",
    "int_float_arr = np.array(int_float_list)\n",
    "int_arr2 = np.array(int_list2)\n",
    "\n",
    "question2ia_answer = 1"
   ]
  },
  {
   "cell_type": "code",
   "execution_count": 130,
   "id": "commercial-village",
   "metadata": {
    "deletable": false,
    "editable": false,
    "nbgrader": {
     "cell_type": "code",
     "checksum": "56346a5672ddb772a7d1fddb393d5e3b",
     "grade": true,
     "grade_id": "cell-dc93660e40f37238",
     "locked": true,
     "points": 1,
     "schema_version": 3,
     "solution": false,
     "task": false
    }
   },
   "outputs": [
    {
     "name": "stdout",
     "output_type": "stream",
     "text": [
      "test case passed!\n"
     ]
    }
   ],
   "source": [
    "# 1 Mark\n",
    "assert(question2ia_answer == question2_ia())\n",
    "print('test case passed!')"
   ]
  },
  {
   "cell_type": "markdown",
   "id": "empirical-turning",
   "metadata": {
    "deletable": false,
    "editable": false,
    "nbgrader": {
     "cell_type": "markdown",
     "checksum": "2c6a8c5d3a2faf741be8d109464d8816",
     "grade": false,
     "grade_id": "cell-9a4bf1cddf1b6e44",
     "locked": true,
     "schema_version": 3,
     "solution": false,
     "task": false
    }
   },
   "source": [
    "(b) Complete the following statement: \n",
    "\n",
    "A NumPy array based on a list of floats contains \n",
    "\n",
    "<ol>\n",
    "    <li>only ints of some kind;</li>\n",
    "    <li>only floats of some kind;</li>\n",
    "    <li>both ints and floats.</li>\n",
    "</ol>"
   ]
  },
  {
   "cell_type": "code",
   "execution_count": 131,
   "id": "southeast-panama",
   "metadata": {
    "deletable": false,
    "nbgrader": {
     "cell_type": "code",
     "checksum": "8f0ca72b84d1a0e71910fe4c2dacd8a1",
     "grade": false,
     "grade_id": "cell-81094386692ef9ea",
     "locked": false,
     "schema_version": 3,
     "solution": true,
     "task": false
    }
   },
   "outputs": [],
   "source": [
    "question2ib_answer = 2"
   ]
  },
  {
   "cell_type": "code",
   "execution_count": 132,
   "id": "incorporated-convert",
   "metadata": {
    "deletable": false,
    "editable": false,
    "nbgrader": {
     "cell_type": "code",
     "checksum": "fdbb321d2699d595af6eefd6e5549a38",
     "grade": true,
     "grade_id": "cell-b5ad06d8b696439b",
     "locked": true,
     "points": 1,
     "schema_version": 3,
     "solution": false,
     "task": false
    }
   },
   "outputs": [
    {
     "name": "stdout",
     "output_type": "stream",
     "text": [
      "test case passed!\n"
     ]
    }
   ],
   "source": [
    "# 1 Mark\n",
    "assert(question2ib_answer == question2_ib())\n",
    "print('test case passed!')"
   ]
  },
  {
   "cell_type": "markdown",
   "id": "composed-airplane",
   "metadata": {
    "deletable": false,
    "editable": false,
    "nbgrader": {
     "cell_type": "markdown",
     "checksum": "89eb43e0a98a640892963c3483b1ff21",
     "grade": false,
     "grade_id": "cell-15b40e229321adac",
     "locked": true,
     "schema_version": 3,
     "solution": false,
     "task": false
    }
   },
   "source": [
    "(c) Complete the following statement: \n",
    "\n",
    "A NumPy array based on a list of ints and floats contains \n",
    "\n",
    "<ol>\n",
    "    <li>only ints of some kind;</li>\n",
    "    <li>only floats of some kind;</li>\n",
    "    <li>both ints and floats.</li>\n",
    "</ol>"
   ]
  },
  {
   "cell_type": "code",
   "execution_count": 133,
   "id": "working-showcase",
   "metadata": {
    "deletable": false,
    "nbgrader": {
     "cell_type": "code",
     "checksum": "819a9c0107dabcc22dc668ea4ff6605f",
     "grade": false,
     "grade_id": "cell-6e960ccc047fbc69",
     "locked": false,
     "schema_version": 3,
     "solution": true,
     "task": false
    }
   },
   "outputs": [],
   "source": [
    "question2ic_answer = 2"
   ]
  },
  {
   "cell_type": "code",
   "execution_count": 134,
   "id": "statewide-winning",
   "metadata": {
    "deletable": false,
    "editable": false,
    "nbgrader": {
     "cell_type": "code",
     "checksum": "49ac6fc248644fb6667b15393c54f3d8",
     "grade": true,
     "grade_id": "cell-e2410de2feb52905",
     "locked": true,
     "points": 1,
     "schema_version": 3,
     "solution": false,
     "task": false
    }
   },
   "outputs": [
    {
     "name": "stdout",
     "output_type": "stream",
     "text": [
      "test case passed!\n"
     ]
    }
   ],
   "source": [
    "# 1 Mark\n",
    "assert(question2ic_answer == question2_ic())\n",
    "print('test case passed!')"
   ]
  },
  {
   "cell_type": "markdown",
   "id": "blank-grade",
   "metadata": {
    "deletable": false,
    "editable": false,
    "nbgrader": {
     "cell_type": "markdown",
     "checksum": "61d63bf282bfab1c4b2a9b97cd19ab77",
     "grade": false,
     "grade_id": "cell-6db26e4cf8240889",
     "locked": true,
     "schema_version": 3,
     "solution": false,
     "task": false
    }
   },
   "source": [
    "(ii) Define the following arrays:"
   ]
  },
  {
   "cell_type": "code",
   "execution_count": 135,
   "id": "brutal-breathing",
   "metadata": {
    "deletable": false,
    "editable": false,
    "nbgrader": {
     "cell_type": "code",
     "checksum": "6be4fb72dce183529e35009953d6aa4c",
     "grade": false,
     "grade_id": "cell-461b40e94bad3174",
     "locked": true,
     "schema_version": 3,
     "solution": false,
     "task": false
    }
   },
   "outputs": [],
   "source": [
    "int_float_complex_arr = np.array([1, 2.0, 3+0j])\n",
    "int_float_complex_string_arr = np.array([1, 2.0, 3+0j, 'four'])"
   ]
  },
  {
   "cell_type": "markdown",
   "id": "prerequisite-corps",
   "metadata": {
    "deletable": false,
    "editable": false,
    "nbgrader": {
     "cell_type": "markdown",
     "checksum": "b37b7b9c759176a15cc25769340b7d14",
     "grade": false,
     "grade_id": "cell-fcfd0bfd866a35da",
     "locked": true,
     "schema_version": 3,
     "solution": false,
     "task": false
    }
   },
   "source": [
    "(a) Complete the following statement:\n",
    "\n",
    "A NumPy array based on a list of ints, floats and complexes contains \n",
    "\n",
    "<ol>\n",
    "    <li>only ints of some kind;</li>\n",
    "    <li>only floats of some kind;</li>\n",
    "    <li>only complexes of some kind;</li>\n",
    "    <li>a mixture of ints, floats and complexes.</li>\n",
    "</ol>"
   ]
  },
  {
   "cell_type": "code",
   "execution_count": 136,
   "id": "nervous-david",
   "metadata": {
    "deletable": false,
    "nbgrader": {
     "cell_type": "code",
     "checksum": "c18167a288663a1c77d6279c5001c1d4",
     "grade": false,
     "grade_id": "cell-44f872ebef2c7162",
     "locked": false,
     "schema_version": 3,
     "solution": true,
     "task": false
    }
   },
   "outputs": [
    {
     "name": "stdout",
     "output_type": "stream",
     "text": [
      "[1.+0.j 2.+0.j 3.+0.j]\n",
      "['1' '2.0' '(3+0j)' 'four']\n"
     ]
    }
   ],
   "source": [
    "int_float_complex_arr = np.array([1, 2.0, 3+0j])\n",
    "int_float_complex_string_arr = np.array([1, 2.0, 3+0j, 'four'])\n",
    "\n",
    "print(int_float_complex_arr)\n",
    "print(int_float_complex_string_arr)\n",
    "\n",
    "question2iia_answer = 3"
   ]
  },
  {
   "cell_type": "code",
   "execution_count": 137,
   "id": "raised-navigation",
   "metadata": {
    "deletable": false,
    "editable": false,
    "nbgrader": {
     "cell_type": "code",
     "checksum": "bd8cf62f70302b56319a63ca857d243b",
     "grade": true,
     "grade_id": "cell-77fb9047990820f7",
     "locked": true,
     "points": 1,
     "schema_version": 3,
     "solution": false,
     "task": false
    }
   },
   "outputs": [
    {
     "name": "stdout",
     "output_type": "stream",
     "text": [
      "test case passed!\n"
     ]
    }
   ],
   "source": [
    "# 1 Mark\n",
    "assert(question2iia_answer == question2_iia())\n",
    "print('test case passed!')"
   ]
  },
  {
   "cell_type": "markdown",
   "id": "exterior-stroke",
   "metadata": {
    "deletable": false,
    "editable": false,
    "nbgrader": {
     "cell_type": "markdown",
     "checksum": "c4d0358e58d7570e759fb5917cab1ef8",
     "grade": false,
     "grade_id": "cell-ed7d9b7656bce113",
     "locked": true,
     "schema_version": 3,
     "solution": false,
     "task": false
    }
   },
   "source": [
    "(b) Complete the following statement:\n",
    "\n",
    "A NumPy array based on a list of ints, floats, complexes and strings contains \n",
    "\n",
    "<ol>\n",
    "    <li>only ints of some kind;</li>\n",
    "    <li>only floats of some kind;</li>\n",
    "    <li>only complexes of some kind;</li>\n",
    "    <li>only strings of some kind;</li>\n",
    "    <li>a mixture of ints, floats, complexes and strings.</li>\n",
    "</ol>"
   ]
  },
  {
   "cell_type": "code",
   "execution_count": 28,
   "id": "polyphonic-encoding",
   "metadata": {
    "deletable": false,
    "nbgrader": {
     "cell_type": "code",
     "checksum": "be6f7a8b0c261b3b25457b1e793a66f8",
     "grade": false,
     "grade_id": "cell-3dd3bd52726607d0",
     "locked": false,
     "schema_version": 3,
     "solution": true,
     "task": false
    }
   },
   "outputs": [],
   "source": [
    "question2iib_answer = 4"
   ]
  },
  {
   "cell_type": "code",
   "execution_count": 29,
   "id": "micro-estate",
   "metadata": {
    "deletable": false,
    "editable": false,
    "nbgrader": {
     "cell_type": "code",
     "checksum": "c648d535c5fe441d188171e217e16f35",
     "grade": true,
     "grade_id": "cell-60903a4c7897151d",
     "locked": true,
     "points": 1,
     "schema_version": 3,
     "solution": false,
     "task": false
    }
   },
   "outputs": [
    {
     "name": "stdout",
     "output_type": "stream",
     "text": [
      "test case passed!\n"
     ]
    }
   ],
   "source": [
    "# 1 Mark\n",
    "assert(question2iib_answer == question2_iib())\n",
    "print('test case passed!')"
   ]
  },
  {
   "cell_type": "markdown",
   "id": "intended-calvin",
   "metadata": {
    "deletable": false,
    "editable": false,
    "nbgrader": {
     "cell_type": "markdown",
     "checksum": "619946efc03952fe5459543ccb9e297b",
     "grade": false,
     "grade_id": "cell-c515f246417273d0",
     "locked": true,
     "schema_version": 3,
     "solution": false,
     "task": false
    }
   },
   "source": [
    "## Question 3\n",
    "\n",
    "(i) Calculate\n",
    "```python\n",
    "int_arr + float_arr\n",
    "```\n",
    "and similar \"array sums\". Then:\n",
    "\n",
    "(a) Complete the following statement:\n",
    "\n",
    "When you add two NumPy arrays together, you\n",
    "\n",
    "<ol>\n",
    "    <li>concatenate them (that is, join them head to tail, in the same way as lists or tuples);</li>\n",
    "    <li>add them component-by-component, as if they were vectors.</li>\n",
    "</ol>"
   ]
  },
  {
   "cell_type": "code",
   "execution_count": 30,
   "id": "sixth-patrick",
   "metadata": {
    "deletable": false,
    "nbgrader": {
     "cell_type": "code",
     "checksum": "5799914b389d2cdfad250bbac474b6f5",
     "grade": false,
     "grade_id": "cell-a4802571a7742aba",
     "locked": false,
     "schema_version": 3,
     "solution": true,
     "task": false
    }
   },
   "outputs": [
    {
     "data": {
      "text/plain": [
       "array([5., 7., 9.])"
      ]
     },
     "execution_count": 30,
     "metadata": {},
     "output_type": "execute_result"
    }
   ],
   "source": [
    "question3ia_answer = 2\n",
    "\n",
    "int_arr + float_arr\n"
   ]
  },
  {
   "cell_type": "code",
   "execution_count": 31,
   "id": "respiratory-revolution",
   "metadata": {
    "deletable": false,
    "editable": false,
    "nbgrader": {
     "cell_type": "code",
     "checksum": "07e9fc3c4213b41b007730f47d996459",
     "grade": true,
     "grade_id": "cell-1a957a83c20b93a8",
     "locked": true,
     "points": 1,
     "schema_version": 3,
     "solution": false,
     "task": false
    }
   },
   "outputs": [
    {
     "name": "stdout",
     "output_type": "stream",
     "text": [
      "test case passed!\n"
     ]
    }
   ],
   "source": [
    "# 1 Mark\n",
    "assert(question3ia_answer == question3_ia())\n",
    "print('test case passed!')"
   ]
  },
  {
   "cell_type": "markdown",
   "id": "deadly-voice",
   "metadata": {
    "deletable": false,
    "editable": false,
    "nbgrader": {
     "cell_type": "markdown",
     "checksum": "f416f950276c640e93db4fc5ca47030c",
     "grade": false,
     "grade_id": "cell-44e3738e035c66d1",
     "locked": true,
     "schema_version": 3,
     "solution": false,
     "task": false
    }
   },
   "source": [
    "(b) Complete the following statement:\n",
    "\n",
    "The sum of an array of ints and an array of floats is\n",
    "\n",
    "<ol>\n",
    "    <li>an array of ints;</li>\n",
    "    <li>an array of floats;</li>\n",
    "    <li>an array containing both ints and floats.</li>\n",
    "</ol>"
   ]
  },
  {
   "cell_type": "code",
   "execution_count": 32,
   "id": "unusual-upset",
   "metadata": {
    "deletable": false,
    "nbgrader": {
     "cell_type": "code",
     "checksum": "5a42d6e9c28d3f173f512b0eb4a7626b",
     "grade": false,
     "grade_id": "cell-ffe39e4933876bf7",
     "locked": false,
     "schema_version": 3,
     "solution": true,
     "task": false
    }
   },
   "outputs": [],
   "source": [
    "question3ib_answer = 2"
   ]
  },
  {
   "cell_type": "code",
   "execution_count": 33,
   "id": "protected-hurricane",
   "metadata": {
    "deletable": false,
    "editable": false,
    "nbgrader": {
     "cell_type": "code",
     "checksum": "7e5d5ad716d7054fafa30b69eb1fa49b",
     "grade": true,
     "grade_id": "cell-309bc99958fb8e3b",
     "locked": true,
     "points": 1,
     "schema_version": 3,
     "solution": false,
     "task": false
    }
   },
   "outputs": [
    {
     "name": "stdout",
     "output_type": "stream",
     "text": [
      "test case passed!\n"
     ]
    }
   ],
   "source": [
    "# 1 Mark\n",
    "assert(question3ib_answer == question3_ib())\n",
    "print('test case passed!')"
   ]
  },
  {
   "cell_type": "markdown",
   "id": "better-continuity",
   "metadata": {
    "deletable": false,
    "editable": false,
    "nbgrader": {
     "cell_type": "markdown",
     "checksum": "137e6c68facddd91a2bb6a129e3552ac",
     "grade": false,
     "grade_id": "cell-f49920e105b9ec8d",
     "locked": true,
     "schema_version": 3,
     "solution": false,
     "task": false
    }
   },
   "source": [
    "(c) Complete the following statement:\n",
    "\n",
    "When you add two one-dimensional NumPy arrays of different lengths,\n",
    "\n",
    "<ol>\n",
    "    <li>it works fine;</li>\n",
    "    <li>it generates an error message.</li>\n",
    "</ol>"
   ]
  },
  {
   "cell_type": "code",
   "execution_count": 34,
   "id": "hispanic-tractor",
   "metadata": {
    "deletable": false,
    "nbgrader": {
     "cell_type": "code",
     "checksum": "00e0a06f9430b55b902676b7d3a8ec1d",
     "grade": false,
     "grade_id": "cell-8cb815a797c62fab",
     "locked": false,
     "schema_version": 3,
     "solution": true,
     "task": false
    }
   },
   "outputs": [],
   "source": [
    "question3ic_answer = 2"
   ]
  },
  {
   "cell_type": "code",
   "execution_count": 35,
   "id": "suitable-burton",
   "metadata": {
    "deletable": false,
    "editable": false,
    "nbgrader": {
     "cell_type": "code",
     "checksum": "1401d7384eacded2480eff9775063921",
     "grade": true,
     "grade_id": "cell-d43f23b47e0b22e6",
     "locked": true,
     "points": 1,
     "schema_version": 3,
     "solution": false,
     "task": false
    }
   },
   "outputs": [
    {
     "name": "stdout",
     "output_type": "stream",
     "text": [
      "test case passed!\n"
     ]
    }
   ],
   "source": [
    "# 1 Mark\n",
    "assert(question3ic_answer == question3_ic())\n",
    "print('test case passed!')"
   ]
  },
  {
   "cell_type": "markdown",
   "id": "yellow-advance",
   "metadata": {
    "deletable": false,
    "editable": false,
    "nbgrader": {
     "cell_type": "markdown",
     "checksum": "b380aeb7cfe3f6920b9cef46151b57bf",
     "grade": false,
     "grade_id": "cell-dba17f4be9a5f522",
     "locked": true,
     "schema_version": 3,
     "solution": false,
     "task": false
    }
   },
   "source": [
    "(ii) Experiment with using the other arithmetic operators, ```-```, ```*```, ```/```, ```//``` and ```**``` on scalars and 1D NumPy arrays. Then:\n",
    "\n",
    "(a) Complete the following statement:\n",
    "\n",
    "When you multiply a one-dimensional NumPy array by 3, you\n",
    "\n",
    "<ol>\n",
    "    <li>create three copies of the array, joined head to tail, as with lists or tuples;</li>\n",
    "    <li>multiply each of the elements of the array separately by 3;</li>\n",
    "    <li>multiply only the first element (that is, the element with index 0) by 3;</li>\n",
    "    <li>none of the above: there's an error message.</li>\n",
    "</ol>"
   ]
  },
  {
   "cell_type": "code",
   "execution_count": 36,
   "id": "developing-tobago",
   "metadata": {
    "deletable": false,
    "nbgrader": {
     "cell_type": "code",
     "checksum": "707325289bb967162dae69c5daf2da2e",
     "grade": false,
     "grade_id": "cell-b1f4300e476618ed",
     "locked": false,
     "schema_version": 3,
     "solution": true,
     "task": false
    }
   },
   "outputs": [],
   "source": [
    "question3iia_answer = 2"
   ]
  },
  {
   "cell_type": "code",
   "execution_count": 37,
   "id": "retained-seeker",
   "metadata": {
    "deletable": false,
    "editable": false,
    "nbgrader": {
     "cell_type": "code",
     "checksum": "0f98704a2a4884c67bff9915011708e3",
     "grade": true,
     "grade_id": "cell-237e0bbc53d9d43e",
     "locked": true,
     "points": 1,
     "schema_version": 3,
     "solution": false,
     "task": false
    }
   },
   "outputs": [
    {
     "name": "stdout",
     "output_type": "stream",
     "text": [
      "test case passed!\n"
     ]
    }
   ],
   "source": [
    "# 1 Mark\n",
    "assert(question3iia_answer == question3_iia())\n",
    "print('test case passed!')"
   ]
  },
  {
   "cell_type": "markdown",
   "id": "personalized-columbus",
   "metadata": {
    "deletable": false,
    "editable": false,
    "nbgrader": {
     "cell_type": "markdown",
     "checksum": "74a7af01c88f0e80a5d6790d9e766822",
     "grade": false,
     "grade_id": "cell-18cb0cb42cbf39ec",
     "locked": true,
     "schema_version": 3,
     "solution": false,
     "task": false
    }
   },
   "source": [
    "(b) In which of the following circumstances can you use Python's arithmetic operators?\n",
    "\n",
    "I. To combine a scalar with a scalar.<br/>\n",
    "II. To combine a scalar with a 1D NumPy array of any length.<br/>\n",
    "III. To combine two 1D NumPy arrays of the same length.<br/>\n",
    "IV. To combine two 1D NumPy arrays of different lengths.\n",
    "\n",
    "<ol>\n",
    "    <li>All of them.</li>\n",
    "    <li>All of them except II.</li>\n",
    "    <li>All of them except IV.</li>\n",
    "    <li>All of them except II and IV.</li>\n",
    "</ol>"
   ]
  },
  {
   "cell_type": "code",
   "execution_count": 38,
   "id": "damaged-namibia",
   "metadata": {
    "deletable": false,
    "nbgrader": {
     "cell_type": "code",
     "checksum": "e284d0b650903c18f49b63627a5e4a7f",
     "grade": false,
     "grade_id": "cell-270dbaddd730484f",
     "locked": false,
     "schema_version": 3,
     "solution": true,
     "task": false
    }
   },
   "outputs": [],
   "source": [
    "question3iib_answer = 3"
   ]
  },
  {
   "cell_type": "code",
   "execution_count": 39,
   "id": "opened-trader",
   "metadata": {
    "deletable": false,
    "editable": false,
    "nbgrader": {
     "cell_type": "code",
     "checksum": "89fc0998ff6c22e5f220c1e06426d3ab",
     "grade": true,
     "grade_id": "cell-77c15fb7ccfeb3d6",
     "locked": true,
     "points": 1,
     "schema_version": 3,
     "solution": false,
     "task": false
    }
   },
   "outputs": [
    {
     "name": "stdout",
     "output_type": "stream",
     "text": [
      "test case passed!\n"
     ]
    }
   ],
   "source": [
    "# 1 Mark\n",
    "assert(question3iib_answer == question3_iib())\n",
    "print('test case passed!')"
   ]
  },
  {
   "cell_type": "markdown",
   "id": "fabulous-cisco",
   "metadata": {
    "deletable": false,
    "editable": false,
    "nbgrader": {
     "cell_type": "markdown",
     "checksum": "9b966771e502fee180b909b1d47f474e",
     "grade": false,
     "grade_id": "cell-c121ec2ee40320ab",
     "locked": true,
     "schema_version": 3,
     "solution": false,
     "task": false
    }
   },
   "source": [
    "(iii) Create the 2D NumPy arrays"
   ]
  },
  {
   "cell_type": "code",
   "execution_count": 40,
   "id": "other-retrieval",
   "metadata": {
    "deletable": false,
    "editable": false,
    "nbgrader": {
     "cell_type": "code",
     "checksum": "3858fa239dac8671fcd43c22909ed5ed",
     "grade": false,
     "grade_id": "cell-d2d032484873c7d5",
     "locked": true,
     "schema_version": 3,
     "solution": false,
     "task": false
    }
   },
   "outputs": [],
   "source": [
    "mat33 = np.array([[1,2,-1],[3,-4,0],[2,-1,1]])\n",
    "mat13 = np.array([[1,2,3]])\n",
    "mat31 = np.array([[1],[2],[3]])\n",
    "mat23 = np.array([[1,3,5],[1,2,4]])"
   ]
  },
  {
   "cell_type": "markdown",
   "id": "federal-lexington",
   "metadata": {
    "deletable": false,
    "editable": false,
    "nbgrader": {
     "cell_type": "markdown",
     "checksum": "f665a0c4bb608e7cc23195ce142663ff",
     "grade": false,
     "grade_id": "cell-9da54432c45791c8",
     "locked": true,
     "schema_version": 3,
     "solution": false,
     "task": false
    }
   },
   "source": [
    "Experiment, and consider the following claims:\n",
    "\n",
    "(a) When a $3\\times 3$ NumPy array is added to a $1 \\times 3$ NumPy array:\n",
    "\n",
    "<ol>\n",
    "    <li>an error is generated;</li>\n",
    "    <li>it works, and the $1 \\times 3$ array is treated as if it were three repeated rows;</li>\n",
    "    <li>it works, and the $1 \\times 3$ array is treated as if it were three repeated columns.</li>\n",
    "</ol>"
   ]
  },
  {
   "cell_type": "code",
   "execution_count": 41,
   "id": "massive-angle",
   "metadata": {
    "deletable": false,
    "nbgrader": {
     "cell_type": "code",
     "checksum": "1048f526e6a7cfbe367bf64a4905cbe6",
     "grade": false,
     "grade_id": "cell-a0594c26e4e367f1",
     "locked": false,
     "schema_version": 3,
     "solution": true,
     "task": false
    }
   },
   "outputs": [
    {
     "name": "stdout",
     "output_type": "stream",
     "text": [
      "[[ 1  2 -1]\n",
      " [ 3 -4  0]\n",
      " [ 2 -1  1]]\n",
      "[[1 2 3]]\n",
      "[[1]\n",
      " [2]\n",
      " [3]]\n",
      "[[1 3 5]\n",
      " [1 2 4]]\n"
     ]
    }
   ],
   "source": [
    "question3iiia_answer = 2\n",
    "mat33 = np.array([[1,2,-1],[3,-4,0],[2,-1,1]])\n",
    "mat13 = np.array([[1,2,3]])\n",
    "mat31 = np.array([[1],[2],[3]])\n",
    "mat23 = np.array([[1,3,5],[1,2,4]])\n",
    "\n",
    "print(mat33)\n",
    "print(mat13)\n",
    "print(mat31)\n",
    "print(mat23)"
   ]
  },
  {
   "cell_type": "code",
   "execution_count": 42,
   "id": "surprising-waters",
   "metadata": {
    "deletable": false,
    "editable": false,
    "nbgrader": {
     "cell_type": "code",
     "checksum": "87c48884ef67e8e5dce7f420e5af2ea8",
     "grade": true,
     "grade_id": "cell-b4cf36b001d570fc",
     "locked": true,
     "points": 1,
     "schema_version": 3,
     "solution": false,
     "task": false
    }
   },
   "outputs": [
    {
     "name": "stdout",
     "output_type": "stream",
     "text": [
      "test case passed!\n"
     ]
    }
   ],
   "source": [
    "# 1 Mark\n",
    "assert(question3iiia_answer == question3_iiia())\n",
    "print('test case passed!')"
   ]
  },
  {
   "cell_type": "markdown",
   "id": "established-tender",
   "metadata": {
    "deletable": false,
    "editable": false,
    "nbgrader": {
     "cell_type": "markdown",
     "checksum": "24bd37743b13d3d23de223b1c1474b42",
     "grade": false,
     "grade_id": "cell-a1f316935a940556",
     "locked": true,
     "schema_version": 3,
     "solution": false,
     "task": false
    }
   },
   "source": [
    "(b) When a $3\\times 3$ NumPy array is added to a $3 \\times 1$ NumPy array:\n",
    "\n",
    "<ol>\n",
    "    <li>an error is generated;</li>\n",
    "    <li>it works, and the $3 \\times 1$ array is treated as if it were three repeated rows;</li>\n",
    "    <li>it works, and the $3 \\times 1$ array is treated as if it were three repeated columns.</li>\n",
    "</ol>"
   ]
  },
  {
   "cell_type": "code",
   "execution_count": 43,
   "id": "stuffed-running",
   "metadata": {
    "deletable": false,
    "nbgrader": {
     "cell_type": "code",
     "checksum": "da422856cedfcafaf006014e389dad84",
     "grade": false,
     "grade_id": "cell-d6767f4dcf44ca69",
     "locked": false,
     "schema_version": 3,
     "solution": true,
     "task": false
    }
   },
   "outputs": [],
   "source": [
    "question3iiib_answer = 3"
   ]
  },
  {
   "cell_type": "code",
   "execution_count": 44,
   "id": "brown-welding",
   "metadata": {
    "deletable": false,
    "editable": false,
    "nbgrader": {
     "cell_type": "code",
     "checksum": "5ed8b16584437f3ef2bbc29277934315",
     "grade": true,
     "grade_id": "cell-47c7fa2c91873e9d",
     "locked": true,
     "points": 1,
     "schema_version": 3,
     "solution": false,
     "task": false
    }
   },
   "outputs": [
    {
     "name": "stdout",
     "output_type": "stream",
     "text": [
      "test case passed!\n"
     ]
    }
   ],
   "source": [
    "# 1 Mark\n",
    "assert(question3iiib_answer == question3_iiib())\n",
    "print('test case passed!')"
   ]
  },
  {
   "cell_type": "markdown",
   "id": "unlike-teaching",
   "metadata": {
    "deletable": false,
    "editable": false,
    "nbgrader": {
     "cell_type": "markdown",
     "checksum": "a97a2163b58e015a96533235823e8342",
     "grade": false,
     "grade_id": "cell-75991554aaabafc8",
     "locked": true,
     "schema_version": 3,
     "solution": false,
     "task": false
    }
   },
   "source": [
    "(c) When a $3\\times 3$ NumPy array is added to a $2 \\times 3$ NumPy array:\n",
    "\n",
    "<ol>\n",
    "    <li>an error is generated;</li>\n",
    "    <li>it works, with rows being repeated cyclically as necessary;</li>\n",
    "    <li>it works, with columns being repeated cyclically as necessary;</li>\n",
    "</ol>"
   ]
  },
  {
   "cell_type": "code",
   "execution_count": 45,
   "id": "split-cambridge",
   "metadata": {
    "deletable": false,
    "nbgrader": {
     "cell_type": "code",
     "checksum": "9f6b3a4d64819792fc5fc1cce066c26b",
     "grade": false,
     "grade_id": "cell-f3e24333aa57f4e8",
     "locked": false,
     "schema_version": 3,
     "solution": true,
     "task": false
    }
   },
   "outputs": [],
   "source": [
    "question3iiic_answer = 1"
   ]
  },
  {
   "cell_type": "code",
   "execution_count": 46,
   "id": "surgical-bulletin",
   "metadata": {
    "deletable": false,
    "editable": false,
    "nbgrader": {
     "cell_type": "code",
     "checksum": "18e11e4c35e9612871e376d4a25c8de9",
     "grade": true,
     "grade_id": "cell-589aa4ba9057b080",
     "locked": true,
     "points": 1,
     "schema_version": 3,
     "solution": false,
     "task": false
    }
   },
   "outputs": [
    {
     "name": "stdout",
     "output_type": "stream",
     "text": [
      "test case passed!\n"
     ]
    }
   ],
   "source": [
    "# 1 Mark\n",
    "assert(question3iiic_answer == question3_iiic())\n",
    "print('test case passed!')"
   ]
  },
  {
   "cell_type": "markdown",
   "id": "eleven-triple",
   "metadata": {
    "deletable": false,
    "editable": false,
    "nbgrader": {
     "cell_type": "markdown",
     "checksum": "e02d6b4c5e5fbc3a02b4211a781d5ca2",
     "grade": false,
     "grade_id": "cell-80eaec341dd8c8c9",
     "locked": true,
     "schema_version": 3,
     "solution": false,
     "task": false
    }
   },
   "source": [
    "(d) When a $3\\times 3$ NumPy array is added to a 1D array of length 3:\n",
    "\n",
    "<ol>\n",
    "    <li>an error is generated;</li>\n",
    "    <li>it works, and you get the same result as if the 1D array were a $1 \\times 3$ array;</li>\n",
    "    <li>it works, and you get the same result as if the 1D array were a $3 \\times 1$ array.</li>\n",
    "</ol>"
   ]
  },
  {
   "cell_type": "code",
   "execution_count": 47,
   "id": "electronic-specification",
   "metadata": {
    "deletable": false,
    "nbgrader": {
     "cell_type": "code",
     "checksum": "bd2002fc7dd60cceb710ce4b43cb5dd6",
     "grade": false,
     "grade_id": "cell-6d3c2880efdacf91",
     "locked": false,
     "schema_version": 3,
     "solution": true,
     "task": false
    }
   },
   "outputs": [
    {
     "name": "stdout",
     "output_type": "stream",
     "text": [
      "[[ 2  4  2]\n",
      " [ 4 -2  3]\n",
      " [ 3  1  4]]\n"
     ]
    }
   ],
   "source": [
    "question3iiid_answer = 2\n",
    "\n",
    "print(mat33 + mat13)"
   ]
  },
  {
   "cell_type": "code",
   "execution_count": 48,
   "id": "charitable-positive",
   "metadata": {
    "deletable": false,
    "editable": false,
    "nbgrader": {
     "cell_type": "code",
     "checksum": "83cd773620c42aae70bb0e47986f75e0",
     "grade": true,
     "grade_id": "cell-5ef0a020bd7e8f5d",
     "locked": true,
     "points": 1,
     "schema_version": 3,
     "solution": false,
     "task": false
    }
   },
   "outputs": [
    {
     "name": "stdout",
     "output_type": "stream",
     "text": [
      "test case passed!\n"
     ]
    }
   ],
   "source": [
    "# 1 Mark\n",
    "assert(question3iiid_answer == question3_iiid())\n",
    "print('test case passed!')"
   ]
  },
  {
   "cell_type": "markdown",
   "id": "fabulous-mattress",
   "metadata": {
    "deletable": false,
    "editable": false,
    "nbgrader": {
     "cell_type": "markdown",
     "checksum": "523fac3b2ba837750a658a669acdc7bb",
     "grade": false,
     "grade_id": "cell-b89125bebd675072",
     "locked": true,
     "schema_version": 3,
     "solution": false,
     "task": false
    }
   },
   "source": [
    "(iv) Experiment with commands like\n",
    "```python\n",
    "mat33 == mat33\n",
    "mat31 < mat33\n",
    "mat33 >= int_arr\n",
    "mat23 > mat33\n",
    "```\n",
    "and so on.\n",
    "\n",
    "Then:\n",
    "\n",
    "(a) Comparing two identical NumPy arrays using ```==```:\n",
    "\n",
    "<ol>\n",
    "    <li>creates the output <code>True</code>, just as if we were comparing lists or tuples;</li>\n",
    "    <li>creates an array with the same number of rows and columns, every entry of which is <code>True</code>;</li>\n",
    "    <li>generates an error message.</li>\n",
    "</ol>"
   ]
  },
  {
   "cell_type": "code",
   "execution_count": 49,
   "id": "threaded-growth",
   "metadata": {
    "deletable": false,
    "nbgrader": {
     "cell_type": "code",
     "checksum": "dc7e7d8aecc3645cf76b63a5722d7192",
     "grade": false,
     "grade_id": "cell-7ad8b0120c388fca",
     "locked": false,
     "schema_version": 3,
     "solution": true,
     "task": false
    }
   },
   "outputs": [
    {
     "name": "stdout",
     "output_type": "stream",
     "text": [
      "[[ True  True  True]\n",
      " [ True  True  True]\n",
      " [ True  True  True]]\n"
     ]
    }
   ],
   "source": [
    "question3iva_answer = 2\n",
    "print(mat33 == mat33)"
   ]
  },
  {
   "cell_type": "code",
   "execution_count": 50,
   "id": "agreed-happening",
   "metadata": {
    "deletable": false,
    "editable": false,
    "nbgrader": {
     "cell_type": "code",
     "checksum": "9016e05947930f574ec17bae57d3afab",
     "grade": true,
     "grade_id": "cell-48bfbbf9e696025f",
     "locked": true,
     "points": 1,
     "schema_version": 3,
     "solution": false,
     "task": false
    }
   },
   "outputs": [
    {
     "name": "stdout",
     "output_type": "stream",
     "text": [
      "test case passed!\n"
     ]
    }
   ],
   "source": [
    "# 1 Mark\n",
    "assert(question3iva_answer == question3_iva())\n",
    "print('test case passed!')"
   ]
  },
  {
   "cell_type": "markdown",
   "id": "rapid-generation",
   "metadata": {
    "deletable": false,
    "editable": false,
    "nbgrader": {
     "cell_type": "markdown",
     "checksum": "59aa7fcd1d54b18cf79ea6c32724a837",
     "grade": false,
     "grade_id": "cell-da3bc6d116392b4a",
     "locked": true,
     "schema_version": 3,
     "solution": false,
     "task": false
    }
   },
   "source": [
    "(b) True or False: two numerical NumPy arrays can be compared using ```==```, ```<```, ```>```, ```<=``` or ```>=``` if and only if they can be combined using ```+```, ```-```, ```*```, ```/```, ```//``` or ```**```."
   ]
  },
  {
   "cell_type": "code",
   "execution_count": 51,
   "id": "empty-discrimination",
   "metadata": {
    "deletable": false,
    "nbgrader": {
     "cell_type": "code",
     "checksum": "a24d063f83becda5c28836578b7f6f16",
     "grade": false,
     "grade_id": "cell-da472d31bb8ebb72",
     "locked": false,
     "schema_version": 3,
     "solution": true,
     "task": false
    }
   },
   "outputs": [],
   "source": [
    "question3ivb_answer = True"
   ]
  },
  {
   "cell_type": "code",
   "execution_count": 52,
   "id": "moral-advice",
   "metadata": {
    "deletable": false,
    "editable": false,
    "nbgrader": {
     "cell_type": "code",
     "checksum": "f8d8597a2acae3acc5a99dc53a9b64ee",
     "grade": true,
     "grade_id": "cell-bacfe302970cbe90",
     "locked": true,
     "points": 1,
     "schema_version": 3,
     "solution": false,
     "task": false
    }
   },
   "outputs": [
    {
     "name": "stdout",
     "output_type": "stream",
     "text": [
      "test case passed!\n"
     ]
    }
   ],
   "source": [
    "# 1 Mark\n",
    "assert(question3ivb_answer == question3_ivb())\n",
    "print('test case passed!')"
   ]
  },
  {
   "cell_type": "markdown",
   "id": "higher-designer",
   "metadata": {
    "deletable": false,
    "editable": false,
    "nbgrader": {
     "cell_type": "markdown",
     "checksum": "b3858eada921b51914ff841a9041ccd3",
     "grade": false,
     "grade_id": "cell-70864ca3fb0c787d",
     "locked": true,
     "schema_version": 3,
     "solution": false,
     "task": false
    }
   },
   "source": [
    "## Question 4\n",
    "\n",
    "(a) Complete the following statement. Once NumPy has been imported as `np`, the values of\n",
    "```python\n",
    "np.linspace(7, 101, 95)\n",
    "```\n",
    "and\n",
    "```python\n",
    "np.arange(7, 102, 1)\n",
    "```\n",
    "are\n",
    "\n",
    "<ol>\n",
    "    <li>identical in every respect;</li>\n",
    "    <li>equal (in all components), but not quite identical;</li>\n",
    "    <li>neither equal nor identical.</li>\n",
    "</ol>"
   ]
  },
  {
   "cell_type": "code",
   "execution_count": 53,
   "id": "refined-sheriff",
   "metadata": {
    "deletable": false,
    "nbgrader": {
     "cell_type": "code",
     "checksum": "401668c8c7d61cf30ffb4818287886e2",
     "grade": false,
     "grade_id": "cell-62e2d095683626b7",
     "locked": false,
     "schema_version": 3,
     "solution": true,
     "task": false
    }
   },
   "outputs": [
    {
     "name": "stdout",
     "output_type": "stream",
     "text": [
      "[  7.   8.   9.  10.  11.  12.  13.  14.  15.  16.  17.  18.  19.  20.\n",
      "  21.  22.  23.  24.  25.  26.  27.  28.  29.  30.  31.  32.  33.  34.\n",
      "  35.  36.  37.  38.  39.  40.  41.  42.  43.  44.  45.  46.  47.  48.\n",
      "  49.  50.  51.  52.  53.  54.  55.  56.  57.  58.  59.  60.  61.  62.\n",
      "  63.  64.  65.  66.  67.  68.  69.  70.  71.  72.  73.  74.  75.  76.\n",
      "  77.  78.  79.  80.  81.  82.  83.  84.  85.  86.  87.  88.  89.  90.\n",
      "  91.  92.  93.  94.  95.  96.  97.  98.  99. 100. 101.]\n",
      "[  7   8   9  10  11  12  13  14  15  16  17  18  19  20  21  22  23  24\n",
      "  25  26  27  28  29  30  31  32  33  34  35  36  37  38  39  40  41  42\n",
      "  43  44  45  46  47  48  49  50  51  52  53  54  55  56  57  58  59  60\n",
      "  61  62  63  64  65  66  67  68  69  70  71  72  73  74  75  76  77  78\n",
      "  79  80  81  82  83  84  85  86  87  88  89  90  91  92  93  94  95  96\n",
      "  97  98  99 100 101]\n"
     ]
    }
   ],
   "source": [
    "question4a_answer = 2\n",
    "\n",
    "print(np.linspace(7, 101, 95))\n",
    "\n",
    "print(np.arange(7, 102, 1))"
   ]
  },
  {
   "cell_type": "code",
   "execution_count": 54,
   "id": "posted-cleaner",
   "metadata": {
    "deletable": false,
    "editable": false,
    "nbgrader": {
     "cell_type": "code",
     "checksum": "eee1e447acc10c4838c560ac3e4e0509",
     "grade": true,
     "grade_id": "cell-57aa3854b3070f04",
     "locked": true,
     "points": 1,
     "schema_version": 3,
     "solution": false,
     "task": false
    }
   },
   "outputs": [
    {
     "name": "stdout",
     "output_type": "stream",
     "text": [
      "test case passed!\n"
     ]
    }
   ],
   "source": [
    "# 1 Mark\n",
    "assert(question4a_answer == question4_a())\n",
    "print('test case passed!')"
   ]
  },
  {
   "cell_type": "markdown",
   "id": "identified-taxation",
   "metadata": {
    "deletable": false,
    "editable": false,
    "nbgrader": {
     "cell_type": "markdown",
     "checksum": "bd2370d8b5b3d0f51685a1c610e8f038",
     "grade": false,
     "grade_id": "cell-896c49e7884c6c07",
     "locked": true,
     "schema_version": 3,
     "solution": false,
     "task": false
    }
   },
   "source": [
    "(b) Complete the following statement. Once NumPy has been imported as `np`, the values of\n",
    "```python\n",
    "np.sqrt(np.linspace(7, 101, 95))\n",
    "```\n",
    "and\n",
    "```python\n",
    "np.sqrt(np.arange(7, 102, 1))\n",
    "```\n",
    "are\n",
    "\n",
    "<ol>\n",
    "    <li>identical in every respect;</li>\n",
    "    <li>equal (in all components), but not quite identical;</li>\n",
    "    <li>neither equal nor identical.</li>\n",
    "</ol>"
   ]
  },
  {
   "cell_type": "code",
   "execution_count": 55,
   "id": "private-stone",
   "metadata": {
    "deletable": false,
    "nbgrader": {
     "cell_type": "code",
     "checksum": "5264993350c92f068b550851b0f7d020",
     "grade": false,
     "grade_id": "cell-c97303140529b98e",
     "locked": false,
     "schema_version": 3,
     "solution": true,
     "task": false
    }
   },
   "outputs": [
    {
     "name": "stdout",
     "output_type": "stream",
     "text": [
      "[ 2.64575131  2.82842712  3.          3.16227766  3.31662479  3.46410162\n",
      "  3.60555128  3.74165739  3.87298335  4.          4.12310563  4.24264069\n",
      "  4.35889894  4.47213595  4.58257569  4.69041576  4.79583152  4.89897949\n",
      "  5.          5.09901951  5.19615242  5.29150262  5.38516481  5.47722558\n",
      "  5.56776436  5.65685425  5.74456265  5.83095189  5.91607978  6.\n",
      "  6.08276253  6.164414    6.244998    6.32455532  6.40312424  6.4807407\n",
      "  6.55743852  6.63324958  6.70820393  6.78232998  6.8556546   6.92820323\n",
      "  7.          7.07106781  7.14142843  7.21110255  7.28010989  7.34846923\n",
      "  7.41619849  7.48331477  7.54983444  7.61577311  7.68114575  7.74596669\n",
      "  7.81024968  7.87400787  7.93725393  8.          8.06225775  8.1240384\n",
      "  8.18535277  8.24621125  8.30662386  8.36660027  8.42614977  8.48528137\n",
      "  8.54400375  8.60232527  8.66025404  8.71779789  8.77496439  8.83176087\n",
      "  8.88819442  8.94427191  9.          9.05538514  9.11043358  9.16515139\n",
      "  9.21954446  9.2736185   9.32737905  9.38083152  9.43398113  9.48683298\n",
      "  9.53939201  9.59166305  9.64365076  9.69535971  9.74679434  9.79795897\n",
      "  9.8488578   9.89949494  9.94987437 10.         10.04987562]\n",
      "[ 2.64575131  2.82842712  3.          3.16227766  3.31662479  3.46410162\n",
      "  3.60555128  3.74165739  3.87298335  4.          4.12310563  4.24264069\n",
      "  4.35889894  4.47213595  4.58257569  4.69041576  4.79583152  4.89897949\n",
      "  5.          5.09901951  5.19615242  5.29150262  5.38516481  5.47722558\n",
      "  5.56776436  5.65685425  5.74456265  5.83095189  5.91607978  6.\n",
      "  6.08276253  6.164414    6.244998    6.32455532  6.40312424  6.4807407\n",
      "  6.55743852  6.63324958  6.70820393  6.78232998  6.8556546   6.92820323\n",
      "  7.          7.07106781  7.14142843  7.21110255  7.28010989  7.34846923\n",
      "  7.41619849  7.48331477  7.54983444  7.61577311  7.68114575  7.74596669\n",
      "  7.81024968  7.87400787  7.93725393  8.          8.06225775  8.1240384\n",
      "  8.18535277  8.24621125  8.30662386  8.36660027  8.42614977  8.48528137\n",
      "  8.54400375  8.60232527  8.66025404  8.71779789  8.77496439  8.83176087\n",
      "  8.88819442  8.94427191  9.          9.05538514  9.11043358  9.16515139\n",
      "  9.21954446  9.2736185   9.32737905  9.38083152  9.43398113  9.48683298\n",
      "  9.53939201  9.59166305  9.64365076  9.69535971  9.74679434  9.79795897\n",
      "  9.8488578   9.89949494  9.94987437 10.         10.04987562]\n"
     ]
    }
   ],
   "source": [
    "question4b_answer = 1\n",
    "\n",
    "print(np.sqrt(np.linspace(7, 101, 95)))\n",
    "\n",
    "print(np.sqrt(np.arange(7, 102, 1)))"
   ]
  },
  {
   "cell_type": "code",
   "execution_count": 56,
   "id": "bridal-enforcement",
   "metadata": {
    "deletable": false,
    "editable": false,
    "nbgrader": {
     "cell_type": "code",
     "checksum": "7c8d78747e950e3a7f8c1eb876de3f74",
     "grade": true,
     "grade_id": "cell-d8ec207d1d90bfc5",
     "locked": true,
     "points": 1,
     "schema_version": 3,
     "solution": false,
     "task": false
    }
   },
   "outputs": [
    {
     "name": "stdout",
     "output_type": "stream",
     "text": [
      "test case passed!\n"
     ]
    }
   ],
   "source": [
    "# 1 Mark\n",
    "assert(question4b_answer == question4_b())\n",
    "print('test case passed!')"
   ]
  },
  {
   "cell_type": "markdown",
   "id": "traditional-officer",
   "metadata": {
    "deletable": false,
    "editable": false,
    "nbgrader": {
     "cell_type": "markdown",
     "checksum": "afc1190215d1efed98c29284722702bd",
     "grade": false,
     "grade_id": "cell-92b73f311dcc60dc",
     "locked": true,
     "schema_version": 3,
     "solution": false,
     "task": false
    }
   },
   "source": [
    "(c) Using either `linspace` or `arange`, create a 1D NumPy array called `theta_array` consisting of 401 equally-spaced values between $0$ and $2\\,\\pi$.\n",
    "\n",
    "Then create another 1D NumPy array called `x_array` consisting of $\\cos(3\\,\\theta)$ for each $\\theta$ in `theta_array` (you shouldn't need to use a loop or a comprehension for this, though autograding won't be able to tell if you have).\n",
    "\n",
    "Create, too, a 1D NumPy array called `y_array` consisting of $\\sin(5\\,\\theta)$ for each $\\theta$ in `theta_array`.\n",
    "\n",
    "Finally, create a plot of `x_array` (on the horizontal axis) against `y_array` (on the vertical axis). Autograding won't be able to tell if you've done this right."
   ]
  },
  {
   "cell_type": "code",
   "execution_count": 57,
   "id": "close-cleaners",
   "metadata": {
    "deletable": false,
    "nbgrader": {
     "cell_type": "code",
     "checksum": "d2946126148d56703ed894efd100a400",
     "grade": false,
     "grade_id": "cell-af56d68000c9fd5f",
     "locked": false,
     "schema_version": 3,
     "solution": true,
     "task": false
    }
   },
   "outputs": [
    {
     "data": {
      "text/plain": [
       "[<matplotlib.lines.Line2D at 0x1e093cf2400>]"
      ]
     },
     "execution_count": 57,
     "metadata": {},
     "output_type": "execute_result"
    },
    {
     "data": {
      "image/png": "[encoded data removed]",
      "text/plain": [
       "<Figure size 432x288 with 1 Axes>"
      ]
     },
     "metadata": {
      "needs_background": "light"
     },
     "output_type": "display_data"
    }
   ],
   "source": [
    "%matplotlib inline\n",
    "import matplotlib.pyplot as plt\n",
    "\n",
    "theta_array = np.linspace(0, 2 * np.pi, 401)\n",
    "\n",
    "x_array = np.cos(3 * theta_array)\n",
    "\n",
    "y_array = np.sin(5 * theta_array)\n",
    "\n",
    "plt.plot(x_array, y_array)"
   ]
  },
  {
   "cell_type": "code",
   "execution_count": 58,
   "id": "hungry-indonesian",
   "metadata": {
    "deletable": false,
    "editable": false,
    "nbgrader": {
     "cell_type": "code",
     "checksum": "47a980d4c90de0cba1d903a4e866beb2",
     "grade": true,
     "grade_id": "cell-df35ac4da0a1a0fd",
     "locked": true,
     "points": 3,
     "schema_version": 3,
     "solution": false,
     "task": false
    }
   },
   "outputs": [
    {
     "name": "stdout",
     "output_type": "stream",
     "text": [
      "Correct value for theta_array\n",
      "Correct value for x_array\n",
      "Correct value for y_array\n",
      "3 out of 3\n"
     ]
    },
    {
     "data": {
      "text/plain": [
       "3"
      ]
     },
     "execution_count": 58,
     "metadata": {},
     "output_type": "execute_result"
    }
   ],
   "source": [
    "# 3 Marks\n",
    "# Do not try to delete this cell\n",
    "# Run this cell for grading\n",
    "_globals = globals()\n",
    "question4c(_globals)"
   ]
  },
  {
   "cell_type": "markdown",
   "id": "essential-employer",
   "metadata": {
    "deletable": false,
    "editable": false,
    "nbgrader": {
     "cell_type": "markdown",
     "checksum": "5ab154a6ddfc8be493a1de9bcc5baff5",
     "grade": false,
     "grade_id": "cell-ab70d8c2d4c56067",
     "locked": true,
     "schema_version": 3,
     "solution": false,
     "task": false
    }
   },
   "source": [
    "## Question 5\n",
    "\n",
    "(i) Investigate expressions like\n",
    "```python\n",
    "np.dot(mat23, mat33)\n",
    "np.dot(mat33, mat31)\n",
    "np.dot(mat33, int_arr)\n",
    "np.dot(int_arr, int_arr2)\n",
    "```\n",
    "etc. Then:\n",
    "\n",
    "(a) The `dot` function in the NumPy module can be used to find\n",
    "\n",
    "<ol>\n",
    "    <li>the scalar product of two vectors represented as 1D arrays;</li>\n",
    "    <li>the matrix product of two matrices represented as 2D arrays;</li>\n",
    "    <li>both.</li>\n",
    "</ol>"
   ]
  },
  {
   "cell_type": "code",
   "execution_count": 59,
   "id": "gorgeous-surveillance",
   "metadata": {
    "deletable": false,
    "nbgrader": {
     "cell_type": "code",
     "checksum": "a4038c98129ca1d34f9c40b8899651d7",
     "grade": false,
     "grade_id": "cell-b08d42f459524526",
     "locked": false,
     "schema_version": 3,
     "solution": true,
     "task": false
    }
   },
   "outputs": [],
   "source": [
    "question5ia_answer = 3"
   ]
  },
  {
   "cell_type": "code",
   "execution_count": 60,
   "id": "corrected-warning",
   "metadata": {
    "deletable": false,
    "editable": false,
    "nbgrader": {
     "cell_type": "code",
     "checksum": "b7895b089be205b369736cbc80641c71",
     "grade": true,
     "grade_id": "cell-0c393b69be5aaeaf",
     "locked": true,
     "points": 1,
     "schema_version": 3,
     "solution": false,
     "task": false
    }
   },
   "outputs": [
    {
     "name": "stdout",
     "output_type": "stream",
     "text": [
      "test case passed!\n"
     ]
    }
   ],
   "source": [
    "# 1 Mark\n",
    "assert(question5ia_answer == question5_ia())\n",
    "print('test case passed!')"
   ]
  },
  {
   "cell_type": "markdown",
   "id": "oriental-screw",
   "metadata": {
    "deletable": false,
    "editable": false,
    "nbgrader": {
     "cell_type": "markdown",
     "checksum": "a6c2b97f296a733610ba688279ab1019",
     "grade": false,
     "grade_id": "cell-1ee12a3c0bcdf0f2",
     "locked": true,
     "schema_version": 3,
     "solution": false,
     "task": false
    }
   },
   "source": [
    "(b) Which of the following work; that is, don't generate an error message? \n",
    "\n",
    "<ol>\n",
    "    <li><code>np.dot(mata, matb)</code>, where <code>mata</code> and <code>matb</code> are $3\\times 3$ matrices?</li>\n",
    "    <li><code>np.dot(mata, matb)</code>, where <code>mata</code> is a $3 \\times 3$ matrix and <code>matb</code> is a $3 \\times 1$ matrix?</li>\n",
    "    <li><code>np.dot(mata, matb)</code>, where <code>mata</code> is a $3 \\times 3$ matrix and <code>matb</code> is a $1 \\times 3$ matrix?</li>\n",
    "    <li><code>np.dot(mata, matb)</code>, where <code>mata</code> is a $1 \\times 3$ matrix and <code>matb</code> is a $3 \\times 3$ matrix?</li>\n",
    "    <li><code>np.dot(mata, matb)</code>, where <code>mata</code> is a $3 \\times 1$ matrix and <code>matb</code> is a $3 \\times 3$ matrix?</li>\n",
    "</ol>\n",
    "\n",
    "Type in your answers in curly brackets separated by commas; for example, if you think 1, 3 and 5 are the correct answers, type in `{1, 3, 5}`."
   ]
  },
  {
   "cell_type": "code",
   "execution_count": 61,
   "id": "terminal-welsh",
   "metadata": {
    "deletable": false,
    "nbgrader": {
     "cell_type": "code",
     "checksum": "b5de71f3b9e092f2e891677c0517dfcf",
     "grade": false,
     "grade_id": "cell-4b8f3784cbe2da4c",
     "locked": false,
     "schema_version": 3,
     "solution": true,
     "task": false
    }
   },
   "outputs": [],
   "source": [
    "question5ib_answer = {1, 2, 4}"
   ]
  },
  {
   "cell_type": "code",
   "execution_count": 62,
   "id": "cellular-sandwich",
   "metadata": {
    "deletable": false,
    "editable": false,
    "nbgrader": {
     "cell_type": "code",
     "checksum": "2453d88fd086b23e6701175f6204e45d",
     "grade": true,
     "grade_id": "cell-9f915f532f6cf07c",
     "locked": true,
     "points": 1,
     "schema_version": 3,
     "solution": false,
     "task": false
    }
   },
   "outputs": [
    {
     "name": "stdout",
     "output_type": "stream",
     "text": [
      "test case passed!\n"
     ]
    }
   ],
   "source": [
    "# 1 Mark\n",
    "assert(question5ib_answer == question5_ib())\n",
    "print('test case passed!')"
   ]
  },
  {
   "cell_type": "markdown",
   "id": "meaningful-regulation",
   "metadata": {
    "deletable": false,
    "editable": false,
    "nbgrader": {
     "cell_type": "markdown",
     "checksum": "103c2f8f03e78ebf532049d33a87f4cb",
     "grade": false,
     "grade_id": "cell-8581e7aa28afd3dc",
     "locked": true,
     "schema_version": 3,
     "solution": false,
     "task": false
    }
   },
   "source": [
    "(c) Suppose `mat` is a $3 \\times 3$ NumPy array and `vec` is a 1D array of length 3; numerical in each case. Then the expressions\n",
    "\n",
    "```python\n",
    "np.dot(mat, vec)\n",
    "np.dot(vec, mat)\n",
    "```\n",
    "\n",
    "<ol>\n",
    "    <li>both work, and generate the same output;</li>\n",
    "    <li>both work, and generate different output;</li>\n",
    "    <li>work in the first case, though the second generates an error message;</li>\n",
    "    <li>work in the second case, though the first generates an error message;</li>\n",
    "    <li>both fail, generating error messages.</li>"
   ]
  },
  {
   "cell_type": "code",
   "execution_count": 63,
   "id": "amateur-frequency",
   "metadata": {
    "deletable": false,
    "nbgrader": {
     "cell_type": "code",
     "checksum": "a0a8bed87044ee28e3cbc02b8be5433f",
     "grade": false,
     "grade_id": "cell-5be9b1a83a30a998",
     "locked": false,
     "schema_version": 3,
     "solution": true,
     "task": false
    }
   },
   "outputs": [],
   "source": [
    "question5ic_answer = 2"
   ]
  },
  {
   "cell_type": "code",
   "execution_count": 64,
   "id": "opponent-listening",
   "metadata": {
    "deletable": false,
    "editable": false,
    "nbgrader": {
     "cell_type": "code",
     "checksum": "5bf295e826c29b71606453edecb66807",
     "grade": true,
     "grade_id": "cell-6980e868995ee762",
     "locked": true,
     "points": 1,
     "schema_version": 3,
     "solution": false,
     "task": false
    }
   },
   "outputs": [
    {
     "name": "stdout",
     "output_type": "stream",
     "text": [
      "test case passed!\n"
     ]
    }
   ],
   "source": [
    "# 1 Mark\n",
    "assert(question5ic_answer == question5_ic())\n",
    "print('test case passed!')"
   ]
  },
  {
   "cell_type": "markdown",
   "id": "national-translation",
   "metadata": {
    "deletable": false,
    "editable": false,
    "nbgrader": {
     "cell_type": "markdown",
     "checksum": "5e3271531d089fe7edeffc4eeae4911e",
     "grade": false,
     "grade_id": "cell-cbb29ec67411ef54",
     "locked": true,
     "schema_version": 3,
     "solution": false,
     "task": false
    }
   },
   "source": [
    "(d) Suppose `mat` is a $3 \\times 3$ NumPy array and `vec` is a 1D array of length 3; numerical in each case. Then, in the expressions\n",
    "\n",
    "```python\n",
    "np.dot(mat, vec)\n",
    "np.dot(vec, mat)\n",
    "```\n",
    "\n",
    "the 1D array `vec` is interpreted by Python\n",
    "\n",
    "<ol>\n",
    "    <li>as a row vector in both cases;</li>\n",
    "    <li>as a column vector in both cases;</li>\n",
    "    <li>as a row vector in the first case and a column vector in the second case;</li>\n",
    "    <li>as a column vector in the first case and a row vector in the second case.</li> \n",
    "</ol>"
   ]
  },
  {
   "cell_type": "code",
   "execution_count": 65,
   "id": "popular-engineer",
   "metadata": {
    "deletable": false,
    "nbgrader": {
     "cell_type": "code",
     "checksum": "683894d8e6b20a440c786ee865083db4",
     "grade": false,
     "grade_id": "cell-e4ba1626c13d76c0",
     "locked": false,
     "schema_version": 3,
     "solution": true,
     "task": false
    }
   },
   "outputs": [],
   "source": [
    "question5id_answer = 4"
   ]
  },
  {
   "cell_type": "code",
   "execution_count": 66,
   "id": "digital-norway",
   "metadata": {
    "deletable": false,
    "editable": false,
    "nbgrader": {
     "cell_type": "code",
     "checksum": "e0f3f423e1ee439f1f44d7b82ed0385c",
     "grade": true,
     "grade_id": "cell-b4fae0f7029c8219",
     "locked": true,
     "points": 1,
     "schema_version": 3,
     "solution": false,
     "task": false
    }
   },
   "outputs": [
    {
     "name": "stdout",
     "output_type": "stream",
     "text": [
      "test case passed!\n"
     ]
    }
   ],
   "source": [
    "# 1 Mark\n",
    "assert(question5id_answer == question5_id())\n",
    "print('test case passed!')"
   ]
  },
  {
   "cell_type": "markdown",
   "id": "standing-shanghai",
   "metadata": {
    "deletable": false,
    "editable": false,
    "nbgrader": {
     "cell_type": "markdown",
     "checksum": "bae4d67ca7787e48fb26fb1139b9ecaf",
     "grade": false,
     "grade_id": "cell-9aa105030c41367b",
     "locked": true,
     "schema_version": 3,
     "solution": false,
     "task": false
    }
   },
   "source": [
    "(ii) The matrix $A$ is defined by\n",
    "\n",
    "$$A = \\left(\\begin{array}{cccc}\n",
    "1&-3&2&2\\\\0&1&0&-1\\\\1&3&1&-2\\\\-2&0&-3&-2\n",
    "\\end{array}\\right)$$\n",
    "\n",
    "and the vector ${\\bf v}$ by\n",
    "\n",
    "$${\\bf v} = \\left(\\begin{array}{c}\n",
    "0\\\\-2\\\\-5\\\\-1\n",
    "\\end{array}\\right).$$\n",
    "\n",
    "(a) Set them up in Python as, respectively, a $4 \\times 4$ NumPy array and a 1D NumPy array of length 4."
   ]
  },
  {
   "cell_type": "code",
   "execution_count": 67,
   "id": "mighty-wheat",
   "metadata": {
    "deletable": false,
    "nbgrader": {
     "cell_type": "code",
     "checksum": "5bc7d20df9bc298c15a821b04e995f71",
     "grade": false,
     "grade_id": "cell-c73166e37cc04512",
     "locked": false,
     "schema_version": 3,
     "solution": true,
     "task": false
    }
   },
   "outputs": [],
   "source": [
    "A = np.array([[1, -3, 2, 2], [0, 1, 0, -1], [1, 3, 1, -2], [-2, 0, -3, -2]])\n",
    "\n",
    "v = np.array([0, -2, -5, -1])"
   ]
  },
  {
   "cell_type": "code",
   "execution_count": 68,
   "id": "ruled-diana",
   "metadata": {
    "deletable": false,
    "editable": false,
    "nbgrader": {
     "cell_type": "code",
     "checksum": "6f368021a54c2df1dfa2d2d10beeccc7",
     "grade": true,
     "grade_id": "cell-4abdd3e56000e898",
     "locked": true,
     "points": 2,
     "schema_version": 3,
     "solution": false,
     "task": false
    }
   },
   "outputs": [
    {
     "name": "stdout",
     "output_type": "stream",
     "text": [
      "Correct value for A\n",
      "Correct value for v\n",
      "2 out of 2\n"
     ]
    },
    {
     "data": {
      "text/plain": [
       "2"
      ]
     },
     "execution_count": 68,
     "metadata": {},
     "output_type": "execute_result"
    }
   ],
   "source": [
    "# 2 Marks\n",
    "# Do not try to delete this cell\n",
    "# Run this cell for grading\n",
    "_globals = globals()\n",
    "question5iia(_globals)"
   ]
  },
  {
   "cell_type": "markdown",
   "id": "elementary-virus",
   "metadata": {
    "deletable": false,
    "editable": false,
    "nbgrader": {
     "cell_type": "markdown",
     "checksum": "d6354188bc5b386bc19901dc0e2f22ed",
     "grade": false,
     "grade_id": "cell-969f59e4894d3d19",
     "locked": true,
     "schema_version": 3,
     "solution": false,
     "task": false
    }
   },
   "source": [
    "Import the `linalg` submodule of the NumPy module, and using functions from it, calculate:\n",
    "\n",
    "(b) The norm, or magnitude, of the vector ${\\bf v}$, $|{\\bf v}|$ (sometimes written $||{\\bf v}||$). Call this `normv`."
   ]
  },
  {
   "cell_type": "code",
   "execution_count": 69,
   "id": "moral-perry",
   "metadata": {
    "deletable": false,
    "nbgrader": {
     "cell_type": "code",
     "checksum": "85ffb82dafe3cd2b4b3bb4a8bdb43ab2",
     "grade": false,
     "grade_id": "cell-91f9867623ca4977",
     "locked": false,
     "schema_version": 3,
     "solution": true,
     "task": false
    }
   },
   "outputs": [
    {
     "name": "stdout",
     "output_type": "stream",
     "text": [
      "5.477225575051661\n"
     ]
    }
   ],
   "source": [
    "import numpy.linalg as la\n",
    "normv = la.norm(v)\n",
    "print(normv)"
   ]
  },
  {
   "cell_type": "code",
   "execution_count": 70,
   "id": "acknowledged-proposal",
   "metadata": {
    "deletable": false,
    "editable": false,
    "nbgrader": {
     "cell_type": "code",
     "checksum": "1ee9a3c87c7e49da2db6bbdded77ea45",
     "grade": true,
     "grade_id": "cell-ee2f35e08eee306a",
     "locked": true,
     "points": 1,
     "schema_version": 3,
     "solution": false,
     "task": false
    }
   },
   "outputs": [
    {
     "name": "stdout",
     "output_type": "stream",
     "text": [
      "Correct value for normv\n"
     ]
    },
    {
     "data": {
      "text/plain": [
       "1"
      ]
     },
     "execution_count": 70,
     "metadata": {},
     "output_type": "execute_result"
    }
   ],
   "source": [
    "# 1 Mark\n",
    "# Do not try to delete this cell\n",
    "# Run this cell for grading\n",
    "_globals = globals()\n",
    "question5iib(_globals)"
   ]
  },
  {
   "cell_type": "markdown",
   "id": "stretch-knitting",
   "metadata": {
    "deletable": false,
    "editable": false,
    "nbgrader": {
     "cell_type": "markdown",
     "checksum": "e082f9f2f9623684411355b70808ab35",
     "grade": false,
     "grade_id": "cell-f9e6ea0cc656ba1f",
     "locked": true,
     "schema_version": 3,
     "solution": false,
     "task": false
    }
   },
   "source": [
    "(c) The 1-norm of ${\\bf v}$, $||{\\bf v}||_1$, equal to the sum of the absolute values of ${\\bf v}$'s components. Call this `norm1v`."
   ]
  },
  {
   "cell_type": "code",
   "execution_count": 71,
   "id": "colonial-brain",
   "metadata": {
    "deletable": false,
    "nbgrader": {
     "cell_type": "code",
     "checksum": "f454018ea4fd2c7b8a9fce301e618260",
     "grade": false,
     "grade_id": "cell-f13390acb597945e",
     "locked": false,
     "schema_version": 3,
     "solution": true,
     "task": false
    }
   },
   "outputs": [
    {
     "name": "stdout",
     "output_type": "stream",
     "text": [
      "8.0\n"
     ]
    }
   ],
   "source": [
    "norm1v = la.norm(v, 1)\n",
    "print(norm1v)"
   ]
  },
  {
   "cell_type": "code",
   "execution_count": 72,
   "id": "assumed-bhutan",
   "metadata": {
    "deletable": false,
    "editable": false,
    "nbgrader": {
     "cell_type": "code",
     "checksum": "d42ef0aa0bb4f4ff497af12c2605eefe",
     "grade": true,
     "grade_id": "cell-debc459b8c1d3bfd",
     "locked": true,
     "points": 1,
     "schema_version": 3,
     "solution": false,
     "task": false
    }
   },
   "outputs": [
    {
     "name": "stdout",
     "output_type": "stream",
     "text": [
      "Correct value for norm1v\n"
     ]
    },
    {
     "data": {
      "text/plain": [
       "1"
      ]
     },
     "execution_count": 72,
     "metadata": {},
     "output_type": "execute_result"
    }
   ],
   "source": [
    "# 1 Mark\n",
    "# Do not try to delete this cell\n",
    "# Run this cell for grading\n",
    "_globals = globals()\n",
    "question5iic(_globals)"
   ]
  },
  {
   "cell_type": "markdown",
   "id": "surrounded-illustration",
   "metadata": {
    "deletable": false,
    "editable": false,
    "nbgrader": {
     "cell_type": "markdown",
     "checksum": "a166cefc295891776506bf559b142b11",
     "grade": false,
     "grade_id": "cell-0f5290d50abcdc2e",
     "locked": true,
     "schema_version": 3,
     "solution": false,
     "task": false
    }
   },
   "source": [
    "(d) The $\\infty$-norm of ${\\bf v}$, $||{\\bf v}||_\\infty$, equal to the maximum absolute value of ${\\bf v}$'s components. Call this `norminfv`."
   ]
  },
  {
   "cell_type": "code",
   "execution_count": 112,
   "id": "positive-suicide",
   "metadata": {
    "deletable": false,
    "nbgrader": {
     "cell_type": "code",
     "checksum": "c60464974279d768bf2da914ccce8dcc",
     "grade": false,
     "grade_id": "cell-93aadf5cb000e879",
     "locked": false,
     "schema_version": 3,
     "solution": true,
     "task": false
    }
   },
   "outputs": [
    {
     "name": "stdout",
     "output_type": "stream",
     "text": [
      "5.0\n"
     ]
    }
   ],
   "source": [
    "norminfv = la.norm(v, np.inf)\n",
    "print(norminfv)"
   ]
  },
  {
   "cell_type": "code",
   "execution_count": 113,
   "id": "mechanical-story",
   "metadata": {
    "deletable": false,
    "editable": false,
    "nbgrader": {
     "cell_type": "code",
     "checksum": "80c680a73697e85f4d172873efbd25f6",
     "grade": true,
     "grade_id": "cell-19a9351daa840d32",
     "locked": true,
     "points": 1,
     "schema_version": 3,
     "solution": false,
     "task": false
    }
   },
   "outputs": [
    {
     "name": "stdout",
     "output_type": "stream",
     "text": [
      "Correct value for norminfv\n"
     ]
    },
    {
     "data": {
      "text/plain": [
       "1"
      ]
     },
     "execution_count": 113,
     "metadata": {},
     "output_type": "execute_result"
    }
   ],
   "source": [
    "# 1 Mark\n",
    "# Do not try to delete this cell\n",
    "# Run this cell for grading\n",
    "_globals = globals()\n",
    "question5iid(_globals)"
   ]
  },
  {
   "cell_type": "markdown",
   "id": "inclusive-community",
   "metadata": {
    "deletable": false,
    "editable": false,
    "nbgrader": {
     "cell_type": "markdown",
     "checksum": "80cf61775bd6ce6721b1c7f2f9f9c00d",
     "grade": false,
     "grade_id": "cell-eb433fb2263278a5",
     "locked": true,
     "schema_version": 3,
     "solution": false,
     "task": false
    }
   },
   "source": [
    "(e) The determinant of $A$. Call this `detA`."
   ]
  },
  {
   "cell_type": "code",
   "execution_count": 75,
   "id": "beneficial-youth",
   "metadata": {
    "deletable": false,
    "nbgrader": {
     "cell_type": "code",
     "checksum": "f844b012ba90f57fa4054761407582e8",
     "grade": false,
     "grade_id": "cell-937de8cbc2599027",
     "locked": false,
     "schema_version": 3,
     "solution": true,
     "task": false
    }
   },
   "outputs": [
    {
     "name": "stdout",
     "output_type": "stream",
     "text": [
      "2.0\n"
     ]
    }
   ],
   "source": [
    "detA = la.det(A)\n",
    "print(detA)"
   ]
  },
  {
   "cell_type": "code",
   "execution_count": 76,
   "id": "hindu-colonial",
   "metadata": {
    "deletable": false,
    "editable": false,
    "nbgrader": {
     "cell_type": "code",
     "checksum": "5c8afe39c3be37477f09b67a4a5a5031",
     "grade": true,
     "grade_id": "cell-569be2cbbb9eed1d",
     "locked": true,
     "points": 1,
     "schema_version": 3,
     "solution": false,
     "task": false
    }
   },
   "outputs": [
    {
     "name": "stdout",
     "output_type": "stream",
     "text": [
      "Correct value for detA\n"
     ]
    },
    {
     "data": {
      "text/plain": [
       "1"
      ]
     },
     "execution_count": 76,
     "metadata": {},
     "output_type": "execute_result"
    }
   ],
   "source": [
    "# 1 Mark\n",
    "# Do not try to delete this cell\n",
    "# Run this cell for grading\n",
    "_globals = globals()\n",
    "question5iie(_globals)"
   ]
  },
  {
   "cell_type": "markdown",
   "id": "controlling-deficit",
   "metadata": {
    "deletable": false,
    "editable": false,
    "nbgrader": {
     "cell_type": "markdown",
     "checksum": "7e982e9e3d925cb664fc579005aa18b4",
     "grade": false,
     "grade_id": "cell-8dd540ac6f01a2cb",
     "locked": true,
     "schema_version": 3,
     "solution": false,
     "task": false
    }
   },
   "source": [
    "(f) The inverse matrix of $A$. Call this `invA`."
   ]
  },
  {
   "cell_type": "code",
   "execution_count": 77,
   "id": "golden-voice",
   "metadata": {
    "deletable": false,
    "nbgrader": {
     "cell_type": "code",
     "checksum": "ee601a1a5add442e031fd426a769d4a2",
     "grade": false,
     "grade_id": "cell-7219a649ec63e886",
     "locked": false,
     "schema_version": 3,
     "solution": true,
     "task": false
    }
   },
   "outputs": [
    {
     "name": "stdout",
     "output_type": "stream",
     "text": [
      "[[ 5.00000000e-01 -9.00000000e+00  3.50000000e+00  1.50000000e+00]\n",
      " [-5.00000000e-01  1.00000000e+00 -5.00000000e-01 -5.00000000e-01]\n",
      " [-1.66533454e-16  6.00000000e+00 -2.00000000e+00 -1.00000000e+00]\n",
      " [-5.00000000e-01 -0.00000000e+00 -5.00000000e-01 -5.00000000e-01]]\n"
     ]
    }
   ],
   "source": [
    "invA = la.inv(A)\n",
    "print(invA)"
   ]
  },
  {
   "cell_type": "code",
   "execution_count": 78,
   "id": "catholic-blind",
   "metadata": {
    "deletable": false,
    "editable": false,
    "nbgrader": {
     "cell_type": "code",
     "checksum": "73394f0c39a8b602ec18d472e968807b",
     "grade": true,
     "grade_id": "cell-90c1abd85cc154bd",
     "locked": true,
     "points": 1,
     "schema_version": 3,
     "solution": false,
     "task": false
    }
   },
   "outputs": [
    {
     "name": "stdout",
     "output_type": "stream",
     "text": [
      "Correct value for invA\n"
     ]
    },
    {
     "data": {
      "text/plain": [
       "1"
      ]
     },
     "execution_count": 78,
     "metadata": {},
     "output_type": "execute_result"
    }
   ],
   "source": [
    "# 1 Mark\n",
    "# Do not try to delete this cell\n",
    "# Run this cell for grading\n",
    "_globals = globals()\n",
    "question5iif(_globals)"
   ]
  },
  {
   "cell_type": "markdown",
   "id": "micro-wages",
   "metadata": {
    "deletable": false,
    "editable": false,
    "nbgrader": {
     "cell_type": "markdown",
     "checksum": "356e81bd1bcb046eed4ab0634b236d0a",
     "grade": false,
     "grade_id": "cell-10e5294e3dac4ddb",
     "locked": true,
     "schema_version": 3,
     "solution": false,
     "task": false
    }
   },
   "source": [
    "(g) The eigenvalues of A. Call these `eigA`."
   ]
  },
  {
   "cell_type": "code",
   "execution_count": 79,
   "id": "announced-truck",
   "metadata": {
    "deletable": false,
    "nbgrader": {
     "cell_type": "code",
     "checksum": "1f8d8f4259c92277711cf65629cd1666",
     "grade": false,
     "grade_id": "cell-dab55830ccdc8281",
     "locked": false,
     "schema_version": 3,
     "solution": true,
     "task": false
    }
   },
   "outputs": [
    {
     "name": "stdout",
     "output_type": "stream",
     "text": [
      "[ 3.02385899 -2.28250615 -0.42429781  0.68294497]\n"
     ]
    }
   ],
   "source": [
    "eigA = la.eig(A)[0]\n",
    "print(eigA)"
   ]
  },
  {
   "cell_type": "code",
   "execution_count": 80,
   "id": "primary-retail",
   "metadata": {
    "deletable": false,
    "editable": false,
    "nbgrader": {
     "cell_type": "code",
     "checksum": "4efd93b2ae215f4b3f0a7ee554a0d1dc",
     "grade": true,
     "grade_id": "cell-19e5bfce7227c277",
     "locked": true,
     "points": 1,
     "schema_version": 3,
     "solution": false,
     "task": false
    }
   },
   "outputs": [
    {
     "name": "stdout",
     "output_type": "stream",
     "text": [
      "Correct value for eigA\n"
     ]
    },
    {
     "data": {
      "text/plain": [
       "1"
      ]
     },
     "execution_count": 80,
     "metadata": {},
     "output_type": "execute_result"
    }
   ],
   "source": [
    "# 1 Mark\n",
    "# Do not try to delete this cell\n",
    "# Run this cell for grading\n",
    "_globals = globals()\n",
    "question5iig(_globals)"
   ]
  },
  {
   "cell_type": "markdown",
   "id": "hollywood-there",
   "metadata": {
    "deletable": false,
    "editable": false,
    "nbgrader": {
     "cell_type": "markdown",
     "checksum": "521c837a9e99a65ce71446ed04bae304",
     "grade": false,
     "grade_id": "cell-31cb454ef20faa14",
     "locked": true,
     "schema_version": 3,
     "solution": false,
     "task": false
    }
   },
   "source": [
    "(h) The value of $A^5$, where the power indicates repeated <em>matrix</em> multiplication. (You can do this using repeated applications of `dot`, and autograding won't be able to tell if you have, but try to do it using a function from the `linalg` submodule instead.) Call this `Apow5`."
   ]
  },
  {
   "cell_type": "code",
   "execution_count": 81,
   "id": "integral-brown",
   "metadata": {
    "deletable": false,
    "nbgrader": {
     "cell_type": "code",
     "checksum": "80517922066729c90f4b8a631727556f",
     "grade": false,
     "grade_id": "cell-b110c338a988e323",
     "locked": false,
     "schema_version": 3,
     "solution": true,
     "task": false
    }
   },
   "outputs": [
    {
     "name": "stdout",
     "output_type": "stream",
     "text": [
      "[[  13  -12   22   41]\n",
      " [  34   31   47  -31]\n",
      " [ 130   99  183  -75]\n",
      " [-109  -39 -161  -36]]\n"
     ]
    }
   ],
   "source": [
    "Apow5 = la.matrix_power(A, 5)\n",
    "print(Apow5)"
   ]
  },
  {
   "cell_type": "code",
   "execution_count": 82,
   "id": "apparent-female",
   "metadata": {
    "deletable": false,
    "editable": false,
    "nbgrader": {
     "cell_type": "code",
     "checksum": "db375be5db20a267e241d102e01c72dc",
     "grade": true,
     "grade_id": "cell-1f8920c55649c114",
     "locked": true,
     "points": 1,
     "schema_version": 3,
     "solution": false,
     "task": false
    }
   },
   "outputs": [
    {
     "name": "stdout",
     "output_type": "stream",
     "text": [
      "Correct value for Apow5\n"
     ]
    },
    {
     "data": {
      "text/plain": [
       "1"
      ]
     },
     "execution_count": 82,
     "metadata": {},
     "output_type": "execute_result"
    }
   ],
   "source": [
    "# 1 Mark\n",
    "# Do not try to delete this cell\n",
    "# Run this cell for grading\n",
    "_globals = globals()\n",
    "question5iih(_globals)"
   ]
  },
  {
   "cell_type": "markdown",
   "id": "rocky-boutique",
   "metadata": {
    "deletable": false,
    "editable": false,
    "nbgrader": {
     "cell_type": "markdown",
     "checksum": "ddc23ba0d57f00745c1acf57f3031e1f",
     "grade": false,
     "grade_id": "cell-f37720c4a932751c",
     "locked": true,
     "schema_version": 3,
     "solution": false,
     "task": false
    }
   },
   "source": [
    "(j) (and I hope you can see why I've skipped part (i)...) The solution, ${\\bf x}$, of the linear equation system\n",
    "\n",
    "$$A\\,{\\bf x} = {\\bf v},$$\n",
    "\n",
    "as a 1D NumPy array. Call this `solution1`."
   ]
  },
  {
   "cell_type": "code",
   "execution_count": 83,
   "id": "earned-animal",
   "metadata": {
    "deletable": false,
    "nbgrader": {
     "cell_type": "code",
     "checksum": "483ec4bf807b2959fb12d970ee32e6ea",
     "grade": false,
     "grade_id": "cell-6fa6caf023f1ae4c",
     "locked": false,
     "schema_version": 3,
     "solution": true,
     "task": false
    }
   },
   "outputs": [
    {
     "name": "stdout",
     "output_type": "stream",
     "text": [
      "[-1.  1. -1.  3.]\n"
     ]
    }
   ],
   "source": [
    "solution1 = np.dot(invA, v)\n",
    "print(solution1)"
   ]
  },
  {
   "cell_type": "code",
   "execution_count": 84,
   "id": "attractive-experience",
   "metadata": {
    "deletable": false,
    "editable": false,
    "nbgrader": {
     "cell_type": "code",
     "checksum": "e165b8184a0dc76cf335874cfdfac63a",
     "grade": true,
     "grade_id": "cell-5f443bea88b9db25",
     "locked": true,
     "points": 1,
     "schema_version": 3,
     "solution": false,
     "task": false
    }
   },
   "outputs": [
    {
     "name": "stdout",
     "output_type": "stream",
     "text": [
      "Correct value for solution1\n"
     ]
    },
    {
     "data": {
      "text/plain": [
       "1"
      ]
     },
     "execution_count": 84,
     "metadata": {},
     "output_type": "execute_result"
    }
   ],
   "source": [
    "# 1 Mark\n",
    "# Do not try to delete this cell\n",
    "# Run this cell for grading\n",
    "_globals = globals()\n",
    "question5iij(_globals)"
   ]
  },
  {
   "cell_type": "markdown",
   "id": "subjective-services",
   "metadata": {
    "deletable": false,
    "editable": false,
    "nbgrader": {
     "cell_type": "markdown",
     "checksum": "1c93ef38b69331c93788c3ced2d23b60",
     "grade": false,
     "grade_id": "cell-b9e96232cd9f7d0f",
     "locked": true,
     "schema_version": 3,
     "solution": false,
     "task": false
    }
   },
   "source": [
    "(k) The column vector ${\\bf w}$ is defined by\n",
    "\n",
    "$${\\bf w} = \\left(\\begin{array}{cccc}\n",
    "1&0&1&-1\n",
    "\\end{array}\\right).$$\n",
    "\n",
    "Find, as a 1D NumPy array, the solution ${\\bf y}$ of the linear equation system\n",
    "\n",
    "$${\\bf y} \\, A = {\\bf w}$$\n",
    "\n",
    "(this may take some thought). Call this `solution2`"
   ]
  },
  {
   "cell_type": "code",
   "execution_count": 85,
   "id": "occupied-sacramento",
   "metadata": {
    "deletable": false,
    "nbgrader": {
     "cell_type": "code",
     "checksum": "378674430bf2f8f8e9b3bd4089e97577",
     "grade": false,
     "grade_id": "cell-48f16eda5eeeea84",
     "locked": false,
     "schema_version": 3,
     "solution": true,
     "task": false
    }
   },
   "outputs": [
    {
     "name": "stdout",
     "output_type": "stream",
     "text": [
      "[ 1. -3.  2.  1.]\n"
     ]
    }
   ],
   "source": [
    "w =np.array([1,0,1,-1])\n",
    "solution2 = np.dot(w, invA)\n",
    "print(solution2)"
   ]
  },
  {
   "cell_type": "code",
   "execution_count": 86,
   "id": "scientific-casting",
   "metadata": {
    "deletable": false,
    "editable": false,
    "nbgrader": {
     "cell_type": "code",
     "checksum": "bdf2fd2040b2a478e9572c069b6800be",
     "grade": true,
     "grade_id": "cell-3fa9ca4d1f5124a8",
     "locked": true,
     "points": 1,
     "schema_version": 3,
     "solution": false,
     "task": false
    }
   },
   "outputs": [
    {
     "name": "stdout",
     "output_type": "stream",
     "text": [
      "Correct value for solution2\n"
     ]
    },
    {
     "data": {
      "text/plain": [
       "1"
      ]
     },
     "execution_count": 86,
     "metadata": {},
     "output_type": "execute_result"
    }
   ],
   "source": [
    "# 1 Mark\n",
    "# Do not try to delete this cell\n",
    "# Run this cell for grading\n",
    "_globals = globals()\n",
    "question5iik(_globals)"
   ]
  },
  {
   "cell_type": "markdown",
   "id": "excited-muscle",
   "metadata": {
    "deletable": false,
    "editable": false,
    "nbgrader": {
     "cell_type": "markdown",
     "checksum": "13ab90e74a9b3b5aff1d4573fa91d997",
     "grade": false,
     "grade_id": "cell-23ad535ac637e8ab",
     "locked": true,
     "schema_version": 3,
     "solution": false,
     "task": false
    }
   },
   "source": [
    "## Question 6\n",
    "\n",
    "(a) Define a `poly1d` object called `mypoly` corresponding to the quartic \n",
    "$$x^4-8\\,x^3-26\\,x^2+168\\,x-135.$$"
   ]
  },
  {
   "cell_type": "code",
   "execution_count": 96,
   "id": "lasting-survey",
   "metadata": {
    "deletable": false,
    "nbgrader": {
     "cell_type": "code",
     "checksum": "2d11e5a45df3a6fed3be18a5d0e08521",
     "grade": false,
     "grade_id": "cell-04b63033fa05f1b4",
     "locked": false,
     "schema_version": 3,
     "solution": true,
     "task": false
    }
   },
   "outputs": [
    {
     "name": "stdout",
     "output_type": "stream",
     "text": [
      "   4     3      2\n",
      "1 x - 8 x - 26 x + 168 x - 135\n"
     ]
    }
   ],
   "source": [
    "mypoly = np.poly1d([1, -8, -26, 168, -135])\n",
    "print(mypoly)"
   ]
  },
  {
   "cell_type": "code",
   "execution_count": 97,
   "id": "deluxe-atlantic",
   "metadata": {
    "deletable": false,
    "editable": false,
    "nbgrader": {
     "cell_type": "code",
     "checksum": "76c307c4a9762a6748e475006e248ac4",
     "grade": true,
     "grade_id": "cell-1b66e2e68a6b981d",
     "locked": true,
     "points": 1,
     "schema_version": 3,
     "solution": false,
     "task": false
    }
   },
   "outputs": [
    {
     "name": "stdout",
     "output_type": "stream",
     "text": [
      "Correct value for mypoly\n"
     ]
    },
    {
     "data": {
      "text/plain": [
       "1"
      ]
     },
     "execution_count": 97,
     "metadata": {},
     "output_type": "execute_result"
    }
   ],
   "source": [
    "# 1 Mark\n",
    "# Do not try to delete this cell\n",
    "# Run this cell for grading\n",
    "_globals = globals()\n",
    "question6a(_globals)"
   ]
  },
  {
   "cell_type": "markdown",
   "id": "specified-powder",
   "metadata": {
    "deletable": false,
    "editable": false,
    "nbgrader": {
     "cell_type": "markdown",
     "checksum": "aa65224323d9b2188b9c77dc111c1eab",
     "grade": false,
     "grade_id": "cell-96d52318a9212b32",
     "locked": true,
     "schema_version": 3,
     "solution": false,
     "task": false
    }
   },
   "source": [
    "(b) Calculate the values of `mypoly` at $x=-6,-5,-4,\\dots,8,9,10$, giving your answer in the form of a NumPy array called `mypolyvalues`."
   ]
  },
  {
   "cell_type": "code",
   "execution_count": 98,
   "id": "adapted-argentina",
   "metadata": {
    "deletable": false,
    "nbgrader": {
     "cell_type": "code",
     "checksum": "e326d09ab50af2d753b4e1e22f9319a3",
     "grade": false,
     "grade_id": "cell-1b241ac1c6841df4",
     "locked": false,
     "schema_version": 3,
     "solution": true,
     "task": false
    }
   },
   "outputs": [
    {
     "name": "stdout",
     "output_type": "stream",
     "text": [
      "[ 945    0 -455 -576 -495 -320 -135    0   49    0 -135 -320 -495 -576\n",
      " -455    0  945]\n"
     ]
    }
   ],
   "source": [
    "mypolyvalues = np.polyval(mypoly, np.arange(-6, 11))\n",
    "print(mypolyvalues)"
   ]
  },
  {
   "cell_type": "code",
   "execution_count": 99,
   "id": "isolated-brazil",
   "metadata": {
    "deletable": false,
    "editable": false,
    "nbgrader": {
     "cell_type": "code",
     "checksum": "ca4ff3d7be7d61706fb58870918082d3",
     "grade": true,
     "grade_id": "cell-21da96f121ceef32",
     "locked": true,
     "points": 1,
     "schema_version": 3,
     "solution": false,
     "task": false
    }
   },
   "outputs": [
    {
     "name": "stdout",
     "output_type": "stream",
     "text": [
      "Correct value for mypolyvalues\n"
     ]
    },
    {
     "data": {
      "text/plain": [
       "1"
      ]
     },
     "execution_count": 99,
     "metadata": {},
     "output_type": "execute_result"
    }
   ],
   "source": [
    "# 1 Mark\n",
    "# Do not try to delete this cell\n",
    "# Run this cell for grading\n",
    "_globals = globals()\n",
    "question6b(_globals)"
   ]
  },
  {
   "cell_type": "markdown",
   "id": "planned-trout",
   "metadata": {
    "deletable": false,
    "editable": false,
    "nbgrader": {
     "cell_type": "markdown",
     "checksum": "0a7a3bb65039b816a7db62d8635c92bf",
     "grade": false,
     "grade_id": "cell-0f12775070d705df",
     "locked": true,
     "schema_version": 3,
     "solution": false,
     "task": false
    }
   },
   "source": [
    "(c) Calculate the roots of `mypoly`, giving your answer in the form of a NumPy array called `mypolyroots`."
   ]
  },
  {
   "cell_type": "code",
   "execution_count": 100,
   "id": "necessary-population",
   "metadata": {
    "deletable": false,
    "nbgrader": {
     "cell_type": "code",
     "checksum": "2dc29707032e9576f6972dda21d888a2",
     "grade": false,
     "grade_id": "cell-eddd0657cedbaf6d",
     "locked": false,
     "schema_version": 3,
     "solution": true,
     "task": false
    }
   },
   "outputs": [
    {
     "name": "stdout",
     "output_type": "stream",
     "text": [
      "[ 9. -5.  3.  1.]\n"
     ]
    }
   ],
   "source": [
    "mypolyroots= np.roots(mypoly)\n",
    "print(mypolyroots)"
   ]
  },
  {
   "cell_type": "code",
   "execution_count": 101,
   "id": "contrary-vitamin",
   "metadata": {
    "deletable": false,
    "editable": false,
    "nbgrader": {
     "cell_type": "code",
     "checksum": "e94f287c1f40b4aa9ba939b34bafca5c",
     "grade": true,
     "grade_id": "cell-7cdca97652b4de07",
     "locked": true,
     "points": 1,
     "schema_version": 3,
     "solution": false,
     "task": false
    }
   },
   "outputs": [
    {
     "name": "stdout",
     "output_type": "stream",
     "text": [
      "Correct value for mypolyroots\n"
     ]
    },
    {
     "data": {
      "text/plain": [
       "1"
      ]
     },
     "execution_count": 101,
     "metadata": {},
     "output_type": "execute_result"
    }
   ],
   "source": [
    "# 1 Mark\n",
    "# Do not try to delete this cell\n",
    "# Run this cell for grading\n",
    "_globals = globals()\n",
    "question6c(_globals)"
   ]
  },
  {
   "cell_type": "markdown",
   "id": "perfect-price",
   "metadata": {
    "deletable": false,
    "editable": false,
    "nbgrader": {
     "cell_type": "markdown",
     "checksum": "8fdd0d90e2538d536700146025298e86",
     "grade": false,
     "grade_id": "cell-7a0c30b7b2c47f83",
     "locked": true,
     "schema_version": 3,
     "solution": false,
     "task": false
    }
   },
   "source": [
    "(d) Calculate the $x$- and $y$-coordinates of the stationary points of `mypoly`, giving your answers as NumPy arrays `spx` and `spy`."
   ]
  },
  {
   "cell_type": "code",
   "execution_count": 102,
   "id": "ongoing-roman",
   "metadata": {
    "deletable": false,
    "nbgrader": {
     "cell_type": "code",
     "checksum": "b50a6d0841aa3ba51fef95820c3a2b42",
     "grade": false,
     "grade_id": "cell-a7f7dfea33663a11",
     "locked": false,
     "schema_version": 3,
     "solution": true,
     "task": false
    }
   },
   "outputs": [
    {
     "name": "stdout",
     "output_type": "stream",
     "text": [
      "[ 7. -3.  2.]\n",
      "[-576. -576.   49.]\n"
     ]
    }
   ],
   "source": [
    "dermypoly = np.polyder(mypoly)\n",
    "\n",
    "spx = np.roots(dermypoly)\n",
    "spy = np.polyval(mypoly, spx)\n",
    "print(spx)\n",
    "print(spy)"
   ]
  },
  {
   "cell_type": "code",
   "execution_count": 103,
   "id": "elect-designation",
   "metadata": {
    "deletable": false,
    "editable": false,
    "nbgrader": {
     "cell_type": "code",
     "checksum": "18b3f5aa7fc84fe19a24f33b9e611930",
     "grade": true,
     "grade_id": "cell-785811b5247a03e3",
     "locked": true,
     "points": 2,
     "schema_version": 3,
     "solution": false,
     "task": false
    }
   },
   "outputs": [
    {
     "name": "stdout",
     "output_type": "stream",
     "text": [
      "Correct value for spx\n",
      "Correct value for spy\n"
     ]
    },
    {
     "data": {
      "text/plain": [
       "2"
      ]
     },
     "execution_count": 103,
     "metadata": {},
     "output_type": "execute_result"
    }
   ],
   "source": [
    "# 2 Marks\n",
    "# Do not try to delete this cell\n",
    "# Run this cell for grading\n",
    "_globals = globals()\n",
    "question6d(_globals)"
   ]
  },
  {
   "cell_type": "markdown",
   "id": "dutch-grass",
   "metadata": {
    "deletable": false,
    "editable": false,
    "nbgrader": {
     "cell_type": "markdown",
     "checksum": "72c636a6acd6863d74942a63f4260acb",
     "grade": false,
     "grade_id": "cell-de16c4fa6dc14c75",
     "locked": true,
     "schema_version": 3,
     "solution": false,
     "task": false
    }
   },
   "source": [
    "(e) Create a plot of `mypoly` for $-6\\le x \\le 10$, showing the positions of the three stationary points you found above. Autograding will not be able to help you here!"
   ]
  },
  {
   "cell_type": "code",
   "execution_count": 110,
   "id": "standard-intermediate",
   "metadata": {
    "deletable": false,
    "nbgrader": {
     "cell_type": "code",
     "checksum": "0a1b4bd672abe1d0b18295d7ec5bd840",
     "grade": false,
     "grade_id": "cell-86800ef188199ebe",
     "locked": false,
     "schema_version": 3,
     "solution": true,
     "task": false
    }
   },
   "outputs": [
    {
     "data": {
      "text/plain": [
       "<matplotlib.collections.PathCollection at 0x1e0947aba00>"
      ]
     },
     "execution_count": 110,
     "metadata": {},
     "output_type": "execute_result"
    },
    {
     "data": {
      "image/png": "[encoded data removed]",
      "text/plain": [
       "<Figure size 432x288 with 1 Axes>"
      ]
     },
     "metadata": {
      "needs_background": "light"
     },
     "output_type": "display_data"
    }
   ],
   "source": [
    "plt.plot(np.arange(-6,10, 1e-3), np.polyval(mypoly, np.arange(-6,10, 1e-3)))\n",
    "plt.scatter([7, -3, 2], [-576, -576, 49])"
   ]
  },
  {
   "cell_type": "markdown",
   "id": "fifty-neighbor",
   "metadata": {
    "deletable": false,
    "editable": false,
    "nbgrader": {
     "cell_type": "markdown",
     "checksum": "e5f15094121c2e9874474393f274a2dc",
     "grade": false,
     "grade_id": "cell-3497e996eadbab03",
     "locked": true,
     "schema_version": 3,
     "solution": false,
     "task": false
    }
   },
   "source": [
    "## Bonus Question, Part 1\n",
    "\n",
    "Write a function `root_finder`, which takes as inputs the lambda-expressions `f` and `df` (representing a function and its derivative), the left and right endpoints `a` and `b` respectively, and a tolerance `tol`. The function should implement BOTH the bisection method and Newton's method; the bisection method should use the initial interval `(a, b)`, and Newton's method should use the initial value `(a + b)/2`. \n",
    "\n",
    "In the case of the bisection method, iteration should continue for as long as the interval length is greater than the tolerance; in the case of Newton's method, iteration should continue for as long as the difference between successive iterates is greater than the tolerance.\n",
    "\n",
    "Your function should return the final approximation to the root as well as the number of iterations required to achieve the approximation for each method. The returned values should be of the form: `bisection_approx, bisection_iterations, newton_approx, newton_iterations`. The bisection search should return the midpoint of the final interval."
   ]
  },
  {
   "cell_type": "code",
   "execution_count": null,
   "id": "printable-scheme",
   "metadata": {
    "deletable": false,
    "nbgrader": {
     "cell_type": "code",
     "checksum": "6af883ca4c991774b5d0d78b3f91b9fd",
     "grade": false,
     "grade_id": "cell-82740cb38e52ea64",
     "locked": false,
     "schema_version": 3,
     "solution": true,
     "task": false
    }
   },
   "outputs": [],
   "source": [
    "def root_finder(f, g, a, b, tol):\n",
    "    # YOUR CODE HERE\n",
    "    raise NotImplementedError()\n"
   ]
  },
  {
   "cell_type": "code",
   "execution_count": null,
   "id": "danish-indicator",
   "metadata": {
    "deletable": false,
    "editable": false,
    "nbgrader": {
     "cell_type": "code",
     "checksum": "dd936f9881db180cc7be8d2d30b73e0a",
     "grade": true,
     "grade_id": "cell-b261b86d49ae6b3c",
     "locked": true,
     "points": 1,
     "schema_version": 3,
     "solution": false,
     "task": false
    }
   },
   "outputs": [],
   "source": [
    "# Run this test cell to check your code\n",
    "# Do not delete this cell\n",
    "# 1 Mark\n",
    "f1     = lambda x: x**2 - 2\n",
    "df1     = lambda x: 2*x\n",
    "a1     = 0\n",
    "b1     = 3\n",
    "tol1   = 1e-7\n",
    "\n",
    "npt.assert_almost_equal(1.4142135232686996, root_finder(f1, df1, a1, b1, tol1)[0])\n",
    "print(\"Test case: correct estimate returned by bisection method!\")"
   ]
  },
  {
   "cell_type": "code",
   "execution_count": null,
   "id": "global-advice",
   "metadata": {
    "deletable": false,
    "editable": false,
    "nbgrader": {
     "cell_type": "code",
     "checksum": "5a4e75656a750e3f711e156f49035adb",
     "grade": true,
     "grade_id": "cell-c8cce025f525fa72",
     "locked": true,
     "points": 1,
     "schema_version": 3,
     "solution": false,
     "task": false
    }
   },
   "outputs": [],
   "source": [
    "# Run this test cell to check your code\n",
    "# Do not delete this cell\n",
    "# 1 Mark\n",
    "f1     = lambda x: x**2 - 2\n",
    "df1     = lambda x: 2*x\n",
    "a1     = 0\n",
    "b1     = 3\n",
    "tol1   = 1e-7\n",
    "\n",
    "bisection_its = root_finder(f1, df1, a1, b1, tol1)[1]\n",
    "assert(bisection_its >= 24 and bisection_its <= 26)\n",
    "print(\"Test case: right number of iterations performed by bisection method!\")"
   ]
  },
  {
   "cell_type": "code",
   "execution_count": null,
   "id": "charged-character",
   "metadata": {
    "deletable": false,
    "editable": false,
    "nbgrader": {
     "cell_type": "code",
     "checksum": "8c64c1b29c35870189b7c2fce0213f84",
     "grade": true,
     "grade_id": "cell-1c15c3b7067120e0",
     "locked": true,
     "points": 1,
     "schema_version": 3,
     "solution": false,
     "task": false
    }
   },
   "outputs": [],
   "source": [
    "# Run this test cell to check your code\n",
    "# Do not delete this cell\n",
    "# 1 Mark\n",
    "f1     = lambda x: x**2 - 2\n",
    "df1     = lambda x: 2*x\n",
    "a1     = 0\n",
    "b1     = 3\n",
    "tol1   = 1e-7\n",
    "\n",
    "npt.assert_almost_equal(1.4142135623730951, root_finder(f1, df1, a1, b1, tol1)[2])\n",
    "print(\"Test case: correct estimate returned by Newton's method!\")"
   ]
  },
  {
   "cell_type": "code",
   "execution_count": null,
   "id": "headed-journalist",
   "metadata": {
    "deletable": false,
    "editable": false,
    "nbgrader": {
     "cell_type": "code",
     "checksum": "ce1605b7242fa43339d18f088eb6887a",
     "grade": true,
     "grade_id": "cell-80848991afe48990",
     "locked": true,
     "points": 1,
     "schema_version": 3,
     "solution": false,
     "task": false
    }
   },
   "outputs": [],
   "source": [
    "# Run this test cell to check your code\n",
    "# Do not delete this cell\n",
    "# 1 Mark\n",
    "f1     = lambda x: x**2 - 2\n",
    "df1     = lambda x: 2*x\n",
    "a1     = 0\n",
    "b1     = 3\n",
    "tol1   = 1e-7\n",
    "\n",
    "newton_its = root_finder(f1, df1, a1, b1, tol1)[3]\n",
    "assert(newton_its >= 3 and newton_its <= 5)\n",
    "print(\"Test case: right number of iterations performed by Newton's method!\")"
   ]
  },
  {
   "cell_type": "code",
   "execution_count": null,
   "id": "rotary-vermont",
   "metadata": {
    "deletable": false,
    "editable": false,
    "nbgrader": {
     "cell_type": "code",
     "checksum": "da28f0127c38074a2331e8e99f79b16b",
     "grade": true,
     "grade_id": "cell-30cbf63266ef19bd",
     "locked": true,
     "points": 2,
     "schema_version": 3,
     "solution": false,
     "task": false
    }
   },
   "outputs": [],
   "source": [
    "# Run this test cell to check your code\n",
    "# Do not delete this cell\n",
    "# 2 Marks"
   ]
  },
  {
   "cell_type": "markdown",
   "id": "express-auckland",
   "metadata": {
    "deletable": false,
    "editable": false,
    "nbgrader": {
     "cell_type": "markdown",
     "checksum": "64756b82e152827fb557f7732c94c032",
     "grade": false,
     "grade_id": "cell-096b32680d0473a7",
     "locked": true,
     "schema_version": 3,
     "solution": false,
     "task": false
    }
   },
   "source": [
    "## Bonus Question, Part 2\n",
    "\n",
    "Usually, Newton's method outperforms interval bisection, but this isn't invariably the case. Investigate the convergence of both methods to the zero, between $x=0$ and $x=1$, of $f_2(x)=\\sin^3(x+3)$; use $a=0$ and $b=1$, and a tolerance of $10^{-7}$.\n",
    "\n",
    "Why exactly does Newton's method do so badly here?\n",
    "\n",
    "Using what you've learnt, find a polynomial function $f_3$ with a zero at exactly $x=\\sqrt{2}$ to which both methods converge (using $a=1$, $b=2$ and a tolerance of $10^{-7}$) but to which Newton's method converges <em>much</em> more slowly than interval bisection, taking more than twice as many iterations."
   ]
  },
  {
   "cell_type": "code",
   "execution_count": null,
   "id": "nominated-hometown",
   "metadata": {
    "deletable": false,
    "nbgrader": {
     "cell_type": "code",
     "checksum": "8090bbf54823322e7df3f89c1007f8bc",
     "grade": false,
     "grade_id": "cell-3ebd1f2ce560178f",
     "locked": false,
     "schema_version": 3,
     "solution": true,
     "task": false
    }
   },
   "outputs": [],
   "source": [
    "# YOUR CODE HERE\n",
    "raise NotImplementedError()"
   ]
  },
  {
   "cell_type": "code",
   "execution_count": null,
   "id": "quality-parish",
   "metadata": {
    "deletable": false,
    "editable": false,
    "nbgrader": {
     "cell_type": "code",
     "checksum": "a7a77e681beaf13aeea09f4582db8dfd",
     "grade": true,
     "grade_id": "cell-9c964721a4dd68a7",
     "locked": true,
     "points": 2,
     "schema_version": 3,
     "solution": false,
     "task": false
    }
   },
   "outputs": [],
   "source": [
    "a3 = 1\n",
    "b3 = 2\n",
    "tol3 = 1e-7\n",
    "\n",
    "rf3 = root_finder(f3, df3, a3, b3, tol3)\n",
    "assert(rf3[3] > 2*rf3[1])\n",
    "print(\"Test passed!\")"
   ]
  }
 ],
 "metadata": {
  "kernelspec": {
   "display_name": "Python 3",
   "language": "python",
   "name": "python3"
  },
  "language_info": {
   "codemirror_mode": {
    "name": "ipython",
    "version": 3
   },
   "file_extension": ".py",
   "mimetype": "text/x-python",
   "name": "python",
   "nbconvert_exporter": "python",
   "pygments_lexer": "ipython3",
   "version": "3.8.8"
  }
 },
 "nbformat": 4,
 "nbformat_minor": 5
}
