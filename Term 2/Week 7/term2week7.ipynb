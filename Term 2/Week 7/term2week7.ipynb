{
 "cells": [
  {
   "cell_type": "code",
   "execution_count": 1,
   "id": "invalid-midnight",
   "metadata": {},
   "outputs": [
    {
     "name": "stdout",
     "output_type": "stream",
     "text": [
      "Autograder loaded successfully!\n",
      "Remember to always restart and run all from the Kernel menu before submitting!\n"
     ]
    }
   ],
   "source": [
    "from autograder_term2week7 import *\n",
    "_globals = globals()\n",
    "import sympy as sp\n",
    "sp.init_printing()\n",
    "import numpy as np\n",
    "import math\n",
    "import sympy.plotting as splt\n",
    "import matplotlib.pyplot as plt\n",
    "%matplotlib inline"
   ]
  },
  {
   "cell_type": "markdown",
   "id": "together-incidence",
   "metadata": {
    "deletable": false,
    "editable": false,
    "nbgrader": {
     "cell_type": "markdown",
     "checksum": "32fc483550b4d983ff6d123cc153406d",
     "grade": false,
     "grade_id": "cell-45efb17792322f1b",
     "locked": true,
     "schema_version": 3,
     "solution": false,
     "task": false
    }
   },
   "source": [
    "# <center> Introduction to Mathematical Computing </center>\n",
    "### <center>Phil Ramsden, Boumediene Hamzi, Sam Brzezicki, Matt Woolway</center>\n",
    "\n",
    "# <center> Worksheet 10: SymPy</center>"
   ]
  },
  {
   "cell_type": "markdown",
   "id": "advisory-hypothetical",
   "metadata": {
    "deletable": false,
    "editable": false,
    "nbgrader": {
     "cell_type": "markdown",
     "checksum": "6ec4a6f33bd4c660bad4a880a620c449",
     "grade": false,
     "grade_id": "cell-b80d0aefe35537ee",
     "locked": true,
     "schema_version": 3,
     "solution": false,
     "task": false
    }
   },
   "source": [
    "## Question 1(i)\n",
    "\n",
    "(a) Turn on pretty-printing, and define `x` and `t` as SymPy symbolic variables."
   ]
  },
  {
   "cell_type": "code",
   "execution_count": 2,
   "id": "ahead-cornell",
   "metadata": {
    "deletable": false,
    "nbgrader": {
     "cell_type": "code",
     "checksum": "aed1d250722483a76d207ed5fefbfc86",
     "grade": false,
     "grade_id": "cell-3fc307878e1a9e93",
     "locked": false,
     "schema_version": 3,
     "solution": true,
     "task": false
    }
   },
   "outputs": [],
   "source": [
    "sp.init_printing()\n",
    "\n",
    "(x, t) = sp.symbols(' x t')"
   ]
  },
  {
   "cell_type": "code",
   "execution_count": 3,
   "id": "korean-width",
   "metadata": {
    "deletable": false,
    "editable": false,
    "nbgrader": {
     "cell_type": "code",
     "checksum": "b009e9513f6f632563a656fa043b5333",
     "grade": true,
     "grade_id": "cell-46337e404d685821",
     "locked": true,
     "points": 1,
     "schema_version": 3,
     "solution": false,
     "task": false
    }
   },
   "outputs": [
    {
     "name": "stdout",
     "output_type": "stream",
     "text": [
      "The symbol x is defined correctly\n",
      "The symbol t is defined correctly\n",
      "Test passed!\n"
     ]
    },
    {
     "data": {
      "image/png": "[encoded data removed]",
      "text/latex": [
       "$\\displaystyle 1$"
      ],
      "text/plain": [
       "1"
      ]
     },
     "execution_count": 3,
     "metadata": {},
     "output_type": "execute_result"
    }
   ],
   "source": [
    "# 1 Mark\n",
    "# Do not try to delete this cell\n",
    "# Run this cell for grading\n",
    "_globals = globals()\n",
    "question1ia(_globals)"
   ]
  },
  {
   "cell_type": "markdown",
   "id": "convinced-pilot",
   "metadata": {
    "deletable": false,
    "editable": false,
    "nbgrader": {
     "cell_type": "markdown",
     "checksum": "23b136686b1582aab7b2f3db36a2414b",
     "grade": false,
     "grade_id": "cell-4e223de2fc503a75",
     "locked": true,
     "schema_version": 3,
     "solution": false,
     "task": false
    }
   },
   "source": [
    "(b) Define `expr` as $(x-2)(x+1)(x-(2+i))(x-((2-i)).$ Use SymPy complex numbers."
   ]
  },
  {
   "cell_type": "code",
   "execution_count": 4,
   "id": "handed-breakdown",
   "metadata": {
    "deletable": false,
    "nbgrader": {
     "cell_type": "code",
     "checksum": "753c5722d5887b1a792504c572719783",
     "grade": false,
     "grade_id": "cell-bf426dcc39f3a4ee",
     "locked": false,
     "schema_version": 3,
     "solution": true,
     "task": false
    }
   },
   "outputs": [
    {
     "data": {
      "image/png": "[encoded data removed]",
      "text/latex": [
       "$\\displaystyle \\left(x - 2\\right) \\left(x + 1\\right) \\left(x - 2 - i\\right) \\left(x - 2 + i\\right)$"
      ],
      "text/plain": [
       "(x - 2)⋅(x + 1)⋅(x - 2 - ⅈ)⋅(x - 2 + ⅈ)"
      ]
     },
     "execution_count": 4,
     "metadata": {},
     "output_type": "execute_result"
    }
   ],
   "source": [
    "expr = (x - 2) * (x + 1) * (x - (2 + sp.I)) * (x - (2 - sp.I))\n",
    "\n",
    "expr"
   ]
  },
  {
   "cell_type": "code",
   "execution_count": 5,
   "id": "following-being",
   "metadata": {
    "deletable": false,
    "editable": false,
    "nbgrader": {
     "cell_type": "code",
     "checksum": "cbc07046fac70e1b0fdd4bcf5bd04659",
     "grade": true,
     "grade_id": "cell-da6e34ce755c07d0",
     "locked": true,
     "points": 1,
     "schema_version": 3,
     "solution": false,
     "task": false
    }
   },
   "outputs": [
    {
     "name": "stdout",
     "output_type": "stream",
     "text": [
      "The expression expr is defined correctly\n",
      "Test passed!\n"
     ]
    },
    {
     "data": {
      "image/png": "[encoded data removed]",
      "text/latex": [
       "$\\displaystyle 1$"
      ],
      "text/plain": [
       "1"
      ]
     },
     "execution_count": 5,
     "metadata": {},
     "output_type": "execute_result"
    }
   ],
   "source": [
    "# 1 Mark\n",
    "# Do not try to delete this cell\n",
    "# Run this cell for grading\n",
    "_globals = globals()\n",
    "question1ib(_globals)"
   ]
  },
  {
   "cell_type": "markdown",
   "id": "wrong-trader",
   "metadata": {
    "deletable": false,
    "editable": false,
    "nbgrader": {
     "cell_type": "markdown",
     "checksum": "079caf5ffdddf2b7fd7dbbccc6f24c58",
     "grade": false,
     "grade_id": "cell-3769148446cc67df",
     "locked": true,
     "schema_version": 3,
     "solution": false,
     "task": false
    }
   },
   "source": [
    "(c) Expand `expr` to give `expr2`."
   ]
  },
  {
   "cell_type": "code",
   "execution_count": 6,
   "id": "closed-ceiling",
   "metadata": {
    "deletable": false,
    "nbgrader": {
     "cell_type": "code",
     "checksum": "003557aa38c446dd4776823d959a87ce",
     "grade": false,
     "grade_id": "cell-483a179309921041",
     "locked": false,
     "schema_version": 3,
     "solution": true,
     "task": false
    }
   },
   "outputs": [
    {
     "data": {
      "image/png": "[encoded data removed]",
      "text/latex": [
       "$\\displaystyle x^{4} - 5 x^{3} + 7 x^{2} + 3 x - 10$"
      ],
      "text/plain": [
       " 4      3      2           \n",
       "x  - 5⋅x  + 7⋅x  + 3⋅x - 10"
      ]
     },
     "execution_count": 6,
     "metadata": {},
     "output_type": "execute_result"
    }
   ],
   "source": [
    "expr2 = sp.expand(expr)\n",
    "\n",
    "expr2"
   ]
  },
  {
   "cell_type": "code",
   "execution_count": 7,
   "id": "recovered-purchase",
   "metadata": {
    "deletable": false,
    "editable": false,
    "nbgrader": {
     "cell_type": "code",
     "checksum": "2a9d0bd99e736e5cfbe8d15164f79447",
     "grade": true,
     "grade_id": "cell-c438c178b78dc472",
     "locked": true,
     "points": 1,
     "schema_version": 3,
     "solution": false,
     "task": false
    }
   },
   "outputs": [
    {
     "name": "stdout",
     "output_type": "stream",
     "text": [
      "The expression expr2 is defined correctly\n",
      "Test passed!\n"
     ]
    },
    {
     "data": {
      "image/png": "[encoded data removed]",
      "text/latex": [
       "$\\displaystyle 1$"
      ],
      "text/plain": [
       "1"
      ]
     },
     "execution_count": 7,
     "metadata": {},
     "output_type": "execute_result"
    }
   ],
   "source": [
    "# 1 Mark\n",
    "# Do not try to delete this cell\n",
    "# Run this cell for grading\n",
    "_globals = globals()\n",
    "question1ic(_globals)"
   ]
  },
  {
   "cell_type": "markdown",
   "id": "piano-kenya",
   "metadata": {
    "deletable": false,
    "editable": false,
    "nbgrader": {
     "cell_type": "markdown",
     "checksum": "632dda98e4b352e5b888b5721461f44b",
     "grade": false,
     "grade_id": "cell-391e188a898948af",
     "locked": true,
     "schema_version": 3,
     "solution": false,
     "task": false
    }
   },
   "source": [
    "(d) Find the zeros of `expr2` using `solve`; call the resulting object `expr2_zeros`."
   ]
  },
  {
   "cell_type": "code",
   "execution_count": 8,
   "id": "according-genius",
   "metadata": {
    "deletable": false,
    "nbgrader": {
     "cell_type": "code",
     "checksum": "cb9a46cc77b37e5c4c3bca93564636c0",
     "grade": false,
     "grade_id": "cell-275ab15d204f7c11",
     "locked": false,
     "schema_version": 3,
     "solution": true,
     "task": false
    }
   },
   "outputs": [
    {
     "data": {
      "image/png": "[encoded data removed]",
      "text/latex": [
       "$\\displaystyle \\left[ -1, \\  2, \\  2 - i, \\  2 + i\\right]$"
      ],
      "text/plain": [
       "[-1, 2, 2 - ⅈ, 2 + ⅈ]"
      ]
     },
     "execution_count": 8,
     "metadata": {},
     "output_type": "execute_result"
    }
   ],
   "source": [
    "expr2_zeros = sp.solve(expr2)\n",
    "\n",
    "expr2_zeros"
   ]
  },
  {
   "cell_type": "code",
   "execution_count": 9,
   "id": "fewer-factor",
   "metadata": {
    "deletable": false,
    "editable": false,
    "nbgrader": {
     "cell_type": "code",
     "checksum": "d200bf21d0ca87f49f6137635e0f95d6",
     "grade": true,
     "grade_id": "cell-5007b7fef608950b",
     "locked": true,
     "points": 1,
     "schema_version": 3,
     "solution": false,
     "task": false
    }
   },
   "outputs": [
    {
     "name": "stdout",
     "output_type": "stream",
     "text": [
      "The list expr2_zeros is defined correctly\n",
      "Test passed!\n"
     ]
    },
    {
     "data": {
      "image/png": "[encoded data removed]",
      "text/latex": [
       "$\\displaystyle 1$"
      ],
      "text/plain": [
       "1"
      ]
     },
     "execution_count": 9,
     "metadata": {},
     "output_type": "execute_result"
    }
   ],
   "source": [
    "# 1 Mark\n",
    "# Do not try to delete this cell\n",
    "# Run this cell for grading\n",
    "_globals = globals()\n",
    "question1id(_globals)"
   ]
  },
  {
   "cell_type": "markdown",
   "id": "behind-principal",
   "metadata": {
    "deletable": false,
    "editable": false,
    "nbgrader": {
     "cell_type": "markdown",
     "checksum": "737a37321bd2e808c81a00b2df89599c",
     "grade": false,
     "grade_id": "cell-ac5eeb3ddb041bc1",
     "locked": true,
     "schema_version": 3,
     "solution": false,
     "task": false
    }
   },
   "source": [
    "(e) Find, as an exact SymPy rational, the integral of `expr2` between $-3$ and $3$; call this `int_expr`."
   ]
  },
  {
   "cell_type": "code",
   "execution_count": 10,
   "id": "virtual-latin",
   "metadata": {
    "deletable": false,
    "nbgrader": {
     "cell_type": "code",
     "checksum": "22bece759ac72d7dd3adee22b10a0eef",
     "grade": false,
     "grade_id": "cell-e6b86a8e3a14e459",
     "locked": false,
     "schema_version": 3,
     "solution": true,
     "task": false
    }
   },
   "outputs": [
    {
     "data": {
      "image/png": "[encoded data removed]",
      "text/latex": [
       "$\\displaystyle \\frac{816}{5}$"
      ],
      "text/plain": [
       "816/5"
      ]
     },
     "execution_count": 10,
     "metadata": {},
     "output_type": "execute_result"
    }
   ],
   "source": [
    "int_expr = sp.integrate(expr2, (x, -3, 3))\n",
    "\n",
    "int_expr"
   ]
  },
  {
   "cell_type": "code",
   "execution_count": 11,
   "id": "italian-secondary",
   "metadata": {
    "deletable": false,
    "editable": false,
    "nbgrader": {
     "cell_type": "code",
     "checksum": "81bc254e8d951d7e00eeb713f70fedc8",
     "grade": true,
     "grade_id": "cell-7572bb4ef99c4950",
     "locked": true,
     "points": 1,
     "schema_version": 3,
     "solution": false,
     "task": false
    }
   },
   "outputs": [
    {
     "name": "stdout",
     "output_type": "stream",
     "text": [
      "The Rational int_expr is defined correctly\n",
      "Test passed!\n"
     ]
    },
    {
     "data": {
      "image/png": "[encoded data removed]",
      "text/latex": [
       "$\\displaystyle 1$"
      ],
      "text/plain": [
       "1"
      ]
     },
     "execution_count": 11,
     "metadata": {},
     "output_type": "execute_result"
    }
   ],
   "source": [
    "# 1 Mark\n",
    "# Do not try to delete this cell\n",
    "# Run this cell for grading\n",
    "_globals = globals()\n",
    "question1ie(_globals)"
   ]
  },
  {
   "cell_type": "markdown",
   "id": "integral-patrol",
   "metadata": {
    "deletable": false,
    "editable": false,
    "nbgrader": {
     "cell_type": "markdown",
     "checksum": "28424148649e399bc46d2ed3d465b854",
     "grade": false,
     "grade_id": "cell-0826fde60ca06c2d",
     "locked": true,
     "schema_version": 3,
     "solution": false,
     "task": false
    }
   },
   "source": [
    "(f) Set up `f` as an undefined SymPy function of $t$, and create an expression called `fexpr` which is $f(t)$ substituted into `expr2`."
   ]
  },
  {
   "cell_type": "code",
   "execution_count": 13,
   "id": "overall-equation",
   "metadata": {
    "deletable": false,
    "nbgrader": {
     "cell_type": "code",
     "checksum": "8be989b32e074a18ed1e5286461e36cb",
     "grade": false,
     "grade_id": "cell-377f72b45c5c86d4",
     "locked": false,
     "schema_version": 3,
     "solution": true,
     "task": false
    }
   },
   "outputs": [
    {
     "ename": "NameError",
     "evalue": "name 'f' is not defined",
     "output_type": "error",
     "traceback": [
      "\u001b[1;31m---------------------------------------------------------------------------\u001b[0m",
      "\u001b[1;31mNameError\u001b[0m                                 Traceback (most recent call last)",
      "\u001b[1;32m<ipython-input-13-5260a57eaa66>\u001b[0m in \u001b[0;36m<module>\u001b[1;34m\u001b[0m\n\u001b[1;32m----> 1\u001b[1;33m \u001b[0mfex\u001b[0m \u001b[1;33m=\u001b[0m \u001b[0msp\u001b[0m\u001b[1;33m.\u001b[0m\u001b[0mlambdify\u001b[0m\u001b[1;33m(\u001b[0m\u001b[0mt\u001b[0m\u001b[1;33m,\u001b[0m \u001b[0mf\u001b[0m\u001b[1;33m)\u001b[0m\u001b[1;33m\u001b[0m\u001b[1;33m\u001b[0m\u001b[0m\n\u001b[0m\u001b[0;32m      2\u001b[0m \u001b[1;33m\u001b[0m\u001b[0m\n\u001b[0;32m      3\u001b[0m \u001b[0mfexpr\u001b[0m \u001b[1;33m=\u001b[0m \u001b[0mexpr2\u001b[0m\u001b[1;33m.\u001b[0m\u001b[0msubs\u001b[0m\u001b[1;33m(\u001b[0m\u001b[0mx\u001b[0m\u001b[1;33m,\u001b[0m \u001b[0mfex\u001b[0m\u001b[1;33m)\u001b[0m\u001b[1;33m\u001b[0m\u001b[1;33m\u001b[0m\u001b[0m\n\u001b[0;32m      4\u001b[0m \u001b[1;33m\u001b[0m\u001b[0m\n\u001b[0;32m      5\u001b[0m \u001b[1;33m(\u001b[0m\u001b[0mf\u001b[0m\u001b[1;33m,\u001b[0m \u001b[0mfexpr\u001b[0m\u001b[1;33m)\u001b[0m\u001b[1;33m\u001b[0m\u001b[1;33m\u001b[0m\u001b[0m\n",
      "\u001b[1;31mNameError\u001b[0m: name 'f' is not defined"
     ]
    }
   ],
   "source": [
    "fex = sp.lambdify(t, f)\n",
    "\n",
    "fexpr = expr2.subs(x, fex)\n",
    "\n",
    "(f, fexpr)"
   ]
  },
  {
   "cell_type": "code",
   "execution_count": null,
   "id": "pointed-philadelphia",
   "metadata": {
    "deletable": false,
    "editable": false,
    "nbgrader": {
     "cell_type": "code",
     "checksum": "53a15e093acd27c4d5457a4a7fba239c",
     "grade": true,
     "grade_id": "cell-81ba14e2362cb0d9",
     "locked": true,
     "points": 2,
     "schema_version": 3,
     "solution": false,
     "task": false
    }
   },
   "outputs": [],
   "source": [
    "# 2 Marks\n",
    "# Do not try to delete this cell\n",
    "# Run this cell for grading\n",
    "_globals = globals()\n",
    "question1if(_globals)"
   ]
  },
  {
   "cell_type": "markdown",
   "id": "amateur-motivation",
   "metadata": {
    "deletable": false,
    "editable": false,
    "nbgrader": {
     "cell_type": "markdown",
     "checksum": "035045656c69e30f4c63e8eca06633c2",
     "grade": false,
     "grade_id": "cell-6c529616c7ba35dc",
     "locked": true,
     "schema_version": 3,
     "solution": false,
     "task": false
    }
   },
   "source": [
    "(g) Given that $x=f(t)$, find the general solution `gen_sol` of the ordinary differential equation\n",
    "\n",
    "$$\\frac{dx}{dt} = x^4-5x^3+7 x^2+3x-10,$$\n",
    "\n",
    "as an expression in $f(t)$."
   ]
  },
  {
   "cell_type": "code",
   "execution_count": 14,
   "id": "proud-administrator",
   "metadata": {
    "deletable": false,
    "nbgrader": {
     "cell_type": "code",
     "checksum": "dc791e7f2922767388abcd7cbc1e85dc",
     "grade": false,
     "grade_id": "cell-5793e81f8df0d50e",
     "locked": false,
     "schema_version": 3,
     "solution": true,
     "task": false
    }
   },
   "outputs": [],
   "source": [
    "g = sp.integrate(1 / (x ** 4 - 5 * x ** 3 + 7 * x ** 2 + 3 * x - 10), x)\n",
    "\n",
    "g = t"
   ]
  },
  {
   "cell_type": "code",
   "execution_count": 15,
   "id": "ranking-street",
   "metadata": {
    "deletable": false,
    "editable": false,
    "nbgrader": {
     "cell_type": "code",
     "checksum": "3fa23d634d6095c24510ad2cb7def115",
     "grade": true,
     "grade_id": "cell-da84d476dc222ea4",
     "locked": true,
     "points": 1,
     "schema_version": 3,
     "solution": false,
     "task": false
    }
   },
   "outputs": [
    {
     "name": "stdout",
     "output_type": "stream",
     "text": [
      "The expression gen_sol is not defined correctly\n"
     ]
    },
    {
     "ename": "AssertionError",
     "evalue": "Test failed overall!",
     "output_type": "error",
     "traceback": [
      "\u001b[1;31m---------------------------------------------------------------------------\u001b[0m",
      "\u001b[1;31mAssertionError\u001b[0m                            Traceback (most recent call last)",
      "\u001b[1;32m<ipython-input-15-5e6feb4e3dde>\u001b[0m in \u001b[0;36m<module>\u001b[1;34m\u001b[0m\n\u001b[0;32m      3\u001b[0m \u001b[1;31m# Run this cell for grading\u001b[0m\u001b[1;33m\u001b[0m\u001b[1;33m\u001b[0m\u001b[1;33m\u001b[0m\u001b[0m\n\u001b[0;32m      4\u001b[0m \u001b[0m_globals\u001b[0m \u001b[1;33m=\u001b[0m \u001b[0mglobals\u001b[0m\u001b[1;33m(\u001b[0m\u001b[1;33m)\u001b[0m\u001b[1;33m\u001b[0m\u001b[1;33m\u001b[0m\u001b[0m\n\u001b[1;32m----> 5\u001b[1;33m \u001b[0mquestion1ig\u001b[0m\u001b[1;33m(\u001b[0m\u001b[0m_globals\u001b[0m\u001b[1;33m)\u001b[0m\u001b[1;33m\u001b[0m\u001b[1;33m\u001b[0m\u001b[0m\n\u001b[0m",
      "\u001b[1;32m~\\OneDrive\\Documents\\University\\Mathematics\\MATH40006 - Introduction to Computation\\Jupyter Notebook\\Term 2\\Week 7\\autograder_term2week7.py\u001b[0m in \u001b[0;36mquestion1ig\u001b[1;34m(_globals)\u001b[0m\n\u001b[0;32m    141\u001b[0m         \u001b[1;32mreturn\u001b[0m \u001b[0mscore\u001b[0m\u001b[1;33m\u001b[0m\u001b[1;33m\u001b[0m\u001b[0m\n\u001b[0;32m    142\u001b[0m     \u001b[1;32melse\u001b[0m\u001b[1;33m:\u001b[0m\u001b[1;33m\u001b[0m\u001b[1;33m\u001b[0m\u001b[0m\n\u001b[1;32m--> 143\u001b[1;33m         \u001b[1;32mraise\u001b[0m \u001b[0mAssertionError\u001b[0m\u001b[1;33m(\u001b[0m\u001b[1;34m'Test failed overall!'\u001b[0m\u001b[1;33m)\u001b[0m\u001b[1;33m\u001b[0m\u001b[1;33m\u001b[0m\u001b[0m\n\u001b[0m\u001b[0;32m    144\u001b[0m \u001b[1;33m\u001b[0m\u001b[0m\n\u001b[0;32m    145\u001b[0m \u001b[1;32mdef\u001b[0m \u001b[0mquestion2ia\u001b[0m\u001b[1;33m(\u001b[0m\u001b[0m_globals\u001b[0m\u001b[1;33m)\u001b[0m\u001b[1;33m:\u001b[0m\u001b[1;33m\u001b[0m\u001b[1;33m\u001b[0m\u001b[0m\n",
      "\u001b[1;31mAssertionError\u001b[0m: Test failed overall!"
     ]
    }
   ],
   "source": [
    "# 1 Mark\n",
    "# Do not try to delete this cell\n",
    "# Run this cell for grading\n",
    "_globals = globals()\n",
    "question1ig(_globals)"
   ]
  },
  {
   "cell_type": "markdown",
   "id": "frank-junior",
   "metadata": {
    "deletable": false,
    "editable": false,
    "nbgrader": {
     "cell_type": "markdown",
     "checksum": "9a2137cfed3a20182464074300b40d60",
     "grade": false,
     "grade_id": "cell-d35459cdc666acf8",
     "locked": true,
     "schema_version": 3,
     "solution": false,
     "task": false
    }
   },
   "source": [
    "## Question 1 (ii)\n",
    "\n",
    "Autograding won't help for any of this!\n",
    "\n",
    "Using the `plot_parametric`, `plot_implicit`, `plot3d_parametric_line` and `plot3d_parametric_surface`, create plots of:\n",
    "\n",
    "(a) The Lissajous curve $x=\\cos(5\\theta), y= \\sin(3\\theta)$ for $0\\le \\theta \\le 2\\,\\pi$.\n",
    "\n",
    "(b) The implicit curve $y^2 = x^3-x$ for $-3\\le x \\le 3$.\n",
    "\n",
    "(c) A helix in 3d (just a line, not a surface).\n",
    "\n",
    "(d) The surface of a torus (ring doughnut or bagel shape).\n",
    "\n",
    "(e) A helix winding round a torus (just show the line, not the surface)."
   ]
  },
  {
   "cell_type": "code",
   "execution_count": 36,
   "id": "bulgarian-brazil",
   "metadata": {
    "deletable": false,
    "nbgrader": {
     "cell_type": "code",
     "checksum": "ad481083b4c1d52f9fca516833360b61",
     "grade": false,
     "grade_id": "cell-fe82240418492676",
     "locked": false,
     "schema_version": 3,
     "solution": true,
     "task": false
    }
   },
   "outputs": [
    {
     "data": {
      "image/png": "[encoded data removed]",
      "text/plain": [
       "<Figure size 432x288 with 1 Axes>"
      ]
     },
     "metadata": {
      "needs_background": "light"
     },
     "output_type": "display_data"
    },
    {
     "data": {
      "text/plain": [
       "<sympy.plotting.plot.Plot at 0x18545dfe280>"
      ]
     },
     "execution_count": 36,
     "metadata": {},
     "output_type": "execute_result"
    }
   ],
   "source": [
    "splt.plot_parametric(sp.cos(5 * t), sp.sin(3 * t), (t, 0, 2 * sp.pi))"
   ]
  },
  {
   "cell_type": "code",
   "execution_count": 38,
   "id": "brief-bidder",
   "metadata": {
    "deletable": false,
    "nbgrader": {
     "cell_type": "code",
     "checksum": "9203abc7427c4906e26b3f502b208b11",
     "grade": false,
     "grade_id": "cell-d6b67b71f213baa7",
     "locked": false,
     "schema_version": 3,
     "solution": true,
     "task": false
    }
   },
   "outputs": [
    {
     "data": {
      "image/png": "[encoded data removed]",
      "text/plain": [
       "<Figure size 432x288 with 1 Axes>"
      ]
     },
     "metadata": {
      "needs_background": "light"
     },
     "output_type": "display_data"
    },
    {
     "data": {
      "text/plain": [
       "<sympy.plotting.plot.Plot at 0x18545deb400>"
      ]
     },
     "execution_count": 38,
     "metadata": {},
     "output_type": "execute_result"
    }
   ],
   "source": [
    "y = sp.symbols('y')\n",
    "\n",
    "splt.plot_implicit(sp.Eq(y ** 2, x ** 3 - x), (x, -3, 3))"
   ]
  },
  {
   "cell_type": "code",
   "execution_count": 42,
   "id": "sized-current",
   "metadata": {
    "deletable": false,
    "nbgrader": {
     "cell_type": "code",
     "checksum": "9b7bb4a2f31bdd2291b8dcfd98fcc6cc",
     "grade": false,
     "grade_id": "cell-246db9ce9a41786f",
     "locked": false,
     "schema_version": 3,
     "solution": true,
     "task": false
    }
   },
   "outputs": [
    {
     "data": {
      "image/png": "[encoded data removed]",
      "text/plain": [
       "<Figure size 432x288 with 1 Axes>"
      ]
     },
     "metadata": {
      "needs_background": "light"
     },
     "output_type": "display_data"
    },
    {
     "data": {
      "text/plain": [
       "<sympy.plotting.plot.Plot at 0x18545caef70>"
      ]
     },
     "execution_count": 42,
     "metadata": {},
     "output_type": "execute_result"
    }
   ],
   "source": [
    "z = sp.symbols('z')\n",
    "\n",
    "splt.plot3d_parametric_line(sp.sin(t), sp.cos(t), t)"
   ]
  },
  {
   "cell_type": "code",
   "execution_count": 56,
   "id": "quantitative-retail",
   "metadata": {
    "deletable": false,
    "nbgrader": {
     "cell_type": "code",
     "checksum": "35c1b6d008b0cd530103d4be8b1ad33b",
     "grade": false,
     "grade_id": "cell-8cbcc36f51eb8fa2",
     "locked": false,
     "schema_version": 3,
     "solution": true,
     "task": false
    }
   },
   "outputs": [
    {
     "data": {
      "image/png": "[encoded data removed]",
      "text/plain": [
       "<Figure size 432x288 with 1 Axes>"
      ]
     },
     "metadata": {
      "needs_background": "light"
     },
     "output_type": "display_data"
    },
    {
     "data": {
      "text/plain": [
       "<sympy.plotting.plot.Plot at 0x1854a0abf40>"
      ]
     },
     "execution_count": 56,
     "metadata": {},
     "output_type": "execute_result"
    }
   ],
   "source": [
    "u, v = sp.symbols('u v')\n",
    "\n",
    "splt.plot3d_parametric_surface((0.25 + 0.05 * sp.cos(v)) * sp.cos(u), (0.25 + 0.05 * sp.cos(v)) * sp.sin(u), 0.05 * sp.sin(v))"
   ]
  },
  {
   "cell_type": "code",
   "execution_count": 61,
   "id": "nuclear-balance",
   "metadata": {
    "deletable": false,
    "nbgrader": {
     "cell_type": "code",
     "checksum": "c4dd3e63a19cfd9d93791bb2e6d7171c",
     "grade": false,
     "grade_id": "cell-07818c747e91e690",
     "locked": false,
     "schema_version": 3,
     "solution": true,
     "task": false
    }
   },
   "outputs": [
    {
     "data": {
      "image/png": "[encoded data removed]",
      "text/plain": [
       "<Figure size 432x288 with 1 Axes>"
      ]
     },
     "metadata": {
      "needs_background": "light"
     },
     "output_type": "display_data"
    },
    {
     "data": {
      "image/png": "[encoded data removed]",
      "text/plain": [
       "<Figure size 432x288 with 1 Axes>"
      ]
     },
     "metadata": {
      "needs_background": "light"
     },
     "output_type": "display_data"
    },
    {
     "data": {
      "image/png": "[encoded data removed]",
      "text/plain": [
       "<Figure size 432x288 with 1 Axes>"
      ]
     },
     "metadata": {
      "needs_background": "light"
     },
     "output_type": "display_data"
    }
   ],
   "source": [
    "p1 = splt.plot3d_parametric_line(2 * sp.sin(t), 2 * sp.cos(t), t)\n",
    "\n",
    "p2 = splt.plot3d_parametric_surface((1 + sp.cos(v)) * sp.cos(u), (1 + sp.cos(v)) * sp.sin(u), sp.sin(v))\n",
    "\n",
    "p1.extend(p2)\n",
    "\n",
    "p1.show()"
   ]
  },
  {
   "cell_type": "markdown",
   "id": "secure-contract",
   "metadata": {
    "deletable": false,
    "editable": false,
    "nbgrader": {
     "cell_type": "markdown",
     "checksum": "6cdc2f2e89487a872a6114cfb9ce3e0b",
     "grade": false,
     "grade_id": "cell-831a74282856dfc0",
     "locked": true,
     "schema_version": 3,
     "solution": false,
     "task": false
    }
   },
   "source": [
    "## Question 2 (i)\n",
    "\n",
    "(a) Define variables $p=6$ and $q=9$ <em>as SymPy integers</em>, and calculate <em>using SymPy functions and rationals</em> the quantity\n",
    "$$x=\\left(\\frac{q}{2}+\\sqrt{\\left[\\frac{q}{2}\\right]^2-\\left[\\frac{p}{3}\\right]^3}\\right)^{1/3}+\\left(\\frac{q}{2}-\\sqrt{\\left[\\frac{q}{2}\\right]^2-\\left[\\frac{p}{3}\\right]^3}\\right)^{1/3}.$$\n",
    "Verify Cardano's Theorem, that $x$ is a solution of the cubic\n",
    "$$x^3=p\\,x+q.$$"
   ]
  },
  {
   "cell_type": "code",
   "execution_count": 22,
   "id": "unlikely-quick",
   "metadata": {
    "deletable": false,
    "nbgrader": {
     "cell_type": "code",
     "checksum": "2e45cbea160eb8bf9e893df503dd371a",
     "grade": false,
     "grade_id": "cell-fe73392b99dcc38d",
     "locked": false,
     "schema_version": 3,
     "solution": true,
     "task": false
    }
   },
   "outputs": [
    {
     "data": {
      "image/png": "[encoded data removed]",
      "text/latex": [
       "$\\displaystyle \\left( 3.0, \\  27.0, \\  27.0\\right)$"
      ],
      "text/plain": [
       "(3.0, 27.0, 27.0)"
      ]
     },
     "execution_count": 22,
     "metadata": {},
     "output_type": "execute_result"
    }
   ],
   "source": [
    "p = sp.Integer(6)\n",
    "q = sp.Integer(9)\n",
    "x = (q / 2 + sp.sqrt((q / 2) ** 2 - (p / 3) ** 3)) ** (1 / 3) + (q / 2 - sp.sqrt((q / 2) ** 2 - (p / 3) ** 3)) ** (1 / 3)\n",
    "\n",
    "(x, x**3, p*x+q)"
   ]
  },
  {
   "cell_type": "code",
   "execution_count": 23,
   "id": "legal-tracy",
   "metadata": {
    "deletable": false,
    "editable": false,
    "nbgrader": {
     "cell_type": "code",
     "checksum": "66f85a371407028e7b4934c48e838ae0",
     "grade": true,
     "grade_id": "cell-c4a58b62e61622f0",
     "locked": true,
     "points": 1,
     "schema_version": 3,
     "solution": false,
     "task": false
    }
   },
   "outputs": [
    {
     "name": "stdout",
     "output_type": "stream",
     "text": [
      "The value of x is correct\n",
      "\n",
      "Test passed!\n"
     ]
    },
    {
     "data": {
      "image/png": "[encoded data removed]",
      "text/latex": [
       "$\\displaystyle 1$"
      ],
      "text/plain": [
       "1"
      ]
     },
     "execution_count": 23,
     "metadata": {},
     "output_type": "execute_result"
    }
   ],
   "source": [
    "# 1 Mark\n",
    "# Do not try to delete this cell\n",
    "# Run this cell for grading\n",
    "_globals = globals()\n",
    "question2ia(_globals)"
   ]
  },
  {
   "cell_type": "markdown",
   "id": "powerful-latter",
   "metadata": {
    "deletable": false,
    "editable": false,
    "nbgrader": {
     "cell_type": "markdown",
     "checksum": "e23ec9b9813a7576f1a4684e427e3600",
     "grade": false,
     "grade_id": "cell-87057eb90263a83c",
     "locked": true,
     "schema_version": 3,
     "solution": false,
     "task": false
    }
   },
   "source": [
    "(b) Repeat for $p=3$ and $q=18$."
   ]
  },
  {
   "cell_type": "code",
   "execution_count": 32,
   "id": "altered-serbia",
   "metadata": {
    "deletable": false,
    "nbgrader": {
     "cell_type": "code",
     "checksum": "28c8f860dc97ec77690b0ed42a219201",
     "grade": false,
     "grade_id": "cell-f81eea0fb1edb157",
     "locked": false,
     "schema_version": 3,
     "solution": true,
     "task": false
    }
   },
   "outputs": [
    {
     "data": {
      "image/png": "[encoded data removed]",
      "text/latex": [
       "$\\displaystyle \\left( \\left(9 - 4 \\sqrt{5}\\right)^{0.333333333333333} + \\left(4 \\sqrt{5} + 9\\right)^{0.333333333333333}, \\  \\left(\\left(9 - 4 \\sqrt{5}\\right)^{0.333333333333333} + \\left(4 \\sqrt{5} + 9\\right)^{0.333333333333333}\\right)^{3}, \\  3 \\left(9 - 4 \\sqrt{5}\\right)^{0.333333333333333} + 3 \\left(4 \\sqrt{5} + 9\\right)^{0.333333333333333} + 18\\right)$"
      ],
      "text/plain": [
       "⎛                                                                             \n",
       "⎜          0.333333333333333             0.333333333333333  ⎛          0.33333\n",
       "⎝(9 - 4⋅√5)                  + (4⋅√5 + 9)                 , ⎝(9 - 4⋅√5)       \n",
       "\n",
       "                                         3                                    \n",
       "3333333333             0.333333333333333⎞               0.333333333333333     \n",
       "           + (4⋅√5 + 9)                 ⎠ , 3⋅(9 - 4⋅√5)                  + 3⋅\n",
       "\n",
       "                                ⎞\n",
       "          0.333333333333333     ⎟\n",
       "(4⋅√5 + 9)                  + 18⎠"
      ]
     },
     "execution_count": 32,
     "metadata": {},
     "output_type": "execute_result"
    }
   ],
   "source": [
    "p = sp.Integer(3)\n",
    "q = sp.Integer(18)\n",
    "x = (q / 2 + sp.sqrt((q / 2) ** 2 - (p / 3) ** 3)) ** (1 / 3) + (q / 2 - sp.sqrt((q / 2) ** 2 - (p / 3) ** 3)) ** (1 / 3)\n",
    "\n",
    "(x, x**3, p*x+q)"
   ]
  },
  {
   "cell_type": "code",
   "execution_count": 33,
   "id": "demographic-terminology",
   "metadata": {
    "deletable": false,
    "editable": false,
    "nbgrader": {
     "cell_type": "code",
     "checksum": "6bfd57d9ddc81608e15a433d0ccb12b4",
     "grade": true,
     "grade_id": "cell-5727229a7d29a2da",
     "locked": true,
     "points": 1,
     "schema_version": 3,
     "solution": false,
     "task": false
    }
   },
   "outputs": [
    {
     "name": "stdout",
     "output_type": "stream",
     "text": [
      "The value of x is incorrect\n",
      "\n"
     ]
    },
    {
     "ename": "AssertionError",
     "evalue": "Test failed overall!",
     "output_type": "error",
     "traceback": [
      "\u001b[1;31m---------------------------------------------------------------------------\u001b[0m",
      "\u001b[1;31mAssertionError\u001b[0m                            Traceback (most recent call last)",
      "\u001b[1;32m<ipython-input-33-bf7f3b9b3444>\u001b[0m in \u001b[0;36m<module>\u001b[1;34m\u001b[0m\n\u001b[0;32m      3\u001b[0m \u001b[1;31m# Run this cell for grading\u001b[0m\u001b[1;33m\u001b[0m\u001b[1;33m\u001b[0m\u001b[1;33m\u001b[0m\u001b[0m\n\u001b[0;32m      4\u001b[0m \u001b[0m_globals\u001b[0m \u001b[1;33m=\u001b[0m \u001b[0mglobals\u001b[0m\u001b[1;33m(\u001b[0m\u001b[1;33m)\u001b[0m\u001b[1;33m\u001b[0m\u001b[1;33m\u001b[0m\u001b[0m\n\u001b[1;32m----> 5\u001b[1;33m \u001b[0mquestion2ib\u001b[0m\u001b[1;33m(\u001b[0m\u001b[0m_globals\u001b[0m\u001b[1;33m)\u001b[0m\u001b[1;33m\u001b[0m\u001b[1;33m\u001b[0m\u001b[0m\n\u001b[0m\u001b[0;32m      6\u001b[0m \u001b[0msp\u001b[0m\u001b[1;33m.\u001b[0m\u001b[0msimplify\u001b[0m\u001b[1;33m(\u001b[0m\u001b[0mx\u001b[0m\u001b[1;33m)\u001b[0m\u001b[1;33m\u001b[0m\u001b[1;33m\u001b[0m\u001b[0m\n",
      "\u001b[1;32m~\\OneDrive\\Documents\\University\\Mathematics\\MATH40006 - Introduction to Computation\\Jupyter Notebook\\Term 2\\Week 7\\autograder_term2week7.py\u001b[0m in \u001b[0;36mquestion2ib\u001b[1;34m(_globals)\u001b[0m\n\u001b[0;32m    173\u001b[0m         \u001b[1;32mreturn\u001b[0m \u001b[0mscore\u001b[0m\u001b[1;33m\u001b[0m\u001b[1;33m\u001b[0m\u001b[0m\n\u001b[0;32m    174\u001b[0m     \u001b[1;32melse\u001b[0m\u001b[1;33m:\u001b[0m\u001b[1;33m\u001b[0m\u001b[1;33m\u001b[0m\u001b[0m\n\u001b[1;32m--> 175\u001b[1;33m         \u001b[1;32mraise\u001b[0m \u001b[0mAssertionError\u001b[0m\u001b[1;33m(\u001b[0m\u001b[1;34m'Test failed overall!'\u001b[0m\u001b[1;33m)\u001b[0m\u001b[1;33m\u001b[0m\u001b[1;33m\u001b[0m\u001b[0m\n\u001b[0m\u001b[0;32m    176\u001b[0m \u001b[1;33m\u001b[0m\u001b[0m\n\u001b[0;32m    177\u001b[0m \u001b[1;32mdef\u001b[0m \u001b[0mquestion2ic\u001b[0m\u001b[1;33m(\u001b[0m\u001b[0m_globals\u001b[0m\u001b[1;33m)\u001b[0m\u001b[1;33m:\u001b[0m\u001b[1;33m\u001b[0m\u001b[1;33m\u001b[0m\u001b[0m\n",
      "\u001b[1;31mAssertionError\u001b[0m: Test failed overall!"
     ]
    }
   ],
   "source": [
    "# 1 Mark\n",
    "# Do not try to delete this cell\n",
    "# Run this cell for grading\n",
    "_globals = globals()\n",
    "question2ib(_globals)\n",
    "sp.simplify(x)"
   ]
  },
  {
   "cell_type": "markdown",
   "id": "cellular-yesterday",
   "metadata": {
    "deletable": false,
    "editable": false,
    "nbgrader": {
     "cell_type": "markdown",
     "checksum": "24936e6cc1508a45e5121284ddbcbc1f",
     "grade": false,
     "grade_id": "cell-30cd62a4adbe3eb3",
     "locked": true,
     "schema_version": 3,
     "solution": false,
     "task": false
    }
   },
   "source": [
    "(c) Which of the following is/are true?\n",
    "\n",
    "<ol>\n",
    "    <li>The values of $x^3$ and $p\\,x+q$ are not equal; this is a counterexample to the theorem.</li>\n",
    "    <li>The values of $x^3$ and $p\\,x+q$ are equal, as is revealed by typing <code>x ** 3 == p*x + q</code>.</li>\n",
    "    <li>The values of $x^3$ and $p\\,x+q$ are equal, as is revealed by typing <code>sp.simplify(x ** 3) == sp.simplify(p*x + q)</code>.</li>\n",
    "    <li>The values of $x^3$ and $p\\,x+q$ are equal, as is revealed by typing <code>sp.simplify(x ** 3 - (p*x + q)) == 0</code>.</li>\n",
    "    <li>The values of $x^3$ and $p\\,x+q$ are equal, as is revealed by typing <code>(x ** 3).equals(p*x + q)</code>.</li>\n",
    "</ol>\n",
    "\n",
    "Type in the correct answers enclosed in curly brackets: for example, if you think statements 1, 3 and 4 are true, type `{1, 3, 4}`."
   ]
  },
  {
   "cell_type": "code",
   "execution_count": 37,
   "id": "intense-hughes",
   "metadata": {
    "deletable": false,
    "nbgrader": {
     "cell_type": "code",
     "checksum": "f88ac74e36da86e6546a6fc11eb8ffd5",
     "grade": false,
     "grade_id": "cell-e3c878f032c8325e",
     "locked": false,
     "schema_version": 3,
     "solution": true,
     "task": false
    }
   },
   "outputs": [],
   "source": [
    "\n",
    "\n",
    "q2ic_answer = {4, 5}"
   ]
  },
  {
   "cell_type": "code",
   "execution_count": 38,
   "id": "dimensional-testing",
   "metadata": {
    "deletable": false,
    "editable": false,
    "nbgrader": {
     "cell_type": "code",
     "checksum": "d689946ab70d4fc6b78ba3ea679e03b6",
     "grade": true,
     "grade_id": "cell-1839617dea822581",
     "locked": true,
     "points": 1,
     "schema_version": 3,
     "solution": false,
     "task": false
    }
   },
   "outputs": [
    {
     "name": "stdout",
     "output_type": "stream",
     "text": [
      "Either {4, 5} or just {5} has been marked correct here; the answer seems to change with version number. Let me know if your version is doing something different still.\n",
      "\n",
      "Test passed!\n"
     ]
    },
    {
     "data": {
      "image/png": "[encoded data removed]",
      "text/latex": [
       "$\\displaystyle 1$"
      ],
      "text/plain": [
       "1"
      ]
     },
     "execution_count": 38,
     "metadata": {},
     "output_type": "execute_result"
    }
   ],
   "source": [
    "# 1 Mark\n",
    "# Do not try to delete this cell\n",
    "# Run this cell for grading\n",
    "_globals = globals()\n",
    "question2ic(_globals)"
   ]
  },
  {
   "cell_type": "markdown",
   "id": "filled-indie",
   "metadata": {
    "deletable": false,
    "editable": false,
    "nbgrader": {
     "cell_type": "markdown",
     "checksum": "2bbf31352ba4d8c82455c75945fe265e",
     "grade": false,
     "grade_id": "cell-d1f6a08887714961",
     "locked": true,
     "schema_version": 3,
     "solution": false,
     "task": false
    }
   },
   "source": [
    "(d) The only real root of $x^3=3x+18$ is $x=3$. Which of the following is true?\n",
    "\n",
    "<ol>\n",
    "    <li>The numerical value of <code>x</code> found in this way is not $3$.</li>\n",
    "    <li>The numerical value of <code>x</code> found in this way is $3$, but this appears in an unhelpful form; however, if we simplify it using <code>simplify</code>, it becomes 3.</li>\n",
    "    <li>The numerical value of <code>x</code> found in this way is $3$, but this appears in an unhelpful form; moreover, if we simplify it using <code>simplify</code>, it does not become 3.</li>\n",
    "</ol>"
   ]
  },
  {
   "cell_type": "code",
   "execution_count": 41,
   "id": "encouraging-garage",
   "metadata": {
    "deletable": false,
    "nbgrader": {
     "cell_type": "code",
     "checksum": "ce2bba4230fc69f8d6b334ef63f91f9f",
     "grade": false,
     "grade_id": "cell-3e52f326323eb208",
     "locked": false,
     "schema_version": 3,
     "solution": true,
     "task": false
    }
   },
   "outputs": [],
   "source": [
    "\n",
    "\n",
    "q2id_answer = 3"
   ]
  },
  {
   "cell_type": "code",
   "execution_count": 42,
   "id": "dynamic-charleston",
   "metadata": {
    "deletable": false,
    "editable": false,
    "nbgrader": {
     "cell_type": "code",
     "checksum": "ab7eec94a04c1a05ffc5eedc54d1875d",
     "grade": true,
     "grade_id": "cell-ec841bfa442874f5",
     "locked": true,
     "points": 1,
     "schema_version": 3,
     "solution": false,
     "task": false
    }
   },
   "outputs": [
    {
     "name": "stdout",
     "output_type": "stream",
     "text": [
      "test case passed!\n"
     ]
    }
   ],
   "source": [
    "# 1 Mark\n",
    "assert(q2id_answer == question2id())\n",
    "print('test case passed!')"
   ]
  },
  {
   "cell_type": "markdown",
   "id": "arbitrary-blogger",
   "metadata": {
    "deletable": false,
    "editable": false,
    "nbgrader": {
     "cell_type": "markdown",
     "checksum": "023d0c2a962b1b8f09382fb061ad5cf1",
     "grade": false,
     "grade_id": "cell-5d4ffe8b3b8a91f9",
     "locked": true,
     "schema_version": 3,
     "solution": false,
     "task": false
    }
   },
   "source": [
    "The `simplify` subsubmodule of the `simplify` submodule of SymPy has a specialised function called `nthroot`, which attempts to compute a real $n$th root of a sum of surds; you can test it by typing, for example,\n",
    "\n",
    "```python\n",
    "from sympy.simplify.simplify import nthroot\n",
    "nthroot(-25+22*sp.sqrt(2), 3)\n",
    "```\n",
    "\n",
    "which should deliver a simple expression for the real cube root of $-25+22\\,\\sqrt{2}$.\n",
    "\n",
    "(e) Use this function instead of raising to fractional powers in order to calculate, for $p=3$ and $q=18$, the exact value of\n",
    "$$x=\\left(\\frac{q}{2}+\\sqrt{\\left[\\frac{q}{2}\\right]^2-\\left[\\frac{p}{3}\\right]^3}\\right)^{1/3}+\\left(\\frac{q}{2}-\\sqrt{\\left[\\frac{q}{2}\\right]^2-\\left[\\frac{p}{3}\\right]^3}\\right)^{1/3}.$$"
   ]
  },
  {
   "cell_type": "code",
   "execution_count": 45,
   "id": "initial-culture",
   "metadata": {
    "deletable": false,
    "nbgrader": {
     "cell_type": "code",
     "checksum": "c9b9e14d15128a7f3c46c3eac40b6c7c",
     "grade": false,
     "grade_id": "cell-b93cdde30dc5adaa",
     "locked": false,
     "schema_version": 3,
     "solution": true,
     "task": false
    }
   },
   "outputs": [
    {
     "data": {
      "image/png": "[encoded data removed]",
      "text/latex": [
       "$\\displaystyle \\left( 3, \\  27, \\  27\\right)$"
      ],
      "text/plain": [
       "(3, 27, 27)"
      ]
     },
     "execution_count": 45,
     "metadata": {},
     "output_type": "execute_result"
    }
   ],
   "source": [
    "from sympy.simplify.simplify import nthroot\n",
    "\n",
    "x = nthroot(q / 2 + sp.sqrt((q / 2) ** 2 - (p / 3) ** 3), 3) + nthroot(q / 2 - sp.sqrt((q / 2) ** 2 - (p / 3) ** 3), 3)\n",
    "\n",
    "(x, x**3, p*x+q)"
   ]
  },
  {
   "cell_type": "code",
   "execution_count": 46,
   "id": "conscious-velvet",
   "metadata": {
    "deletable": false,
    "editable": false,
    "nbgrader": {
     "cell_type": "code",
     "checksum": "25f4fecd315d8b53754965bd001f7670",
     "grade": true,
     "grade_id": "cell-0864f75752234de0",
     "locked": true,
     "points": 1,
     "schema_version": 3,
     "solution": false,
     "task": false
    }
   },
   "outputs": [
    {
     "name": "stdout",
     "output_type": "stream",
     "text": [
      "The value of x is correct\n",
      "\n",
      "Test passed!\n"
     ]
    },
    {
     "data": {
      "image/png": "[encoded data removed]",
      "text/latex": [
       "$\\displaystyle 1$"
      ],
      "text/plain": [
       "1"
      ]
     },
     "execution_count": 46,
     "metadata": {},
     "output_type": "execute_result"
    }
   ],
   "source": [
    "# 1 Mark\n",
    "# Do not try to delete this cell\n",
    "# Run this cell for grading\n",
    "_globals = globals()\n",
    "question2ie(_globals)"
   ]
  },
  {
   "cell_type": "markdown",
   "id": "comic-field",
   "metadata": {
    "deletable": false,
    "editable": false,
    "nbgrader": {
     "cell_type": "markdown",
     "checksum": "bb742b8db132a0ccb6f1a0305833460f",
     "grade": false,
     "grade_id": "cell-219d4091fea71477",
     "locked": true,
     "schema_version": 3,
     "solution": false,
     "task": false
    }
   },
   "source": [
    "(f) Investigate the case $p=6$, $q=4$, for which the cubic has three real roots. Which of the following is true?\n",
    "\n",
    "<ol>\n",
    "    <li>Cardano's method, used in this way with rational powers, finds none of the real roots.</li>\n",
    "    <li>Cardano's method, used in this way with rational powers, finds just one of the real roots, in a nicely simplified form.</li>\n",
    "    <li>Cardano's method, used in this way with rational powers, finds just one of the real roots, in an unhelpful form; it can be found in a nicely simplified form by using <code>nthroot</code> instead.</li>\n",
    "    <li>Cardano's method, used in this way with either rational powers or <code>nthroot</code>, finds just one of the real roots, in an unhelpful form; it can be found in a nicely simplified form by using <code>expand</code> with the keyword argument <code>complex</code> set to <code>True</code>.</li>\n",
    "</ol>"
   ]
  },
  {
   "cell_type": "code",
   "execution_count": null,
   "id": "driven-doctrine",
   "metadata": {
    "deletable": false,
    "nbgrader": {
     "cell_type": "code",
     "checksum": "c28fe12de6f4546387c86079439b67c0",
     "grade": false,
     "grade_id": "cell-80798a6234dd0146",
     "locked": false,
     "schema_version": 3,
     "solution": true,
     "task": false
    }
   },
   "outputs": [],
   "source": [
    "# YOUR CODE HERE\n",
    "raise NotImplementedError()\n",
    "\n",
    "(x,(x**3).expand(), p*x+q)"
   ]
  },
  {
   "cell_type": "code",
   "execution_count": 51,
   "id": "boolean-painting",
   "metadata": {
    "deletable": false,
    "nbgrader": {
     "cell_type": "code",
     "checksum": "a48cc6f5c0f8d0234892b94e8f8e4b53",
     "grade": false,
     "grade_id": "cell-ba67312ebdc82ed6",
     "locked": false,
     "schema_version": 3,
     "solution": true,
     "task": false
    }
   },
   "outputs": [],
   "source": [
    "\n",
    "q2if_answer = 4"
   ]
  },
  {
   "cell_type": "code",
   "execution_count": 52,
   "id": "beginning-european",
   "metadata": {
    "deletable": false,
    "editable": false,
    "nbgrader": {
     "cell_type": "code",
     "checksum": "b6b72ab6040ab9d5f9d980ac33975f37",
     "grade": true,
     "grade_id": "cell-2e05b4aa4b216e78",
     "locked": true,
     "points": 1,
     "schema_version": 3,
     "solution": false,
     "task": false
    }
   },
   "outputs": [
    {
     "name": "stdout",
     "output_type": "stream",
     "text": [
      "test case passed!\n"
     ]
    }
   ],
   "source": [
    "# 1 Mark\n",
    "assert(q2if_answer == question2if())\n",
    "print('test case passed!')"
   ]
  },
  {
   "cell_type": "markdown",
   "id": "rubber-psychology",
   "metadata": {
    "deletable": false,
    "editable": false,
    "nbgrader": {
     "cell_type": "markdown",
     "checksum": "b35671ff6caae89c2472fe5fa4cbe0e3",
     "grade": false,
     "grade_id": "cell-928318ae2882c590",
     "locked": true,
     "schema_version": 3,
     "solution": false,
     "task": false
    }
   },
   "source": [
    "## Question 2 (ii)\n",
    "\n",
    "Every real number $x$ can be expressed as a unique <b>continued fraction</b>,\n",
    "\n",
    "$$x = a_1 + \\frac{1}{a_2+\\frac{1}{a_3+\\frac{1}{a_4+\\dots}}}$$\n",
    "\n",
    "We can represent this by the sequence\n",
    "\n",
    "$$a_1, a_2, a_3, a_4, \\dots$$\n",
    "\n",
    "If $x$ is rational then this sequence is finite; otherwise it is infinite.\n",
    "\n",
    "The following function is for calculating continued fractions of positive real numbers, truncating if necessary after the sequence attains length `n`:"
   ]
  },
  {
   "cell_type": "code",
   "execution_count": 53,
   "id": "distinct-testament",
   "metadata": {
    "deletable": false,
    "editable": false,
    "nbgrader": {
     "cell_type": "code",
     "checksum": "25aa9b1970552d977d6acbb90eb334ca",
     "grade": false,
     "grade_id": "cell-163f933ca5931f16",
     "locked": true,
     "schema_version": 3,
     "solution": false,
     "task": false
    }
   },
   "outputs": [],
   "source": [
    "def continued_fraction(x, n):\n",
    "    \"\"\"\n",
    "    Calculates the continued fraction of x up to a maximum of n terms\n",
    "    \"\"\"\n",
    "    # initialize cf\n",
    "    cf = []\n",
    "    \n",
    "    # for loop\n",
    "    for i in range(n):\n",
    "        # integer part of x\n",
    "        intx = int(x)\n",
    "        \n",
    "        # append to cf\n",
    "        cf.append(intx)\n",
    "        \n",
    "        # if already exact fraction, return and stop\n",
    "        if x == intx:\n",
    "            return cf\n",
    "        \n",
    "        # update x\n",
    "        x = 1/(x-intx)\n",
    "        \n",
    "    return cf"
   ]
  },
  {
   "cell_type": "markdown",
   "id": "floral-budapest",
   "metadata": {
    "deletable": false,
    "editable": false,
    "nbgrader": {
     "cell_type": "markdown",
     "checksum": "d802b37ea9f502a442918f92c54350b4",
     "grade": false,
     "grade_id": "cell-1a7958c80af7c5f0",
     "locked": true,
     "schema_version": 3,
     "solution": false,
     "task": false
    }
   },
   "source": [
    "(a) Calculate continued fractions for the SymPy values of $\\pi$, $\\sqrt{2}$, $\\phi=(1+\\sqrt{5})/2$ and $22/7$ (as a Rational) with `n` set to 10. Call these, respectively, `pi_cf`, `sqrt2_cf`, `phi_cf` and `rat_cf`."
   ]
  },
  {
   "cell_type": "code",
   "execution_count": 56,
   "id": "dynamic-density",
   "metadata": {
    "deletable": false,
    "nbgrader": {
     "cell_type": "code",
     "checksum": "3409390133221ee6b733e3f0490687e2",
     "grade": false,
     "grade_id": "cell-1c236919c7c27450",
     "locked": false,
     "schema_version": 3,
     "solution": true,
     "task": false
    }
   },
   "outputs": [
    {
     "name": "stdout",
     "output_type": "stream",
     "text": [
      "[3, 7, 15, 1, 292, 1, 1, 1, 2, 1]\n",
      "[1, 2, 2, 2, 2, 2, 2, 2, 2, 2]\n",
      "[1, 1, 1, 1, 1, 1, 1, 1, 1, 1]\n",
      "[3, 7]\n"
     ]
    }
   ],
   "source": [
    "pi_cf = continued_fraction(sp.pi, 10)\n",
    "sqrt2_cf = continued_fraction(sp.sqrt(2), 10)\n",
    "phi_cf = continued_fraction((sp.Integer(1) + sp.sqrt(5)) / sp.Integer(2), 10)\n",
    "rat_cf = continued_fraction(sp.Rational(22,7), 10)\n",
    "\n",
    "print(pi_cf)\n",
    "print(sqrt2_cf)\n",
    "print(phi_cf)\n",
    "print(rat_cf)"
   ]
  },
  {
   "cell_type": "code",
   "execution_count": 57,
   "id": "accepting-weekly",
   "metadata": {
    "deletable": false,
    "editable": false,
    "nbgrader": {
     "cell_type": "code",
     "checksum": "1ac22c743ac8c0a60e0b41e90c8d44e9",
     "grade": true,
     "grade_id": "cell-1b35f93bb54360b5",
     "locked": true,
     "points": 4,
     "schema_version": 3,
     "solution": false,
     "task": false
    }
   },
   "outputs": [
    {
     "name": "stdout",
     "output_type": "stream",
     "text": [
      "The value of pi_cf is correct\n",
      "\n",
      "The value of sqrt2_cf is correct\n",
      "\n",
      "The value of phi_cf is correct\n",
      "\n",
      "The value of rat_cf is correct\n",
      "\n",
      "4 out of 4\n"
     ]
    },
    {
     "data": {
      "image/png": "[encoded data removed]",
      "text/latex": [
       "$\\displaystyle 4$"
      ],
      "text/plain": [
       "4"
      ]
     },
     "execution_count": 57,
     "metadata": {},
     "output_type": "execute_result"
    }
   ],
   "source": [
    "# 4 Marks\n",
    "# Do not try to delete this cell\n",
    "# Run this cell for grading\n",
    "_globals = globals()\n",
    "question2iia(_globals)"
   ]
  },
  {
   "cell_type": "markdown",
   "id": "convinced-burner",
   "metadata": {
    "deletable": false,
    "editable": false,
    "nbgrader": {
     "cell_type": "markdown",
     "checksum": "237095ec248af89a9de66c3d2588a8f3",
     "grade": false,
     "grade_id": "cell-d7e6b5c750b2a570",
     "locked": true,
     "schema_version": 3,
     "solution": false,
     "task": false
    }
   },
   "source": [
    "(b) Calculate continued fractions for the SymPy, NumPy and `math` values of $\\pi$, with `n` set to 50. Which of the following is true?\n",
    "\n",
    "<ol>\n",
    "    <li>All three values of $\\pi$ give the same continued fraction.</li>\n",
    "    <li>One of the three values of $\\pi$ gives a different continued fraction from the others, and this is the most reliable.</li>\n",
    "    <li>One of the three values of $\\pi$ gives a different continued fraction from the others, and this is the least reliable.</li>\n",
    "</ol>"
   ]
  },
  {
   "cell_type": "code",
   "execution_count": 79,
   "id": "behind-america",
   "metadata": {
    "deletable": false,
    "nbgrader": {
     "cell_type": "code",
     "checksum": "97cb1cbb0668a05054fcee0b22216fab",
     "grade": false,
     "grade_id": "cell-0b9c39fec595a7f3",
     "locked": false,
     "schema_version": 3,
     "solution": true,
     "task": false
    }
   },
   "outputs": [
    {
     "name": "stdout",
     "output_type": "stream",
     "text": [
      "3\n"
     ]
    }
   ],
   "source": [
    "q2iib_answer = 2\n",
    "\n",
    "\n",
    "x = [1, 2, 3]\n",
    "\n",
    "g = x[len(x) - 1]\n",
    "\n",
    "print(g)"
   ]
  },
  {
   "cell_type": "code",
   "execution_count": 59,
   "id": "sorted-deployment",
   "metadata": {
    "deletable": false,
    "editable": false,
    "nbgrader": {
     "cell_type": "code",
     "checksum": "060c9318aa36e37f5bb0c73d7a6ce718",
     "grade": true,
     "grade_id": "cell-a9212ce720886bce",
     "locked": true,
     "points": 1,
     "schema_version": 3,
     "solution": false,
     "task": false
    }
   },
   "outputs": [
    {
     "name": "stdout",
     "output_type": "stream",
     "text": [
      "test case passed!\n"
     ]
    }
   ],
   "source": [
    "# 1 Mark\n",
    "assert(q2iib_answer == question2iib())\n",
    "print('test case passed!')"
   ]
  },
  {
   "cell_type": "markdown",
   "id": "global-example",
   "metadata": {
    "deletable": false,
    "editable": false,
    "nbgrader": {
     "cell_type": "markdown",
     "checksum": "d2b276359e8483e804bdbc942dc6ac93",
     "grade": false,
     "grade_id": "cell-5ab41af688ebcc1b",
     "locked": true,
     "schema_version": 3,
     "solution": false,
     "task": false
    }
   },
   "source": [
    "(c) Write and test a function called `from_continued_fraction`, which takes as its single argument a list of positive ints `[a1, a2, a3,  ..., an]` and returns, as a SymPy rational, the value of \n",
    "\n",
    "$$x = a_1 + \\frac{1}{a_1+\\frac{1}{a_2+\\frac{1}{a_3+\\dots}}}$$\n",
    "\n",
    "up to $a_n$."
   ]
  },
  {
   "cell_type": "code",
   "execution_count": 45,
   "id": "interstate-equation",
   "metadata": {
    "deletable": false,
    "nbgrader": {
     "cell_type": "code",
     "checksum": "2872bc2b0e3141ee83dd297d3e62b136",
     "grade": false,
     "grade_id": "cell-416fbeb88a921ee4",
     "locked": false,
     "schema_version": 3,
     "solution": true,
     "task": false
    }
   },
   "outputs": [
    {
     "name": "stdout",
     "output_type": "stream",
     "text": [
      "0\n",
      "3.142857142857143\n"
     ]
    },
    {
     "data": {
      "image/png": "[encoded data removed]",
      "text/latex": [
       "$\\displaystyle 3.31818181818182$"
      ],
      "text/plain": [
       "3.3181818181818183"
      ]
     },
     "execution_count": 45,
     "metadata": {},
     "output_type": "execute_result"
    }
   ],
   "source": [
    "def from_continued_fraction(cf):\n",
    "    x = cf[len(cf) - 1]\n",
    "    for i in range(2, len(cf) + 1):\n",
    "        x = cf[len(cf) - i] + 1 / x\n",
    "        print(len(cf) - i)\n",
    "        print(x)\n",
    "    x = cf[0] + 1 / x\n",
    "    return x\n",
    "\n",
    "\n",
    "from_continued_fraction([3, 7])"
   ]
  },
  {
   "cell_type": "code",
   "execution_count": 46,
   "id": "delayed-affect",
   "metadata": {
    "deletable": false,
    "editable": false,
    "nbgrader": {
     "cell_type": "code",
     "checksum": "d6e3a1ca0532dd2576ab760c5e257724",
     "grade": true,
     "grade_id": "cell-28fb6cdd3c5afffb",
     "locked": true,
     "points": 5,
     "schema_version": 3,
     "solution": false,
     "task": false
    }
   },
   "outputs": [
    {
     "name": "stdout",
     "output_type": "stream",
     "text": [
      "8\n",
      "3.0\n",
      "7\n",
      "1.3333333333333333\n",
      "6\n",
      "1.75\n",
      "5\n",
      "1.5714285714285714\n",
      "4\n",
      "292.6363636363636\n",
      "3\n",
      "1.003417210313762\n",
      "2\n",
      "15.996594427244583\n",
      "1\n",
      "7.062513305850704\n",
      "0\n",
      "3.141592653591404\n",
      "from_continued_fraction([3, 7, 15, 1, 292, 1, 1, 1, 2, 1]) gives incorrect output\n",
      "\n",
      "8\n",
      "2.5\n",
      "7\n",
      "2.4\n",
      "6\n",
      "2.4166666666666665\n",
      "5\n",
      "2.413793103448276\n",
      "4\n",
      "2.414285714285714\n",
      "3\n",
      "2.4142011834319526\n",
      "2\n",
      "2.4142156862745097\n",
      "1\n",
      "2.414213197969543\n",
      "0\n",
      "1.4142136248948696\n",
      "from_continued_fraction([1, 2, 2, 2, 2, 2, 2, 2, 2, 2]) gives incorrect output\n",
      "\n",
      "8\n",
      "2.0\n",
      "7\n",
      "1.5\n",
      "6\n",
      "1.6666666666666665\n",
      "5\n",
      "1.6\n",
      "4\n",
      "1.625\n",
      "3\n",
      "1.6153846153846154\n",
      "2\n",
      "1.619047619047619\n",
      "1\n",
      "1.6176470588235294\n",
      "0\n",
      "1.6181818181818182\n",
      "from_continued_fraction([1, 1, 1, 1, 1, 1, 1, 1, 1, 1]) gives incorrect output\n",
      "\n",
      "0\n",
      "3.142857142857143\n",
      "from_continued_fraction([3, 7]) gives incorrect output\n",
      "\n",
      "This function does not seem to have a docstring\n",
      "\n"
     ]
    },
    {
     "ename": "AssertionError",
     "evalue": "Test failed overall!",
     "output_type": "error",
     "traceback": [
      "\u001b[1;31m---------------------------------------------------------------------------\u001b[0m",
      "\u001b[1;31mAssertionError\u001b[0m                            Traceback (most recent call last)",
      "\u001b[1;32m<ipython-input-46-c2039462bc1e>\u001b[0m in \u001b[0;36m<module>\u001b[1;34m\u001b[0m\n\u001b[0;32m      3\u001b[0m \u001b[1;31m# Run this cell for grading\u001b[0m\u001b[1;33m\u001b[0m\u001b[1;33m\u001b[0m\u001b[1;33m\u001b[0m\u001b[0m\n\u001b[0;32m      4\u001b[0m \u001b[0m_globals\u001b[0m \u001b[1;33m=\u001b[0m \u001b[0mglobals\u001b[0m\u001b[1;33m(\u001b[0m\u001b[1;33m)\u001b[0m\u001b[1;33m\u001b[0m\u001b[1;33m\u001b[0m\u001b[0m\n\u001b[1;32m----> 5\u001b[1;33m \u001b[0mquestion2iic\u001b[0m\u001b[1;33m(\u001b[0m\u001b[0m_globals\u001b[0m\u001b[1;33m)\u001b[0m\u001b[1;33m\u001b[0m\u001b[1;33m\u001b[0m\u001b[0m\n\u001b[0m",
      "\u001b[1;32m~\\OneDrive\\Documents\\University\\Mathematics\\MATH40006 - Introduction to Computation\\Jupyter Notebook\\Term 2\\Week 7\\autograder_term2week7.py\u001b[0m in \u001b[0;36mquestion2iic\u001b[1;34m(_globals)\u001b[0m\n\u001b[0;32m    295\u001b[0m         \u001b[1;32mreturn\u001b[0m \u001b[0mscore\u001b[0m\u001b[1;33m\u001b[0m\u001b[1;33m\u001b[0m\u001b[0m\n\u001b[0;32m    296\u001b[0m     \u001b[1;32melse\u001b[0m\u001b[1;33m:\u001b[0m\u001b[1;33m\u001b[0m\u001b[1;33m\u001b[0m\u001b[0m\n\u001b[1;32m--> 297\u001b[1;33m         \u001b[1;32mraise\u001b[0m \u001b[0mAssertionError\u001b[0m\u001b[1;33m(\u001b[0m\u001b[1;34m'Test failed overall!'\u001b[0m\u001b[1;33m)\u001b[0m\u001b[1;33m\u001b[0m\u001b[1;33m\u001b[0m\u001b[0m\n\u001b[0m\u001b[0;32m    298\u001b[0m \u001b[1;33m\u001b[0m\u001b[0m\n\u001b[0;32m    299\u001b[0m \u001b[1;32mdef\u001b[0m \u001b[0mquestion2iid\u001b[0m\u001b[1;33m(\u001b[0m\u001b[0m_globals\u001b[0m\u001b[1;33m)\u001b[0m\u001b[1;33m:\u001b[0m\u001b[1;33m\u001b[0m\u001b[1;33m\u001b[0m\u001b[0m\n",
      "\u001b[1;31mAssertionError\u001b[0m: Test failed overall!"
     ]
    }
   ],
   "source": [
    "# 5 Marks\n",
    "# Do not try to delete this cell\n",
    "# Run this cell for grading\n",
    "_globals = globals()\n",
    "question2iic(_globals)"
   ]
  },
  {
   "cell_type": "markdown",
   "id": "challenging-liberia",
   "metadata": {
    "deletable": false,
    "editable": false,
    "nbgrader": {
     "cell_type": "markdown",
     "checksum": "c23caac6c6d01f61c2cfc3b5d9ae63d8",
     "grade": false,
     "grade_id": "cell-ff53b0fb77d4d8c8",
     "locked": true,
     "schema_version": 3,
     "solution": false,
     "task": false
    }
   },
   "source": [
    "(d) Write and test a function called `rational_sequence`, which takes as its arguments a number $x$ and a positive int $n$, and returns a list of successive rational approximations to $x$ obtained by successive truncations of $x$'s continued fraction. \n",
    "\n",
    "As a test\n",
    "\n",
    "```python\n",
    "rational_sequence(sp.sqrt(2), 5)\n",
    "```\n",
    "\n",
    "should return `[1, 3/2, 7/5, 17/12, 41/29]`."
   ]
  },
  {
   "cell_type": "code",
   "execution_count": null,
   "id": "alert-black",
   "metadata": {
    "deletable": false,
    "nbgrader": {
     "cell_type": "code",
     "checksum": "180dfbccf0c778beec80491d590a2960",
     "grade": false,
     "grade_id": "cell-5c5f3f1391268a52",
     "locked": false,
     "schema_version": 3,
     "solution": true,
     "task": false
    }
   },
   "outputs": [],
   "source": [
    "def rational_sequence(x, n):\n",
    "    # YOUR CODE HERE\n",
    "    raise NotImplementedError()"
   ]
  },
  {
   "cell_type": "code",
   "execution_count": null,
   "id": "professional-speech",
   "metadata": {
    "deletable": false,
    "editable": false,
    "nbgrader": {
     "cell_type": "code",
     "checksum": "7800e204d246c5f54258be7bfbd0c327",
     "grade": true,
     "grade_id": "cell-1078a527f92575d0",
     "locked": true,
     "points": 5,
     "schema_version": 3,
     "solution": false,
     "task": false
    }
   },
   "outputs": [],
   "source": [
    "# 5 Marks\n",
    "# Do not try to delete this cell\n",
    "# Run this cell for grading\n",
    "_globals = globals()\n",
    "question2iid(_globals)"
   ]
  },
  {
   "cell_type": "markdown",
   "id": "expired-purchase",
   "metadata": {
    "deletable": false,
    "editable": false,
    "nbgrader": {
     "cell_type": "markdown",
     "checksum": "520157330cba23aaf71d4d88c93f8f42",
     "grade": false,
     "grade_id": "cell-461fe39d7a80fbd6",
     "locked": true,
     "schema_version": 3,
     "solution": false,
     "task": false
    }
   },
   "source": [
    "(e) Plot, on the same pair of axes, the convergence of the rational sequences for the SymPy values of $\\pi$, $\\sqrt{2}$ and $\\phi = (1+\\sqrt{5})/2$, each with $n=10$. Autograding won't help here!"
   ]
  },
  {
   "cell_type": "code",
   "execution_count": null,
   "id": "traditional-preliminary",
   "metadata": {
    "deletable": false,
    "nbgrader": {
     "cell_type": "code",
     "checksum": "0cbd8b71441700eec73f81296b88a793",
     "grade": false,
     "grade_id": "cell-cfeea56da0c4037f",
     "locked": false,
     "schema_version": 3,
     "solution": true,
     "task": false
    }
   },
   "outputs": [],
   "source": [
    "# YOUR CODE HERE\n",
    "raise NotImplementedError()"
   ]
  },
  {
   "cell_type": "markdown",
   "id": "lonely-toner",
   "metadata": {
    "deletable": false,
    "editable": false,
    "nbgrader": {
     "cell_type": "markdown",
     "checksum": "c01deb70fc662369afa78b1cf6f4bf0e",
     "grade": false,
     "grade_id": "cell-3a61f2e9436de4be",
     "locked": true,
     "schema_version": 3,
     "solution": false,
     "task": false
    }
   },
   "source": [
    "## Question 3\n",
    "\n",
    "(a) Set up `x` as a SymPy symbol."
   ]
  },
  {
   "cell_type": "code",
   "execution_count": 49,
   "id": "sophisticated-bernard",
   "metadata": {
    "deletable": false,
    "nbgrader": {
     "cell_type": "code",
     "checksum": "0e8679ee2f4b909559ae60335dae4407",
     "grade": false,
     "grade_id": "cell-d26d2a7d86dbf401",
     "locked": false,
     "schema_version": 3,
     "solution": true,
     "task": false
    }
   },
   "outputs": [],
   "source": [
    "x = sp.Symbol('x')"
   ]
  },
  {
   "cell_type": "code",
   "execution_count": 50,
   "id": "damaged-study",
   "metadata": {
    "deletable": false,
    "editable": false,
    "nbgrader": {
     "cell_type": "code",
     "checksum": "3872a0c37fec48aaafef3ac302c961fd",
     "grade": true,
     "grade_id": "cell-ddd3903fba829355",
     "locked": true,
     "points": 1,
     "schema_version": 3,
     "solution": false,
     "task": false
    }
   },
   "outputs": [
    {
     "name": "stdout",
     "output_type": "stream",
     "text": [
      "The symbol x is defined correctly\n",
      "Test passed!\n"
     ]
    },
    {
     "data": {
      "image/png": "[encoded data removed]",
      "text/latex": [
       "$\\displaystyle 1$"
      ],
      "text/plain": [
       "1"
      ]
     },
     "execution_count": 50,
     "metadata": {},
     "output_type": "execute_result"
    }
   ],
   "source": [
    "# 1 Mark\n",
    "# Do not try to delete this cell\n",
    "# Run this cell for grading\n",
    "_globals = globals()\n",
    "question3a(_globals)"
   ]
  },
  {
   "cell_type": "markdown",
   "id": "fitting-value",
   "metadata": {
    "deletable": false,
    "editable": false,
    "nbgrader": {
     "cell_type": "markdown",
     "checksum": "269cb06322e5afc2e872930691d61591",
     "grade": false,
     "grade_id": "cell-1c1515a2f10aa955",
     "locked": true,
     "schema_version": 3,
     "solution": false,
     "task": false
    }
   },
   "source": [
    "(b) Define `y` as the symbolic polynomial expression $x^4-8 x^3+26 x^2-40 x+21$."
   ]
  },
  {
   "cell_type": "code",
   "execution_count": 51,
   "id": "weighted-source",
   "metadata": {
    "deletable": false,
    "nbgrader": {
     "cell_type": "code",
     "checksum": "aba900e7a9e99783566cc371041b7d9f",
     "grade": false,
     "grade_id": "cell-48fc6f85ba0fdd3d",
     "locked": false,
     "schema_version": 3,
     "solution": true,
     "task": false
    }
   },
   "outputs": [
    {
     "data": {
      "image/png": "[encoded data removed]",
      "text/latex": [
       "$\\displaystyle x^{4} - 8 x^{3} + 26 x^{2} - 40 x + 21$"
      ],
      "text/plain": [
       " 4      3       2            \n",
       "x  - 8⋅x  + 26⋅x  - 40⋅x + 21"
      ]
     },
     "execution_count": 51,
     "metadata": {},
     "output_type": "execute_result"
    }
   ],
   "source": [
    "y = x ** 4 - 8 * x ** 3 + 26 * x ** 2 - 40 * x + 21\n",
    "\n",
    "y"
   ]
  },
  {
   "cell_type": "code",
   "execution_count": 52,
   "id": "quantitative-wright",
   "metadata": {
    "deletable": false,
    "editable": false,
    "nbgrader": {
     "cell_type": "code",
     "checksum": "73f6c21939fa594a6364c45328fef6ac",
     "grade": true,
     "grade_id": "cell-47e77a00fdfd379f",
     "locked": true,
     "points": 1,
     "schema_version": 3,
     "solution": false,
     "task": false
    }
   },
   "outputs": [
    {
     "name": "stdout",
     "output_type": "stream",
     "text": [
      "The symbol y is defined correctly\n",
      "Test passed!\n"
     ]
    },
    {
     "data": {
      "image/png": "[encoded data removed]",
      "text/latex": [
       "$\\displaystyle 1$"
      ],
      "text/plain": [
       "1"
      ]
     },
     "execution_count": 52,
     "metadata": {},
     "output_type": "execute_result"
    }
   ],
   "source": [
    "# 1 Mark\n",
    "# Do not try to delete this cell\n",
    "# Run this cell for grading\n",
    "_globals = globals()\n",
    "question3b(_globals)"
   ]
  },
  {
   "cell_type": "markdown",
   "id": "blocked-kuwait",
   "metadata": {
    "deletable": false,
    "editable": false,
    "nbgrader": {
     "cell_type": "markdown",
     "checksum": "1412c9eca78eb345bc52bb792bf323a6",
     "grade": false,
     "grade_id": "cell-638bd70f968f1b54",
     "locked": true,
     "schema_version": 3,
     "solution": false,
     "task": false
    }
   },
   "source": [
    "(c) Use the `plot` function from `sympy.plotting` to plot `y` for values of `x` between $-1$ and $5$. Autograding won't help here!"
   ]
  },
  {
   "cell_type": "code",
   "execution_count": 79,
   "id": "considerable-penalty",
   "metadata": {
    "deletable": false,
    "nbgrader": {
     "cell_type": "code",
     "checksum": "5d9d3f646fa9e2f4fc0ee4352b94f647",
     "grade": false,
     "grade_id": "cell-1ca2aac4b9b0effc",
     "locked": false,
     "schema_version": 3,
     "solution": true,
     "task": false
    }
   },
   "outputs": [
    {
     "data": {
      "image/png": "[encoded data removed]",
      "text/plain": [
       "<Figure size 432x288 with 1 Axes>"
      ]
     },
     "metadata": {
      "needs_background": "light"
     },
     "output_type": "display_data"
    },
    {
     "data": {
      "text/plain": [
       "<sympy.plotting.plot.Plot at 0x25270b05bb0>"
      ]
     },
     "execution_count": 79,
     "metadata": {},
     "output_type": "execute_result"
    }
   ],
   "source": [
    "splt.plot(y, xlim = [-1, 5], ylim = [-10, 20])"
   ]
  },
  {
   "cell_type": "markdown",
   "id": "floral-translator",
   "metadata": {
    "deletable": false,
    "editable": false,
    "nbgrader": {
     "cell_type": "markdown",
     "checksum": "0b42a997138ce94f1d0dfad72e774d22",
     "grade": false,
     "grade_id": "cell-214d0345f501c936",
     "locked": true,
     "schema_version": 3,
     "solution": false,
     "task": false
    }
   },
   "source": [
    "(d) Using `solve`, find the zeros of `y` as SymPy quantities, as `y_zeros`."
   ]
  },
  {
   "cell_type": "code",
   "execution_count": 56,
   "id": "refined-papua",
   "metadata": {
    "deletable": false,
    "nbgrader": {
     "cell_type": "code",
     "checksum": "9cf6b17ed603df6f8c07e3188814fa79",
     "grade": false,
     "grade_id": "cell-1c2b3dd4b6821228",
     "locked": false,
     "schema_version": 3,
     "solution": true,
     "task": false
    }
   },
   "outputs": [
    {
     "data": {
      "image/png": "[encoded data removed]",
      "text/latex": [
       "$\\displaystyle \\left[ 1, \\  3, \\  2 - \\sqrt{3} i, \\  2 + \\sqrt{3} i\\right]$"
      ],
      "text/plain": [
       "[1, 3, 2 - √3⋅ⅈ, 2 + √3⋅ⅈ]"
      ]
     },
     "execution_count": 56,
     "metadata": {},
     "output_type": "execute_result"
    }
   ],
   "source": [
    "y_zeros = sp.solve(y)\n",
    "\n",
    "y_zeros"
   ]
  },
  {
   "cell_type": "code",
   "execution_count": 57,
   "id": "employed-banks",
   "metadata": {
    "deletable": false,
    "editable": false,
    "nbgrader": {
     "cell_type": "code",
     "checksum": "c2f7f700b5547c210d3d199998efa2fa",
     "grade": true,
     "grade_id": "cell-117dc8f5c6abb617",
     "locked": true,
     "points": 0,
     "schema_version": 3,
     "solution": false,
     "task": false
    }
   },
   "outputs": [
    {
     "name": "stdout",
     "output_type": "stream",
     "text": [
      "The list y_zeros is defined correctly\n",
      "Test passed!\n"
     ]
    },
    {
     "data": {
      "image/png": "[encoded data removed]",
      "text/latex": [
       "$\\displaystyle 1$"
      ],
      "text/plain": [
       "1"
      ]
     },
     "execution_count": 57,
     "metadata": {},
     "output_type": "execute_result"
    }
   ],
   "source": [
    "# 1 Mark\n",
    "# Do not try to delete this cell\n",
    "# Run this cell for grading\n",
    "_globals = globals()\n",
    "question3d(_globals)"
   ]
  },
  {
   "cell_type": "markdown",
   "id": "large-deputy",
   "metadata": {
    "deletable": false,
    "editable": false,
    "nbgrader": {
     "cell_type": "markdown",
     "checksum": "e26fbc16656233e8c339f83013927879",
     "grade": false,
     "grade_id": "cell-c7d54f265e090d71",
     "locked": true,
     "schema_version": 3,
     "solution": false,
     "task": false
    }
   },
   "source": [
    "(e) Using a filter comprehension, find the <em>real</em> zeros of `y`, as `y_zeros_real`."
   ]
  },
  {
   "cell_type": "code",
   "execution_count": 73,
   "id": "centered-tournament",
   "metadata": {
    "deletable": false,
    "nbgrader": {
     "cell_type": "code",
     "checksum": "593bb41e738f1adb447c5d27205be49b",
     "grade": false,
     "grade_id": "cell-26860771b53c51d7",
     "locked": false,
     "schema_version": 3,
     "solution": true,
     "task": false
    }
   },
   "outputs": [
    {
     "data": {
      "image/png": "[encoded data removed]",
      "text/latex": [
       "$\\displaystyle \\left[ 1, \\  3\\right]$"
      ],
      "text/plain": [
       "[1, 3]"
      ]
     },
     "execution_count": 73,
     "metadata": {},
     "output_type": "execute_result"
    }
   ],
   "source": [
    "y_zeros_real = [r for r in y_zeros if sp.re(r) == r]\n",
    "\n",
    "y_zeros_real"
   ]
  },
  {
   "cell_type": "code",
   "execution_count": 74,
   "id": "enabling-minister",
   "metadata": {
    "deletable": false,
    "editable": false,
    "nbgrader": {
     "cell_type": "code",
     "checksum": "059f736751c79193aaef25064b765e9d",
     "grade": true,
     "grade_id": "cell-081d5faaf8f4a044",
     "locked": true,
     "points": 1,
     "schema_version": 3,
     "solution": false,
     "task": false
    }
   },
   "outputs": [
    {
     "name": "stdout",
     "output_type": "stream",
     "text": [
      "The list y_zeros_real is defined correctly\n",
      "Test passed!\n"
     ]
    },
    {
     "data": {
      "image/png": "[encoded data removed]",
      "text/latex": [
       "$\\displaystyle 1$"
      ],
      "text/plain": [
       "1"
      ]
     },
     "execution_count": 74,
     "metadata": {},
     "output_type": "execute_result"
    }
   ],
   "source": [
    "# 1 Mark\n",
    "# Do not try to delete this cell\n",
    "# Run this cell for grading\n",
    "_globals = globals()\n",
    "question3e(_globals)"
   ]
  },
  {
   "cell_type": "markdown",
   "id": "ongoing-sacrifice",
   "metadata": {
    "deletable": false,
    "editable": false,
    "nbgrader": {
     "cell_type": "markdown",
     "checksum": "488c954ba506d11c3c934097573d17d4",
     "grade": false,
     "grade_id": "cell-d0af01e16d52200e",
     "locked": true,
     "schema_version": 3,
     "solution": false,
     "task": false
    }
   },
   "source": [
    "(f) Using `lambdify`, create and test a function called `yfunc`, compatible with NumPy arrays, that maps `x` to $x^4-8 x^3+26 x^2-40 x+21$."
   ]
  },
  {
   "cell_type": "code",
   "execution_count": 75,
   "id": "collect-smart",
   "metadata": {
    "deletable": false,
    "nbgrader": {
     "cell_type": "code",
     "checksum": "559e83ea9fabb0120d5f74ae0987eff9",
     "grade": false,
     "grade_id": "cell-9d7ea7bb4d5afca6",
     "locked": false,
     "schema_version": 3,
     "solution": true,
     "task": false
    }
   },
   "outputs": [
    {
     "data": {
      "text/plain": [
       "<function __main__.<lambda>(x)>"
      ]
     },
     "execution_count": 75,
     "metadata": {},
     "output_type": "execute_result"
    }
   ],
   "source": [
    "yfunc = lambda x: x ** 4 - 8 * x ** 3 + 26 * x ** 2 - 40 * x + 21\n",
    "\n",
    "yfunc"
   ]
  },
  {
   "cell_type": "code",
   "execution_count": 76,
   "id": "sophisticated-daughter",
   "metadata": {
    "deletable": false,
    "editable": false,
    "nbgrader": {
     "cell_type": "code",
     "checksum": "69c3b6cdb17737703f69e4c4d69350a7",
     "grade": true,
     "grade_id": "cell-dc4e4daa4fa507d4",
     "locked": true,
     "points": 2,
     "schema_version": 3,
     "solution": false,
     "task": false
    }
   },
   "outputs": [
    {
     "name": "stdout",
     "output_type": "stream",
     "text": [
      "The function yfunc seems to work on a typical float\n",
      "The function yfunc seems to work on a typical array of floats\n",
      "2 out of 2\n"
     ]
    },
    {
     "data": {
      "image/png": "[encoded data removed]",
      "text/latex": [
       "$\\displaystyle 2$"
      ],
      "text/plain": [
       "2"
      ]
     },
     "execution_count": 76,
     "metadata": {},
     "output_type": "execute_result"
    }
   ],
   "source": [
    "# 2 Marks\n",
    "# Do not try to delete this cell\n",
    "# Run this cell for grading\n",
    "_globals = globals()\n",
    "question3f(_globals)"
   ]
  },
  {
   "cell_type": "markdown",
   "id": "little-litigation",
   "metadata": {
    "deletable": false,
    "editable": false,
    "nbgrader": {
     "cell_type": "markdown",
     "checksum": "9da162de04f2e40e715b04754df84b0f",
     "grade": false,
     "grade_id": "cell-28d47df7dd8e06b4",
     "locked": true,
     "schema_version": 3,
     "solution": false,
     "task": false
    }
   },
   "source": [
    "(g) Hence, create a plot of `y` against `x`, for values of `x` between $-1$ and $5$, that uses only the `plot` function from `matplotlib.pyplot`. Autograding won't help here!"
   ]
  },
  {
   "cell_type": "code",
   "execution_count": 77,
   "id": "flying-ghana",
   "metadata": {
    "deletable": false,
    "nbgrader": {
     "cell_type": "code",
     "checksum": "846a97b31ef51481f91563f2108f929b",
     "grade": false,
     "grade_id": "cell-4896b9b9d19945a8",
     "locked": false,
     "schema_version": 3,
     "solution": true,
     "task": false
    }
   },
   "outputs": [
    {
     "data": {
      "text/plain": [
       "[<matplotlib.lines.Line2D at 0x25270a83880>]"
      ]
     },
     "execution_count": 77,
     "metadata": {},
     "output_type": "execute_result"
    },
    {
     "data": {
      "image/png": "[encoded data removed]",
      "text/plain": [
       "<Figure size 432x288 with 1 Axes>"
      ]
     },
     "metadata": {
      "needs_background": "light"
     },
     "output_type": "display_data"
    }
   ],
   "source": [
    "plt.plot(np.linspace(-1, 5, 600), [yfunc(r) for r in np.linspace(-1, 5, 600)])"
   ]
  },
  {
   "cell_type": "markdown",
   "id": "medieval-hamilton",
   "metadata": {
    "deletable": false,
    "editable": false,
    "nbgrader": {
     "cell_type": "markdown",
     "checksum": "d1e114c598199c835401228d361c0e5c",
     "grade": false,
     "grade_id": "cell-eed3dac69399ccb4",
     "locked": true,
     "schema_version": 3,
     "solution": false,
     "task": false
    }
   },
   "source": [
    "(h) Create a plot of `y` showing the real zeros as big red dots. Include lines for the horizontal and vertical axes. Autograding won't help here!"
   ]
  },
  {
   "cell_type": "code",
   "execution_count": 84,
   "id": "designing-cornwall",
   "metadata": {
    "deletable": false,
    "nbgrader": {
     "cell_type": "code",
     "checksum": "2e71e6965deff05b7acbd37dd67558a1",
     "grade": false,
     "grade_id": "cell-6d7e0c37b16ef8d1",
     "locked": false,
     "schema_version": 3,
     "solution": true,
     "task": false
    }
   },
   "outputs": [
    {
     "data": {
      "text/plain": [
       "<matplotlib.collections.PathCollection at 0x25270e8edc0>"
      ]
     },
     "execution_count": 84,
     "metadata": {},
     "output_type": "execute_result"
    },
    {
     "data": {
      "image/png": "[encoded data removed]",
      "text/plain": [
       "<Figure size 432x288 with 1 Axes>"
      ]
     },
     "metadata": {
      "needs_background": "light"
     },
     "output_type": "display_data"
    }
   ],
   "source": [
    "plt.plot(np.linspace(-1, 5, 600), [yfunc(r) for r in np.linspace(-1, 5, 600)])\n",
    "plt.scatter(1, 0, color = 'red')\n",
    "plt.scatter(3, 0, color = 'red')"
   ]
  },
  {
   "cell_type": "markdown",
   "id": "centered-mineral",
   "metadata": {
    "deletable": false,
    "editable": false,
    "nbgrader": {
     "cell_type": "markdown",
     "checksum": "c884dd481f43ebd24667494fb61a57af",
     "grade": false,
     "grade_id": "cell-8974312a513fa5da",
     "locked": true,
     "schema_version": 3,
     "solution": false,
     "task": false
    }
   },
   "source": [
    "(j) Using `diff` and `solve`, find, as a Python list, the $x$-coordinates `x_stat` of the stationary points of `y`, and filter to find the ones that are real, `x_stat_real`. Finally, find, as a Python list, the associated $y$-coordinates, `y_stat_real`."
   ]
  },
  {
   "cell_type": "code",
   "execution_count": 92,
   "id": "operating-university",
   "metadata": {
    "deletable": false,
    "nbgrader": {
     "cell_type": "code",
     "checksum": "4d44fa7ae86cf11f373d5ca35545bfce",
     "grade": false,
     "grade_id": "cell-0da9684fd0e8fe24",
     "locked": false,
     "schema_version": 3,
     "solution": true,
     "task": false
    }
   },
   "outputs": [
    {
     "name": "stdout",
     "output_type": "stream",
     "text": [
      "([2, 2 - I, 2 + I], [2], -3)\n"
     ]
    }
   ],
   "source": [
    "x_stat = sp.solve(sp.diff(y))\n",
    "\n",
    "x_stat_real = [r for r in x_stat if sp.re(r) == r]\n",
    "y_stat_real = yfunc(2)\n",
    "\n",
    "print((x_stat, x_stat_real, y_stat_real))"
   ]
  },
  {
   "cell_type": "code",
   "execution_count": 93,
   "id": "forty-means",
   "metadata": {
    "deletable": false,
    "editable": false,
    "nbgrader": {
     "cell_type": "code",
     "checksum": "0114ee4b87b3a608d4163266e5128ed4",
     "grade": true,
     "grade_id": "cell-6f2019e2136270a5",
     "locked": true,
     "points": 3,
     "schema_version": 3,
     "solution": false,
     "task": false
    }
   },
   "outputs": [
    {
     "name": "stdout",
     "output_type": "stream",
     "text": [
      "The list x_stat is correct\n",
      "The list x_stat_real is correct\n",
      "The list y_stat_real is not correct\n",
      "2 out of 3\n"
     ]
    },
    {
     "data": {
      "image/png": "[encoded data removed]",
      "text/latex": [
       "$\\displaystyle 2$"
      ],
      "text/plain": [
       "2"
      ]
     },
     "execution_count": 93,
     "metadata": {},
     "output_type": "execute_result"
    }
   ],
   "source": [
    "# 3 Marks\n",
    "# Do not try to delete this cell\n",
    "# Run this cell for grading\n",
    "_globals = globals()\n",
    "question3j(_globals)"
   ]
  },
  {
   "cell_type": "markdown",
   "id": "loaded-spectacular",
   "metadata": {
    "deletable": false,
    "editable": false,
    "nbgrader": {
     "cell_type": "markdown",
     "checksum": "cec669e6d464c8378ef58cca663aca79",
     "grade": false,
     "grade_id": "cell-e3e19970fff91c25",
     "locked": true,
     "schema_version": 3,
     "solution": false,
     "task": false
    }
   },
   "source": [
    "(k) Create a plot of `y` showing the real stationary points as big red dots. Include lines for the horizontal and vertical axes. Autograding won't help here!"
   ]
  },
  {
   "cell_type": "code",
   "execution_count": 100,
   "id": "western-channel",
   "metadata": {
    "deletable": false,
    "nbgrader": {
     "cell_type": "code",
     "checksum": "d183fd655cb1dfac23eb9cf2185410b6",
     "grade": false,
     "grade_id": "cell-440f910b7170e401",
     "locked": false,
     "schema_version": 3,
     "solution": true,
     "task": false
    }
   },
   "outputs": [
    {
     "data": {
      "text/plain": [
       "<matplotlib.collections.PathCollection at 0x2527104adc0>"
      ]
     },
     "execution_count": 100,
     "metadata": {},
     "output_type": "execute_result"
    },
    {
     "data": {
      "image/png": "[encoded data removed]",
      "text/plain": [
       "<Figure size 432x288 with 1 Axes>"
      ]
     },
     "metadata": {
      "needs_background": "light"
     },
     "output_type": "display_data"
    }
   ],
   "source": [
    "plt.plot(np.linspace(-1, 5, 600), [yfunc(r) for r in np.linspace(-1, 5, 600)])\n",
    "plt.scatter(2, -3, color = 'red')"
   ]
  },
  {
   "cell_type": "markdown",
   "id": "compact-characteristic",
   "metadata": {
    "deletable": false,
    "editable": false,
    "nbgrader": {
     "cell_type": "markdown",
     "checksum": "f82dbc8a8f7763f1326e80af30c64445",
     "grade": false,
     "grade_id": "cell-8bef80a0892d1b89",
     "locked": true,
     "schema_version": 3,
     "solution": false,
     "task": false
    }
   },
   "source": [
    "(l) Write and test a function called `plot_with_sps` that takes as its arguments a symbolic expression `y` representing a function of `x`, and a tuple `xrange` containing a symbolic variable `x` and maximum and minimum values for plotting. \n",
    "\n",
    "Your function should return no output, but should instead create a graphic in which a plot of `y` against `x` is shown, together with the real stationary points as big red dots. For example\n",
    "\n",
    "```python\n",
    "plot_with_sps(x**4-8*x**3+26*x**2-40*x+21, (x, -1, 5))\n",
    "```\n",
    "\n",
    "should generate the graphic from part (k)."
   ]
  },
  {
   "cell_type": "code",
   "execution_count": null,
   "id": "opening-creature",
   "metadata": {
    "deletable": false,
    "nbgrader": {
     "cell_type": "code",
     "checksum": "0f20fb76dea95838ddb782ab9138ade2",
     "grade": false,
     "grade_id": "cell-42de3b080fa8deb7",
     "locked": false,
     "schema_version": 3,
     "solution": true,
     "task": false
    }
   },
   "outputs": [],
   "source": [
    "def plot_with_sps(y, xrange):\n",
    "    xrange = \n",
    "    raise NotImplementedError()"
   ]
  },
  {
   "cell_type": "markdown",
   "id": "communist-acceptance",
   "metadata": {
    "deletable": false,
    "editable": false,
    "nbgrader": {
     "cell_type": "markdown",
     "checksum": "082137428ce5de1b5948063a31df3cb5",
     "grade": false,
     "grade_id": "cell-7a00bae2cd201a9b",
     "locked": true,
     "schema_version": 3,
     "solution": false,
     "task": false
    }
   },
   "source": [
    "## Question 4\n",
    "\n",
    "(a) Write a function called `newton_sympy` which takes as its arguments\n",
    "\n",
    "<ul>\n",
    "    <li>a <b>symbolic expression</b> <code>expr</code>;</li>\n",
    "    <li>a <b>symbolic variable</b> <code>var</code>;</li>\n",
    "    <li>a starting value, <code>x0</code>;</li>\n",
    "    <li>a number of iterations, <code>niterate</code>;</li>\n",
    "    <li>an keyword-only argument, <code>method</code>, whose default value is the string <code>'symbolic'</code>.</li>\n",
    "</ul>\n",
    "\n",
    "It should then:\n",
    "\n",
    "<ul>\n",
    "    <li>differentiate <code>expr</code> symbolically with respect to <code>var</code>, and hence derive, in <code>var</code>, the function <code>newt_expr</code> that must be iterated in order to solve <code>expr == 0</code> using Newton's method;</li>\n",
    "    <li>iterate the function specified by <code>newt_expr</code> a total of <code>niterate</code> times, returning the final iterate.</li>\n",
    "</ul>\n",
    "\n",
    "Exactly what happens during the iteration will need to be considered quite carefully. \n",
    "\n",
    "<ul>\n",
    "    <li>If <code>method</code> is set to <code>'symbolic'</code>, its default value, then each new iterate should simply be obtained by substituting the previous one into <code>newt_expr</code> using <code>subs</code>;</li>\n",
    "    <li>If <code>method</code> is set to <code>'simplify'</code>, then each new iterate should be obtained by substituting the previous one into <code>newt_expr</code> using <code>subs</code>, and then simplifying the resulting expression;</li>\n",
    "    <li>If <code>method</code> is set to <code>'float'</code>, then each new iterate should be obtained by substituting the previous one into <code>newt_expr</code> using <code>subs</code>, and then casting the resulting expression as a core Python float;</li>\n",
    "    <li>If <code>method</code> is set to <code>'complex'</code>, then each new iterate should be obtained by substituting the previous one into <code>newt_expr</code> using <code>subs</code>, and then casting the resulting expression as a core Python complex;</li>\n",
    "    <li>If <code>method</code> is set to <code>'lambdify'</code>, then <code>subs</code> should not be used at all; instead, a function <code>newt_expr_func</code> should be created using <code>lambdify</code>, and each iterate obtained by evaluating this function on the previous iterate.</li>\n",
    "</ul>"
   ]
  },
  {
   "cell_type": "code",
   "execution_count": 19,
   "id": "certified-lemon",
   "metadata": {
    "deletable": false,
    "nbgrader": {
     "cell_type": "code",
     "checksum": "a020a1c168f7328121e492c34a2586e6",
     "grade": false,
     "grade_id": "cell-ba7b053b47667219",
     "locked": false,
     "schema_version": 3,
     "solution": true,
     "task": false
    }
   },
   "outputs": [],
   "source": [
    "def newton_sympy(expr, var, x0, niterate, *, method='symbolic'):\n",
    "    \n",
    "    import sympy as sp\n",
    "    \n",
    "    der_expr = sp.diff(expr, var)\n",
    "    \n",
    "    newt_expr = var - expr / der_expr\n",
    "    \n",
    "    x =  x0\n",
    "    \n",
    "    if method == 'lamdify':\n",
    "        newt_expr_func = sp.lambdify(var, newt_expr, 'numpy')\n",
    "        \n",
    "        for i in range(niterate):\n",
    "            x = newt_expr_func(x)\n",
    "            \n",
    "        return x\n",
    "    \n",
    "    else:\n",
    "        for i in range(niterate):\n",
    "            x = newt_expr.subs(var, x)\n",
    "        \n",
    "        if method == 'symbolic':\n",
    "            return x\n",
    "    \n",
    "        if method == 'simplify':\n",
    "            return sp.simplify(x)\n",
    "    \n",
    "        if method == 'float':\n",
    "            return float(x)\n",
    "    \n",
    "        if method == 'complex':\n",
    "            return complex(x)"
   ]
  },
  {
   "cell_type": "code",
   "execution_count": 20,
   "id": "alpha-finder",
   "metadata": {
    "deletable": false,
    "editable": false,
    "nbgrader": {
     "cell_type": "code",
     "checksum": "bbe36a89de3e2b976174d433b7440eb7",
     "grade": true,
     "grade_id": "cell-585d34f45ccf6d50",
     "locked": true,
     "points": 6,
     "schema_version": 3,
     "solution": false,
     "task": false
    }
   },
   "outputs": [
    {
     "name": "stdout",
     "output_type": "stream",
     "text": [
      "newton_sympy seems to work with method set to float\n",
      "\n",
      "newton_sympy seems to work with the default method, symbolic\n",
      "\n",
      "newton_sympy seems to work with method set to complex\n",
      "\n",
      "newton_sympy does not seem to work with method set to lambdify\n",
      "\n",
      "newton_sympy seems to work with method set to simplify\n",
      "\n",
      "This function does not seem to have a docstring\n",
      "\n",
      "4 out of 6\n"
     ]
    },
    {
     "data": {
      "image/png": "[encoded data removed]",
      "text/latex": [
       "$\\displaystyle 4$"
      ],
      "text/plain": [
       "4"
      ]
     },
     "execution_count": 20,
     "metadata": {},
     "output_type": "execute_result"
    }
   ],
   "source": [
    "# 6 Marks\n",
    "# Do not try to delete this cell\n",
    "# Run this cell for grading\n",
    "_globals = globals()\n",
    "question4a(_globals)"
   ]
  },
  {
   "cell_type": "markdown",
   "id": "ancient-supplier",
   "metadata": {
    "deletable": false,
    "editable": false,
    "nbgrader": {
     "cell_type": "markdown",
     "checksum": "a4a565f26a5e1e9ddc2550927452d78c",
     "grade": false,
     "grade_id": "cell-72b340764afa9c8a",
     "locked": true,
     "schema_version": 3,
     "solution": false,
     "task": false
    }
   },
   "source": [
    "(b) Use your `newton_sympy` function, with 5 iterations starting at the int 1 and the default `method` setting, to find a good rational approximation `sqrt2_frac` to $\\sqrt{2}$."
   ]
  },
  {
   "cell_type": "code",
   "execution_count": null,
   "id": "indie-paint",
   "metadata": {
    "deletable": false,
    "nbgrader": {
     "cell_type": "code",
     "checksum": "f90f944cf9a30399e1406c204d6a5cdd",
     "grade": false,
     "grade_id": "cell-f8dfa184fc5316dd",
     "locked": false,
     "schema_version": 3,
     "solution": true,
     "task": false
    }
   },
   "outputs": [],
   "source": [
    "# YOUR CODE HERE\n",
    "raise NotImplementedError()\n",
    "\n",
    "print(sqrt2_frac)\n",
    "print(float(sqrt2_frac))"
   ]
  },
  {
   "cell_type": "code",
   "execution_count": null,
   "id": "composed-friday",
   "metadata": {
    "deletable": false,
    "editable": false,
    "nbgrader": {
     "cell_type": "code",
     "checksum": "e382aa55efc507adbb57ce56efe87199",
     "grade": true,
     "grade_id": "cell-15dc9f36d29e3131",
     "locked": true,
     "points": 1,
     "schema_version": 3,
     "solution": false,
     "task": false
    }
   },
   "outputs": [],
   "source": [
    "# 1 Mark\n",
    "# Do not try to delete this cell\n",
    "# Run this cell for grading\n",
    "_globals = globals()\n",
    "question4b(_globals)"
   ]
  },
  {
   "cell_type": "markdown",
   "id": "wanted-plaintiff",
   "metadata": {
    "deletable": false,
    "editable": false,
    "nbgrader": {
     "cell_type": "markdown",
     "checksum": "16fdb2d85b806364bec6a416d5c69f86",
     "grade": false,
     "grade_id": "cell-e74b5b536557c7e5",
     "locked": true,
     "schema_version": 3,
     "solution": false,
     "task": false
    }
   },
   "source": [
    "(c) Use your `newton_sympy` function with `method` set to `float` or `complex` as appropriate, to find the roots of $z^3-1=0$ associated with the starting values $2.0$, $-1+i$ and $-1-i$; use 20 iterations in each case. Call them, respectively, `root0`, `root1` and `root2`."
   ]
  },
  {
   "cell_type": "code",
   "execution_count": null,
   "id": "liberal-eagle",
   "metadata": {
    "deletable": false,
    "nbgrader": {
     "cell_type": "code",
     "checksum": "74a4a7882f7d6a0b8547a9b6d2878679",
     "grade": false,
     "grade_id": "cell-73995952add18d91",
     "locked": false,
     "schema_version": 3,
     "solution": true,
     "task": false
    }
   },
   "outputs": [],
   "source": [
    "# YOUR CODE HERE\n",
    "raise NotImplementedError()\n",
    "\n",
    "print(root0)\n",
    "print(root1)\n",
    "print(root2)"
   ]
  },
  {
   "cell_type": "code",
   "execution_count": null,
   "id": "lined-reggae",
   "metadata": {
    "deletable": false,
    "editable": false,
    "nbgrader": {
     "cell_type": "code",
     "checksum": "c6483df64d11da51e87fb80d68dd6cce",
     "grade": true,
     "grade_id": "cell-9fd6f5d355d30747",
     "locked": true,
     "points": 3,
     "schema_version": 3,
     "solution": false,
     "task": false
    }
   },
   "outputs": [],
   "source": [
    "# 3 Marks\n",
    "# Do not try to delete this cell\n",
    "# Run this cell for grading\n",
    "_globals = globals()\n",
    "question4c(_globals)"
   ]
  },
  {
   "cell_type": "markdown",
   "id": "animated-shoot",
   "metadata": {
    "deletable": false,
    "editable": false,
    "nbgrader": {
     "cell_type": "markdown",
     "checksum": "b2fdb6292685550f99e8ca7d04cfbbd1",
     "grade": false,
     "grade_id": "cell-6dd9e14ec18ff2bb",
     "locked": true,
     "schema_version": 3,
     "solution": false,
     "task": false
    }
   },
   "source": [
    "(d) Use NumPy's `vectorize` function to create a version of `newton_sympy`, called `newton_sympy_vec`, which works over arrays. Use it to repeat part (c), returning the roots as a NumPy array `roots` of type complex."
   ]
  },
  {
   "cell_type": "code",
   "execution_count": null,
   "id": "alternative-boxing",
   "metadata": {
    "deletable": false,
    "nbgrader": {
     "cell_type": "code",
     "checksum": "07dc805a85b57ff972ee64118b7b09cf",
     "grade": false,
     "grade_id": "cell-0ee818ce51aa55bc",
     "locked": false,
     "schema_version": 3,
     "solution": true,
     "task": false
    }
   },
   "outputs": [],
   "source": [
    "# YOUR CODE HERE\n",
    "raise NotImplementedError()\n",
    "\n",
    "roots"
   ]
  },
  {
   "cell_type": "code",
   "execution_count": null,
   "id": "historic-scope",
   "metadata": {
    "deletable": false,
    "editable": false,
    "nbgrader": {
     "cell_type": "code",
     "checksum": "5ca1c43bc3ad05190005e4cd856e907e",
     "grade": true,
     "grade_id": "cell-d952c76e4eb7a907",
     "locked": true,
     "points": 1,
     "schema_version": 3,
     "solution": false,
     "task": false
    }
   },
   "outputs": [],
   "source": [
    "# 3 Marks\n",
    "# Do not try to delete this cell\n",
    "# Run this cell for grading\n",
    "_globals = globals()\n",
    "question4d(_globals)"
   ]
  },
  {
   "cell_type": "markdown",
   "id": "separated-standard",
   "metadata": {
    "deletable": false,
    "editable": false,
    "nbgrader": {
     "cell_type": "markdown",
     "checksum": "927d27ea10f5660777be68cc98c0909a",
     "grade": false,
     "grade_id": "cell-9b7de47e57156f91",
     "locked": true,
     "schema_version": 3,
     "solution": false,
     "task": false
    }
   },
   "source": [
    "(e) Using `vectorize` like that is pretty inefficient. Perform the above task not using `newton_sympy_vec` but instead using `newton_sympy` with `method` set to `lambdify`."
   ]
  },
  {
   "cell_type": "code",
   "execution_count": null,
   "id": "thrown-passage",
   "metadata": {
    "deletable": false,
    "nbgrader": {
     "cell_type": "code",
     "checksum": "1c830628eefbfb8d61930b1795dc7a7f",
     "grade": false,
     "grade_id": "cell-9196113436915df6",
     "locked": false,
     "schema_version": 3,
     "solution": true,
     "task": false
    }
   },
   "outputs": [],
   "source": [
    "# YOUR CODE HERE\n",
    "raise NotImplementedError()\n",
    "\n",
    "roots"
   ]
  },
  {
   "cell_type": "code",
   "execution_count": null,
   "id": "pregnant-essex",
   "metadata": {
    "deletable": false,
    "editable": false,
    "nbgrader": {
     "cell_type": "code",
     "checksum": "ca8884fd90aab48444f085f0a521144e",
     "grade": true,
     "grade_id": "cell-eafe5371c23c320a",
     "locked": true,
     "points": 1,
     "schema_version": 3,
     "solution": false,
     "task": false
    }
   },
   "outputs": [],
   "source": [
    "# 3 Marks\n",
    "# Do not try to delete this cell\n",
    "# Run this cell for grading\n",
    "_globals = globals()\n",
    "question4e(_globals)"
   ]
  },
  {
   "cell_type": "markdown",
   "id": "primary-dublin",
   "metadata": {
    "deletable": false,
    "editable": false,
    "nbgrader": {
     "cell_type": "markdown",
     "checksum": "8543b0e98e26275e44460ab708d9263c",
     "grade": false,
     "grade_id": "cell-a861ae718616906d",
     "locked": true,
     "schema_version": 3,
     "solution": false,
     "task": false
    }
   },
   "source": [
    "(f) Define both `x_values0` and `y_values0` as 1D NumPy arrays of 400 equally-spaced floats between $-2.0$ and $2.0$ inclusive, and use the `meshgrid` function to define `x0` and `y0` as 400-by-400 arrays of, respectively, $x$- and $y$-coordinates specifying a lattice in the plane.\n",
    "\n",
    "Define `z0` as a lattice of complex numbers of the form $x+i\\,y$, with real and imaginary parts taken from your arrays `x0` and `y0`.\n",
    "\n",
    "Use `newton_sympy` with `method` set to `lambdify` to create an array `roots` consisting of the root of $z^3-1==0$ for each of the elements of the array `z0`, using $100$ iterations in each case. \n",
    "\n",
    "Finally, use the `imshow` function from `matplotlib`'s `pyplot` submodule to visualise the imaginary parts of `roots` as they vary over the plane."
   ]
  },
  {
   "cell_type": "code",
   "execution_count": null,
   "id": "advance-trader",
   "metadata": {
    "deletable": false,
    "nbgrader": {
     "cell_type": "code",
     "checksum": "12c51f9818c7dc9c88da48ac5ea19466",
     "grade": false,
     "grade_id": "cell-68b6cf845f5de10d",
     "locked": false,
     "schema_version": 3,
     "solution": true,
     "task": false
    }
   },
   "outputs": [],
   "source": [
    "# YOUR CODE HERE\n",
    "raise NotImplementedError()"
   ]
  },
  {
   "cell_type": "markdown",
   "id": "backed-reproduction",
   "metadata": {
    "deletable": false,
    "editable": false,
    "nbgrader": {
     "cell_type": "markdown",
     "checksum": "9c73b9b40d0daa974c48df8bd944974a",
     "grade": false,
     "grade_id": "cell-6fae9cb656c6252c",
     "locked": true,
     "schema_version": 3,
     "solution": false,
     "task": false
    }
   },
   "source": [
    "## Bonus Question\n",
    "\n",
    "Write a function that takes in a list of integers, $p(1), p(2), \\ldots, p(n)$, where each element is distinct and satisfies $1 \\leq p(x) \\leq n$. For each $x$ where $1 \\leq x \\leq n$, the function should find the integer $y$ such that $p(p(y)) = x$ and return the appropriate list. For example, given `p = [5, 2, 1, 3, 4]`, each value of $x$ between 1 and 5 is found as follows:\n",
    "\n",
    "1. $x = 1 = p(3)$, $p(4) = 3$, $\\Rightarrow p(p(4)) = 1$\n",
    "2. $x = 2 = p(2)$, $p(2) = 2$, $\\Rightarrow p(p(2)) = 2$\n",
    "3. $x = 3 = p(4)$, $p(5) = 4$, $\\Rightarrow p(p(5)) = 3$\n",
    "4. $x = 4 = p(5)$, $p(1) = 5$, $\\Rightarrow p(p(1)) = 4$\n",
    "5. $x = 5 = p(1)$, $p(3) = 1$, $\\Rightarrow p(p(3)) = 5$\n",
    "\n",
    "Therefore, the function should return the list `[4, 2, 5, 1, 3]`."
   ]
  },
  {
   "cell_type": "code",
   "execution_count": null,
   "id": "periodic-picture",
   "metadata": {
    "deletable": false,
    "nbgrader": {
     "cell_type": "code",
     "checksum": "4aaaca1c868698898c475b880eda726b",
     "grade": false,
     "grade_id": "cell-8f4d566222263187",
     "locked": false,
     "schema_version": 3,
     "solution": true,
     "task": false
    }
   },
   "outputs": [],
   "source": [
    "def sequence_explore(p):\n",
    "    # YOUR CODE HERE\n",
    "    raise NotImplementedError()"
   ]
  },
  {
   "cell_type": "code",
   "execution_count": null,
   "id": "compact-footage",
   "metadata": {
    "deletable": false,
    "editable": false,
    "nbgrader": {
     "cell_type": "code",
     "checksum": "63aa23783fba267283b3560d38daf4e9",
     "grade": true,
     "grade_id": "cell-043f534519cd6ef3",
     "locked": true,
     "points": 1,
     "schema_version": 3,
     "solution": false,
     "task": false
    }
   },
   "outputs": [],
   "source": [
    "# Run this test cell to check your code\n",
    "# Do not delete this cell\n",
    "# 1 mark\n",
    "# Unit test\n",
    "test = [5, 2, 1, 3, 4]\n",
    "assert(sequence_explore(test) == [4, 2, 5, 1, 3])\n",
    "print('Test case passed!!!')"
   ]
  },
  {
   "cell_type": "code",
   "execution_count": null,
   "id": "lined-deviation",
   "metadata": {
    "deletable": false,
    "editable": false,
    "nbgrader": {
     "cell_type": "code",
     "checksum": "1496b46638f404d7a7ebffabae455ce8",
     "grade": true,
     "grade_id": "cell-0f1099efb70bbc25",
     "locked": true,
     "points": 1,
     "schema_version": 3,
     "solution": false,
     "task": false
    }
   },
   "outputs": [],
   "source": [
    "# Run this test cell to check your code\n",
    "# Do not delete this cell\n",
    "# 1 mark\n",
    "# Unit test\n",
    "test = [4, 3, 5, 1, 2]\n",
    "assert(sequence_explore(test) == [1, 3, 5, 4, 2])\n",
    "print('Test case passed!!!')"
   ]
  },
  {
   "cell_type": "code",
   "execution_count": null,
   "id": "accepted-evening",
   "metadata": {
    "deletable": false,
    "editable": false,
    "nbgrader": {
     "cell_type": "code",
     "checksum": "76cb27537ad6e253871dc55bba55844e",
     "grade": true,
     "grade_id": "cell-f88bc69d91f086f4",
     "locked": true,
     "points": 3,
     "schema_version": 3,
     "solution": false,
     "task": false
    }
   },
   "outputs": [],
   "source": [
    "# Hidden test\n",
    "# No output will be produced\n",
    "# 3 marks"
   ]
  },
  {
   "cell_type": "code",
   "execution_count": null,
   "id": "correct-terminal",
   "metadata": {},
   "outputs": [],
   "source": []
  }
 ],
 "metadata": {
  "kernelspec": {
   "display_name": "Python 3",
   "language": "python",
   "name": "python3"
  },
  "language_info": {
   "codemirror_mode": {
    "name": "ipython",
    "version": 3
   },
   "file_extension": ".py",
   "mimetype": "text/x-python",
   "name": "python",
   "nbconvert_exporter": "python",
   "pygments_lexer": "ipython3",
   "version": "3.8.8"
  }
 },
 "nbformat": 4,
 "nbformat_minor": 5
}
