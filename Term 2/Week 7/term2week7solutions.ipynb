{
 "cells": [
  {
   "cell_type": "code",
   "execution_count": 1,
   "id": "completed-strip",
   "metadata": {},
   "outputs": [
    {
     "name": "stdout",
     "output_type": "stream",
     "text": [
      "Autograder loaded successfully!\n",
      "Remember to always restart and run all from the Kernel menu before submitting!\n"
     ]
    }
   ],
   "source": [
    "from autograder_term2week7 import *\n",
    "_globals = globals()\n",
    "import sympy as sp\n",
    "sp.init_printing()\n",
    "import numpy as np\n",
    "import math\n",
    "import sympy.plotting as splt\n",
    "import matplotlib.pyplot as plt\n",
    "%matplotlib inline"
   ]
  },
  {
   "cell_type": "markdown",
   "id": "induced-sacrifice",
   "metadata": {
    "nbgrader": {
     "grade": false,
     "grade_id": "cell-45efb17792322f1b",
     "locked": true,
     "schema_version": 3,
     "solution": false,
     "task": false
    }
   },
   "source": [
    "# <center> Introduction to Mathematical Computing </center>\n",
    "### <center>Phil Ramsden, Boumediene Hamzi, Sam Brzezicki, Matt Woolway</center>\n",
    "\n",
    "# <center> Worksheet 10: SymPy</center>"
   ]
  },
  {
   "cell_type": "markdown",
   "id": "injured-handle",
   "metadata": {
    "nbgrader": {
     "grade": false,
     "grade_id": "cell-b80d0aefe35537ee",
     "locked": true,
     "schema_version": 3,
     "solution": false,
     "task": false
    }
   },
   "source": [
    "## Question 1(i)\n",
    "\n",
    "(a) Turn on pretty-printing, and define `x` and `t` as SymPy symbolic variables."
   ]
  },
  {
   "cell_type": "code",
   "execution_count": 2,
   "id": "pleased-currency",
   "metadata": {
    "nbgrader": {
     "grade": false,
     "grade_id": "cell-3fc307878e1a9e93",
     "locked": false,
     "schema_version": 3,
     "solution": true,
     "task": false
    }
   },
   "outputs": [
    {
     "data": {
      "image/png": "[encoded data removed]",
      "text/latex": [
       "$\\displaystyle \\left( x, \\  t\\right)$"
      ],
      "text/plain": [
       "(x, t)"
      ]
     },
     "execution_count": 2,
     "metadata": {},
     "output_type": "execute_result"
    }
   ],
   "source": [
    "### BEGIN SOLUTION\n",
    "import sympy as sp\n",
    "x, t = sp.symbols('x t')\n",
    "\n",
    "sp.init_printing()\n",
    "### END SOLUTION\n",
    "\n",
    "(x, t)"
   ]
  },
  {
   "cell_type": "code",
   "execution_count": 3,
   "id": "fundamental-joining",
   "metadata": {
    "nbgrader": {
     "grade": true,
     "grade_id": "cell-46337e404d685821",
     "locked": true,
     "points": 1,
     "schema_version": 3,
     "solution": false,
     "task": false
    }
   },
   "outputs": [
    {
     "name": "stdout",
     "output_type": "stream",
     "text": [
      "The symbol x is defined correctly\n",
      "The symbol t is defined correctly\n",
      "Test passed!\n"
     ]
    },
    {
     "data": {
      "image/png": "[encoded data removed]",
      "text/latex": [
       "$\\displaystyle 1$"
      ],
      "text/plain": [
       "1"
      ]
     },
     "execution_count": 3,
     "metadata": {},
     "output_type": "execute_result"
    }
   ],
   "source": [
    "# 1 Mark\n",
    "# Do not try to delete this cell\n",
    "# Run this cell for grading\n",
    "_globals = globals()\n",
    "question1ia(_globals)"
   ]
  },
  {
   "cell_type": "markdown",
   "id": "considered-milan",
   "metadata": {
    "nbgrader": {
     "grade": false,
     "grade_id": "cell-4e223de2fc503a75",
     "locked": true,
     "schema_version": 3,
     "solution": false,
     "task": false
    }
   },
   "source": [
    "(b) Define `expr` as $(x-2)(x+1)(x-(2+i))(x-((2-i)).$ Use SymPy complex numbers."
   ]
  },
  {
   "cell_type": "code",
   "execution_count": 4,
   "id": "demonstrated-orbit",
   "metadata": {
    "nbgrader": {
     "grade": false,
     "grade_id": "cell-bf426dcc39f3a4ee",
     "locked": false,
     "schema_version": 3,
     "solution": true,
     "task": false
    }
   },
   "outputs": [
    {
     "data": {
      "image/png": "[encoded data removed]",
      "text/latex": [
       "$\\displaystyle \\left(x - 2\\right) \\left(x + 1\\right) \\left(x - 2 - i\\right) \\left(x - 2 + i\\right)$"
      ],
      "text/plain": [
       "(x - 2)⋅(x + 1)⋅(x - 2 - ⅈ)⋅(x - 2 + ⅈ)"
      ]
     },
     "execution_count": 4,
     "metadata": {},
     "output_type": "execute_result"
    }
   ],
   "source": [
    "### BEGIN SOLUTION\n",
    "expr = (x-2)*(x+1)*(x-(2+sp.I))*(x-(2-sp.I))\n",
    "### END SOLUTION\n",
    "\n",
    "expr"
   ]
  },
  {
   "cell_type": "code",
   "execution_count": 5,
   "id": "naked-yeast",
   "metadata": {
    "nbgrader": {
     "grade": true,
     "grade_id": "cell-da6e34ce755c07d0",
     "locked": true,
     "points": 1,
     "schema_version": 3,
     "solution": false,
     "task": false
    }
   },
   "outputs": [
    {
     "name": "stdout",
     "output_type": "stream",
     "text": [
      "The expression expr is defined correctly\n",
      "Test passed!\n"
     ]
    },
    {
     "data": {
      "image/png": "[encoded data removed]",
      "text/latex": [
       "$\\displaystyle 1$"
      ],
      "text/plain": [
       "1"
      ]
     },
     "execution_count": 5,
     "metadata": {},
     "output_type": "execute_result"
    }
   ],
   "source": [
    "# 1 Mark\n",
    "# Do not try to delete this cell\n",
    "# Run this cell for grading\n",
    "_globals = globals()\n",
    "question1ib(_globals)"
   ]
  },
  {
   "cell_type": "markdown",
   "id": "fabulous-steps",
   "metadata": {
    "nbgrader": {
     "grade": false,
     "grade_id": "cell-3769148446cc67df",
     "locked": true,
     "schema_version": 3,
     "solution": false,
     "task": false
    }
   },
   "source": [
    "(c) Expand `expr` to give `expr2`."
   ]
  },
  {
   "cell_type": "code",
   "execution_count": 6,
   "id": "considered-france",
   "metadata": {
    "nbgrader": {
     "grade": false,
     "grade_id": "cell-483a179309921041",
     "locked": false,
     "schema_version": 3,
     "solution": true,
     "task": false
    }
   },
   "outputs": [
    {
     "data": {
      "image/png": "[encoded data removed]",
      "text/latex": [
       "$\\displaystyle x^{4} - 5 x^{3} + 7 x^{2} + 3 x - 10$"
      ],
      "text/plain": [
       " 4      3      2           \n",
       "x  - 5⋅x  + 7⋅x  + 3⋅x - 10"
      ]
     },
     "execution_count": 6,
     "metadata": {},
     "output_type": "execute_result"
    }
   ],
   "source": [
    "### BEGIN SOLUTION\n",
    "expr2= sp.expand(expr)\n",
    "### END SOLUTION\n",
    "\n",
    "expr2"
   ]
  },
  {
   "cell_type": "code",
   "execution_count": 7,
   "id": "perfect-upset",
   "metadata": {
    "nbgrader": {
     "grade": true,
     "grade_id": "cell-c438c178b78dc472",
     "locked": true,
     "points": 1,
     "schema_version": 3,
     "solution": false,
     "task": false
    }
   },
   "outputs": [
    {
     "name": "stdout",
     "output_type": "stream",
     "text": [
      "The expression expr2 is defined correctly\n",
      "Test passed!\n"
     ]
    },
    {
     "data": {
      "image/png": "[encoded data removed]",
      "text/latex": [
       "$\\displaystyle 1$"
      ],
      "text/plain": [
       "1"
      ]
     },
     "execution_count": 7,
     "metadata": {},
     "output_type": "execute_result"
    }
   ],
   "source": [
    "# 1 Mark\n",
    "# Do not try to delete this cell\n",
    "# Run this cell for grading\n",
    "_globals = globals()\n",
    "question1ic(_globals)"
   ]
  },
  {
   "cell_type": "markdown",
   "id": "static-defense",
   "metadata": {
    "nbgrader": {
     "grade": false,
     "grade_id": "cell-391e188a898948af",
     "locked": true,
     "schema_version": 3,
     "solution": false,
     "task": false
    }
   },
   "source": [
    "(d) Find the zeros of `expr2` using `solve`; call the resulting object `expr2_zeros`."
   ]
  },
  {
   "cell_type": "code",
   "execution_count": 8,
   "id": "voluntary-characterization",
   "metadata": {
    "nbgrader": {
     "grade": false,
     "grade_id": "cell-275ab15d204f7c11",
     "locked": false,
     "schema_version": 3,
     "solution": true,
     "task": false
    }
   },
   "outputs": [
    {
     "data": {
      "image/png": "[encoded data removed]",
      "text/latex": [
       "$\\displaystyle \\left[ -1, \\  2, \\  2 - i, \\  2 + i\\right]$"
      ],
      "text/plain": [
       "[-1, 2, 2 - ⅈ, 2 + ⅈ]"
      ]
     },
     "execution_count": 8,
     "metadata": {},
     "output_type": "execute_result"
    }
   ],
   "source": [
    "### BEGIN SOLUTION\n",
    "expr2_zeros = sp.solve(sp.Eq(expr2,0))\n",
    "### END SOLUTION\n",
    "\n",
    "expr2_zeros"
   ]
  },
  {
   "cell_type": "code",
   "execution_count": 9,
   "id": "personalized-beaver",
   "metadata": {
    "nbgrader": {
     "grade": true,
     "grade_id": "cell-5007b7fef608950b",
     "locked": true,
     "points": 1,
     "schema_version": 3,
     "solution": false,
     "task": false
    }
   },
   "outputs": [
    {
     "name": "stdout",
     "output_type": "stream",
     "text": [
      "The list expr2_zeros is defined correctly\n",
      "Test passed!\n"
     ]
    },
    {
     "data": {
      "image/png": "[encoded data removed]",
      "text/latex": [
       "$\\displaystyle 1$"
      ],
      "text/plain": [
       "1"
      ]
     },
     "execution_count": 9,
     "metadata": {},
     "output_type": "execute_result"
    }
   ],
   "source": [
    "# 1 Mark\n",
    "# Do not try to delete this cell\n",
    "# Run this cell for grading\n",
    "_globals = globals()\n",
    "question1id(_globals)"
   ]
  },
  {
   "cell_type": "markdown",
   "id": "sharing-gregory",
   "metadata": {
    "nbgrader": {
     "grade": false,
     "grade_id": "cell-ac5eeb3ddb041bc1",
     "locked": true,
     "schema_version": 3,
     "solution": false,
     "task": false
    }
   },
   "source": [
    "(e) Find, as an exact SymPy rational, the integral of `expr2` between $-3$ and $3$; call this `int_expr`."
   ]
  },
  {
   "cell_type": "code",
   "execution_count": 10,
   "id": "monthly-tribe",
   "metadata": {
    "nbgrader": {
     "grade": false,
     "grade_id": "cell-e6b86a8e3a14e459",
     "locked": false,
     "schema_version": 3,
     "solution": true,
     "task": false
    }
   },
   "outputs": [
    {
     "data": {
      "image/png": "[encoded data removed]",
      "text/latex": [
       "$\\displaystyle \\frac{816}{5}$"
      ],
      "text/plain": [
       "816/5"
      ]
     },
     "execution_count": 10,
     "metadata": {},
     "output_type": "execute_result"
    }
   ],
   "source": [
    "### BEGIN SOLUTION\n",
    "int_expr = sp.integrate(expr2, (x, -3, 3))\n",
    "### END SOLUTION\n",
    "\n",
    "int_expr"
   ]
  },
  {
   "cell_type": "code",
   "execution_count": 11,
   "id": "innovative-nigeria",
   "metadata": {
    "nbgrader": {
     "grade": true,
     "grade_id": "cell-7572bb4ef99c4950",
     "locked": true,
     "points": 1,
     "schema_version": 3,
     "solution": false,
     "task": false
    }
   },
   "outputs": [
    {
     "name": "stdout",
     "output_type": "stream",
     "text": [
      "The Rational int_expr is defined correctly\n",
      "Test passed!\n"
     ]
    },
    {
     "data": {
      "image/png": "[encoded data removed]",
      "text/latex": [
       "$\\displaystyle 1$"
      ],
      "text/plain": [
       "1"
      ]
     },
     "execution_count": 11,
     "metadata": {},
     "output_type": "execute_result"
    }
   ],
   "source": [
    "# 1 Mark\n",
    "# Do not try to delete this cell\n",
    "# Run this cell for grading\n",
    "_globals = globals()\n",
    "question1ie(_globals)"
   ]
  },
  {
   "cell_type": "markdown",
   "id": "pregnant-stake",
   "metadata": {
    "nbgrader": {
     "grade": false,
     "grade_id": "cell-0826fde60ca06c2d",
     "locked": true,
     "schema_version": 3,
     "solution": false,
     "task": false
    }
   },
   "source": [
    "(f) Set up `f` as an undefined SymPy function of $t$, and create an expression called `fexpr` which is $f(t)$ substituted into `expr2`."
   ]
  },
  {
   "cell_type": "code",
   "execution_count": 12,
   "id": "authorized-profession",
   "metadata": {
    "nbgrader": {
     "grade": false,
     "grade_id": "cell-377f72b45c5c86d4",
     "locked": false,
     "schema_version": 3,
     "solution": true,
     "task": false
    }
   },
   "outputs": [
    {
     "data": {
      "image/png": "[encoded data removed]",
      "text/latex": [
       "$\\displaystyle \\left( f{\\left(t \\right)}, \\  f^{4}{\\left(t \\right)} - 5 f^{3}{\\left(t \\right)} + 7 f^{2}{\\left(t \\right)} + 3 f{\\left(t \\right)} - 10\\right)$"
      ],
      "text/plain": [
       "⎛       4         3         2                 ⎞\n",
       "⎝f(t), f (t) - 5⋅f (t) + 7⋅f (t) + 3⋅f(t) - 10⎠"
      ]
     },
     "execution_count": 12,
     "metadata": {},
     "output_type": "execute_result"
    }
   ],
   "source": [
    "### BEGIN SOLUTION\n",
    "f = sp.Function('f')(t)\n",
    "\n",
    "fexpr = expr2.subs(x, f)\n",
    "### END SOLUTION\n",
    "\n",
    "(f, fexpr)"
   ]
  },
  {
   "cell_type": "code",
   "execution_count": 13,
   "id": "european-content",
   "metadata": {
    "nbgrader": {
     "grade": true,
     "grade_id": "cell-81ba14e2362cb0d9",
     "locked": true,
     "points": 2,
     "schema_version": 3,
     "solution": false,
     "task": false
    }
   },
   "outputs": [
    {
     "name": "stdout",
     "output_type": "stream",
     "text": [
      "The symbolic function f is defined correctly\n",
      "The expression fexpr is defined correctly\n",
      "2 out of 2\n"
     ]
    },
    {
     "data": {
      "image/png": "[encoded data removed]",
      "text/latex": [
       "$\\displaystyle 2$"
      ],
      "text/plain": [
       "2"
      ]
     },
     "execution_count": 13,
     "metadata": {},
     "output_type": "execute_result"
    }
   ],
   "source": [
    "# 2 Marks\n",
    "# Do not try to delete this cell\n",
    "# Run this cell for grading\n",
    "_globals = globals()\n",
    "question1if(_globals)"
   ]
  },
  {
   "cell_type": "markdown",
   "id": "exclusive-small",
   "metadata": {
    "nbgrader": {
     "grade": false,
     "grade_id": "cell-6c529616c7ba35dc",
     "locked": true,
     "schema_version": 3,
     "solution": false,
     "task": false
    }
   },
   "source": [
    "(g) Given that $x=f(t)$, find the general solution `gen_sol` of the ordinary differential equation\n",
    "\n",
    "$$\\frac{dx}{dt} = x^4-5x^3+7 x^2+3x-10,$$\n",
    "\n",
    "as an expression in $f(t)$."
   ]
  },
  {
   "cell_type": "code",
   "execution_count": 14,
   "id": "alternative-roads",
   "metadata": {
    "nbgrader": {
     "grade": false,
     "grade_id": "cell-5793e81f8df0d50e",
     "locked": false,
     "schema_version": 3,
     "solution": true,
     "task": false
    }
   },
   "outputs": [
    {
     "data": {
      "image/png": "[encoded data removed]",
      "text/latex": [
       "$\\displaystyle t - \\frac{\\log{\\left(f{\\left(t \\right)} - 2 \\right)}}{3} + \\frac{\\log{\\left(f{\\left(t \\right)} + 1 \\right)}}{30} + \\frac{3 \\log{\\left(f^{2}{\\left(t \\right)} - 4 f{\\left(t \\right)} + 5 \\right)}}{20} + \\frac{\\operatorname{atan}{\\left(f{\\left(t \\right)} - 2 \\right)}}{10} = C_{1}$"
      ],
      "text/plain": [
       "                                         ⎛ 2                ⎞                 \n",
       "    log(f(t) - 2)   log(f(t) + 1)   3⋅log⎝f (t) - 4⋅f(t) + 5⎠   atan(f(t) - 2)\n",
       "t - ───────────── + ───────────── + ───────────────────────── + ──────────────\n",
       "          3               30                    20                    10      \n",
       "\n",
       "     \n",
       "     \n",
       " = C₁\n",
       "     "
      ]
     },
     "execution_count": 14,
     "metadata": {},
     "output_type": "execute_result"
    }
   ],
   "source": [
    "### BEGIN SOLUTION\n",
    "gen_sol = sp.dsolve(sp.Eq(sp.diff(f,t),fexpr))\n",
    "### END SOLUTION\n",
    "\n",
    "gen_sol"
   ]
  },
  {
   "cell_type": "code",
   "execution_count": 15,
   "id": "olympic-unknown",
   "metadata": {
    "nbgrader": {
     "grade": true,
     "grade_id": "cell-da84d476dc222ea4",
     "locked": true,
     "points": 1,
     "schema_version": 3,
     "solution": false,
     "task": false
    }
   },
   "outputs": [
    {
     "name": "stdout",
     "output_type": "stream",
     "text": [
      "The expression gen_sol is defined correctly\n",
      "Test passed!\n"
     ]
    },
    {
     "data": {
      "image/png": "[encoded data removed]",
      "text/latex": [
       "$\\displaystyle 1$"
      ],
      "text/plain": [
       "1"
      ]
     },
     "execution_count": 15,
     "metadata": {},
     "output_type": "execute_result"
    }
   ],
   "source": [
    "# 1 Mark\n",
    "# Do not try to delete this cell\n",
    "# Run this cell for grading\n",
    "_globals = globals()\n",
    "question1ig(_globals)"
   ]
  },
  {
   "cell_type": "markdown",
   "id": "aggressive-guatemala",
   "metadata": {
    "nbgrader": {
     "grade": false,
     "grade_id": "cell-d35459cdc666acf8",
     "locked": true,
     "schema_version": 3,
     "solution": false,
     "task": false
    }
   },
   "source": [
    "## Question 1 (ii)\n",
    "\n",
    "Autograding won't help for any of this!\n",
    "\n",
    "Using the `plot_parametric`, `plot_implicit`, `plot3d_parametric_line` and `plot3d_parametric_surface`, create plots of:\n",
    "\n",
    "(a) The Lissajous curve $x=\\cos(5\\theta), y= \\sin(3\\theta)$ for $0\\le \\theta \\le 2\\,\\pi$.\n",
    "\n",
    "(b) The implicit curve $y^2 = x^3-x$ for $-3\\le x \\le 3$.\n",
    "\n",
    "(c) A helix in 3d (just a line, not a surface).\n",
    "\n",
    "(d) The surface of a torus (ring doughnut or bagel shape).\n",
    "\n",
    "(e) A helix winding round a torus (just show the line, not the surface)."
   ]
  },
  {
   "cell_type": "code",
   "execution_count": 16,
   "id": "nonprofit-tonight",
   "metadata": {
    "nbgrader": {
     "grade": false,
     "grade_id": "cell-fe82240418492676",
     "locked": false,
     "schema_version": 3,
     "solution": true,
     "task": false
    }
   },
   "outputs": [
    {
     "data": {
      "image/png": "[encoded data removed]",
      "text/plain": [
       "<Figure size 432x288 with 1 Axes>"
      ]
     },
     "metadata": {
      "needs_background": "light"
     },
     "output_type": "display_data"
    },
    {
     "data": {
      "text/plain": [
       "<sympy.plotting.plot.Plot at 0x16978928670>"
      ]
     },
     "execution_count": 16,
     "metadata": {},
     "output_type": "execute_result"
    }
   ],
   "source": [
    "# cell for part (a)\n",
    "### BEGIN SOLUTION\n",
    "x, y, s, t = sp.symbols('x y s t')\n",
    "splt.plot_parametric(sp.cos(5*t), sp.sin(3*t), (t,0, 2*sp.pi))\n",
    "### END SOLUTION"
   ]
  },
  {
   "cell_type": "code",
   "execution_count": 17,
   "id": "becoming-source",
   "metadata": {
    "nbgrader": {
     "grade": false,
     "grade_id": "cell-d6b67b71f213baa7",
     "locked": false,
     "schema_version": 3,
     "solution": true,
     "task": false
    }
   },
   "outputs": [
    {
     "data": {
      "image/png": "[encoded data removed]",
      "text/plain": [
       "<Figure size 432x288 with 1 Axes>"
      ]
     },
     "metadata": {
      "needs_background": "light"
     },
     "output_type": "display_data"
    },
    {
     "data": {
      "text/plain": [
       "<sympy.plotting.plot.Plot at 0x16978c3f100>"
      ]
     },
     "execution_count": 17,
     "metadata": {},
     "output_type": "execute_result"
    }
   ],
   "source": [
    "# cell for part (b)\n",
    "### BEGIN SOLUTION\n",
    "splt.plot_implicit(sp.Eq(y**2,x**3-x),(x,-3,3))\n",
    "### END SOLUTION"
   ]
  },
  {
   "cell_type": "code",
   "execution_count": 18,
   "id": "recognized-skiing",
   "metadata": {
    "nbgrader": {
     "grade": false,
     "grade_id": "cell-246db9ce9a41786f",
     "locked": false,
     "schema_version": 3,
     "solution": true,
     "task": false
    }
   },
   "outputs": [
    {
     "data": {
      "image/png": "[encoded data removed]",
      "text/plain": [
       "<Figure size 432x288 with 1 Axes>"
      ]
     },
     "metadata": {
      "needs_background": "light"
     },
     "output_type": "display_data"
    },
    {
     "data": {
      "text/plain": [
       "<sympy.plotting.plot.Plot at 0x1697a437d00>"
      ]
     },
     "execution_count": 18,
     "metadata": {},
     "output_type": "execute_result"
    }
   ],
   "source": [
    "# cell for part (c)\n",
    "### BEGIN SOLUTION\n",
    "splt.plot3d_parametric_line(sp.cos(5*t),sp.sin(5*t),t, (t, 0, 2*sp.pi))\n",
    "### END SOLUTION"
   ]
  },
  {
   "cell_type": "code",
   "execution_count": 19,
   "id": "confidential-publicity",
   "metadata": {
    "nbgrader": {
     "grade": false,
     "grade_id": "cell-8cbcc36f51eb8fa2",
     "locked": false,
     "schema_version": 3,
     "solution": true,
     "task": false
    }
   },
   "outputs": [
    {
     "data": {
      "image/png": "[encoded data removed]",
      "text/plain": [
       "<Figure size 432x288 with 1 Axes>"
      ]
     },
     "metadata": {
      "needs_background": "light"
     },
     "output_type": "display_data"
    },
    {
     "data": {
      "text/plain": [
       "<sympy.plotting.plot.Plot at 0x1697a5e5730>"
      ]
     },
     "execution_count": 19,
     "metadata": {},
     "output_type": "execute_result"
    }
   ],
   "source": [
    "# cell for part (d)\n",
    "### BEGIN SOLUTION\n",
    "splt.plot3d_parametric_surface((3+sp.cos(s))*sp.cos(t),(3+sp.cos(s))*sp.sin(t),sp.sin(s),(s, 0, 2*sp.pi), (t, 0, 2*sp.pi))\n",
    "### END SOLUTION"
   ]
  },
  {
   "cell_type": "code",
   "execution_count": 20,
   "id": "fresh-registration",
   "metadata": {
    "nbgrader": {
     "grade": false,
     "grade_id": "cell-07818c747e91e690",
     "locked": false,
     "schema_version": 3,
     "solution": true,
     "task": false
    }
   },
   "outputs": [
    {
     "data": {
      "image/png": "[encoded data removed]",
      "text/plain": [
       "<Figure size 432x288 with 1 Axes>"
      ]
     },
     "metadata": {
      "needs_background": "light"
     },
     "output_type": "display_data"
    },
    {
     "data": {
      "text/plain": [
       "<sympy.plotting.plot.Plot at 0x1697a741b50>"
      ]
     },
     "execution_count": 20,
     "metadata": {},
     "output_type": "execute_result"
    }
   ],
   "source": [
    "# cell for part (e)\n",
    "### BEGIN SOLUTION\n",
    "splt.plot3d_parametric_line((3+sp.cos(15*t))*sp.cos(t),(3+sp.cos(15*t))*sp.sin(t),sp.sin(15*t), \n",
    "                               (t, 0, 2*sp.pi))\n",
    "### END SOLUTION"
   ]
  },
  {
   "cell_type": "markdown",
   "id": "miniature-diagram",
   "metadata": {
    "nbgrader": {
     "grade": false,
     "grade_id": "cell-831a74282856dfc0",
     "locked": true,
     "schema_version": 3,
     "solution": false,
     "task": false
    }
   },
   "source": [
    "## Question 2 (i)\n",
    "\n",
    "(a) Define variables $p=6$ and $q=9$ <em>as SymPy integers</em>, and calculate <em>using SymPy functions and rationals</em> the quantity\n",
    "$$x=\\left(\\frac{q}{2}+\\sqrt{\\left[\\frac{q}{2}\\right]^2-\\left[\\frac{p}{3}\\right]^3}\\right)^{1/3}+\\left(\\frac{q}{2}-\\sqrt{\\left[\\frac{q}{2}\\right]^2-\\left[\\frac{p}{3}\\right]^3}\\right)^{1/3}.$$\n",
    "Verify Cardano's Theorem, that $x$ is a solution of the cubic\n",
    "$$x^3=p\\,x+q.$$"
   ]
  },
  {
   "cell_type": "code",
   "execution_count": 8,
   "id": "sorted-cosmetic",
   "metadata": {
    "nbgrader": {
     "grade": false,
     "grade_id": "cell-fe73392b99dcc38d",
     "locked": false,
     "schema_version": 3,
     "solution": true,
     "task": false
    }
   },
   "outputs": [
    {
     "data": {
      "image/png": "[encoded data removed]",
      "text/latex": [
       "$\\displaystyle \\left( 3, \\  27, \\  27\\right)$"
      ],
      "text/plain": [
       "(3, 27, 27)"
      ]
     },
     "execution_count": 8,
     "metadata": {},
     "output_type": "execute_result"
    }
   ],
   "source": [
    "### BEGIN SOLUTION\n",
    "p = sp.Integer(6)\n",
    "q = sp.Integer(9)\n",
    "\n",
    "x = (q/2 + sp.sqrt((q/2)**2-(p/3)**3))**sp.Rational(1,3) + (q/2 - sp.sqrt((q/2)**2-(p/3)**3))**sp.Rational(1,3)\n",
    "### END SOLUTION\n",
    "\n",
    "(x, x**3, p*x+q)"
   ]
  },
  {
   "cell_type": "code",
   "execution_count": 22,
   "id": "further-thunder",
   "metadata": {
    "nbgrader": {
     "grade": true,
     "grade_id": "cell-c4a58b62e61622f0",
     "locked": true,
     "points": 1,
     "schema_version": 3,
     "solution": false,
     "task": false
    }
   },
   "outputs": [
    {
     "name": "stdout",
     "output_type": "stream",
     "text": [
      "The value of x is correct\n",
      "\n",
      "Test passed!\n"
     ]
    },
    {
     "data": {
      "image/png": "[encoded data removed]",
      "text/latex": [
       "$\\displaystyle 1$"
      ],
      "text/plain": [
       "1"
      ]
     },
     "execution_count": 22,
     "metadata": {},
     "output_type": "execute_result"
    }
   ],
   "source": [
    "# 1 Mark\n",
    "# Do not try to delete this cell\n",
    "# Run this cell for grading\n",
    "_globals = globals()\n",
    "question2ia(_globals)"
   ]
  },
  {
   "cell_type": "markdown",
   "id": "requested-rebecca",
   "metadata": {
    "nbgrader": {
     "grade": false,
     "grade_id": "cell-87057eb90263a83c",
     "locked": true,
     "schema_version": 3,
     "solution": false,
     "task": false
    }
   },
   "source": [
    "(b) Repeat for $p=3$ and $q=18$."
   ]
  },
  {
   "cell_type": "code",
   "execution_count": 23,
   "id": "thirty-cloud",
   "metadata": {
    "nbgrader": {
     "grade": false,
     "grade_id": "cell-f81eea0fb1edb157",
     "locked": false,
     "schema_version": 3,
     "solution": true,
     "task": false
    }
   },
   "outputs": [
    {
     "data": {
      "image/png": "[encoded data removed]",
      "text/latex": [
       "$\\displaystyle \\left( \\sqrt[3]{9 - 4 \\sqrt{5}} + \\sqrt[3]{4 \\sqrt{5} + 9}, \\  \\left(\\sqrt[3]{9 - 4 \\sqrt{5}} + \\sqrt[3]{4 \\sqrt{5} + 9}\\right)^{3}, \\  3 \\sqrt[3]{9 - 4 \\sqrt{5}} + 3 \\sqrt[3]{4 \\sqrt{5} + 9} + 18\\right)$"
      ],
      "text/plain": [
       "⎛                                                          3                  \n",
       "⎜3 __________   3 __________  ⎛3 __________   3 __________⎞     3 __________  \n",
       "⎝╲╱ 9 - 4⋅√5  + ╲╱ 4⋅√5 + 9 , ⎝╲╱ 9 - 4⋅√5  + ╲╱ 4⋅√5 + 9 ⎠ , 3⋅╲╱ 9 - 4⋅√5  +\n",
       "\n",
       "                    ⎞\n",
       "   3 __________     ⎟\n",
       " 3⋅╲╱ 4⋅√5 + 9  + 18⎠"
      ]
     },
     "execution_count": 23,
     "metadata": {},
     "output_type": "execute_result"
    }
   ],
   "source": [
    "### BEGIN SOLUTION\n",
    "p = sp.Integer(3)\n",
    "q = sp.Integer(18)\n",
    "\n",
    "x = (q/2 + sp.sqrt((q/2)**2-(p/3)**3))**sp.Rational(1,3) + (q/2 - sp.sqrt((q/2)**2-(p/3)**3))**sp.Rational(1,3)\n",
    "### END SOLUTION\n",
    "\n",
    "(x, x**3, p*x+q)"
   ]
  },
  {
   "cell_type": "code",
   "execution_count": 39,
   "id": "alert-stage",
   "metadata": {
    "nbgrader": {
     "grade": true,
     "grade_id": "cell-5727229a7d29a2da",
     "locked": true,
     "points": 1,
     "schema_version": 3,
     "solution": false,
     "task": false
    }
   },
   "outputs": [
    {
     "name": "stdout",
     "output_type": "stream",
     "text": [
      "The value of x is correct\n",
      "\n",
      "Test passed!\n"
     ]
    },
    {
     "data": {
      "image/png": "[encoded data removed]",
      "text/latex": [
       "$\\displaystyle \\sqrt[3]{9 - 4 \\sqrt{5}} + \\sqrt[3]{4 \\sqrt{5} + 9}$"
      ],
      "text/plain": [
       "3 __________   3 __________\n",
       "╲╱ 9 - 4⋅√5  + ╲╱ 4⋅√5 + 9 "
      ]
     },
     "execution_count": 39,
     "metadata": {},
     "output_type": "execute_result"
    }
   ],
   "source": [
    "# 1 Mark\n",
    "# Do not try to delete this cell\n",
    "# Run this cell for grading\n",
    "_globals = globals()\n",
    "question2ib(_globals)\n",
    "sp.simplify(x)"
   ]
  },
  {
   "cell_type": "markdown",
   "id": "helpful-factor",
   "metadata": {
    "nbgrader": {
     "grade": false,
     "grade_id": "cell-30cd62a4adbe3eb3",
     "locked": true,
     "schema_version": 3,
     "solution": false,
     "task": false
    }
   },
   "source": [
    "(c) Which of the following is/are true?\n",
    "\n",
    "<ol>\n",
    "    <li>The values of $x^3$ and $p\\,x+q$ are not equal; this is a counterexample to the theorem.</li>\n",
    "    <li>The values of $x^3$ and $p\\,x+q$ are equal, as is revealed by typing <code>x ** 3 == p*x + q</code>.</li>\n",
    "    <li>The values of $x^3$ and $p\\,x+q$ are equal, as is revealed by typing <code>sp.simplify(x ** 3) == sp.simplify(p*x + q)</code>.</li>\n",
    "    <li>The values of $x^3$ and $p\\,x+q$ are equal, as is revealed by typing <code>sp.simplify(x ** 3 - (p*x + q)) == 0</code>.</li>\n",
    "    <li>The values of $x^3$ and $p\\,x+q$ are equal, as is revealed by typing <code>(x ** 3).equals(p*x + q)</code>.</li>\n",
    "</ol>\n",
    "\n",
    "Type in the correct answers enclosed in curly brackets: for example, if you think statements 1, 3 and 4 are true, type `{1, 3, 4}`."
   ]
  },
  {
   "cell_type": "code",
   "execution_count": 2,
   "id": "essential-intermediate",
   "metadata": {
    "nbgrader": {
     "grade": false,
     "grade_id": "cell-e3c878f032c8325e",
     "locked": false,
     "schema_version": 3,
     "solution": true,
     "task": false
    }
   },
   "outputs": [],
   "source": [
    "### BEGIN SOLUTION\n",
    "q2ic_answer = {4,5}\n",
    "### END SOLUTION\n",
    "\n",
    "#q2ic_answer = # give the correct options in curly brackets"
   ]
  },
  {
   "cell_type": "code",
   "execution_count": 3,
   "id": "suffering-judgment",
   "metadata": {
    "nbgrader": {
     "grade": true,
     "grade_id": "cell-1839617dea822581",
     "locked": true,
     "points": 1,
     "schema_version": 3,
     "solution": false,
     "task": false
    }
   },
   "outputs": [
    {
     "name": "stdout",
     "output_type": "stream",
     "text": [
      "Either {4, 5} or just {5} has been marked correct here; the answer seems to change with version number. Let me know if your version is doing something different still.\n",
      "\n",
      "Test passed!\n"
     ]
    },
    {
     "data": {
      "image/png": "[encoded data removed]",
      "text/latex": [
       "$\\displaystyle 1$"
      ],
      "text/plain": [
       "1"
      ]
     },
     "execution_count": 3,
     "metadata": {},
     "output_type": "execute_result"
    }
   ],
   "source": [
    "# 1 Mark\n",
    "# Do not try to delete this cell\n",
    "# Run this cell for grading\n",
    "_globals = globals()\n",
    "question2ic(_globals)"
   ]
  },
  {
   "cell_type": "markdown",
   "id": "israeli-opening",
   "metadata": {
    "nbgrader": {
     "grade": false,
     "grade_id": "cell-d1f6a08887714961",
     "locked": true,
     "schema_version": 3,
     "solution": false,
     "task": false
    }
   },
   "source": [
    "(d) The only real root of $x^3=3x+18$ is $x=3$. Which of the following is true?\n",
    "\n",
    "<ol>\n",
    "    <li>The numerical value of <code>x</code> found in this way is not $3$.</li>\n",
    "    <li>The numerical value of <code>x</code> found in this way is $3$, but this appears in an unhelpful form; however, if we simplify it using <code>simplify</code>, it becomes 3.</li>\n",
    "    <li>The numerical value of <code>x</code> found in this way is $3$, but this appears in an unhelpful form; moreover, if we simplify it using <code>simplify</code>, it does not become 3.</li>\n",
    "</ol>"
   ]
  },
  {
   "cell_type": "code",
   "execution_count": null,
   "id": "temporal-intermediate",
   "metadata": {
    "nbgrader": {
     "grade": false,
     "grade_id": "cell-3e52f326323eb208",
     "locked": false,
     "schema_version": 3,
     "solution": true,
     "task": false
    }
   },
   "outputs": [],
   "source": [
    "### BEGIN SOLUTION\n",
    "q2id_answer = 3\n",
    "### END SOLUTION\n",
    "\n",
    "q2id_answer = # insert one of 1, 2 or 3"
   ]
  },
  {
   "cell_type": "code",
   "execution_count": null,
   "id": "acknowledged-switzerland",
   "metadata": {
    "nbgrader": {
     "grade": true,
     "grade_id": "cell-ec841bfa442874f5",
     "locked": true,
     "points": 1,
     "schema_version": 3,
     "solution": false,
     "task": false
    }
   },
   "outputs": [],
   "source": [
    "# 1 Mark\n",
    "assert(q2id_answer == question2id())\n",
    "print('test case passed!')"
   ]
  },
  {
   "cell_type": "markdown",
   "id": "virgin-register",
   "metadata": {
    "nbgrader": {
     "grade": false,
     "grade_id": "cell-5d4ffe8b3b8a91f9",
     "locked": true,
     "schema_version": 3,
     "solution": false,
     "task": false
    }
   },
   "source": [
    "The `simplify` subsubmodule of the `simplify` submodule of SymPy has a specialised function called `nthroot`, which attempts to compute a real $n$th root of a sum of surds; you can test it by typing, for example,\n",
    "\n",
    "```python\n",
    "from sympy.simplify.simplify import nthroot\n",
    "nthroot(-25+22*sp.sqrt(2), 3)\n",
    "```\n",
    "\n",
    "which should deliver a simple expression for the real cube root of $-25+22\\,\\sqrt{2}$.\n",
    "\n",
    "(e) Use this function instead of raising to fractional powers in order to calculate, for $p=3$ and $q=18$, the exact value of\n",
    "$$x=\\left(\\frac{q}{2}+\\sqrt{\\left[\\frac{q}{2}\\right]^2-\\left[\\frac{p}{3}\\right]^3}\\right)^{1/3}+\\left(\\frac{q}{2}-\\sqrt{\\left[\\frac{q}{2}\\right]^2-\\left[\\frac{p}{3}\\right]^3}\\right)^{1/3}.$$"
   ]
  },
  {
   "cell_type": "code",
   "execution_count": 50,
   "id": "appropriate-softball",
   "metadata": {
    "nbgrader": {
     "grade": false,
     "grade_id": "cell-b93cdde30dc5adaa",
     "locked": false,
     "schema_version": 3,
     "solution": true,
     "task": false
    }
   },
   "outputs": [
    {
     "data": {
      "image/png": "[encoded data removed]",
      "text/latex": [
       "$\\displaystyle \\left( 3, \\  27, \\  27\\right)$"
      ],
      "text/plain": [
       "(3, 27, 27)"
      ]
     },
     "execution_count": 50,
     "metadata": {},
     "output_type": "execute_result"
    }
   ],
   "source": [
    "### BEGIN SOLUTION\n",
    "from sympy.simplify.simplify import nthroot\n",
    "\n",
    "p = sp.Integer(3)\n",
    "q = sp.Integer(18)\n",
    "\n",
    "x = nthroot(q/2 + sp.sqrt((q/2)**2-(p/3)**3),3) + nthroot(q/2 - sp.sqrt((q/2)**2-(p/3)**3),3)\n",
    "### END SOLUTION\n",
    "\n",
    "(x, x**3, p*x+q)"
   ]
  },
  {
   "cell_type": "code",
   "execution_count": null,
   "id": "acting-carry",
   "metadata": {
    "nbgrader": {
     "grade": true,
     "grade_id": "cell-0864f75752234de0",
     "locked": true,
     "points": 1,
     "schema_version": 3,
     "solution": false,
     "task": false
    }
   },
   "outputs": [],
   "source": [
    "# 1 Mark\n",
    "# Do not try to delete this cell\n",
    "# Run this cell for grading\n",
    "_globals = globals()\n",
    "question2ie(_globals)"
   ]
  },
  {
   "cell_type": "markdown",
   "id": "increasing-hollow",
   "metadata": {
    "nbgrader": {
     "grade": false,
     "grade_id": "cell-219d4091fea71477",
     "locked": true,
     "schema_version": 3,
     "solution": false,
     "task": false
    }
   },
   "source": [
    "(f) Investigate the case $p=6$, $q=4$, for which the cubic has three real roots. Which of the following is true?\n",
    "\n",
    "<ol>\n",
    "    <li>Cardano's method, used in this way with rational powers, finds none of the real roots.</li>\n",
    "    <li>Cardano's method, used in this way with rational powers, finds just one of the real roots, in a nicely simplified form.</li>\n",
    "    <li>Cardano's method, used in this way with rational powers, finds just one of the real roots, in an unhelpful form; it can be found in a nicely simplified form by using <code>nthroot</code> instead.</li>\n",
    "    <li>Cardano's method, used in this way with either rational powers or <code>nthroot</code>, finds just one of the real roots, in an unhelpful form; it can be found in a nicely simplified form by using <code>expand</code> with the keyword argument <code>complex</code> set to <code>True</code>.</li>\n",
    "</ol>"
   ]
  },
  {
   "cell_type": "code",
   "execution_count": 53,
   "id": "generic-cotton",
   "metadata": {
    "nbgrader": {
     "grade": false,
     "grade_id": "cell-80798a6234dd0146",
     "locked": false,
     "schema_version": 3,
     "solution": true,
     "task": false
    }
   },
   "outputs": [
    {
     "data": {
      "image/png": "[encoded data removed]",
      "text/latex": [
       "$\\displaystyle \\left( 1 + \\sqrt{3}, \\  10 + 6 \\sqrt{3}, \\  10 + 6 \\sqrt{3}\\right)$"
      ],
      "text/plain": [
       "(1 + √3, 10 + 6⋅√3, 10 + 6⋅√3)"
      ]
     },
     "execution_count": 53,
     "metadata": {},
     "output_type": "execute_result"
    }
   ],
   "source": [
    "### BEGIN SOLUTION\n",
    "import sympy as sp\n",
    "\n",
    "p = sp.Integer(6)\n",
    "q = sp.Integer(4)\n",
    "\n",
    "#x = (nthroot(q/2 + sp.sqrt((q/2)**2-(p/3)**3),3) + nthroot(q/2 - sp.sqrt((q/2)**2-(p/3)**3),3))#.expand(complex=True)\n",
    "x = ((q/2 + sp.sqrt((q/2)**2-(p/3)**3))**sp.Rational(1,3) + (q/2 - sp.sqrt((q/2)**2-(p/3)**3))**sp.Rational(1,3)).expand(complex=True)\n",
    "### END SOLUTION\n",
    "\n",
    "(x,(x**3).expand(), p*x+q)"
   ]
  },
  {
   "cell_type": "code",
   "execution_count": null,
   "id": "biological-cheat",
   "metadata": {
    "nbgrader": {
     "grade": false,
     "grade_id": "cell-ba67312ebdc82ed6",
     "locked": false,
     "schema_version": 3,
     "solution": true,
     "task": false
    }
   },
   "outputs": [],
   "source": [
    "### BEGIN SOLUTION\n",
    "q2if_answer = 4\n",
    "### END SOLUTION\n",
    "\n",
    "q2if_answer = # insert one of 1, 2, 3, 4"
   ]
  },
  {
   "cell_type": "code",
   "execution_count": null,
   "id": "associate-victorian",
   "metadata": {
    "nbgrader": {
     "grade": true,
     "grade_id": "cell-2e05b4aa4b216e78",
     "locked": true,
     "points": 1,
     "schema_version": 3,
     "solution": false,
     "task": false
    }
   },
   "outputs": [],
   "source": [
    "# 1 Mark\n",
    "assert(q2if_answer == question2if())\n",
    "print('test case passed!')"
   ]
  },
  {
   "cell_type": "markdown",
   "id": "growing-endorsement",
   "metadata": {
    "nbgrader": {
     "grade": false,
     "grade_id": "cell-928318ae2882c590",
     "locked": true,
     "schema_version": 3,
     "solution": false,
     "task": false
    }
   },
   "source": [
    "## Question 2 (ii)\n",
    "\n",
    "Every real number $x$ can be expressed as a unique <b>continued fraction</b>,\n",
    "\n",
    "$$x = a_1 + \\frac{1}{a_2+\\frac{1}{a_3+\\frac{1}{a_4+\\dots}}}$$\n",
    "\n",
    "We can represent this by the sequence\n",
    "\n",
    "$$a_1, a_2, a_3, a_4, \\dots$$\n",
    "\n",
    "If $x$ is rational then this sequence is finite; otherwise it is infinite.\n",
    "\n",
    "The following function is for calculating continued fractions of positive real numbers, truncating if necessary after the sequence attains length `n`:"
   ]
  },
  {
   "cell_type": "code",
   "execution_count": 2,
   "id": "portable-paraguay",
   "metadata": {
    "nbgrader": {
     "grade": false,
     "grade_id": "cell-163f933ca5931f16",
     "locked": true,
     "schema_version": 3,
     "solution": false,
     "task": false
    }
   },
   "outputs": [],
   "source": [
    "def continued_fraction(x, n):\n",
    "    \"\"\"\n",
    "    Calculates the continued fraction of x up to a maximum of n terms\n",
    "    \"\"\"\n",
    "    # initialize cf\n",
    "    cf = []\n",
    "    \n",
    "    # for loop\n",
    "    for i in range(n):\n",
    "        # integer part of x\n",
    "        intx = int(x)\n",
    "        \n",
    "        # append to cf\n",
    "        cf.append(intx)\n",
    "        \n",
    "        # if already exact fraction, return and stop\n",
    "        if x == intx:\n",
    "            return cf\n",
    "        \n",
    "        # update x\n",
    "        x = 1/(x-intx)\n",
    "        \n",
    "    return cf"
   ]
  },
  {
   "cell_type": "markdown",
   "id": "mechanical-richmond",
   "metadata": {
    "nbgrader": {
     "grade": false,
     "grade_id": "cell-1a7958c80af7c5f0",
     "locked": true,
     "schema_version": 3,
     "solution": false,
     "task": false
    }
   },
   "source": [
    "(a) Calculate continued fractions for the SymPy values of $\\pi$, $\\sqrt{2}$, $\\phi=(1+\\sqrt{5})/2$ and $22/7$ (as a Rational) with `n` set to 10. Call these, respectively, `pi_cf`, `sqrt2_cf`, `phi_cf` and `rat_cf`."
   ]
  },
  {
   "cell_type": "code",
   "execution_count": 3,
   "id": "pharmaceutical-imperial",
   "metadata": {
    "nbgrader": {
     "grade": false,
     "grade_id": "cell-1c236919c7c27450",
     "locked": false,
     "schema_version": 3,
     "solution": true,
     "task": false
    }
   },
   "outputs": [
    {
     "name": "stdout",
     "output_type": "stream",
     "text": [
      "[3, 7, 15, 1, 292, 1, 1, 1, 2, 1]\n",
      "[1, 2, 2, 2, 2, 2, 2, 2, 2, 2]\n",
      "[1, 1, 1, 1, 1, 1, 1, 1, 1, 1]\n",
      "[3, 7]\n"
     ]
    }
   ],
   "source": [
    "### BEGIN SOLUTION\n",
    "pi_cf = continued_fraction(sp.pi, 10)\n",
    "sqrt2_cf = continued_fraction(sp.sqrt(2), 10)\n",
    "phi_cf = continued_fraction((1+sp.sqrt(5))/2, 10)\n",
    "rat_cf = continued_fraction(sp.Rational(22,7), 10)\n",
    "### END SOLUTION\n",
    "\n",
    "print(pi_cf)\n",
    "print(sqrt2_cf)\n",
    "print(phi_cf)\n",
    "print(rat_cf)"
   ]
  },
  {
   "cell_type": "code",
   "execution_count": 4,
   "id": "intimate-international",
   "metadata": {
    "nbgrader": {
     "grade": true,
     "grade_id": "cell-1b35f93bb54360b5",
     "locked": true,
     "points": 4,
     "schema_version": 3,
     "solution": false,
     "task": false
    }
   },
   "outputs": [
    {
     "name": "stdout",
     "output_type": "stream",
     "text": [
      "The value of pi_cf is correct\n",
      "\n",
      "The value of sqrt2_cf is correct\n",
      "\n",
      "The value of phi_cf is correct\n",
      "\n",
      "The value of rat_cf is correct\n",
      "\n",
      "4 out of 4\n"
     ]
    },
    {
     "data": {
      "image/png": "[encoded data removed]",
      "text/latex": [
       "$\\displaystyle 4$"
      ],
      "text/plain": [
       "4"
      ]
     },
     "execution_count": 4,
     "metadata": {},
     "output_type": "execute_result"
    }
   ],
   "source": [
    "# 4 Marks\n",
    "# Do not try to delete this cell\n",
    "# Run this cell for grading\n",
    "_globals = globals()\n",
    "question2iia(_globals)"
   ]
  },
  {
   "cell_type": "markdown",
   "id": "congressional-syndicate",
   "metadata": {
    "nbgrader": {
     "grade": false,
     "grade_id": "cell-d7e6b5c750b2a570",
     "locked": true,
     "schema_version": 3,
     "solution": false,
     "task": false
    }
   },
   "source": [
    "(b) Calculate continued fractions for the SymPy, NumPy and `math` values of $\\pi$, with `n` set to 50. Which of the following is true?\n",
    "\n",
    "<ol>\n",
    "    <li>All three values of $\\pi$ give the same continued fraction.</li>\n",
    "    <li>One of the three values of $\\pi$ gives a different continued fraction from the others, and this is the most reliable.</li>\n",
    "    <li>One of the three values of $\\pi$ gives a different continued fraction from the others, and this is the least reliable.</li>\n",
    "</ol>"
   ]
  },
  {
   "cell_type": "code",
   "execution_count": 5,
   "id": "desirable-spirituality",
   "metadata": {
    "nbgrader": {
     "grade": false,
     "grade_id": "cell-0b9c39fec595a7f3",
     "locked": false,
     "schema_version": 3,
     "solution": true,
     "task": false
    }
   },
   "outputs": [
    {
     "ename": "SyntaxError",
     "evalue": "invalid syntax (<ipython-input-5-28b33ff1fd9f>, line 9)",
     "output_type": "error",
     "traceback": [
      "\u001b[1;36m  File \u001b[1;32m\"<ipython-input-5-28b33ff1fd9f>\"\u001b[1;36m, line \u001b[1;32m9\u001b[0m\n\u001b[1;33m    q2iib_answer = # insert one of 1, 2 or 3\u001b[0m\n\u001b[1;37m                   ^\u001b[0m\n\u001b[1;31mSyntaxError\u001b[0m\u001b[1;31m:\u001b[0m invalid syntax\n"
     ]
    }
   ],
   "source": [
    "### BEGIN SOLUTION\n",
    "print(continued_fraction(sp.pi, 50))\n",
    "print(continued_fraction(np.pi, 50))\n",
    "print(continued_fraction(math.pi, 50))\n",
    "\n",
    "q2iib_answer = 2\n",
    "### END SOLUTION\n",
    "\n",
    "q2iib_answer = # insert one of 1, 2 or 3"
   ]
  },
  {
   "cell_type": "code",
   "execution_count": null,
   "id": "martial-click",
   "metadata": {
    "nbgrader": {
     "grade": true,
     "grade_id": "cell-a9212ce720886bce",
     "locked": true,
     "points": 1,
     "schema_version": 3,
     "solution": false,
     "task": false
    }
   },
   "outputs": [],
   "source": [
    "# 1 Mark\n",
    "assert(q2iib_answer == question2iib())\n",
    "print('test case passed!')"
   ]
  },
  {
   "cell_type": "markdown",
   "id": "provincial-height",
   "metadata": {
    "nbgrader": {
     "grade": false,
     "grade_id": "cell-5ab41af688ebcc1b",
     "locked": true,
     "schema_version": 3,
     "solution": false,
     "task": false
    }
   },
   "source": [
    "(c) Write and test a function called `from_continued_fraction`, which takes as its single argument a list of positive ints `[a1, a2, a3,  ..., an]` and returns, as a SymPy rational, the value of \n",
    "\n",
    "$$x = a_1 + \\frac{1}{a_1+\\frac{1}{a_2+\\frac{1}{a_3+\\dots}}}$$\n",
    "\n",
    "up to $a_n$."
   ]
  },
  {
   "cell_type": "code",
   "execution_count": 6,
   "id": "perfect-dinner",
   "metadata": {
    "nbgrader": {
     "grade": false,
     "grade_id": "cell-416fbeb88a921ee4",
     "locked": false,
     "schema_version": 3,
     "solution": true,
     "task": false
    }
   },
   "outputs": [],
   "source": [
    "def from_continued_fraction(cf):\n",
    "    ### BEGIN SOLUTION\n",
    "    \"\"\"\n",
    "    Given a truncated continued fraction, returns the number as a SymPy rational\n",
    "    \"\"\"\n",
    "    # import Rational\n",
    "    from sympy import Rational\n",
    "    \n",
    "    # base case\n",
    "    if len(cf) == 1:\n",
    "        return cf[0]\n",
    "    \n",
    "    # recursion step\n",
    "    else:\n",
    "        return cf.pop(0) + Rational(1,from_continued_fraction(cf))\n",
    "    ### END SOLUTION"
   ]
  },
  {
   "cell_type": "code",
   "execution_count": 7,
   "id": "hairy-chaos",
   "metadata": {
    "nbgrader": {
     "grade": true,
     "grade_id": "cell-28fb6cdd3c5afffb",
     "locked": true,
     "points": 5,
     "schema_version": 3,
     "solution": false,
     "task": false
    }
   },
   "outputs": [
    {
     "name": "stdout",
     "output_type": "stream",
     "text": [
      "from_continued_fraction([3, 7, 15, 1, 292, 1, 1, 1, 2, 1]) gives correct output\n",
      "\n",
      "from_continued_fraction([1, 2, 2, 2, 2, 2, 2, 2, 2, 2]) gives correct output\n",
      "\n",
      "from_continued_fraction([1, 1, 1, 1, 1, 1, 1, 1, 1, 1]) gives correct output\n",
      "\n",
      "from_continued_fraction([3, 7]) gives correct output\n",
      "\n",
      "This function seems to have a docstring\n",
      "\n",
      "5 out of 5\n"
     ]
    },
    {
     "data": {
      "image/png": "[encoded data removed]",
      "text/latex": [
       "$\\displaystyle 5$"
      ],
      "text/plain": [
       "5"
      ]
     },
     "execution_count": 7,
     "metadata": {},
     "output_type": "execute_result"
    }
   ],
   "source": [
    "# 5 Marks\n",
    "# Do not try to delete this cell\n",
    "# Run this cell for grading\n",
    "_globals = globals()\n",
    "question2iic(_globals)"
   ]
  },
  {
   "cell_type": "markdown",
   "id": "jewish-highway",
   "metadata": {
    "nbgrader": {
     "grade": false,
     "grade_id": "cell-ff53b0fb77d4d8c8",
     "locked": true,
     "schema_version": 3,
     "solution": false,
     "task": false
    }
   },
   "source": [
    "(d) Write and test a function called `rational_sequence`, which takes as its arguments a number $x$ and a positive int $n$, and returns a list of successive rational approximations to $x$ obtained by successive truncations of $x$'s continued fraction. \n",
    "\n",
    "As a test\n",
    "\n",
    "```python\n",
    "rational_sequence(sp.sqrt(2), 5)\n",
    "```\n",
    "\n",
    "should return `[1, 3/2, 7/5, 17/12, 41/29]`."
   ]
  },
  {
   "cell_type": "code",
   "execution_count": 61,
   "id": "sonic-municipality",
   "metadata": {
    "nbgrader": {
     "grade": false,
     "grade_id": "cell-5c5f3f1391268a52",
     "locked": false,
     "schema_version": 3,
     "solution": true,
     "task": false
    }
   },
   "outputs": [],
   "source": [
    "def rational_sequence(x, n):\n",
    "    ### BEGIN SOLUTION\n",
    "    cf = continued_fraction(x, n)\n",
    "    return [from_continued_fraction(cf[0:r+1]) for r in range(len(cf))]\n",
    "    ### END SOLUTION"
   ]
  },
  {
   "cell_type": "code",
   "execution_count": 62,
   "id": "peripheral-quarterly",
   "metadata": {
    "nbgrader": {
     "grade": true,
     "grade_id": "cell-1078a527f92575d0",
     "locked": true,
     "points": 5,
     "schema_version": 3,
     "solution": false,
     "task": false
    }
   },
   "outputs": [
    {
     "name": "stdout",
     "output_type": "stream",
     "text": [
      "rational_sequence(sp.pi, 5) gives correct output\n",
      "\n",
      "rational_sequence((1+sp.sqrt(5))/2,5) gives correct output\n",
      "\n",
      "rational_sequence(sp.sqrt(2), 1) gives correct output\n",
      "\n",
      "rational_sequence(sp.Rational(22,7),2) gives correct output\n",
      "\n",
      "rational_sequence(sp.Rational(22,7),5) gives correct output\n",
      "\n",
      "5 out of 5\n"
     ]
    },
    {
     "data": {
      "image/png": "[encoded data removed]",
      "text/latex": [
       "$\\displaystyle 5$"
      ],
      "text/plain": [
       "5"
      ]
     },
     "execution_count": 62,
     "metadata": {},
     "output_type": "execute_result"
    }
   ],
   "source": [
    "# 5 Marks\n",
    "# Do not try to delete this cell\n",
    "# Run this cell for grading\n",
    "_globals = globals()\n",
    "question2iid(_globals)"
   ]
  },
  {
   "cell_type": "markdown",
   "id": "demographic-parliament",
   "metadata": {
    "nbgrader": {
     "grade": false,
     "grade_id": "cell-461fe39d7a80fbd6",
     "locked": true,
     "schema_version": 3,
     "solution": false,
     "task": false
    }
   },
   "source": [
    "(e) Plot, on the same pair of axes, the convergence of the rational sequences for the SymPy values of $\\pi$, $\\sqrt{2}$ and $\\phi = (1+\\sqrt{5})/2$, each with $n=10$. Autograding won't help here!"
   ]
  },
  {
   "cell_type": "code",
   "execution_count": 63,
   "id": "common-coalition",
   "metadata": {
    "nbgrader": {
     "grade": false,
     "grade_id": "cell-cfeea56da0c4037f",
     "locked": false,
     "schema_version": 3,
     "solution": true,
     "task": false
    }
   },
   "outputs": [
    {
     "data": {
      "text/plain": [
       "[<matplotlib.lines.Line2D at 0x1697a54eb20>]"
      ]
     },
     "execution_count": 63,
     "metadata": {},
     "output_type": "execute_result"
    },
    {
     "data": {
      "image/png": "[encoded data removed]",
      "text/plain": [
       "<Figure size 432x288 with 1 Axes>"
      ]
     },
     "metadata": {
      "needs_background": "light"
     },
     "output_type": "display_data"
    }
   ],
   "source": [
    "### BEGIN SOLUTION\n",
    "plt.plot(range(10),rational_sequence(sp.pi,10))\n",
    "plt.plot(range(10),rational_sequence(sp.sqrt(2),10))\n",
    "plt.plot(range(10),rational_sequence((1+sp.sqrt(5))/2,10))\n",
    "### END SOLUTION"
   ]
  },
  {
   "cell_type": "markdown",
   "id": "finished-representation",
   "metadata": {
    "nbgrader": {
     "grade": false,
     "grade_id": "cell-3a61f2e9436de4be",
     "locked": true,
     "schema_version": 3,
     "solution": false,
     "task": false
    }
   },
   "source": [
    "## Question 3\n",
    "\n",
    "(a) Set up `x` as a SymPy symbol."
   ]
  },
  {
   "cell_type": "code",
   "execution_count": 64,
   "id": "universal-armstrong",
   "metadata": {
    "nbgrader": {
     "grade": false,
     "grade_id": "cell-d26d2a7d86dbf401",
     "locked": false,
     "schema_version": 3,
     "solution": true,
     "task": false
    }
   },
   "outputs": [],
   "source": [
    "### BEGIN SOLUTION\n",
    "x = sp.symbols('x')\n",
    "### END SOLUTION"
   ]
  },
  {
   "cell_type": "code",
   "execution_count": 65,
   "id": "attractive-boulder",
   "metadata": {
    "nbgrader": {
     "grade": true,
     "grade_id": "cell-ddd3903fba829355",
     "locked": true,
     "points": 1,
     "schema_version": 3,
     "solution": false,
     "task": false
    }
   },
   "outputs": [
    {
     "name": "stdout",
     "output_type": "stream",
     "text": [
      "The symbol x is defined correctly\n",
      "Test passed!\n"
     ]
    },
    {
     "data": {
      "image/png": "[encoded data removed]",
      "text/latex": [
       "$\\displaystyle 1$"
      ],
      "text/plain": [
       "1"
      ]
     },
     "execution_count": 65,
     "metadata": {},
     "output_type": "execute_result"
    }
   ],
   "source": [
    "# 1 Mark\n",
    "# Do not try to delete this cell\n",
    "# Run this cell for grading\n",
    "_globals = globals()\n",
    "question3a(_globals)"
   ]
  },
  {
   "cell_type": "markdown",
   "id": "chronic-impression",
   "metadata": {
    "nbgrader": {
     "grade": false,
     "grade_id": "cell-1c1515a2f10aa955",
     "locked": true,
     "schema_version": 3,
     "solution": false,
     "task": false
    }
   },
   "source": [
    "(b) Define `y` as the symbolic polynomial expression $x^4-8 x^3+26 x^2-40 x+21$."
   ]
  },
  {
   "cell_type": "code",
   "execution_count": 66,
   "id": "medieval-embassy",
   "metadata": {
    "nbgrader": {
     "grade": false,
     "grade_id": "cell-48fc6f85ba0fdd3d",
     "locked": false,
     "schema_version": 3,
     "solution": true,
     "task": false
    }
   },
   "outputs": [
    {
     "data": {
      "image/png": "[encoded data removed]",
      "text/latex": [
       "$\\displaystyle x^{4} - 8 x^{3} + 26 x^{2} - 40 x + 21$"
      ],
      "text/plain": [
       " 4      3       2            \n",
       "x  - 8⋅x  + 26⋅x  - 40⋅x + 21"
      ]
     },
     "execution_count": 66,
     "metadata": {},
     "output_type": "execute_result"
    }
   ],
   "source": [
    "### BEGIN SOLUTION\n",
    "y = x**4-8*x**3+26*x**2-40*x+21\n",
    "### END SOLUTION\n",
    "\n",
    "y"
   ]
  },
  {
   "cell_type": "code",
   "execution_count": 67,
   "id": "center-mounting",
   "metadata": {
    "nbgrader": {
     "grade": true,
     "grade_id": "cell-47e77a00fdfd379f",
     "locked": true,
     "points": 1,
     "schema_version": 3,
     "solution": false,
     "task": false
    }
   },
   "outputs": [
    {
     "name": "stdout",
     "output_type": "stream",
     "text": [
      "The symbol y is defined correctly\n",
      "Test passed!\n"
     ]
    },
    {
     "data": {
      "image/png": "[encoded data removed]",
      "text/latex": [
       "$\\displaystyle 1$"
      ],
      "text/plain": [
       "1"
      ]
     },
     "execution_count": 67,
     "metadata": {},
     "output_type": "execute_result"
    }
   ],
   "source": [
    "# 1 Mark\n",
    "# Do not try to delete this cell\n",
    "# Run this cell for grading\n",
    "_globals = globals()\n",
    "question3b(_globals)"
   ]
  },
  {
   "cell_type": "markdown",
   "id": "thorough-hospital",
   "metadata": {
    "nbgrader": {
     "grade": false,
     "grade_id": "cell-638bd70f968f1b54",
     "locked": true,
     "schema_version": 3,
     "solution": false,
     "task": false
    }
   },
   "source": [
    "(c) Use the `plot` function from `sympy.plotting` to plot `y` for values of `x` between $-1$ and $5$. Autograding won't help here!"
   ]
  },
  {
   "cell_type": "code",
   "execution_count": 68,
   "id": "figured-serve",
   "metadata": {
    "nbgrader": {
     "grade": false,
     "grade_id": "cell-1ca2aac4b9b0effc",
     "locked": false,
     "schema_version": 3,
     "solution": true,
     "task": false
    }
   },
   "outputs": [
    {
     "data": {
      "image/png": "[encoded data removed]",
      "text/plain": [
       "<Figure size 432x288 with 1 Axes>"
      ]
     },
     "metadata": {
      "needs_background": "light"
     },
     "output_type": "display_data"
    },
    {
     "data": {
      "text/plain": [
       "<sympy.plotting.plot.Plot at 0x1697aaec280>"
      ]
     },
     "execution_count": 68,
     "metadata": {},
     "output_type": "execute_result"
    }
   ],
   "source": [
    "### BEGIN SOLUTION\n",
    "splt.plot(y, (x,-1,5))\n",
    "### END SOLUTION"
   ]
  },
  {
   "cell_type": "markdown",
   "id": "fresh-failing",
   "metadata": {
    "nbgrader": {
     "grade": false,
     "grade_id": "cell-214d0345f501c936",
     "locked": true,
     "schema_version": 3,
     "solution": false,
     "task": false
    }
   },
   "source": [
    "(d) Using `solve`, find the zeros of `y` as SymPy quantities, as `y_zeros`."
   ]
  },
  {
   "cell_type": "code",
   "execution_count": 69,
   "id": "standing-marijuana",
   "metadata": {
    "nbgrader": {
     "grade": false,
     "grade_id": "cell-1c2b3dd4b6821228",
     "locked": false,
     "schema_version": 3,
     "solution": true,
     "task": false
    }
   },
   "outputs": [
    {
     "data": {
      "image/png": "[encoded data removed]",
      "text/latex": [
       "$\\displaystyle \\left[ 1, \\  3, \\  2 - \\sqrt{3} i, \\  2 + \\sqrt{3} i\\right]$"
      ],
      "text/plain": [
       "[1, 3, 2 - √3⋅ⅈ, 2 + √3⋅ⅈ]"
      ]
     },
     "execution_count": 69,
     "metadata": {},
     "output_type": "execute_result"
    }
   ],
   "source": [
    "### BEGIN SOLUTION\n",
    "y_zeros = sp.solve(sp.Eq(y,0))\n",
    "### END SOLUTION\n",
    "\n",
    "y_zeros"
   ]
  },
  {
   "cell_type": "code",
   "execution_count": 70,
   "id": "colonial-alpha",
   "metadata": {
    "nbgrader": {
     "grade": true,
     "grade_id": "cell-117dc8f5c6abb617",
     "locked": true,
     "points": 0,
     "schema_version": 3,
     "solution": false,
     "task": false
    }
   },
   "outputs": [
    {
     "name": "stdout",
     "output_type": "stream",
     "text": [
      "The list y_zeros is defined correctly\n",
      "Test passed!\n"
     ]
    },
    {
     "data": {
      "image/png": "[encoded data removed]",
      "text/latex": [
       "$\\displaystyle 1$"
      ],
      "text/plain": [
       "1"
      ]
     },
     "execution_count": 70,
     "metadata": {},
     "output_type": "execute_result"
    }
   ],
   "source": [
    "# 1 Mark\n",
    "# Do not try to delete this cell\n",
    "# Run this cell for grading\n",
    "_globals = globals()\n",
    "question3d(_globals)"
   ]
  },
  {
   "cell_type": "markdown",
   "id": "brown-movie",
   "metadata": {
    "nbgrader": {
     "grade": false,
     "grade_id": "cell-c7d54f265e090d71",
     "locked": true,
     "schema_version": 3,
     "solution": false,
     "task": false
    }
   },
   "source": [
    "(e) Using a filter comprehension, find the <em>real</em> zeros of `y`, as `y_zeros_real`."
   ]
  },
  {
   "cell_type": "code",
   "execution_count": 71,
   "id": "employed-seattle",
   "metadata": {
    "nbgrader": {
     "grade": false,
     "grade_id": "cell-26860771b53c51d7",
     "locked": false,
     "schema_version": 3,
     "solution": true,
     "task": false
    }
   },
   "outputs": [
    {
     "data": {
      "image/png": "[encoded data removed]",
      "text/latex": [
       "$\\displaystyle \\left[ 1, \\  3\\right]$"
      ],
      "text/plain": [
       "[1, 3]"
      ]
     },
     "execution_count": 71,
     "metadata": {},
     "output_type": "execute_result"
    }
   ],
   "source": [
    "### BEGIN SOLUTION\n",
    "y_zeros_real = [x for x in y_zeros if sp.im(x)==0]\n",
    "### END SOLUTION\n",
    "\n",
    "y_zeros_real"
   ]
  },
  {
   "cell_type": "code",
   "execution_count": 72,
   "id": "fitting-there",
   "metadata": {
    "nbgrader": {
     "grade": true,
     "grade_id": "cell-081d5faaf8f4a044",
     "locked": true,
     "points": 1,
     "schema_version": 3,
     "solution": false,
     "task": false
    }
   },
   "outputs": [
    {
     "name": "stdout",
     "output_type": "stream",
     "text": [
      "The list y_zeros_real is defined correctly\n",
      "Test passed!\n"
     ]
    },
    {
     "data": {
      "image/png": "[encoded data removed]",
      "text/latex": [
       "$\\displaystyle 1$"
      ],
      "text/plain": [
       "1"
      ]
     },
     "execution_count": 72,
     "metadata": {},
     "output_type": "execute_result"
    }
   ],
   "source": [
    "# 1 Mark\n",
    "# Do not try to delete this cell\n",
    "# Run this cell for grading\n",
    "_globals = globals()\n",
    "question3e(_globals)"
   ]
  },
  {
   "cell_type": "markdown",
   "id": "sharp-infrastructure",
   "metadata": {
    "nbgrader": {
     "grade": false,
     "grade_id": "cell-d0af01e16d52200e",
     "locked": true,
     "schema_version": 3,
     "solution": false,
     "task": false
    }
   },
   "source": [
    "(f) Using `lambdify`, create and test a function called `yfunc`, compatible with NumPy arrays, that maps `x` to $x^4-8 x^3+26 x^2-40 x+21$."
   ]
  },
  {
   "cell_type": "code",
   "execution_count": 73,
   "id": "abstract-classic",
   "metadata": {
    "nbgrader": {
     "grade": false,
     "grade_id": "cell-9d7ea7bb4d5afca6",
     "locked": false,
     "schema_version": 3,
     "solution": true,
     "task": false
    }
   },
   "outputs": [
    {
     "data": {
      "text/plain": [
       "<function _lambdifygenerated(x)>"
      ]
     },
     "execution_count": 73,
     "metadata": {},
     "output_type": "execute_result"
    }
   ],
   "source": [
    "### BEGIN SOLUTION\n",
    "yfunc = sp.lambdify(x, y, 'numpy')\n",
    "### END SOLUTION\n",
    "\n",
    "yfunc"
   ]
  },
  {
   "cell_type": "code",
   "execution_count": 74,
   "id": "respected-carry",
   "metadata": {
    "nbgrader": {
     "grade": true,
     "grade_id": "cell-dc4e4daa4fa507d4",
     "locked": true,
     "points": 2,
     "schema_version": 3,
     "solution": false,
     "task": false
    }
   },
   "outputs": [
    {
     "name": "stdout",
     "output_type": "stream",
     "text": [
      "The function yfunc seems to work on a typical float\n",
      "The function yfunc seems to work on a typical array of floats\n",
      "2 out of 2\n"
     ]
    },
    {
     "data": {
      "image/png": "[encoded data removed]",
      "text/latex": [
       "$\\displaystyle 2$"
      ],
      "text/plain": [
       "2"
      ]
     },
     "execution_count": 74,
     "metadata": {},
     "output_type": "execute_result"
    }
   ],
   "source": [
    "# 2 Marks\n",
    "# Do not try to delete this cell\n",
    "# Run this cell for grading\n",
    "_globals = globals()\n",
    "question3f(_globals)"
   ]
  },
  {
   "cell_type": "markdown",
   "id": "dimensional-front",
   "metadata": {
    "nbgrader": {
     "grade": false,
     "grade_id": "cell-28d47df7dd8e06b4",
     "locked": true,
     "schema_version": 3,
     "solution": false,
     "task": false
    }
   },
   "source": [
    "(g) Hence, create a plot of `y` against `x`, for values of `x` between $-1$ and $5$, that uses only the `plot` function from `matplotlib.pyplot`. Autograding won't help here!"
   ]
  },
  {
   "cell_type": "code",
   "execution_count": 75,
   "id": "reported-style",
   "metadata": {
    "nbgrader": {
     "grade": false,
     "grade_id": "cell-4896b9b9d19945a8",
     "locked": false,
     "schema_version": 3,
     "solution": true,
     "task": false
    }
   },
   "outputs": [
    {
     "data": {
      "text/plain": [
       "[<matplotlib.lines.Line2D at 0x1697ab8b610>]"
      ]
     },
     "execution_count": 75,
     "metadata": {},
     "output_type": "execute_result"
    },
    {
     "data": {
      "image/png": "[encoded data removed]",
      "text/plain": [
       "<Figure size 432x288 with 1 Axes>"
      ]
     },
     "metadata": {
      "needs_background": "light"
     },
     "output_type": "display_data"
    }
   ],
   "source": [
    "### BEGIN SOLUTION\n",
    "xvals = np.linspace(-1.0, 5.0, 101)\n",
    "yvals = yfunc(xvals)\n",
    "\n",
    "plt.plot(xvals, yvals)\n",
    "### END SOLUTION"
   ]
  },
  {
   "cell_type": "markdown",
   "id": "artistic-nerve",
   "metadata": {
    "nbgrader": {
     "grade": false,
     "grade_id": "cell-eed3dac69399ccb4",
     "locked": true,
     "schema_version": 3,
     "solution": false,
     "task": false
    }
   },
   "source": [
    "(h) Create a plot of `y` showing the real zeros as big red dots. Include lines for the horizontal and vertical axes. Autograding won't help here!"
   ]
  },
  {
   "cell_type": "code",
   "execution_count": 76,
   "id": "announced-makeup",
   "metadata": {
    "nbgrader": {
     "grade": false,
     "grade_id": "cell-6d7e0c37b16ef8d1",
     "locked": false,
     "schema_version": 3,
     "solution": true,
     "task": false
    }
   },
   "outputs": [
    {
     "data": {
      "text/plain": [
       "<matplotlib.lines.Line2D at 0x1697aba6fa0>"
      ]
     },
     "execution_count": 76,
     "metadata": {},
     "output_type": "execute_result"
    },
    {
     "data": {
      "image/png": "[encoded data removed]",
      "text/plain": [
       "<Figure size 432x288 with 1 Axes>"
      ]
     },
     "metadata": {
      "needs_background": "light"
     },
     "output_type": "display_data"
    }
   ],
   "source": [
    "### BEGIN SOLUTION\n",
    "plt.plot(xvals, yvals)\n",
    "plt.plot(y_zeros_real, [0,0], 'r.', markersize=10)\n",
    "plt.axhline(y=0, color='k')\n",
    "plt.axvline(x=0, color='k')\n",
    "### END SOLUTION"
   ]
  },
  {
   "cell_type": "markdown",
   "id": "handmade-holocaust",
   "metadata": {
    "nbgrader": {
     "grade": false,
     "grade_id": "cell-8974312a513fa5da",
     "locked": true,
     "schema_version": 3,
     "solution": false,
     "task": false
    }
   },
   "source": [
    "(j) Using `diff` and `solve`, find, as a Python list, the $x$-coordinates `x_stat` of the stationary points of `y`, and filter to find the ones that are real, `x_stat_real`. Finally, find, as a Python list, the associated $y$-coordinates, `y_stat_real`."
   ]
  },
  {
   "cell_type": "code",
   "execution_count": 77,
   "id": "integral-african",
   "metadata": {
    "nbgrader": {
     "grade": false,
     "grade_id": "cell-0da9684fd0e8fe24",
     "locked": false,
     "schema_version": 3,
     "solution": true,
     "task": false
    }
   },
   "outputs": [
    {
     "name": "stdout",
     "output_type": "stream",
     "text": [
      "([2, 2 - I, 2 + I], [2], [-3])\n"
     ]
    }
   ],
   "source": [
    "### BEGIN SOLUTION\n",
    "dydx = sp.diff(y,x)\n",
    "x_stat = sp.solve(sp.Eq(dydx, 0))\n",
    "x_stat_real = [x for x in x_stat if sp.im(x)==0]\n",
    "y_stat_real = [yfunc(x) for x in x_stat_real]\n",
    "### END SOLUTION\n",
    "\n",
    "print((x_stat, x_stat_real, y_stat_real))"
   ]
  },
  {
   "cell_type": "code",
   "execution_count": 78,
   "id": "little-minute",
   "metadata": {
    "nbgrader": {
     "grade": true,
     "grade_id": "cell-6f2019e2136270a5",
     "locked": true,
     "points": 3,
     "schema_version": 3,
     "solution": false,
     "task": false
    }
   },
   "outputs": [
    {
     "name": "stdout",
     "output_type": "stream",
     "text": [
      "The list x_stat is correct\n",
      "The list x_stat_real is correct\n",
      "The list y_stat_real is correct\n",
      "3 out of 3\n"
     ]
    },
    {
     "data": {
      "image/png": "[encoded data removed]",
      "text/latex": [
       "$\\displaystyle 3$"
      ],
      "text/plain": [
       "3"
      ]
     },
     "execution_count": 78,
     "metadata": {},
     "output_type": "execute_result"
    }
   ],
   "source": [
    "# 3 Marks\n",
    "# Do not try to delete this cell\n",
    "# Run this cell for grading\n",
    "_globals = globals()\n",
    "question3j(_globals)"
   ]
  },
  {
   "cell_type": "markdown",
   "id": "vital-dictionary",
   "metadata": {
    "nbgrader": {
     "grade": false,
     "grade_id": "cell-e3e19970fff91c25",
     "locked": true,
     "schema_version": 3,
     "solution": false,
     "task": false
    }
   },
   "source": [
    "(k) Create a plot of `y` showing the real stationary points as big red dots. Include lines for the horizontal and vertical axes. Autograding won't help here!"
   ]
  },
  {
   "cell_type": "code",
   "execution_count": 79,
   "id": "foreign-personality",
   "metadata": {
    "nbgrader": {
     "grade": false,
     "grade_id": "cell-440f910b7170e401",
     "locked": false,
     "schema_version": 3,
     "solution": true,
     "task": false
    }
   },
   "outputs": [
    {
     "data": {
      "text/plain": [
       "<matplotlib.lines.Line2D at 0x1697abf6400>"
      ]
     },
     "execution_count": 79,
     "metadata": {},
     "output_type": "execute_result"
    },
    {
     "data": {
      "image/png": "[encoded data removed]",
      "text/plain": [
       "<Figure size 432x288 with 1 Axes>"
      ]
     },
     "metadata": {
      "needs_background": "light"
     },
     "output_type": "display_data"
    }
   ],
   "source": [
    "### BEGIN SOLUTION\n",
    "plt.plot(xvals, yvals)\n",
    "plt.plot(x_stat_real, y_stat_real, 'r.', markersize=10)\n",
    "plt.axhline(y=0, color='k')\n",
    "plt.axvline(x=0, color='k')\n",
    "### END SOLUTION"
   ]
  },
  {
   "cell_type": "markdown",
   "id": "regulation-stage",
   "metadata": {
    "nbgrader": {
     "grade": false,
     "grade_id": "cell-8bef80a0892d1b89",
     "locked": true,
     "schema_version": 3,
     "solution": false,
     "task": false
    }
   },
   "source": [
    "(l) Write and test a function called `plot_with_sps` that takes as its arguments a symbolic expression `y` representing a function of `x`, and a tuple `xrange` containing a symbolic variable `x` and maximum and minimum values for plotting. \n",
    "\n",
    "Your function should return no output, but should instead create a graphic in which a plot of `y` against `x` is shown, together with the real stationary points as big red dots. For example\n",
    "\n",
    "```python\n",
    "plot_with_sps(x**4-8*x**3+26*x**2-40*x+21, (x, -1, 5))\n",
    "```\n",
    "\n",
    "should generate the graphic from part (k)."
   ]
  },
  {
   "cell_type": "code",
   "execution_count": 80,
   "id": "destroyed-evening",
   "metadata": {
    "nbgrader": {
     "grade": false,
     "grade_id": "cell-42de3b080fa8deb7",
     "locked": false,
     "schema_version": 3,
     "solution": true,
     "task": false
    }
   },
   "outputs": [],
   "source": [
    "def plot_with_sps(y, xrange):\n",
    "    ### BEGIN SOLUTION\n",
    "    \"\"\"\n",
    "    Plots y over xrange showing real stationary points\n",
    "    \"\"\"\n",
    "    # import modules\n",
    "    from sympy import lambdify, solve, Eq, diff, im\n",
    "    from numpy import linspace\n",
    "    from matplotlib.pyplot import plot, axhline, axvline\n",
    "    \n",
    "    # variable\n",
    "    x = xrange[0]\n",
    "    \n",
    "    # function\n",
    "    yfunc = lambdify(x, y, 'numpy')\n",
    "    \n",
    "    # x and y for plot\n",
    "    xvals = linspace(xrange[1], xrange[2], 101)\n",
    "    yvals = yfunc(xvals)\n",
    "    \n",
    "    # x-coords of stationary points\n",
    "    x_stat = solve(Eq(diff(y,x),0))\n",
    "    \n",
    "    # filter for zero imaginary part\n",
    "    x_stat_real = [x for x in x_stat if im(x)==0]\n",
    "    \n",
    "    # y-coords\n",
    "    y_stat_real = [yfunc(x) for x in x_stat_real]\n",
    "    \n",
    "    # plot\n",
    "    plot(xvals, yvals)\n",
    "    axhline(y=0, color='k')\n",
    "    axvline(x=0, color='k')\n",
    "    plot(x_stat_real, y_stat_real, '.r', markersize=10)\n",
    "    ### END SOLUTION"
   ]
  },
  {
   "cell_type": "markdown",
   "id": "vertical-encyclopedia",
   "metadata": {
    "nbgrader": {
     "grade": false,
     "grade_id": "cell-7a00bae2cd201a9b",
     "locked": true,
     "schema_version": 3,
     "solution": false,
     "task": false
    }
   },
   "source": [
    "## Question 4\n",
    "\n",
    "(a) Write a function called `newton_sympy` which takes as its arguments\n",
    "\n",
    "<ul>\n",
    "    <li>a <b>symbolic expression</b> <code>expr</code>;</li>\n",
    "    <li>a <b>symbolic variable</b> <code>var</code>;</li>\n",
    "    <li>a starting value, <code>x0</code>;</li>\n",
    "    <li>a number of iterations, <code>niterate</code>;</li>\n",
    "    <li>an keyword-only argument, <code>method</code>, whose default value is the string <code>'symbolic'</code>.</li>\n",
    "</ul>\n",
    "\n",
    "It should then:\n",
    "\n",
    "<ul>\n",
    "    <li>differentiate <code>expr</code> symbolically with respect to <code>var</code>, and hence derive, in <code>var</code>, the function <code>newt_expr</code> that must be iterated in order to solve <code>expr == 0</code> using Newton's method;</li>\n",
    "    <li>iterate the function specified by <code>newt_expr</code> a total of <code>niterate</code> times, returning the final iterate.</li>\n",
    "</ul>\n",
    "\n",
    "Exactly what happens during the iteration will need to be considered quite carefully. \n",
    "\n",
    "<ul>\n",
    "    <li>If <code>method</code> is set to <code>'symbolic'</code>, its default value, then each new iterate should simply be obtained by substituting the previous one into <code>newt_expr</code> using <code>subs</code>;</li>\n",
    "    <li>If <code>method</code> is set to <code>'simplify'</code>, then each new iterate should be obtained by substituting the previous one into <code>newt_expr</code> using <code>subs</code>, and then simplifying the resulting expression;</li>\n",
    "    <li>If <code>method</code> is set to <code>'float'</code>, then each new iterate should be obtained by substituting the previous one into <code>newt_expr</code> using <code>subs</code>, and then casting the resulting expression as a core Python float;</li>\n",
    "    <li>If <code>method</code> is set to <code>'complex'</code>, then each new iterate should be obtained by substituting the previous one into <code>newt_expr</code> using <code>subs</code>, and then casting the resulting expression as a core Python complex;</li>\n",
    "    <li>If <code>method</code> is set to <code>'lambdify'</code>, then <code>subs</code> should not be used at all; instead, a function <code>newt_expr_func</code> should be created using <code>lambdify</code>, and each iterate obtained by evaluating this function on the previous iterate.</li>\n",
    "</ul>"
   ]
  },
  {
   "cell_type": "code",
   "execution_count": 81,
   "id": "buried-hawaiian",
   "metadata": {
    "nbgrader": {
     "grade": false,
     "grade_id": "cell-ba7b053b47667219",
     "locked": false,
     "schema_version": 3,
     "solution": true,
     "task": false
    }
   },
   "outputs": [],
   "source": [
    "def newton_sympy(expr, var, x0, niterate, *, method='symbolic'):\n",
    "    ### BEGIN SOLUTION\n",
    "    \"\"\"\n",
    "    Solves expr == 0 using Newton's method; differentiation is symbolic\n",
    "    \"\"\"\n",
    "    from sympy import diff, simplify, lambdify\n",
    "    \n",
    "    # derivative of expr wrt var\n",
    "    dexpr = diff(expr, var)\n",
    "    \n",
    "    # expression to be iterated\n",
    "    newt_expr = var - expr/dexpr\n",
    "    \n",
    "    # initialize\n",
    "    x = x0\n",
    "    \n",
    "    # lambdify method\n",
    "    if method == 'lambdify':\n",
    "        newt_expr_func = lambdify(var, newt_expr, 'numpy')\n",
    "        for n in range(niterate):\n",
    "            x = newt_expr_func(x)\n",
    "    \n",
    "    # anything else\n",
    "    else: \n",
    "        for n in range(niterate):\n",
    "            x = newt_expr.subs(var,x)\n",
    "            if method == 'simplify':\n",
    "                x = simplify(x)\n",
    "            elif method == 'float':\n",
    "                x = float(x)\n",
    "            elif method == 'complex':\n",
    "                x = complex(x)\n",
    "                \n",
    "    return x\n",
    "\n",
    "    ### END SOLUTION"
   ]
  },
  {
   "cell_type": "code",
   "execution_count": 82,
   "id": "measured-acceptance",
   "metadata": {
    "nbgrader": {
     "grade": true,
     "grade_id": "cell-585d34f45ccf6d50",
     "locked": true,
     "points": 6,
     "schema_version": 3,
     "solution": false,
     "task": false
    }
   },
   "outputs": [
    {
     "name": "stdout",
     "output_type": "stream",
     "text": [
      "newton_sympy seems to work with method set to float\n",
      "\n",
      "newton_sympy seems to work with the default method, symbolic\n",
      "\n",
      "newton_sympy seems to work with method set to complex\n",
      "\n",
      "newton_sympy seems to work with method set to lambdify\n",
      "\n",
      "newton_sympy seems to work with method set to simplify\n",
      "\n",
      "This function seems to have a docstring\n",
      "\n",
      "6 out of 6\n"
     ]
    },
    {
     "data": {
      "image/png": "[encoded data removed]",
      "text/latex": [
       "$\\displaystyle 6$"
      ],
      "text/plain": [
       "6"
      ]
     },
     "execution_count": 82,
     "metadata": {},
     "output_type": "execute_result"
    }
   ],
   "source": [
    "# 6 Marks\n",
    "# Do not try to delete this cell\n",
    "# Run this cell for grading\n",
    "_globals = globals()\n",
    "question4a(_globals)"
   ]
  },
  {
   "cell_type": "markdown",
   "id": "duplicate-nursery",
   "metadata": {
    "nbgrader": {
     "grade": false,
     "grade_id": "cell-72b340764afa9c8a",
     "locked": true,
     "schema_version": 3,
     "solution": false,
     "task": false
    }
   },
   "source": [
    "(b) Use your `newton_sympy` function, with 5 iterations starting at the int 1 and the default `method` setting, to find a good rational approximation `sqrt2_frac` to $\\sqrt{2}$."
   ]
  },
  {
   "cell_type": "code",
   "execution_count": 83,
   "id": "absent-finger",
   "metadata": {
    "nbgrader": {
     "grade": false,
     "grade_id": "cell-f8dfa184fc5316dd",
     "locked": false,
     "schema_version": 3,
     "solution": true,
     "task": false
    }
   },
   "outputs": [
    {
     "name": "stdout",
     "output_type": "stream",
     "text": [
      "886731088897/627013566048\n",
      "1.4142135623730951\n"
     ]
    }
   ],
   "source": [
    "### BEGIN SOLUTION\n",
    "x = sp.symbols('x')\n",
    "sqrt2_frac = newton_sympy(x**2-2, x, 1, 5)\n",
    "### END SOLUTION \n",
    "\n",
    "print(sqrt2_frac)\n",
    "print(float(sqrt2_frac))"
   ]
  },
  {
   "cell_type": "code",
   "execution_count": 84,
   "id": "former-soviet",
   "metadata": {
    "nbgrader": {
     "grade": true,
     "grade_id": "cell-15dc9f36d29e3131",
     "locked": true,
     "points": 1,
     "schema_version": 3,
     "solution": false,
     "task": false
    }
   },
   "outputs": [
    {
     "name": "stdout",
     "output_type": "stream",
     "text": [
      "sqrt2_frac is correct\n",
      "Test passed!\n"
     ]
    },
    {
     "data": {
      "image/png": "[encoded data removed]",
      "text/latex": [
       "$\\displaystyle 1$"
      ],
      "text/plain": [
       "1"
      ]
     },
     "execution_count": 84,
     "metadata": {},
     "output_type": "execute_result"
    }
   ],
   "source": [
    "# 1 Mark\n",
    "# Do not try to delete this cell\n",
    "# Run this cell for grading\n",
    "_globals = globals()\n",
    "question4b(_globals)"
   ]
  },
  {
   "cell_type": "markdown",
   "id": "sapphire-certification",
   "metadata": {
    "nbgrader": {
     "grade": false,
     "grade_id": "cell-e74b5b536557c7e5",
     "locked": true,
     "schema_version": 3,
     "solution": false,
     "task": false
    }
   },
   "source": [
    "(c) Use your `newton_sympy` function with `method` set to `float` or `complex` as appropriate, to find the roots of $z^3-1=0$ associated with the starting values $2.0$, $-1+i$ and $-1-i$; use 20 iterations in each case. Call them, respectively, `root0`, `root1` and `root2`."
   ]
  },
  {
   "cell_type": "code",
   "execution_count": 85,
   "id": "fiscal-divide",
   "metadata": {
    "nbgrader": {
     "grade": false,
     "grade_id": "cell-73995952add18d91",
     "locked": false,
     "schema_version": 3,
     "solution": true,
     "task": false
    }
   },
   "outputs": [
    {
     "name": "stdout",
     "output_type": "stream",
     "text": [
      "1.0\n",
      "(-0.5+0.8660254037844386j)\n",
      "(-0.5-0.8660254037844386j)\n"
     ]
    }
   ],
   "source": [
    "### BEGIN SOLUTION\n",
    "z = sp.symbols('z')\n",
    "\n",
    "root0 = newton_sympy(z**3-1, z, 2.0, 20, method='float')\n",
    "root1 = newton_sympy(z**3-1, z, -1+1j, 20, method='complex')\n",
    "root2 = newton_sympy(z**3-1, z, -1-1j, 20, method='complex')\n",
    "### END SOLUTION\n",
    "\n",
    "print(root0)\n",
    "print(root1)\n",
    "print(root2)"
   ]
  },
  {
   "cell_type": "code",
   "execution_count": 86,
   "id": "molecular-antarctica",
   "metadata": {
    "nbgrader": {
     "grade": true,
     "grade_id": "cell-9fd6f5d355d30747",
     "locked": true,
     "points": 3,
     "schema_version": 3,
     "solution": false,
     "task": false
    }
   },
   "outputs": [
    {
     "name": "stdout",
     "output_type": "stream",
     "text": [
      "root0 is correct\n",
      "\n",
      "root1 is correct\n",
      "\n",
      "root2 is correct\n",
      "\n",
      "3 out of 3\n"
     ]
    },
    {
     "data": {
      "image/png": "[encoded data removed]",
      "text/latex": [
       "$\\displaystyle 3$"
      ],
      "text/plain": [
       "3"
      ]
     },
     "execution_count": 86,
     "metadata": {},
     "output_type": "execute_result"
    }
   ],
   "source": [
    "# 3 Marks\n",
    "# Do not try to delete this cell\n",
    "# Run this cell for grading\n",
    "_globals = globals()\n",
    "question4c(_globals)"
   ]
  },
  {
   "cell_type": "markdown",
   "id": "corporate-diesel",
   "metadata": {
    "nbgrader": {
     "grade": false,
     "grade_id": "cell-6dd9e14ec18ff2bb",
     "locked": true,
     "schema_version": 3,
     "solution": false,
     "task": false
    }
   },
   "source": [
    "(d) Use NumPy's `vectorize` function to create a version of `newton_sympy`, called `newton_sympy_vec`, which works over arrays. Use it to repeat part (c), returning the roots as a NumPy array `roots` of type complex."
   ]
  },
  {
   "cell_type": "code",
   "execution_count": 87,
   "id": "partial-segment",
   "metadata": {
    "nbgrader": {
     "grade": false,
     "grade_id": "cell-0ee818ce51aa55bc",
     "locked": false,
     "schema_version": 3,
     "solution": true,
     "task": false
    }
   },
   "outputs": [
    {
     "data": {
      "text/plain": [
       "array([ 1. +0.j       , -0.5+0.8660254j, -0.5-0.8660254j])"
      ]
     },
     "execution_count": 87,
     "metadata": {},
     "output_type": "execute_result"
    }
   ],
   "source": [
    "### BEGIN SOLUTION\n",
    "newton_sympy_vec = np.vectorize(newton_sympy)\n",
    "roots = newton_sympy_vec(z**3-1, z, [2.0,-1+1j,-1-1j], 20, method='complex')\n",
    "### END SOLUTION\n",
    "\n",
    "roots"
   ]
  },
  {
   "cell_type": "code",
   "execution_count": 88,
   "id": "precise-gravity",
   "metadata": {
    "nbgrader": {
     "grade": true,
     "grade_id": "cell-d952c76e4eb7a907",
     "locked": true,
     "points": 1,
     "schema_version": 3,
     "solution": false,
     "task": false
    }
   },
   "outputs": [
    {
     "name": "stdout",
     "output_type": "stream",
     "text": [
      "roots is correct\n",
      "Test passed!\n"
     ]
    },
    {
     "data": {
      "image/png": "[encoded data removed]",
      "text/latex": [
       "$\\displaystyle 1$"
      ],
      "text/plain": [
       "1"
      ]
     },
     "execution_count": 88,
     "metadata": {},
     "output_type": "execute_result"
    }
   ],
   "source": [
    "# 3 Marks\n",
    "# Do not try to delete this cell\n",
    "# Run this cell for grading\n",
    "_globals = globals()\n",
    "question4d(_globals)"
   ]
  },
  {
   "cell_type": "markdown",
   "id": "alert-format",
   "metadata": {
    "nbgrader": {
     "grade": false,
     "grade_id": "cell-9b7de47e57156f91",
     "locked": true,
     "schema_version": 3,
     "solution": false,
     "task": false
    }
   },
   "source": [
    "(e) Using `vectorize` like that is pretty inefficient. Perform the above task not using `newton_sympy_vec` but instead using `newton_sympy` with `method` set to `lambdify`."
   ]
  },
  {
   "cell_type": "code",
   "execution_count": 89,
   "id": "developmental-surge",
   "metadata": {
    "nbgrader": {
     "grade": false,
     "grade_id": "cell-9196113436915df6",
     "locked": false,
     "schema_version": 3,
     "solution": true,
     "task": false
    }
   },
   "outputs": [
    {
     "data": {
      "text/plain": [
       "array([ 1. +0.j       , -0.5+0.8660254j, -0.5-0.8660254j])"
      ]
     },
     "execution_count": 89,
     "metadata": {},
     "output_type": "execute_result"
    }
   ],
   "source": [
    "### BEGIN SOLUTION\n",
    "roots = newton_sympy(z**3-1, z, np.array([2.0,-1+1j,-1-1j]), 20, method='lambdify')\n",
    "### END SOLUTION\n",
    "\n",
    "roots"
   ]
  },
  {
   "cell_type": "code",
   "execution_count": 90,
   "id": "industrial-jordan",
   "metadata": {
    "nbgrader": {
     "grade": true,
     "grade_id": "cell-eafe5371c23c320a",
     "locked": true,
     "points": 1,
     "schema_version": 3,
     "solution": false,
     "task": false
    }
   },
   "outputs": [
    {
     "name": "stdout",
     "output_type": "stream",
     "text": [
      "roots is correct\n",
      "Test passed!\n"
     ]
    },
    {
     "data": {
      "image/png": "[encoded data removed]",
      "text/latex": [
       "$\\displaystyle 1$"
      ],
      "text/plain": [
       "1"
      ]
     },
     "execution_count": 90,
     "metadata": {},
     "output_type": "execute_result"
    }
   ],
   "source": [
    "# 3 Marks\n",
    "# Do not try to delete this cell\n",
    "# Run this cell for grading\n",
    "_globals = globals()\n",
    "question4e(_globals)"
   ]
  },
  {
   "cell_type": "markdown",
   "id": "documented-irish",
   "metadata": {
    "nbgrader": {
     "grade": false,
     "grade_id": "cell-a861ae718616906d",
     "locked": true,
     "schema_version": 3,
     "solution": false,
     "task": false
    }
   },
   "source": [
    "(f) Define both `x_values0` and `y_values0` as 1D NumPy arrays of 400 equally-spaced floats between $-2.0$ and $2.0$ inclusive, and use the `meshgrid` function to define `x0` and `y0` as 400-by-400 arrays of, respectively, $x$- and $y$-coordinates specifying a lattice in the plane.\n",
    "\n",
    "Define `z0` as a lattice of complex numbers of the form $x+i\\,y$, with real and imaginary parts taken from your arrays `x0` and `y0`.\n",
    "\n",
    "Use `newton_sympy` with `method` set to `lambdify` to create an array `roots` consisting of the root of $z^3-1==0$ for each of the elements of the array `z0`, using $100$ iterations in each case. \n",
    "\n",
    "Finally, use the `imshow` function from `matplotlib`'s `pyplot` submodule to visualise the imaginary parts of `roots` as they vary over the plane."
   ]
  },
  {
   "cell_type": "code",
   "execution_count": 91,
   "id": "demanding-paradise",
   "metadata": {
    "nbgrader": {
     "grade": false,
     "grade_id": "cell-68b6cf845f5de10d",
     "locked": false,
     "schema_version": 3,
     "solution": true,
     "task": false
    }
   },
   "outputs": [
    {
     "data": {
      "text/plain": [
       "<matplotlib.image.AxesImage at 0x1697ac7ea00>"
      ]
     },
     "execution_count": 91,
     "metadata": {},
     "output_type": "execute_result"
    },
    {
     "data": {
      "image/png": "[encoded data removed]",
      "text/plain": [
       "<Figure size 720x720 with 1 Axes>"
      ]
     },
     "metadata": {
      "needs_background": "light"
     },
     "output_type": "display_data"
    }
   ],
   "source": [
    "### BEGIN SOLUTION\n",
    "x_values0 = np.linspace(-2.0, 2.0, 400)\n",
    "y_values0 = np.linspace(-2.0, 2.0, 400)\n",
    "x0, y0 = np.meshgrid(x_values0, y_values0)\n",
    "z0 = x0 + 1j*y0\n",
    "\n",
    "roots = newton_sympy(z**3 - 1, z, z0, 100, method='lambdify')\n",
    "\n",
    "plt.figure(figsize=[10,10])\n",
    "plt.imshow(np.imag(roots))\n",
    "### END SOLUTION"
   ]
  },
  {
   "cell_type": "markdown",
   "id": "mediterranean-stack",
   "metadata": {
    "nbgrader": {
     "grade": false,
     "grade_id": "cell-6fae9cb656c6252c",
     "locked": true,
     "schema_version": 3,
     "solution": false,
     "task": false
    }
   },
   "source": [
    "## Bonus Question\n",
    "\n",
    "Write a function that takes in a list of integers, $p(1), p(2), \\ldots, p(n)$, where each element is distinct and satisfies $1 \\leq p(x) \\leq n$. For each $x$ where $1 \\leq x \\leq n$, the function should find the integer $y$ such that $p(p(y)) = x$ and return the appropriate list. For example, given `p = [5, 2, 1, 3, 4]`, each value of $x$ between 1 and 5 is found as follows:\n",
    "\n",
    "1. $x = 1 = p(3)$, $p(4) = 3$, $\\Rightarrow p(p(4)) = 1$\n",
    "2. $x = 2 = p(2)$, $p(2) = 2$, $\\Rightarrow p(p(2)) = 2$\n",
    "3. $x = 3 = p(4)$, $p(5) = 4$, $\\Rightarrow p(p(5)) = 3$\n",
    "4. $x = 4 = p(5)$, $p(1) = 5$, $\\Rightarrow p(p(1)) = 4$\n",
    "5. $x = 5 = p(1)$, $p(3) = 1$, $\\Rightarrow p(p(3)) = 5$\n",
    "\n",
    "Therefore, the function should return the list `[4, 2, 5, 1, 3]`."
   ]
  },
  {
   "cell_type": "code",
   "execution_count": 92,
   "id": "cubic-generator",
   "metadata": {
    "nbgrader": {
     "grade": false,
     "grade_id": "cell-8f4d566222263187",
     "locked": false,
     "schema_version": 3,
     "solution": true,
     "task": false
    }
   },
   "outputs": [],
   "source": [
    "def sequence_explore(p):\n",
    "    ### BEGIN SOLUTION\n",
    "    lst = []\n",
    "    for i in range(1, len(p)+1):\n",
    "        lst.append(p.index(p.index(i)+1) + 1)\n",
    "    return lst\n",
    "    ### END SOLUTION"
   ]
  },
  {
   "cell_type": "code",
   "execution_count": 93,
   "id": "metallic-representative",
   "metadata": {
    "nbgrader": {
     "grade": true,
     "grade_id": "cell-043f534519cd6ef3",
     "locked": true,
     "points": 1,
     "schema_version": 3,
     "solution": false,
     "task": false
    }
   },
   "outputs": [
    {
     "name": "stdout",
     "output_type": "stream",
     "text": [
      "Test case passed!!!\n"
     ]
    }
   ],
   "source": [
    "# Run this test cell to check your code\n",
    "# Do not delete this cell\n",
    "# 1 mark\n",
    "# Unit test\n",
    "test = [5, 2, 1, 3, 4]\n",
    "assert(sequence_explore(test) == [4, 2, 5, 1, 3])\n",
    "print('Test case passed!!!')"
   ]
  },
  {
   "cell_type": "code",
   "execution_count": 94,
   "id": "front-entertainment",
   "metadata": {
    "nbgrader": {
     "grade": true,
     "grade_id": "cell-0f1099efb70bbc25",
     "locked": true,
     "points": 1,
     "schema_version": 3,
     "solution": false,
     "task": false
    }
   },
   "outputs": [
    {
     "name": "stdout",
     "output_type": "stream",
     "text": [
      "Test case passed!!!\n"
     ]
    }
   ],
   "source": [
    "# Run this test cell to check your code\n",
    "# Do not delete this cell\n",
    "# 1 mark\n",
    "# Unit test\n",
    "test = [4, 3, 5, 1, 2]\n",
    "assert(sequence_explore(test) == [1, 3, 5, 4, 2])\n",
    "print('Test case passed!!!')"
   ]
  },
  {
   "cell_type": "code",
   "execution_count": 95,
   "id": "typical-rings",
   "metadata": {
    "nbgrader": {
     "grade": true,
     "grade_id": "cell-f88bc69d91f086f4",
     "locked": true,
     "points": 3,
     "schema_version": 3,
     "solution": false,
     "task": false
    }
   },
   "outputs": [
    {
     "name": "stdout",
     "output_type": "stream",
     "text": [
      "Hidden test case passed!!!\n"
     ]
    }
   ],
   "source": [
    "# Hidden test\n",
    "# No output will be produced\n",
    "# 3 marks\n",
    "### BEGIN HIDDEN TESTS\n",
    "test = [2, 3, 1]\n",
    "assert(sequence_explore(test) == [2, 3, 1])\n",
    "print('Hidden test case passed!!!')\n",
    "### END HIDDEN TESTS"
   ]
  },
  {
   "cell_type": "code",
   "execution_count": null,
   "id": "indoor-lindsay",
   "metadata": {},
   "outputs": [],
   "source": []
  }
 ],
 "metadata": {
  "celltoolbar": "Create Assignment",
  "kernelspec": {
   "display_name": "Python 3",
   "language": "python",
   "name": "python3"
  },
  "language_info": {
   "codemirror_mode": {
    "name": "ipython",
    "version": 3
   },
   "file_extension": ".py",
   "mimetype": "text/x-python",
   "name": "python",
   "nbconvert_exporter": "python",
   "pygments_lexer": "ipython3",
   "version": "3.8.8"
  }
 },
 "nbformat": 4,
 "nbformat_minor": 5
}
