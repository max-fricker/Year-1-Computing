{
 "cells": [
  {
   "cell_type": "code",
   "execution_count": 2,
   "id": "bf9a6e95",
   "metadata": {},
   "outputs": [
    {
     "name": "stdout",
     "output_type": "stream",
     "text": [
      "Autograder loaded successfully!\n",
      "Remember to always restart and run all from the Kernel menu before submitting!\n"
     ]
    }
   ],
   "source": [
    "from autograder_term2week8 import *\n",
    "_globals = globals()\n",
    "from copy import copy"
   ]
  },
  {
   "cell_type": "markdown",
   "id": "4a39c487",
   "metadata": {
    "nbgrader": {
     "grade": false,
     "grade_id": "cell-627f2ce548e7c535",
     "locked": true,
     "schema_version": 3,
     "solution": false,
     "task": false
    }
   },
   "source": [
    "# <center> Introduction to Mathematical Computing </center>\n",
    "### <center>Phil Ramsden, Boumediene Hamzi, Sam Brzezicki, Matt Woolway</center>\n",
    "\n",
    "# <center> Worksheet 11: An Introduction to Algorithms and Complexity</center>\n",
    "\n",
    "**NOTE:** When answering a question, remember to remove the `raise NotImplementedError()` line."
   ]
  },
  {
   "cell_type": "markdown",
   "id": "a6aca3cc",
   "metadata": {
    "nbgrader": {
     "grade": false,
     "grade_id": "cell-da2b26434377de37",
     "locked": true,
     "schema_version": 3,
     "solution": false,
     "task": false
    }
   },
   "source": [
    "This worksheet is all about different ways of sorting data. Often, we will be using the reference data list"
   ]
  },
  {
   "cell_type": "code",
   "execution_count": 2,
   "id": "291243ad",
   "metadata": {
    "nbgrader": {
     "grade": false,
     "grade_id": "cell-356d6b612b68d527",
     "locked": true,
     "schema_version": 3,
     "solution": false,
     "task": false
    }
   },
   "outputs": [],
   "source": [
    "masterList = [3, 34, 12, 22, 27, 17, 31, 29, 40, 24, 21, 19, 7, 18, 26, 5]"
   ]
  },
  {
   "cell_type": "markdown",
   "id": "6883ed43",
   "metadata": {
    "nbgrader": {
     "grade": false,
     "grade_id": "cell-8363bbcbafd27416",
     "locked": true,
     "schema_version": 3,
     "solution": false,
     "task": false
    }
   },
   "source": [
    "of length 16.\n",
    "\n",
    "We'll be measuring <b>complexity</b> by counting, for each algorithm, the number of <b>comparisons between data items</b>. This is an imperfect measure, because sorting algorithms also include other things, such as moving data around! But the details of that can be language-dependent, whereas the number of comparisons is what it is, and is independent of language."
   ]
  },
  {
   "cell_type": "markdown",
   "id": "2c574e5c",
   "metadata": {
    "nbgrader": {
     "grade": false,
     "grade_id": "cell-b1ee373382158447",
     "locked": true,
     "schema_version": 3,
     "solution": false,
     "task": false
    }
   },
   "source": [
    "## Question 1\n",
    "\n",
    "This question is about <b>bubble sort</b>, one of the simplest sorting algorithms of all. For a data list of length 16, bubble sort proceeds as follows:\n",
    "<ul>\n",
    "    <li>Compare items 0 and 1, and if necessary swap them. Then compare items 1 and 2, again swapping if necessary; then 2 and 3, and so on up to 14 and 15. You can now guarantee the maximum element is in the 15 position.</li>\n",
    "    <li>Compare items 0 and 1, and if necessary swap them. Then compare items 1 and 2, again swapping if necessary; then 2 and 3, and so on up to 13 and 14. You can now guarantee the maximum element is in the 14 position.</li>\n",
    "    <li>...</li>\n",
    "    <li>Compare items 0 and 1, and if necessary swap them. Then compare items 1 and 2, again swapping if necessary.</li>\n",
    "    <li>Compare items 0 and 1, and if necessary swap them.</li>\n",
    "</ul>\n",
    "\n",
    "Animations are available to view on Blackboard."
   ]
  },
  {
   "cell_type": "markdown",
   "id": "4f6b8896",
   "metadata": {
    "nbgrader": {
     "grade": false,
     "grade_id": "cell-e3249117b3ac43e1",
     "locked": true,
     "schema_version": 3,
     "solution": false,
     "task": false
    }
   },
   "source": [
    "### (i) \n",
    "\n",
    "Here is a listing of a simple bubble sort function."
   ]
  },
  {
   "cell_type": "code",
   "execution_count": 3,
   "id": "61ac4fd6",
   "metadata": {
    "nbgrader": {
     "grade": false,
     "grade_id": "cell-d35eba78357c07f8",
     "locked": true,
     "schema_version": 3,
     "solution": false,
     "task": false
    }
   },
   "outputs": [],
   "source": [
    "def bubble_sort_simple(data):\n",
    "    \"\"\"\n",
    "    Sorts data using the bubble sort algorithm, with no tracking\n",
    "    of orderedness\n",
    "    \"\"\"\n",
    "    \n",
    "    # number of data items\n",
    "    ndata = len(data)\n",
    "    \n",
    "    # end index goes down from ndata to 2\n",
    "    for end_index in range(ndata,1,-1):\n",
    "        # comparison index goes up from 0 to end index - 2\n",
    "        for comparison_index in range(0, end_index-1):\n",
    "            # if element is greater than its neighbour to the right, swap them\n",
    "            if data[comparison_index] > data[comparison_index+1]:\n",
    "                data[comparison_index], data[comparison_index+1] = \\\n",
    "                data[comparison_index+1], data[comparison_index]"
   ]
  },
  {
   "cell_type": "markdown",
   "id": "01f83072",
   "metadata": {
    "nbgrader": {
     "grade": false,
     "grade_id": "cell-d17b7cb88614a1ac",
     "locked": true,
     "schema_version": 3,
     "solution": false,
     "task": false
    }
   },
   "source": [
    "The function sorts data <em>in place</em>: that is, it returns nothing, but has the side-effect of sorting the list given to it as its argument."
   ]
  },
  {
   "cell_type": "markdown",
   "id": "db9c723c",
   "metadata": {
    "nbgrader": {
     "grade": false,
     "grade_id": "cell-a91609a91cd26541",
     "locked": true,
     "schema_version": 3,
     "solution": false,
     "task": false
    }
   },
   "source": [
    "(a) Use `copy`, imported above from the `copy` module, to create a copy of `masterList` called `data`."
   ]
  },
  {
   "cell_type": "code",
   "execution_count": 4,
   "id": "61333a66",
   "metadata": {
    "nbgrader": {
     "grade": false,
     "grade_id": "cell-7f9747d7b626e328",
     "locked": false,
     "schema_version": 3,
     "solution": true,
     "task": false
    }
   },
   "outputs": [
    {
     "name": "stdout",
     "output_type": "stream",
     "text": [
      "[3, 34, 12, 22, 27, 17, 31, 29, 40, 24, 21, 19, 7, 18, 26, 5]\n"
     ]
    }
   ],
   "source": [
    "### BEGIN SOLUTION\n",
    "data = copy(masterList)\n",
    "### END SOLUTION\n",
    "\n",
    "print(data)"
   ]
  },
  {
   "cell_type": "code",
   "execution_count": 5,
   "id": "1bcb149b",
   "metadata": {
    "nbgrader": {
     "grade": true,
     "grade_id": "cell-5897e6f73013494c",
     "locked": true,
     "points": 2,
     "schema_version": 3,
     "solution": false,
     "task": false
    }
   },
   "outputs": [
    {
     "name": "stdout",
     "output_type": "stream",
     "text": [
      "data consists of the correct list\n",
      "data is a separate object from masterList, which is correct\n",
      "2 out of 2\n"
     ]
    },
    {
     "data": {
      "text/plain": [
       "2"
      ]
     },
     "execution_count": 5,
     "metadata": {},
     "output_type": "execute_result"
    }
   ],
   "source": [
    "# 2 Marks\n",
    "# Do not try to delete this cell\n",
    "# Run this cell for grading\n",
    "_globals = globals()\n",
    "question1ia(_globals)"
   ]
  },
  {
   "cell_type": "markdown",
   "id": "88458903",
   "metadata": {
    "nbgrader": {
     "grade": false,
     "grade_id": "cell-b510277fd8442c87",
     "locked": true,
     "schema_version": 3,
     "solution": false,
     "task": false
    }
   },
   "source": [
    "(b) Test `bubble_sort_simple` by sorting `data`."
   ]
  },
  {
   "cell_type": "code",
   "execution_count": 6,
   "id": "037ef4ed",
   "metadata": {
    "nbgrader": {
     "grade": false,
     "grade_id": "cell-d9492ddc080ee000",
     "locked": false,
     "schema_version": 3,
     "solution": true,
     "task": false
    }
   },
   "outputs": [
    {
     "name": "stdout",
     "output_type": "stream",
     "text": [
      "[3, 5, 7, 12, 17, 18, 19, 21, 22, 24, 26, 27, 29, 31, 34, 40]\n"
     ]
    }
   ],
   "source": [
    "### BEGIN SOLUTION\n",
    "bubble_sort_simple(data)\n",
    "### END SOLUTION\n",
    "\n",
    "print(data)"
   ]
  },
  {
   "cell_type": "code",
   "execution_count": 7,
   "id": "839b1cba",
   "metadata": {
    "nbgrader": {
     "grade": true,
     "grade_id": "cell-33a351855e2a8177",
     "locked": true,
     "points": 1,
     "schema_version": 3,
     "solution": false,
     "task": false
    }
   },
   "outputs": [
    {
     "name": "stdout",
     "output_type": "stream",
     "text": [
      "data has been sorted correctly\n",
      "Test passed!\n"
     ]
    },
    {
     "data": {
      "text/plain": [
       "1"
      ]
     },
     "execution_count": 7,
     "metadata": {},
     "output_type": "execute_result"
    }
   ],
   "source": [
    "# 1 Mark\n",
    "# Do not try to delete this cell\n",
    "# Run this cell for grading\n",
    "_globals = globals()\n",
    "question1ib(_globals)"
   ]
  },
  {
   "cell_type": "markdown",
   "id": "afce40c2",
   "metadata": {
    "nbgrader": {
     "grade": false,
     "grade_id": "cell-596b463edec1ae30",
     "locked": true,
     "schema_version": 3,
     "solution": false,
     "task": false
    }
   },
   "source": [
    "Here is a listing of `bubble_sort_simple` to which a global variable called `comparison_count` has been added, which increments by 1 every time a comparison is made."
   ]
  },
  {
   "cell_type": "code",
   "execution_count": 8,
   "id": "5c01646a",
   "metadata": {
    "nbgrader": {
     "grade": false,
     "grade_id": "cell-c3846241a472bac9",
     "locked": true,
     "schema_version": 3,
     "solution": false,
     "task": false
    }
   },
   "outputs": [],
   "source": [
    "def bubble_sort_simple(data):\n",
    "    \"\"\"\n",
    "    Sorts data using the bubble sort algorithm, with no tracking\n",
    "    of orderedness\n",
    "    \"\"\"\n",
    "    \n",
    "    # comparison count\n",
    "    global comparison_count\n",
    "    \n",
    "    # number of data items\n",
    "    ndata = len(data)\n",
    "    \n",
    "    # end index goes down from ndata to 2\n",
    "    for end_index in range(ndata,1,-1):\n",
    "        # comparison index goes up from 0 to end index - 2\n",
    "        for comparison_index in range(0, end_index-1):\n",
    "            # if element is greater than its neighbour to the right, swap them\n",
    "            comparison_count += 1\n",
    "            if data[comparison_index] > data[comparison_index+1]:\n",
    "                data[comparison_index], data[comparison_index+1] = \\\n",
    "                data[comparison_index+1], data[comparison_index]"
   ]
  },
  {
   "cell_type": "markdown",
   "id": "653e87d3",
   "metadata": {
    "nbgrader": {
     "grade": false,
     "grade_id": "cell-9cd71d5849df01e7",
     "locked": true,
     "schema_version": 3,
     "solution": false,
     "task": false
    }
   },
   "source": [
    "(c) Define `data` as a copy of `masterList` again. Then set `comparison_count` to 0, and run `bubble_sort_simple`. Finally, check the new value of `comparison_count`."
   ]
  },
  {
   "cell_type": "code",
   "execution_count": 9,
   "id": "0d62db5e",
   "metadata": {
    "nbgrader": {
     "grade": false,
     "grade_id": "cell-3f0ba9a511d2657a",
     "locked": false,
     "schema_version": 3,
     "solution": true,
     "task": false
    }
   },
   "outputs": [
    {
     "name": "stdout",
     "output_type": "stream",
     "text": [
      "[3, 5, 7, 12, 17, 18, 19, 21, 22, 24, 26, 27, 29, 31, 34, 40]\n",
      "120\n"
     ]
    }
   ],
   "source": [
    "### BEGIN SOLUTION\n",
    "data = copy(masterList)\n",
    "comparison_count = 0\n",
    "bubble_sort_simple(data)\n",
    "### END SOLUTION\n",
    "\n",
    "print(data)\n",
    "print(comparison_count)"
   ]
  },
  {
   "cell_type": "code",
   "execution_count": 10,
   "id": "5211c800",
   "metadata": {
    "nbgrader": {
     "grade": true,
     "grade_id": "cell-9745abfd9ac67e65",
     "locked": true,
     "points": 2,
     "schema_version": 3,
     "solution": false,
     "task": false
    }
   },
   "outputs": [
    {
     "name": "stdout",
     "output_type": "stream",
     "text": [
      "data has been sorted correctly\n",
      "comparison_count is correct\n",
      "2 out of 2\n"
     ]
    },
    {
     "data": {
      "text/plain": [
       "2"
      ]
     },
     "execution_count": 10,
     "metadata": {},
     "output_type": "execute_result"
    }
   ],
   "source": [
    "# 2 Marks\n",
    "# Do not try to delete this cell\n",
    "# Run this cell for grading\n",
    "_globals = globals()\n",
    "question1ic(_globals)"
   ]
  },
  {
   "cell_type": "markdown",
   "id": "71b24b24",
   "metadata": {
    "nbgrader": {
     "grade": false,
     "grade_id": "cell-9e5ed87729b763ec",
     "locked": true,
     "schema_version": 3,
     "solution": false,
     "task": false
    }
   },
   "source": [
    "(d) Experiment with sorting other data sets of length 16. If the value of `comparison_count` starts at zero each time, what is its final value?\n",
    "\n",
    "<ol>\n",
    "    <li>With a data set of length 16, the final value of <code>comparison_count</code> is always exactly 120.</li>\n",
    "    <li>With a data set of length 16, the final value of <code>comparison_count</code> is always at least 120, and sometimes more than that.</li>\n",
    "    <li>With a data set of length 16, the final value of <code>comparison_count</code> is always at most 120, and sometimes less than that.</li>\n",
    "    <li>With a data set of length 16, the final value of <code>comparison_count</code> is sometimes less than 120, sometimes more than 120, and sometimes exactly 120.</li>\n",
    "</ol>"
   ]
  },
  {
   "cell_type": "code",
   "execution_count": 11,
   "id": "f3007f40",
   "metadata": {
    "nbgrader": {
     "grade": false,
     "grade_id": "cell-f8040985612b2374",
     "locked": false,
     "schema_version": 3,
     "solution": true,
     "task": false
    }
   },
   "outputs": [],
   "source": [
    "### BEGIN SOLUTION\n",
    "q1id_answer = 1\n",
    "### END SOLUTION\n",
    "\n",
    "q1id_answer = # insert one of 1, 2, 3 or 4"
   ]
  },
  {
   "cell_type": "code",
   "execution_count": 12,
   "id": "22b8a10f",
   "metadata": {
    "nbgrader": {
     "grade": true,
     "grade_id": "cell-69343024e1dfbe39",
     "locked": true,
     "points": 1,
     "schema_version": 3,
     "solution": false,
     "task": false
    }
   },
   "outputs": [
    {
     "name": "stdout",
     "output_type": "stream",
     "text": [
      "test case passed!\n"
     ]
    }
   ],
   "source": [
    "# 1 Mark\n",
    "assert(q1id_answer == question1id())\n",
    "print('test case passed!')"
   ]
  },
  {
   "cell_type": "markdown",
   "id": "8d2adcf5",
   "metadata": {
    "nbgrader": {
     "grade": false,
     "grade_id": "cell-9289baa650c0a61d",
     "locked": true,
     "schema_version": 3,
     "solution": false,
     "task": false
    }
   },
   "source": [
    "(e) Experiment with data sets of different lengths.\n",
    "\n",
    "Then, in the form of lambda-expressions, state the maximum and minimum number of comparisons carried out by `bubble_sort_simple` when the data set is of length `n`. So, for example, if you think the maximum number of comparisons is $n^2+4$ and the minimum is $n$, you'd type\n",
    "```python\n",
    "bubble_sort_simple_max = lambda n: n**2+4\n",
    "bubble_sort_simple_min = lambda n: n\n",
    "```\n",
    "Try to make sure the output from each of your lambda-expressions is always an int."
   ]
  },
  {
   "cell_type": "code",
   "execution_count": 13,
   "id": "d301b0d3",
   "metadata": {
    "nbgrader": {
     "grade": false,
     "grade_id": "cell-4a32972f7163af8d",
     "locked": false,
     "schema_version": 3,
     "solution": true,
     "task": false
    }
   },
   "outputs": [
    {
     "name": "stdout",
     "output_type": "stream",
     "text": [
      "120\n",
      "120\n"
     ]
    }
   ],
   "source": [
    "### BEGIN SOLUTION\n",
    "bubble_sort_simple_max = lambda n: n*(n-1)//2\n",
    "bubble_sort_simple_min = lambda n: n*(n-1)//2\n",
    "### END SOLUTION\n",
    "\n",
    "# quick test\n",
    "print(bubble_sort_simple_max(16))\n",
    "print(bubble_sort_simple_min(16))"
   ]
  },
  {
   "cell_type": "code",
   "execution_count": 14,
   "id": "601bb6a9",
   "metadata": {
    "nbgrader": {
     "grade": true,
     "grade_id": "cell-0f48fb8a641a5cec",
     "locked": true,
     "points": 2,
     "schema_version": 3,
     "solution": false,
     "task": false
    }
   },
   "outputs": [
    {
     "name": "stdout",
     "output_type": "stream",
     "text": [
      "The lambda-expression bubble_sort_simple_max seems to return the correct numbers\n",
      "The lambda-expression bubble_sort_simple_max seems to return ints\n",
      "The lambda-expression bubble_sort_simple_min seems to return the correct numbers\n",
      "The lambda-expression bubble_sort_simple_min seems to return ints\n",
      "2 out of 2\n"
     ]
    },
    {
     "data": {
      "text/plain": [
       "2"
      ]
     },
     "execution_count": 14,
     "metadata": {},
     "output_type": "execute_result"
    }
   ],
   "source": [
    "# 2 Marks\n",
    "# Do not try to delete this cell\n",
    "# Run this cell for grading\n",
    "_globals = globals()\n",
    "question1ie(_globals)"
   ]
  },
  {
   "cell_type": "markdown",
   "id": "4e190d65",
   "metadata": {
    "nbgrader": {
     "grade": false,
     "grade_id": "cell-5b70dc47fee88781",
     "locked": true,
     "schema_version": 3,
     "solution": false,
     "task": false
    }
   },
   "source": [
    "(f) Which of the following is true?\n",
    "\n",
    "<ol>\n",
    "    <li><code>bubble_sort_simple</code> is $O(n^2)$ and $\\Omega(n^2)$ and is therefore $\\Theta(n^2)$;</li>\n",
    "    <li><code>bubble_sort_simple</code> is $O(n^2)$ but not $\\Omega(n^2)$;</li>\n",
    "    <li><code>bubble_sort_simple</code> is $\\Omega(n^2)$ but not $O(n^2)$;</li>\n",
    "    <li><code>bubble_sort_simple</code> is neither $O(n^2)$ nor $\\Omega(n^2)$.</li>\n",
    "</ol>"
   ]
  },
  {
   "cell_type": "code",
   "execution_count": 15,
   "id": "34476afc",
   "metadata": {
    "nbgrader": {
     "grade": false,
     "grade_id": "cell-08fd347e97ef866c",
     "locked": false,
     "schema_version": 3,
     "solution": true,
     "task": false
    }
   },
   "outputs": [],
   "source": [
    "### BEGIN SOLUTION\n",
    "q1if_answer = 1\n",
    "### END SOLUTION\n",
    "\n",
    "q1if_answer = # insert one of 1, 2, 3 or 4"
   ]
  },
  {
   "cell_type": "code",
   "execution_count": 16,
   "id": "7b58e035",
   "metadata": {
    "nbgrader": {
     "grade": true,
     "grade_id": "cell-382e7382c2787323",
     "locked": true,
     "points": 1,
     "schema_version": 3,
     "solution": false,
     "task": false
    }
   },
   "outputs": [
    {
     "name": "stdout",
     "output_type": "stream",
     "text": [
      "test case passed!\n"
     ]
    }
   ],
   "source": [
    "# 1 Mark\n",
    "assert(q1if_answer == question1if())\n",
    "print('test case passed!')"
   ]
  },
  {
   "cell_type": "markdown",
   "id": "7208890a",
   "metadata": {
    "nbgrader": {
     "grade": false,
     "grade_id": "cell-7b704ca8a8998eea",
     "locked": true,
     "schema_version": 3,
     "solution": false,
     "task": false
    }
   },
   "source": [
    "### (ii)\n",
    "\n",
    "(a) Write a function called `bubble_sort_enhanced` that also sorts data in place using bubble sort, but with the following additional feature. \n",
    "\n",
    "On each pass through the data (that is, on each turn of the outer `for` loop), a record is kept of whether any swaps were necessary; if not, the data is regarded as sorted, and the process stops. (So if `data` were already sorted, only one pass would be necessary.)\n",
    "\n",
    "Make sure to give your function a global variable called `comparison_count` that goes up by 1 every time a comparison is made."
   ]
  },
  {
   "cell_type": "code",
   "execution_count": 17,
   "id": "29bd1500",
   "metadata": {
    "nbgrader": {
     "grade": false,
     "grade_id": "cell-2296e52df6b80511",
     "locked": false,
     "schema_version": 3,
     "solution": true,
     "task": false
    }
   },
   "outputs": [],
   "source": [
    "def bubble_sort_enhanced(data):\n",
    "    ### BEGIN SOLUTION\n",
    "    \"\"\"\n",
    "    Sorts data using the bubble sort algorithm, with tracking\n",
    "    of orderedness\n",
    "    \"\"\"\n",
    "    \n",
    "    # comparison count\n",
    "    global comparison_count\n",
    "    \n",
    "    # number of data items\n",
    "    ndata = len(data)\n",
    "    \n",
    "    # orderedness tracking\n",
    "    already_ordered = False\n",
    "    \n",
    "    # end index goes down from ndata to 2\n",
    "    for end_index in range(ndata,1,-1):\n",
    "        if already_ordered:\n",
    "            break\n",
    "        already_ordered = True\n",
    "        # comparison index goes up from 0 to end index - 2\n",
    "        for comparison_index in range(0, end_index-1):\n",
    "            # if element is greater than its neighbour to the right, swap them\n",
    "            comparison_count += 1\n",
    "            if data[comparison_index] > data[comparison_index+1]:\n",
    "                already_ordered = False\n",
    "                data[comparison_index], data[comparison_index+1] = \\\n",
    "                data[comparison_index+1], data[comparison_index]\n",
    "    ### END SOLUTION"
   ]
  },
  {
   "cell_type": "code",
   "execution_count": 18,
   "id": "1d651c63",
   "metadata": {
    "nbgrader": {
     "grade": true,
     "grade_id": "cell-1d764dd6ddc55bd5",
     "locked": true,
     "points": 3,
     "schema_version": 3,
     "solution": false,
     "task": false
    }
   },
   "outputs": [
    {
     "name": "stdout",
     "output_type": "stream",
     "text": [
      "bubble_sort_enhanced seems to sort lists correctly\n",
      "Your function requires exactly the same number of comparisons as ours\n",
      "Your function seems to have a docstring\n",
      "3 out of 3\n"
     ]
    },
    {
     "data": {
      "text/plain": [
       "3"
      ]
     },
     "execution_count": 18,
     "metadata": {},
     "output_type": "execute_result"
    }
   ],
   "source": [
    "# 3 Marks\n",
    "# Do not try to delete this cell\n",
    "# Run this cell for grading\n",
    "_globals = globals()\n",
    "question1iia(_globals)"
   ]
  },
  {
   "cell_type": "markdown",
   "id": "3ce53e00",
   "metadata": {
    "nbgrader": {
     "grade": false,
     "grade_id": "cell-c7c049a909de9aef",
     "locked": true,
     "schema_version": 3,
     "solution": false,
     "task": false
    }
   },
   "source": [
    "(b) Test your function on a copy of `masterList`."
   ]
  },
  {
   "cell_type": "code",
   "execution_count": 19,
   "id": "2e2dc1c2",
   "metadata": {
    "nbgrader": {
     "grade": false,
     "grade_id": "cell-66a9f56a544610a1",
     "locked": false,
     "schema_version": 3,
     "solution": true,
     "task": false
    }
   },
   "outputs": [
    {
     "name": "stdout",
     "output_type": "stream",
     "text": [
      "[3, 5, 7, 12, 17, 18, 19, 21, 22, 24, 26, 27, 29, 31, 34, 40]\n",
      "120\n"
     ]
    }
   ],
   "source": [
    "### BEGIN SOLUTION\n",
    "data = copy(masterList)\n",
    "comparison_count = 0\n",
    "bubble_sort_enhanced(data)\n",
    "### END SOLUTION\n",
    "\n",
    "print(data)\n",
    "print(comparison_count)"
   ]
  },
  {
   "cell_type": "code",
   "execution_count": 20,
   "id": "e46548fc",
   "metadata": {
    "nbgrader": {
     "grade": true,
     "grade_id": "cell-78f4dc871de0fc7a",
     "locked": true,
     "points": 2,
     "schema_version": 3,
     "solution": false,
     "task": false
    }
   },
   "outputs": [
    {
     "name": "stdout",
     "output_type": "stream",
     "text": [
      "data has been sorted correctly\n",
      "Your function requires exactly the same number of comparisons as ours\n",
      "2 out of 2\n"
     ]
    },
    {
     "data": {
      "text/plain": [
       "2"
      ]
     },
     "execution_count": 20,
     "metadata": {},
     "output_type": "execute_result"
    }
   ],
   "source": [
    "# 2 Marks\n",
    "# Do not try to delete this cell\n",
    "# Run this cell for grading\n",
    "_globals = globals()\n",
    "question1iib(_globals)"
   ]
  },
  {
   "cell_type": "markdown",
   "id": "d6d89918",
   "metadata": {
    "nbgrader": {
     "grade": false,
     "grade_id": "cell-d4613a3594559eb8",
     "locked": true,
     "schema_version": 3,
     "solution": false,
     "task": false
    }
   },
   "source": [
    "(c) Experiment with your new function, using data sets of length 16. If the value of `comparison_count` starts at zero each time, what is its final value?\n",
    "\n",
    "<ol>\n",
    "    <li>With a data set of length 16, the final value of <code>comparison_count</code> is always exactly 120.</li>\n",
    "    <li>With a data set of length 16, the final value of <code>comparison_count</code> is always at least 120, and sometimes more than that.</li>\n",
    "    <li>With a data set of length 16, the final value of <code>comparison_count</code> is always at most 120, and sometimes less than that.</li>\n",
    "    <li>With a data set of length 16, the final value of <code>comparison_count</code> is sometimes less than 120, sometimes more than 120, and sometimes exactly 120.</li>\n",
    "</ol>"
   ]
  },
  {
   "cell_type": "code",
   "execution_count": 21,
   "id": "583ec270",
   "metadata": {
    "nbgrader": {
     "grade": false,
     "grade_id": "cell-e4e02775dd44384c",
     "locked": false,
     "schema_version": 3,
     "solution": true,
     "task": false
    }
   },
   "outputs": [],
   "source": [
    "### BEGIN SOLUTION\n",
    "q1iic_answer = 3\n",
    "### END SOLUTION\n",
    "\n",
    "q1iicanswer = # insert one of 1, 2, 3 or 4"
   ]
  },
  {
   "cell_type": "code",
   "execution_count": 22,
   "id": "118690f4",
   "metadata": {
    "nbgrader": {
     "grade": true,
     "grade_id": "cell-3015963ad8f74893",
     "locked": true,
     "points": 1,
     "schema_version": 3,
     "solution": false,
     "task": false
    }
   },
   "outputs": [
    {
     "name": "stdout",
     "output_type": "stream",
     "text": [
      "test case passed!\n"
     ]
    }
   ],
   "source": [
    "# 1 Mark\n",
    "assert(q1iic_answer == question1iic())\n",
    "print('test case passed!')"
   ]
  },
  {
   "cell_type": "markdown",
   "id": "5b3d0b3f",
   "metadata": {
    "nbgrader": {
     "grade": false,
     "grade_id": "cell-2e537324f71713c1",
     "locked": true,
     "schema_version": 3,
     "solution": false,
     "task": false
    }
   },
   "source": [
    "(d) Experiment with data sets of different lengths. Then, in the form of lambda-expressions, state the maximum and minimum number of comparisons carried out by `bubble_sort_enhanced` when the data set is of length `n`. So, for example, if you think the maximum number of comparisons is $n^2+4$ and the minimum is $n$, you'd type\n",
    "```python\n",
    "bubble_sort_enhanced_max = lambda n: n**2+4\n",
    "bubble_sort_enhanced_min = lambda n: n\n",
    "```"
   ]
  },
  {
   "cell_type": "code",
   "execution_count": 23,
   "id": "b972713d",
   "metadata": {
    "nbgrader": {
     "grade": false,
     "grade_id": "cell-8393bed1a818446e",
     "locked": false,
     "schema_version": 3,
     "solution": true,
     "task": false
    }
   },
   "outputs": [
    {
     "name": "stdout",
     "output_type": "stream",
     "text": [
      "120\n",
      "15\n"
     ]
    }
   ],
   "source": [
    "### BEGIN SOLUTION\n",
    "bubble_sort_enhanced_max = lambda n: n*(n-1)//2\n",
    "bubble_sort_enhanced_min = lambda n: n - 1\n",
    "### END SOLUTION\n",
    "\n",
    "# quick test\n",
    "print(bubble_sort_enhanced_max(16))\n",
    "print(bubble_sort_enhanced_min(16))"
   ]
  },
  {
   "cell_type": "code",
   "execution_count": 24,
   "id": "17d89d6a",
   "metadata": {
    "nbgrader": {
     "grade": true,
     "grade_id": "cell-e34997ca4e968f1c",
     "locked": true,
     "points": 2,
     "schema_version": 3,
     "solution": false,
     "task": false
    }
   },
   "outputs": [
    {
     "name": "stdout",
     "output_type": "stream",
     "text": [
      "The lambda-expression bubble_sort_enhanced_max seems to return the correct numbers\n",
      "The lambda-expression bubble_sort_enhanced_max seems to return ints\n",
      "The lambda-expression bubble_sort_enhanced_min seems to return the correct numbers\n",
      "The lambda-expression bubble_sort_enhanced_min seems to return ints\n",
      "2 out of 2\n"
     ]
    },
    {
     "data": {
      "text/plain": [
       "2"
      ]
     },
     "execution_count": 24,
     "metadata": {},
     "output_type": "execute_result"
    }
   ],
   "source": [
    "# 2 Marks\n",
    "# Do not try to delete this cell\n",
    "# Run this cell for grading\n",
    "_globals = globals()\n",
    "question1iid(_globals)"
   ]
  },
  {
   "cell_type": "markdown",
   "id": "caa7a877",
   "metadata": {
    "nbgrader": {
     "grade": false,
     "grade_id": "cell-82d2c5e109b2bb25",
     "locked": true,
     "schema_version": 3,
     "solution": false,
     "task": false
    }
   },
   "source": [
    "(e) Which of the following is true?\n",
    "\n",
    "<ol>\n",
    "    <li><code>bubble_sort_enhanced</code> is $O(n^2)$ and $\\Omega(n^2)$ and is therefore $\\Theta(n^2)$;</li>\n",
    "    <li><code>bubble_sort_enhanced</code> is $O(n^2)$ but not $\\Omega(n^2)$;</li>\n",
    "    <li><code>bubble_sort_enhanced</code> is $\\Omega(n^2)$ but not $O(n^2)$;</li>\n",
    "    <li><code>bubble_sort_enhanced</code> is neither $O(n^2)$ nor $\\Omega(n^2)$.</li>\n",
    "</ol>"
   ]
  },
  {
   "cell_type": "code",
   "execution_count": 25,
   "id": "09c3d7a0",
   "metadata": {
    "nbgrader": {
     "grade": false,
     "grade_id": "cell-e3da7eed97a107a2",
     "locked": false,
     "schema_version": 3,
     "solution": true,
     "task": false
    }
   },
   "outputs": [],
   "source": [
    "### BEGIN SOLUTION\n",
    "q1iie_answer = 2\n",
    "### END SOLUTION\n",
    "\n",
    "q1iieanswer = # insert one of 1, 2, 3 or 4"
   ]
  },
  {
   "cell_type": "code",
   "execution_count": 26,
   "id": "fdf93e92",
   "metadata": {
    "nbgrader": {
     "grade": true,
     "grade_id": "cell-8345e676a61b091f",
     "locked": true,
     "points": 1,
     "schema_version": 3,
     "solution": false,
     "task": false
    }
   },
   "outputs": [
    {
     "name": "stdout",
     "output_type": "stream",
     "text": [
      "test case passed!\n"
     ]
    }
   ],
   "source": [
    "# 1 Mark\n",
    "assert(q1iie_answer == question1iie())\n",
    "print('test case passed!')"
   ]
  },
  {
   "cell_type": "markdown",
   "id": "6a126ada",
   "metadata": {
    "nbgrader": {
     "grade": false,
     "grade_id": "cell-b64867d10f67526b",
     "locked": true,
     "schema_version": 3,
     "solution": false,
     "task": false
    }
   },
   "source": [
    "## Question 2\n",
    "\n",
    "This question is about <b>insertion sort</b>, which proceeds as follows.\n",
    "\n",
    "At every stage, think of $a_0$ as the item in position 0, $a_1$ the item in position 1, and so on; the values of these $a$'s may change.\n",
    "\n",
    "<ul>\n",
    "    <li>Compare $a_1$ with $a_0$. If $a_1 \\ge a_0$, do nothing; the pass is finished. \n",
    "        \n",
    "Otherwise, insert $a_1$ in position $0$ and shift $a_0$ along to position 1. \n",
    "\n",
    "The list is now sorted from position 0 to position 1.</li>\n",
    "    <li>Compare $a_2$ with (the possibly new) $a_1$. If $a_2 \\ge a_1$, do nothing. Otherwise, compare $a_2$ with $a_0$. \n",
    "    \n",
    "If $a_2 \\ge a_0$, insert $a_2$ in position 1 and shift $a_1$ along to position 2; otherwise, insert $a_2$ in position 0 and shift $a_0$ and $a_1$ along to positions 1 and 2 respectively.  \n",
    "\n",
    "The list is now sorted from position 0 to position 2.</li>\n",
    "    <li>Compare $a_3$ with (the possibly new) $a_2$. If $a_3 \\ge a_2$, do nothing. Otherwise, compare $a_3$ with $a_1$. \n",
    "    \n",
    "If $a_3 \\ge a_1$, insert $a_3$ in position 2 and shift $a_2$ along to position 3; otherwise, compare $a_3$ with $a_0$. \n",
    "\n",
    "If $a_3 \\ge a_0$, insert $a_3$ in position 1 and shift $a_1$ and $a_2$ along to positions 2 and 3; otherwise, insert $a_3$ in position 0 and shift $a_0$, $a_1$ and $a_2$ along to positions 1, 2 and 3.  \n",
    "\n",
    "The list is now sorted from position 0 to position 3.</li>\n",
    "    <li>And so on: on each pass, compare $a_n$ with $a_{n-1}$, then with $a_{n-2}$, etc, until the correct position for $a_n$ is found; then insert it there, moving as many items to the right as necessary to make room for it.\n",
    "\n",
    "The list will then be sorted from position 0 to position $n$.\n",
    "\n",
    "Keep going until the final element.</li>\n",
    "</ul>\n",
    "\n",
    "You can view animations on Blackboard."
   ]
  },
  {
   "cell_type": "markdown",
   "id": "879b6465",
   "metadata": {
    "nbgrader": {
     "grade": false,
     "grade_id": "cell-ab6279826f98fdeb",
     "locked": true,
     "schema_version": 3,
     "solution": false,
     "task": false
    }
   },
   "source": [
    "(a) Write a function called `insertion_pass` which should take two arguments: a list, `data`, and a positive integer representing the length of the already sorted sublist, `already_sorted`. It should then make one pass of insertion sort, inserting the next element in the correct position and increasing the length of the already sorted sublist by one.\n",
    "\n",
    "Thus for example\n",
    "```python\n",
    "data = [3, 5, 9, 4, 7, 2, 1, 6]\n",
    "insertion_pass(data, 3)\n",
    "print(data)\n",
    "```\n",
    "should give `[3, 4, 5, 9, 7, 2, 1, 6]`.\n",
    "\n",
    "Take care that your function only performs such comparisons as are necessary, stopping as soon as it can. Do not at this stage keep a comparison count, though."
   ]
  },
  {
   "cell_type": "code",
   "execution_count": 27,
   "id": "d75c648d",
   "metadata": {
    "nbgrader": {
     "grade": false,
     "grade_id": "cell-03416a7da53b1633",
     "locked": false,
     "schema_version": 3,
     "solution": true,
     "task": false
    }
   },
   "outputs": [
    {
     "name": "stdout",
     "output_type": "stream",
     "text": [
      "[3, 4, 5, 9, 7, 2, 1, 6]\n"
     ]
    }
   ],
   "source": [
    "def insertion_pass(data, already_sorted):\n",
    "    ### BEGIN SOLUTION\n",
    "    \"\"\"\n",
    "    Performs one pass of insertion sort, lengthening the already sorted\n",
    "    sublist by one.\n",
    "    \"\"\"\n",
    "    \n",
    "    # next item to be inserted\n",
    "    next_item = data[already_sorted]\n",
    "    \n",
    "    # initial value of insertion index\n",
    "    insertion_index = already_sorted-1\n",
    "    \n",
    "    # while loop\n",
    "    while next_item < data[insertion_index] and insertion_index > -1:\n",
    "        insertion_index -= 1\n",
    "    \n",
    "    # insert to the right of insertion_index\n",
    "    data[insertion_index+2:already_sorted+1] = \\\n",
    "    data[insertion_index+1:already_sorted]\n",
    "    data[insertion_index+1] = next_item\n",
    "    ### END SOLUTION\n",
    "\n",
    "# quick test\n",
    "data = [3, 5, 9, 4, 7, 2, 1, 6]\n",
    "insertion_pass(data, 3)\n",
    "print(data)"
   ]
  },
  {
   "cell_type": "code",
   "execution_count": 28,
   "id": "f4cbf5ad",
   "metadata": {
    "nbgrader": {
     "grade": true,
     "grade_id": "cell-d29ef87c4e42e6f8",
     "locked": true,
     "points": 2,
     "schema_version": 3,
     "solution": false,
     "task": false
    }
   },
   "outputs": [
    {
     "name": "stdout",
     "output_type": "stream",
     "text": [
      "insertion_pass seems be working correctly\n",
      "Your function seems to have a docstring\n",
      "2 out of 2\n"
     ]
    },
    {
     "data": {
      "text/plain": [
       "2"
      ]
     },
     "execution_count": 28,
     "metadata": {},
     "output_type": "execute_result"
    }
   ],
   "source": [
    "# 2 Marks\n",
    "# Do not try to delete this cell\n",
    "# Run this cell for grading\n",
    "_globals = globals()\n",
    "question2a(_globals)"
   ]
  },
  {
   "cell_type": "markdown",
   "id": "f498d145",
   "metadata": {
    "nbgrader": {
     "grade": false,
     "grade_id": "cell-005d279c98f7fd25",
     "locked": true,
     "schema_version": 3,
     "solution": false,
     "task": false
    }
   },
   "source": [
    "(b) Hence, write a function called `insertion_sort`, which sorts `data` in place using insertion sort."
   ]
  },
  {
   "cell_type": "code",
   "execution_count": 8,
   "id": "485e8945",
   "metadata": {
    "nbgrader": {
     "grade": false,
     "grade_id": "cell-39fc3085c2b00537",
     "locked": false,
     "schema_version": 3,
     "solution": true,
     "task": false
    }
   },
   "outputs": [],
   "source": [
    "def insertion_sort(data):\n",
    "    ### BEGIN SOLUTION\n",
    "    \"\"\"\n",
    "    Sorts data using insertion sort\n",
    "    \"\"\"\n",
    "    \n",
    "    for already_sorted in range(1,len(data)):\n",
    "        insertion_pass(data, already_sorted)\n",
    "    ### END SOLUTION"
   ]
  },
  {
   "cell_type": "code",
   "execution_count": 30,
   "id": "057074aa",
   "metadata": {
    "nbgrader": {
     "grade": true,
     "grade_id": "cell-70e6a78021d7268b",
     "locked": true,
     "points": 2,
     "schema_version": 3,
     "solution": false,
     "task": false
    }
   },
   "outputs": [
    {
     "name": "stdout",
     "output_type": "stream",
     "text": [
      "insertion_sort seems to sort lists correctly\n",
      "Your function seems to have a docstring\n",
      "2 out of 2\n"
     ]
    },
    {
     "data": {
      "text/plain": [
       "2"
      ]
     },
     "execution_count": 30,
     "metadata": {},
     "output_type": "execute_result"
    }
   ],
   "source": [
    "# 2 Marks\n",
    "# Do not try to delete this cell\n",
    "# Run this cell for grading\n",
    "_globals = globals()\n",
    "question2b(_globals)"
   ]
  },
  {
   "cell_type": "markdown",
   "id": "e6d372b4",
   "metadata": {
    "nbgrader": {
     "grade": false,
     "grade_id": "cell-b70350533e82809d",
     "locked": true,
     "schema_version": 3,
     "solution": false,
     "task": false
    }
   },
   "source": [
    "(c) Test your new function on `data`, which should be a copy of `masterList`."
   ]
  },
  {
   "cell_type": "code",
   "execution_count": 31,
   "id": "c666e88e",
   "metadata": {
    "nbgrader": {
     "grade": false,
     "grade_id": "cell-db412796a141c807",
     "locked": false,
     "schema_version": 3,
     "solution": true,
     "task": false
    }
   },
   "outputs": [
    {
     "name": "stdout",
     "output_type": "stream",
     "text": [
      "[3, 5, 7, 12, 17, 18, 19, 21, 22, 24, 26, 27, 29, 31, 34, 40]\n"
     ]
    }
   ],
   "source": [
    "### BEGIN SOLUTION\n",
    "data = copy(masterList)\n",
    "insertion_sort(data)\n",
    "### END SOLUTION\n",
    "\n",
    "print(data)"
   ]
  },
  {
   "cell_type": "code",
   "execution_count": 32,
   "id": "959d682a",
   "metadata": {
    "nbgrader": {
     "grade": true,
     "grade_id": "cell-44dd959ce673b63d",
     "locked": true,
     "points": 1,
     "schema_version": 3,
     "solution": false,
     "task": false
    }
   },
   "outputs": [
    {
     "name": "stdout",
     "output_type": "stream",
     "text": [
      "data has been sorted correctly\n",
      "Test passed!\n"
     ]
    },
    {
     "data": {
      "text/plain": [
       "1"
      ]
     },
     "execution_count": 32,
     "metadata": {},
     "output_type": "execute_result"
    }
   ],
   "source": [
    "# 1 Mark\n",
    "# Do not try to delete this cell\n",
    "# Run this cell for grading\n",
    "_globals = globals()\n",
    "question2c(_globals)"
   ]
  },
  {
   "cell_type": "markdown",
   "id": "883c0866",
   "metadata": {
    "nbgrader": {
     "grade": false,
     "grade_id": "cell-f8553df23164a3ce",
     "locked": true,
     "schema_version": 3,
     "solution": false,
     "task": false
    }
   },
   "source": [
    "(d) Try to think this through from first principles! With a data list of length 16, what is the maximum number of comparisons that are necessary for insertion sort, if on every pass it's necessary to compare $a_n$ with $a_{n-1}$, $a_{n-2}$, all the way down to $a_0$?"
   ]
  },
  {
   "cell_type": "code",
   "execution_count": 33,
   "id": "f56a4e4a",
   "metadata": {
    "nbgrader": {
     "grade": false,
     "grade_id": "cell-a0106c641a3c6e1f",
     "locked": false,
     "schema_version": 3,
     "solution": true,
     "task": false
    }
   },
   "outputs": [],
   "source": [
    "### BEGIN SOLUTION\n",
    "q2d_answer = 120\n",
    "### END SOLUTION\n",
    "\n",
    "q2d_answer = # insert your answer here as an int"
   ]
  },
  {
   "cell_type": "code",
   "execution_count": 34,
   "id": "f52d8188",
   "metadata": {
    "nbgrader": {
     "grade": true,
     "grade_id": "cell-841d490288aa8680",
     "locked": true,
     "points": 1,
     "schema_version": 3,
     "solution": false,
     "task": false
    }
   },
   "outputs": [
    {
     "name": "stdout",
     "output_type": "stream",
     "text": [
      "test case passed!\n"
     ]
    }
   ],
   "source": [
    "# 1 Mark\n",
    "assert(q2d_answer == question2d())\n",
    "print('test case passed!')"
   ]
  },
  {
   "cell_type": "markdown",
   "id": "8089e32f",
   "metadata": {
    "nbgrader": {
     "grade": false,
     "grade_id": "cell-fffa911c2f14f62b",
     "locked": true,
     "schema_version": 3,
     "solution": false,
     "task": false
    }
   },
   "source": [
    "(e) Give an example of a \"worst case\" data list of length 16 for which this many comparisons are necessary."
   ]
  },
  {
   "cell_type": "code",
   "execution_count": 35,
   "id": "30373a0b",
   "metadata": {
    "nbgrader": {
     "grade": false,
     "grade_id": "cell-cdbd5264310c1038",
     "locked": false,
     "schema_version": 3,
     "solution": true,
     "task": false
    }
   },
   "outputs": [],
   "source": [
    "### BEGIN SOLUTION\n",
    "insertion_sort_length16_worstcase = list(range(16,0,-1))\n",
    "### END SOLUTION\n",
    "\n",
    "insertion_sort_length16_worstcase = # insert your example here"
   ]
  },
  {
   "cell_type": "code",
   "execution_count": 36,
   "id": "10f470a2",
   "metadata": {
    "nbgrader": {
     "grade": true,
     "grade_id": "cell-31776121b072bf85",
     "locked": true,
     "points": 1,
     "schema_version": 3,
     "solution": false,
     "task": false
    }
   },
   "outputs": [
    {
     "name": "stdout",
     "output_type": "stream",
     "text": [
      "We agree: this seems to be a good 'worst case'\n",
      "Test passed!\n"
     ]
    },
    {
     "data": {
      "text/plain": [
       "1"
      ]
     },
     "execution_count": 36,
     "metadata": {},
     "output_type": "execute_result"
    }
   ],
   "source": [
    "# 1 Mark\n",
    "# Do not try to delete this cell\n",
    "# Run this cell for grading\n",
    "_globals = globals()\n",
    "question2e(_globals)"
   ]
  },
  {
   "cell_type": "markdown",
   "id": "6db2a3c0",
   "metadata": {
    "nbgrader": {
     "grade": false,
     "grade_id": "cell-795ac284b1d0827f",
     "locked": true,
     "schema_version": 3,
     "solution": false,
     "task": false
    }
   },
   "source": [
    "(f) Try to think this through from first principles! With a data list of length 16, what is the minimum number of comparisons that are necessary for insertion sort, if on every pass it's only necessary to compare $a_n$ with $a_{n-1}$?"
   ]
  },
  {
   "cell_type": "code",
   "execution_count": 37,
   "id": "0246c74b",
   "metadata": {
    "nbgrader": {
     "grade": false,
     "grade_id": "cell-691ac8cf4516f2c7",
     "locked": false,
     "schema_version": 3,
     "solution": true,
     "task": false
    }
   },
   "outputs": [],
   "source": [
    "### BEGIN SOLUTION\n",
    "q2f_answer = 15\n",
    "### END SOLUTION\n",
    "\n",
    "q2f_answer = # insert your answer here as an int"
   ]
  },
  {
   "cell_type": "code",
   "execution_count": 38,
   "id": "e91fbf20",
   "metadata": {
    "nbgrader": {
     "grade": true,
     "grade_id": "cell-b566cccf4417a613",
     "locked": true,
     "points": 1,
     "schema_version": 3,
     "solution": false,
     "task": false
    }
   },
   "outputs": [
    {
     "name": "stdout",
     "output_type": "stream",
     "text": [
      "test case passed!\n"
     ]
    }
   ],
   "source": [
    "# 1 Mark\n",
    "assert(q2f_answer == question2f())\n",
    "print('test case passed!')"
   ]
  },
  {
   "cell_type": "markdown",
   "id": "7b1e8d71",
   "metadata": {
    "nbgrader": {
     "grade": false,
     "grade_id": "cell-33127564d0c73479",
     "locked": true,
     "schema_version": 3,
     "solution": false,
     "task": false
    }
   },
   "source": [
    "(g) Give an example of a \"best case\" data list of length 16 for which this many comparisons are necessary."
   ]
  },
  {
   "cell_type": "code",
   "execution_count": 39,
   "id": "0db51b30",
   "metadata": {
    "nbgrader": {
     "grade": false,
     "grade_id": "cell-db849fdbc2093719",
     "locked": false,
     "schema_version": 3,
     "solution": true,
     "task": false
    }
   },
   "outputs": [],
   "source": [
    "### BEGIN SOLUTION\n",
    "insertion_sort_length16_bestcase = list(range(16))\n",
    "### END SOLUTION\n",
    "\n",
    "insertion_sort_length16_bestcase = # insert your example here"
   ]
  },
  {
   "cell_type": "code",
   "execution_count": 40,
   "id": "ddd8581a",
   "metadata": {
    "nbgrader": {
     "grade": true,
     "grade_id": "cell-1ea7a4fe94aef220",
     "locked": true,
     "points": 1,
     "schema_version": 3,
     "solution": false,
     "task": false
    }
   },
   "outputs": [
    {
     "name": "stdout",
     "output_type": "stream",
     "text": [
      "15\n",
      "We agree: this seems to be a good 'best case'\n",
      "Test passed!\n"
     ]
    },
    {
     "data": {
      "text/plain": [
       "1"
      ]
     },
     "execution_count": 40,
     "metadata": {},
     "output_type": "execute_result"
    }
   ],
   "source": [
    "# 1 Mark\n",
    "# Do not try to delete this cell\n",
    "# Run this cell for grading\n",
    "_globals = globals()\n",
    "question2g(_globals)"
   ]
  },
  {
   "cell_type": "markdown",
   "id": "65e99924",
   "metadata": {
    "nbgrader": {
     "grade": false,
     "grade_id": "cell-64496bea95c1ce2d",
     "locked": true,
     "schema_version": 3,
     "solution": false,
     "task": false
    }
   },
   "source": [
    "(h) Introduce a global variable called `comparison_count` into your `insertion_pass` function, which should go up by 1 for each comparison it makes. (This might need some thought; depending on how your program works, it could be quite tricky.) \n",
    "\n",
    "Once you've done this, you will have no need to make any changes to `insertion_sort`; the count of comparisons will happen automatically.\n",
    "\n",
    "Use this feature to test your answers to (c), (d), (e) and (f).\n",
    "\n",
    "Test this feature too on a copy of `masterList`."
   ]
  },
  {
   "cell_type": "code",
   "execution_count": 13,
   "id": "51b0bba4",
   "metadata": {
    "nbgrader": {
     "grade": false,
     "grade_id": "cell-d60f031ae23949de",
     "locked": false,
     "schema_version": 3,
     "solution": true,
     "task": false
    }
   },
   "outputs": [],
   "source": [
    "# Cell for defining your function\n",
    "\n",
    "def insertion_pass(data, already_sorted):\n",
    "    ### BEGIN SOLUTION\n",
    "    \"\"\"\n",
    "    Performs one pass of insertion sort, lengthening the already sorted\n",
    "    sublist by one.\n",
    "    \"\"\"\n",
    "    \n",
    "    global comparison_count\n",
    "    \n",
    "    # next item to be inserted\n",
    "    next_item = data[already_sorted]\n",
    "    \n",
    "    # initial value of insertion index\n",
    "    insertion_index = already_sorted-1\n",
    "    \n",
    "    # while loop\n",
    "    # about to perform comparison; increment count\n",
    "    comparison_count += 1\n",
    "    while insertion_index > -1 and next_item < data[insertion_index]:\n",
    "        # about to return to top of loop; increment count\n",
    "        comparison_count += 1\n",
    "        insertion_index -= 1\n",
    "    \n",
    "    # loop may have ended because insertion_index hit -1\n",
    "    # in this case, no comparison will have been carried out\n",
    "    # comparison_count is off by one; must be corrected\n",
    "    if insertion_index == -1:\n",
    "        comparison_count -= 1\n",
    "    \n",
    "    # insert to the right of insertion_index\n",
    "    data[insertion_index+2:already_sorted+1] = \\\n",
    "    data[insertion_index+1:already_sorted]\n",
    "    data[insertion_index+1] = next_item\n",
    "    ### END SOLUTION"
   ]
  },
  {
   "cell_type": "code",
   "execution_count": 14,
   "id": "fa49cc48",
   "metadata": {
    "nbgrader": {
     "grade": true,
     "grade_id": "cell-0c5de2505f5a39ea",
     "locked": true,
     "points": 3,
     "schema_version": 3,
     "solution": false,
     "task": false
    }
   },
   "outputs": [
    {
     "name": "stdout",
     "output_type": "stream",
     "text": [
      "insertion_sort seems to sort lists correctly\n",
      "Your function requires exactly the same number of comparisons as ours\n",
      "Your function seems to have a docstring\n",
      "3 out of 3\n"
     ]
    },
    {
     "data": {
      "text/plain": [
       "3"
      ]
     },
     "execution_count": 14,
     "metadata": {},
     "output_type": "execute_result"
    }
   ],
   "source": [
    "# 3 Marks\n",
    "# Do not try to delete this cell\n",
    "# Run this cell for grading\n",
    "_globals = globals()\n",
    "question2hfunc(_globals)"
   ]
  },
  {
   "cell_type": "code",
   "execution_count": 43,
   "id": "0988c1c9",
   "metadata": {
    "nbgrader": {
     "grade": false,
     "grade_id": "cell-07bb149de176d2bf",
     "locked": false,
     "schema_version": 3,
     "solution": true,
     "task": false
    }
   },
   "outputs": [
    {
     "name": "stdout",
     "output_type": "stream",
     "text": [
      "[3, 5, 7, 12, 17, 18, 19, 21, 22, 24, 26, 27, 29, 31, 34, 40]\n",
      "83\n"
     ]
    }
   ],
   "source": [
    "# cell for testing on a copy of masterList\n",
    "\n",
    "### BEGIN SOLUTION\n",
    "data = copy(masterList)\n",
    "comparison_count = 0\n",
    "insertion_sort(data)\n",
    "### END SOLUTION\n",
    "\n",
    "print(data)\n",
    "print(comparison_count)"
   ]
  },
  {
   "cell_type": "code",
   "execution_count": 44,
   "id": "dbf86378",
   "metadata": {
    "nbgrader": {
     "grade": true,
     "grade_id": "cell-e0a8eaee2d129964",
     "locked": true,
     "points": 2,
     "schema_version": 3,
     "solution": false,
     "task": false
    }
   },
   "outputs": [
    {
     "name": "stdout",
     "output_type": "stream",
     "text": [
      "data has been sorted correctly\n",
      "Your function requires exactly the same number of comparisons as ours\n",
      "2 out of 2\n"
     ]
    },
    {
     "data": {
      "text/plain": [
       "2"
      ]
     },
     "execution_count": 44,
     "metadata": {},
     "output_type": "execute_result"
    }
   ],
   "source": [
    "# 3 Marks\n",
    "# Do not try to delete this cell\n",
    "# Run this cell for grading\n",
    "_globals = globals()\n",
    "question2htest(_globals)"
   ]
  },
  {
   "cell_type": "markdown",
   "id": "a5d4cd10",
   "metadata": {
    "nbgrader": {
     "grade": false,
     "grade_id": "cell-d852ae35b85ac501",
     "locked": true,
     "schema_version": 3,
     "solution": false,
     "task": false
    }
   },
   "source": [
    "(j) Experiment. Which of the following seems to be true?\n",
    "\n",
    "<ol>\n",
    "    <li>Insertion sort outperforms bubble sort in the worst case and the best case, and seems to outperform it in the typical case.</li>\n",
    "    <li>Insertion sort outperforms bubble sort in the worst case, and seems to outperform it in the typical case, but performs exactly as well in the best case.</li>\n",
    "    <li>Insertion sort outperforms bubble sort in the best case, and seems to outperform it in the typical case, but performs exactly as well in the worst case.</li>\n",
    "    <li>Insertion sort seems to outperform bubble sort in the typical case, but performs exactly as well in the worst case and best case.</li>\n",
    "    <li>Insertion sort performs exactly as well as bubble sort in the worst case and best case, and roughly as well in the typical case.</li>\n",
    "</ol>"
   ]
  },
  {
   "cell_type": "code",
   "execution_count": 45,
   "id": "a47f83ce",
   "metadata": {
    "nbgrader": {
     "grade": false,
     "grade_id": "cell-e6188a6359fa00ca",
     "locked": false,
     "schema_version": 3,
     "solution": true,
     "task": false
    }
   },
   "outputs": [],
   "source": [
    "### BEGIN SOLUTION\n",
    "q2j_answer = 4\n",
    "### END SOLUTION\n",
    "\n",
    "q2j_answer = # insert one of 1, 2, 3, 4 or 5"
   ]
  },
  {
   "cell_type": "code",
   "execution_count": 46,
   "id": "b5dd217e",
   "metadata": {
    "nbgrader": {
     "grade": true,
     "grade_id": "cell-99c353404a5c658e",
     "locked": true,
     "points": 1,
     "schema_version": 3,
     "solution": false,
     "task": false
    }
   },
   "outputs": [
    {
     "name": "stdout",
     "output_type": "stream",
     "text": [
      "test case passed!\n"
     ]
    }
   ],
   "source": [
    "# 1 Mark\n",
    "assert(q2j_answer == question2j())\n",
    "print('test case passed!')"
   ]
  },
  {
   "cell_type": "markdown",
   "id": "0efa65ef",
   "metadata": {
    "nbgrader": {
     "grade": false,
     "grade_id": "cell-ae4bdc93780638cd",
     "locked": true,
     "schema_version": 3,
     "solution": false,
     "task": false
    }
   },
   "source": [
    "## Question 3\n",
    "\n",
    "This question is about <b>merge sort</b>, which is a more sophisticated sorting algorithm than selection sort, bubble sort or insertion sort.\n",
    "\n",
    "### (i)\n",
    "\n",
    "At its core is the idea of merging the contents of two <b>buffers</b>, each of which is assumed to be itself already sorted. Before we get on to how the sort itself works, let's consider this merging operation.\n",
    "\n",
    "We start with two lists of length 3 and 4 respectively, which we'll call `left_buffer` and `right_buffer`, and a destination list called `data`, of length 7. Now, `data` can have any old junk in it as far as the merge operation is concerned, so let's fill it with zeros. So we start off like this:\n",
    "\n",
    "`left_buffer`: 3, 7, 8\n",
    "\n",
    "`right_buffer`: 2, 5, 9, 10\n",
    "\n",
    "`data`: 0, 0, 0, 0, 0, 0, 0\n",
    "\n",
    "Notice that `left_buffer` and `right_buffer` are already sorted.\n",
    "\n",
    "Our first move is to compare the position 0 elements of the two buffers: 3 and 2. The smaller is 2, so we choose that one, and place it in position 0 of data:\n",
    "\n",
    "`left_buffer`: 3, 7, 8\n",
    "\n",
    "`right_buffer`: <font color='gray'>2</font>, 5, 9, 10\n",
    "\n",
    "`data`: 2, 0, 0, 0, 0, 0, 0\n",
    "\n",
    "I've \"grayed out\" 2, as it's been used.\n",
    "\n",
    "Now we compare the position 0 element of `left_buffer` with the position 1 element of the partially used-up `right_buffer`: 3 and 5. The smaller is 3, so we use that:\n",
    "\n",
    "`left_buffer`: <font color='gray'>3</font>, 7, 8\n",
    "\n",
    "`right_buffer`: <font color='gray'>2</font>, 5, 9, 10\n",
    "\n",
    "`data`: 2, 3, 0, 0, 0, 0, 0\n",
    "\n",
    "Now we compare the position 1 elements in each buffer: 5 and 7. This gives\n",
    "\n",
    "`left_buffer`: <font color='gray'>3</font>, 7, 8\n",
    "\n",
    "`right_buffer`: <font color='gray'>2</font>, <font color='gray'>5</font>, 9, 10\n",
    "\n",
    "`data`: 2, 3, 5, 0, 0, 0, 0\n",
    "\n",
    "And so on. We eventually get to this situation:\n",
    "\n",
    "`left_buffer`: <font color='gray'>3</font>, <font color='gray'>7</font>, <font color='gray'>8</font>\n",
    "\n",
    "`right_buffer`: <font color='gray'>2</font>, <font color='gray'>5</font>, 9, 10\n",
    "\n",
    "`data`: 2, 3, 5, 7, 8, 0, 0\n",
    "\n",
    "At this point, with one of the buffers used up, we're done, and we can fill in the remaining data:\n",
    "\n",
    "`left_buffer`: <font color='gray'>3</font>, <font color='gray'>7</font>, <font color='gray'>8</font>\n",
    "\n",
    "`right_buffer`: <font color='gray'>2</font>, <font color='gray'>5</font>, <font color='gray'>9</font>, <font color='gray'>10</font>\n",
    "\n",
    "`data`: 2, 3, 5, 7, 8, 9, 10\n"
   ]
  },
  {
   "cell_type": "markdown",
   "id": "b1e41e0a",
   "metadata": {
    "nbgrader": {
     "grade": false,
     "grade_id": "cell-6a6a76c9cb3d43d8",
     "locked": true,
     "schema_version": 3,
     "solution": false,
     "task": false
    }
   },
   "source": [
    "(a) Write a function called `merge`, which takes as its arguments three lists, `left_buffer`, `right_buffer` and `data`, and merges `left_buffer` and `right_buffer` into `data` in place (that is, as a side-effect; it should return no output).\n",
    "\n",
    "Try to make sure you carry out only such comparisons as are necessary, but don't at this stage include a comparison count.\n",
    "\n",
    "Test it: the following code\n",
    "```python\n",
    "left_buffer = [3, 7, 8]\n",
    "right_buffer = [2, 5, 9, 10]\n",
    "data = [0, 0, 0, 0, 0, 0, 0]\n",
    "merge(left_buffer, right_buffer, data)\n",
    "print(data)\n",
    "```\n",
    "\n",
    "should give `[2, 3, 5, 7, 8, 9, 10]`"
   ]
  },
  {
   "cell_type": "code",
   "execution_count": 47,
   "id": "57b951d2",
   "metadata": {
    "nbgrader": {
     "grade": false,
     "grade_id": "cell-5e22b2fe4863815c",
     "locked": false,
     "schema_version": 3,
     "solution": true,
     "task": false
    }
   },
   "outputs": [
    {
     "name": "stdout",
     "output_type": "stream",
     "text": [
      "[2, 3, 5, 7, 8, 9, 10]\n"
     ]
    }
   ],
   "source": [
    "def merge(left_buffer, right_buffer, data):\n",
    "    ### BEGIN SOLUTION\n",
    "    \"\"\"\n",
    "    Merges left_buffer and right_buffer into data in place\n",
    "    \"\"\"\n",
    "    \n",
    "    # initialize indexes\n",
    "    left_index = right_index = main_index = 0\n",
    "    \n",
    "    # loop for as long as neither buffer used up\n",
    "    while left_index < len(left_buffer) and right_index < len(right_buffer):\n",
    "        # left buffer has smaller element\n",
    "        if left_buffer[left_index] < right_buffer[right_index]:\n",
    "            data[main_index] = left_buffer[left_index]\n",
    "            left_index += 1\n",
    "        # otherwise\n",
    "        else:\n",
    "            data[main_index] = right_buffer[right_index]\n",
    "            right_index += 1\n",
    "        main_index += 1\n",
    "    \n",
    "    # left buffer not used up\n",
    "    if left_index < len(left_buffer):\n",
    "        data[main_index:] = left_buffer[left_index:]\n",
    "    # right buffer not used up\n",
    "    else:\n",
    "        data[main_index:] = right_buffer[right_index:]\n",
    "    ### END SOLUTION\n",
    "    \n",
    "# quick test\n",
    "left_buffer = [3, 7, 8]\n",
    "right_buffer = [2, 5, 9, 10]\n",
    "data = [0, 0, 0, 0, 0, 0, 0]\n",
    "merge(left_buffer, right_buffer, data)\n",
    "print(data)"
   ]
  },
  {
   "cell_type": "code",
   "execution_count": 48,
   "id": "05380402",
   "metadata": {
    "nbgrader": {
     "grade": true,
     "grade_id": "cell-02a6bb6d95db6df1",
     "locked": true,
     "points": 2,
     "schema_version": 3,
     "solution": false,
     "task": false
    }
   },
   "outputs": [
    {
     "name": "stdout",
     "output_type": "stream",
     "text": [
      "merge seems to be working correctly\n",
      "Your function seems to have a docstring\n",
      "2 out of 2\n"
     ]
    },
    {
     "data": {
      "text/plain": [
       "2"
      ]
     },
     "execution_count": 48,
     "metadata": {},
     "output_type": "execute_result"
    }
   ],
   "source": [
    "# 2 Marks\n",
    "# Do not try to delete this cell\n",
    "# Run this cell for grading\n",
    "_globals = globals()\n",
    "question3ia(_globals)"
   ]
  },
  {
   "cell_type": "markdown",
   "id": "d6806c9d",
   "metadata": {
    "nbgrader": {
     "grade": false,
     "grade_id": "cell-ca431ffaa503e965",
     "locked": true,
     "schema_version": 3,
     "solution": false,
     "task": false
    }
   },
   "source": [
    "(b) What is the least number of comparisons necessary in order to merge two sorted buffers of length 8 into a data list of length 16?"
   ]
  },
  {
   "cell_type": "code",
   "execution_count": 49,
   "id": "f43f9a96",
   "metadata": {
    "nbgrader": {
     "grade": false,
     "grade_id": "cell-8ed0c9720cee139e",
     "locked": false,
     "schema_version": 3,
     "solution": true,
     "task": false
    }
   },
   "outputs": [],
   "source": [
    "### BEGIN SOLUTION\n",
    "q3ib_answer = 8\n",
    "### END SOLUTION\n",
    "\n",
    "q3ib_answer = # insert your answer here as an int"
   ]
  },
  {
   "cell_type": "code",
   "execution_count": 50,
   "id": "07b6752f",
   "metadata": {
    "nbgrader": {
     "grade": true,
     "grade_id": "cell-433aefcb80f0a160",
     "locked": true,
     "points": 1,
     "schema_version": 3,
     "solution": false,
     "task": false
    }
   },
   "outputs": [
    {
     "name": "stdout",
     "output_type": "stream",
     "text": [
      "test case passed!\n"
     ]
    }
   ],
   "source": [
    "# 1 Mark\n",
    "assert(q3ib_answer == question3ib())\n",
    "print('test case passed!')"
   ]
  },
  {
   "cell_type": "markdown",
   "id": "76a6e118",
   "metadata": {},
   "source": [
    "(c) What is the greatest number of comparisons necessary in order to merge two sorted buffers of length 8 into a data list of length 16?"
   ]
  },
  {
   "cell_type": "code",
   "execution_count": 51,
   "id": "ed0dae1d",
   "metadata": {
    "nbgrader": {
     "grade": false,
     "grade_id": "cell-724c6fa937558218",
     "locked": false,
     "schema_version": 3,
     "solution": true,
     "task": false
    }
   },
   "outputs": [],
   "source": [
    "### BEGIN SOLUTION\n",
    "q3ic_answer = 15\n",
    "### END SOLUTION\n",
    "\n",
    "q3ic_answer = # insert your answer here as an int"
   ]
  },
  {
   "cell_type": "code",
   "execution_count": 52,
   "id": "ad0e157c",
   "metadata": {
    "nbgrader": {
     "grade": true,
     "grade_id": "cell-c4cd301632439d83",
     "locked": true,
     "points": 1,
     "schema_version": 3,
     "solution": false,
     "task": false
    }
   },
   "outputs": [
    {
     "name": "stdout",
     "output_type": "stream",
     "text": [
      "test case passed!\n"
     ]
    }
   ],
   "source": [
    "# 1 Mark\n",
    "assert(q3ic_answer == question3ic())\n",
    "print('test case passed!')"
   ]
  },
  {
   "cell_type": "markdown",
   "id": "bab10985",
   "metadata": {
    "nbgrader": {
     "grade": false,
     "grade_id": "cell-3eea479b25ee8b53",
     "locked": true,
     "schema_version": 3,
     "solution": false,
     "task": false
    }
   },
   "source": [
    "### (ii) \n",
    "\n",
    "One way to implement merge sort itself is <b>recursively</b>. The algorithm goes like this.\n",
    "\n",
    "To merge sort `data`:\n",
    "\n",
    "If `data` consists of only one element, do nothing. Otherwise,\n",
    "\n",
    "<ul>\n",
    "    <li>Let <code>half_length</code> be half the length of <code>data</code>.</li>\n",
    "    <li>Let <code>left_half</code> be <code>data[0:half_length]</code> and <code>right_half</code> the rest.</li>\n",
    "    <li>Merge sort <code>left_half</code>.</li>\n",
    "    <li>Merge sort <code>right_half</code>.</li>    \n",
    "    <li>Merge <code>left_half</code> and <code>right_half</code> into <code>data</code>.</li>\n",
    "</ul>\n",
    "\n",
    "(a) Write a function called `merge_sort` based on the above description, and test it on a variety of data lists."
   ]
  },
  {
   "cell_type": "code",
   "execution_count": 53,
   "id": "a5f8835b",
   "metadata": {
    "nbgrader": {
     "grade": false,
     "grade_id": "cell-0a0b52801a29d664",
     "locked": false,
     "schema_version": 3,
     "solution": true,
     "task": false
    }
   },
   "outputs": [],
   "source": [
    "def merge_sort(data):\n",
    "    ### BEGIN SOLUTION\n",
    "    \"\"\"\n",
    "    Sorts data using merge sort\n",
    "    \"\"\"\n",
    "    \n",
    "    # number of data items\n",
    "    ndata = len(data)\n",
    "    \n",
    "    # if data is of length 1, do nothing; otherwise...\n",
    "    if ndata > 1:\n",
    "        # half the length\n",
    "        half_length = ndata//2\n",
    "        \n",
    "        # two buffers\n",
    "        left_half = data[0:half_length]\n",
    "        right_half = data[half_length:ndata]\n",
    "        \n",
    "        # recursively sort the buffers\n",
    "        merge_sort(left_half)\n",
    "        merge_sort(right_half)\n",
    "        \n",
    "        # merge\n",
    "        merge(left_half,right_half,data)\n",
    "    ### END SOLUTION"
   ]
  },
  {
   "cell_type": "code",
   "execution_count": 54,
   "id": "ebf037c5",
   "metadata": {
    "nbgrader": {
     "grade": true,
     "grade_id": "cell-048ab5d080208523",
     "locked": true,
     "points": 2,
     "schema_version": 3,
     "solution": false,
     "task": false
    }
   },
   "outputs": [
    {
     "name": "stdout",
     "output_type": "stream",
     "text": [
      "merge_sort seems to sort lists correctly\n",
      "Your function seems to have a docstring\n",
      "2 out of 2\n"
     ]
    },
    {
     "data": {
      "text/plain": [
       "2"
      ]
     },
     "execution_count": 54,
     "metadata": {},
     "output_type": "execute_result"
    }
   ],
   "source": [
    "# 2 Marks\n",
    "# Do not try to delete this cell\n",
    "# Run this cell for grading\n",
    "_globals = globals()\n",
    "question3iia(_globals)"
   ]
  },
  {
   "cell_type": "markdown",
   "id": "d01d729d",
   "metadata": {
    "nbgrader": {
     "grade": false,
     "grade_id": "cell-a46ea7887ba74ff4",
     "locked": true,
     "schema_version": 3,
     "solution": false,
     "task": false
    }
   },
   "source": [
    "To merge sort a list of length 16, you must first merge sort two lists of length 8, then merge them; each list of length 8 has been created from two merge-sorted lists of length 4, and so on.\n",
    "\n",
    "(b) In the best case, how many comparisons are necessary in order to merge sort a list of length 16?"
   ]
  },
  {
   "cell_type": "code",
   "execution_count": 55,
   "id": "22d51076",
   "metadata": {
    "nbgrader": {
     "grade": false,
     "grade_id": "cell-1f6f920745570a96",
     "locked": false,
     "schema_version": 3,
     "solution": true,
     "task": false
    }
   },
   "outputs": [],
   "source": [
    "### BEGIN SOLUTION\n",
    "q3iib_answer = 32\n",
    "### END SOLUTION\n",
    "\n",
    "q3iib_answer = # insert your answer here as an int"
   ]
  },
  {
   "cell_type": "code",
   "execution_count": 56,
   "id": "d034685c",
   "metadata": {
    "nbgrader": {
     "grade": true,
     "grade_id": "cell-af5fbf8fd5ab73e9",
     "locked": true,
     "points": 1,
     "schema_version": 3,
     "solution": false,
     "task": false
    }
   },
   "outputs": [
    {
     "name": "stdout",
     "output_type": "stream",
     "text": [
      "test case passed!\n"
     ]
    }
   ],
   "source": [
    "# 1 Mark\n",
    "assert(q3iib_answer == question3iib())\n",
    "print('test case passed!')"
   ]
  },
  {
   "cell_type": "markdown",
   "id": "e95b4f15",
   "metadata": {},
   "source": [
    "(c) In the worst case, how many comparisons are necessary in order to merge sort a list of length 16?"
   ]
  },
  {
   "cell_type": "code",
   "execution_count": 57,
   "id": "befa54ef",
   "metadata": {
    "nbgrader": {
     "grade": false,
     "grade_id": "cell-fce1317ba6e870b5",
     "locked": false,
     "schema_version": 3,
     "solution": true,
     "task": false
    }
   },
   "outputs": [],
   "source": [
    "### BEGIN SOLUTION\n",
    "q3iic_answer = 49\n",
    "### END SOLUTION\n",
    "\n",
    "q3iic_answer = # insert your answer here as an int"
   ]
  },
  {
   "cell_type": "code",
   "execution_count": 58,
   "id": "4aaa1725",
   "metadata": {
    "nbgrader": {
     "grade": true,
     "grade_id": "cell-5ffd72f11f725263",
     "locked": true,
     "points": 1,
     "schema_version": 3,
     "solution": false,
     "task": false
    }
   },
   "outputs": [
    {
     "name": "stdout",
     "output_type": "stream",
     "text": [
      "test case passed!\n"
     ]
    }
   ],
   "source": [
    "# 1 Mark\n",
    "assert(q3iic_answer == question3iic())\n",
    "print('test case passed!')"
   ]
  },
  {
   "cell_type": "markdown",
   "id": "5050abe5",
   "metadata": {
    "nbgrader": {
     "grade": false,
     "grade_id": "cell-3cb2d67e1256268e",
     "locked": true,
     "schema_version": 3,
     "solution": false,
     "task": false
    }
   },
   "source": [
    "(d) <b>This is genuinely tricky</b>. In the best case, how many comparisons are necessary in order to merge sort a list of length $2^m$? Give your answer as a lambda-expression called `merge_sort_min`."
   ]
  },
  {
   "cell_type": "code",
   "execution_count": 59,
   "id": "9bcc3972",
   "metadata": {
    "nbgrader": {
     "grade": false,
     "grade_id": "cell-6f326d0825f9f749",
     "locked": false,
     "schema_version": 3,
     "solution": true,
     "task": false
    }
   },
   "outputs": [
    {
     "name": "stdout",
     "output_type": "stream",
     "text": [
      "32\n"
     ]
    }
   ],
   "source": [
    "### BEGIN SOLUTION\n",
    "merge_sort_min = lambda m: m*2**(m-1)\n",
    "### END SOLUTION\n",
    "\n",
    "# quick test\n",
    "print(merge_sort_min(4))"
   ]
  },
  {
   "cell_type": "code",
   "execution_count": 60,
   "id": "8cf1f0b2",
   "metadata": {
    "nbgrader": {
     "grade": true,
     "grade_id": "cell-69ef9e70d14bf4bc",
     "locked": true,
     "points": 1,
     "schema_version": 3,
     "solution": false,
     "task": false
    }
   },
   "outputs": [
    {
     "name": "stdout",
     "output_type": "stream",
     "text": [
      "The lambda-expression merge_sort_min seems to return the correct numbers\n",
      "The lambda-expression merge_sort_min seems to return ints\n",
      "Test passed!\n"
     ]
    },
    {
     "data": {
      "text/plain": [
       "1"
      ]
     },
     "execution_count": 60,
     "metadata": {},
     "output_type": "execute_result"
    }
   ],
   "source": [
    "# 1 Mark\n",
    "# Do not try to delete this cell\n",
    "# Run this cell for grading\n",
    "_globals = globals()\n",
    "question3iid(_globals)"
   ]
  },
  {
   "cell_type": "markdown",
   "id": "7ef452e9",
   "metadata": {
    "nbgrader": {
     "grade": false,
     "grade_id": "cell-369b0227cc7ca871",
     "locked": true,
     "schema_version": 3,
     "solution": false,
     "task": false
    }
   },
   "source": [
    "(e) <b>This is also genuinely tricky</b>. In the worst case, how many comparisons are necessary in order to merge sort a list of length $2^m$? Give your answer as a lambda-expression called `merge_sort_max`."
   ]
  },
  {
   "cell_type": "code",
   "execution_count": 61,
   "id": "97110e89",
   "metadata": {
    "nbgrader": {
     "grade": false,
     "grade_id": "cell-bb524909efbae5a1",
     "locked": false,
     "schema_version": 3,
     "solution": true,
     "task": false
    }
   },
   "outputs": [
    {
     "name": "stdout",
     "output_type": "stream",
     "text": [
      "49\n"
     ]
    }
   ],
   "source": [
    "### BEGIN SOLUTION\n",
    "merge_sort_max = lambda m: (m-1)*2**m+1\n",
    "### END SOLUTION\n",
    "\n",
    "# quick test\n",
    "print(merge_sort_max(4))"
   ]
  },
  {
   "cell_type": "code",
   "execution_count": 62,
   "id": "ebc11c5e",
   "metadata": {
    "nbgrader": {
     "grade": true,
     "grade_id": "cell-dfe1f9828a3d0f07",
     "locked": true,
     "points": 1,
     "schema_version": 3,
     "solution": false,
     "task": false
    }
   },
   "outputs": [
    {
     "name": "stdout",
     "output_type": "stream",
     "text": [
      "The lambda-expression merge_sort_max seems to return the correct numbers\n",
      "The lambda-expression merge_sort_max seems to return ints\n",
      "Test passed!\n"
     ]
    },
    {
     "data": {
      "text/plain": [
       "1"
      ]
     },
     "execution_count": 62,
     "metadata": {},
     "output_type": "execute_result"
    }
   ],
   "source": [
    "# 1 Mark\n",
    "# Do not try to delete this cell\n",
    "# Run this cell for grading\n",
    "_globals = globals()\n",
    "question3iie(_globals)"
   ]
  },
  {
   "cell_type": "markdown",
   "id": "da53e30e",
   "metadata": {
    "nbgrader": {
     "grade": false,
     "grade_id": "cell-5c4ff0615fa70858",
     "locked": true,
     "schema_version": 3,
     "solution": false,
     "task": false
    }
   },
   "source": [
    "(f) Which of the following is true:\n",
    "\n",
    "<ol>\n",
    "    <li>Merge sort is $\\Theta(n)$.</li>\n",
    "    <li>Merge sort is $\\Theta(n\\,\\log n)$.</li>\n",
    "    <li>Merge sort is $\\Theta(n^2)$.</li>\n",
    "    <li>Merge sort is $\\Theta(2^n)$.</li>\n",
    "    <li>Merge sort is $\\Theta(n\\times2^n)$.</li>\n",
    "    <li>None of the above.</li>\n",
    "</ol>"
   ]
  },
  {
   "cell_type": "code",
   "execution_count": 63,
   "id": "f08673ac",
   "metadata": {
    "nbgrader": {
     "grade": false,
     "grade_id": "cell-06bca642bce2ff30",
     "locked": false,
     "schema_version": 3,
     "solution": true,
     "task": false
    }
   },
   "outputs": [],
   "source": [
    "### BEGIN SOLUTION\n",
    "q3iif_answer = 2\n",
    "### END SOLUTION\n",
    "\n",
    "q3iif_answer = # insert one of 1, 2, 3, 4 or 5"
   ]
  },
  {
   "cell_type": "code",
   "execution_count": 64,
   "id": "a542c2fd",
   "metadata": {
    "nbgrader": {
     "grade": true,
     "grade_id": "cell-e4c65eaa0651265b",
     "locked": true,
     "points": 1,
     "schema_version": 3,
     "solution": false,
     "task": false
    }
   },
   "outputs": [
    {
     "name": "stdout",
     "output_type": "stream",
     "text": [
      "test case passed!\n"
     ]
    }
   ],
   "source": [
    "# 1 Mark\n",
    "assert(q3iif_answer == question3iif())\n",
    "print('test case passed!')"
   ]
  },
  {
   "cell_type": "markdown",
   "id": "c8f25055",
   "metadata": {
    "nbgrader": {
     "grade": false,
     "grade_id": "cell-8fa478d7e948aa20",
     "locked": true,
     "schema_version": 3,
     "solution": false,
     "task": false
    }
   },
   "source": [
    "### (iii) \n",
    "\n",
    "(a) Introduce a `comparison_count` into your `merge` function, and use it to test your answers to (b), (c), (d), (e) and (f) above. (Autograding won't help with all that testing, sadly, but please do carry it out.)\n",
    "\n",
    "Be sure only to count actual comparisons of data items (and not, for example, index checks to test whether a buffer has been used up yet)."
   ]
  },
  {
   "cell_type": "code",
   "execution_count": 65,
   "id": "22bcd6cb",
   "metadata": {
    "nbgrader": {
     "grade": false,
     "grade_id": "cell-5e783663f1cad858",
     "locked": false,
     "schema_version": 3,
     "solution": true,
     "task": false
    }
   },
   "outputs": [],
   "source": [
    "# cell for defining your function\n",
    "\n",
    "def merge(left_buffer, right_buffer, data):\n",
    "    ### BEGIN SOLUTION\n",
    "    \"\"\"\n",
    "    Merges left_buffer and right_buffer into data in place\n",
    "    \"\"\"\n",
    "    \n",
    "    global comparison_count\n",
    "    \n",
    "    # initialize indexes\n",
    "    left_index = right_index = main_index = 0\n",
    "    \n",
    "    # loop for as long as neither buffer used up\n",
    "    while left_index < len(left_buffer) and right_index < len(right_buffer):\n",
    "        # left buffer has smaller element\n",
    "        comparison_count += 1\n",
    "        if left_buffer[left_index] < right_buffer[right_index]:\n",
    "            data[main_index] = left_buffer[left_index]\n",
    "            left_index += 1\n",
    "        # otherwise\n",
    "        else:\n",
    "            data[main_index] = right_buffer[right_index]\n",
    "            right_index += 1\n",
    "        main_index += 1\n",
    "    \n",
    "    # left buffer not used up\n",
    "    if left_index < len(left_buffer):\n",
    "        data[main_index:] = left_buffer[left_index:]\n",
    "    # right buffer not used up\n",
    "    else:\n",
    "        data[main_index:] = right_buffer[right_index:]\n",
    "    ### END SOLUTION"
   ]
  },
  {
   "cell_type": "code",
   "execution_count": 66,
   "id": "6000eeb5",
   "metadata": {
    "nbgrader": {
     "grade": true,
     "grade_id": "cell-d4d6ef12e4d93202",
     "locked": true,
     "points": 3,
     "schema_version": 3,
     "solution": false,
     "task": false
    }
   },
   "outputs": [
    {
     "name": "stdout",
     "output_type": "stream",
     "text": [
      "merge_sort seems to sort lists correctly\n",
      "Your function requires exactly the same number of comparisons as ours\n",
      "Your function seems to have a docstring\n",
      "3 out of 3\n"
     ]
    },
    {
     "data": {
      "text/plain": [
       "3"
      ]
     },
     "execution_count": 66,
     "metadata": {},
     "output_type": "execute_result"
    }
   ],
   "source": [
    "# 3 Marks\n",
    "# Do not try to delete this cell\n",
    "# Run this cell for grading\n",
    "_globals = globals()\n",
    "question3iiiafunc(_globals)"
   ]
  },
  {
   "cell_type": "code",
   "execution_count": 67,
   "id": "f9b582b5",
   "metadata": {
    "nbgrader": {
     "grade": false,
     "grade_id": "cell-9012d33cf5cfb424",
     "locked": false,
     "schema_version": 3,
     "solution": true,
     "task": false
    }
   },
   "outputs": [
    {
     "name": "stdout",
     "output_type": "stream",
     "text": [
      "[3, 5, 7, 12, 17, 18, 19, 21, 22, 24, 26, 27, 29, 31, 34, 40]\n",
      "47\n"
     ]
    }
   ],
   "source": [
    "# for testing on a copy of masterList\n",
    "### BEGIN SOLUTION\n",
    "comparison_count = 0\n",
    "data = copy(masterList)\n",
    "merge_sort(data)\n",
    "# END SOLUTION\n",
    "\n",
    "print(data)\n",
    "print(comparison_count)"
   ]
  },
  {
   "cell_type": "code",
   "execution_count": 68,
   "id": "27d21fc0",
   "metadata": {
    "nbgrader": {
     "grade": true,
     "grade_id": "cell-b751a3fcb95b26c5",
     "locked": true,
     "points": 2,
     "schema_version": 3,
     "solution": false,
     "task": false
    }
   },
   "outputs": [
    {
     "name": "stdout",
     "output_type": "stream",
     "text": [
      "data has been sorted correctly\n",
      "Your function requires exactly the same number of comparisons as ours\n",
      "2 out of 2\n"
     ]
    },
    {
     "data": {
      "text/plain": [
       "2"
      ]
     },
     "execution_count": 68,
     "metadata": {},
     "output_type": "execute_result"
    }
   ],
   "source": [
    "# 2 Marks\n",
    "# Do not try to delete this cell\n",
    "# Run this cell for grading\n",
    "_globals = globals()\n",
    "question3iiiatest(_globals)"
   ]
  },
  {
   "cell_type": "markdown",
   "id": "78d30314",
   "metadata": {
    "nbgrader": {
     "grade": false,
     "grade_id": "cell-2c99726261eb0287",
     "locked": true,
     "schema_version": 3,
     "solution": false,
     "task": false
    }
   },
   "source": [
    "(b) Find an example of a data list of length 16 that needs the fewest possible comparisons using merge sort."
   ]
  },
  {
   "cell_type": "code",
   "execution_count": 69,
   "id": "90084615",
   "metadata": {
    "nbgrader": {
     "grade": false,
     "grade_id": "cell-d88a0a548f05d8ab",
     "locked": false,
     "schema_version": 3,
     "solution": true,
     "task": false
    }
   },
   "outputs": [],
   "source": [
    "### BEGIN SOLUTION\n",
    "merge_sort_length16_bestcase = list(range(16))\n",
    "### END SOLUTION\n",
    "\n",
    "merge_sort_length16_bestcase = # insert your example here"
   ]
  },
  {
   "cell_type": "code",
   "execution_count": 70,
   "id": "9f3a7488",
   "metadata": {
    "nbgrader": {
     "grade": true,
     "grade_id": "cell-dfed020fc8d336a2",
     "locked": true,
     "points": 1,
     "schema_version": 3,
     "solution": false,
     "task": false
    }
   },
   "outputs": [
    {
     "name": "stdout",
     "output_type": "stream",
     "text": [
      "We agree: this seems to be a good 'best case'\n",
      "Test passed!\n"
     ]
    },
    {
     "data": {
      "text/plain": [
       "1"
      ]
     },
     "execution_count": 70,
     "metadata": {},
     "output_type": "execute_result"
    }
   ],
   "source": [
    "# 1 Mark\n",
    "# Do not try to delete this cell\n",
    "# Run this cell for grading\n",
    "_globals = globals()\n",
    "question3iiib(_globals)"
   ]
  },
  {
   "cell_type": "markdown",
   "id": "2535b821",
   "metadata": {
    "nbgrader": {
     "grade": false,
     "grade_id": "cell-29f2ce7c00ed4586",
     "locked": true,
     "schema_version": 3,
     "solution": false,
     "task": false
    }
   },
   "source": [
    "(c) <b>Yet another genuinely tricky one</b>: find an example of a data list of length 16 that needs the most possible comparisons using merge sort."
   ]
  },
  {
   "cell_type": "code",
   "execution_count": 71,
   "id": "e0b9c73c",
   "metadata": {
    "nbgrader": {
     "grade": false,
     "grade_id": "cell-df8754ecb97b3316",
     "locked": false,
     "schema_version": 3,
     "solution": true,
     "task": false
    }
   },
   "outputs": [],
   "source": [
    "### BEGIN SOLUTION\n",
    "merge_sort_length16_worstcase = [1,9,5,13,3,11,7,15,2,10,6,14,4,12,8,16]\n",
    "### END SOLUTION\n",
    "\n",
    "merge_sort_length16_worstcase = # insert your example here"
   ]
  },
  {
   "cell_type": "code",
   "execution_count": 72,
   "id": "6d0aace9",
   "metadata": {
    "nbgrader": {
     "grade": true,
     "grade_id": "cell-2d52fecafa3bcf81",
     "locked": true,
     "points": 1,
     "schema_version": 3,
     "solution": false,
     "task": false
    }
   },
   "outputs": [
    {
     "name": "stdout",
     "output_type": "stream",
     "text": [
      "We agree: this seems to be a good 'worst case'\n",
      "Test passed!\n"
     ]
    },
    {
     "data": {
      "text/plain": [
       "1"
      ]
     },
     "execution_count": 72,
     "metadata": {},
     "output_type": "execute_result"
    }
   ],
   "source": [
    "# 1 Mark\n",
    "# Do not try to delete this cell\n",
    "# Run this cell for grading\n",
    "_globals = globals()\n",
    "question3iiic(_globals)"
   ]
  },
  {
   "cell_type": "markdown",
   "id": "86b9dea5",
   "metadata": {
    "nbgrader": {
     "grade": false,
     "grade_id": "cell-ce1dd34b0f3efef9",
     "locked": true,
     "schema_version": 3,
     "solution": false,
     "task": false
    }
   },
   "source": [
    "## Additional stuff to do if you get time.\n",
    "\n",
    "Try out your three sorting algorithms, plus selection sort, on genuinely large data lists, such as 10000 randomly-generated floats.\n",
    "\n",
    "Investigate `quicksort` and `shellsort`, which you can also see animations of. In each case: how does the algorithm work, what is its best-case and worst-case performance, can you implement it?\n",
    "\n",
    "Find out about Python's sort algorithm, `timsort`."
   ]
  },
  {
   "cell_type": "code",
   "execution_count": null,
   "id": "91e9f7f7",
   "metadata": {},
   "outputs": [],
   "source": []
  }
 ],
 "metadata": {
  "celltoolbar": "Create Assignment",
  "kernelspec": {
   "display_name": "Python 3",
   "language": "python",
   "name": "python3"
  },
  "language_info": {
   "codemirror_mode": {
    "name": "ipython",
    "version": 3
   },
   "file_extension": ".py",
   "mimetype": "text/x-python",
   "name": "python",
   "nbconvert_exporter": "python",
   "pygments_lexer": "ipython3",
   "version": "3.8.8"
  }
 },
 "nbformat": 4,
 "nbformat_minor": 5
}
