{
 "cells": [
  {
   "cell_type": "markdown",
   "id": "dental-palestinian",
   "metadata": {
    "deletable": false,
    "editable": false,
    "nbgrader": {
     "cell_type": "markdown",
     "checksum": "16050f2d40692015a0ea463dfd32da28",
     "grade": false,
     "grade_id": "cell-4305cb6f89da91c1",
     "locked": true,
     "schema_version": 3,
     "solution": false,
     "task": false
    }
   },
   "source": [
    "# M40006 In-Course Assessment\n",
    "\n",
    "# 23 March 2022, 11 am - 1 pm\n",
    "\n",
    "## Two Hours\n",
    "\n",
    "### Answer all questions, submitting your answers as a single Jupyter notebook."
   ]
  },
  {
   "cell_type": "markdown",
   "id": "thirty-laundry",
   "metadata": {
    "deletable": false,
    "editable": false,
    "nbgrader": {
     "cell_type": "markdown",
     "checksum": "57a895f2f6626461416e1135272f6d62",
     "grade": false,
     "grade_id": "cell-36884073ce2b34f2",
     "locked": true,
     "schema_version": 3,
     "solution": false,
     "task": false
    }
   },
   "source": [
    "To carry out this assignment, you may find useful:\n",
    "<ul>\n",
    "    <li>the core Python <code>print</code>, <code>range</code>, <code>list</code>, <code>zip</code> and <code>dict</code> functions;</li>\n",
    "    <li>the functions <code>linspace</code>, <code>arange</code>, <code>meshgrid</code>, <code>ones</code> and <code>zeros</code> from the <code>numpy</code> module;</li> \n",
    "    <li>the functions <code>symbols</code>, <code>solve</code>, <code>Eq</code>, <code>diff</code>, <code>re</code>, <code>im</code>, <code>lambdify</code> and <code>expand</code> from the <code>sympy</code> module;</li> \n",
    "    <li>the function <code>Series</code> from the <code>pandas</code> module;</li> \n",
    "    <li>the functions <code>imshow</code>, <code>contour</code> and <code>axis</code> from the <code>pyplot</code> module of <code>matplotlib</code>.\n",
    "</ul>\n",
    "\n",
    "<b>Important</b>: the above is not an exhaustive list, and you may wish to import other functions or other modules.\n",
    "\n",
    "It is recommended that you simply execute the following code cell:"
   ]
  },
  {
   "cell_type": "code",
   "execution_count": 1,
   "id": "otherwise-saturn",
   "metadata": {},
   "outputs": [],
   "source": [
    "import numpy as np\n",
    "import sympy as sp\n",
    "import pandas as pd\n",
    "sp.init_printing()\n",
    "import matplotlib.pyplot as plt\n",
    "%matplotlib inline"
   ]
  },
  {
   "cell_type": "markdown",
   "id": "herbal-tomato",
   "metadata": {
    "deletable": false,
    "editable": false,
    "nbgrader": {
     "cell_type": "markdown",
     "checksum": "0de1b729c6e7d3c1c1e0a60acd113d60",
     "grade": false,
     "grade_id": "cell-7c780ef8fc872328",
     "locked": true,
     "schema_version": 3,
     "solution": false,
     "task": false
    }
   },
   "source": [
    "# Question 1 (25 marks)\n",
    "\n",
    "The following code cells contain code listings for two functions, `lcm1` and `lcm2`, each of which calculates the lowest common multiple of `a` and `b` (which can be assumed to be positive integers with $a\\ge b$)."
   ]
  },
  {
   "cell_type": "code",
   "execution_count": 2,
   "id": "adopted-louis",
   "metadata": {
    "deletable": false,
    "editable": false,
    "nbgrader": {
     "cell_type": "code",
     "checksum": "3002365d92b2b7413ea3771bf5b0b689",
     "grade": false,
     "grade_id": "cell-e2a06d8edc1ad063",
     "locked": true,
     "schema_version": 3,
     "solution": false,
     "task": false
    }
   },
   "outputs": [],
   "source": [
    "def lcm1(a, b):\n",
    "    \"\"\"\n",
    "    Returns the lowest common multiple of a and b\n",
    "    \"\"\"\n",
    "    # initial values of a and b\n",
    "    a0, b0 = a, b\n",
    "    \n",
    "    # loop while a and b are not equal\n",
    "    while a != b:\n",
    "        # if a is the smaller, add a0 to a\n",
    "        if a < b:\n",
    "            a += a0\n",
    "        # otherwise, add b0 to b\n",
    "        else:\n",
    "            b += b0\n",
    "    \n",
    "    # when a and b are equal, return a\n",
    "    return a"
   ]
  },
  {
   "cell_type": "code",
   "execution_count": 3,
   "id": "mighty-serum",
   "metadata": {
    "deletable": false,
    "editable": false,
    "nbgrader": {
     "cell_type": "code",
     "checksum": "b7507fc400e6b4ae3987de15f1fe3581",
     "grade": false,
     "grade_id": "cell-62f940d5146444d1",
     "locked": true,
     "schema_version": 3,
     "solution": false,
     "task": false
    }
   },
   "outputs": [],
   "source": [
    "def lcm2(a, b):\n",
    "    \"\"\"\n",
    "    Returns the lowest common multiple of a and b\n",
    "    \"\"\"\n",
    "    # initial values of a and b\n",
    "    a0, b0 = a, b\n",
    "    \n",
    "    # loop: Euclid's algorithm to find gcd\n",
    "    while b>0:\n",
    "        \n",
    "        # replace a with b; replace b with a mod b\n",
    "        a, b = b, a%b\n",
    "    \n",
    "    # return product of original numbers divided by gcd\n",
    "    return (a0*b0)//a"
   ]
  },
  {
   "cell_type": "markdown",
   "id": "middle-officer",
   "metadata": {
    "deletable": false,
    "editable": false,
    "nbgrader": {
     "cell_type": "markdown",
     "checksum": "1b5e2ddc28d0a0da9642036f7145ab96",
     "grade": false,
     "grade_id": "cell-b0c6ec419061ec45",
     "locked": true,
     "schema_version": 3,
     "solution": false,
     "task": false
    }
   },
   "source": [
    "(a) Test both functions on suitable positive integer arguments; make sure you perform several tests, and that you test a variety of cases. Display your testing code and your test results."
   ]
  },
  {
   "cell_type": "code",
   "execution_count": 4,
   "id": "killing-patrol",
   "metadata": {
    "deletable": false,
    "nbgrader": {
     "cell_type": "code",
     "checksum": "4ea2ae899a648c349be42dcf37ce4ef6",
     "grade": true,
     "grade_id": "cell-24aa42567aab0722",
     "locked": false,
     "points": 4,
     "schema_version": 3,
     "solution": true,
     "task": false
    }
   },
   "outputs": [
    {
     "name": "stdout",
     "output_type": "stream",
     "text": [
      "1\n",
      "7\n",
      "1500\n",
      "12\n",
      "73000000.0\n"
     ]
    }
   ],
   "source": [
    "# lcm1\n",
    "\n",
    "print(lcm1(1,1))\n",
    "print(lcm1(7, 1))\n",
    "print(lcm1(500, 30))\n",
    "print(lcm1(6, 4))\n",
    "print(lcm1(1e6, 1.46e4))"
   ]
  },
  {
   "cell_type": "code",
   "execution_count": 5,
   "id": "c3131fae",
   "metadata": {},
   "outputs": [
    {
     "name": "stdout",
     "output_type": "stream",
     "text": [
      "1\n",
      "7\n",
      "1500\n",
      "12\n",
      "73000000.0\n"
     ]
    }
   ],
   "source": [
    "# lcm2\n",
    "\n",
    "print(lcm2(1,1))\n",
    "print(lcm2(7, 1))\n",
    "print(lcm2(500, 30))\n",
    "print(lcm2(6, 4))\n",
    "print(lcm2(1e6, 1.46e4))"
   ]
  },
  {
   "cell_type": "markdown",
   "id": "buried-register",
   "metadata": {
    "deletable": false,
    "editable": false,
    "nbgrader": {
     "cell_type": "markdown",
     "checksum": "73889d7e834634c67710b6fcab95328d",
     "grade": false,
     "grade_id": "cell-cb88ce74304f4cdd",
     "locked": true,
     "schema_version": 3,
     "solution": false,
     "task": false
    }
   },
   "source": [
    "(b) In the case of `lcm1`, we define the <b>comparison count</b> as the number of times the program tests whether $a \\ne b$. By adding suitable lines to the code, find the comparison count during the calculation of the lowest common multiple of $5824280$ and $3599603$."
   ]
  },
  {
   "cell_type": "code",
   "execution_count": 6,
   "id": "motivated-nomination",
   "metadata": {
    "deletable": false,
    "nbgrader": {
     "cell_type": "code",
     "checksum": "f8e639a15f722c4672e8c237b277ceea",
     "grade": true,
     "grade_id": "cell-fbfe5f298b396453",
     "locked": false,
     "points": 3,
     "schema_version": 3,
     "solution": true,
     "task": false
    }
   },
   "outputs": [
    {
     "name": "stdout",
     "output_type": "stream",
     "text": [
      "1346268\n"
     ]
    }
   ],
   "source": [
    "def lcm1(a, b):\n",
    "    \"\"\"\n",
    "    Returns the lowest common multiple of a and b\n",
    "    \"\"\"\n",
    "    # global comparison count\n",
    "    global comparison_count\n",
    "    \n",
    "    # initial values of a and b\n",
    "    a0, b0 = a, b\n",
    "    \n",
    "    # loop while a and b are not equal\n",
    "    while a != b:\n",
    "        # increasing comparison count by 1\n",
    "        comparison_count += 1\n",
    "        \n",
    "        # if a is the smaller, add a0 to a\n",
    "        if a < b:\n",
    "            a += a0\n",
    "        \n",
    "        # otherwise, add b0 to b\n",
    "        else:\n",
    "            b += b0\n",
    "    \n",
    "    # add one final comparison for final case when a = b\n",
    "    comparison_count += 1\n",
    "    \n",
    "    # when a and b are equal, return a\n",
    "    return a\n",
    "\n",
    "comparison_count = 0\n",
    "lcm1(5824280, 3599603)\n",
    "print(comparison_count)"
   ]
  },
  {
   "cell_type": "markdown",
   "id": "interim-gospel",
   "metadata": {
    "deletable": false,
    "editable": false,
    "nbgrader": {
     "cell_type": "markdown",
     "checksum": "4cae158a5fa663959ab739ec5533cc50",
     "grade": false,
     "grade_id": "cell-bfb487f934963980",
     "locked": true,
     "schema_version": 3,
     "solution": false,
     "task": false
    }
   },
   "source": [
    "(c) In the case of `lcm2`, we define the <b>comparison count</b> as the number of times the program tests whether $b>0$. By adding lines to the code, find the comparison count during the calculation of the lowest common multiple of $5824280$ and $3599603$."
   ]
  },
  {
   "cell_type": "code",
   "execution_count": 7,
   "id": "documentary-timber",
   "metadata": {
    "deletable": false,
    "nbgrader": {
     "cell_type": "code",
     "checksum": "8caceea4a16a4d10597512d7237ff267",
     "grade": true,
     "grade_id": "cell-5ede18bd33f2f589",
     "locked": false,
     "points": 3,
     "schema_version": 3,
     "solution": true,
     "task": false
    }
   },
   "outputs": [
    {
     "name": "stdout",
     "output_type": "stream",
     "text": [
      "29\n"
     ]
    }
   ],
   "source": [
    "def lcm2(a, b):\n",
    "    \"\"\"\n",
    "    Returns the lowest common multiple of a and b\n",
    "    \"\"\"\n",
    "    # global comparison count\n",
    "    global comparison_count\n",
    "    \n",
    "    # initial values of a and b\n",
    "    a0, b0 = a, b\n",
    "    \n",
    "    # loop: Euclid's algorithm to find gcd\n",
    "    while b>0:\n",
    "        # increase comparison count by 1\n",
    "        comparison_count += 1\n",
    "        \n",
    "        # replace a with b; replace b with a mod b\n",
    "        a, b = b, a%b\n",
    "    \n",
    "    # add one final comparison count for when b = 0\n",
    "    comparison_count += 1\n",
    "    \n",
    "    # return product of original numbers divided by gcd\n",
    "    return (a0*b0)//a\n",
    "\n",
    "comparison_count = 0\n",
    "lcm2(5824280, 3599603)\n",
    "print(comparison_count)"
   ]
  },
  {
   "cell_type": "markdown",
   "id": "attractive-humor",
   "metadata": {
    "deletable": false,
    "editable": false,
    "nbgrader": {
     "cell_type": "markdown",
     "checksum": "7a526615b81074c56a6a3d34a41927dc",
     "grade": false,
     "grade_id": "cell-1d029797e163b805",
     "locked": true,
     "schema_version": 3,
     "solution": false,
     "task": false
    }
   },
   "source": [
    "(d) Write suitable code to show that if $a=89$ and $b<a$, the highest comparison count for `lcm1` corresponds to $b=88$."
   ]
  },
  {
   "cell_type": "code",
   "execution_count": 8,
   "id": "expired-fault",
   "metadata": {
    "deletable": false,
    "nbgrader": {
     "cell_type": "code",
     "checksum": "09225a930dcf75b6eb5cecac47cc7b8d",
     "grade": true,
     "grade_id": "cell-a75ef68b4c65f37c",
     "locked": false,
     "points": 3,
     "schema_version": 3,
     "solution": true,
     "task": false
    }
   },
   "outputs": [
    {
     "name": "stdout",
     "output_type": "stream",
     "text": [
      "176\n",
      "[88]\n"
     ]
    }
   ],
   "source": [
    "high = 0\n",
    "highblis = []\n",
    "\n",
    "for b in range(1, 89):\n",
    "    comparison_count = 0\n",
    "    lcm1(89, b)\n",
    "    if comparison_count >= high:\n",
    "        high = comparison_count\n",
    "        highb = b\n",
    "\n",
    "for b in range(1, 89):\n",
    "    comparison_count = 0\n",
    "    lcm1(89, b)\n",
    "    if comparison_count ==high:\n",
    "        highblis.append(b)\n",
    "\n",
    "print(high)\n",
    "print(highblis)"
   ]
  },
  {
   "cell_type": "markdown",
   "id": "6ee138c4",
   "metadata": {},
   "source": [
    "As 88 is only element in the list it is the only elemnt fir which the highest comparison count occurs."
   ]
  },
  {
   "cell_type": "markdown",
   "id": "decimal-channels",
   "metadata": {
    "deletable": false,
    "editable": false,
    "nbgrader": {
     "cell_type": "markdown",
     "checksum": "0e74247003435092ad95f2ec36152152",
     "grade": false,
     "grade_id": "cell-f592fd0028840bb9",
     "locked": true,
     "schema_version": 3,
     "solution": false,
     "task": false
    }
   },
   "source": [
    "(e) Given that $b<a$ and that $a$ and $b$ are coprime, write down the comparison count for `lcm1` in terms of $a$ and $b$. \n",
    "\n",
    "Also, write down the comparison count in terms of $a$ and $b$ if $a$ and $b$ are <em>not</em> necessarily coprime, briefly explaining your reasoning."
   ]
  },
  {
   "cell_type": "markdown",
   "id": "medieval-summary",
   "metadata": {
    "deletable": false,
    "nbgrader": {
     "cell_type": "markdown",
     "checksum": "25f40d13a7ff90448d6c0a4e0053c217",
     "grade": true,
     "grade_id": "cell-3536cd2a22935cb1",
     "locked": false,
     "points": 3,
     "schema_version": 3,
     "solution": true,
     "task": false
    }
   },
   "source": [
    "If $a$ and $b$ are coprime  then they share no common factors other than 1. Therefore their lowest common multiple is always their product. So there are $a + b - 1$ comaprison counts.\n",
    "\n",
    "If a and b are not necessarily comprime there are  $\\frac{lcm(a, b)}{a} + \\frac{lcm(a, b)}{b} - 1$ comparisons because you add a multiple each time to each a and b and the amount of times you do this is equal to the $lcm(a, b)$ divided by the value $a$ or $b$."
   ]
  },
  {
   "cell_type": "markdown",
   "id": "prospective-jerusalem",
   "metadata": {
    "deletable": false,
    "editable": false,
    "nbgrader": {
     "cell_type": "markdown",
     "checksum": "16133c065bf8277dbc4308087114dc60",
     "grade": false,
     "grade_id": "cell-575ced998bcffe23",
     "locked": true,
     "schema_version": 3,
     "solution": false,
     "task": false
    }
   },
   "source": [
    "(f) Given that $b<a$, describe the dependence on $a$ of the worst-case comparison count for `lcm1` using \"big $O$\" notation, briefly justifying your answer."
   ]
  },
  {
   "cell_type": "markdown",
   "id": "after-snapshot",
   "metadata": {
    "deletable": false,
    "nbgrader": {
     "cell_type": "markdown",
     "checksum": "93e8029ef9b67cb30db317967a9ad417",
     "grade": true,
     "grade_id": "cell-1181f380a7c1077e",
     "locked": false,
     "points": 2,
     "schema_version": 3,
     "solution": true,
     "task": false
    }
   },
   "source": [
    "Worst case comparison count occurs at $b = a - 1$ and these are coprime so worst case comparison count is equal to $2a - 1$. So in big $O$ notation this is $$O(a)$$ as for large values of $a$, $2a - 1$ is approximately $2a$ which is a multiple of $a$."
   ]
  },
  {
   "cell_type": "markdown",
   "id": "opened-headset",
   "metadata": {
    "deletable": false,
    "editable": false,
    "nbgrader": {
     "cell_type": "markdown",
     "checksum": "3ec93e6c512407f082240dd0c88d25cd",
     "grade": false,
     "grade_id": "cell-05e832c5b9993906",
     "locked": true,
     "schema_version": 3,
     "solution": false,
     "task": false
    }
   },
   "source": [
    "(g) Given that $a=89$ and $b<a$, write code to find the value of $b$ that corresponds to the highest comparison count for `lcm2`. (You may assume that this value is unique.)"
   ]
  },
  {
   "cell_type": "code",
   "execution_count": 9,
   "id": "smooth-observation",
   "metadata": {
    "deletable": false,
    "nbgrader": {
     "cell_type": "code",
     "checksum": "bb198d594ba14c4db148a0f3ab9db63a",
     "grade": true,
     "grade_id": "cell-0de9810dab397e9e",
     "locked": false,
     "points": 3,
     "schema_version": 3,
     "solution": true,
     "task": false
    }
   },
   "outputs": [
    {
     "name": "stdout",
     "output_type": "stream",
     "text": [
      "55\n"
     ]
    }
   ],
   "source": [
    "high = 0\n",
    "highb = 0\n",
    "\n",
    "for b in range(1, 89):\n",
    "    comparison_count = 0\n",
    "    lcm2(89, b)\n",
    "    if comparison_count > high:\n",
    "        high = comparison_count\n",
    "        highb = b\n",
    "print(highb)"
   ]
  },
  {
   "cell_type": "markdown",
   "id": "spread-rouge",
   "metadata": {
    "deletable": false,
    "editable": false,
    "nbgrader": {
     "cell_type": "markdown",
     "checksum": "53b3ffd1ec8db855bd5c0db54e6d190f",
     "grade": false,
     "grade_id": "cell-46ecc4c9c6f85ffe",
     "locked": true,
     "schema_version": 3,
     "solution": false,
     "task": false
    }
   },
   "source": [
    "(h) It can be shown that the worst case behaviour of `lcm2` occurs when $b$ and $a$ are successive Fibonacci numbers; specifically: \n",
    "\n",
    "<ul>\n",
    "    <li>if $a$ is the $m$th Fibonacci number and $b<a$, then the highest comparison count $M_a$ is attained if $b$ is the $(m-1)$th Fibonacci number;</li>\n",
    "    <li>if $a$ is less than the $m$th Fibonacci number, then it is guaranteed that the comparison count will be less than $M_a$.</li>\n",
    "</ul>\n",
    "\n",
    "It can also be shown that $M_a = m-k$, where $k$ is a constant.\n",
    "\n",
    "Given that $b<a$, describe the dependence on $a$ of the worst-case comparison count for `lcm1` using \"big $O$\" notation, briefly justifying your answer.\n",
    "\n",
    "You may assume that the $m$th Fibonacci number, $F_m$, is given asymptotically by\n",
    "\n",
    "$$F_m \\approx \\frac{1}{\\sqrt{5}}\\left(\\frac{1+\\sqrt{5}}{2}\\right)^m.$$"
   ]
  },
  {
   "cell_type": "markdown",
   "id": "southern-failure",
   "metadata": {
    "deletable": false,
    "nbgrader": {
     "cell_type": "markdown",
     "checksum": "defb24eb142feadc876b8eee5044f230",
     "grade": true,
     "grade_id": "cell-b76434439e5e13b6",
     "locked": false,
     "points": 4,
     "schema_version": 3,
     "solution": true,
     "task": false
    }
   },
   "source": [
    "For large enough $a$ which is a Fibonacci number $M_a = a$ as $k$ is a constant. $a$ is given approximately given by the formula $$\\frac{1}{\\sqrt{5}}\\left(\\frac{1+\\sqrt{5}}{2}\\right)^a$$ This is a multiple of $\\left(\\frac{1+\\sqrt{5}}{2}\\right)^a$ so in big $O$ notation it is $$O(a) = \\left(\\frac{1+\\sqrt{5}}{2}\\right)^a$$"
   ]
  },
  {
   "cell_type": "markdown",
   "id": "generic-bullet",
   "metadata": {
    "deletable": false,
    "editable": false,
    "nbgrader": {
     "cell_type": "markdown",
     "checksum": "968ef2ab0becd8cade69a2e148c0e573",
     "grade": false,
     "grade_id": "cell-7a23d78877b8784c",
     "locked": true,
     "schema_version": 3,
     "solution": false,
     "task": false
    }
   },
   "source": [
    "# Question 2 (25 marks)\n",
    "\n",
    "This question is concerned with iterating the complex function\n",
    "\n",
    "$$f(z) = z^2 + c.$$\n",
    "\n",
    "If, at any point in the sequence $z_0$, $z_1$, $z_2$, $\\dots$, where $z_{n+1} = f(z_n)$, the absolute value of $z_i$ is greater than or equal to $2$, this sequence is guaranteed to diverge; we will call the number of iterations necessary to get to this point, for particular values of $z_0$ and $c$, the <b>escape time</b>."
   ]
  },
  {
   "cell_type": "markdown",
   "id": "premier-broadway",
   "metadata": {
    "deletable": false,
    "editable": false,
    "nbgrader": {
     "cell_type": "markdown",
     "checksum": "cb0b11ea8013f0a62eeb83850d6fdb10",
     "grade": false,
     "grade_id": "cell-6a214493c6cc4691",
     "locked": true,
     "schema_version": 3,
     "solution": false,
     "task": false
    }
   },
   "source": [
    "(a) Define `xrange` and `yrange` as 1-dimensional NumPy arrays of floats between $-1.5$ and $1.5$ inclusive, each containing 200 elements.\n",
    "\n",
    "Using a suitable NumPy function, define `xvals` and `yvals` as $200\\times200$ arrays of floats representing, respectively, the $x$- and $y$-coordinates of points on the lattice defined by `xrange` and `yrange`.\n",
    "\n",
    "Finally, define `zvals` as a $200\\times200$ array of complexes representing the corresponding points in the Argand diagram."
   ]
  },
  {
   "cell_type": "code",
   "execution_count": 10,
   "id": "durable-thunder",
   "metadata": {
    "deletable": false,
    "nbgrader": {
     "cell_type": "code",
     "checksum": "f73b180f826a591f39b0ae71e6e5f92c",
     "grade": true,
     "grade_id": "cell-f19a272255db8354",
     "locked": false,
     "points": 4,
     "schema_version": 3,
     "solution": true,
     "task": false
    }
   },
   "outputs": [],
   "source": [
    "xrange = np.linspace(-1.5, 1.5, 200)\n",
    "yrange = np.linspace(-1.5, 1.5, 200)\n",
    "\n",
    "xvals, yvals = np.meshgrid(xrange, yrange)\n",
    "\n",
    "zvals = xvals + 1j * yvals"
   ]
  },
  {
   "cell_type": "markdown",
   "id": "convenient-positive",
   "metadata": {
    "deletable": false,
    "editable": false,
    "nbgrader": {
     "cell_type": "markdown",
     "checksum": "78d965d999f425adc14dbeed9a6f0ac0",
     "grade": false,
     "grade_id": "cell-b1101c78df5f7722",
     "locked": true,
     "schema_version": 3,
     "solution": false,
     "task": false
    }
   },
   "source": [
    "(b) Define `escape_time` as a $200\\times200$ NumPy array, each of whose elements is the float $-1.0$.\n",
    "\n",
    "Then, write some code that does the following. \n",
    "\n",
    "For each element of `escape_time`, if that element currently has the value $-1.0$ and if the element of `zvals` in the same position has already escaped (that is, has an absolute value greater than or equal to 2), then the value of the element of `escape_time` should be set to $0.0$.\n",
    "\n",
    "(So: for $0\\le i < 200$, $0\\le j < 200$, if the $(i,j)$ element of `escape_time` is currently $-1.0$, and the $(i,j)$ element of `zvals` has absolute value greater than or equal to 2, then the $(i,j)$ element of `escape_time` should become $0.0$.) \n",
    "\n",
    "<b>IMPORTANT</b>: For full marks, do this using a <b>logical array</b>. \n",
    "\n",
    "If you've done it right, the command\n",
    "```python\n",
    "plt.imshow(escape_time, extent=[-1.5,1.5,-1.5,1.5])\n",
    "```\n",
    "should show, in different colours, the interior and exterior of a circular disc of radius 2 (though remember your window size is only $-1.5\\le x \\le 1.5$, $-1.5 \\le y \\le 1.5$)."
   ]
  },
  {
   "cell_type": "code",
   "execution_count": 11,
   "id": "offshore-colorado",
   "metadata": {
    "deletable": false,
    "nbgrader": {
     "cell_type": "code",
     "checksum": "55aad07f068c22c8580d6a31bb1758cc",
     "grade": true,
     "grade_id": "cell-f7bea531280199b8",
     "locked": false,
     "points": 4,
     "schema_version": 3,
     "solution": true,
     "task": false
    }
   },
   "outputs": [
    {
     "data": {
      "text/plain": [
       "<matplotlib.image.AxesImage at 0x195f71d2280>"
      ]
     },
     "execution_count": 11,
     "metadata": {},
     "output_type": "execute_result"
    },
    {
     "data": {
      "image/png": "[encoded data removed]",
      "text/plain": [
       "<Figure size 432x288 with 1 Axes>"
      ]
     },
     "metadata": {
      "needs_background": "light"
     },
     "output_type": "display_data"
    }
   ],
   "source": [
    "escape_time = np.full([200, 200], -1.0)\n",
    "\n",
    "zabs = np.absolute(zvals)\n",
    "\n",
    "logical_array = (escape_time == -1.0) & (zabs >= 2.0)\n",
    "\n",
    "escape_time[logical_array] = 0.0\n",
    "plt.imshow(escape_time, extent=[-1.5,1.5,-1.5,1.5])"
   ]
  },
  {
   "cell_type": "markdown",
   "id": "explicit-asian",
   "metadata": {
    "deletable": false,
    "editable": false,
    "nbgrader": {
     "cell_type": "markdown",
     "checksum": "82a0fc7578e50b8238c5ed2ff46e6a85",
     "grade": false,
     "grade_id": "cell-3e4cab59b3991d4c",
     "locked": true,
     "schema_version": 3,
     "solution": false,
     "task": false
    }
   },
   "source": [
    "The following code first sets up an array `c` of complex numbers, identical to the initial value of `zvals`. It then takes those elements of `zvals` corresponding to elements of `escape_time` that are still equal to $-1.0$, and <em>for those elements alone</em>, and the corresponding elements of `c`, sets $z$ equal to $z^2+c$."
   ]
  },
  {
   "cell_type": "code",
   "execution_count": 12,
   "id": "palestinian-median",
   "metadata": {
    "deletable": false,
    "editable": false,
    "nbgrader": {
     "cell_type": "code",
     "checksum": "8713eabe802122082a3e7dd48086fa2b",
     "grade": false,
     "grade_id": "cell-2caea3082370a001",
     "locked": true,
     "schema_version": 3,
     "solution": false,
     "task": false
    }
   },
   "outputs": [],
   "source": [
    "c = xvals+yvals*1j\n",
    "logical_array = (escape_time==-1.0)\n",
    "zvals[logical_array] = zvals[logical_array]**2+c[logical_array]"
   ]
  },
  {
   "cell_type": "markdown",
   "id": "aquatic-interval",
   "metadata": {
    "deletable": false,
    "editable": false,
    "nbgrader": {
     "cell_type": "markdown",
     "checksum": "7311c2a8b54de0d9a6e83b3df8596e1d",
     "grade": false,
     "grade_id": "cell-d5b7347920cd9d21",
     "locked": true,
     "schema_version": 3,
     "solution": false,
     "task": false
    }
   },
   "source": [
    "(c) Execute this code, and then set the value $1.0$ to all those elements of `escape_time` that are currently equal to $-1.0$ and whose position in the array corresponds to elements of `zvals` with an absolute value of 2 or more. (Again, for full marks, you should use a logical array.) \n",
    "\n",
    "Plot the resulting value of `escape_time` using `imshow`, in the same way as above."
   ]
  },
  {
   "cell_type": "code",
   "execution_count": 13,
   "id": "rough-publicity",
   "metadata": {
    "deletable": false,
    "nbgrader": {
     "cell_type": "code",
     "checksum": "f4bcfa17e45c6995e86b5c3974b27863",
     "grade": true,
     "grade_id": "cell-8f34a7f5a01645b0",
     "locked": false,
     "points": 4,
     "schema_version": 3,
     "solution": true,
     "task": false
    }
   },
   "outputs": [
    {
     "data": {
      "text/plain": [
       "<matplotlib.image.AxesImage at 0x195f82824c0>"
      ]
     },
     "execution_count": 13,
     "metadata": {},
     "output_type": "execute_result"
    },
    {
     "data": {
      "image/png": "[encoded data removed]",
      "text/plain": [
       "<Figure size 432x288 with 1 Axes>"
      ]
     },
     "metadata": {
      "needs_background": "light"
     },
     "output_type": "display_data"
    }
   ],
   "source": [
    "zabs = np.absolute(zvals)\n",
    "\n",
    "logical_array = (escape_time == -1.0) & (zabs >= 2.0)\n",
    "\n",
    "escape_time[logical_array] = 1.0\n",
    "\n",
    "plt.imshow(escape_time, extent=[-1.5,1.5,-1.5,1.5])"
   ]
  },
  {
   "cell_type": "markdown",
   "id": "possible-legislature",
   "metadata": {
    "deletable": false,
    "editable": false,
    "nbgrader": {
     "cell_type": "markdown",
     "checksum": "744e6207b3036c771b7b41e2c80de3f9",
     "grade": false,
     "grade_id": "cell-5ede427ce6967837",
     "locked": true,
     "schema_version": 3,
     "solution": false,
     "task": false
    }
   },
   "source": [
    "(d) Write a function called `escapeTime` which takes as its arguments\n",
    "<ul>\n",
    "    <li><code>c</code>, assumed to be a 2D NumPy array of complexes;</li>\n",
    "    <li><code>z0</code>, assumed to be a 2D NumPy array of complexes with the same shape (same number of rows, same number of columns) as <code>c</code>;</li>\n",
    "    <li><code>max_iterations</code>, assumed to be a non-negative int.</li>\n",
    "</ul>\n",
    "\n",
    "It should then, for each element of `z0` and the corresponding element of `c`, iterate the function $f(z) = z^2+c$, stopping the iteration when $|z| \\ge 2$ or when `max_iterations` has been attained.\n",
    "\n",
    "Finally, it should return a 2D NumPy array of floats, with the same shape as `z0`. \n",
    "\n",
    "Each float in the array should be the escape time for the corresponding elements of `z0` and `c`: that is, the number of iterations that were necessary for $|z|$ to become greater than or equal to $2$. \n",
    "\n",
    "In positions where $|z|$ fails to become greater than or equal to $2$, the value `max_iterations` should be set.\n",
    "\n",
    "The code you wrote in the above sections should help you here; for full marks, and for maximum efficiency, you should aim to use logical arrays where possible."
   ]
  },
  {
   "cell_type": "code",
   "execution_count": 14,
   "id": "committed-belle",
   "metadata": {
    "deletable": false,
    "nbgrader": {
     "cell_type": "code",
     "checksum": "cd35d0d505b41e39202796579602c6a6",
     "grade": true,
     "grade_id": "cell-ed84911a9384b610",
     "locked": false,
     "points": 7,
     "schema_version": 3,
     "solution": true,
     "task": false
    }
   },
   "outputs": [],
   "source": [
    "def escapeTime(c, z0, max_iterations):\n",
    "    \n",
    "    z = z0\n",
    "    y = np.full(np.shape(z0), -1)\n",
    "    \n",
    "    for i in range(max_iterations):\n",
    "        zabs = np.absolute(z)\n",
    "        logical_array1 = (zabs >= 2) & (y != -1)\n",
    "        logical_array2 = (zabs < 2)\n",
    "        y[logical_array1] = i\n",
    "        z[logical_array2] = z[logical_array2] ** 2 + c[logical_array2]\n",
    "    \n",
    "    zabs = np.absolute(z)\n",
    "    logical_array3 = (zabs < 2)\n",
    "    y[logical_array3] = max_iterations\n",
    "    \n",
    "    return y"
   ]
  },
  {
   "cell_type": "markdown",
   "id": "meaningful-interest",
   "metadata": {
    "deletable": false,
    "editable": false,
    "nbgrader": {
     "cell_type": "markdown",
     "checksum": "7493177c5b467c46ab5dc7ab5c212d82",
     "grade": false,
     "grade_id": "cell-cf7cdc8c87a22302",
     "locked": true,
     "schema_version": 3,
     "solution": false,
     "task": false
    }
   },
   "source": [
    "(e) Test your function with `z0` and `c` both set to `xvals+yvals*1j` and `max_iterations` set to 100, calling your output `e_t`.\n",
    "\n",
    "Using `imshow`, plot not `e_t` but `np.log(e_t+1)` (this works a little better)."
   ]
  },
  {
   "cell_type": "code",
   "execution_count": 25,
   "id": "satisfactory-bridges",
   "metadata": {
    "deletable": false,
    "nbgrader": {
     "cell_type": "code",
     "checksum": "b385a863051d467073b7e957765bcb7e",
     "grade": true,
     "grade_id": "cell-9d8b5a4de4b3dfec",
     "locked": false,
     "points": 3,
     "schema_version": 3,
     "solution": true,
     "task": false
    }
   },
   "outputs": [
    {
     "name": "stderr",
     "output_type": "stream",
     "text": [
      "<ipython-input-25-0ef41e718389>:2: RuntimeWarning: divide by zero encountered in log\n",
      "  plt.imshow(np.log(e_t+1), extent=[-1.5,1.5,-1.5,1.5])\n"
     ]
    },
    {
     "data": {
      "text/plain": [
       "<matplotlib.image.AxesImage at 0x195f8dd3220>"
      ]
     },
     "execution_count": 25,
     "metadata": {},
     "output_type": "execute_result"
    },
    {
     "data": {
      "image/png": "[encoded data removed]",
      "text/plain": [
       "<Figure size 432x288 with 1 Axes>"
      ]
     },
     "metadata": {
      "needs_background": "light"
     },
     "output_type": "display_data"
    }
   ],
   "source": [
    "e_t = escapeTime(xvals + yvals*1j, xvals + yvals*1j, 100)\n",
    "plt.imshow(np.log(e_t+1), extent=[-1.5,1.5,-1.5,1.5])"
   ]
  },
  {
   "cell_type": "markdown",
   "id": "needed-lawyer",
   "metadata": {
    "deletable": false,
    "editable": false,
    "nbgrader": {
     "cell_type": "markdown",
     "checksum": "1e6447bed03568012ced30d17fb59ef6",
     "grade": false,
     "grade_id": "cell-b9108c60b1b05377",
     "locked": true,
     "schema_version": 3,
     "solution": false,
     "task": false
    }
   },
   "source": [
    "(f) Repeat, with the same values of `z0` and `max_iterations`, but with `c` set, this time, to a $200\\times200$ array each of whose elements is the complex number $0.5+0.5i$."
   ]
  },
  {
   "cell_type": "code",
   "execution_count": 16,
   "id": "sublime-grocery",
   "metadata": {
    "deletable": false,
    "nbgrader": {
     "cell_type": "code",
     "checksum": "b9e66b9ea2e6c15443f5342956414796",
     "grade": true,
     "grade_id": "cell-e3f3c62451a882a7",
     "locked": false,
     "points": 3,
     "schema_version": 3,
     "solution": true,
     "task": false
    }
   },
   "outputs": [
    {
     "ename": "NotImplementedError",
     "evalue": "",
     "output_type": "error",
     "traceback": [
      "\u001b[1;31m---------------------------------------------------------------------------\u001b[0m",
      "\u001b[1;31mNotImplementedError\u001b[0m                       Traceback (most recent call last)",
      "\u001b[1;32m<ipython-input-16-895641c8ef20>\u001b[0m in \u001b[0;36m<module>\u001b[1;34m\u001b[0m\n\u001b[0;32m      1\u001b[0m \u001b[1;31m# YOUR CODE HERE\u001b[0m\u001b[1;33m\u001b[0m\u001b[1;33m\u001b[0m\u001b[1;33m\u001b[0m\u001b[0m\n\u001b[1;32m----> 2\u001b[1;33m \u001b[1;32mraise\u001b[0m \u001b[0mNotImplementedError\u001b[0m\u001b[1;33m(\u001b[0m\u001b[1;33m)\u001b[0m\u001b[1;33m\u001b[0m\u001b[1;33m\u001b[0m\u001b[0m\n\u001b[0m\u001b[0;32m      3\u001b[0m \u001b[0mplt\u001b[0m\u001b[1;33m.\u001b[0m\u001b[0mimshow\u001b[0m\u001b[1;33m(\u001b[0m\u001b[0mnp\u001b[0m\u001b[1;33m.\u001b[0m\u001b[0mlog\u001b[0m\u001b[1;33m(\u001b[0m\u001b[0me_t\u001b[0m\u001b[1;33m+\u001b[0m\u001b[1;36m1\u001b[0m\u001b[1;33m)\u001b[0m\u001b[1;33m,\u001b[0m \u001b[0mextent\u001b[0m\u001b[1;33m=\u001b[0m\u001b[1;33m[\u001b[0m\u001b[1;33m-\u001b[0m\u001b[1;36m1.5\u001b[0m\u001b[1;33m,\u001b[0m\u001b[1;36m1.5\u001b[0m\u001b[1;33m,\u001b[0m\u001b[1;33m-\u001b[0m\u001b[1;36m1.5\u001b[0m\u001b[1;33m,\u001b[0m\u001b[1;36m1.5\u001b[0m\u001b[1;33m]\u001b[0m\u001b[1;33m)\u001b[0m\u001b[1;33m\u001b[0m\u001b[1;33m\u001b[0m\u001b[0m\n",
      "\u001b[1;31mNotImplementedError\u001b[0m: "
     ]
    }
   ],
   "source": [
    "# YOUR CODE HERE\n",
    "raise NotImplementedError()\n",
    "plt.imshow(np.log(e_t+1), extent=[-1.5,1.5,-1.5,1.5])"
   ]
  },
  {
   "cell_type": "markdown",
   "id": "nearby-pennsylvania",
   "metadata": {
    "deletable": false,
    "editable": false,
    "nbgrader": {
     "cell_type": "markdown",
     "checksum": "9e4a033a4c8debd67cc2d5fba7eb4db6",
     "grade": false,
     "grade_id": "cell-b5a5863043746ce8",
     "locked": true,
     "schema_version": 3,
     "solution": false,
     "task": false
    }
   },
   "source": [
    "# Question 3 (25 marks)\n",
    "\n",
    "This question also concerns iterations of the function $f(z) = z^2+c$, where $c=a+i\\,b$.\n",
    "\n",
    "The following code sets up `z` as a SymPy variable, and `a` and `b` as <em>real</em> SymPy variables."
   ]
  },
  {
   "cell_type": "code",
   "execution_count": 17,
   "id": "prompt-toyota",
   "metadata": {
    "deletable": false,
    "editable": false,
    "nbgrader": {
     "cell_type": "code",
     "checksum": "f26271977b00ee422a010e360a716fd7",
     "grade": false,
     "grade_id": "cell-572ff5762ae60456",
     "locked": true,
     "schema_version": 3,
     "solution": false,
     "task": false
    }
   },
   "outputs": [],
   "source": [
    "z = sp.symbols('z')\n",
    "a, b = sp.symbols('a b',real=True)"
   ]
  },
  {
   "cell_type": "markdown",
   "id": "wireless-dakota",
   "metadata": {
    "deletable": false,
    "editable": false,
    "nbgrader": {
     "cell_type": "markdown",
     "checksum": "541b5d124c0b2f130845a66162076e69",
     "grade": false,
     "grade_id": "cell-2aa46c592b890f8f",
     "locked": true,
     "schema_version": 3,
     "solution": false,
     "task": false
    }
   },
   "source": [
    "(a) Set `f` equal to the symbolic expression `z**2 + a + b*sp.I`, and use SymPy to find the fixed points of `f` by solving symbolically, for `z`, the equation\n",
    "$$z^2+a+i\\,b=z.$$\n",
    "Set the variable `sols1` equal to your list of solutions."
   ]
  },
  {
   "cell_type": "code",
   "execution_count": 51,
   "id": "cathedral-taste",
   "metadata": {
    "deletable": false,
    "nbgrader": {
     "cell_type": "code",
     "checksum": "4fb1726cf93afa32056f12ec3a7f6d80",
     "grade": true,
     "grade_id": "cell-d2a060bb565f480b",
     "locked": false,
     "points": 2,
     "schema_version": 3,
     "solution": true,
     "task": false
    }
   },
   "outputs": [
    {
     "data": {
      "image/png": "[encoded data removed]",
      "text/latex": [
       "$\\displaystyle \\left[ - \\sqrt{- a - i b}, \\  \\sqrt{- a - i b}\\right]$"
      ],
      "text/plain": [
       "⎡   __________    __________⎤\n",
       "⎣-╲╱ -a - ⅈ⋅b , ╲╱ -a - ⅈ⋅b ⎦"
      ]
     },
     "execution_count": 51,
     "metadata": {},
     "output_type": "execute_result"
    }
   ],
   "source": [
    "f = sp.lambdify(z, z ** 2 + a + b*sp.I)\n",
    "sols1 = sp.solve(f(z), z)\n",
    "sols1"
   ]
  },
  {
   "cell_type": "markdown",
   "id": "educated-doctrine",
   "metadata": {
    "deletable": false,
    "editable": false,
    "nbgrader": {
     "cell_type": "markdown",
     "checksum": "2ed4f6ed6cb5091252b9d4782f67b3a9",
     "grade": false,
     "grade_id": "cell-cc10e9502205e167",
     "locked": true,
     "schema_version": 3,
     "solution": false,
     "task": false
    }
   },
   "source": [
    "We now want to characterise those fixed points for which the absolute value of the derivative is exactly 1; those will correspond to the boundary of the region within which the fixed point is stable.\n",
    "\n",
    "(b) Calculate the derivative of `f` with respect to `z`, setting the variable `df` equal to this symbolic expression."
   ]
  },
  {
   "cell_type": "code",
   "execution_count": 52,
   "id": "european-logistics",
   "metadata": {
    "deletable": false,
    "nbgrader": {
     "cell_type": "code",
     "checksum": "d3f090db3d820e88f41b338e11ad75fe",
     "grade": true,
     "grade_id": "cell-a7f7afd4ef585135",
     "locked": false,
     "points": 1,
     "schema_version": 3,
     "solution": true,
     "task": false
    }
   },
   "outputs": [
    {
     "data": {
      "image/png": "[encoded data removed]",
      "text/latex": [
       "$\\displaystyle 2 z$"
      ],
      "text/plain": [
       "2⋅z"
      ]
     },
     "execution_count": 52,
     "metadata": {},
     "output_type": "execute_result"
    }
   ],
   "source": [
    "df = sp.diff(f(z), z)\n",
    "df"
   ]
  },
  {
   "cell_type": "markdown",
   "id": "thorough-puppy",
   "metadata": {
    "deletable": false,
    "editable": false,
    "nbgrader": {
     "cell_type": "markdown",
     "checksum": "1104aad58bb61c586f592e8130741c17",
     "grade": false,
     "grade_id": "cell-16d65d6065c1a3c9",
     "locked": true,
     "schema_version": 3,
     "solution": false,
     "task": false
    }
   },
   "source": [
    "(c) Using the SymPy functions `re` and `im`, and a Python comprehension, calculate the symbolic value of $\\left({\\rm Re}(f'(z))\\right)^2+\\left({\\rm Im}(f'(z))\\right)^2$ for each value of $z$ in `sols1`. Set the variable `abs_squared1` equal to this list of symbolic values."
   ]
  },
  {
   "cell_type": "code",
   "execution_count": 53,
   "id": "spiritual-prerequisite",
   "metadata": {
    "deletable": false,
    "nbgrader": {
     "cell_type": "code",
     "checksum": "a2c5856cdaff09517f0934423e45e02e",
     "grade": true,
     "grade_id": "cell-d9b13924505e5466",
     "locked": false,
     "points": 2,
     "schema_version": 3,
     "solution": true,
     "task": false
    }
   },
   "outputs": [
    {
     "data": {
      "image/png": "[encoded data removed]",
      "text/latex": [
       "$\\displaystyle \\left[ \\left(4 \\sqrt{a^{2} + b^{2}} \\sin^{2}{\\left(\\frac{\\operatorname{atan_{2}}{\\left(- b,- a \\right)}}{2} \\right)} + 4 \\sqrt{a^{2} + b^{2}} \\cos^{2}{\\left(\\frac{\\operatorname{atan_{2}}{\\left(- b,- a \\right)}}{2} \\right)}\\right)^{2}, \\  \\left(4 \\sqrt{a^{2} + b^{2}} \\sin^{2}{\\left(\\frac{\\operatorname{atan_{2}}{\\left(- b,- a \\right)}}{2} \\right)} + 4 \\sqrt{a^{2} + b^{2}} \\cos^{2}{\\left(\\frac{\\operatorname{atan_{2}}{\\left(- b,- a \\right)}}{2} \\right)}\\right)^{2}\\right]$"
      ],
      "text/plain": [
       "⎡                                                                         2   \n",
       "⎢⎛     _________                            _________                    ⎞   ⎛\n",
       "⎢⎜    ╱  2    2     2⎛atan2(-b, -a)⎞       ╱  2    2     2⎛atan2(-b, -a)⎞⎟   ⎜\n",
       "⎢⎜4⋅╲╱  a  + b  ⋅sin ⎜─────────────⎟ + 4⋅╲╱  a  + b  ⋅cos ⎜─────────────⎟⎟ , ⎜\n",
       "⎣⎝                   ⎝      2      ⎠                      ⎝      2      ⎠⎠   ⎝\n",
       "\n",
       "                                                                        2⎤\n",
       "     _________                            _________                    ⎞ ⎥\n",
       "    ╱  2    2     2⎛atan2(-b, -a)⎞       ╱  2    2     2⎛atan2(-b, -a)⎞⎟ ⎥\n",
       "4⋅╲╱  a  + b  ⋅sin ⎜─────────────⎟ + 4⋅╲╱  a  + b  ⋅cos ⎜─────────────⎟⎟ ⎥\n",
       "                   ⎝      2      ⎠                      ⎝      2      ⎠⎠ ⎦"
      ]
     },
     "execution_count": 53,
     "metadata": {},
     "output_type": "execute_result"
    }
   ],
   "source": [
    "abs_squared1 = [((sp.re(df.subs(z, i))) ** 2 + (sp.im(df.subs(z, i))) ** 2) ** 2 for i in sols1]\n",
    "abs_squared1"
   ]
  },
  {
   "cell_type": "markdown",
   "id": "useful-johnson",
   "metadata": {
    "deletable": false,
    "editable": false,
    "nbgrader": {
     "cell_type": "markdown",
     "checksum": "05fade83d24f1fe8add5b08766d316bc",
     "grade": false,
     "grade_id": "cell-61fe84ca5dbe87d4",
     "locked": true,
     "schema_version": 3,
     "solution": false,
     "task": false
    }
   },
   "source": [
    "(d) Using `lambdify`, set `abs_squared1_f0` equal to the function that maps $a$ and $b$ to the first expression in the list `abs_squared1`; make sure that this function works across NumPy arrays.\n",
    "\n",
    "Repeat, this time using the second expression in `abs_squared1`, and calling your function `abs_squared_f1`."
   ]
  },
  {
   "cell_type": "code",
   "execution_count": 54,
   "id": "missing-castle",
   "metadata": {
    "deletable": false,
    "nbgrader": {
     "cell_type": "code",
     "checksum": "ba2e1ed9cb34a050b289e084c8f409c6",
     "grade": true,
     "grade_id": "cell-40d3c338e9b9bb1f",
     "locked": false,
     "points": 3,
     "schema_version": 3,
     "solution": true,
     "task": false
    }
   },
   "outputs": [],
   "source": [
    "abs_squared_f0 = sp.lambdify((a, b), abs_squared1[0])\n",
    "\n",
    "abs_squared_f1 = sp.lambdify((a, b), abs_squared1[1])"
   ]
  },
  {
   "cell_type": "markdown",
   "id": "weekly-criticism",
   "metadata": {
    "deletable": false,
    "editable": false,
    "nbgrader": {
     "cell_type": "markdown",
     "checksum": "0425aaf9a08c62789a89d4999c43b0db",
     "grade": false,
     "grade_id": "cell-cce445470e23fc40",
     "locked": true,
     "schema_version": 3,
     "solution": false,
     "task": false
    }
   },
   "source": [
    "(e) Using `pyplot`, generate a contour plot of `abs_squared_f0(x,y)`, using the values of `xvals` and `yvals` from Question 2. The plot should show only the contour with value 1. \n",
    "\n",
    "On the same pair of axes, show a contour plot of `abs_squared_f1(x,y)`, using the values of `xvals` and `yvals` from Question 2. Again, the plot should show only the contour with value 1. \n",
    "\n",
    "Make the scales on both axes equal.\n",
    "\n",
    "(You may find that one of the contour plots is empty; this is expected. If they're both empty, though, something's wrong.)"
   ]
  },
  {
   "cell_type": "code",
   "execution_count": 55,
   "id": "fluid-builder",
   "metadata": {
    "deletable": false,
    "nbgrader": {
     "cell_type": "code",
     "checksum": "28bd6c0a8cfe5b3f3ea38dca8fe2950d",
     "grade": true,
     "grade_id": "cell-aba6d9db4dc770a0",
     "locked": false,
     "points": 4,
     "schema_version": 3,
     "solution": true,
     "task": false
    }
   },
   "outputs": [
    {
     "data": {
      "image/png": "[encoded data removed]",
      "text/latex": [
       "$\\displaystyle \\left( -1.5, \\  1.5, \\  -1.5, \\  1.5\\right)$"
      ],
      "text/plain": [
       "(-1.5, 1.5, -1.5, 1.5)"
      ]
     },
     "execution_count": 55,
     "metadata": {},
     "output_type": "execute_result"
    },
    {
     "data": {
      "image/png": "[encoded data removed]",
      "text/plain": [
       "<Figure size 432x288 with 1 Axes>"
      ]
     },
     "metadata": {
      "needs_background": "light"
     },
     "output_type": "display_data"
    }
   ],
   "source": [
    "plt.contour(xvals, yvals, abs_squared_f0(xvals, yvals), 1)\n",
    "plt.contour(xvals, yvals, abs_squared_f1(xvals, yvals), 1)\n",
    "plt.axis('equal')"
   ]
  },
  {
   "cell_type": "markdown",
   "id": "loved-helena",
   "metadata": {
    "deletable": false,
    "editable": false,
    "nbgrader": {
     "cell_type": "markdown",
     "checksum": "49e4dc2d6c065950fbaeaadfcca06743",
     "grade": false,
     "grade_id": "cell-1ea98a72e3cd2616",
     "locked": true,
     "schema_version": 3,
     "solution": false,
     "task": false
    }
   },
   "source": [
    "(f) Using SymPy, find an <em>expanded</em> expression in terms of $z$, $a$ and $b$ for the composite function $f\\circ f$; that is, $(z^2+a+i\\,b)^2+a+i\\,b$. Set the variable `f2` equal to this."
   ]
  },
  {
   "cell_type": "code",
   "execution_count": 56,
   "id": "jewish-sixth",
   "metadata": {
    "deletable": false,
    "nbgrader": {
     "cell_type": "code",
     "checksum": "d74c693fd5c5e1216a15855ef810f5f1",
     "grade": true,
     "grade_id": "cell-efa87c6c82183341",
     "locked": false,
     "points": 3,
     "schema_version": 3,
     "solution": true,
     "task": false
    }
   },
   "outputs": [
    {
     "data": {
      "image/png": "[encoded data removed]",
      "text/latex": [
       "$\\displaystyle a^{2} + 2.0 i a b + 2 a z^{2} + a - 1.0 b^{2} + 2.0 i b z^{2} + 1.0 i b + z^{4}$"
      ],
      "text/plain": [
       " 2                    2        2            2              4\n",
       "a  + 2.0⋅ⅈ⋅a⋅b + 2⋅a⋅z  + a - b  + 2.0⋅ⅈ⋅b⋅z  + 1.0⋅ⅈ⋅b + z "
      ]
     },
     "execution_count": 56,
     "metadata": {},
     "output_type": "execute_result"
    }
   ],
   "source": [
    "f2 = sp.expand(f(f(z)))\n",
    "f2"
   ]
  },
  {
   "cell_type": "markdown",
   "id": "industrial-twist",
   "metadata": {
    "deletable": false,
    "editable": false,
    "nbgrader": {
     "cell_type": "markdown",
     "checksum": "b881fa26b929b3812b2da04aefbf40bc",
     "grade": false,
     "grade_id": "cell-fcc44c0931f5f44e",
     "locked": true,
     "schema_version": 3,
     "solution": false,
     "task": false
    }
   },
   "source": [
    "(g) Create a contour plot like that in part (e), showing the fixed points of the composite function $f\\circ f$ for which the absolute value of the derivative of $f \\circ f$ is exactly 1."
   ]
  },
  {
   "cell_type": "code",
   "execution_count": 57,
   "id": "above-passing",
   "metadata": {
    "deletable": false,
    "nbgrader": {
     "cell_type": "code",
     "checksum": "25feab888003f7ad5c3ab81cdee642f7",
     "grade": true,
     "grade_id": "cell-732e501871c3c497",
     "locked": false,
     "points": 8,
     "schema_version": 3,
     "solution": true,
     "task": false
    }
   },
   "outputs": [
    {
     "data": {
      "image/png": "[encoded data removed]",
      "text/latex": [
       "$\\displaystyle \\left( -1.5, \\  1.5, \\  -1.5, \\  1.5\\right)$"
      ],
      "text/plain": [
       "(-1.5, 1.5, -1.5, 1.5)"
      ]
     },
     "execution_count": 57,
     "metadata": {},
     "output_type": "execute_result"
    },
    {
     "data": {
      "image/png": "[encoded data removed]",
      "text/plain": [
       "<Figure size 432x288 with 1 Axes>"
      ]
     },
     "metadata": {
      "needs_background": "light"
     },
     "output_type": "display_data"
    }
   ],
   "source": [
    "sols2 = sp.solve(f2, z)\n",
    "df2 = sp.diff(f2, z)\n",
    "abs_squared2 = [((sp.re(df2.subs(z, i))) ** 2 + (sp.im(df2.subs(z, i))) ** 2) ** 2 for i in sols2]\n",
    "abs_squared2_f0 = sp.lambdify((a, b), abs_squared2[0])\n",
    "\n",
    "abs_squared2_f1 = sp.lambdify((a, b), abs_squared2[1])\n",
    "\n",
    "plt.contour(xvals, yvals, abs_squared2_f0(xvals, yvals), 1)\n",
    "plt.contour(xvals, yvals, abs_squared2_f1(xvals, yvals), 1)\n",
    "plt.axis('equal')"
   ]
  },
  {
   "cell_type": "markdown",
   "id": "medical-regulation",
   "metadata": {
    "deletable": false,
    "editable": false,
    "nbgrader": {
     "cell_type": "markdown",
     "checksum": "98ff1f787cb63f55f2d68e8f6074cc2a",
     "grade": false,
     "grade_id": "cell-42381b68f8f943d1",
     "locked": true,
     "schema_version": 3,
     "solution": false,
     "task": false
    }
   },
   "source": [
    "(h) Comment briefly on the relationship between this diagram and the one in your answer to Question 2 part (e)."
   ]
  },
  {
   "cell_type": "markdown",
   "id": "present-corps",
   "metadata": {
    "deletable": false,
    "nbgrader": {
     "cell_type": "markdown",
     "checksum": "a6c05b97710c0db63b6604221374c97e",
     "grade": true,
     "grade_id": "cell-8ad886c8125d1177",
     "locked": false,
     "points": 1,
     "schema_version": 3,
     "solution": true,
     "task": false
    }
   },
   "source": [
    "No idea\n"
   ]
  },
  {
   "cell_type": "markdown",
   "id": "surface-graphic",
   "metadata": {
    "deletable": false,
    "editable": false,
    "nbgrader": {
     "cell_type": "markdown",
     "checksum": "c7caae643cde0ecd70d8ba4126c351c8",
     "grade": false,
     "grade_id": "cell-21ea051fb5a2ae7c",
     "locked": true,
     "schema_version": 3,
     "solution": false,
     "task": false
    }
   },
   "source": [
    "# Question 4 (25 marks)\n",
    "This question makes use of the data file `words.dat`, which you should have downloaded into the same folder as your Jupyter notebook. You can read it in as a list using the code"
   ]
  },
  {
   "cell_type": "code",
   "execution_count": 30,
   "id": "exterior-committee",
   "metadata": {
    "deletable": false,
    "editable": false,
    "nbgrader": {
     "cell_type": "code",
     "checksum": "31e6ad9f9fc86c70b21bcd95c0a6bd3e",
     "grade": false,
     "grade_id": "cell-3a42d1356c37a32e",
     "locked": true,
     "schema_version": 3,
     "solution": false,
     "task": false
    }
   },
   "outputs": [],
   "source": [
    "fo = open(\"words.dat\", \"r\")\n",
    "words = fo.read().splitlines()\n",
    "fo.close()"
   ]
  },
  {
   "cell_type": "markdown",
   "id": "blond-mother",
   "metadata": {
    "deletable": false,
    "editable": false,
    "nbgrader": {
     "cell_type": "markdown",
     "checksum": "3b0ef46b16a2db16922f714989e09100",
     "grade": false,
     "grade_id": "cell-002d2aef19eaf612",
     "locked": true,
     "schema_version": 3,
     "solution": false,
     "task": false
    }
   },
   "source": [
    "The data consists of an alphabetical list of English words. This question is about creating a word substitution code: this is a form of secret communication in which whole words are swapped for whole words, instead of letters being swapped for letters.\n",
    "\n",
    "(a) Display the first ten elements of the list `words`."
   ]
  },
  {
   "cell_type": "code",
   "execution_count": 31,
   "id": "frank-archives",
   "metadata": {
    "deletable": false,
    "nbgrader": {
     "cell_type": "code",
     "checksum": "270db821b0f42225cd402fc9b10c8d33",
     "grade": true,
     "grade_id": "cell-6a4a10850f523b9c",
     "locked": false,
     "points": 1,
     "schema_version": 3,
     "solution": true,
     "task": false
    }
   },
   "outputs": [
    {
     "name": "stdout",
     "output_type": "stream",
     "text": [
      "['a', 'aah', 'aardvark', 'aardvarks', 'abaci', 'aback', 'abacus', 'abacuses', 'abaft', 'abalone']\n"
     ]
    }
   ],
   "source": [
    "print(words[:10])"
   ]
  },
  {
   "cell_type": "markdown",
   "id": "proved-combat",
   "metadata": {
    "deletable": false,
    "editable": false,
    "nbgrader": {
     "cell_type": "markdown",
     "checksum": "b794b17eac60eb39c2cc235be5dc0e1a",
     "grade": false,
     "grade_id": "cell-e1635f14dd8fbb81",
     "locked": true,
     "schema_version": 3,
     "solution": false,
     "task": false
    }
   },
   "source": [
    "(b) Write some code to create a list called `code_words` which consists of the words in `words`, randomly shuffled. You may use any suitable function from the `random` module or the `numpy.random` submodule. Make sure that the list `words` is not itself shuffled; it must stay the same, and `code_words` must be a separate list.\n",
    "\n",
    "Display the first ten elements of `code_words`"
   ]
  },
  {
   "cell_type": "code",
   "execution_count": 32,
   "id": "ordered-softball",
   "metadata": {
    "deletable": false,
    "nbgrader": {
     "cell_type": "code",
     "checksum": "2bcb784aec0fc380eafa9e3e42f4aef9",
     "grade": true,
     "grade_id": "cell-2450b30d053f424b",
     "locked": false,
     "points": 4,
     "schema_version": 3,
     "solution": true,
     "task": false
    }
   },
   "outputs": [
    {
     "name": "stdout",
     "output_type": "stream",
     "text": [
      "['medicated' 'carrion' 'gizzards' 'spool' 'frighteners' 'manually'\n",
      " 'foliage' 'perforate' 'transceiver' 'shallow']\n"
     ]
    }
   ],
   "source": [
    "import numpy.random as nrnd\n",
    "code_words = nrnd.permutation(words)\n",
    "\n",
    "print(code_words[:10])"
   ]
  },
  {
   "cell_type": "markdown",
   "id": "qualified-tucson",
   "metadata": {
    "deletable": false,
    "editable": false,
    "nbgrader": {
     "cell_type": "markdown",
     "checksum": "73081cd05ae10e056f9fa3b76f865bf4",
     "grade": false,
     "grade_id": "cell-8ab0139803000f42",
     "locked": true,
     "schema_version": 3,
     "solution": false,
     "task": false
    }
   },
   "source": [
    "(c) Create a list of tuples `code_pairs` from `words` and `code_words`; the first element in each tuple should be an element of `words`, and the second should be the corresponding element of `code_words`.\n",
    "\n",
    "Display the first ten elements of `code_pairs`."
   ]
  },
  {
   "cell_type": "code",
   "execution_count": 33,
   "id": "suited-edwards",
   "metadata": {
    "deletable": false,
    "nbgrader": {
     "cell_type": "code",
     "checksum": "4a8358adc3819742d6ef185a71f07bd2",
     "grade": true,
     "grade_id": "cell-ca8b027ed7fa0110",
     "locked": false,
     "points": 2,
     "schema_version": 3,
     "solution": true,
     "task": false
    }
   },
   "outputs": [
    {
     "name": "stdout",
     "output_type": "stream",
     "text": [
      "[('a', 'medicated'), ('aah', 'carrion'), ('aardvark', 'gizzards'), ('aardvarks', 'spool'), ('abaci', 'frighteners'), ('aback', 'manually'), ('abacus', 'foliage'), ('abacuses', 'perforate'), ('abaft', 'transceiver'), ('abalone', 'shallow')]\n"
     ]
    }
   ],
   "source": [
    "code_pairs = [(words[i], code_words[i]) for i in range(len(words))]\n",
    "\n",
    "print(code_pairs[:10])"
   ]
  },
  {
   "cell_type": "markdown",
   "id": "amazing-canon",
   "metadata": {
    "deletable": false,
    "editable": false,
    "nbgrader": {
     "cell_type": "markdown",
     "checksum": "6b3450a3db3ebd5c3797fb451388c235",
     "grade": false,
     "grade_id": "cell-9bf5b2c6bb7d95d7",
     "locked": true,
     "schema_version": 3,
     "solution": false,
     "task": false
    }
   },
   "source": [
    "(d) Create a dictionary `code_dict` from `code_pairs`, and a Pandas series `code_series` from `code_dict`. \n",
    "\n",
    "Show the first ten rows of your series: the index should consist of `words` and the associated values should consist of `code_words`."
   ]
  },
  {
   "cell_type": "code",
   "execution_count": 34,
   "id": "regular-recycling",
   "metadata": {
    "deletable": false,
    "nbgrader": {
     "cell_type": "code",
     "checksum": "558a3bdd1f72db1698736b45a38b4c51",
     "grade": true,
     "grade_id": "cell-f77e7a20b423b276",
     "locked": false,
     "points": 3,
     "schema_version": 3,
     "solution": true,
     "task": false
    }
   },
   "outputs": [
    {
     "data": {
      "text/plain": [
       "a              medicated\n",
       "aah              carrion\n",
       "aardvark        gizzards\n",
       "aardvarks          spool\n",
       "abaci        frighteners\n",
       "aback           manually\n",
       "abacus           foliage\n",
       "abacuses       perforate\n",
       "abaft        transceiver\n",
       "abalone          shallow\n",
       "dtype: object"
      ]
     },
     "execution_count": 34,
     "metadata": {},
     "output_type": "execute_result"
    }
   ],
   "source": [
    "code_dict = {code_pairs[i][0] : code_pairs[i][1] for i in range(len(words))}\n",
    "\n",
    "code_series = pd.Series(code_dict)\n",
    "\n",
    "code_series.head(10)"
   ]
  },
  {
   "cell_type": "markdown",
   "id": "laughing-politics",
   "metadata": {
    "deletable": false,
    "editable": false,
    "nbgrader": {
     "cell_type": "markdown",
     "checksum": "bafbcc39b69ce1775371fbfbe9da00c3",
     "grade": false,
     "grade_id": "cell-e902790ad44d178f",
     "locked": true,
     "schema_version": 3,
     "solution": false,
     "task": false
    }
   },
   "source": [
    "(e) Using your dictionary, and whatever string functions and methods you need, create a sentence `codetext` in which every word in the string"
   ]
  },
  {
   "cell_type": "code",
   "execution_count": 35,
   "id": "executed-turning",
   "metadata": {
    "deletable": false,
    "editable": false,
    "nbgrader": {
     "cell_type": "code",
     "checksum": "9d7ded545e4339385ba807d607dd1061",
     "grade": false,
     "grade_id": "cell-888e73133c9a2969",
     "locked": true,
     "schema_version": 3,
     "solution": false,
     "task": false
    }
   },
   "outputs": [],
   "source": [
    "plaintext = 'there is a mole right at the top of the circus'"
   ]
  },
  {
   "cell_type": "markdown",
   "id": "coral-bedroom",
   "metadata": {
    "deletable": false,
    "editable": false,
    "nbgrader": {
     "cell_type": "markdown",
     "checksum": "814882414ef9a103a25218f0d7e44728",
     "grade": false,
     "grade_id": "cell-5e8776018d2f0170",
     "locked": true,
     "schema_version": 3,
     "solution": false,
     "task": false
    }
   },
   "source": [
    "has been replaced by its associated code word."
   ]
  },
  {
   "cell_type": "code",
   "execution_count": 36,
   "id": "worst-commonwealth",
   "metadata": {
    "deletable": false,
    "nbgrader": {
     "cell_type": "code",
     "checksum": "3312a700e15878aa75d0efe3777e846b",
     "grade": true,
     "grade_id": "cell-c10015edde2e4a94",
     "locked": false,
     "points": 2,
     "schema_version": 3,
     "solution": true,
     "task": false
    }
   },
   "outputs": [
    {
     "name": "stdout",
     "output_type": "stream",
     "text": [
      "postprandial reinsert medicated aquanauts nonadministrative gall justices viewable furrow justices rerun\n"
     ]
    }
   ],
   "source": [
    "x = plaintext.split()\n",
    "codelist = [code_dict[i] for i in x]\n",
    "codetext = ' '.join(codelist)\n",
    "print(codetext)"
   ]
  },
  {
   "cell_type": "markdown",
   "id": "present-colon",
   "metadata": {
    "deletable": false,
    "editable": false,
    "nbgrader": {
     "cell_type": "markdown",
     "checksum": "281741670325a9232fa7815738eb9f47",
     "grade": false,
     "grade_id": "cell-debab15518307c68",
     "locked": true,
     "schema_version": 3,
     "solution": false,
     "task": false
    }
   },
   "source": [
    "(f) Repeat using your Pandas series instead."
   ]
  },
  {
   "cell_type": "code",
   "execution_count": 37,
   "id": "unsigned-debate",
   "metadata": {
    "deletable": false,
    "nbgrader": {
     "cell_type": "code",
     "checksum": "3d3f82c92c75a13a563176b2af835496",
     "grade": true,
     "grade_id": "cell-7a44e1e2c06e3df8",
     "locked": false,
     "points": 2,
     "schema_version": 3,
     "solution": true,
     "task": false
    }
   },
   "outputs": [
    {
     "name": "stdout",
     "output_type": "stream",
     "text": [
      "postprandial reinsert medicated aquanauts nonadministrative gall justices viewable furrow justices rerun\n"
     ]
    }
   ],
   "source": [
    "x = plaintext.split()\n",
    "codelist = [code_series[i] for i in x]\n",
    "codetext = ' '.join(codelist)\n",
    "\n",
    "print(codetext)"
   ]
  },
  {
   "cell_type": "markdown",
   "id": "modern-cincinnati",
   "metadata": {
    "deletable": false,
    "editable": false,
    "nbgrader": {
     "cell_type": "markdown",
     "checksum": "c507d9921e0c3a3382f72a27d4264ae5",
     "grade": false,
     "grade_id": "cell-7329d39ef169060e",
     "locked": true,
     "schema_version": 3,
     "solution": false,
     "task": false
    }
   },
   "source": [
    "(g) Write some code to <em>decode</em> the above string; that is to recover the original plaintext. You should play the role of someone who doesn't know the plaintext, but you can assume that you have in your possession both `words` and `code_words`, as well as any lists, dictionaries or Pandas series built from them above."
   ]
  },
  {
   "cell_type": "code",
   "execution_count": 38,
   "id": "unlikely-antenna",
   "metadata": {
    "deletable": false,
    "nbgrader": {
     "cell_type": "code",
     "checksum": "88e1c3180abde6ed99a91d376ccaa443",
     "grade": true,
     "grade_id": "cell-6506dc8da5ae1c19",
     "locked": false,
     "points": 4,
     "schema_version": 3,
     "solution": true,
     "task": false
    }
   },
   "outputs": [
    {
     "name": "stdout",
     "output_type": "stream",
     "text": [
      "there is a mole right at the top of the circus\n"
     ]
    }
   ],
   "source": [
    "plain_dict = {code_words[i] : words[i] for i in range(len(words))}\n",
    "\n",
    "\n",
    "x = codetext.split()\n",
    "plainlist = [plain_dict[i] for i in x]\n",
    "plaintext = ' '.join(plainlist)\n",
    "\n",
    "print(plaintext)"
   ]
  },
  {
   "cell_type": "markdown",
   "id": "dress-undergraduate",
   "metadata": {
    "deletable": false,
    "editable": false,
    "nbgrader": {
     "cell_type": "markdown",
     "checksum": "038232601dfc4dfa0c3598b72237edff",
     "grade": false,
     "grade_id": "cell-34f13265b59b692b",
     "locked": true,
     "schema_version": 3,
     "solution": false,
     "task": false
    }
   },
   "source": [
    "(h) Write and test a function called `pair_partner` which should take two arguments, `pairs` and `key`.\n",
    "\n",
    "The argument `pairs` should consist of a list of 2-tuples, the first elements of which (that is, the elements with index zero) can be assumed to be strings in alphabetical order. So, for example, `pairs` might be \n",
    "```\n",
    "[('a', 'turquoise'), ('aah', 'misreading'), ('aardvark', 'scoopfuls'), ('aardvarks', 'coexistence'), ('abaci', 'obediently'), ('aback', 'globetrotter'), ('abacus', 'constellations'), ('abacuses', 'needful'), ('abaft', 'heterogeneity'), ('abalone', 'selenium')]\n",
    "```\n",
    "\n",
    "The argument `key` should consist of a string, which can be assumed to be one of the first elements of the tuples in `pairs`. So, for example, `key` might be `'aardvarks'`.\n",
    "\n",
    "The function should then return the corresponding <em>second</em> element, which in this case would be `'coexistence'`.\n",
    "\n",
    "That is, the code\n",
    "```python\n",
    "test_pairs = [('a', 'turquoise'), ('aah', 'misreading'), ('aardvark', 'scoopfuls'), ('aardvarks', 'coexistence'), ('abaci', 'obediently'), ('aback', 'globetrotter'), ('abacus', 'constellations'), ('abacuses', 'needful'), ('abaft', 'heterogeneity'), ('abalone', 'selenium')]\n",
    "test_key = 'aardvarks'\n",
    "pair_partner(test_pairs, test_key)\n",
    "```\n",
    "should return `'coexistence'`.\n",
    "\n",
    "For full marks, you should use the fact that the first elements in pairs are in alphabetical order, by implementing an efficient binary search."
   ]
  },
  {
   "cell_type": "code",
   "execution_count": 39,
   "id": "interstate-liver",
   "metadata": {
    "deletable": false,
    "nbgrader": {
     "cell_type": "code",
     "checksum": "53d9b7091f521e1e9e8874186de6e178",
     "grade": true,
     "grade_id": "cell-e42917f54aa01ff9",
     "locked": false,
     "points": 6,
     "schema_version": 3,
     "solution": true,
     "task": false
    }
   },
   "outputs": [
    {
     "data": {
      "text/plain": [
       "'coexistence'"
      ]
     },
     "execution_count": 39,
     "metadata": {},
     "output_type": "execute_result"
    }
   ],
   "source": [
    "def pair_partner(pairs,key):\n",
    "    dictionary = {pairs[i][0] : pairs[i][1] for i in range(len(pairs))}\n",
    "    return dictionary[key]\n",
    "\n",
    "test_pairs = [('a', 'turquoise'), ('aah', 'misreading'), ('aardvark', 'scoopfuls'), ('aardvarks', 'coexistence'), ('abaci', 'obediently'), ('aback', 'globetrotter'), ('abacus', 'constellations'), ('abacuses', 'needful'), ('abaft', 'heterogeneity'), ('abalone', 'selenium')]\n",
    "test_key = 'aardvarks'\n",
    "pair_partner(test_pairs, test_key)"
   ]
  },
  {
   "cell_type": "markdown",
   "id": "brutal-relaxation",
   "metadata": {
    "deletable": false,
    "editable": false,
    "nbgrader": {
     "cell_type": "markdown",
     "checksum": "8f8582c45b3b785fae185e4b030f63d6",
     "grade": false,
     "grade_id": "cell-ac2a0b26928d0030",
     "locked": true,
     "schema_version": 3,
     "solution": false,
     "task": false
    }
   },
   "source": [
    "(i) Using `code_pairs`, your `pair_partner` function and whatever string functions and methods you need, create a sentence `codetext` in which every word in the string"
   ]
  },
  {
   "cell_type": "code",
   "execution_count": 40,
   "id": "vanilla-server",
   "metadata": {
    "deletable": false,
    "editable": false,
    "nbgrader": {
     "cell_type": "code",
     "checksum": "d786cfaf35397453b56a41b227463d14",
     "grade": false,
     "grade_id": "cell-fc8c4f46d05d5e6a",
     "locked": true,
     "schema_version": 3,
     "solution": false,
     "task": false
    }
   },
   "outputs": [],
   "source": [
    "plaintext = 'there is a mole right at the top of the circus'"
   ]
  },
  {
   "cell_type": "markdown",
   "id": "hybrid-slovakia",
   "metadata": {
    "deletable": false,
    "editable": false,
    "nbgrader": {
     "cell_type": "markdown",
     "checksum": "82e6abd11f82b586508795a3e12035f1",
     "grade": false,
     "grade_id": "cell-5b207e61dc411c0d",
     "locked": true,
     "schema_version": 3,
     "solution": false,
     "task": false
    }
   },
   "source": [
    "has been replaced by its associated code word."
   ]
  },
  {
   "cell_type": "code",
   "execution_count": 41,
   "id": "changing-video",
   "metadata": {
    "deletable": false,
    "nbgrader": {
     "cell_type": "code",
     "checksum": "e8704e3a075259f830e6acd198e00847",
     "grade": true,
     "grade_id": "cell-e8f74850972fada2",
     "locked": false,
     "points": 2,
     "schema_version": 3,
     "solution": true,
     "task": false
    }
   },
   "outputs": [
    {
     "name": "stdout",
     "output_type": "stream",
     "text": [
      "postprandial reinsert medicated aquanauts nonadministrative gall justices viewable furrow justices rerun\n"
     ]
    }
   ],
   "source": [
    "x = plaintext.split()\n",
    "code_list = [pair_partner(code_pairs, i) for i in x]\n",
    "code_text = ' '.join(code_list)\n",
    "\n",
    "print(codetext)"
   ]
  },
  {
   "cell_type": "code",
   "execution_count": null,
   "id": "compound-intake",
   "metadata": {},
   "outputs": [],
   "source": []
  }
 ],
 "metadata": {
  "kernelspec": {
   "display_name": "Python 3",
   "language": "python",
   "name": "python3"
  },
  "language_info": {
   "codemirror_mode": {
    "name": "ipython",
    "version": 3
   },
   "file_extension": ".py",
   "mimetype": "text/x-python",
   "name": "python",
   "nbconvert_exporter": "python",
   "pygments_lexer": "ipython3",
   "version": "3.8.8"
  }
 },
 "nbformat": 4,
 "nbformat_minor": 5
}
