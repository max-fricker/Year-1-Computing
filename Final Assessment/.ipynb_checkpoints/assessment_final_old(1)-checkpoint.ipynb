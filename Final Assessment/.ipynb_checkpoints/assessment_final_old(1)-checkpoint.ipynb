{
 "cells": [
  {
   "cell_type": "code",
   "execution_count": 1,
   "id": "reduced-cosmetic",
   "metadata": {},
   "outputs": [],
   "source": [
    "import numpy as np\n",
    "import sympy as sp\n",
    "from time import time\n",
    "import matplotlib.pyplot as plt\n",
    "%matplotlib inline"
   ]
  },
  {
   "cell_type": "markdown",
   "id": "leading-moral",
   "metadata": {
    "nbgrader": {
     "grade": false,
     "grade_id": "cell-1ad953a7e0b88b1f",
     "locked": true,
     "schema_version": 3,
     "solution": false,
     "task": false
    }
   },
   "source": [
    "# M40006 In-Course Assessment\n",
    "\n",
    "# 25 March 2021, 9-11 am\n",
    "\n",
    "## Two Hours\n",
    "\n",
    "### Answer all questions, submitting your answers as a single Jupyter notebook."
   ]
  },
  {
   "cell_type": "markdown",
   "id": "serious-spokesman",
   "metadata": {
    "nbgrader": {
     "grade": false,
     "grade_id": "cell-d36b4ee2c55cebc3",
     "locked": true,
     "schema_version": 3,
     "solution": false,
     "task": false
    }
   },
   "source": [
    "## Question 1: 35 marks\n",
    "\n",
    "For an iterated map $f$ from the reals to the reals, the <b>Lyapunov exponent</b> is a measure of the tendency of iterations, whose starting values are close to one another, to diverge. It can be defined, for starting value $x=x_0$, as \n",
    "\n",
    "$$\\lim_{n\\to\\infty}\\frac{1}{n} \\sum_{r=1}^n \\log|f'(x_r)|,$$\n",
    "\n",
    "where $x_0, x_1, x_2, \\dots$ are iterates of the map. Positive values are associated with the phenomenon of <b>chaos</b>.\n",
    "\n",
    "We're often interested in <em>families</em> of maps, with a variable parameter $k$; an interesting case is the logistic map,\n",
    "$$f(x) = k\\,x\\,(1-x).$$\n",
    "\n",
    "In practice, we can't usually let $n$ tend to infinity, so we truncate using fairly large $n$.\n",
    "\n",
    "The following is a listing of a function called `lyapunov_exponent` which uses SymPy's `diff` function to calculate $f'$. It's built to work with families of maps: the arguments are `f`, the symbolic variables `x` and `k`, the parameter value `k_value`, the starting x-value `x0`, and the value of `n`, assumed to be a positive integer."
   ]
  },
  {
   "cell_type": "code",
   "execution_count": 3,
   "id": "illegal-float",
   "metadata": {
    "nbgrader": {
     "grade": false,
     "grade_id": "cell-5163972bcd8bcfd9",
     "locked": true,
     "schema_version": 3,
     "solution": false,
     "task": false
    }
   },
   "outputs": [],
   "source": [
    "def lyapunov_exponent(f, x, k, k_value, x0, n):\n",
    "    \"\"\"Calculates an estimate for the Lyapunov exponent of the map f, \n",
    "    dependent on x and k, for a particular value k_value of k, starting\n",
    "    x-value x0, and n iterations\"\"\"\n",
    "    \n",
    "    # initialize x_value and total\n",
    "    x_value = x0\n",
    "    total = 0\n",
    "    \n",
    "    # calculate derivative symbolically\n",
    "    df = sp.diff(f, x)\n",
    "    \n",
    "    # for loop\n",
    "    for r in range(n):\n",
    "        # calculate next x_value\n",
    "        x_value = float(f.subs([(x, x_value), (k, k_value)]))\n",
    "        # increment total\n",
    "        total += np.log(float(abs(df.subs([(x, x_value), (k, k_value)]))))\n",
    "    \n",
    "    # return estimate\n",
    "    return total/n"
   ]
  },
  {
   "cell_type": "markdown",
   "id": "living-armor",
   "metadata": {
    "nbgrader": {
     "grade": false,
     "grade_id": "cell-36572e3893b27331",
     "locked": true,
     "schema_version": 3,
     "solution": false,
     "task": false
    }
   },
   "source": [
    "(a) Define `x` and `k` as symbolic SymPy variables."
   ]
  },
  {
   "cell_type": "code",
   "execution_count": 2,
   "id": "acoustic-frame",
   "metadata": {
    "nbgrader": {
     "grade": true,
     "grade_id": "cell-7c4aac1abcfc02fd",
     "locked": false,
     "points": 4,
     "schema_version": 3,
     "solution": true,
     "task": false
    }
   },
   "outputs": [],
   "source": [
    "x, k = sp.symbols('x k')\n",
    "\n",
    "# 4 marks"
   ]
  },
  {
   "cell_type": "markdown",
   "id": "innocent-share",
   "metadata": {
    "nbgrader": {
     "grade": false,
     "grade_id": "cell-c5a0797b93b5e3fe",
     "locked": true,
     "schema_version": 3,
     "solution": false,
     "task": false
    }
   },
   "source": [
    "(b) Calculate\n",
    "```python\n",
    "lyapunov_exponent(k*x*(1-x), x, k, 2.5, 0.3, 100)\n",
    "```\n",
    "and show that it is negative."
   ]
  },
  {
   "cell_type": "code",
   "execution_count": 5,
   "id": "warming-comparative",
   "metadata": {
    "nbgrader": {
     "grade": true,
     "grade_id": "cell-83e0ab8a1015bbdc",
     "locked": false,
     "points": 4,
     "schema_version": 3,
     "solution": true,
     "task": false
    }
   },
   "outputs": [
    {
     "data": {
      "text/plain": [
       "-0.7059329347057703"
      ]
     },
     "execution_count": 5,
     "metadata": {},
     "output_type": "execute_result"
    }
   ],
   "source": [
    "lyapunov_exponent(k*x*(1-x), x, k, 2.5, 0.3, 100)\n",
    "\n",
    "# 4 marks"
   ]
  },
  {
   "cell_type": "markdown",
   "id": "based-trust",
   "metadata": {
    "nbgrader": {
     "grade": false,
     "grade_id": "cell-50cf7199a566fe43",
     "locked": true,
     "schema_version": 3,
     "solution": false,
     "task": false
    }
   },
   "source": [
    "(c) Find a value of `k_value` between 0 and 4 for which\n",
    "\n",
    "```python\n",
    "lyapunov_exponent(k*x*(1-x), x, k, k_value, 0.3, 100)\n",
    "```\n",
    "is positive."
   ]
  },
  {
   "cell_type": "code",
   "execution_count": 6,
   "id": "relative-password",
   "metadata": {
    "nbgrader": {
     "grade": true,
     "grade_id": "cell-364c6226076b9b3f",
     "locked": false,
     "points": 6,
     "schema_version": 3,
     "solution": true,
     "task": false
    }
   },
   "outputs": [
    {
     "data": {
      "text/plain": [
       "0.3599283197566552"
      ]
     },
     "execution_count": 6,
     "metadata": {},
     "output_type": "execute_result"
    }
   ],
   "source": [
    "lyapunov_exponent(k*x*(1-x), x, k, 3.7, 0.3, 100)\n",
    "\n",
    "# 6 marks\n",
    "# accept any valid answer"
   ]
  },
  {
   "cell_type": "markdown",
   "id": "plain-wireless",
   "metadata": {
    "nbgrader": {
     "grade": false,
     "grade_id": "cell-8cfde4cbd73a043f",
     "locked": true,
     "schema_version": 3,
     "solution": false,
     "task": false
    }
   },
   "source": [
    "(d) Define\n",
    "```python\n",
    "lyapunov_exponent_vec = np.vectorize(lyapunov_exponent)\n",
    "```\n",
    "and use it to calculate the \"$n=100$\" estimate of the Lyapunov exponent for parameter values $2.5, 2.6, 2.7, \\dots, 4.0$"
   ]
  },
  {
   "cell_type": "code",
   "execution_count": 7,
   "id": "sized-privilege",
   "metadata": {
    "nbgrader": {
     "grade": true,
     "grade_id": "cell-a4c2f4d9fe433a37",
     "locked": false,
     "points": 6,
     "schema_version": 3,
     "solution": true,
     "task": false
    }
   },
   "outputs": [
    {
     "data": {
      "text/plain": [
       "array([-0.70593293, -0.51915103, -0.36273668, -0.2279469 , -0.10983304,\n",
       "       -0.01819869, -0.2048762 , -0.75793999, -0.49861599, -0.10838731,\n",
       "       -0.71191421,  0.17530515,  0.35992832,  0.39946044,  0.50396162,\n",
       "        0.69197588])"
      ]
     },
     "execution_count": 7,
     "metadata": {},
     "output_type": "execute_result"
    }
   ],
   "source": [
    "lyapunov_exponent_vec = np.vectorize(lyapunov_exponent)\n",
    "lyapunov_exponent_vec(k*x*(1-x), x, k, np.linspace(2.5,4.0,16), 0.3, 100)\n",
    "\n",
    "# 6 marks\n",
    "# award full marks only if a data structure has been used\n",
    "# award only up to 3 marks for several separate commands\n",
    "# award only up to 4 marks for a comprehension"
   ]
  },
  {
   "cell_type": "markdown",
   "id": "innocent-introduction",
   "metadata": {
    "nbgrader": {
     "grade": false,
     "grade_id": "cell-204dcf1856c039b4",
     "locked": true,
     "schema_version": 3,
     "solution": false,
     "task": false
    }
   },
   "source": [
    "(e) As you have probably spotted, using the `subs` method in this way is very inefficient. Write a version called `lyapunov_exponent2`, which instead uses functions `f_lamb` and `df_lamb` created using `lambdify`, with symbolic variables `x` and `k`. Make sure these functions work on NumPy arrays. \n",
    "\n",
    "(Hint: the correct definition of `f_lamb` is\n",
    "```python\n",
    "f_lamb = sp.lambdify((x, k), f, 'numpy')\n",
    "```\n",
    ")\n",
    "\n",
    "Test your function by typing\n",
    "```python\n",
    "lyapunov_exponent2(k*x*(1-x), x, k, 2.5, 0.3, 100)\n",
    "```"
   ]
  },
  {
   "cell_type": "code",
   "execution_count": 8,
   "id": "mineral-fossil",
   "metadata": {
    "nbgrader": {
     "grade": true,
     "grade_id": "cell-9e37216cf23874d4",
     "locked": false,
     "points": 8,
     "schema_version": 3,
     "solution": true,
     "task": false
    }
   },
   "outputs": [],
   "source": [
    "def lyapunov_exponent2(f, x, k, k_value, x0, n):\n",
    "    \"\"\"Calculates an estimate for the Lyapunov exponent of the map f, \n",
    "    dependent on x and k, for a particular value k_value of k, starting\n",
    "    x-value x0, and n iterations\"\"\"\n",
    "    \n",
    "    # initialize x_value and total\n",
    "    x_value = x0\n",
    "    total = 0\n",
    "    \n",
    "    # calculate derivative symbolically\n",
    "    df = sp.diff(f, x)\n",
    "    \n",
    "    # create functions using lambdify\n",
    "    f_lamb = sp.lambdify((x, k), f, 'numpy')\n",
    "    df_lamb = sp.lambdify((x, k), df, 'numpy')\n",
    "    \n",
    "    # for loop\n",
    "    for r in range(n):\n",
    "        # calculate next x_value\n",
    "        x_value = f_lamb(x_value, k_value)\n",
    "        # increment total\n",
    "        total += np.log(abs(df_lamb(x_value, k_value)))\n",
    "    \n",
    "    # return estimate\n",
    "    return total/n\n",
    "\n",
    "# 8 marks"
   ]
  },
  {
   "cell_type": "markdown",
   "id": "several-trail",
   "metadata": {
    "nbgrader": {
     "grade": false,
     "grade_id": "cell-ad68ca196763620d",
     "locked": true,
     "schema_version": 3,
     "solution": false,
     "task": false
    }
   },
   "source": [
    "(f) Calculate the \"$n=1000$\" estimate of the Lyapunov exponent for parameter values $2.50, 2.51, 2.52, \\dots, 4.00$, and plot it against these parameter values."
   ]
  },
  {
   "cell_type": "code",
   "execution_count": 10,
   "id": "leading-referral",
   "metadata": {
    "nbgrader": {
     "grade": true,
     "grade_id": "cell-727ed4fcebc1600d",
     "locked": false,
     "points": 7,
     "schema_version": 3,
     "solution": true,
     "task": false
    }
   },
   "outputs": [
    {
     "data": {
      "text/plain": [
       "Text(0, 0.5, 'lyapunov exponent')"
      ]
     },
     "execution_count": 10,
     "metadata": {},
     "output_type": "execute_result"
    },
    {
     "data": {
      "image/png": "[encoded data removed]",
      "text/plain": [
       "<Figure size 432x288 with 1 Axes>"
      ]
     },
     "metadata": {
      "needs_background": "light"
     },
     "output_type": "display_data"
    }
   ],
   "source": [
    "plt.plot(np.linspace(2.5,4.0,151),lyapunov_exponent2(k*x*(1-x), x, k, np.linspace(2.5,4.0,151), 0.3, 1000))\n",
    "plt.xlabel('k')\n",
    "plt.ylabel('lyapunov exponent')\n",
    "\n",
    "# 7 marks\n",
    "# 6 for correct plot, 1 for axis labels"
   ]
  },
  {
   "cell_type": "markdown",
   "id": "guilty-berlin",
   "metadata": {
    "nbgrader": {
     "grade": false,
     "grade_id": "cell-9fe4dc9bd4826207",
     "locked": true,
     "schema_version": 3,
     "solution": false,
     "task": false
    }
   },
   "source": [
    "## Question 2: 65 marks\n",
    "\n",
    "Here is a listing for a function called `partition`, which takes as its argument a list `data`, assumed to be numerical, and two values `indexlo` and `indexhi`. It then does the following.\n",
    "\n",
    "<ul>\n",
    "    <li>Data items with indexes less than <code>indexlo</code> or greater than <code>indexhi</code> are left alone.</li>\n",
    "    <li>The data item with index <code>indexhi</code> is designated as the <b>pivot</b>. The function rearranges the data items with indexes between <code>indexlo</code> and <code>indexhi</code> inclusive, so that it consists of:\n",
    "        <ul>\n",
    "            <li>a sublist all of whose elements are less than or equal to the pivot, followed by...</li>\n",
    "            <li>... the pivot itself, followed by...</li>\n",
    "            <li>... a sublist all of whose elements are greater than or equal to the pivot.</li>\n",
    "        </ul>\n",
    "    </li>\n",
    "    <li>Having rearranged the data in place, it then <em>returns</em> the index corresponding to the new position of the pivot.</li>\n",
    "</ul>\n",
    "\n",
    "You are not required to analyse exactly how this function works."
   ]
  },
  {
   "cell_type": "code",
   "execution_count": 11,
   "id": "fifth-ticket",
   "metadata": {
    "nbgrader": {
     "grade": false,
     "grade_id": "cell-e83d781098ccc5d1",
     "locked": true,
     "schema_version": 3,
     "solution": false,
     "task": false
    }
   },
   "outputs": [],
   "source": [
    "def partition(data, indexlo, indexhi):\n",
    "    \"\"\"Partitions data between indexlo and indexhi into sublists. \n",
    "    treating data[indexhi] as the pivot\"\"\"\n",
    "    \n",
    "    # designate the pivot\n",
    "    pivot = data[indexhi]\n",
    "    \n",
    "    # initialize i\n",
    "    i = indexlo\n",
    "    \n",
    "    # loop over j, from indexlo to (indexhi-1)\n",
    "    for j in range(indexlo, indexhi):\n",
    "        # compare current data item with pivot\n",
    "        if data[j] < pivot:\n",
    "            # swap data items i and j, and increment i\n",
    "            data[i], data[j] = data[j], data[i]\n",
    "            i += 1\n",
    "    \n",
    "    # swap data item i with pivot\n",
    "    data[i], data[indexhi] = data[indexhi], data[i]\n",
    "    return i"
   ]
  },
  {
   "cell_type": "markdown",
   "id": "constitutional-place",
   "metadata": {
    "nbgrader": {
     "grade": false,
     "grade_id": "cell-b3cd9fff816cfcbb",
     "locked": true,
     "schema_version": 3,
     "solution": false,
     "task": false
    }
   },
   "source": [
    "### (i)\n",
    "(a) Test this function. For the data list"
   ]
  },
  {
   "cell_type": "code",
   "execution_count": 12,
   "id": "informative-culture",
   "metadata": {
    "nbgrader": {
     "grade": false,
     "grade_id": "cell-397ff16c9d7271b3",
     "locked": true,
     "schema_version": 3,
     "solution": false,
     "task": false
    }
   },
   "outputs": [],
   "source": [
    "data = [1, 5, 0, 6, 4, 3, 2]"
   ]
  },
  {
   "cell_type": "markdown",
   "id": "responsible-mason",
   "metadata": {
    "nbgrader": {
     "grade": false,
     "grade_id": "cell-8423053c5d0f6817",
     "locked": true,
     "schema_version": 3,
     "solution": false,
     "task": false
    }
   },
   "source": [
    "running\n",
    "```python\n",
    "partition(data, 0, 6)\n",
    "```\n",
    "should work on all of the data, and should convert it into\n",
    "<ul>\n",
    "    <li>a sublist all of whose elements are less than or equal to 2 followed by...</li>\n",
    "    <li>... 2, followed by...</li>\n",
    "    <li>... a sublist all of whose elements are greater than or equal to 2.</li>\n",
    "</ul>\n",
    "\n",
    "It should return the index corresponding to the new position of 2, which is actually 2.\n",
    "\n",
    "Run some further tests of your own."
   ]
  },
  {
   "cell_type": "code",
   "execution_count": 14,
   "id": "listed-revision",
   "metadata": {
    "nbgrader": {
     "grade": true,
     "grade_id": "cell-dfb685c7dbf4618a",
     "locked": false,
     "points": 4,
     "schema_version": 3,
     "solution": true,
     "task": false
    }
   },
   "outputs": [
    {
     "name": "stdout",
     "output_type": "stream",
     "text": [
      "2\n",
      "[1, 0, 2, 6, 4, 3, 5]\n",
      "0\n",
      "[1]\n",
      "6\n",
      "[0, 1, 2, 3, 4, 5, 6]\n"
     ]
    }
   ],
   "source": [
    "# given case\n",
    "data = [1, 5, 0, 6, 4, 3, 2]\n",
    "print(partition(data, 0, 6))\n",
    "print(data)\n",
    "\n",
    "# edge case\n",
    "data = [1]\n",
    "print(partition(data, 0, 0))\n",
    "print(data)\n",
    "\n",
    "# already sorted\n",
    "data = list(range(7))\n",
    "print(partition(data, 0, 6))\n",
    "print(data)\n",
    "\n",
    "# 4 marks\n",
    "# for full marks, tests should include at least one edge case"
   ]
  },
  {
   "cell_type": "markdown",
   "id": "senior-humanitarian",
   "metadata": {
    "nbgrader": {
     "grade": false,
     "grade_id": "cell-2aea74bc520d155c",
     "locked": true,
     "schema_version": 3,
     "solution": false,
     "task": false
    }
   },
   "source": [
    "(b) How many comparisons of elements were carried out during the execution of the command\n",
    "```python\n",
    "partition(data, 0, 6)\n",
    "```\n",
    "Explain your answer briefly. (Hint: the function contains only one loop: how many iterations does it require?)"
   ]
  },
  {
   "cell_type": "markdown",
   "id": "knowing-madonna",
   "metadata": {
    "nbgrader": {
     "grade": true,
     "grade_id": "cell-ede246d9b5e686eb",
     "locked": false,
     "points": 3,
     "schema_version": 3,
     "solution": true,
     "task": false
    }
   },
   "source": [
    "The loop compares each element with the last, which requires 6 comparisons, as there are 7 elements.\n",
    "\n",
    "<b>3 marks\n",
    "\n",
    "Accept any valid explanation; reward clear understanding, but don't penalise incorrect English.</b>"
   ]
  },
  {
   "cell_type": "markdown",
   "id": "sixth-receipt",
   "metadata": {
    "nbgrader": {
     "grade": false,
     "grade_id": "cell-93c088488e14ceef",
     "locked": true,
     "schema_version": 3,
     "solution": false,
     "task": false
    }
   },
   "source": [
    "(c) How many comparisons of elements are necessary in order to partition all the elements of a list of length $n$? Explain your answer briefly."
   ]
  },
  {
   "cell_type": "markdown",
   "id": "desirable-syracuse",
   "metadata": {
    "nbgrader": {
     "grade": true,
     "grade_id": "cell-7ab1cf5865a7ea1f",
     "locked": false,
     "points": 3,
     "schema_version": 3,
     "solution": true,
     "task": false
    }
   },
   "source": [
    "The loop compares each element with the last, which requires $n-1$ comparisons, as there are $n$ elements.\n",
    "\n",
    "<b>3 marks\n",
    "\n",
    "Accept any valid explanation; reward clear understanding, but don't penalise incorrect English.</b>"
   ]
  },
  {
   "cell_type": "markdown",
   "id": "cross-lindsay",
   "metadata": {
    "nbgrader": {
     "grade": false,
     "grade_id": "cell-e444917f64dc6e95",
     "locked": true,
     "schema_version": 3,
     "solution": false,
     "task": false
    }
   },
   "source": [
    "(d) Amend the code for `partition`, introducing a global variable called `comparison_count`, which should be incremented by 1 every time one data item is compared with another. "
   ]
  },
  {
   "cell_type": "code",
   "execution_count": 19,
   "id": "disabled-tonight",
   "metadata": {
    "nbgrader": {
     "grade": true,
     "grade_id": "cell-96cfbbedb16d2b3c",
     "locked": false,
     "points": 4,
     "schema_version": 3,
     "solution": true,
     "task": false
    }
   },
   "outputs": [],
   "source": [
    "def partition(data, indexlo, indexhi):\n",
    "    \"\"\"Partitions data between indexlo and indexhi into sublists. \n",
    "    treating data[indexhi] as the pivot\"\"\"\n",
    "    \n",
    "    # global variable comparison count\n",
    "    global comparison_count\n",
    "    \n",
    "    # designate the pivot\n",
    "    pivot = data[indexhi]\n",
    "    \n",
    "    # initialize i\n",
    "    i = indexlo\n",
    "    \n",
    "    # loop over j, from indexlo to (indexhi-1)\n",
    "    for j in range(indexlo, indexhi):\n",
    "        # compare current data item with pivot\n",
    "        # incrementing comparison count\n",
    "        comparison_count += 1\n",
    "        if data[j] < pivot:\n",
    "            # swap data items i and j, and increment i\n",
    "            data[i], data[j] = data[j], data[i]\n",
    "            i += 1\n",
    "    \n",
    "    # swap data item i with pivot\n",
    "    data[i], data[indexhi] = data[indexhi], data[i]\n",
    "    return i\n",
    "\n",
    "# 4 marks\n",
    "# accept any valid code"
   ]
  },
  {
   "cell_type": "markdown",
   "id": "nearby-venue",
   "metadata": {
    "nbgrader": {
     "grade": false,
     "grade_id": "cell-bf42354e319659f4",
     "locked": true,
     "schema_version": 3,
     "solution": false,
     "task": false
    }
   },
   "source": [
    "(e) Test your code from part (d) against your answers to parts (b) and (c)."
   ]
  },
  {
   "cell_type": "code",
   "execution_count": 21,
   "id": "threaded-compensation",
   "metadata": {
    "nbgrader": {
     "grade": true,
     "grade_id": "cell-2ad333a53e696b5b",
     "locked": false,
     "points": 4,
     "schema_version": 3,
     "solution": true,
     "task": false
    }
   },
   "outputs": [
    {
     "name": "stdout",
     "output_type": "stream",
     "text": [
      "[1, 0, 2, 6, 4, 3, 5]\n",
      "6\n",
      "[1]\n",
      "0\n",
      "[0, 1, 2, 3, 4, 5, 6, 7, 8, 9, 10, 11]\n",
      "11\n"
     ]
    }
   ],
   "source": [
    "# given case\n",
    "data = [1, 5, 0, 6, 4, 3, 2]\n",
    "comparison_count = 0\n",
    "partition(data, 0, 6)\n",
    "print(data)\n",
    "print(comparison_count)\n",
    "\n",
    "# edge case\n",
    "data = [1]\n",
    "comparison_count = 0\n",
    "partition(data, 0, 0)\n",
    "print(data)\n",
    "print(comparison_count)\n",
    "\n",
    "# already sorted\n",
    "data = list(range(12))\n",
    "comparison_count = 0\n",
    "partition(data, 0, 11)\n",
    "print(data)\n",
    "print(comparison_count)\n",
    "\n",
    "# 4 marks \n",
    "# testing should include at least one edge case, and lists of at least two lengths"
   ]
  },
  {
   "cell_type": "markdown",
   "id": "suspected-tribute",
   "metadata": {},
   "source": [
    "### (ii)\n",
    "\n",
    "A sorting function we'll call `partition_sort` (though that may not be its real name) proceeds as follows.\n",
    "\n",
    "It takes as its arguments a list `data`, assumed to be numerical, and two values `indexlo` and `indexhi`, assumed to be non-negative.\n",
    "\n",
    "This function only does anything if `indexlo < indexhi`; otherwise it does nothing at all.\n",
    "\n",
    "If `indexlo < indexhi`, it runs \n",
    "```python\n",
    "p = partition(data, indexlo, indexhi)\n",
    "```\n",
    "\n",
    "Then it calls itself <b>recursively</b>, running\n",
    "```python\n",
    "partition_sort(data, indexlo, p-1)\n",
    "partition_sort(data, p+1, indexhi)\n",
    "```\n",
    "\n",
    "This function should not return a value.\n",
    "\n",
    "(a) Write an implementation of the function `partition_sort`."
   ]
  },
  {
   "cell_type": "code",
   "execution_count": 22,
   "id": "still-madison",
   "metadata": {
    "nbgrader": {
     "grade": true,
     "grade_id": "cell-1ad2df73cd2e0c37",
     "locked": false,
     "points": 6,
     "schema_version": 3,
     "solution": true,
     "task": false
    }
   },
   "outputs": [],
   "source": [
    "def partition_sort(data, indexlo, indexhi):\n",
    "    \"Sorts data in place using partition\"\n",
    "    \n",
    "    # base case: do nothing\n",
    "    \n",
    "    # recursion step\n",
    "    if indexlo < indexhi:\n",
    "        # partition data\n",
    "        p = partition(data, indexlo, indexhi)\n",
    "        # sort left half, recursively\n",
    "        partition_sort(data, indexlo, p-1)\n",
    "        # sort right half, recursively\n",
    "        partition_sort(data, p+1, indexhi)\n",
    "\n",
    "# 6 marks\n",
    "# 5 for correct function, 1 for docstring and comments"
   ]
  },
  {
   "cell_type": "markdown",
   "id": "foster-township",
   "metadata": {
    "nbgrader": {
     "grade": false,
     "grade_id": "cell-b08d074b0c746621",
     "locked": true,
     "schema_version": 3,
     "solution": false,
     "task": false
    }
   },
   "source": [
    "(b) Test your function: running\n",
    "```\n",
    "data = [1, 5, 0, 6, 4, 3, 2]\n",
    "partition_sort(data, 0, 6)\n",
    "```\n",
    "should sort `data` in place, making it equal to `[0, 1, 2, 3, 4, 5, 6]`.\n",
    "\n",
    "Run some further tests of your own."
   ]
  },
  {
   "cell_type": "code",
   "execution_count": 26,
   "id": "wanted-fundamental",
   "metadata": {
    "nbgrader": {
     "grade": true,
     "grade_id": "cell-7e976cb9b0bd9a14",
     "locked": false,
     "points": 4,
     "schema_version": 3,
     "solution": true,
     "task": false
    }
   },
   "outputs": [
    {
     "name": "stdout",
     "output_type": "stream",
     "text": [
      "[0, 1, 2, 3, 4, 5, 6]\n",
      "[1]\n",
      "[0, 1, 2, 3, 4, 5, 6, 7, 8, 9, 10, 11]\n"
     ]
    }
   ],
   "source": [
    "# given case\n",
    "comparison_count = 0\n",
    "data = [1, 5, 0, 6, 4, 3, 2]\n",
    "partition_sort(data, 0, 6)\n",
    "print(data)\n",
    "\n",
    "# edge case\n",
    "comparison_count = 0\n",
    "data = [1]\n",
    "partition_sort(data, 0, 0)\n",
    "print(data)\n",
    "\n",
    "# already sorted\n",
    "comparison_count = 0\n",
    "data = list(range(12))\n",
    "partition_sort(data, 0, 11)\n",
    "print(data)\n",
    "\n",
    "# 4 marks\n",
    "# not necessary to set comparison count to zero each time\n",
    "# tests should include one edge case"
   ]
  },
  {
   "cell_type": "markdown",
   "id": "devoted-biotechnology",
   "metadata": {
    "nbgrader": {
     "grade": false,
     "grade_id": "cell-22094c65449012e2",
     "locked": true,
     "schema_version": 3,
     "solution": false,
     "task": false
    }
   },
   "source": [
    "(c) Using your `comparison_count` variable, or otherwise, find how many comparisons are necessary in order to sort, completely, the data \n",
    "```python\n",
    "data = [1, 5, 0, 6, 4, 3, 2]\n",
    "```"
   ]
  },
  {
   "cell_type": "code",
   "execution_count": 27,
   "id": "disturbed-challenge",
   "metadata": {
    "nbgrader": {
     "grade": true,
     "grade_id": "cell-0b7ecb1768a0b4f5",
     "locked": false,
     "points": 3,
     "schema_version": 3,
     "solution": true,
     "task": false
    }
   },
   "outputs": [
    {
     "name": "stdout",
     "output_type": "stream",
     "text": [
      "11\n"
     ]
    }
   ],
   "source": [
    "comparison_count = 0\n",
    "data = [1, 5, 0, 6, 4, 3, 2]\n",
    "partition_sort(data, 0, 6)\n",
    "print(comparison_count)\n",
    "\n",
    "# 3 marks\n",
    "# accept any valid argument in the absence of working code\n",
    "# accept any valid code"
   ]
  },
  {
   "cell_type": "markdown",
   "id": "chemical-remainder",
   "metadata": {
    "nbgrader": {
     "grade": false,
     "grade_id": "cell-0133fecefde73290",
     "locked": true,
     "schema_version": 3,
     "solution": false,
     "task": false
    }
   },
   "source": [
    "(d) The `partition` function takes a data list of length $n$, and partitions it into sublists of length $p$ and $n-p-1$, where $p$ is the index of the pivot--that is, the number returned by the function. In `partition_sort`, these smaller sublists are then partitioned, and so on recursively.\n",
    "\n",
    "Suppose you are sorting a data list of length $7$. Explain why one possible \"worst case\" corresponds to the data being already sorted, and state, with reasons, how many comparisons this involves."
   ]
  },
  {
   "cell_type": "markdown",
   "id": "serial-buffer",
   "metadata": {
    "nbgrader": {
     "grade": true,
     "grade_id": "cell-8aed49855d6d4946",
     "locked": false,
     "points": 6,
     "schema_version": 3,
     "solution": true,
     "task": false
    }
   },
   "source": [
    "In sorting an already-sorted list of length 7, the first pivot is the final element. This requires 6 comparisons, and partitions into lists of length 6 and 0, the second of which requires no sorting.\n",
    "\n",
    "The next pivot is the penultimate element, and the sublist of length 6 gives rise to sublists of length 5 and 0, requiring 5 comparisons.\n",
    "\n",
    "And so on, requiring 4, 3, 2 and 1 comparison, for a total of 21.\n",
    "\n",
    "<b>6 marks\n",
    "\n",
    "Use your judgement here; reward clear understanding.</b>"
   ]
  },
  {
   "cell_type": "markdown",
   "id": "italian-chance",
   "metadata": {
    "nbgrader": {
     "grade": false,
     "grade_id": "cell-3823998bdfd923a0",
     "locked": true,
     "schema_version": 3,
     "solution": false,
     "task": false
    }
   },
   "source": [
    "(e) Illustrate your answer to part (d) using `comparison_count`."
   ]
  },
  {
   "cell_type": "code",
   "execution_count": 28,
   "id": "temporal-titanium",
   "metadata": {
    "nbgrader": {
     "grade": true,
     "grade_id": "cell-0afb109c0f24a68d",
     "locked": false,
     "points": 3,
     "schema_version": 3,
     "solution": true,
     "task": false
    }
   },
   "outputs": [
    {
     "name": "stdout",
     "output_type": "stream",
     "text": [
      "21\n"
     ]
    }
   ],
   "source": [
    "comparison_count = 0\n",
    "data = list(range(7))\n",
    "partition_sort(data, 0, 6)\n",
    "print(comparison_count)\n",
    "\n",
    "# 3 marks"
   ]
  },
  {
   "cell_type": "markdown",
   "id": "statistical-diameter",
   "metadata": {
    "nbgrader": {
     "grade": false,
     "grade_id": "cell-489f114256587210",
     "locked": true,
     "schema_version": 3,
     "solution": false,
     "task": false
    }
   },
   "source": [
    "(f) In the worst case, how many comparisons are necessary to sort a list of length $n$ using `partition_sort`? Briefly explain."
   ]
  },
  {
   "cell_type": "markdown",
   "id": "elementary-shanghai",
   "metadata": {
    "nbgrader": {
     "grade": true,
     "grade_id": "cell-ca408be1d329c633",
     "locked": false,
     "points": 7,
     "schema_version": 3,
     "solution": true,
     "task": false
    }
   },
   "source": [
    "In sorting an already-sorted list of length $n$, the first pivot is the final element. This requires $n-1$ comparisons, and partitions into lists of length $n-1$ and 0, the second of which requires no sorting.\n",
    "\n",
    "The next pivot is the penultimate element, and the sublist of length $n-1$ gives rise to sublists of length $n-2$ and 0, requiring $n-2$ comparisons.\n",
    "\n",
    "And so on, requiring $n-3$, $n-4$, $\\dots$ comparisons, for a total of $n(n-1)/2$.\n",
    "\n",
    "<b>7 marks\n",
    "\n",
    "Use your judgement here; reward clear understanding.</b>"
   ]
  },
  {
   "cell_type": "markdown",
   "id": "reflected-contract",
   "metadata": {
    "nbgrader": {
     "grade": false,
     "grade_id": "cell-04c1aa0404d2d139",
     "locked": true,
     "schema_version": 3,
     "solution": false,
     "task": false
    }
   },
   "source": [
    "### (iii)\n",
    "<em>The questions in this final section are designed to be more challenging.</em>\n",
    "\n",
    "(a) Explain why in the best case, <em>ten</em> comparisons are necessary in order to sort a list of length 7."
   ]
  },
  {
   "cell_type": "markdown",
   "id": "coupled-inquiry",
   "metadata": {
    "nbgrader": {
     "grade": true,
     "grade_id": "cell-53fe04efdff5b56e",
     "locked": false,
     "points": 5,
     "schema_version": 3,
     "solution": true,
     "task": false
    }
   },
   "source": [
    "The first pivot is the final element; partitioning requires 6 comparisons. In the best case, the pivot is placed right in the middle (that is, in position 3), creating two sublists of length 3.\n",
    "\n",
    "For each of those sublists, partitioning requires 2 comparisons, making 10 in all. In the best case, each pivot is placed in the middle, creating sublists of length 1, following which no further comparisons are required.\n",
    "\n",
    "<b>5 marks\n",
    "\n",
    "Use your judgement here.</b>"
   ]
  },
  {
   "cell_type": "markdown",
   "id": "complete-shift",
   "metadata": {
    "nbgrader": {
     "grade": false,
     "grade_id": "cell-a495965005c72795",
     "locked": true,
     "schema_version": 3,
     "solution": false,
     "task": false
    }
   },
   "source": [
    "(b) Give an example of a list of length 7 that constitutes a best case, and demonstrate that it requires ten comparisons."
   ]
  },
  {
   "cell_type": "code",
   "execution_count": 43,
   "id": "hollow-group",
   "metadata": {
    "nbgrader": {
     "grade": true,
     "grade_id": "cell-0eb5dafd8ede9c4e",
     "locked": false,
     "points": 6,
     "schema_version": 3,
     "solution": true,
     "task": false
    }
   },
   "outputs": [
    {
     "name": "stdout",
     "output_type": "stream",
     "text": [
      "[0, 1, 2, 3, 4, 5, 6]\n",
      "10\n"
     ]
    }
   ],
   "source": [
    "data = [0,2,1,5,4,6,3]\n",
    "comparison_count = 0\n",
    "partition_sort(data, 0, 6)\n",
    "print(data)\n",
    "print(comparison_count)\n",
    "\n",
    "# 6 marks\n",
    "# accept any valid example"
   ]
  },
  {
   "cell_type": "markdown",
   "id": "referenced-domestic",
   "metadata": {},
   "source": [
    "(c) In the best case, how many comparisons are necessary to sort a list of length $n=2^m-1$ using `partition_sort`? Briefly explain."
   ]
  },
  {
   "cell_type": "markdown",
   "id": "furnished-utility",
   "metadata": {
    "nbgrader": {
     "grade": true,
     "grade_id": "cell-87d48cfec5df45f0",
     "locked": false,
     "points": 7,
     "schema_version": 3,
     "solution": true,
     "task": false
    }
   },
   "source": [
    "In the best case, the first partition, which requires $2^m-2$ comparisons, creates two sublists of length $2^{m-1}-1$.\n",
    "\n",
    "Each of these is partitioned, a process requiring $2\\,(2^{m-1}-2)$ comparisons, and creating four sublists of length $2^{m-2}-1$.\n",
    "\n",
    "Each of these is partitioned, which requires $2^2\\,(2^{m-2}-2)$ comparisons: and so on, until $2^{m-2}\\,(2^2-2)$ comparisons are used to partition all the sublists of length 3.\n",
    "\n",
    "This makes a total of \n",
    "\n",
    "$$2^0\\,(2^m-2) + 2^1\\,(2^{m-1}-2)+2^2\\,(2^{m-2}-2) + \\dots + 2^{m-2}\\,(2^2-2),$$\n",
    "\n",
    "which comes to \n",
    "\n",
    "$$(m-1)\\,2^m - 2\\,\\frac{2^{m-1}-1}{2-1}= (m-2)\\,2^m+2.$$\n",
    "\n",
    "<b>7 marks\n",
    "    \n",
    "Use your judgement; accept anything equivalent.</b>"
   ]
  },
  {
   "cell_type": "code",
   "execution_count": null,
   "id": "stable-spray",
   "metadata": {},
   "outputs": [],
   "source": []
  }
 ],
 "metadata": {
  "celltoolbar": "Create Assignment",
  "kernelspec": {
   "display_name": "Python 3",
   "language": "python",
   "name": "python3"
  },
  "language_info": {
   "codemirror_mode": {
    "name": "ipython",
    "version": 3
   },
   "file_extension": ".py",
   "mimetype": "text/x-python",
   "name": "python",
   "nbconvert_exporter": "python",
   "pygments_lexer": "ipython3",
   "version": "3.8.8"
  }
 },
 "nbformat": 4,
 "nbformat_minor": 5
}
