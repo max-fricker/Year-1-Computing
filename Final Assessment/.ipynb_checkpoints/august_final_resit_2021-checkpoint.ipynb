{
 "cells": [
  {
   "cell_type": "code",
   "execution_count": 1,
   "id": "dying-formula",
   "metadata": {},
   "outputs": [],
   "source": [
    "import numpy as np\n",
    "import matplotlib.pyplot as plt\n",
    "%matplotlib inline"
   ]
  },
  {
   "cell_type": "markdown",
   "id": "european-piece",
   "metadata": {
    "deletable": false,
    "editable": false,
    "nbgrader": {
     "cell_type": "markdown",
     "checksum": "27c86f99eb4c5bc655cbd26420ba4d48",
     "grade": false,
     "grade_id": "cell-72ba6fa8ce9a6565",
     "locked": true,
     "schema_version": 3,
     "solution": false,
     "task": false
    }
   },
   "source": [
    "# M40006 In-Course Assessment Resit\n",
    "\n",
    "# 31 August 2021, 9-11 am\n",
    "\n",
    "## Two Hours\n",
    "\n",
    "### Answer all questions, submitting your answers as a single Jupyter notebook."
   ]
  },
  {
   "cell_type": "markdown",
   "id": "induced-valentine",
   "metadata": {
    "deletable": false,
    "editable": false,
    "nbgrader": {
     "cell_type": "markdown",
     "checksum": "72fb6285ec0c1e6f9a2d4a0240064190",
     "grade": false,
     "grade_id": "cell-60da896f2c6ac854",
     "locked": true,
     "schema_version": 3,
     "solution": false,
     "task": false
    }
   },
   "source": [
    "This test is on <b>graphs</b>: that is to say, networks. A graph consists of <b>vertices</b>, represented by the integers $0, 1, 2, \\dots, n-1$, joined by <b>edges</b>. Associated with each edge is a real number value, which we'll think of as representing a <b>length</b>. (Typically, when we draw a diagram of a graph, the physical lengths <em>won't</em> be to scale.)\n",
    "\n",
    "We'll use <b>lists of 3-tuples</b> as one way of representing graphs. Each tuple represents an edge. A tuple contains a float and two ints; the float represents the length of the edge, and the two ints represent the vertices that the edge joins. \n",
    "\n",
    "Here are lists of edges representing a couple of graphs, one very simple, and one less simple, which we'll call $G_1$ and $G_2$ respectively."
   ]
  },
  {
   "cell_type": "code",
   "execution_count": 2,
   "id": "sacred-strength",
   "metadata": {
    "deletable": false,
    "editable": false,
    "nbgrader": {
     "cell_type": "code",
     "checksum": "26bc3074f2eda043fcc31dc40c714405",
     "grade": false,
     "grade_id": "cell-4cbdaffcdbfc2618",
     "locked": true,
     "schema_version": 3,
     "solution": false,
     "task": false
    }
   },
   "outputs": [],
   "source": [
    "graph1EdgeList = [(3.0, 0, 1), (2.0, 0, 3), (1.0, 1, 2), (5.0, 1, 3), (4.0, 2, 3)]\n",
    "graph2EdgeList = [(4.0, 0, 1), (8.0, 0, 7), (8.0, 1, 2), (11.0, 1, 7), (7.0, 2, 3), \n",
    "                  (4.0, 2, 5), (2.0, 2, 8), (9.0, 3, 4), (14.0, 3, 5), (10.0, 4, 5), \n",
    "                  (2.0, 5, 6), (1.0, 6, 7), (6.0, 6, 8), (7.0, 7, 8)]"
   ]
  },
  {
   "cell_type": "markdown",
   "id": "wound-attitude",
   "metadata": {
    "deletable": false,
    "editable": false,
    "nbgrader": {
     "cell_type": "markdown",
     "checksum": "e904a2fb33632569759bde7e7e6c008f",
     "grade": false,
     "grade_id": "cell-165daea9d3dea9e6",
     "locked": true,
     "schema_version": 3,
     "solution": false,
     "task": false
    }
   },
   "source": [
    "# Question 1 (25 marks)\n",
    "The following function takes as its inputs a graph in the form of a list of edges, and the positions of the vertices as a numpy array of coordinate pairs, and generates a visual representation of the graph; the physical lengths of the edges are not to scale, but each edge carries a label that tells you its length."
   ]
  },
  {
   "cell_type": "code",
   "execution_count": 3,
   "id": "pressing-death",
   "metadata": {
    "deletable": false,
    "editable": false,
    "nbgrader": {
     "cell_type": "code",
     "checksum": "d929c1b7b059df22dbc64319503fcf67",
     "grade": false,
     "grade_id": "cell-c74b3154173915c8",
     "locked": true,
     "schema_version": 3,
     "solution": false,
     "task": false
    }
   },
   "outputs": [],
   "source": [
    "def graphPlot(edgeList, pts):\n",
    "    \"\"\"\n",
    "    Generates a visual representation of the graph represented by edgeList, placing\n",
    "    the vertices at the coordinates represented by pts\"\"\"\n",
    "    \n",
    "    # plot the edges in yellow, labelling each with its length in black\n",
    "    for edge in edgeList:\n",
    "        plt.plot([pts[edge[1]][0],pts[edge[2]][0]],[pts[edge[1]][1],pts[edge[2]][1]],'y')\n",
    "        plt.text(0.5*(pts[edge[1]][0]+pts[edge[2]][0]),0.5*(pts[edge[1]][1]+pts[edge[2]][1]),\n",
    "             str(edge[0]),fontsize=14,ha='center',va='center')\n",
    "    \n",
    "    # plot the vertices in blue\n",
    "    plt.plot(pts[:,0],pts[:,1],'ob',markersize=20)\n",
    "    \n",
    "    # label the vertices in white\n",
    "    for i in range(len(pts)):\n",
    "        plt.text(pts[i][0],pts[i][1],str(i),color='w',fontsize=14,ha='center',va='center')"
   ]
  },
  {
   "cell_type": "markdown",
   "id": "complete-following",
   "metadata": {
    "deletable": false,
    "editable": false,
    "nbgrader": {
     "cell_type": "markdown",
     "checksum": "fe5c73edb6c7fa9a72d517f528482524",
     "grade": false,
     "grade_id": "cell-d6eac997e8237eb8",
     "locked": true,
     "schema_version": 3,
     "solution": false,
     "task": false
    }
   },
   "source": [
    "(a) Test the `graphPlot` function on `graph1EdgeList`, using the vertex coordinates\n",
    "```python\n",
    "pts1 = np.array([[0,0],[0,1],[1,1],[1,0]])\n",
    "```"
   ]
  },
  {
   "cell_type": "code",
   "execution_count": null,
   "id": "demanding-shell",
   "metadata": {
    "deletable": false,
    "nbgrader": {
     "cell_type": "code",
     "checksum": "4e82ef1b6f02741d4c1e0599dd0f7129",
     "grade": true,
     "grade_id": "cell-44e6aeb9f5725aa2",
     "locked": false,
     "points": 2,
     "schema_version": 3,
     "solution": true,
     "task": false
    }
   },
   "outputs": [],
   "source": [
    "pts1 = np.array([[0,0],[0,1],[1,1],[1,0]])\n",
    "\n"
   ]
  },
  {
   "cell_type": "markdown",
   "id": "maritime-holiday",
   "metadata": {
    "deletable": false,
    "editable": false,
    "nbgrader": {
     "cell_type": "markdown",
     "checksum": "d4253251d70d1d92c80605365931f043",
     "grade": false,
     "grade_id": "cell-c9677421e567bfa3",
     "locked": true,
     "schema_version": 3,
     "solution": false,
     "task": false
    }
   },
   "source": [
    "(b) Test the `graphPlot` function on `graph2EdgeList`, using the vertex coordinates\n",
    "```python\n",
    "pts2 = np.array([[0,0],[1,1],[2,1],[3,1],[4,0],[3,-1],[2,-1],[1,-1],[2,0]])\n",
    "```"
   ]
  },
  {
   "cell_type": "code",
   "execution_count": null,
   "id": "static-asset",
   "metadata": {
    "deletable": false,
    "nbgrader": {
     "cell_type": "code",
     "checksum": "5cc8a9e25118af001d5f878178820650",
     "grade": true,
     "grade_id": "cell-ad17ce24195b5504",
     "locked": false,
     "points": 2,
     "schema_version": 3,
     "solution": true,
     "task": false
    }
   },
   "outputs": [],
   "source": [
    "# YOUR CODE HERE\n",
    "raise NotImplementedError()"
   ]
  },
  {
   "cell_type": "markdown",
   "id": "synthetic-sharing",
   "metadata": {
    "deletable": false,
    "editable": false,
    "nbgrader": {
     "cell_type": "markdown",
     "checksum": "dd23c7907b4fde5fdcdba9bd5ddced9d",
     "grade": false,
     "grade_id": "cell-ea7b68ca9ab391d2",
     "locked": true,
     "schema_version": 3,
     "solution": false,
     "task": false
    }
   },
   "source": [
    "(c) Amend the code listing for `graphPlot` so that it takes the additional optional keyword argument `sublist`. By default, `sublist` should be an empty list. \n",
    "\n",
    "In general, `sublist` should be treated as a list of 3-tuples; every element of `sublist` can be assumed to belong to `edgeList`; `sublist` therefore specifies a <b>subgraph</b> of the main graph, to be shown in a distinct colour.\n",
    "\n",
    "The new `graphPlot` function should, after it has drawn the main edges in yellow but before drawing the vertices, redraw those edges specified by `sublist` in red. \n",
    "\n",
    "The image in the file `august_resit_figure1.png`, which has been mailed to you, shows the sort of output required."
   ]
  },
  {
   "cell_type": "code",
   "execution_count": null,
   "id": "innocent-accent",
   "metadata": {
    "deletable": false,
    "nbgrader": {
     "cell_type": "code",
     "checksum": "8ee28fb7136fc6fd4a2b30c73f8efcc9",
     "grade": true,
     "grade_id": "cell-f7309a74a3361479",
     "locked": false,
     "points": 7,
     "schema_version": 3,
     "solution": true,
     "task": false
    }
   },
   "outputs": [],
   "source": [
    "# YOUR CODE HERE\n",
    "raise NotImplementedError()"
   ]
  },
  {
   "cell_type": "markdown",
   "id": "entitled-meter",
   "metadata": {
    "deletable": false,
    "editable": false,
    "nbgrader": {
     "cell_type": "markdown",
     "checksum": "ac95cd8df111f2bc0eaf5fe0418ed354",
     "grade": false,
     "grade_id": "cell-582a84ed6826a0c2",
     "locked": true,
     "schema_version": 3,
     "solution": false,
     "task": false
    }
   },
   "source": [
    "(d) Test the new version of `graphPlot` on `graph1Edgelist`, using the sublist\n",
    "```python\n",
    "sublist1 = [(1.0,1,2),(4.0,2,3),(5.0,3,1)]\n",
    "```\n",
    "\n",
    "Your output should look something like the image in the file `august_resit_figure1.png`."
   ]
  },
  {
   "cell_type": "code",
   "execution_count": null,
   "id": "suspended-classics",
   "metadata": {
    "deletable": false,
    "nbgrader": {
     "cell_type": "code",
     "checksum": "bb54e8f85db7e4fb71af667a4aeafa91",
     "grade": true,
     "grade_id": "cell-fcf31505e4287531",
     "locked": false,
     "points": 2,
     "schema_version": 3,
     "solution": true,
     "task": false
    }
   },
   "outputs": [],
   "source": [
    "# YOUR CODE HERE\n",
    "raise NotImplementedError()"
   ]
  },
  {
   "cell_type": "markdown",
   "id": "distributed-worst",
   "metadata": {
    "deletable": false,
    "editable": false,
    "nbgrader": {
     "cell_type": "markdown",
     "checksum": "4091eecd4d5b5a8a637dd7fc06e14306",
     "grade": false,
     "grade_id": "cell-f5af939e69b7443d",
     "locked": true,
     "schema_version": 3,
     "solution": false,
     "task": false
    }
   },
   "source": [
    "(e) A <b>cycle</b> is a graph consisting of distinct edges that form a closed loop; the subgraph represented by `sublist1`, which you plotted in part (d), is a cycle.\n",
    "\n",
    "Find, by inspection, a subgraph of $G_2$ that is a cycle, and use `graphPlot` to plot it."
   ]
  },
  {
   "cell_type": "code",
   "execution_count": null,
   "id": "imported-medicare",
   "metadata": {
    "deletable": false,
    "nbgrader": {
     "cell_type": "code",
     "checksum": "d3b6e602d77e86c73de0421985b7f370",
     "grade": true,
     "grade_id": "cell-af5efe23c6a6a3ac",
     "locked": false,
     "points": 5,
     "schema_version": 3,
     "solution": true,
     "task": false
    }
   },
   "outputs": [],
   "source": [
    "# YOUR CODE HERE\n",
    "raise NotImplementedError()"
   ]
  },
  {
   "cell_type": "markdown",
   "id": "modular-processing",
   "metadata": {
    "deletable": false,
    "editable": false,
    "nbgrader": {
     "cell_type": "markdown",
     "checksum": "34a6f40f52a2968414281b7b5056148b",
     "grade": false,
     "grade_id": "cell-98b7064a564feb71",
     "locked": true,
     "schema_version": 3,
     "solution": false,
     "task": false
    }
   },
   "source": [
    "(f) A <b>tree</b> is a graph none of whose subgraphs are cycles; that is, a graph containing no paths that form closed loops. Given a connected graph $G$, a <b>spanning tree</b> is a subgraph that is a tree and that contains all the vertices of $G$. \n",
    "\n",
    "Find, by inspection, a spanning tree for $G_2$, and use `graphPlot` to plot it."
   ]
  },
  {
   "cell_type": "code",
   "execution_count": null,
   "id": "oriented-technique",
   "metadata": {
    "deletable": false,
    "nbgrader": {
     "cell_type": "code",
     "checksum": "4751799caeaa7208bb3ba374068674e7",
     "grade": true,
     "grade_id": "cell-902ba4e3b7f652fd",
     "locked": false,
     "points": 7,
     "schema_version": 3,
     "solution": true,
     "task": false
    }
   },
   "outputs": [],
   "source": [
    "# YOUR CODE HERE\n",
    "raise NotImplementedError()"
   ]
  },
  {
   "cell_type": "markdown",
   "id": "immune-prophet",
   "metadata": {
    "deletable": false,
    "editable": false,
    "nbgrader": {
     "cell_type": "markdown",
     "checksum": "f28e20ecd52e06bc1ee6b360480f0f66",
     "grade": false,
     "grade_id": "cell-9c02bb366dc3e6a2",
     "locked": true,
     "schema_version": 3,
     "solution": false,
     "task": false
    }
   },
   "source": [
    "# Question 2 (25 marks)\n",
    "\n",
    "A list of edges is only one way to represent a graph; another way is to use a <b>symmetric matrix</b>. For a graph $G$ with $n$ vertices, we can use an $n\\times n$ square symmetric matrix ${\\bf M}$. If $G$ contains an edge between vertex $i$ and vertex $j$, with length $l$, then the entries ${\\bf M}_{ij}$ and ${\\bf M}_{ji}$ are both set equal to $l$.\n",
    "\n",
    "What if there is no edge between vertex $i$ and vertex $j$? Different conventions for the other entries exist; we'll use the one according to which if there's no edge between vertex $i$ and vertex $j$, the values of ${\\bf M}_{ij}$ and ${\\bf M}_{ji}$ are set to $\\infty$.\n",
    "\n",
    "So the matrix that represents $G_1$ is"
   ]
  },
  {
   "cell_type": "code",
   "execution_count": null,
   "id": "union-crash",
   "metadata": {
    "deletable": false,
    "editable": false,
    "nbgrader": {
     "cell_type": "code",
     "checksum": "a138e365a281ae7779fe223052d6ce79",
     "grade": false,
     "grade_id": "cell-baa92f5c8b9c8b52",
     "locked": true,
     "schema_version": 3,
     "solution": false,
     "task": false
    }
   },
   "outputs": [],
   "source": [
    "graph1Matrix = np.array(\n",
    "    [[np.inf, 3.0,    np.inf, 2.0   ],\n",
    "     [3.0,    np.inf, 1.0,    5.0   ],\n",
    "     [np.inf, 1.0,    np.inf, 4.0   ],\n",
    "     [2.0,    5.0,    4.0,    np.inf]]\n",
    ")"
   ]
  },
  {
   "cell_type": "markdown",
   "id": "expressed-overhead",
   "metadata": {
    "deletable": false,
    "editable": false,
    "nbgrader": {
     "cell_type": "markdown",
     "checksum": "1e714a16bf18c20756a58b9650492c18",
     "grade": false,
     "grade_id": "cell-fe1afbc34f1b3f1c",
     "locked": true,
     "schema_version": 3,
     "solution": false,
     "task": false
    }
   },
   "source": [
    "The following function, `vertices`, takes as its argument a graph in the form of a list of edges, and returns a set containing its vertices, $0, 1, 2, \\dots, n-1$."
   ]
  },
  {
   "cell_type": "code",
   "execution_count": null,
   "id": "colonial-facing",
   "metadata": {
    "deletable": false,
    "editable": false,
    "nbgrader": {
     "cell_type": "code",
     "checksum": "61355015734a74b781f2c71b297cac96",
     "grade": false,
     "grade_id": "cell-e6d9c0e2ead1b354",
     "locked": true,
     "schema_version": 3,
     "solution": false,
     "task": false
    }
   },
   "outputs": [],
   "source": [
    "def vertices(edgeList):\n",
    "    \"Returns the set of vertices of a given graph\"\n",
    "    \n",
    "    # initialise\n",
    "    v = set([])\n",
    "    \n",
    "    # loop, adding vertices to the set\n",
    "    for edge in edgeList:\n",
    "        v = v.union({edge[1], edge[2]})\n",
    "        \n",
    "    return v "
   ]
  },
  {
   "cell_type": "markdown",
   "id": "accepting-mathematics",
   "metadata": {
    "deletable": false,
    "editable": false,
    "nbgrader": {
     "cell_type": "markdown",
     "checksum": "d3081067a8ceb02b982c0fe64f4c7206",
     "grade": false,
     "grade_id": "cell-dafa754d054a680e",
     "locked": true,
     "schema_version": 3,
     "solution": false,
     "task": false
    }
   },
   "source": [
    "(a) Test the `vertices` function on $G_1$ and $G_2$."
   ]
  },
  {
   "cell_type": "code",
   "execution_count": null,
   "id": "republican-rainbow",
   "metadata": {
    "deletable": false,
    "nbgrader": {
     "cell_type": "code",
     "checksum": "d2fae9fa534f59da0a9d701003cbacad",
     "grade": true,
     "grade_id": "cell-06fcee5d4896b4b9",
     "locked": false,
     "points": 3,
     "schema_version": 3,
     "solution": true,
     "task": false
    }
   },
   "outputs": [],
   "source": [
    "# YOUR CODE HERE\n",
    "raise NotImplementedError()"
   ]
  },
  {
   "cell_type": "markdown",
   "id": "infrared-crossing",
   "metadata": {
    "deletable": false,
    "editable": false,
    "nbgrader": {
     "cell_type": "markdown",
     "checksum": "8d3b3dce9feb2618842cbf48d6c7ecba",
     "grade": false,
     "grade_id": "cell-7e2bfc8b0206f993",
     "locked": true,
     "schema_version": 3,
     "solution": false,
     "task": false
    }
   },
   "source": [
    "(b) Write a function, `edgeListToMatrix`, that takes as its argument a graph in the form of a list of 3-tuples like those you've seen, and returns the corresponding square, symmetric matrix. You may find the `vertices` function helpful."
   ]
  },
  {
   "cell_type": "code",
   "execution_count": null,
   "id": "rubber-glory",
   "metadata": {
    "deletable": false,
    "nbgrader": {
     "cell_type": "code",
     "checksum": "4a57b555f2e685adb71fe784a6a4b142",
     "grade": true,
     "grade_id": "cell-5f509a0c575acda5",
     "locked": false,
     "points": 7,
     "schema_version": 3,
     "solution": true,
     "task": false
    }
   },
   "outputs": [],
   "source": [
    "# YOUR CODE HERE\n",
    "raise NotImplementedError()"
   ]
  },
  {
   "cell_type": "markdown",
   "id": "continuing-spirituality",
   "metadata": {
    "deletable": false,
    "editable": false,
    "nbgrader": {
     "cell_type": "markdown",
     "checksum": "4c53dd0d4fd6c7ee287169aad3b06b91",
     "grade": false,
     "grade_id": "cell-21c26fe3c5a77fa7",
     "locked": true,
     "schema_version": 3,
     "solution": false,
     "task": false
    }
   },
   "source": [
    "(c) Test your function on `graph1EdgeList`."
   ]
  },
  {
   "cell_type": "code",
   "execution_count": null,
   "id": "standing-print",
   "metadata": {
    "deletable": false,
    "nbgrader": {
     "cell_type": "code",
     "checksum": "1eda0be221fc20c299b36e9c88a72a61",
     "grade": true,
     "grade_id": "cell-ee1fb038e844fa27",
     "locked": false,
     "points": 2,
     "schema_version": 3,
     "solution": true,
     "task": false
    }
   },
   "outputs": [],
   "source": [
    "# YOUR CODE HERE\n",
    "raise NotImplementedError()"
   ]
  },
  {
   "cell_type": "markdown",
   "id": "southern-revision",
   "metadata": {
    "deletable": false,
    "editable": false,
    "nbgrader": {
     "cell_type": "markdown",
     "checksum": "bb5f26f66b8058c5f17d66a8c272718a",
     "grade": false,
     "grade_id": "cell-8a3cce35677e0a1f",
     "locked": true,
     "schema_version": 3,
     "solution": false,
     "task": false
    }
   },
   "source": [
    "(d) Using your function, or otherwise, find a matrix representation of $G_2$."
   ]
  },
  {
   "cell_type": "code",
   "execution_count": null,
   "id": "patent-algeria",
   "metadata": {
    "deletable": false,
    "nbgrader": {
     "cell_type": "code",
     "checksum": "7dc52804da2ae307e3f63c5aeac0db63",
     "grade": true,
     "grade_id": "cell-80a17c0404318fbb",
     "locked": false,
     "points": 2,
     "schema_version": 3,
     "solution": true,
     "task": false
    }
   },
   "outputs": [],
   "source": [
    "# YOUR CODE HERE\n",
    "raise NotImplementedError()"
   ]
  },
  {
   "cell_type": "markdown",
   "id": "eleven-liability",
   "metadata": {
    "deletable": false,
    "editable": false,
    "nbgrader": {
     "cell_type": "markdown",
     "checksum": "c33de4634ccea84b082c6da582f96d0d",
     "grade": false,
     "grade_id": "cell-5f53866a9cdaa24f",
     "locked": true,
     "schema_version": 3,
     "solution": false,
     "task": false
    }
   },
   "source": [
    "(e) Write a function, `matrixToEdgeList`, which takes as its argument a matrix representation of a graph (which may be assumed to be square and symmetric), and returns a \"list of edges\" representation. The edges can be in any order you like, but the first vertex should always be less than the second vertex; so an edge of length 4.0 linking vertices 0 and 1 would be represented by `(4.0, 0, 1)` rather than `(4.0, 1, 0)`."
   ]
  },
  {
   "cell_type": "code",
   "execution_count": null,
   "id": "damaged-museum",
   "metadata": {
    "deletable": false,
    "nbgrader": {
     "cell_type": "code",
     "checksum": "8f318bafca406de8f293a42ca8a7f7a9",
     "grade": true,
     "grade_id": "cell-965fc8c2103e2caf",
     "locked": false,
     "points": 7,
     "schema_version": 3,
     "solution": true,
     "task": false
    }
   },
   "outputs": [],
   "source": [
    "# YOUR CODE HERE\n",
    "raise NotImplementedError()"
   ]
  },
  {
   "cell_type": "markdown",
   "id": "sweet-precipitation",
   "metadata": {
    "deletable": false,
    "editable": false,
    "nbgrader": {
     "cell_type": "markdown",
     "checksum": "e795b3c6779fc6a833c24ebf2d84fc24",
     "grade": false,
     "grade_id": "cell-dd6d067443176d2b",
     "locked": true,
     "schema_version": 3,
     "solution": false,
     "task": false
    }
   },
   "source": [
    "(f) Test your `matrixToEdgeList` function on our two examples, $G_1$ and $G_2$."
   ]
  },
  {
   "cell_type": "code",
   "execution_count": null,
   "id": "cutting-immigration",
   "metadata": {
    "deletable": false,
    "nbgrader": {
     "cell_type": "code",
     "checksum": "d6a66b303f06c95c7926f5b832e3efc1",
     "grade": true,
     "grade_id": "cell-eb69ebc4750786c5",
     "locked": false,
     "points": 4,
     "schema_version": 3,
     "solution": true,
     "task": false
    }
   },
   "outputs": [],
   "source": [
    "# YOUR CODE HERE\n",
    "raise NotImplementedError()"
   ]
  },
  {
   "cell_type": "markdown",
   "id": "boring-rubber",
   "metadata": {
    "deletable": false,
    "editable": false,
    "nbgrader": {
     "cell_type": "markdown",
     "checksum": "adddb24d4a49a9dd0061d7d6c9160747",
     "grade": false,
     "grade_id": "cell-5aa358353179f34b",
     "locked": true,
     "schema_version": 3,
     "solution": false,
     "task": false
    }
   },
   "source": [
    "# Question 3 (25 marks)\n",
    "A connected graph often has several possible spanning trees, and our examples are no exceptions. Associated with any given spanning tree is an <b>edge sum</b>: simply the sum of all the lengths of the edges in the tree. Some spanning trees have edge sums that are smaller than others.\n",
    "\n",
    "Given a connected graph, a <b>minimal spanning tree</b> is a spanning tree whose edge sum is the smallest it can possibly be.\n",
    "\n",
    "(a) Find, by inspection, a minimal spanning tree for `graph1EdgeList`, and use `graphPlot` to plot it."
   ]
  },
  {
   "cell_type": "code",
   "execution_count": null,
   "id": "respective-cologne",
   "metadata": {
    "deletable": false,
    "nbgrader": {
     "cell_type": "code",
     "checksum": "f8ffd4a999c57312d553deb7a9127918",
     "grade": true,
     "grade_id": "cell-bf4ea2ba6c9041db",
     "locked": false,
     "points": 4,
     "schema_version": 3,
     "solution": true,
     "task": false
    }
   },
   "outputs": [],
   "source": [
    "# YOUR CODE HERE\n",
    "raise NotImplementedError()"
   ]
  },
  {
   "cell_type": "markdown",
   "id": "casual-botswana",
   "metadata": {
    "deletable": false,
    "editable": false,
    "nbgrader": {
     "cell_type": "markdown",
     "checksum": "96be6f0c6822a64e8a67545aa308c516",
     "grade": false,
     "grade_id": "cell-e966b612ad8c1455",
     "locked": true,
     "schema_version": 3,
     "solution": false,
     "task": false
    }
   },
   "source": [
    "One approach to finding a minimal spanning tree programmatically involves starting from any vertex, and gradually growing a tree from it, choosing the shortest edge each time. \n",
    "\n",
    "Suppose we have a connected graph $G$ with vertices $0,1,2,\\dots,n-1$. Let its matrix be ${\\bf M}$, assumed to be an $n \\times n$ symmetrical matrix. \n",
    "\n",
    "At each stage, we will associate every vertex in $G$ with a float representing its <em>distance</em> from our growing tree along some edge (that is, the length of that edge), and an int representing the vertex at the other end of that edge (its <em>neighbour</em> along that edge). We'll store these values in two lists of length $n$, called `distances` and `neighbours` respectively.\n",
    "\n",
    "To begin with, there is no tree, so all the distances will be set to $\\infty$, and all the neighbours will be set to `NaN`. \n",
    "\n",
    "We also maintain a list of <b>unused vertices</b>, not yet connected to our tree, which to begin with consists of all the vertices in $G$: `[0, 1, 2, ..., n-1]`; as we add vertices to our growing tree, we remove them from this list.\n",
    "\n",
    "For $G_1$, that might work like this:"
   ]
  },
  {
   "cell_type": "code",
   "execution_count": null,
   "id": "reverse-potato",
   "metadata": {
    "deletable": false,
    "editable": false,
    "nbgrader": {
     "cell_type": "code",
     "checksum": "15f034f15a02bdcc4b5a710ab4b712ed",
     "grade": false,
     "grade_id": "cell-34992b955a926e90",
     "locked": true,
     "schema_version": 3,
     "solution": false,
     "task": false
    }
   },
   "outputs": [],
   "source": [
    "unusedVertices = list(range(4))\n",
    "distances = [np.inf for i in unusedVertices]\n",
    "neighbours = [np.NaN for i in unusedVertices]"
   ]
  },
  {
   "cell_type": "markdown",
   "id": "sexual-mining",
   "metadata": {
    "deletable": false,
    "editable": false,
    "nbgrader": {
     "cell_type": "markdown",
     "checksum": "b2e36440fdec466e52a8aaceaa786e69",
     "grade": false,
     "grade_id": "cell-b8eae0efcdf593d5",
     "locked": true,
     "schema_version": 3,
     "solution": false,
     "task": false
    }
   },
   "source": [
    "We next choose a \"root\" vertex to grow our tree from. Any vertex will do, so let's use vertex 0. The first thing we do is set the distance associated with vertex 0 to 0.0:"
   ]
  },
  {
   "cell_type": "code",
   "execution_count": null,
   "id": "subjective-actor",
   "metadata": {
    "deletable": false,
    "editable": false,
    "nbgrader": {
     "cell_type": "code",
     "checksum": "6c26119583e36569c9bd88b4970979ef",
     "grade": false,
     "grade_id": "cell-38710803aeb17bcd",
     "locked": true,
     "schema_version": 3,
     "solution": false,
     "task": false
    }
   },
   "outputs": [],
   "source": [
    "distances[0] = 0.0"
   ]
  },
  {
   "cell_type": "markdown",
   "id": "musical-genre",
   "metadata": {
    "deletable": false,
    "editable": false,
    "nbgrader": {
     "cell_type": "markdown",
     "checksum": "147f9e0a7f44167fef4ab4511b6e1986",
     "grade": false,
     "grade_id": "cell-a0a64ed49a8c93fb",
     "locked": true,
     "schema_version": 3,
     "solution": false,
     "task": false
    }
   },
   "source": [
    "Then comes the iterative stage of the process, which consists of the following steps:\n",
    "<ul>\n",
    "    <li><b>From the list of unused vertices only</b>, pick the one associated with the smallest distance, and call it $i$ (so at the start, $i=0$).</li>\n",
    "    <li>Remove $i$ from the list of unused vertices.</li>\n",
    "    <li>Go through all the remaining unused vertices. For each unused vertex $j$, check whether the matrix entry ${\\bf M}_{ij}$ is less than the current value of <code>distances[j]</code>. If it is, set this distance to ${\\bf M}_{ij}$, and set <code>neighbours[j]</code> to $i$; otherwise do nothing.</li>\n",
    "</ul>\n",
    "This is done repeatedly until only one vertex remains in the unused list.\n",
    "\n",
    "(b) Carry this out for $G_1$, using the matrix `graph1Matrix`. If you've done it right, three iterations should be necessary, and the final values of `unusedVertices`, `distances` and `neighbours` should be, respectively, `[2]`, `[0.0, 3.0, 1.0, 2.0]` and `[nan, 0, 1, 0]`."
   ]
  },
  {
   "cell_type": "code",
   "execution_count": null,
   "id": "sufficient-kitchen",
   "metadata": {
    "deletable": false,
    "nbgrader": {
     "cell_type": "code",
     "checksum": "6283343217ab0619c1bb0258f79f34ff",
     "grade": true,
     "grade_id": "cell-1a0c149bd0a2a988",
     "locked": false,
     "points": 6,
     "schema_version": 3,
     "solution": true,
     "task": false
    }
   },
   "outputs": [],
   "source": [
    "# YOUR CODE HERE\n",
    "raise NotImplementedError()"
   ]
  },
  {
   "cell_type": "markdown",
   "id": "listed-phenomenon",
   "metadata": {
    "deletable": false,
    "editable": false,
    "nbgrader": {
     "cell_type": "markdown",
     "checksum": "7016bb7a3eff6b162f58d74cde07df46",
     "grade": false,
     "grade_id": "cell-d8be51ecdbb2ee73",
     "locked": true,
     "schema_version": 3,
     "solution": false,
     "task": false
    }
   },
   "source": [
    "(c) Illustrate using `graphPlot` that with the final values of `distances` and `neighbours` as above, the list of edges\n",
    "```python\n",
    "[(distances[i], i, neighbours[i]) for i in range(1,4)]\n",
    "```\n",
    "represents a minimal spanning tree for $G_1$."
   ]
  },
  {
   "cell_type": "code",
   "execution_count": null,
   "id": "unusual-affiliation",
   "metadata": {
    "deletable": false,
    "nbgrader": {
     "cell_type": "code",
     "checksum": "bd8d9fd298d4b03397653992cf163a27",
     "grade": true,
     "grade_id": "cell-664785607d56ecd6",
     "locked": false,
     "points": 4,
     "schema_version": 3,
     "solution": true,
     "task": false
    }
   },
   "outputs": [],
   "source": [
    "# YOUR CODE HERE\n",
    "raise NotImplementedError()"
   ]
  },
  {
   "cell_type": "markdown",
   "id": "occupational-congress",
   "metadata": {
    "deletable": false,
    "editable": false,
    "nbgrader": {
     "cell_type": "markdown",
     "checksum": "5fdea52171e7257dc9d1939a7af4e1a8",
     "grade": false,
     "grade_id": "cell-c3094752162702e5",
     "locked": true,
     "schema_version": 3,
     "solution": false,
     "task": false
    }
   },
   "source": [
    "(d) Write a function called `minimalSpanningTree1` which takes as its argument a list of edges representing a graph, and returns, as a list of 3-tuples representing edges, a minimal spanning tree obtained using the above method."
   ]
  },
  {
   "cell_type": "code",
   "execution_count": null,
   "id": "experimental-combat",
   "metadata": {
    "deletable": false,
    "nbgrader": {
     "cell_type": "code",
     "checksum": "ec5fab0914823bfbdbaa65f6bf67acab",
     "grade": true,
     "grade_id": "cell-8555ece43bfbe5d9",
     "locked": false,
     "points": 8,
     "schema_version": 3,
     "solution": true,
     "task": false
    }
   },
   "outputs": [],
   "source": [
    "# YOUR CODE HERE\n",
    "raise NotImplementedError()"
   ]
  },
  {
   "cell_type": "markdown",
   "id": "australian-employee",
   "metadata": {
    "deletable": false,
    "editable": false,
    "nbgrader": {
     "cell_type": "markdown",
     "checksum": "2fa6635b35f4a7b6a20a365f7d439898",
     "grade": false,
     "grade_id": "cell-8bea1bbcde611441",
     "locked": true,
     "schema_version": 3,
     "solution": false,
     "task": false
    }
   },
   "source": [
    "(e) Test your function on $G_2$, using `graphPlot` to display the result."
   ]
  },
  {
   "cell_type": "code",
   "execution_count": null,
   "id": "silver-import",
   "metadata": {
    "deletable": false,
    "nbgrader": {
     "cell_type": "code",
     "checksum": "9a51859196503fd7d47deecf6e0a31c8",
     "grade": true,
     "grade_id": "cell-fc80ef48c1ec7ddc",
     "locked": false,
     "points": 3,
     "schema_version": 3,
     "solution": true,
     "task": false
    }
   },
   "outputs": [],
   "source": [
    "# YOUR CODE HERE\n",
    "raise NotImplementedError()"
   ]
  },
  {
   "cell_type": "markdown",
   "id": "elder-sewing",
   "metadata": {
    "deletable": false,
    "editable": false,
    "nbgrader": {
     "cell_type": "markdown",
     "checksum": "140b1af62195f068a5c115c4406b2816",
     "grade": false,
     "grade_id": "cell-d95f43b18753751d",
     "locked": true,
     "schema_version": 3,
     "solution": false,
     "task": false
    }
   },
   "source": [
    "# Question 4 (25 marks)\n",
    "\n",
    "Our first approach to finding a minimal spanning tree involved starting at a \"root\" vertex and growing a single tree from it. Another approach involves growing a <em>collection</em> of trees (unsurprisingly called a <b>forest</b>), each with its own root. Any given tree in our forest might consist of a single vertex and no edges, or might consist of $r$ vertices connected by $r-1$ edges.\n",
    "\n",
    "(a) Show, using `graphPlot` or otherwise, that in the case of $G_2$, the sublist"
   ]
  },
  {
   "cell_type": "code",
   "execution_count": null,
   "id": "wanted-wound",
   "metadata": {
    "deletable": false,
    "editable": false,
    "nbgrader": {
     "cell_type": "code",
     "checksum": "1c3e55d9ca4be330ec86e6a05390dbd4",
     "grade": false,
     "grade_id": "cell-17c2c14ed009fd4b",
     "locked": true,
     "schema_version": 3,
     "solution": false,
     "task": false
    }
   },
   "outputs": [],
   "source": [
    "forestEdges = [(4.0,0,1),(7.0,2,3),(9.0,3,4),(11.0,1,7),(1.0,6,7),(7.0,7,8)]"
   ]
  },
  {
   "cell_type": "markdown",
   "id": "variable-treatment",
   "metadata": {
    "deletable": false,
    "editable": false,
    "nbgrader": {
     "cell_type": "markdown",
     "checksum": "3b8c40cad592737603ab09694642f009",
     "grade": false,
     "grade_id": "cell-f37e15d0873cef56",
     "locked": true,
     "schema_version": 3,
     "solution": false,
     "task": false
    }
   },
   "source": [
    "specifies a forest consisting of one tree with five vertices, one tree with three vertices and one tree consisting of a single vertex."
   ]
  },
  {
   "cell_type": "code",
   "execution_count": null,
   "id": "destroyed-choice",
   "metadata": {
    "deletable": false,
    "nbgrader": {
     "cell_type": "code",
     "checksum": "1a3364b7d8587717a0795ad9a9bd873a",
     "grade": true,
     "grade_id": "cell-d80e2ef293c37715",
     "locked": false,
     "points": 3,
     "schema_version": 3,
     "solution": true,
     "task": false
    }
   },
   "outputs": [],
   "source": [
    "# YOUR CODE HERE\n",
    "raise NotImplementedError()"
   ]
  },
  {
   "cell_type": "markdown",
   "id": "adaptive-leadership",
   "metadata": {
    "deletable": false,
    "editable": false,
    "nbgrader": {
     "cell_type": "markdown",
     "checksum": "1a3d6c9b6604232a04af38e15eb80a96",
     "grade": false,
     "grade_id": "cell-2d9c7ca0f5318948",
     "locked": true,
     "schema_version": 3,
     "solution": false,
     "task": false
    }
   },
   "source": [
    "Given a connected graph and a forest, we need a way of telling whether or not two vertices belong to the same tree. Since every tree will have a unique root, we can do this provided we can calculate the root associated with any given vertex.\n",
    "\n",
    "A clever way to do this is to maintain a list called `ancestors`, which associates each vertex with another vertex \"higher up\" (that is, closer to the root) in its tree. The exception is when the vertex <em>is</em> the root, in which case the convention we use is that its ancestor is itself!\n",
    "\n",
    "This list of ancestors enables us to find the root associated with any given vertex: recursively find its ancestor, then its ancestor's ancestor, and so on, until you hit a vertex whose ancestor is itself; that's the root.\n",
    "\n",
    "The following function takes as its argument an int representing a vertex and a list of ints, `ancestors`, and uses recursion to find the root of the tree containing the vertex. (If the ancestor isn't the root, the function also has the side-effect of <em>making</em> it the root from now on; this improves execution time later.)"
   ]
  },
  {
   "cell_type": "code",
   "execution_count": null,
   "id": "expressed-yukon",
   "metadata": {
    "deletable": false,
    "editable": false,
    "nbgrader": {
     "cell_type": "code",
     "checksum": "25a035c2b35903ec2c5fa2a76b9cc6a6",
     "grade": false,
     "grade_id": "cell-68934209d155d8d0",
     "locked": true,
     "schema_version": 3,
     "solution": false,
     "task": false
    }
   },
   "outputs": [],
   "source": [
    "def findRoot(vertex, ancestors):\n",
    "    \"\"\"\n",
    "    Given a vertex and a list of ancestors representing a forest, returns\n",
    "    the vertex's root, and as a side-effect, sets the ancestor equal to that root.\n",
    "    \"\"\"\n",
    "    # base case: if the vertex is the root, return it\n",
    "    if ancestors[vertex] == vertex:\n",
    "        return vertex\n",
    "    # recursion step: otherwise, apply findRoot recursively, and then make the ancestor \n",
    "    # equal to the root \n",
    "    else:\n",
    "        root = findRoot(ancestors[vertex], ancestors)\n",
    "        ancestors[vertex] = root\n",
    "        return root   "
   ]
  },
  {
   "cell_type": "markdown",
   "id": "sticky-paragraph",
   "metadata": {
    "deletable": false,
    "editable": false,
    "nbgrader": {
     "cell_type": "markdown",
     "checksum": "aedeac6f6f3b92027ec9bde8d8d3f810",
     "grade": false,
     "grade_id": "cell-3e95150545fd370f",
     "locked": true,
     "schema_version": 3,
     "solution": false,
     "task": false
    }
   },
   "source": [
    "(b) Given"
   ]
  },
  {
   "cell_type": "code",
   "execution_count": null,
   "id": "extra-leone",
   "metadata": {
    "deletable": false,
    "editable": false,
    "nbgrader": {
     "cell_type": "code",
     "checksum": "1a400ec31543d540e43d6091b4d908e2",
     "grade": false,
     "grade_id": "cell-453633de8db18528",
     "locked": true,
     "schema_version": 3,
     "solution": false,
     "task": false
    }
   },
   "outputs": [],
   "source": [
    "ancestors = [1,1,3,4,4,5,7,1,1]"
   ]
  },
  {
   "cell_type": "markdown",
   "id": "ordinary-recall",
   "metadata": {
    "deletable": false,
    "editable": false,
    "nbgrader": {
     "cell_type": "markdown",
     "checksum": "7d529c1e473ce73de59ff8c14e2c33b3",
     "grade": false,
     "grade_id": "cell-5c61d15479e85fb2",
     "locked": true,
     "schema_version": 3,
     "solution": false,
     "task": false
    }
   },
   "source": [
    "find the root of each of the vertices $0, 1, 2, \\dots, 8$, and hence show that this list of ancestors specifies the forest from part (a).\n",
    "\n",
    "Show also that the use of `findRoot` has had the effect of setting each ancestor equal to the root."
   ]
  },
  {
   "cell_type": "code",
   "execution_count": null,
   "id": "criminal-adaptation",
   "metadata": {
    "deletable": false,
    "nbgrader": {
     "cell_type": "code",
     "checksum": "de52f92be407bfe33c4a77fc05e6ff54",
     "grade": true,
     "grade_id": "cell-4ed57b2e61c59a41",
     "locked": false,
     "points": 5,
     "schema_version": 3,
     "solution": true,
     "task": false
    }
   },
   "outputs": [],
   "source": [
    "# YOUR CODE HERE\n",
    "raise NotImplementedError()"
   ]
  },
  {
   "cell_type": "markdown",
   "id": "sunrise-olympus",
   "metadata": {
    "deletable": false,
    "editable": false,
    "nbgrader": {
     "cell_type": "markdown",
     "checksum": "992f4886ddc07fc05afdbc59299ff5c2",
     "grade": false,
     "grade_id": "cell-a414156f2694391e",
     "locked": true,
     "schema_version": 3,
     "solution": false,
     "task": false
    }
   },
   "source": [
    "Our method for finding minimal spanning trees involves inspecting edges in turn and deciding whether or not to add them to our forest. Two things can happen: \n",
    "<ul>\n",
    "    <li>Our new edge might connect two existing trees, in which case we combine those two trees and the new vertex to make a single tree.</li>\n",
    "    <li>Our new edge might connect two vertices in the same tree, which would introduce a cycle; we don't want that, so we reject this edge.</li>\n",
    "</ul>\n",
    "\n",
    "(c) Write a function called `selectEdge` that takes as its argument a 3-tuple `edge` consisting of a length and two vertices, a list of 3-tuples `forestEdges`, and a list of ints `ancestors`, and then does the following:\n",
    "<ul>\n",
    "    <li>Calculate the roots, <code>root1</code> and <code>root2</code>, of each of the two vertices in <code>edge</code>.</li>\n",
    "    <li>If these roots are not equal, accept the edge by appending <code>edge</code> to <code>forestEdges</code>, and make a single tree by setting the ancestor of <code>root2</code> equal to <code>root1</code>. (Otherwise, do nothing.)</li>\n",
    "</ul>\n",
    "\n",
    "The values of the lists `forestEdges` and `ancestors` will change, but the function should return no output.   "
   ]
  },
  {
   "cell_type": "code",
   "execution_count": null,
   "id": "specialized-ranch",
   "metadata": {
    "deletable": false,
    "nbgrader": {
     "cell_type": "code",
     "checksum": "26b264d21806ad5a9b3b63069cc2cbd8",
     "grade": true,
     "grade_id": "cell-39ec038cdaf3a6b1",
     "locked": false,
     "points": 4,
     "schema_version": 3,
     "solution": true,
     "task": false
    }
   },
   "outputs": [],
   "source": [
    "# YOUR CODE HERE\n",
    "raise NotImplementedError()"
   ]
  },
  {
   "cell_type": "markdown",
   "id": "assumed-turkey",
   "metadata": {
    "deletable": false,
    "editable": false,
    "nbgrader": {
     "cell_type": "markdown",
     "checksum": "6d1efd60d6d50461ed45fdc63e3b15d7",
     "grade": false,
     "grade_id": "cell-b3dde431336302f1",
     "locked": true,
     "schema_version": 3,
     "solution": false,
     "task": false
    }
   },
   "source": [
    "(d) Test your function. Using the initial values"
   ]
  },
  {
   "cell_type": "code",
   "execution_count": null,
   "id": "fantastic-teach",
   "metadata": {
    "deletable": false,
    "editable": false,
    "nbgrader": {
     "cell_type": "code",
     "checksum": "94a49f019a8c7d466e0ed7ba3ea2f1a4",
     "grade": false,
     "grade_id": "cell-f95188d59162d70e",
     "locked": true,
     "schema_version": 3,
     "solution": false,
     "task": false
    }
   },
   "outputs": [],
   "source": [
    "forestEdges = [(4.0,0,1),(7.0,2,3),(9.0,3,4),(11.0,1,7),(1.0,6,7),(7.0,7,8)]\n",
    "ancestors = [1,1,3,4,4,5,7,1,1]"
   ]
  },
  {
   "cell_type": "markdown",
   "id": "massive-fraud",
   "metadata": {
    "deletable": false,
    "editable": false,
    "nbgrader": {
     "cell_type": "markdown",
     "checksum": "2c077cd03e3314e452fe3ff243a75b6c",
     "grade": false,
     "grade_id": "cell-a8e6041cba938f00",
     "locked": true,
     "schema_version": 3,
     "solution": false,
     "task": false
    }
   },
   "source": [
    "the edge `(4.0, 2, 5)` ought to be accepted because it joins two existing trees, and the edge `(8.0, 0, 7)` ought to be rejected because it joins two vertices of the same tree."
   ]
  },
  {
   "cell_type": "code",
   "execution_count": null,
   "id": "respected-hypothetical",
   "metadata": {
    "deletable": false,
    "nbgrader": {
     "cell_type": "code",
     "checksum": "aee6dacc40873da21fbb71aaaa2d1523",
     "grade": true,
     "grade_id": "cell-9621378f53ac80d2",
     "locked": false,
     "points": 4,
     "schema_version": 3,
     "solution": true,
     "task": false
    }
   },
   "outputs": [],
   "source": [
    "# YOUR CODE HERE\n",
    "raise NotImplementedError()"
   ]
  },
  {
   "cell_type": "markdown",
   "id": "excited-baghdad",
   "metadata": {
    "deletable": false,
    "editable": false,
    "nbgrader": {
     "cell_type": "markdown",
     "checksum": "ff4cbc071b1892586e5552748c8bd725",
     "grade": false,
     "grade_id": "cell-5a363667b2192962",
     "locked": true,
     "schema_version": 3,
     "solution": false,
     "task": false
    }
   },
   "source": [
    "Now for minimal spanning trees.\n",
    "\n",
    "Suppose we're working with a connected graph, $G$, with $n$ vertices, $0,1,2,\\dots,n-1$. To begin with, there will be $n$ trees in our forest, each consisting of a single vertex and no edges. \n",
    "\n",
    "(That means that to begin with, the forest contains no edges at all. Our algorithm will add edges to the forest one at a time, taking care not to create any cycles, until the forest contains $n-1$ edges, at which point we can be sure it will consist of a single, spanning tree.)\n",
    "\n",
    "We first <em>sort</em> the edges in order of length (it's this that will ensure that the spanning tree we end up with is minimal). Python's built-in `sort` method is fine for this.\n",
    "\n",
    "We then go through the sorted list of edges, applying `selectEdge` to each.\n",
    "\n",
    "At the end, our forest will consist of a single tree, which will be spanning and minimal.\n",
    "\n",
    "(e) Write a function called `minimalSpanningTree2`, which takes as its argument a list of edges `edgeList` representing a connected graph, and uses the above method to calculate a minimal spanning tree. \n",
    "\n",
    "That is, it should\n",
    "<ul>\n",
    "    <li>Sort the list of edges using the <code>sort</code> method.</li>\n",
    "    <li>Initialise <code>forestEdges</code> and <code>ancestors</code> appropriately.</li>\n",
    "    <li>Loop through the sorted list of edges, applying <code>selectEdge</code> to append new edges to <code>forestEdges</code> until the minimal spanning tree is complete.</li>\n",
    "    <li>Return the final list of edges.</li>\n",
    "</ul>"
   ]
  },
  {
   "cell_type": "code",
   "execution_count": null,
   "id": "median-employee",
   "metadata": {
    "deletable": false,
    "nbgrader": {
     "cell_type": "code",
     "checksum": "fdcae673beec2293d04619a151af2c52",
     "grade": true,
     "grade_id": "cell-380b7169273c92c9",
     "locked": false,
     "points": 7,
     "schema_version": 3,
     "solution": true,
     "task": false
    }
   },
   "outputs": [],
   "source": [
    "# YOUR CODE HERE\n",
    "raise NotImplementedError()"
   ]
  },
  {
   "cell_type": "markdown",
   "id": "elegant-concept",
   "metadata": {
    "deletable": false,
    "editable": false,
    "nbgrader": {
     "cell_type": "markdown",
     "checksum": "b14ea8c21715727cc6726fe9d1b03008",
     "grade": false,
     "grade_id": "cell-64b072e4487cb82c",
     "locked": true,
     "schema_version": 3,
     "solution": false,
     "task": false
    }
   },
   "source": [
    "(f) Test your function on $G_2$, using `graphPlot` to display the result."
   ]
  },
  {
   "cell_type": "code",
   "execution_count": null,
   "id": "competitive-pantyhose",
   "metadata": {
    "deletable": false,
    "nbgrader": {
     "cell_type": "code",
     "checksum": "63bb4ad8c063f3f60559b2630a40ff60",
     "grade": true,
     "grade_id": "cell-6381f19d71b9bbf4",
     "locked": false,
     "points": 2,
     "schema_version": 3,
     "solution": true,
     "task": false
    }
   },
   "outputs": [],
   "source": [
    "# YOUR CODE HERE\n",
    "raise NotImplementedError()"
   ]
  }
 ],
 "metadata": {
  "kernelspec": {
   "display_name": "Python 3",
   "language": "python",
   "name": "python3"
  },
  "language_info": {
   "codemirror_mode": {
    "name": "ipython",
    "version": 3
   },
   "file_extension": ".py",
   "mimetype": "text/x-python",
   "name": "python",
   "nbconvert_exporter": "python",
   "pygments_lexer": "ipython3",
   "version": "3.8.8"
  }
 },
 "nbformat": 4,
 "nbformat_minor": 5
}
