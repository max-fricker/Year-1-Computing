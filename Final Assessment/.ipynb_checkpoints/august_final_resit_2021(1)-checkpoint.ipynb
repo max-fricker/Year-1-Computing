{
 "cells": [
  {
   "cell_type": "code",
   "execution_count": 11,
   "id": "804ab020",
   "metadata": {},
   "outputs": [],
   "source": [
    "import numpy as np\n",
    "import matplotlib.pyplot as plt\n",
    "%matplotlib inline"
   ]
  },
  {
   "cell_type": "markdown",
   "id": "5fc49cbb",
   "metadata": {
    "nbgrader": {
     "grade": false,
     "grade_id": "cell-72ba6fa8ce9a6565",
     "locked": true,
     "schema_version": 3,
     "solution": false,
     "task": false
    }
   },
   "source": [
    "# M40006 In-Course Assessment Resit\n",
    "\n",
    "# 31 August 2021, 9-11 am\n",
    "\n",
    "## Two Hours\n",
    "\n",
    "### Answer all questions, submitting your answers as a single Jupyter notebook."
   ]
  },
  {
   "cell_type": "markdown",
   "id": "9e4e3ed0",
   "metadata": {
    "nbgrader": {
     "grade": false,
     "grade_id": "cell-60da896f2c6ac854",
     "locked": true,
     "schema_version": 3,
     "solution": false,
     "task": false
    }
   },
   "source": [
    "This test is on <b>graphs</b>: that is to say, networks. A graph consists of <b>vertices</b>, represented by the integers $0, 1, 2, \\dots, n-1$, joined by <b>edges</b>. Associated with each edge is a real number value, which we'll think of as representing a <b>length</b>. (Typically, when we draw a diagram of a graph, the physical lengths <em>won't</em> be to scale.)\n",
    "\n",
    "We'll use <b>lists of 3-tuples</b> as one way of representing graphs. Each tuple represents an edge. A tuple contains a float and two ints; the float represents the length of the edge, and the two ints represent the vertices that the edge joins. \n",
    "\n",
    "Here are lists of edges representing a couple of graphs, one very simple, and one less simple, which we'll call $G_1$ and $G_2$ respectively."
   ]
  },
  {
   "cell_type": "code",
   "execution_count": 12,
   "id": "799b74cf",
   "metadata": {
    "nbgrader": {
     "grade": false,
     "grade_id": "cell-4cbdaffcdbfc2618",
     "locked": true,
     "schema_version": 3,
     "solution": false,
     "task": false
    }
   },
   "outputs": [],
   "source": [
    "graph1EdgeList = [(3.0, 0, 1), (2.0, 0, 3), (1.0, 1, 2), (5.0, 1, 3), (4.0, 2, 3)]\n",
    "graph2EdgeList = [(4.0, 0, 1), (8.0, 0, 7), (8.0, 1, 2), (11.0, 1, 7), (7.0, 2, 3), \n",
    "                  (4.0, 2, 5), (2.0, 2, 8), (9.0, 3, 4), (14.0, 3, 5), (10.0, 4, 5), \n",
    "                  (2.0, 5, 6), (1.0, 6, 7), (6.0, 6, 8), (7.0, 7, 8)]"
   ]
  },
  {
   "cell_type": "markdown",
   "id": "bf1b21db",
   "metadata": {
    "nbgrader": {
     "grade": false,
     "grade_id": "cell-165daea9d3dea9e6",
     "locked": true,
     "schema_version": 3,
     "solution": false,
     "task": false
    }
   },
   "source": [
    "# Question 1 (25 marks)\n",
    "The following function takes as its inputs a graph in the form of a list of edges, and the positions of the vertices as a numpy array of coordinate pairs, and generates a visual representation of the graph; the physical lengths of the edges are not to scale, but each edge carries a label that tells you its length."
   ]
  },
  {
   "cell_type": "code",
   "execution_count": 13,
   "id": "2e856724",
   "metadata": {
    "nbgrader": {
     "grade": false,
     "grade_id": "cell-c74b3154173915c8",
     "locked": true,
     "schema_version": 3,
     "solution": false,
     "task": false
    }
   },
   "outputs": [],
   "source": [
    "def graphPlot(edgeList, pts):\n",
    "    \"\"\"\n",
    "    Generates a visual representation of the graph represented by edgeList, placing\n",
    "    the vertices at the coordinates represented by pts\"\"\"\n",
    "    \n",
    "    # plot the edges in yellow, labelling each with its length in black\n",
    "    for edge in edgeList:\n",
    "        plt.plot([pts[edge[1]][0],pts[edge[2]][0]],[pts[edge[1]][1],pts[edge[2]][1]],'y')\n",
    "        plt.text(0.5*(pts[edge[1]][0]+pts[edge[2]][0]),0.5*(pts[edge[1]][1]+pts[edge[2]][1]),\n",
    "             str(edge[0]),fontsize=14,ha='center',va='center')\n",
    "    \n",
    "    # plot the vertices in blue\n",
    "    plt.plot(pts[:,0],pts[:,1],'ob',markersize=20)\n",
    "    \n",
    "    # label the vertices in white\n",
    "    for i in range(len(pts)):\n",
    "        plt.text(pts[i][0],pts[i][1],str(i),color='w',fontsize=14,ha='center',va='center')"
   ]
  },
  {
   "cell_type": "markdown",
   "id": "87a4421d",
   "metadata": {
    "nbgrader": {
     "grade": false,
     "grade_id": "cell-d6eac997e8237eb8",
     "locked": true,
     "schema_version": 3,
     "solution": false,
     "task": false
    }
   },
   "source": [
    "(a) Test the `graphPlot` function on `graph1EdgeList`, using the vertex coordinates\n",
    "```python\n",
    "pts1 = np.array([[0,0],[0,1],[1,1],[1,0]])\n",
    "```"
   ]
  },
  {
   "cell_type": "code",
   "execution_count": 14,
   "id": "b4232924",
   "metadata": {
    "nbgrader": {
     "grade": true,
     "grade_id": "cell-44e6aeb9f5725aa2",
     "locked": false,
     "points": 2,
     "schema_version": 3,
     "solution": true,
     "task": false
    }
   },
   "outputs": [
    {
     "data": {
      "image/png": "[encoded data removed]",
      "text/plain": [
       "<Figure size 432x288 with 1 Axes>"
      ]
     },
     "metadata": {
      "needs_background": "light"
     },
     "output_type": "display_data"
    }
   ],
   "source": [
    "pts1 = np.array([[0,0],[0,1],[1,1],[1,0]])\n",
    "graphPlot(graph1EdgeList, pts1)"
   ]
  },
  {
   "cell_type": "markdown",
   "id": "0d0948c6",
   "metadata": {
    "nbgrader": {
     "grade": false,
     "grade_id": "cell-c9677421e567bfa3",
     "locked": true,
     "schema_version": 3,
     "solution": false,
     "task": false
    }
   },
   "source": [
    "(b) Test the `graphPlot` function on `graph2EdgeList`, using the vertex coordinates\n",
    "```python\n",
    "pts2 = np.array([[0,0],[1,1],[2,1],[3,1],[4,0],[3,-1],[2,-1],[1,-1],[2,0]])\n",
    "```"
   ]
  },
  {
   "cell_type": "code",
   "execution_count": 15,
   "id": "67cff080",
   "metadata": {
    "nbgrader": {
     "grade": true,
     "grade_id": "cell-ad17ce24195b5504",
     "locked": false,
     "points": 2,
     "schema_version": 3,
     "solution": true,
     "task": false
    }
   },
   "outputs": [
    {
     "data": {
      "image/png": "[encoded data removed]",
      "text/plain": [
       "<Figure size 432x288 with 1 Axes>"
      ]
     },
     "metadata": {
      "needs_background": "light"
     },
     "output_type": "display_data"
    }
   ],
   "source": [
    "pts2 = np.array([[0,0],[1,1],[2,1],[3,1],[4,0],[3,-1],[2,-1],[1,-1],[2,0]])\n",
    "graphPlot(graph2EdgeList, pts2)"
   ]
  },
  {
   "cell_type": "markdown",
   "id": "0eeaad4b",
   "metadata": {
    "nbgrader": {
     "grade": false,
     "grade_id": "cell-ea7b68ca9ab391d2",
     "locked": true,
     "schema_version": 3,
     "solution": false,
     "task": false
    }
   },
   "source": [
    "(c) Amend the code listing for `graphPlot` so that it takes the additional optional keyword argument `sublist`. By default, `sublist` should be an empty list. \n",
    "\n",
    "In general, `sublist` should be treated as a list of 3-tuples; every element of `sublist` can be assumed to belong to `edgeList`; `sublist` therefore specifies a <b>subgraph</b> of the main graph, to be shown in a distinct colour.\n",
    "\n",
    "The new `graphPlot` function should, after it has drawn the main edges in yellow but before drawing the vertices, redraw those edges specified by `sublist` in red. \n",
    "\n",
    "The image in the file `august_resit_figure1.png`, which has been mailed to you, shows the sort of output required."
   ]
  },
  {
   "cell_type": "code",
   "execution_count": 16,
   "id": "bea509b4",
   "metadata": {
    "nbgrader": {
     "grade": true,
     "grade_id": "cell-f7309a74a3361479",
     "locked": false,
     "points": 7,
     "schema_version": 3,
     "solution": true,
     "task": false
    }
   },
   "outputs": [],
   "source": [
    "def graphPlot(edgeList, pts, sublist = []):\n",
    "    \"\"\"\n",
    "    Generates a visual representation of the graph represented by edgeList, placing\n",
    "    the vertices at the coordinates represented by pts\"\"\"\n",
    "    \n",
    "    # plot the edges in yellow, labelling each with its length in black\n",
    "    for edge in edgeList:\n",
    "        plt.plot([pts[edge[1]][0],pts[edge[2]][0]],[pts[edge[1]][1],pts[edge[2]][1]],'y')\n",
    "        plt.text(0.5*(pts[edge[1]][0]+pts[edge[2]][0]),0.5*(pts[edge[1]][1]+pts[edge[2]][1]),\n",
    "             str(edge[0]),fontsize=14,ha='center',va='center',color='k')\n",
    "    \n",
    "    # plot the edges in the sublist in red\n",
    "    for edge in sublist:\n",
    "        plt.plot([pts[edge[1]][0],pts[edge[2]][0]],[pts[edge[1]][1],pts[edge[2]][1]],'r')\n",
    "    \n",
    "    # plot the vertices in blue\n",
    "    plt.plot(pts[:,0],pts[:,1],'ob',markersize=20)\n",
    "    \n",
    "    # label the vertices in white\n",
    "    for i in range(len(pts)):\n",
    "        plt.text(pts[i][0],pts[i][1],str(i),color='w',fontsize=14,ha='center',va='center')"
   ]
  },
  {
   "cell_type": "markdown",
   "id": "3b108697",
   "metadata": {
    "nbgrader": {
     "grade": false,
     "grade_id": "cell-582a84ed6826a0c2",
     "locked": true,
     "schema_version": 3,
     "solution": false,
     "task": false
    }
   },
   "source": [
    "(d) Test the new version of `graphPlot` on `graph1Edgelist`, using the sublist\n",
    "```python\n",
    "sublist1 = [(1.0,1,2),(4.0,2,3),(5.0,3,1)]\n",
    "```\n",
    "\n",
    "Your output should look something like the image in the file `august_resit_figure1.png`."
   ]
  },
  {
   "cell_type": "code",
   "execution_count": 17,
   "id": "da259aa0",
   "metadata": {
    "nbgrader": {
     "grade": true,
     "grade_id": "cell-fcf31505e4287531",
     "locked": false,
     "points": 2,
     "schema_version": 3,
     "solution": true,
     "task": false
    }
   },
   "outputs": [
    {
     "data": {
      "image/png": "[encoded data removed]",
      "text/plain": [
       "<Figure size 432x288 with 1 Axes>"
      ]
     },
     "metadata": {
      "needs_background": "light"
     },
     "output_type": "display_data"
    }
   ],
   "source": [
    "sublist1 = [(1.0,1,2),(4.0,2,3),(5.0,3,1)]\n",
    "graphPlot(graph1EdgeList, pts1, sublist=sublist1)"
   ]
  },
  {
   "cell_type": "markdown",
   "id": "67993dc8",
   "metadata": {
    "nbgrader": {
     "grade": false,
     "grade_id": "cell-f5af939e69b7443d",
     "locked": true,
     "schema_version": 3,
     "solution": false,
     "task": false
    }
   },
   "source": [
    "(e) A <b>cycle</b> is a graph consisting of distinct edges that form a closed loop; the subgraph represented by `sublist1`, which you plotted in part (d), is a cycle.\n",
    "\n",
    "Find, by inspection, a subgraph of $G_2$ that is a cycle, and use `graphPlot` to plot it."
   ]
  },
  {
   "cell_type": "code",
   "execution_count": 40,
   "id": "1624db05",
   "metadata": {
    "nbgrader": {
     "grade": true,
     "grade_id": "cell-af5efe23c6a6a3ac",
     "locked": false,
     "points": 5,
     "schema_version": 3,
     "solution": true,
     "task": false
    }
   },
   "outputs": [
    {
     "data": {
      "image/png": "[encoded data removed]",
      "text/plain": [
       "<Figure size 432x288 with 1 Axes>"
      ]
     },
     "metadata": {
      "needs_background": "light"
     },
     "output_type": "display_data"
    }
   ],
   "source": [
    "cycle = [(8.0,1,2),(2.0,2,8),(7.0,8,7),(11.0,7,1)]\n",
    "graphPlot(graph2EdgeList, pts2, sublist=cycle)"
   ]
  },
  {
   "cell_type": "markdown",
   "id": "4451b425",
   "metadata": {
    "nbgrader": {
     "grade": false,
     "grade_id": "cell-98b7064a564feb71",
     "locked": true,
     "schema_version": 3,
     "solution": false,
     "task": false
    }
   },
   "source": [
    "(f) A <b>tree</b> is a graph none of whose subgraphs are cycles; that is, a graph containing no paths that form closed loops. Given a connected graph $G$, a <b>spanning tree</b> is a subgraph that is a tree and that contains all the vertices of $G$. \n",
    "\n",
    "Find, by inspection, a spanning tree for $G_2$, and use `graphPlot` to plot it."
   ]
  },
  {
   "cell_type": "code",
   "execution_count": 41,
   "id": "1b12a6a8",
   "metadata": {
    "nbgrader": {
     "grade": true,
     "grade_id": "cell-902ba4e3b7f652fd",
     "locked": false,
     "points": 7,
     "schema_version": 3,
     "solution": true,
     "task": false
    }
   },
   "outputs": [
    {
     "data": {
      "image/png": "[encoded data removed]",
      "text/plain": [
       "<Figure size 432x288 with 1 Axes>"
      ]
     },
     "metadata": {
      "needs_background": "light"
     },
     "output_type": "display_data"
    }
   ],
   "source": [
    "tree = [(4.0,0,1),(8.0,1,2),(7.0,2,3),(9.0,3,4),(10.0,4,5),(2.0,5,6),(1.0,6,7),(7.0,7,8)]\n",
    "graphPlot(graph2EdgeList, pts2, sublist=tree)"
   ]
  },
  {
   "cell_type": "markdown",
   "id": "4b4e2ee3",
   "metadata": {
    "nbgrader": {
     "grade": false,
     "grade_id": "cell-9c02bb366dc3e6a2",
     "locked": true,
     "schema_version": 3,
     "solution": false,
     "task": false
    }
   },
   "source": [
    "# Question 2 (25 marks)\n",
    "\n",
    "A list of edges is only one way to represent a graph; another way is to use a <b>symmetric matrix</b>. For a graph $G$ with $n$ vertices, we can use an $n\\times n$ square symmetric matrix ${\\bf M}$. If $G$ contains an edge between vertex $i$ and vertex $j$, with length $l$, then the entries ${\\bf M}_{ij}$ and ${\\bf M}_{ji}$ are both set equal to $l$.\n",
    "\n",
    "What if there is no edge between vertex $i$ and vertex $j$? Different conventions for the other entries exist; we'll use the one according to which if there's no edge between vertex $i$ and vertex $j$, the values of ${\\bf M}_{ij}$ and ${\\bf M}_{ji}$ are set to $\\infty$.\n",
    "\n",
    "So the matrix that represents $G_1$ is"
   ]
  },
  {
   "cell_type": "code",
   "execution_count": 13,
   "id": "8687ed64",
   "metadata": {
    "nbgrader": {
     "grade": false,
     "grade_id": "cell-baa92f5c8b9c8b52",
     "locked": true,
     "schema_version": 3,
     "solution": false,
     "task": false
    }
   },
   "outputs": [],
   "source": [
    "graph1Matrix = np.array(\n",
    "    [[np.inf, 3.0,    np.inf, 2.0   ],\n",
    "     [3.0,    np.inf, 1.0,    5.0   ],\n",
    "     [np.inf, 1.0,    np.inf, 4.0   ],\n",
    "     [2.0,    5.0,    4.0,    np.inf]]\n",
    ")"
   ]
  },
  {
   "cell_type": "markdown",
   "id": "8e6fc75a",
   "metadata": {
    "nbgrader": {
     "grade": false,
     "grade_id": "cell-fe1afbc34f1b3f1c",
     "locked": true,
     "schema_version": 3,
     "solution": false,
     "task": false
    }
   },
   "source": [
    "The following function, `vertices`, takes as its argument a graph in the form of a list of edges, and returns a set containing its vertices, $0, 1, 2, \\dots, n-1$."
   ]
  },
  {
   "cell_type": "code",
   "execution_count": 42,
   "id": "52cc6456",
   "metadata": {
    "nbgrader": {
     "grade": false,
     "grade_id": "cell-e6d9c0e2ead1b354",
     "locked": true,
     "schema_version": 3,
     "solution": false,
     "task": false
    }
   },
   "outputs": [],
   "source": [
    "def vertices(edgeList):\n",
    "    \"Returns the set of vertices of a given graph\"\n",
    "    \n",
    "    # initialise\n",
    "    v = set([])\n",
    "    \n",
    "    # loop, adding vertices to the set\n",
    "    for edge in edgeList:\n",
    "        v = v.union({edge[1], edge[2]})\n",
    "        \n",
    "    return v "
   ]
  },
  {
   "cell_type": "markdown",
   "id": "fd25f629",
   "metadata": {
    "nbgrader": {
     "grade": false,
     "grade_id": "cell-dafa754d054a680e",
     "locked": true,
     "schema_version": 3,
     "solution": false,
     "task": false
    }
   },
   "source": [
    "(a) Test the `vertices` function on $G_1$ and $G_2$."
   ]
  },
  {
   "cell_type": "code",
   "execution_count": 43,
   "id": "b76cdbab",
   "metadata": {
    "nbgrader": {
     "grade": true,
     "grade_id": "cell-06fcee5d4896b4b9",
     "locked": false,
     "points": 5,
     "schema_version": 3,
     "solution": true,
     "task": false
    }
   },
   "outputs": [
    {
     "name": "stdout",
     "output_type": "stream",
     "text": [
      "{0, 1, 2, 3}\n",
      "{0, 1, 2, 3, 4, 5, 6, 7, 8}\n"
     ]
    }
   ],
   "source": [
    "print(vertices(graph1EdgeList))\n",
    "print(vertices(graph2EdgeList))"
   ]
  },
  {
   "cell_type": "markdown",
   "id": "1987a6f8",
   "metadata": {
    "nbgrader": {
     "grade": false,
     "grade_id": "cell-7e2bfc8b0206f993",
     "locked": true,
     "schema_version": 3,
     "solution": false,
     "task": false
    }
   },
   "source": [
    "(b) Write a function, `edgeListToMatrix`, that takes as its argument a graph in the form of a list of 3-tuples like those you've seen, and returns the corresponding square, symmetric matrix. You may find the `vertices` function helpful."
   ]
  },
  {
   "cell_type": "code",
   "execution_count": 44,
   "id": "95742898",
   "metadata": {
    "nbgrader": {
     "grade": true,
     "grade_id": "cell-5f509a0c575acda5",
     "locked": false,
     "points": 5,
     "schema_version": 3,
     "solution": true,
     "task": false
    }
   },
   "outputs": [],
   "source": [
    "def edgeListToMatrix(edgeList):\n",
    "    \"Returns the matrix representing a graph given in the form of a list of edges\"\n",
    "    # dimension of matrix\n",
    "    dim = len(vertices(edgeList))\n",
    "    \n",
    "    # initialise all entries as infinity\n",
    "    mat = np.inf*np.ones([dim,dim],int)\n",
    "    \n",
    "    # where there is an edge, overwrite the matrix entries\n",
    "    for edge in edgeList:\n",
    "        mat[edge[1],edge[2]] = edge[0]\n",
    "        mat[edge[2],edge[1]] = edge[0]\n",
    "        \n",
    "    return mat"
   ]
  },
  {
   "cell_type": "markdown",
   "id": "2d03b125",
   "metadata": {
    "nbgrader": {
     "grade": false,
     "grade_id": "cell-21c26fe3c5a77fa7",
     "locked": true,
     "schema_version": 3,
     "solution": false,
     "task": false
    }
   },
   "source": [
    "(c) Test your function on `graph1EdgeList`."
   ]
  },
  {
   "cell_type": "code",
   "execution_count": 45,
   "id": "76590907",
   "metadata": {
    "nbgrader": {
     "grade": true,
     "grade_id": "cell-ee1fb038e844fa27",
     "locked": false,
     "points": 2,
     "schema_version": 3,
     "solution": true,
     "task": false
    }
   },
   "outputs": [
    {
     "data": {
      "text/plain": [
       "True"
      ]
     },
     "execution_count": 45,
     "metadata": {},
     "output_type": "execute_result"
    }
   ],
   "source": [
    "np.all(edgeListToMatrix(graph1EdgeList) == graph1Matrix)"
   ]
  },
  {
   "cell_type": "markdown",
   "id": "f2d03ddd",
   "metadata": {
    "nbgrader": {
     "grade": false,
     "grade_id": "cell-8a3cce35677e0a1f",
     "locked": true,
     "schema_version": 3,
     "solution": false,
     "task": false
    }
   },
   "source": [
    "(d) Using your function, or otherwise, find a matrix representation of $G_2$."
   ]
  },
  {
   "cell_type": "code",
   "execution_count": 46,
   "id": "68b77728",
   "metadata": {
    "nbgrader": {
     "grade": true,
     "grade_id": "cell-80a17c0404318fbb",
     "locked": false,
     "points": 3,
     "schema_version": 3,
     "solution": true,
     "task": false
    }
   },
   "outputs": [
    {
     "name": "stdout",
     "output_type": "stream",
     "text": [
      "[[inf  4. inf inf inf inf inf  8. inf]\n",
      " [ 4. inf  8. inf inf inf inf 11. inf]\n",
      " [inf  8. inf  7. inf  4. inf inf  2.]\n",
      " [inf inf  7. inf  9. 14. inf inf inf]\n",
      " [inf inf inf  9. inf 10. inf inf inf]\n",
      " [inf inf  4. 14. 10. inf  2. inf inf]\n",
      " [inf inf inf inf inf  2. inf  1.  6.]\n",
      " [ 8. 11. inf inf inf inf  1. inf  7.]\n",
      " [inf inf  2. inf inf inf  6.  7. inf]]\n"
     ]
    }
   ],
   "source": [
    "graph2Matrix = edgeListToMatrix(graph2EdgeList)\n",
    "print(graph2Matrix)"
   ]
  },
  {
   "cell_type": "markdown",
   "id": "e659d12f",
   "metadata": {
    "nbgrader": {
     "grade": false,
     "grade_id": "cell-5f53866a9cdaa24f",
     "locked": true,
     "schema_version": 3,
     "solution": false,
     "task": false
    }
   },
   "source": [
    "(e) Write a function, `matrixToEdgeList`, which takes as its argument a matrix representation of a graph (which may be assumed to be square and symmetric), and returns a \"list of edges\" representation. The edges can be in any order you like, but the first vertex should always be less than the second vertex; so an edge of length 4.0 linking vertices 0 and 1 would be represented by `(4.0, 0, 1)` rather than `(4.0, 1, 0)`."
   ]
  },
  {
   "cell_type": "code",
   "execution_count": 47,
   "id": "9c862229",
   "metadata": {
    "nbgrader": {
     "grade": true,
     "grade_id": "cell-965fc8c2103e2caf",
     "locked": false,
     "points": 6,
     "schema_version": 3,
     "solution": true,
     "task": false
    }
   },
   "outputs": [],
   "source": [
    "def matrixToEdgeList(mat):\n",
    "    \"Returns a list of edges representation of a graph given its matrix representation\"\n",
    "    \n",
    "    # shape of the matrix\n",
    "    matshape = np.shape(mat)\n",
    "    \n",
    "    # initialise as empty list\n",
    "    lis = []\n",
    "    \n",
    "    # loop over rows and columns\n",
    "    for row in range(0,matshape[0]-1):\n",
    "        for col in range(row+1,matshape[1]):\n",
    "            if mat[row,col] != np.inf:\n",
    "                lis.append((mat[row,col],row,col))\n",
    "                \n",
    "    return lis"
   ]
  },
  {
   "cell_type": "markdown",
   "id": "ba0644d1",
   "metadata": {
    "nbgrader": {
     "grade": false,
     "grade_id": "cell-dd6d067443176d2b",
     "locked": true,
     "schema_version": 3,
     "solution": false,
     "task": false
    }
   },
   "source": [
    "(f) Test your `matrixToEdgeList` function on our two examples, $G_1$ and $G_2$."
   ]
  },
  {
   "cell_type": "code",
   "execution_count": 48,
   "id": "faeec9ec",
   "metadata": {
    "nbgrader": {
     "grade": true,
     "grade_id": "cell-eb69ebc4750786c5",
     "locked": false,
     "points": 4,
     "schema_version": 3,
     "solution": true,
     "task": false
    }
   },
   "outputs": [
    {
     "name": "stdout",
     "output_type": "stream",
     "text": [
      "[(3.0, 0, 1), (2.0, 0, 3), (1.0, 1, 2), (5.0, 1, 3), (4.0, 2, 3)]\n",
      "[(4.0, 0, 1), (8.0, 0, 7), (8.0, 1, 2), (11.0, 1, 7), (7.0, 2, 3), (4.0, 2, 5), (2.0, 2, 8), (9.0, 3, 4), (14.0, 3, 5), (10.0, 4, 5), (2.0, 5, 6), (1.0, 6, 7), (6.0, 6, 8), (7.0, 7, 8)]\n"
     ]
    }
   ],
   "source": [
    "print(matrixToEdgeList(graph1Matrix))\n",
    "print(matrixToEdgeList(graph2Matrix))"
   ]
  },
  {
   "cell_type": "markdown",
   "id": "99d62ff8",
   "metadata": {
    "nbgrader": {
     "grade": false,
     "grade_id": "cell-5aa358353179f34b",
     "locked": true,
     "schema_version": 3,
     "solution": false,
     "task": false
    }
   },
   "source": [
    "# Question 3 (25 marks)\n",
    "A connected graph often has several possible spanning trees, and our examples are no exceptions. Associated with any given spanning tree is an <b>edge sum</b>: simply the sum of all the lengths of the edges in the tree. Some spanning trees have edge sums that are smaller than others.\n",
    "\n",
    "Given a connected graph, a <b>minimal spanning tree</b> is a spanning tree whose edge sum is the smallest it can possibly be.\n",
    "\n",
    "(a) Find, by inspection, a minimal spanning tree for `graph1EdgeList`, and use `graphPlot` to plot it."
   ]
  },
  {
   "cell_type": "code",
   "execution_count": 49,
   "id": "2d5983da",
   "metadata": {
    "nbgrader": {
     "grade": true,
     "grade_id": "cell-bf4ea2ba6c9041db",
     "locked": false,
     "points": 6,
     "schema_version": 3,
     "solution": true,
     "task": false
    }
   },
   "outputs": [
    {
     "data": {
      "image/png": "[encoded data removed]",
      "text/plain": [
       "<Figure size 432x288 with 1 Axes>"
      ]
     },
     "metadata": {
      "needs_background": "light"
     },
     "output_type": "display_data"
    }
   ],
   "source": [
    "tree = [(3.0,0,1),(2.0,0,3),(1.0,1,2)]\n",
    "graphPlot(graph1EdgeList, pts1, sublist=tree)"
   ]
  },
  {
   "cell_type": "markdown",
   "id": "54ca205e",
   "metadata": {
    "nbgrader": {
     "grade": false,
     "grade_id": "cell-e966b612ad8c1455",
     "locked": true,
     "schema_version": 3,
     "solution": false,
     "task": false
    }
   },
   "source": [
    "One approach to finding a minimal spanning tree programmatically involves starting from any vertex, and gradually growing a tree from it, choosing the shortest edge each time. \n",
    "\n",
    "Suppose we have a connected graph $G$ with vertices $0,1,2,\\dots,n-1$. Let its matrix be ${\\bf M}$, assumed to be an $n \\times n$ symmetrical matrix. \n",
    "\n",
    "At each stage, we will associate every vertex in $G$ with a float representing its <em>distance</em> from our growing tree along some edge (that is, the length of that edge), and an int representing the vertex at the other end of that edge (its <em>neighbour</em> along that edge). We'll store these values in two lists of length $n$, called `distances` and `neighbours` respectively.\n",
    "\n",
    "To begin with, there is no tree, so all the distances will be set to $\\infty$, and all the neighbours will be set to `NaN`. \n",
    "\n",
    "We also maintain a list of <b>unused vertices</b>, not yet connected to our tree, which to begin with consists of all the vertices in $G$: `[0, 1, 2, ..., n-1]`; as we add vertices to our growing tree, we remove them from this list.\n",
    "\n",
    "For $G_1$, that might work like this:"
   ]
  },
  {
   "cell_type": "code",
   "execution_count": 24,
   "id": "4d10ea24",
   "metadata": {
    "nbgrader": {
     "grade": false,
     "grade_id": "cell-34992b955a926e90",
     "locked": true,
     "schema_version": 3,
     "solution": false,
     "task": false
    }
   },
   "outputs": [],
   "source": [
    "unusedVertices = list(range(4))\n",
    "distances = [np.inf for i in unusedVertices]\n",
    "neighbours = [np.NaN for i in unusedVertices]"
   ]
  },
  {
   "cell_type": "markdown",
   "id": "36816229",
   "metadata": {
    "nbgrader": {
     "grade": false,
     "grade_id": "cell-b8eae0efcdf593d5",
     "locked": true,
     "schema_version": 3,
     "solution": false,
     "task": false
    }
   },
   "source": [
    "We next choose a \"root\" vertex to grow our tree from. Any vertex will do, so let's use vertex 0. The first thing we do is set the distance associated with vertex 0 to 0.0:"
   ]
  },
  {
   "cell_type": "code",
   "execution_count": 25,
   "id": "0e2725d8",
   "metadata": {
    "nbgrader": {
     "grade": false,
     "grade_id": "cell-38710803aeb17bcd",
     "locked": true,
     "schema_version": 3,
     "solution": false,
     "task": false
    }
   },
   "outputs": [],
   "source": [
    "distances[0] = 0.0"
   ]
  },
  {
   "cell_type": "markdown",
   "id": "f7b4c9b0",
   "metadata": {
    "nbgrader": {
     "grade": false,
     "grade_id": "cell-a0a64ed49a8c93fb",
     "locked": true,
     "schema_version": 3,
     "solution": false,
     "task": false
    }
   },
   "source": [
    "Then comes the iterative stage of the process, which consists of the following steps:\n",
    "<ul>\n",
    "    <li><b>From the list of unused vertices only</b>, pick the one associated with the smallest distance, and call it $i$ (so at the start, $i=0$).</li>\n",
    "    <li>Remove $i$ from the list of unused vertices.</li>\n",
    "    <li>Go through all the remaining unused vertices. For each unused vertex $j$, check whether the matrix entry ${\\bf M}_{ij}$ is less than the current value of <code>distances[j]</code>. If it is, set this distance to ${\\bf M}_{ij}$, and set <code>neighbours[j]</code> to $i$; otherwise do nothing.</li>\n",
    "</ul>\n",
    "This is done repeatedly until only one vertex remains in the unused list.\n",
    "\n",
    "(b) Carry this out for $G_1$, using the matrix `graph1Matrix`. If you've done it right, three iterations should be necessary, and the final values of `unusedVertices`, `distances` and `neighbours` should be, respectively, `[2]`, `[0.0, 3.0, 1.0, 2.0]` and `[nan, 0, 1, 0]`."
   ]
  },
  {
   "cell_type": "code",
   "execution_count": 26,
   "id": "f1a1c51f",
   "metadata": {
    "nbgrader": {
     "grade": true,
     "grade_id": "cell-1a0c149bd0a2a988",
     "locked": false,
     "points": 5,
     "schema_version": 3,
     "solution": true,
     "task": false
    }
   },
   "outputs": [
    {
     "name": "stdout",
     "output_type": "stream",
     "text": [
      "[1, 2, 3] [0.0, 3.0, inf, 2.0] [nan, 0, nan, 0]\n",
      "[1, 2] [0.0, 3.0, 4.0, 2.0] [nan, 0, 3, 0]\n",
      "[2] [0.0, 3.0, 1.0, 2.0] [nan, 0, 1, 0]\n"
     ]
    }
   ],
   "source": [
    "remainingDistances = [distances[j] for j in unusedVertices]\n",
    "iIndex = remainingDistances.index(min(remainingDistances))\n",
    "i = unusedVertices.pop(iIndex)\n",
    "for j in unusedVertices:\n",
    "    if graph1Matrix[i,j] < distances[j]:\n",
    "        distances[j] = graph1Matrix[i,j]\n",
    "        neighbours[j] = i\n",
    "print(unusedVertices,distances,neighbours)\n",
    "\n",
    "remainingDistances = [distances[j] for j in unusedVertices]\n",
    "iIndex = remainingDistances.index(min(remainingDistances))\n",
    "i = unusedVertices.pop(iIndex)\n",
    "for j in unusedVertices:\n",
    "    if graph1Matrix[i,j] < distances[j]:\n",
    "        distances[j] = graph1Matrix[i,j]\n",
    "        neighbours[j] = i\n",
    "print(unusedVertices,distances,neighbours)\n",
    "\n",
    "remainingDistances = [distances[j] for j in unusedVertices]\n",
    "iIndex = remainingDistances.index(min(remainingDistances))\n",
    "i = unusedVertices.pop(iIndex)\n",
    "for j in unusedVertices:\n",
    "    if graph1Matrix[i,j] < distances[j]:\n",
    "        distances[j] = graph1Matrix[i,j]\n",
    "        neighbours[j] = i\n",
    "print(unusedVertices,distances,neighbours)"
   ]
  },
  {
   "cell_type": "markdown",
   "id": "e7cbc8de",
   "metadata": {
    "nbgrader": {
     "grade": false,
     "grade_id": "cell-d8be51ecdbb2ee73",
     "locked": true,
     "schema_version": 3,
     "solution": false,
     "task": false
    }
   },
   "source": [
    "(c) Illustrate using `graphPlot` that with the final values of `distances` and `neighbours` as above, the list of edges\n",
    "```python\n",
    "[(distances[i], i, neighbours[i]) for i in range(1,4)]\n",
    "```\n",
    "represents a minimal spanning tree for $G_1$."
   ]
  },
  {
   "cell_type": "code",
   "execution_count": 27,
   "id": "644d5c0f",
   "metadata": {
    "nbgrader": {
     "grade": true,
     "grade_id": "cell-664785607d56ecd6",
     "locked": false,
     "points": 5,
     "schema_version": 3,
     "solution": true,
     "task": false
    }
   },
   "outputs": [
    {
     "data": {
      "image/png": "[encoded data removed]",
      "text/plain": [
       "<Figure size 432x288 with 1 Axes>"
      ]
     },
     "metadata": {
      "needs_background": "light"
     },
     "output_type": "display_data"
    }
   ],
   "source": [
    "graphPlot(graph1EdgeList,pts1, sublist=[(distances[i], i, neighbours[i]) for i in range(1,4)])"
   ]
  },
  {
   "cell_type": "markdown",
   "id": "bdfc3fbe",
   "metadata": {
    "nbgrader": {
     "grade": false,
     "grade_id": "cell-c3094752162702e5",
     "locked": true,
     "schema_version": 3,
     "solution": false,
     "task": false
    }
   },
   "source": [
    "(d) Write a function called `minimalSpanningTree1` which takes as its argument a list of edges representing a graph, and returns, as a list of 3-tuples representing edges, a minimal spanning tree obtained using the above method."
   ]
  },
  {
   "cell_type": "code",
   "execution_count": 28,
   "id": "931c2a7a",
   "metadata": {
    "nbgrader": {
     "grade": true,
     "grade_id": "cell-8555ece43bfbe5d9",
     "locked": false,
     "points": 6,
     "schema_version": 3,
     "solution": true,
     "task": false
    }
   },
   "outputs": [],
   "source": [
    "def minimalSpanningTree1(edgeList):\n",
    "    mat = edgeListToMatrix(edgeList)\n",
    "        \n",
    "    nVertices = np.shape(mat)[0]\n",
    "    unusedVertices = list(range(nVertices))\n",
    "    distances = [np.inf for n in range(nVertices)]\n",
    "    distances[0] = 0.0\n",
    "    neighbours =[np.NaN for n in range(nVertices)]\n",
    "    \n",
    "    while len(unusedVertices) > 1:\n",
    "        remainingDistances = [distances[j] for j in unusedVertices]\n",
    "        iIndex = remainingDistances.index(min(remainingDistances))\n",
    "        i = unusedVertices.pop(iIndex)\n",
    "        for j in unusedVertices:\n",
    "            if mat[i,j] < distances[j]:\n",
    "                distances[j] = mat[i,j]\n",
    "                neighbours[j] = i\n",
    "                \n",
    "    return [(distances[i], i, neighbours[i]) for i in range(1,nVertices)] "
   ]
  },
  {
   "cell_type": "markdown",
   "id": "49d845e6",
   "metadata": {
    "nbgrader": {
     "grade": false,
     "grade_id": "cell-8bea1bbcde611441",
     "locked": true,
     "schema_version": 3,
     "solution": false,
     "task": false
    }
   },
   "source": [
    "(e) Test your function on $G_2$, using `graphPlot` to display the result."
   ]
  },
  {
   "cell_type": "code",
   "execution_count": 30,
   "id": "14fb2072",
   "metadata": {
    "nbgrader": {
     "grade": true,
     "grade_id": "cell-fc80ef48c1ec7ddc",
     "locked": false,
     "points": 3,
     "schema_version": 3,
     "solution": true,
     "task": false
    }
   },
   "outputs": [
    {
     "data": {
      "image/png": "[encoded data removed]",
      "text/plain": [
       "<Figure size 432x288 with 1 Axes>"
      ]
     },
     "metadata": {
      "needs_background": "light"
     },
     "output_type": "display_data"
    }
   ],
   "source": [
    "graphPlot(graph2EdgeList,pts2, sublist=minimalSpanningTree1(graph2EdgeList))"
   ]
  },
  {
   "cell_type": "markdown",
   "id": "04115792",
   "metadata": {
    "nbgrader": {
     "grade": false,
     "grade_id": "cell-d95f43b18753751d",
     "locked": true,
     "schema_version": 3,
     "solution": false,
     "task": false
    }
   },
   "source": [
    "# Question 4 (25 marks)\n",
    "\n",
    "Our first approach to finding a minimal spanning tree involved starting at a \"root\" vertex and growing a single tree from it. Another approach involves growing a <em>collection</em> of trees (unsurprisingly called a <b>forest</b>), each with its own root. Any given tree in our forest might consist of a single vertex and no edges, or might consist of $r$ vertices connected by $r-1$ edges.\n",
    "\n",
    "(a) Show, using `graphPlot` or otherwise, that in the case of $G_2$, the sublist"
   ]
  },
  {
   "cell_type": "code",
   "execution_count": 63,
   "id": "2c87b041",
   "metadata": {
    "nbgrader": {
     "grade": false,
     "grade_id": "cell-17c2c14ed009fd4b",
     "locked": true,
     "schema_version": 3,
     "solution": false,
     "task": false
    }
   },
   "outputs": [],
   "source": [
    "forestEdges = [(4.0,0,1),(7.0,2,3),(9.0,3,4),(11.0,1,7),(1.0,6,7),(7.0,7,8)]"
   ]
  },
  {
   "cell_type": "markdown",
   "id": "fad37ed4",
   "metadata": {
    "nbgrader": {
     "grade": false,
     "grade_id": "cell-f37e15d0873cef56",
     "locked": true,
     "schema_version": 3,
     "solution": false,
     "task": false
    }
   },
   "source": [
    "specifies a forest consisting of one tree with five vertices, one tree with three vertices and one tree consisting of a single vertex."
   ]
  },
  {
   "cell_type": "code",
   "execution_count": 64,
   "id": "5b1bf058",
   "metadata": {
    "nbgrader": {
     "grade": true,
     "grade_id": "cell-d80e2ef293c37715",
     "locked": false,
     "points": 5,
     "schema_version": 3,
     "solution": true,
     "task": false
    }
   },
   "outputs": [
    {
     "data": {
      "image/png": "[encoded data removed]",
      "text/plain": [
       "<Figure size 432x288 with 1 Axes>"
      ]
     },
     "metadata": {
      "needs_background": "light"
     },
     "output_type": "display_data"
    }
   ],
   "source": [
    "graphPlot(graph2EdgeList,pts2, sublist=forestEdges)"
   ]
  },
  {
   "cell_type": "markdown",
   "id": "66288b01",
   "metadata": {
    "nbgrader": {
     "grade": false,
     "grade_id": "cell-2d9c7ca0f5318948",
     "locked": true,
     "schema_version": 3,
     "solution": false,
     "task": false
    }
   },
   "source": [
    "Given a connected graph and a forest, we need a way of telling whether or not two vertices belong to the same tree. Since every tree will have a unique root, we can do this provided we can calculate the root associated with any given vertex.\n",
    "\n",
    "A clever way to do this is to maintain a list called `ancestors`, which associates each vertex with another vertex \"higher up\" (that is, closer to the root) in its tree. The exception is when the vertex <em>is</em> the root, in which case the convention we use is that its ancestor is itself!\n",
    "\n",
    "This list of ancestors enables us to find the root associated with any given vertex: recursively find its ancestor, then its ancestor's ancestor, and so on, until you hit a vertex whose ancestor is itself; that's the root.\n",
    "\n",
    "The following function takes as its argument an int representing a vertex and a list of ints, `ancestors`, and uses recursion to find the root of the tree containing the vertex. (If the ancestor isn't the root, the function also has the side-effect of <em>making</em> it the root from now on; this improves execution time later.)"
   ]
  },
  {
   "cell_type": "code",
   "execution_count": 60,
   "id": "c01cbf30",
   "metadata": {
    "nbgrader": {
     "grade": false,
     "grade_id": "cell-68934209d155d8d0",
     "locked": true,
     "schema_version": 3,
     "solution": false,
     "task": false
    }
   },
   "outputs": [],
   "source": [
    "def findRoot(vertex, ancestors):\n",
    "    \"\"\"\n",
    "    Given a vertex and a list of ancestors representing a forest, returns\n",
    "    the vertex's root, and as a side-effect, sets the ancestor equal to that root.\n",
    "    \"\"\"\n",
    "    # base case: if the vertex is the root, return it\n",
    "    if ancestors[vertex] == vertex:\n",
    "        return vertex\n",
    "    # recursion step: otherwise, apply findRoot recursively, and then make the ancestor \n",
    "    # equal to the root \n",
    "    else:\n",
    "        root = findRoot(ancestors[vertex], ancestors)\n",
    "        ancestors[vertex] = root\n",
    "        return root   "
   ]
  },
  {
   "cell_type": "markdown",
   "id": "8d2f4bd9",
   "metadata": {
    "nbgrader": {
     "grade": false,
     "grade_id": "cell-3e95150545fd370f",
     "locked": true,
     "schema_version": 3,
     "solution": false,
     "task": false
    }
   },
   "source": [
    "(b) Given"
   ]
  },
  {
   "cell_type": "code",
   "execution_count": 61,
   "id": "8eeb364b",
   "metadata": {
    "nbgrader": {
     "grade": false,
     "grade_id": "cell-453633de8db18528",
     "locked": true,
     "schema_version": 3,
     "solution": false,
     "task": false
    }
   },
   "outputs": [],
   "source": [
    "ancestors = [1,1,3,4,4,5,7,1,1]"
   ]
  },
  {
   "cell_type": "markdown",
   "id": "b215c415",
   "metadata": {
    "nbgrader": {
     "grade": false,
     "grade_id": "cell-5c61d15479e85fb2",
     "locked": true,
     "schema_version": 3,
     "solution": false,
     "task": false
    }
   },
   "source": [
    "find the root of each of the vertices $0, 1, 2, \\dots, 8$, and hence show that this list of ancestors specifies the forest from part (a).\n",
    "\n",
    "Show also that the use of `findRoot` has had the effect of setting each ancestor equal to the root."
   ]
  },
  {
   "cell_type": "code",
   "execution_count": 62,
   "id": "e90993e4",
   "metadata": {
    "nbgrader": {
     "grade": true,
     "grade_id": "cell-4ed57b2e61c59a41",
     "locked": false,
     "points": 5,
     "schema_version": 3,
     "solution": true,
     "task": false
    }
   },
   "outputs": [
    {
     "name": "stdout",
     "output_type": "stream",
     "text": [
      "1\n",
      "1\n",
      "4\n",
      "4\n",
      "4\n",
      "5\n",
      "1\n",
      "1\n",
      "1\n",
      "[1, 1, 4, 4, 4, 5, 1, 1, 1]\n"
     ]
    }
   ],
   "source": [
    "for vertex in range(9):\n",
    "    print(findRoot(vertex,ancestors))\n",
    "print(ancestors)"
   ]
  },
  {
   "cell_type": "markdown",
   "id": "be9ace08",
   "metadata": {
    "nbgrader": {
     "grade": false,
     "grade_id": "cell-a414156f2694391e",
     "locked": true,
     "schema_version": 3,
     "solution": false,
     "task": false
    }
   },
   "source": [
    "Our method for finding minimal spanning trees involves inspecting edges in turn and deciding whether or not to add them to our forest. Two things can happen: \n",
    "<ul>\n",
    "    <li>Our new edge might connect two existing trees, in which case we combine those two trees and the new vertex to make a single tree.</li>\n",
    "    <li>Our new edge might connect two vertices in the same tree, which would introduce a cycle; we don't want that, so we reject this edge.</li>\n",
    "</ul>\n",
    "\n",
    "(c) Write a function called `selectEdge` that takes as its argument a 3-tuple `edge` consisting of a length and two vertices, a list of 3-tuples `forestEdges`, and a list of ints `ancestors`, and then does the following:\n",
    "<ul>\n",
    "    <li>Calculate the roots, <code>root1</code> and <code>root2</code>, of each of the two vertices in <code>edge</code>.</li>\n",
    "    <li>If these roots are not equal, accept the edge by appending <code>edge</code> to <code>forestEdges</code>, and make a single tree by setting the ancestor of <code>root2</code> equal to <code>root1</code>. (Otherwise, do nothing.)</li>\n",
    "</ul>\n",
    "\n",
    "The values of the lists `forestEdges` and `ancestors` will change, but the function should return no output.   "
   ]
  },
  {
   "cell_type": "code",
   "execution_count": 67,
   "id": "d3a5fc87",
   "metadata": {
    "nbgrader": {
     "grade": true,
     "grade_id": "cell-39ec038cdaf3a6b1",
     "locked": false,
     "points": 4,
     "schema_version": 3,
     "solution": true,
     "task": false
    }
   },
   "outputs": [],
   "source": [
    "def selectEdge(edge, forestEdges, ancestors):\n",
    "    root1 = findRoot(edge[1], ancestors)\n",
    "    root2 = findRoot(edge[2], ancestors)\n",
    "    if root1 != root2:\n",
    "        forestEdges.append(edge)\n",
    "        ancestors[root2] = root1"
   ]
  },
  {
   "cell_type": "markdown",
   "id": "7646b259",
   "metadata": {
    "nbgrader": {
     "grade": false,
     "grade_id": "cell-b3dde431336302f1",
     "locked": true,
     "schema_version": 3,
     "solution": false,
     "task": false
    }
   },
   "source": [
    "(d) Test your function. Using the initial values"
   ]
  },
  {
   "cell_type": "code",
   "execution_count": 65,
   "id": "b848caf0",
   "metadata": {
    "nbgrader": {
     "grade": false,
     "grade_id": "cell-f95188d59162d70e",
     "locked": true,
     "schema_version": 3,
     "solution": false,
     "task": false
    }
   },
   "outputs": [],
   "source": [
    "forestEdges = [(4.0,0,1),(7.0,2,3),(9.0,3,4),(11.0,1,7),(1.0,6,7),(7.0,7,8)]\n",
    "ancestors = [1,1,3,4,4,5,7,1,1]"
   ]
  },
  {
   "cell_type": "markdown",
   "id": "49389ac9",
   "metadata": {
    "nbgrader": {
     "grade": false,
     "grade_id": "cell-a8e6041cba938f00",
     "locked": true,
     "schema_version": 3,
     "solution": false,
     "task": false
    }
   },
   "source": [
    "the edge `(4.0, 2, 5)` ought to be accepted because it joins two existing trees, and the edge `(8.0, 0, 7)` ought to be rejected because it joins two vertices of the same tree."
   ]
  },
  {
   "cell_type": "code",
   "execution_count": 68,
   "id": "95227828",
   "metadata": {
    "nbgrader": {
     "grade": true,
     "grade_id": "cell-9621378f53ac80d2",
     "locked": false,
     "points": 4,
     "schema_version": 3,
     "solution": true,
     "task": false
    }
   },
   "outputs": [
    {
     "name": "stdout",
     "output_type": "stream",
     "text": [
      "[(4.0, 0, 1), (7.0, 2, 3), (9.0, 3, 4), (11.0, 1, 7), (1.0, 6, 7), (7.0, 7, 8), (4.0, 2, 5)] [1, 1, 4, 4, 4, 4, 7, 1, 1]\n",
      "[(4.0, 0, 1), (7.0, 2, 3), (9.0, 3, 4), (11.0, 1, 7), (1.0, 6, 7), (7.0, 7, 8)] [1, 1, 3, 4, 4, 5, 7, 1, 1]\n"
     ]
    }
   ],
   "source": [
    "forestEdges = [(4.0,0,1),(7.0,2,3),(9.0,3,4),(11.0,1,7),(1.0,6,7),(7.0,7,8)]\n",
    "ancestors = [1,1,3,4,4,5,7,1,1]\n",
    "selectEdge((4.0, 2, 5), forestEdges, ancestors)\n",
    "print(forestEdges, ancestors)\n",
    "\n",
    "forestEdges = [(4.0,0,1),(7.0,2,3),(9.0,3,4),(11.0,1,7),(1.0,6,7),(7.0,7,8)]\n",
    "ancestors = [1,1,3,4,4,5,7,1,1]\n",
    "selectEdge((8.0, 0, 7), forestEdges, ancestors)\n",
    "print(forestEdges, ancestors)"
   ]
  },
  {
   "cell_type": "markdown",
   "id": "667d0733",
   "metadata": {
    "nbgrader": {
     "grade": false,
     "grade_id": "cell-5a363667b2192962",
     "locked": true,
     "schema_version": 3,
     "solution": false,
     "task": false
    }
   },
   "source": [
    "Now for minimal spanning trees.\n",
    "\n",
    "Suppose we're working with a connected graph, $G$, with $n$ vertices, $0,1,2,\\dots,n-1$. To begin with, there will be $n$ trees in our forest, each consisting of a single vertex and no edges. \n",
    "\n",
    "(That means that to begin with, the forest contains no edges at all. Our algorithm will add edges to the forest one at a time, taking care not to create any cycles, until the forest contains $n-1$ edges, at which point we can be sure it will consist of a single, spanning tree.)\n",
    "\n",
    "We first <em>sort</em> the edges in order of length (it's this that will ensure that the spanning tree we end up with is minimal). Python's built-in `sort` method is fine for this.\n",
    "\n",
    "We then go through the sorted list of edges, applying `selectEdge` to each.\n",
    "\n",
    "At the end, our forest will consist of a single tree, which will be spanning and minimal.\n",
    "\n",
    "(e) Write a function called `minimalSpanningTree2`, which takes as its argument a list of edges `edgeList` representing a connected graph, and uses the above method to calculate a minimal spanning tree. \n",
    "\n",
    "That is, it should\n",
    "<ul>\n",
    "    <li>Sort the list of edges using the <code>sort</code> method.</li>\n",
    "    <li>Initialise <code>forestEdges</code> and <code>ancestors</code> appropriately.</li>\n",
    "    <li>Loop through the sorted list of edges, applying <code>selectEdge</code> to append new edges to <code>forestEdges</code> until the minimal spanning tree is complete.</li>\n",
    "    <li>Return the final list of edges.</li>\n",
    "</ul>"
   ]
  },
  {
   "cell_type": "code",
   "execution_count": 73,
   "id": "a80961e5",
   "metadata": {
    "nbgrader": {
     "grade": true,
     "grade_id": "cell-380b7169273c92c9",
     "locked": false,
     "points": 5,
     "schema_version": 3,
     "solution": true,
     "task": false
    }
   },
   "outputs": [],
   "source": [
    "def minimalSpanningTree2(edgeList):\n",
    "    from copy import copy\n",
    "    e = copy(edgeList)\n",
    "    e.sort()\n",
    "    forestEdges = []\n",
    "    ancestors = list(vertices(edgeList))\n",
    "    n = len(ancestors)\n",
    "    while len(forestEdges) < n-1:\n",
    "        edge = e.pop(0)\n",
    "        selectEdge(edge,forestEdges,ancestors)\n",
    "    return forestEdges"
   ]
  },
  {
   "cell_type": "markdown",
   "id": "f71c22e9",
   "metadata": {
    "nbgrader": {
     "grade": false,
     "grade_id": "cell-64b072e4487cb82c",
     "locked": true,
     "schema_version": 3,
     "solution": false,
     "task": false
    }
   },
   "source": [
    "(f) Test your function on $G_2$, using `graphPlot` to display the result."
   ]
  },
  {
   "cell_type": "code",
   "execution_count": 75,
   "id": "b777bd54",
   "metadata": {
    "nbgrader": {
     "grade": true,
     "grade_id": "cell-6381f19d71b9bbf4",
     "locked": false,
     "points": 2,
     "schema_version": 3,
     "solution": true,
     "task": false
    }
   },
   "outputs": [
    {
     "data": {
      "image/png": "[encoded data removed]",
      "text/plain": [
       "<Figure size 432x288 with 1 Axes>"
      ]
     },
     "metadata": {
      "needs_background": "light"
     },
     "output_type": "display_data"
    }
   ],
   "source": [
    "graphPlot(graph2EdgeList, pts2, sublist=minimalSpanningTree2(graph2EdgeList))"
   ]
  }
 ],
 "metadata": {
  "celltoolbar": "Create Assignment",
  "kernelspec": {
   "display_name": "Python 3",
   "language": "python",
   "name": "python3"
  },
  "language_info": {
   "codemirror_mode": {
    "name": "ipython",
    "version": 3
   },
   "file_extension": ".py",
   "mimetype": "text/x-python",
   "name": "python",
   "nbconvert_exporter": "python",
   "pygments_lexer": "ipython3",
   "version": "3.8.8"
  }
 },
 "nbformat": 4,
 "nbformat_minor": 5
}
