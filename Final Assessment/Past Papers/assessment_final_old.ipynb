{
 "cells": [
  {
   "cell_type": "code",
   "execution_count": 74,
   "id": "reduced-cosmetic",
   "metadata": {},
   "outputs": [],
   "source": [
    "import numpy as np\n",
    "import sympy as sp\n",
    "from time import time\n",
    "import matplotlib.pyplot as plt\n",
    "%matplotlib inline"
   ]
  },
  {
   "cell_type": "markdown",
   "id": "leading-moral",
   "metadata": {
    "deletable": false,
    "editable": false,
    "nbgrader": {
     "cell_type": "markdown",
     "checksum": "1493356bde7892f3511b1ae7e7f2debf",
     "grade": false,
     "grade_id": "cell-1ad953a7e0b88b1f",
     "locked": true,
     "schema_version": 3,
     "solution": false,
     "task": false
    }
   },
   "source": [
    "# M40006 In-Course Assessment\n",
    "\n",
    "# 25 March 2021, 9-11 am\n",
    "\n",
    "## Two Hours\n",
    "\n",
    "### Answer all questions, submitting your answers as a single Jupyter notebook."
   ]
  },
  {
   "cell_type": "markdown",
   "id": "serious-spokesman",
   "metadata": {
    "deletable": false,
    "editable": false,
    "nbgrader": {
     "cell_type": "markdown",
     "checksum": "e713a96a08dde5cf4673b8e856f609eb",
     "grade": false,
     "grade_id": "cell-d36b4ee2c55cebc3",
     "locked": true,
     "schema_version": 3,
     "solution": false,
     "task": false
    }
   },
   "source": [
    "## Question 1: 35 marks\n",
    "\n",
    "For an iterated map $f$ from the reals to the reals, the <b>Lyapunov exponent</b> is a measure of the tendency of iterations, whose starting values are close to one another, to diverge. It can be defined, for starting value $x=x_0$, as \n",
    "\n",
    "$$\\lim_{n\\to\\infty}\\frac{1}{n} \\sum_{r=1}^n \\log|f'(x_r)|,$$\n",
    "\n",
    "where $x_0, x_1, x_2, \\dots$ are iterates of the map. Positive values are associated with the phenomenon of <b>chaos</b>.\n",
    "\n",
    "We're often interested in <em>families</em> of maps, with a variable parameter $k$; an interesting case is the logistic map,\n",
    "$$f(x) = k\\,x\\,(1-x).$$\n",
    "\n",
    "In practice, we can't usually let $n$ tend to infinity, so we truncate using fairly large $n$.\n",
    "\n",
    "The following is a listing of a function called `lyapunov_exponent` which uses SymPy's `diff` function to calculate $f'$. It's built to work with families of maps: the arguments are `f`, the symbolic variables `x` and `k`, the parameter value `k_value`, the starting x-value `x0`, and the value of `n`, assumed to be a positive integer."
   ]
  },
  {
   "cell_type": "code",
   "execution_count": 75,
   "id": "illegal-float",
   "metadata": {
    "deletable": false,
    "editable": false,
    "nbgrader": {
     "cell_type": "code",
     "checksum": "fe0ae7bf7a0122e888f3d86a81ef698b",
     "grade": false,
     "grade_id": "cell-5163972bcd8bcfd9",
     "locked": true,
     "schema_version": 3,
     "solution": false,
     "task": false
    }
   },
   "outputs": [],
   "source": [
    "def lyapunov_exponent(f, x, k, k_value, x0, n):\n",
    "    \"\"\"Calculates an estimate for the Lyapunov exponent of the map f, \n",
    "    dependent on x and k, for a particular value k_value of k, starting\n",
    "    x-value x0, and n iterations\"\"\"\n",
    "    \n",
    "    # initialize x_value and total\n",
    "    x_value = x0\n",
    "    total = 0\n",
    "    \n",
    "    # calculate derivative symbolically\n",
    "    df = sp.diff(f, x)\n",
    "    \n",
    "    # for loop\n",
    "    for r in range(n):\n",
    "        # calculate next x_value\n",
    "        x_value = float(f.subs([(x, x_value), (k, k_value)]))\n",
    "        # increment total\n",
    "        total += np.log(float(abs(df.subs([(x, x_value), (k, k_value)]))))\n",
    "    \n",
    "    # return estimate\n",
    "    return total/n"
   ]
  },
  {
   "cell_type": "markdown",
   "id": "living-armor",
   "metadata": {
    "deletable": false,
    "editable": false,
    "nbgrader": {
     "cell_type": "markdown",
     "checksum": "d141c334bcc1ae903e598477bc3841da",
     "grade": false,
     "grade_id": "cell-36572e3893b27331",
     "locked": true,
     "schema_version": 3,
     "solution": false,
     "task": false
    }
   },
   "source": [
    "(a) Define `x` and `k` as symbolic SymPy variables."
   ]
  },
  {
   "cell_type": "code",
   "execution_count": 76,
   "id": "acoustic-frame",
   "metadata": {
    "deletable": false,
    "nbgrader": {
     "cell_type": "code",
     "checksum": "d5771aded42e716fbd1c8eec60af0fc8",
     "grade": true,
     "grade_id": "cell-7c4aac1abcfc02fd",
     "locked": false,
     "points": 4,
     "schema_version": 3,
     "solution": true,
     "task": false
    }
   },
   "outputs": [],
   "source": [
    "sp.init_printing()\n",
    "x, k =sp.symbols('x k')"
   ]
  },
  {
   "cell_type": "markdown",
   "id": "innocent-share",
   "metadata": {
    "deletable": false,
    "editable": false,
    "nbgrader": {
     "cell_type": "markdown",
     "checksum": "ee7c04f5a3cdb6a0a61e1a8c236e6562",
     "grade": false,
     "grade_id": "cell-c5a0797b93b5e3fe",
     "locked": true,
     "schema_version": 3,
     "solution": false,
     "task": false
    }
   },
   "source": [
    "(b) Calculate\n",
    "```python\n",
    "lyapunov_exponent(k*x*(1-x), x, k, 2.5, 0.3, 100)\n",
    "```\n",
    "and show that it is negative."
   ]
  },
  {
   "cell_type": "code",
   "execution_count": 77,
   "id": "warming-comparative",
   "metadata": {
    "deletable": false,
    "nbgrader": {
     "cell_type": "code",
     "checksum": "f95e30286bf108ce1c5d458b919457e7",
     "grade": true,
     "grade_id": "cell-83e0ab8a1015bbdc",
     "locked": false,
     "points": 4,
     "schema_version": 3,
     "solution": true,
     "task": false
    }
   },
   "outputs": [
    {
     "data": {
      "image/png": "[encoded data removed]",
      "text/latex": [
       "$\\displaystyle -0.70593293470577$"
      ],
      "text/plain": [
       "-0.705932934705770"
      ]
     },
     "execution_count": 77,
     "metadata": {},
     "output_type": "execute_result"
    }
   ],
   "source": [
    "sp.expand(lyapunov_exponent(k*x*(1-x), x, k, 2.5, 0.3, 100))"
   ]
  },
  {
   "cell_type": "markdown",
   "id": "based-trust",
   "metadata": {
    "deletable": false,
    "editable": false,
    "nbgrader": {
     "cell_type": "markdown",
     "checksum": "acc3f640324eee214c837858ef6daccc",
     "grade": false,
     "grade_id": "cell-50cf7199a566fe43",
     "locked": true,
     "schema_version": 3,
     "solution": false,
     "task": false
    }
   },
   "source": [
    "(c) Find a value of `k_value` between 0 and 4 for which\n",
    "\n",
    "```python\n",
    "lyapunov_exponent(k*x*(1-x), x, k, k_value, 0.3, 100)\n",
    "```\n",
    "is positive."
   ]
  },
  {
   "cell_type": "code",
   "execution_count": 78,
   "id": "relative-password",
   "metadata": {
    "deletable": false,
    "nbgrader": {
     "cell_type": "code",
     "checksum": "cd1fe636a5206e504fd94818fab77285",
     "grade": true,
     "grade_id": "cell-364c6226076b9b3f",
     "locked": false,
     "points": 6,
     "schema_version": 3,
     "solution": true,
     "task": false
    }
   },
   "outputs": [
    {
     "data": {
      "image/png": "[encoded data removed]",
      "text/latex": [
       "$\\displaystyle 0.628920984489594$"
      ],
      "text/plain": [
       "0.6289209844895935"
      ]
     },
     "execution_count": 78,
     "metadata": {},
     "output_type": "execute_result"
    }
   ],
   "source": [
    "lyapunov_exponent(k*x*(1-x), x, k, 3.99, 0.3, 100)"
   ]
  },
  {
   "cell_type": "markdown",
   "id": "plain-wireless",
   "metadata": {
    "deletable": false,
    "editable": false,
    "nbgrader": {
     "cell_type": "markdown",
     "checksum": "224f1e5d4828146067dbe8282d0e9d15",
     "grade": false,
     "grade_id": "cell-8cfde4cbd73a043f",
     "locked": true,
     "schema_version": 3,
     "solution": false,
     "task": false
    }
   },
   "source": [
    "(d) Define\n",
    "```python\n",
    "lyapunov_exponent_vec = np.vectorize(lyapunov_exponent)\n",
    "```\n",
    "and use it to calculate the \"$n=100$\" estimate of the Lyapunov exponent for parameter values $2.5, 2.6, 2.7, \\dots, 4.0$"
   ]
  },
  {
   "cell_type": "code",
   "execution_count": 79,
   "id": "sized-privilege",
   "metadata": {
    "deletable": false,
    "nbgrader": {
     "cell_type": "code",
     "checksum": "f6fb205a97c28c55910713e705ace508",
     "grade": true,
     "grade_id": "cell-a4c2f4d9fe433a37",
     "locked": false,
     "points": 6,
     "schema_version": 3,
     "solution": true,
     "task": false
    }
   },
   "outputs": [
    {
     "name": "stdout",
     "output_type": "stream",
     "text": [
      "[-0.70593293 -0.51915103 -0.36273668 -0.2279469  -0.10983304 -0.01819869\n",
      " -0.2048762  -0.75793999 -0.49861599 -0.10838731 -0.71191421  0.17530515\n",
      "  0.2953132   0.38314317  0.42080871  0.69518876]\n"
     ]
    }
   ],
   "source": [
    "lyapunov_exponent_vec = np.vectorize(lyapunov_exponent)\n",
    "\n",
    "print(lyapunov_exponent_vec(k*x*(1-x), x, k, np.arange(2.5, 4.1 , 0.1), 0.3, 100))"
   ]
  },
  {
   "cell_type": "markdown",
   "id": "innocent-introduction",
   "metadata": {
    "deletable": false,
    "editable": false,
    "nbgrader": {
     "cell_type": "markdown",
     "checksum": "a72e0da6b00a2d4ac48bd839e1858d2d",
     "grade": false,
     "grade_id": "cell-204dcf1856c039b4",
     "locked": true,
     "schema_version": 3,
     "solution": false,
     "task": false
    }
   },
   "source": [
    "(e) As you have probably spotted, using the `subs` method in this way is very inefficient. Write a version called `lyapunov_exponent2`, which instead uses functions `f_lamb` and `df_lamb` created using `lambdify`, with symbolic variables `x` and `k`. Make sure these functions work on NumPy arrays. \n",
    "\n",
    "(Hint: the correct definition of `f_lamb` is\n",
    "```python\n",
    "f_lamb = sp.lambdify((x, k), f, 'numpy')\n",
    "```\n",
    ")\n",
    "\n",
    "Test your function by typing\n",
    "```python\n",
    "lyapunov_exponent2(k*x*(1-x), x, k, 2.5, 0.3, 100)\n",
    "```"
   ]
  },
  {
   "cell_type": "code",
   "execution_count": 80,
   "id": "mineral-fossil",
   "metadata": {
    "deletable": false,
    "nbgrader": {
     "cell_type": "code",
     "checksum": "81ef1dd0ccc110f0d97f11aaafbcbd19",
     "grade": true,
     "grade_id": "cell-9e37216cf23874d4",
     "locked": false,
     "points": 8,
     "schema_version": 3,
     "solution": true,
     "task": false
    }
   },
   "outputs": [
    {
     "name": "stdout",
     "output_type": "stream",
     "text": [
      "-0.7059329347057702\n"
     ]
    }
   ],
   "source": [
    "def lyapunov_exponent2(f, x, k, k_value, x0, n):\n",
    "    \"\"\"Calculates an estimate for the Lyapunov exponent of the map f, \n",
    "    dependent on x and k, for a particular value k_value of k, starting\n",
    "    x-value x0, and n iterations\"\"\"\n",
    "    \n",
    "    # initialize x_value and total\n",
    "    x_value = x0\n",
    "    total = 0\n",
    "    \n",
    "    #creating lambda functions of f and it's derivative\n",
    "    f_lamb = sp.lambdify((x, k), f, 'numpy')\n",
    "    df_lamb = sp.lambdify((x, k), sp.diff(f, x), 'numpy')\n",
    "    \n",
    "    # for loop\n",
    "    for r in range(n):\n",
    "        # calculate next x_value\n",
    "        x_value = f_lamb(x_value, k_value)\n",
    "        # increment total\n",
    "        total += np.log(np.abs(df_lamb(x_value, k_value)))\n",
    "    \n",
    "    # return estimate\n",
    "    return total/n\n",
    "\n",
    "print(lyapunov_exponent2(k*x*(1-x), x, k, 2.5, 0.3, 100))"
   ]
  },
  {
   "cell_type": "markdown",
   "id": "several-trail",
   "metadata": {
    "deletable": false,
    "editable": false,
    "nbgrader": {
     "cell_type": "markdown",
     "checksum": "e7457a87d5307c1a67ec573ec01fb203",
     "grade": false,
     "grade_id": "cell-ad68ca196763620d",
     "locked": true,
     "schema_version": 3,
     "solution": false,
     "task": false
    }
   },
   "source": [
    "(f) Calculate the \"$n=1000$\" estimate of the Lyapunov exponent for parameter values $2.50, 2.51, 2.52, \\dots, 4.00$, and plot it against these parameter values."
   ]
  },
  {
   "cell_type": "code",
   "execution_count": 83,
   "id": "leading-referral",
   "metadata": {
    "deletable": false,
    "nbgrader": {
     "cell_type": "code",
     "checksum": "b29fc6f1274811605da08533e7427673",
     "grade": true,
     "grade_id": "cell-727ed4fcebc1600d",
     "locked": false,
     "points": 7,
     "schema_version": 3,
     "solution": true,
     "task": false
    }
   },
   "outputs": [
    {
     "name": "stdout",
     "output_type": "stream",
     "text": [
      "[-0.69442576 -0.67455974 -0.65508406 -0.63598324 -0.61724279 -0.59884911\n",
      " -0.58078937 -0.56305151 -0.54562413 -0.52849642 -0.51165816 -0.49509967\n",
      " -0.47881174 -0.46278561 -0.44701297 -0.43148589 -0.4161968  -0.40113851\n",
      " -0.38630414 -0.3716871  -0.35728112 -0.34308018 -0.32907854 -0.31527067\n",
      " -0.3016513  -0.28821537 -0.27495801 -0.26187457 -0.24896057 -0.23621172\n",
      " -0.22362389 -0.21119312 -0.19891561 -0.18678771 -0.17480594 -0.16296694\n",
      " -0.15126753 -0.13970467 -0.1282755  -0.11697735 -0.10580777 -0.09476462\n",
      " -0.08384614 -0.07305117 -0.06237955 -0.05183294 -0.04141679 -0.03114573\n",
      " -0.02106262 -0.01134252 -0.00480833 -0.02052807 -0.04074385 -0.06244849\n",
      " -0.08549223 -0.10991711 -0.13582954 -0.16337729 -0.19274679 -0.22416769\n",
      " -0.25792235 -0.29436036 -0.33391985 -0.37715884 -0.42480244 -0.47781618\n",
      " -0.53752509 -0.60581708 -0.68551479 -0.78111627 -0.90045566 -1.05912294\n",
      " -1.29603833 -1.77369269 -1.98720684 -1.36403832 -1.09629266 -0.92303925\n",
      " -0.79438046 -0.69184766 -0.60690506 -0.53338965 -0.46982335 -0.40954114\n",
      " -0.36190693 -0.31685871 -0.27527068 -0.23651912 -0.20111635 -0.16639583\n",
      " -0.13433531 -0.10682751 -0.07582963 -0.04802763 -0.02312838 -0.00770287\n",
      " -0.05886375 -0.12807301 -0.22670756 -0.41340147 -0.85644803 -0.34788899\n",
      " -0.19098046 -0.0954333  -0.02303655 -0.09609831 -0.07371178  0.01438037\n",
      "  0.10423718  0.1407764   0.17700871  0.19003216  0.20768956 -0.01399055\n",
      "  0.23178565  0.25334499  0.28218361  0.31143404  0.34935494  0.3454118\n",
      "  0.34244998  0.35809506  0.35603241  0.36614294 -0.10335932  0.36630692\n",
      "  0.37492783  0.41029058  0.40413997  0.43609281  0.42566438  0.43623169\n",
      "  0.42727702 -0.33185548 -0.03115375  0.02184031  0.37037368  0.39135542\n",
      "  0.46146533  0.49060824  0.48877444  0.50095821  0.52100034  0.54551236\n",
      "  0.55057554  0.58215301  0.52039038  0.57381197  0.60966367  0.64223907\n",
      "  0.69164621]\n"
     ]
    },
    {
     "data": {
      "text/plain": [
       "Text(0, 0.5, 'lyapunox exponent')"
      ]
     },
     "execution_count": 83,
     "metadata": {},
     "output_type": "execute_result"
    },
    {
     "data": {
      "image/png": "[encoded data removed]",
      "text/plain": [
       "<Figure size 432x288 with 1 Axes>"
      ]
     },
     "metadata": {
      "needs_background": "light"
     },
     "output_type": "display_data"
    }
   ],
   "source": [
    "print(lyapunov_exponent2(k*x*(1-x), x, k, np.arange(2.5, 4.01 , 0.01), 0.3, 1000))\n",
    "\n",
    "plt.plot(np.arange(2.5, 4.01, 0.01), lyapunov_exponent2(k*x*(1-x), x, k, np.arange(2.5, 4.01 , 0.01), 0.3, 1000))\n",
    "\n",
    "plt.xlabel('k')\n",
    "plt.ylabel('lyapunox exponent')"
   ]
  },
  {
   "cell_type": "markdown",
   "id": "guilty-berlin",
   "metadata": {
    "deletable": false,
    "editable": false,
    "nbgrader": {
     "cell_type": "markdown",
     "checksum": "182584c436d688c9ac2d9db44ecc8a30",
     "grade": false,
     "grade_id": "cell-9fe4dc9bd4826207",
     "locked": true,
     "schema_version": 3,
     "solution": false,
     "task": false
    }
   },
   "source": [
    "## Question 2: 65 marks\n",
    "\n",
    "Here is a listing for a function called `partition`, which takes as its argument a list `data`, assumed to be numerical, and two values `indexlo` and `indexhi`. It then does the following.\n",
    "\n",
    "<ul>\n",
    "    <li>Data items with indexes less than <code>indexlo</code> or greater than <code>indexhi</code> are left alone.</li>\n",
    "    <li>The data item with index <code>indexhi</code> is designated as the <b>pivot</b>. The function rearranges the data items with indexes between <code>indexlo</code> and <code>indexhi</code> inclusive, so that it consists of:\n",
    "        <ul>\n",
    "            <li>a sublist all of whose elements are less than or equal to the pivot, followed by...</li>\n",
    "            <li>... the pivot itself, followed by...</li>\n",
    "            <li>... a sublist all of whose elements are greater than or equal to the pivot.</li>\n",
    "        </ul>\n",
    "    </li>\n",
    "    <li>Having rearranged the data in place, it then <em>returns</em> the index corresponding to the new position of the pivot.</li>\n",
    "</ul>\n",
    "\n",
    "You are not required to analyse exactly how this function works."
   ]
  },
  {
   "cell_type": "code",
   "execution_count": 26,
   "id": "fifth-ticket",
   "metadata": {
    "deletable": false,
    "editable": false,
    "nbgrader": {
     "cell_type": "code",
     "checksum": "a91fab5629caf523782ae534ad8152bf",
     "grade": false,
     "grade_id": "cell-e83d781098ccc5d1",
     "locked": true,
     "schema_version": 3,
     "solution": false,
     "task": false
    }
   },
   "outputs": [],
   "source": [
    "def partition(data, indexlo, indexhi):\n",
    "    \"\"\"Partitions data between indexlo and indexhi into sublists. \n",
    "    treating data[indexhi] as the pivot\"\"\"\n",
    "    \n",
    "    # designate the pivot\n",
    "    pivot = data[indexhi]\n",
    "    \n",
    "    # initialize i\n",
    "    i = indexlo\n",
    "    \n",
    "    # loop over j, from indexlo to (indexhi-1)\n",
    "    for j in range(indexlo, indexhi):\n",
    "        # compare current data item with pivot\n",
    "        if data[j] < pivot:\n",
    "            # swap data items i and j, and increment i\n",
    "            data[i], data[j] = data[j], data[i]\n",
    "            i += 1\n",
    "    \n",
    "    # swap data item i with pivot\n",
    "    data[i], data[indexhi] = data[indexhi], data[i]\n",
    "    return i"
   ]
  },
  {
   "cell_type": "markdown",
   "id": "constitutional-place",
   "metadata": {
    "deletable": false,
    "editable": false,
    "nbgrader": {
     "cell_type": "markdown",
     "checksum": "87d0e8ceee1d0c7282aace45d66dd203",
     "grade": false,
     "grade_id": "cell-b3cd9fff816cfcbb",
     "locked": true,
     "schema_version": 3,
     "solution": false,
     "task": false
    }
   },
   "source": [
    "### (i)\n",
    "(a) Test this function. For the data list"
   ]
  },
  {
   "cell_type": "code",
   "execution_count": 84,
   "id": "informative-culture",
   "metadata": {
    "deletable": false,
    "editable": false,
    "nbgrader": {
     "cell_type": "code",
     "checksum": "953c98d88427f9707818d760d64f93de",
     "grade": false,
     "grade_id": "cell-397ff16c9d7271b3",
     "locked": true,
     "schema_version": 3,
     "solution": false,
     "task": false
    }
   },
   "outputs": [],
   "source": [
    "data = [1, 5, 0, 6, 4, 3, 2]"
   ]
  },
  {
   "cell_type": "markdown",
   "id": "responsible-mason",
   "metadata": {
    "deletable": false,
    "editable": false,
    "nbgrader": {
     "cell_type": "markdown",
     "checksum": "9425736ba0409b26d9a4544015ab187e",
     "grade": false,
     "grade_id": "cell-8423053c5d0f6817",
     "locked": true,
     "schema_version": 3,
     "solution": false,
     "task": false
    }
   },
   "source": [
    "running\n",
    "```python\n",
    "partition(data, 0, 6)\n",
    "```\n",
    "should work on all of the data, and should convert it into\n",
    "<ul>\n",
    "    <li>a sublist all of whose elements are less than or equal to 2 followed by...</li>\n",
    "    <li>... 2, followed by...</li>\n",
    "    <li>... a sublist all of whose elements are greater than or equal to 2.</li>\n",
    "</ul>\n",
    "\n",
    "It should return the index corresponding to the new position of 2, which is actually 2.\n",
    "\n",
    "Run some further tests of your own."
   ]
  },
  {
   "cell_type": "code",
   "execution_count": 85,
   "id": "listed-revision",
   "metadata": {
    "deletable": false,
    "nbgrader": {
     "cell_type": "code",
     "checksum": "9a53d87fcaebbc176facaafff044e746",
     "grade": true,
     "grade_id": "cell-dfb685c7dbf4618a",
     "locked": false,
     "points": 4,
     "schema_version": 3,
     "solution": true,
     "task": false
    }
   },
   "outputs": [
    {
     "name": "stdout",
     "output_type": "stream",
     "text": [
      "2 [1, 0, 2, 6, 4, 3, 5]\n",
      "[6 9 7 6 9 7]\n",
      "2 [6 6 7 9 9 7]\n",
      "[ 8 11  1 -3 11 -1  9 -3  3  9  4  9 -4  1  3  2 10 -1  4 -3]\n",
      "3 [ 8 11  1 -3 11 -1  9 -3  3  9  4  9 -4  1  3  2 10 -1  4 -3]\n"
     ]
    }
   ],
   "source": [
    "print(partition(data, 0 , 6), data)\n",
    "\n",
    "import numpy.random as nrnd\n",
    "\n",
    "data1 = nrnd.randint(4, 10, 6)\n",
    "print(data1)\n",
    "print(partition(data1, 0 , 5), data1)\n",
    "\n",
    "data2 = nrnd.randint(-5, 12, 20)\n",
    "print(data2)\n",
    "print(partition(data2, 3 , 7), data2)"
   ]
  },
  {
   "cell_type": "markdown",
   "id": "senior-humanitarian",
   "metadata": {
    "deletable": false,
    "editable": false,
    "nbgrader": {
     "cell_type": "markdown",
     "checksum": "cc70d66c2efa6ec66cc34a2dec19afa7",
     "grade": false,
     "grade_id": "cell-2aea74bc520d155c",
     "locked": true,
     "schema_version": 3,
     "solution": false,
     "task": false
    }
   },
   "source": [
    "(b) How many comparisons of elements were carried out during the execution of the command\n",
    "```python\n",
    "partition(data, 0, 6)\n",
    "```\n",
    "Explain your answer briefly. (Hint: the function contains only one loop: how many iterations does it require?)"
   ]
  },
  {
   "cell_type": "markdown",
   "id": "knowing-madonna",
   "metadata": {
    "deletable": false,
    "nbgrader": {
     "cell_type": "markdown",
     "checksum": "133fee151c71fae1427566bd37728208",
     "grade": true,
     "grade_id": "cell-ede246d9b5e686eb",
     "locked": false,
     "points": 3,
     "schema_version": 3,
     "solution": true,
     "task": false
    }
   },
   "source": [
    "6 iterations as the one loop has a range between 0 and 6 (not inclusive of upper bound) so 6 iterations. "
   ]
  },
  {
   "cell_type": "markdown",
   "id": "sixth-receipt",
   "metadata": {
    "deletable": false,
    "editable": false,
    "nbgrader": {
     "cell_type": "markdown",
     "checksum": "2effb3c7dab87b38bea733ef1a778e40",
     "grade": false,
     "grade_id": "cell-93c088488e14ceef",
     "locked": true,
     "schema_version": 3,
     "solution": false,
     "task": false
    }
   },
   "source": [
    "(c) How many comparisons of elements are necessary in order to partition all the elements of a list of length $n$? Explain your answer briefly."
   ]
  },
  {
   "cell_type": "markdown",
   "id": "desirable-syracuse",
   "metadata": {
    "deletable": false,
    "nbgrader": {
     "cell_type": "markdown",
     "checksum": "238196da8e653f34c5c5f18bb365f568",
     "grade": true,
     "grade_id": "cell-7ab1cf5865a7ea1f",
     "locked": false,
     "points": 3,
     "schema_version": 3,
     "solution": true,
     "task": false
    }
   },
   "source": [
    "n-1 iterations as the one loop required has a range between 0 and n-1 (not inlcusive) which is n-1 iterations. "
   ]
  },
  {
   "cell_type": "markdown",
   "id": "cross-lindsay",
   "metadata": {
    "deletable": false,
    "editable": false,
    "nbgrader": {
     "cell_type": "markdown",
     "checksum": "be23cb6db866d940da967b89cbb9df28",
     "grade": false,
     "grade_id": "cell-e444917f64dc6e95",
     "locked": true,
     "schema_version": 3,
     "solution": false,
     "task": false
    }
   },
   "source": [
    "(d) Amend the code for `partition`, introducing a global variable called `comparison_count`, which should be incremented by 1 every time one data item is compared with another. "
   ]
  },
  {
   "cell_type": "code",
   "execution_count": 43,
   "id": "disabled-tonight",
   "metadata": {
    "deletable": false,
    "nbgrader": {
     "cell_type": "code",
     "checksum": "219c602d1311d8f291d26068a9c93ab2",
     "grade": true,
     "grade_id": "cell-96cfbbedb16d2b3c",
     "locked": false,
     "points": 4,
     "schema_version": 3,
     "solution": true,
     "task": false
    }
   },
   "outputs": [],
   "source": [
    "def partition(data, indexlo, indexhi):\n",
    "    \"\"\"Partitions data between indexlo and indexhi into sublists. \n",
    "    treating data[indexhi] as the pivot\"\"\"\n",
    "    \n",
    "    #global variable called comparison_count\n",
    "    global comparison_count\n",
    "    \n",
    "    # designate the pivot\n",
    "    pivot = data[indexhi]\n",
    "    \n",
    "    # initialize i\n",
    "    i = indexlo\n",
    "    \n",
    "    # loop over j, from indexlo to (indexhi-1)\n",
    "    for j in range(indexlo, indexhi):\n",
    "        # increase comparison count by 1\n",
    "        comparison_count += 1\n",
    "        # compare current data item with pivot\n",
    "        if data[j] < pivot:\n",
    "            # swap data items i and j, and increment i\n",
    "            data[i], data[j] = data[j], data[i]\n",
    "            i += 1\n",
    "    \n",
    "    # swap data item i with pivot\n",
    "    data[i], data[indexhi] = data[indexhi], data[i]\n",
    "    return i"
   ]
  },
  {
   "cell_type": "markdown",
   "id": "nearby-venue",
   "metadata": {
    "deletable": false,
    "editable": false,
    "nbgrader": {
     "cell_type": "markdown",
     "checksum": "a917bb29b47c85f6e23483bef7a4240f",
     "grade": false,
     "grade_id": "cell-bf42354e319659f4",
     "locked": true,
     "schema_version": 3,
     "solution": false,
     "task": false
    }
   },
   "source": [
    "(e) Test your code from part (d) against your answers to parts (b) and (c)."
   ]
  },
  {
   "cell_type": "code",
   "execution_count": 49,
   "id": "threaded-compensation",
   "metadata": {
    "deletable": false,
    "nbgrader": {
     "cell_type": "code",
     "checksum": "db4e7eb101534120609952752a722d4d",
     "grade": true,
     "grade_id": "cell-2ad333a53e696b5b",
     "locked": false,
     "points": 4,
     "schema_version": 3,
     "solution": true,
     "task": false
    }
   },
   "outputs": [
    {
     "name": "stdout",
     "output_type": "stream",
     "text": [
      "6\n",
      "5\n",
      "19\n"
     ]
    }
   ],
   "source": [
    "comparison_count = 0\n",
    "partition(data, 0 , 6)\n",
    "print(comparison_count)\n",
    "\n",
    "# n = 6\n",
    "data1 = nrnd.randint(4, 10, 6)\n",
    "comparison_count = 0\n",
    "partition(data1, 0 , 5)\n",
    "print(comparison_count)\n",
    "\n",
    "# n = 20\n",
    "data2 = nrnd.randint(-5, 12, 20)\n",
    "comparison_count = 0\n",
    "partition(data2, 0 , 19)\n",
    "print(comparison_count)"
   ]
  },
  {
   "cell_type": "markdown",
   "id": "25955737",
   "metadata": {},
   "source": [
    "As you can see the tests above support my results for parts (b) and (c)."
   ]
  },
  {
   "cell_type": "markdown",
   "id": "suspected-tribute",
   "metadata": {},
   "source": [
    "### (ii)\n",
    "\n",
    "A sorting function we'll call `partition_sort` (though that may not be its real name) proceeds as follows.\n",
    "\n",
    "It takes as its arguments a list `data`, assumed to be numerical, and two values `indexlo` and `indexhi`, assumed to be non-negative.\n",
    "\n",
    "This function only does anything if `indexlo < indexhi`; otherwise it does nothing at all.\n",
    "\n",
    "If `indexlo < indexhi`, it runs \n",
    "```python\n",
    "p = partition(data, indexlo, indexhi)\n",
    "```\n",
    "\n",
    "Then it calls itself <b>recursively</b>, running\n",
    "```python\n",
    "partition_sort(data, indexlo, p-1)\n",
    "partition_sort(data, p+1, indexhi)\n",
    "```\n",
    "\n",
    "This function should not return a value.\n",
    "\n",
    "(a) Write an implementation of the function `partition_sort`."
   ]
  },
  {
   "cell_type": "code",
   "execution_count": 51,
   "id": "still-madison",
   "metadata": {
    "deletable": false,
    "nbgrader": {
     "cell_type": "code",
     "checksum": "f72418409058da23bd0f209abbc6f7fc",
     "grade": true,
     "grade_id": "cell-1ad2df73cd2e0c37",
     "locked": false,
     "points": 6,
     "schema_version": 3,
     "solution": true,
     "task": false
    }
   },
   "outputs": [],
   "source": [
    "def partition_sort(data, indexlo, indexhi):\n",
    "    \n",
    "    if indexlo < indexhi:\n",
    "        p = partition(data, indexlo, indexhi)\n",
    "        partition_sort(data, indexlo, p - 1)\n",
    "        partition_sort(data, p + 1, indexhi)"
   ]
  },
  {
   "cell_type": "markdown",
   "id": "foster-township",
   "metadata": {
    "deletable": false,
    "editable": false,
    "nbgrader": {
     "cell_type": "markdown",
     "checksum": "9f3eb04dcd6a784a098208c605b894bf",
     "grade": false,
     "grade_id": "cell-b08d074b0c746621",
     "locked": true,
     "schema_version": 3,
     "solution": false,
     "task": false
    }
   },
   "source": [
    "(b) Test your function: running\n",
    "```\n",
    "data = [1, 5, 0, 6, 4, 3, 2]\n",
    "partition_sort(data, 0, 6)\n",
    "```\n",
    "should sort `data` in place, making it equal to `[0, 1, 2, 3, 4, 5, 6]`.\n",
    "\n",
    "Run some further tests of your own."
   ]
  },
  {
   "cell_type": "code",
   "execution_count": 55,
   "id": "wanted-fundamental",
   "metadata": {
    "deletable": false,
    "nbgrader": {
     "cell_type": "code",
     "checksum": "59868833b3324762aaf5ebcb73318ad1",
     "grade": true,
     "grade_id": "cell-7e976cb9b0bd9a14",
     "locked": false,
     "points": 4,
     "schema_version": 3,
     "solution": true,
     "task": false
    }
   },
   "outputs": [
    {
     "name": "stdout",
     "output_type": "stream",
     "text": [
      "[0, 1, 2, 3, 4, 5, 6]\n",
      "[9 9 9 8 5 5]\n",
      "[5 5 8 9 9 9]\n",
      "[10  7  4 -1 -2  6  8 -1 11  0 -5 -4 -1 -3 -2  1  7  2  8 10]\n",
      "[-5 -4 -3 -2 -2 -1 -1 -1  0  1  2  4  6  7  7  8  8 10 10 11]\n"
     ]
    }
   ],
   "source": [
    "data = [1, 5, 0, 6, 4, 3, 2]\n",
    "partition_sort(data, 0, 6)\n",
    "print(data)\n",
    "\n",
    "data1 = nrnd.randint(4, 10, 6)\n",
    "print(data1)\n",
    "partition_sort(data1, 0 , 5)\n",
    "print(data1)\n",
    "\n",
    "data2 = nrnd.randint(-5, 12, 20)\n",
    "print(data2)\n",
    "partition_sort(data2, 0 , 19)\n",
    "print(data2)"
   ]
  },
  {
   "cell_type": "markdown",
   "id": "devoted-biotechnology",
   "metadata": {
    "deletable": false,
    "editable": false,
    "nbgrader": {
     "cell_type": "markdown",
     "checksum": "62378920bbf2748ba989820414274262",
     "grade": false,
     "grade_id": "cell-22094c65449012e2",
     "locked": true,
     "schema_version": 3,
     "solution": false,
     "task": false
    }
   },
   "source": [
    "(c) Using your `comparison_count` variable, or otherwise, find how many comparisons are necessary in order to sort, completely, the data \n",
    "```python\n",
    "data = [1, 5, 0, 6, 4, 3, 2]\n",
    "```"
   ]
  },
  {
   "cell_type": "code",
   "execution_count": 61,
   "id": "disturbed-challenge",
   "metadata": {
    "deletable": false,
    "nbgrader": {
     "cell_type": "code",
     "checksum": "52cbb0aec6a7f0464b721c2a3ab9a423",
     "grade": true,
     "grade_id": "cell-0b7ecb1768a0b4f5",
     "locked": false,
     "points": 3,
     "schema_version": 3,
     "solution": true,
     "task": false
    }
   },
   "outputs": [
    {
     "name": "stdout",
     "output_type": "stream",
     "text": [
      "11\n"
     ]
    }
   ],
   "source": [
    "comparison_count = 0\n",
    "\n",
    "data = [1, 5, 0, 6, 4, 3, 2]\n",
    "partition_sort(data, 0, 6)\n",
    "\n",
    "print(comparison_count)"
   ]
  },
  {
   "cell_type": "markdown",
   "id": "chemical-remainder",
   "metadata": {
    "deletable": false,
    "editable": false,
    "nbgrader": {
     "cell_type": "markdown",
     "checksum": "469a31c2f3327c2c7f331bf012722a39",
     "grade": false,
     "grade_id": "cell-0133fecefde73290",
     "locked": true,
     "schema_version": 3,
     "solution": false,
     "task": false
    }
   },
   "source": [
    "(d) The `partition` function takes a data list of length $n$, and partitions it into sublists of length $p$ and $n-p-1$, where $p$ is the index of the pivot--that is, the number returned by the function. In `partition_sort`, these smaller sublists are then partitioned, and so on recursively.\n",
    "\n",
    "Suppose you are sorting a data list of length $7$. Explain why one possible \"worst case\" corresponds to the data being already sorted, and state, with reasons, how many comparisons this involves."
   ]
  },
  {
   "cell_type": "markdown",
   "id": "serial-buffer",
   "metadata": {
    "deletable": false,
    "nbgrader": {
     "cell_type": "markdown",
     "checksum": "d868222dcb938429e266af84aa9bf980",
     "grade": true,
     "grade_id": "cell-8aed49855d6d4946",
     "locked": false,
     "points": 6,
     "schema_version": 3,
     "solution": true,
     "task": false
    }
   },
   "source": []
  },
  {
   "cell_type": "markdown",
   "id": "italian-chance",
   "metadata": {
    "deletable": false,
    "editable": false,
    "nbgrader": {
     "cell_type": "markdown",
     "checksum": "a7bc6cd332669d349dc7ec2f2e5cf09d",
     "grade": false,
     "grade_id": "cell-3823998bdfd923a0",
     "locked": true,
     "schema_version": 3,
     "solution": false,
     "task": false
    }
   },
   "source": [
    "(e) Illustrate your answer to part (d) using `comparison_count`."
   ]
  },
  {
   "cell_type": "code",
   "execution_count": 86,
   "id": "temporal-titanium",
   "metadata": {
    "deletable": false,
    "nbgrader": {
     "cell_type": "code",
     "checksum": "65dd8736ab64dd1ae40cddb8ca6b5341",
     "grade": true,
     "grade_id": "cell-0afb109c0f24a68d",
     "locked": false,
     "points": 3,
     "schema_version": 3,
     "solution": true,
     "task": false
    }
   },
   "outputs": [
    {
     "name": "stdout",
     "output_type": "stream",
     "text": [
      "21\n"
     ]
    }
   ],
   "source": [
    "comparison_count = 0\n",
    "\n",
    "data = [1, 2, 3, 4, 5, 6, 7]\n",
    "partition_sort(data, 0, 6)\n",
    "\n",
    "print(comparison_count)"
   ]
  },
  {
   "cell_type": "markdown",
   "id": "statistical-diameter",
   "metadata": {
    "deletable": false,
    "editable": false,
    "nbgrader": {
     "cell_type": "markdown",
     "checksum": "6bf876c858f71881b65bcb99a20f048a",
     "grade": false,
     "grade_id": "cell-489f114256587210",
     "locked": true,
     "schema_version": 3,
     "solution": false,
     "task": false
    }
   },
   "source": [
    "(f) In the worst case, how many comparisons are necessary to sort a list of length $n$ using `partition_sort`? Briefly explain."
   ]
  },
  {
   "cell_type": "markdown",
   "id": "elementary-shanghai",
   "metadata": {
    "deletable": false,
    "nbgrader": {
     "cell_type": "markdown",
     "checksum": "67cc4c94406bf2e019337149b7be8eb3",
     "grade": true,
     "grade_id": "cell-ca408be1d329c633",
     "locked": false,
     "points": 7,
     "schema_version": 3,
     "solution": true,
     "task": false
    }
   },
   "source": [
    "nC2\n",
    "\n",
    "This is because "
   ]
  },
  {
   "cell_type": "markdown",
   "id": "reflected-contract",
   "metadata": {
    "deletable": false,
    "editable": false,
    "nbgrader": {
     "cell_type": "markdown",
     "checksum": "15121659ad512eb89296ac6b831a3941",
     "grade": false,
     "grade_id": "cell-04c1aa0404d2d139",
     "locked": true,
     "schema_version": 3,
     "solution": false,
     "task": false
    }
   },
   "source": [
    "### (iii)\n",
    "<em>The questions in this final section are designed to be more challenging.</em>\n",
    "\n",
    "(a) Explain why in the best case, <em>ten</em> comparisons are necessary in order to sort a list of length 7."
   ]
  },
  {
   "cell_type": "markdown",
   "id": "coupled-inquiry",
   "metadata": {
    "deletable": false,
    "nbgrader": {
     "cell_type": "markdown",
     "checksum": "cdf0b5a326df8f0981bfe34e25775e34",
     "grade": true,
     "grade_id": "cell-53fe04efdff5b56e",
     "locked": false,
     "points": 5,
     "schema_version": 3,
     "solution": true,
     "task": false
    }
   },
   "source": [
    "YOUR ANSWER HERE"
   ]
  },
  {
   "cell_type": "markdown",
   "id": "complete-shift",
   "metadata": {
    "deletable": false,
    "editable": false,
    "nbgrader": {
     "cell_type": "markdown",
     "checksum": "58d8ffcb6d23c185fb94bb984600572c",
     "grade": false,
     "grade_id": "cell-a495965005c72795",
     "locked": true,
     "schema_version": 3,
     "solution": false,
     "task": false
    }
   },
   "source": [
    "(b) Give an example of a list of length 7 that constitutes a best case, and demonstrate that it requires ten comparisons."
   ]
  },
  {
   "cell_type": "code",
   "execution_count": null,
   "id": "hollow-group",
   "metadata": {
    "deletable": false,
    "nbgrader": {
     "cell_type": "code",
     "checksum": "bf8f4e34af179d29d7d3fde600bd3b11",
     "grade": true,
     "grade_id": "cell-0eb5dafd8ede9c4e",
     "locked": false,
     "points": 6,
     "schema_version": 3,
     "solution": true,
     "task": false
    }
   },
   "outputs": [],
   "source": [
    "# YOUR CODE HERE\n",
    "raise NotImplementedError()"
   ]
  },
  {
   "cell_type": "markdown",
   "id": "referenced-domestic",
   "metadata": {},
   "source": [
    "(c) In the best case, how many comparisons are necessary to sort a list of length $n=2^m-1$ using `partition_sort`? Briefly explain."
   ]
  },
  {
   "cell_type": "markdown",
   "id": "furnished-utility",
   "metadata": {
    "deletable": false,
    "nbgrader": {
     "cell_type": "markdown",
     "checksum": "98dd0832e80f4963ead50d0293440a26",
     "grade": true,
     "grade_id": "cell-87d48cfec5df45f0",
     "locked": false,
     "points": 7,
     "schema_version": 3,
     "solution": true,
     "task": false
    }
   },
   "source": [
    "YOUR ANSWER HERE"
   ]
  },
  {
   "cell_type": "code",
   "execution_count": null,
   "id": "stable-spray",
   "metadata": {},
   "outputs": [],
   "source": []
  }
 ],
 "metadata": {
  "kernelspec": {
   "display_name": "Python 3",
   "language": "python",
   "name": "python3"
  },
  "language_info": {
   "codemirror_mode": {
    "name": "ipython",
    "version": 3
   },
   "file_extension": ".py",
   "mimetype": "text/x-python",
   "name": "python",
   "nbconvert_exporter": "python",
   "pygments_lexer": "ipython3",
   "version": "3.8.8"
  }
 },
 "nbformat": 4,
 "nbformat_minor": 5
}
