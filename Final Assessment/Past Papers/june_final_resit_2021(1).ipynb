{
 "cells": [
  {
   "cell_type": "code",
   "execution_count": 1,
   "id": "bearing-board",
   "metadata": {},
   "outputs": [],
   "source": [
    "import numpy as np\n",
    "import matplotlib.pyplot as plt\n",
    "%matplotlib inline"
   ]
  },
  {
   "cell_type": "markdown",
   "id": "applicable-pipeline",
   "metadata": {
    "deletable": false,
    "editable": false,
    "nbgrader": {
     "cell_type": "markdown",
     "checksum": "96ecdb2c34bcc1e972a816e348c2fbc6",
     "grade": false,
     "grade_id": "cell-24f422d4ef3ea10e",
     "locked": true,
     "schema_version": 3,
     "solution": false,
     "task": false
    }
   },
   "source": [
    "# M40006 In-Course Assessment Resit\n",
    "\n",
    "# 25 June 2021, 9-11 am\n",
    "\n",
    "## Two Hours\n",
    "\n",
    "### Answer all questions, submitting your answers as a single Jupyter notebook."
   ]
  },
  {
   "cell_type": "markdown",
   "id": "separate-collective",
   "metadata": {
    "deletable": false,
    "editable": false,
    "nbgrader": {
     "cell_type": "markdown",
     "checksum": "3b5f4d19acfcaf9c227b3af27fe19c46",
     "grade": false,
     "grade_id": "cell-4ce60e416ef6f41d",
     "locked": true,
     "schema_version": 3,
     "solution": false,
     "task": false
    }
   },
   "source": [
    "## Question 1 (20 marks)\n",
    "\n",
    "A <b>binary tree</b> is a branching data structure resembling a family tree. Each data item may have at most two \"children\", and there can be as many \"generations\" as we like.\n",
    "\n",
    "A Python list can be used to represent a certain type of binary tree, using the rule \"The data item at position $i$ has its children at positions $2i+1$ and $2i+2$, if those positions exist.\"\n",
    "\n",
    "The following function takes as its argument a Python list, tuple or array, and shows it as a binary tree, using the above rule:"
   ]
  },
  {
   "cell_type": "code",
   "execution_count": 2,
   "id": "statistical-might",
   "metadata": {
    "deletable": false,
    "editable": false,
    "nbgrader": {
     "cell_type": "code",
     "checksum": "2cbaad28917187dff6d2fbe50d522ad2",
     "grade": false,
     "grade_id": "cell-97dcca3bca9bd102",
     "locked": true,
     "schema_version": 3,
     "solution": false,
     "task": false
    }
   },
   "outputs": [],
   "source": [
    "def plotTree(data):\n",
    "    \"\"\"\n",
    "    Plots a python list in the form of a 'family' tree, in which each data element at\n",
    "    position i is treated as the 'parent' of the elements at positions (2*i+1) and (2*i+2),\n",
    "    if they exist.\n",
    "    \"\"\"\n",
    "    import numpy as np\n",
    "    import matplotlib.pyplot as plt\n",
    "    \n",
    "    # number of data items and number of rows\n",
    "    n = len(data)\n",
    "    nrows = int(np.ceil(np.log2(len(data)+1)))\n",
    "    \n",
    "    # positions of points for plot, as a list and as an array\n",
    "    points = [[0,0]] + [[2**(nrows-row-1)*(2*r+1),-row] \\\n",
    "                        for row in range(1,nrows) for r in range(-2**(row-1),2**(row-1))]\n",
    "    points = points[0:n]\n",
    "    pointsArray = np.array(points)\n",
    "    \n",
    "    # plot the edges in the tree\n",
    "    for row in range(nrows-1):\n",
    "        for parentIndex in range(2**row-1,2**(row+1)-1):\n",
    "            # left and right child positions\n",
    "            leftChildIndex = 2*parentIndex+1\n",
    "            rightChildIndex = 2*parentIndex+2\n",
    "            # does this parent have any children at all?\n",
    "            if leftChildIndex < len(data):\n",
    "                # line between left child and parent\n",
    "                group = [points[leftChildIndex],points[parentIndex]]\n",
    "                # does this parent have a right child?\n",
    "                if rightChildIndex < len(data):\n",
    "                    # extend line between parent and right child\n",
    "                    group += [points[rightChildIndex]]\n",
    "                # plot the line\n",
    "                groupArray = np.array(group)\n",
    "                plt.plot(groupArray[:,0],groupArray[:,1],'b') \n",
    "                \n",
    "    # plot nodes of tree\n",
    "    plt.plot(pointsArray[:,0],pointsArray[:,1],'ro',markersize=30)\n",
    "    \n",
    "    # insert data at nodes\n",
    "    for r in range(n):\n",
    "        plt.text(pointsArray[r,0],pointsArray[r,1],data[r],fontsize=14,ha='center',va='center')\n",
    "    \n",
    "    # delete axis ticks\n",
    "    plt.tick_params(\n",
    "        bottom=False,\n",
    "        top=False,\n",
    "        left=False,\n",
    "        right=False,\n",
    "        labelbottom=False,\n",
    "        labelleft=False\n",
    "    )"
   ]
  },
  {
   "cell_type": "markdown",
   "id": "significant-active",
   "metadata": {
    "deletable": false,
    "editable": false,
    "nbgrader": {
     "cell_type": "markdown",
     "checksum": "93685d3a701619b5452f27aba600c9c6",
     "grade": false,
     "grade_id": "cell-ceef92ba5110b4c3",
     "locked": true,
     "schema_version": 3,
     "solution": false,
     "task": false
    }
   },
   "source": [
    "(a) Using this function, show the binary tree corresponding to the list [1, 4, 2, 5, 3, 6, 0]."
   ]
  },
  {
   "cell_type": "code",
   "execution_count": 3,
   "id": "boring-account",
   "metadata": {
    "deletable": false,
    "nbgrader": {
     "cell_type": "code",
     "checksum": "812c411af08045957738762b4f94979a",
     "grade": true,
     "grade_id": "cell-49c60309ce80a214",
     "locked": false,
     "points": 3,
     "schema_version": 3,
     "solution": true,
     "task": false
    }
   },
   "outputs": [
    {
     "data": {
      "image/png": "[encoded data removed]",
      "text/plain": [
       "<Figure size 432x288 with 1 Axes>"
      ]
     },
     "metadata": {},
     "output_type": "display_data"
    }
   ],
   "source": [
    "plotTree([1, 4, 2, 5, 3, 6, 0])"
   ]
  },
  {
   "cell_type": "markdown",
   "id": "spanish-mount",
   "metadata": {
    "deletable": false,
    "editable": false,
    "nbgrader": {
     "cell_type": "markdown",
     "checksum": "ce095b1f13c695154f83aec3fd53c17f",
     "grade": false,
     "grade_id": "cell-83bd0fabb4c80ce3",
     "locked": true,
     "schema_version": 3,
     "solution": false,
     "task": false
    }
   },
   "source": [
    "(b) What are the children of the data item 2?"
   ]
  },
  {
   "cell_type": "markdown",
   "id": "defensive-movement",
   "metadata": {
    "deletable": false,
    "nbgrader": {
     "cell_type": "markdown",
     "checksum": "327348dfa57f2647abbb01f98e0c4284",
     "grade": true,
     "grade_id": "cell-58bbee0d2d421f5f",
     "locked": false,
     "points": 3,
     "schema_version": 3,
     "solution": true,
     "task": false
    }
   },
   "source": [
    "6 and 0"
   ]
  },
  {
   "cell_type": "markdown",
   "id": "judicial-crawford",
   "metadata": {
    "deletable": false,
    "editable": false,
    "nbgrader": {
     "cell_type": "markdown",
     "checksum": "1515dbd9adc4ad300ad06c8e58a50a86",
     "grade": false,
     "grade_id": "cell-d694a81aded31bc1",
     "locked": true,
     "schema_version": 3,
     "solution": false,
     "task": false
    }
   },
   "source": [
    "(c) What is the parent of the data item 5?"
   ]
  },
  {
   "cell_type": "markdown",
   "id": "afraid-basement",
   "metadata": {
    "deletable": false,
    "nbgrader": {
     "cell_type": "markdown",
     "checksum": "9c25b66a34e766b6cfc35d9bf1f184fe",
     "grade": true,
     "grade_id": "cell-5c95786692e2d442",
     "locked": false,
     "points": 3,
     "schema_version": 3,
     "solution": true,
     "task": false
    }
   },
   "source": [
    "4"
   ]
  },
  {
   "cell_type": "markdown",
   "id": "disturbed-promotion",
   "metadata": {
    "deletable": false,
    "editable": false,
    "nbgrader": {
     "cell_type": "markdown",
     "checksum": "0bd6d51c21471a18c6a65a7a642e8654",
     "grade": false,
     "grade_id": "cell-36e459e0b0c1da4c",
     "locked": true,
     "schema_version": 3,
     "solution": false,
     "task": false
    }
   },
   "source": [
    "A binary tree is known as a <b>max heap</b> if the value of every parent is greater than or equal to the values of each of its children.\n",
    "\n",
    "(d) Explain briefly why the list [1, 4, 2, 5, 3, 6, 0] does not represent a max heap."
   ]
  },
  {
   "cell_type": "markdown",
   "id": "signed-leadership",
   "metadata": {
    "deletable": false,
    "nbgrader": {
     "cell_type": "markdown",
     "checksum": "f6635f8c8400a08d3ccb7919b3618e0c",
     "grade": true,
     "grade_id": "cell-e6dbc6846fa5af77",
     "locked": false,
     "points": 4,
     "schema_version": 3,
     "solution": true,
     "task": false
    }
   },
   "source": [
    "The 'root' parent has a value of 1 and its children are 4 and 2 which are both greater than the parent so it is not a max heap."
   ]
  },
  {
   "cell_type": "markdown",
   "id": "adjusted-moldova",
   "metadata": {
    "deletable": false,
    "editable": false,
    "nbgrader": {
     "cell_type": "markdown",
     "checksum": "448f1f32ae0bd044239cd6eb8346a7eb",
     "grade": false,
     "grade_id": "cell-ca96100839f05ce0",
     "locked": true,
     "schema_version": 3,
     "solution": false,
     "task": false
    }
   },
   "source": [
    "(e) Find a list containing an arrangement of the integers between 0 and 6 inclusive that does represent a max heap, and illustrate this using `plotTree`."
   ]
  },
  {
   "cell_type": "code",
   "execution_count": 4,
   "id": "committed-violence",
   "metadata": {
    "deletable": false,
    "nbgrader": {
     "cell_type": "code",
     "checksum": "47b835db323a57b1c0e5558e4b249635",
     "grade": true,
     "grade_id": "cell-fd1f80b9933d4b21",
     "locked": false,
     "points": 7,
     "schema_version": 3,
     "solution": true,
     "task": false
    }
   },
   "outputs": [
    {
     "data": {
      "image/png": "[encoded data removed]",
      "text/plain": [
       "<Figure size 432x288 with 1 Axes>"
      ]
     },
     "metadata": {},
     "output_type": "display_data"
    }
   ],
   "source": [
    "plotTree([6, 4, 5, 0, 1, 2, 3])"
   ]
  },
  {
   "cell_type": "markdown",
   "id": "settled-librarian",
   "metadata": {
    "deletable": false,
    "editable": false,
    "nbgrader": {
     "cell_type": "markdown",
     "checksum": "64fe1fbcb73467d4335c79726fb5b903",
     "grade": false,
     "grade_id": "cell-8259b4ce10d8ea06",
     "locked": true,
     "schema_version": 3,
     "solution": false,
     "task": false
    }
   },
   "source": [
    "## Question 2 (35 marks)\n",
    "\n",
    "It is useful to be able to convert any given binary tree into a max heap. The key to doing that is by finding any parents that are less than either of their children, and swapping the position of parent and child.\n",
    "\n",
    "The following function does this. It takes three arguments: a list of data representing a binary tree, a maximum length (data after this is ignored, for reasons we'll come to) and a parent position. It then checks whether the parent is less than either of its children, and if so, swaps the positions of the parent and the greatest child."
   ]
  },
  {
   "cell_type": "code",
   "execution_count": 5,
   "id": "proof-duplicate",
   "metadata": {
    "deletable": false,
    "editable": false,
    "nbgrader": {
     "cell_type": "code",
     "checksum": "c2a084bc059c841d4606b5f6c02b4666",
     "grade": false,
     "grade_id": "cell-391b57c0a74ebf97",
     "locked": true,
     "schema_version": 3,
     "solution": false,
     "task": false
    }
   },
   "outputs": [],
   "source": [
    "def swapNodes(data, length, parentPosition):\n",
    "    \"\"\"\n",
    "    Checks whether a given parent is less than either of its children and, if so, \n",
    "    swaps positions with the child whose value is greatest.\n",
    "    \"\"\"\n",
    "    \n",
    "    # positions of children in the list\n",
    "    leftChildPosition, rightChildPosition = 2*parentPosition + 1, 2*parentPosition + 2\n",
    "    # current maximum is parent\n",
    "    maxPosition = parentPosition\n",
    "    \n",
    "    # is left child among the data we're considering?\n",
    "    if leftChildPosition < length:\n",
    "        # is parent smaller than left child?\n",
    "        if data[maxPosition] < data[leftChildPosition]:\n",
    "            # current maximum is left child\n",
    "            maxPosition = leftChildPosition\n",
    "    \n",
    "    # is right child among the data we're considering?\n",
    "    if rightChildPosition < length:\n",
    "        # is parent smaller than right child?\n",
    "        if data[maxPosition] < data[rightChildPosition]:\n",
    "            # current maximum is right child\n",
    "            maxPosition = rightChildPosition\n",
    "    \n",
    "    # is a swap necessary?\n",
    "    if parentPosition != maxPosition:\n",
    "        # perform swap\n",
    "        data[parentPosition], data[maxPosition] = data[maxPosition], data[parentPosition]"
   ]
  },
  {
   "cell_type": "markdown",
   "id": "aging-booking",
   "metadata": {
    "deletable": false,
    "editable": false,
    "nbgrader": {
     "cell_type": "markdown",
     "checksum": "8f4794620e271b5ba4564186440357ac",
     "grade": false,
     "grade_id": "cell-3ab542d78af133cf",
     "locked": true,
     "schema_version": 3,
     "solution": false,
     "task": false
    }
   },
   "source": [
    "Note that this function rearranges in place, rather than returning a value.\n",
    "\n",
    "(a) Test the function by setting\n",
    "\n",
    "```python\n",
    "data = [1, 4, 2, 5, 3, 6, 0] \n",
    "```\n",
    "\n",
    "and then attempting a swap at parent position 0, with `length` set to 7. Explain briefly how you know it has worked."
   ]
  },
  {
   "cell_type": "code",
   "execution_count": 6,
   "id": "fitting-ordinary",
   "metadata": {
    "deletable": false,
    "nbgrader": {
     "cell_type": "code",
     "checksum": "95c3f6ccbc5a7cd06399a43665c812a7",
     "grade": true,
     "grade_id": "cell-4450bbe9f39bd9d6",
     "locked": false,
     "points": 4,
     "schema_version": 3,
     "solution": true,
     "task": false
    }
   },
   "outputs": [
    {
     "name": "stdout",
     "output_type": "stream",
     "text": [
      "[4, 1, 2, 5, 3, 6, 0]\n"
     ]
    },
    {
     "data": {
      "image/png": "[encoded data removed]",
      "text/plain": [
       "<Figure size 432x288 with 1 Axes>"
      ]
     },
     "metadata": {},
     "output_type": "display_data"
    }
   ],
   "source": [
    "data = [1, 4, 2, 5, 3, 6, 0] \n",
    "swapNodes(data, 7, 0)\n",
    "print(data)\n",
    "plotTree(data)"
   ]
  },
  {
   "cell_type": "markdown",
   "id": "positive-agent",
   "metadata": {
    "deletable": false,
    "nbgrader": {
     "cell_type": "markdown",
     "checksum": "0fbe233f6d05a6a781ae2d69153fe0d9",
     "grade": true,
     "grade_id": "cell-b42e997f52d978c8",
     "locked": false,
     "points": 2,
     "schema_version": 3,
     "solution": true,
     "task": false
    }
   },
   "source": [
    "The value of position 0 is 4 which is greater than both its children, 1 and 2."
   ]
  },
  {
   "cell_type": "markdown",
   "id": "progressive-colombia",
   "metadata": {
    "deletable": false,
    "editable": false,
    "nbgrader": {
     "cell_type": "markdown",
     "checksum": "14756ac654034dda202eff6b67e68952",
     "grade": false,
     "grade_id": "cell-26fde6a751b5d80d",
     "locked": true,
     "schema_version": 3,
     "solution": false,
     "task": false
    }
   },
   "source": [
    "To be useful, the `swapNodes` function needs not just to perform one swap, but as many as are necessary in order to move the parent as low as it will go in the tree. \n",
    "\n",
    "So, in our example, after we've swapped at parent position 0, and the value 1 has swapped with 4 and moved to position 1, we then need to swap at parent position 1, so the value 1 gets swapped with 5, and moves down to position 3.\n",
    "\n",
    "(b) Add a line to the `swapNodes` function so that if a swap is necessary, it not only performs that swap, but then <i>calls itself recursively</i>, with the same values of `data` and `length`, but with the new `parentPosition` set to `maxPosition`. "
   ]
  },
  {
   "cell_type": "code",
   "execution_count": 7,
   "id": "fatty-dayton",
   "metadata": {
    "deletable": false,
    "nbgrader": {
     "cell_type": "code",
     "checksum": "8a3bcc845adfdfef37a7f833c7522c07",
     "grade": true,
     "grade_id": "cell-c6a349478dd4fb3f",
     "locked": false,
     "points": 5,
     "schema_version": 3,
     "solution": true,
     "task": false
    }
   },
   "outputs": [],
   "source": [
    "def swapNodes(data, length, parentPosition):\n",
    "    \"\"\"\n",
    "    Checks whether a given parent is less than either of its children and, if so, \n",
    "    swaps positions with the child whose value is greatest.\n",
    "    \"\"\"\n",
    "    \n",
    "    # positions of children in the list\n",
    "    leftChildPosition, rightChildPosition = 2*parentPosition + 1, 2*parentPosition + 2\n",
    "    # current maximum is parent\n",
    "    maxPosition = parentPosition\n",
    "    \n",
    "    # is left child among the data we're considering?\n",
    "    if leftChildPosition < length:\n",
    "        # is parent smaller than left child?\n",
    "        if data[maxPosition] < data[leftChildPosition]:\n",
    "            # current maximum is left child\n",
    "            maxPosition = leftChildPosition\n",
    "    \n",
    "    # is right child among the data we're considering?\n",
    "    if rightChildPosition < length:\n",
    "        # is parent smaller than right child?\n",
    "        if data[maxPosition] < data[rightChildPosition]:\n",
    "            # current maximum is right child\n",
    "            maxPosition = rightChildPosition\n",
    "    \n",
    "    # is a swap necessary?\n",
    "    if parentPosition != maxPosition:\n",
    "        # perform swap\n",
    "        data[parentPosition], data[maxPosition] = data[maxPosition], data[parentPosition]\n",
    "        swapNodes(data, length, maxPosition)"
   ]
  },
  {
   "cell_type": "markdown",
   "id": "graduate-morrison",
   "metadata": {
    "deletable": false,
    "editable": false,
    "nbgrader": {
     "cell_type": "markdown",
     "checksum": "3ff6d41a1da8d719fa8b5311166974cf",
     "grade": false,
     "grade_id": "cell-14b6030f4078c48e",
     "locked": true,
     "schema_version": 3,
     "solution": false,
     "task": false
    }
   },
   "source": [
    "(c) Test your amended function using\n",
    "\n",
    "```python\n",
    "data = [1, 4, 2, 5, 3, 6, 0] \n",
    "```\n",
    "\n",
    "You should end up with\n",
    "```\n",
    "[4, 5, 2, 1, 3, 6, 0]\n",
    "```\n",
    "\n",
    "Briefly explain how you know this means it has worked."
   ]
  },
  {
   "cell_type": "code",
   "execution_count": 8,
   "id": "retired-tampa",
   "metadata": {
    "deletable": false,
    "nbgrader": {
     "cell_type": "code",
     "checksum": "0e888e9800ce84a05b7475460147e554",
     "grade": true,
     "grade_id": "cell-4bcb13b8cae4d77a",
     "locked": false,
     "points": 4,
     "schema_version": 3,
     "solution": true,
     "task": false
    }
   },
   "outputs": [
    {
     "name": "stdout",
     "output_type": "stream",
     "text": [
      "[4, 5, 2, 1, 3, 6, 0]\n"
     ]
    },
    {
     "data": {
      "image/png": "[encoded data removed]",
      "text/plain": [
       "<Figure size 432x288 with 1 Axes>"
      ]
     },
     "metadata": {},
     "output_type": "display_data"
    }
   ],
   "source": [
    "data = [1, 4, 2, 5, 3, 6, 0] \n",
    "swapNodes(data, 7, 0)\n",
    "print(data)\n",
    "plotTree(data)"
   ]
  },
  {
   "cell_type": "markdown",
   "id": "inappropriate-camel",
   "metadata": {
    "deletable": false,
    "nbgrader": {
     "cell_type": "markdown",
     "checksum": "9ac5994409e138d42c502035e20f0df8",
     "grade": true,
     "grade_id": "cell-be5a1cd5cdfbe522",
     "locked": false,
     "points": 2,
     "schema_version": 3,
     "solution": true,
     "task": false
    }
   },
   "source": [
    "The parent in postion 1 has value 5 which is greater than the value of its two children of value 1 and 3."
   ]
  },
  {
   "cell_type": "markdown",
   "id": "fallen-radiation",
   "metadata": {
    "deletable": false,
    "editable": false,
    "nbgrader": {
     "cell_type": "markdown",
     "checksum": "32c31b4ce1a8792549a528a03e69c058",
     "grade": false,
     "grade_id": "cell-b1fd368c07877b26",
     "locked": true,
     "schema_version": 3,
     "solution": false,
     "task": false
    }
   },
   "source": [
    "(d) Set \n",
    "```python\n",
    "data = [1, 4, 2, 5, 3, 6, 0] \n",
    "```\n",
    "again, and show that if the recursive version of `swapNodes` is applied to this data first at parent position 2, then at parent position 1, then at parent position 0, with `length` set to 7 each time, the result is a max heap."
   ]
  },
  {
   "cell_type": "code",
   "execution_count": 9,
   "id": "given-habitat",
   "metadata": {
    "deletable": false,
    "nbgrader": {
     "cell_type": "code",
     "checksum": "e28ae152d6d5be33db00ec61e2218b6c",
     "grade": true,
     "grade_id": "cell-33807d50e4e324f1",
     "locked": false,
     "points": 6,
     "schema_version": 3,
     "solution": true,
     "task": false
    }
   },
   "outputs": [
    {
     "name": "stdout",
     "output_type": "stream",
     "text": [
      "[6, 5, 2, 4, 3, 1, 0]\n"
     ]
    },
    {
     "data": {
      "image/png": "[encoded data removed]",
      "text/plain": [
       "<Figure size 432x288 with 1 Axes>"
      ]
     },
     "metadata": {},
     "output_type": "display_data"
    }
   ],
   "source": [
    "data = [1, 4, 2, 5, 3, 6, 0] \n",
    "for i in range(2, -1, -1):\n",
    "    swapNodes(data, 7, i)\n",
    "print(data)\n",
    "plotTree(data)"
   ]
  },
  {
   "cell_type": "markdown",
   "id": "configured-laser",
   "metadata": {
    "deletable": false,
    "editable": false,
    "nbgrader": {
     "cell_type": "markdown",
     "checksum": "c061cb28d1a99d99cb02d50cfdd93e39",
     "grade": false,
     "grade_id": "cell-47c71f69b6edf16e",
     "locked": true,
     "schema_version": 3,
     "solution": false,
     "task": false
    }
   },
   "source": [
    "(e) Briefly explain why this works for any list of length 7."
   ]
  },
  {
   "cell_type": "markdown",
   "id": "adapted-building",
   "metadata": {
    "deletable": false,
    "nbgrader": {
     "cell_type": "markdown",
     "checksum": "3aaf3a13b94914347dc1e5d20e0eb485",
     "grade": true,
     "grade_id": "cell-ae0664df29123b1e",
     "locked": false,
     "points": 3,
     "schema_version": 3,
     "solution": true,
     "task": false
    }
   },
   "source": [
    "It sorts the parents in positions 1 and 2 first so that they follow the rules for a max heap then does this for the parent in postion ensuring this also follows the rules for a max heap so then every point follows the rules of a max heap."
   ]
  },
  {
   "cell_type": "markdown",
   "id": "personalized-function",
   "metadata": {
    "deletable": false,
    "editable": false,
    "nbgrader": {
     "cell_type": "markdown",
     "checksum": "bdf72bb288fc3c88338a14b98263bdd6",
     "grade": false,
     "grade_id": "cell-1cc2988633aa88ef",
     "locked": true,
     "schema_version": 3,
     "solution": false,
     "task": false
    }
   },
   "source": [
    "(f) For a list of length 7, we start at parent position 2 and work backwards; in general, for a list of length n, we can start at parent position `n//2-1` and work backwards.\n",
    "\n",
    "Write a function called `toMaxHeap` that takes any list of numbers and, by applying `swapNodes` in this way, converts it into a max heap."
   ]
  },
  {
   "cell_type": "code",
   "execution_count": 10,
   "id": "presidential-pioneer",
   "metadata": {
    "deletable": false,
    "nbgrader": {
     "cell_type": "code",
     "checksum": "97c520082cb739a738b53e824ffdc345",
     "grade": true,
     "grade_id": "cell-7351066a445f2726",
     "locked": false,
     "points": 5,
     "schema_version": 3,
     "solution": true,
     "task": false
    }
   },
   "outputs": [],
   "source": [
    "def toMaxHeap(data):\n",
    "    length = len(data)\n",
    "    for i in range(length // 2 - 1, -1, -1):\n",
    "        swapNodes(data, length, i)"
   ]
  },
  {
   "cell_type": "markdown",
   "id": "stock-evanescence",
   "metadata": {
    "deletable": false,
    "editable": false,
    "nbgrader": {
     "cell_type": "markdown",
     "checksum": "8ab9a6ce5869aba37a8f85c87cd615a4",
     "grade": false,
     "grade_id": "cell-056c664d5fbb3259",
     "locked": true,
     "schema_version": 3,
     "solution": false,
     "task": false
    }
   },
   "source": [
    "(g) Test your `toMaxHeap` function on \n",
    "```python\n",
    "data = [1, 4, 2, 5, 3, 6, 0] \n",
    "```\n",
    "and on at least one other list of your own."
   ]
  },
  {
   "cell_type": "code",
   "execution_count": 11,
   "id": "outside-plate",
   "metadata": {
    "deletable": false,
    "nbgrader": {
     "cell_type": "code",
     "checksum": "65ba0e8ee95453824c64dffdf2cfdfd1",
     "grade": true,
     "grade_id": "cell-bd7d68d8f9c8ddf1",
     "locked": false,
     "points": 4,
     "schema_version": 3,
     "solution": true,
     "task": false
    }
   },
   "outputs": [
    {
     "name": "stdout",
     "output_type": "stream",
     "text": [
      "[6, 5, 2, 4, 3, 1, 0]\n"
     ]
    },
    {
     "data": {
      "image/png": "[encoded data removed]",
      "text/plain": [
       "<Figure size 432x288 with 1 Axes>"
      ]
     },
     "metadata": {},
     "output_type": "display_data"
    }
   ],
   "source": [
    "data = [1, 4, 2, 5, 3, 6, 0] \n",
    "toMaxHeap(data)\n",
    "print(data)\n",
    "plotTree(data)"
   ]
  },
  {
   "cell_type": "code",
   "execution_count": 12,
   "id": "a7ac7469",
   "metadata": {},
   "outputs": [
    {
     "name": "stdout",
     "output_type": "stream",
     "text": [
      "[0]\n"
     ]
    },
    {
     "data": {
      "image/png": "[encoded data removed]",
      "text/plain": [
       "<Figure size 432x288 with 1 Axes>"
      ]
     },
     "metadata": {},
     "output_type": "display_data"
    }
   ],
   "source": [
    "data = [0]\n",
    "toMaxHeap(data)\n",
    "print(data)\n",
    "plotTree(data)"
   ]
  },
  {
   "cell_type": "markdown",
   "id": "designed-danish",
   "metadata": {
    "deletable": false,
    "editable": false,
    "nbgrader": {
     "cell_type": "markdown",
     "checksum": "d46f2975f87c474c5c33dcff740464f9",
     "grade": false,
     "grade_id": "cell-e324bc196759af64",
     "locked": true,
     "schema_version": 3,
     "solution": false,
     "task": false
    }
   },
   "source": [
    "## Question 3 (20 marks)\n",
    "<b>Note: parts (a), (b), (c) and (d) of this question can be attempted even if you were not able to get <code>toMaxHeap</code> to work in question 2.</b>\n",
    "\n",
    "(a) Explain briefly why the first element of a list that represents a max heap is always the maximum value in the list."
   ]
  },
  {
   "cell_type": "markdown",
   "id": "advised-jefferson",
   "metadata": {
    "deletable": false,
    "nbgrader": {
     "cell_type": "markdown",
     "checksum": "55a04270e63279baccf3ca30885d6cd5",
     "grade": true,
     "grade_id": "cell-4018cb9d244116fb",
     "locked": false,
     "points": 2,
     "schema_version": 3,
     "solution": true,
     "task": false
    }
   },
   "source": [
    "The first element must be greater than its two children which must also be greater than their own children and so on so the first element is always the largest."
   ]
  },
  {
   "cell_type": "markdown",
   "id": "descending-davis",
   "metadata": {
    "deletable": false,
    "editable": false,
    "nbgrader": {
     "cell_type": "markdown",
     "checksum": "3489c445d39287a85d73a5e557abf252",
     "grade": false,
     "grade_id": "cell-f1e887191c28b4ce",
     "locked": true,
     "schema_version": 3,
     "solution": false,
     "task": false
    }
   },
   "source": [
    "The above fact can be used as the basis of a sorting algorithm. Once a list of data of length 7 has been sorted into a max heap, we can proceed as follows:\n",
    "\n",
    "<ul>\n",
    "    <li>Swap elements 0 and 6, meaning that the last element is the maximum.</li>\n",
    "    <li>Apply the recursive <code>swapNodes</code> to the data, with <code>length</code> set to 6 and <code>parentPosition</code> set to 0.</li>\n",
    "    <li>Swap elements 0 and 5.</li>\n",
    "    <li>Apply the recursive <code>swapNodes</code> to the data, with <code>length</code> set to 5 and <code>parentPosition</code> set to 0.</li>\n",
    "    <li>Swap elements 0 and 4.</li>\n",
    "    <li>...</li>\n",
    "    <li>Swap elements 0 and 1.</li>\n",
    "</ul>\n",
    "\n",
    "(b) Show that this successfully sorts the max heap [6, 5, 2, 4, 3, 1, 0]."
   ]
  },
  {
   "cell_type": "code",
   "execution_count": 13,
   "id": "historic-brooks",
   "metadata": {
    "deletable": false,
    "nbgrader": {
     "cell_type": "code",
     "checksum": "49d3925e7715800097927705679a2b03",
     "grade": true,
     "grade_id": "cell-a849e00952c4b086",
     "locked": false,
     "points": 4,
     "schema_version": 3,
     "solution": true,
     "task": false
    }
   },
   "outputs": [
    {
     "name": "stdout",
     "output_type": "stream",
     "text": [
      "[0, 1, 2, 3, 4, 5, 6]\n"
     ]
    }
   ],
   "source": [
    "data = [6, 5, 2, 4, 3, 1, 0]\n",
    "for i in range(6, 0, -1):\n",
    "    data[0], data[i] = data[i], data[0]\n",
    "    swapNodes(data, i, 0)\n",
    "    \n",
    "print(data)"
   ]
  },
  {
   "cell_type": "markdown",
   "id": "8f6c419c",
   "metadata": {},
   "source": [
    "This is sorted clearly."
   ]
  },
  {
   "cell_type": "markdown",
   "id": "experimental-italic",
   "metadata": {
    "deletable": false,
    "editable": false,
    "nbgrader": {
     "cell_type": "markdown",
     "checksum": "612317fc6287c47d00d62cc086dc5d8d",
     "grade": false,
     "grade_id": "cell-1c8b1ec4abb0c66a",
     "locked": true,
     "schema_version": 3,
     "solution": false,
     "task": false
    }
   },
   "source": [
    "(c) Write a function called `sortMaxHeap` that takes as its sole argument a list of numbers `data`, assumed to be already a max heap, and sorts it in place into ascending order."
   ]
  },
  {
   "cell_type": "code",
   "execution_count": 14,
   "id": "stuck-respect",
   "metadata": {
    "deletable": false,
    "nbgrader": {
     "cell_type": "code",
     "checksum": "d1576fbcd8dbf42449cd7ba58983dfe4",
     "grade": true,
     "grade_id": "cell-9cfaaf864d29583a",
     "locked": false,
     "points": 4,
     "schema_version": 3,
     "solution": true,
     "task": false
    }
   },
   "outputs": [],
   "source": [
    "def sortMaxHeap(data):\n",
    "    n = len(data) - 1\n",
    "    for i in range(n, 0, -1):\n",
    "        data[0], data[i] = data[i], data[0]\n",
    "        swapNodes(data, i, 0)"
   ]
  },
  {
   "cell_type": "markdown",
   "id": "talented-climb",
   "metadata": {
    "deletable": false,
    "editable": false,
    "nbgrader": {
     "cell_type": "markdown",
     "checksum": "7532a778b127b4cfc59534af13d6ca0d",
     "grade": false,
     "grade_id": "cell-2218ec6388ced375",
     "locked": true,
     "schema_version": 3,
     "solution": false,
     "task": false
    }
   },
   "source": [
    "(d) Test  your function on the max heap [6, 5, 2, 4, 3, 1, 0], and on at least one other max heap of your own choosing."
   ]
  },
  {
   "cell_type": "code",
   "execution_count": 15,
   "id": "linear-layer",
   "metadata": {
    "deletable": false,
    "nbgrader": {
     "cell_type": "code",
     "checksum": "91dd11b73697bd12f19e81c8d8628050",
     "grade": true,
     "grade_id": "cell-cad41f6c2edb1ef8",
     "locked": false,
     "points": 3,
     "schema_version": 3,
     "solution": true,
     "task": false
    }
   },
   "outputs": [
    {
     "name": "stdout",
     "output_type": "stream",
     "text": [
      "[0, 1, 2, 3, 4, 5, 6]\n"
     ]
    }
   ],
   "source": [
    "data = [6, 5, 2, 4, 3, 1, 0]\n",
    "\n",
    "sortMaxHeap(data)\n",
    "\n",
    "print(data)"
   ]
  },
  {
   "cell_type": "markdown",
   "id": "859bf0b0",
   "metadata": {},
   "source": [
    "This is clearly sorted."
   ]
  },
  {
   "cell_type": "markdown",
   "id": "stone-prescription",
   "metadata": {
    "deletable": false,
    "editable": false,
    "nbgrader": {
     "cell_type": "markdown",
     "checksum": "bcd62c9f498b831e7ec6714ab26769df",
     "grade": false,
     "grade_id": "cell-42b771f6aff36a92",
     "locked": true,
     "schema_version": 3,
     "solution": false,
     "task": false
    }
   },
   "source": [
    "(e) Write a function called `heapSort` that takes as its sole argument a list of numbers `data`, which can be in any order, and sorts it in place by first converting it into a max heap, and then sorting this max heap."
   ]
  },
  {
   "cell_type": "code",
   "execution_count": 16,
   "id": "latin-jungle",
   "metadata": {
    "deletable": false,
    "nbgrader": {
     "cell_type": "code",
     "checksum": "8443f02a1f55a49021592819199e5547",
     "grade": true,
     "grade_id": "cell-ce9262b9ae021295",
     "locked": false,
     "points": 4,
     "schema_version": 3,
     "solution": true,
     "task": false
    }
   },
   "outputs": [],
   "source": [
    "def heapSort(data):\n",
    "    toMaxHeap(data)\n",
    "    sortMaxHeap(data)"
   ]
  },
  {
   "cell_type": "markdown",
   "id": "thick-glasgow",
   "metadata": {
    "deletable": false,
    "editable": false,
    "nbgrader": {
     "cell_type": "markdown",
     "checksum": "b91bb0e20f0e76b22affdef137573010",
     "grade": false,
     "grade_id": "cell-62a4c55fb2f1fd9a",
     "locked": true,
     "schema_version": 3,
     "solution": false,
     "task": false
    }
   },
   "source": [
    "(f) Test your function on\n",
    "```python\n",
    "data = [1, 4, 2, 5, 3, 6, 0]\n",
    "```\n",
    "and on at least one other list of your own."
   ]
  },
  {
   "cell_type": "code",
   "execution_count": 17,
   "id": "frank-discharge",
   "metadata": {
    "deletable": false,
    "nbgrader": {
     "cell_type": "code",
     "checksum": "5d345fb3fc655d39720f2f32e715b0eb",
     "grade": true,
     "grade_id": "cell-211034a4a47ffab8",
     "locked": false,
     "points": 3,
     "schema_version": 3,
     "solution": true,
     "task": false
    }
   },
   "outputs": [
    {
     "name": "stdout",
     "output_type": "stream",
     "text": [
      "[0, 1, 2, 3, 4, 5, 6]\n"
     ]
    }
   ],
   "source": [
    "data = [1, 4, 2, 5, 3, 6, 0]\n",
    "\n",
    "heapSort(data)\n",
    "\n",
    "print(data)"
   ]
  },
  {
   "cell_type": "markdown",
   "id": "partial-complaint",
   "metadata": {
    "deletable": false,
    "editable": false,
    "nbgrader": {
     "cell_type": "markdown",
     "checksum": "753f8bcf224fd0717a8983671ad8aaf1",
     "grade": false,
     "grade_id": "cell-9485f9da51f4d2f9",
     "locked": true,
     "schema_version": 3,
     "solution": false,
     "task": false
    }
   },
   "source": [
    "## Question 4 (25 marks)\n",
    "\n",
    "(a) Add a global variable called `comparisonCount` to the code listing for (the recursive version of) `swapNodes`, which goes up by 1 every time the value of one variable is compared with another."
   ]
  },
  {
   "cell_type": "code",
   "execution_count": 18,
   "id": "false-progressive",
   "metadata": {
    "deletable": false,
    "nbgrader": {
     "cell_type": "code",
     "checksum": "90a56eb515e5e8341b5c4638cd84430d",
     "grade": true,
     "grade_id": "cell-5564c8c259e609e7",
     "locked": false,
     "points": 3,
     "schema_version": 3,
     "solution": true,
     "task": false
    }
   },
   "outputs": [],
   "source": [
    "def swapNodes(data, length, parentPosition):\n",
    "    \"\"\"\n",
    "    Checks whether a given parent is less than either of its children and, if so, \n",
    "    swaps positions with the child whose value is greatest.\n",
    "    \"\"\"\n",
    "    \n",
    "    global comparisonCount\n",
    "    \n",
    "    # positions of children in the list\n",
    "    leftChildPosition, rightChildPosition = 2*parentPosition + 1, 2*parentPosition + 2\n",
    "    # current maximum is parent\n",
    "    maxPosition = parentPosition\n",
    "    \n",
    "    # is left child among the data we're considering?\n",
    "    if leftChildPosition < length:\n",
    "        comparisonCount += 1\n",
    "        # is parent smaller than left child?\n",
    "        if data[maxPosition] < data[leftChildPosition]:\n",
    "            # current maximum is left child\n",
    "            maxPosition = leftChildPosition\n",
    "    \n",
    "    # is right child among the data we're considering?\n",
    "    if rightChildPosition < length:\n",
    "        comparisonCount += 1\n",
    "        # is parent smaller than right child?\n",
    "        if data[maxPosition] < data[rightChildPosition]:\n",
    "            # current maximum is right child\n",
    "            maxPosition = rightChildPosition\n",
    "    \n",
    "    # is a swap necessary?\n",
    "    if parentPosition != maxPosition:\n",
    "        # perform swap\n",
    "        data[parentPosition], data[maxPosition] = data[maxPosition], data[parentPosition]\n",
    "        swapNodes(data, length, maxPosition)"
   ]
  },
  {
   "cell_type": "markdown",
   "id": "postal-merchant",
   "metadata": {
    "deletable": false,
    "editable": false,
    "nbgrader": {
     "cell_type": "markdown",
     "checksum": "24b8cdda24282aee68bcd34b2c57a369",
     "grade": false,
     "grade_id": "cell-b26d8ac1b7cf6a7f",
     "locked": true,
     "schema_version": 3,
     "solution": false,
     "task": false
    }
   },
   "source": [
    "(b) Hence, show that the number of comparisons necessary to sort the max heap [6, 2, 5, 0, 1, 3, 4] using `sortMaxHeap` is 10, and find the number of comparisons necessary to sort the max heap [6, 5, 2, 4, 3, 1, 0] in the same way. (These are known to be the minimum and maximum values.)"
   ]
  },
  {
   "cell_type": "code",
   "execution_count": 19,
   "id": "future-difference",
   "metadata": {
    "deletable": false,
    "nbgrader": {
     "cell_type": "code",
     "checksum": "d9927375dc4cb2c0e96909ef26c85d68",
     "grade": true,
     "grade_id": "cell-9751d1cdb89403e1",
     "locked": false,
     "points": 6,
     "schema_version": 3,
     "solution": true,
     "task": false
    }
   },
   "outputs": [
    {
     "name": "stdout",
     "output_type": "stream",
     "text": [
      "10\n"
     ]
    }
   ],
   "source": [
    "comparisonCount = 0\n",
    "sortMaxHeap([6, 2, 5, 0, 1, 3, 4])\n",
    "print(comparisonCount)"
   ]
  },
  {
   "cell_type": "code",
   "execution_count": 20,
   "id": "92d6e4a0",
   "metadata": {},
   "outputs": [
    {
     "name": "stdout",
     "output_type": "stream",
     "text": [
      "14\n"
     ]
    }
   ],
   "source": [
    "comparisonCount = 0\n",
    "sortMaxHeap([6, 5, 2, 4, 3, 1, 0])\n",
    "print(comparisonCount)"
   ]
  },
  {
   "cell_type": "markdown",
   "id": "sacred-argentina",
   "metadata": {
    "deletable": false,
    "editable": false,
    "nbgrader": {
     "cell_type": "markdown",
     "checksum": "fb936713c23c8ee4f18d48ebca6d3827",
     "grade": false,
     "grade_id": "cell-3d86f3ce4e90c307",
     "locked": true,
     "schema_version": 3,
     "solution": false,
     "task": false
    }
   },
   "source": [
    "(c) Find the number of comparisons that take place if `toMaxHeap` is run on a list of length 7 that is already a max heap (this is known to be the minimum)."
   ]
  },
  {
   "cell_type": "code",
   "execution_count": 21,
   "id": "composed-handbook",
   "metadata": {
    "deletable": false,
    "nbgrader": {
     "cell_type": "code",
     "checksum": "593b841d988f567f585e8f180d4c551a",
     "grade": true,
     "grade_id": "cell-561141ee1ccfbc67",
     "locked": false,
     "points": 2,
     "schema_version": 3,
     "solution": true,
     "task": false
    }
   },
   "outputs": [
    {
     "name": "stdout",
     "output_type": "stream",
     "text": [
      "6\n"
     ]
    }
   ],
   "source": [
    "comparisonCount = 0\n",
    "toMaxHeap([6, 2, 5, 0, 1, 3, 4])\n",
    "print(comparisonCount)"
   ]
  },
  {
   "cell_type": "markdown",
   "id": "seventh-burns",
   "metadata": {
    "deletable": false,
    "editable": false,
    "nbgrader": {
     "cell_type": "markdown",
     "checksum": "0a705d52de3f432d1ddea274a78b30cc",
     "grade": false,
     "grade_id": "cell-e5ca0b902b05dd41",
     "locked": true,
     "schema_version": 3,
     "solution": false,
     "task": false
    }
   },
   "source": [
    "(d) State, with reasons, the minimum number of comparisons necessary to sort a list of length 7 using `heapSort`."
   ]
  },
  {
   "cell_type": "code",
   "execution_count": 22,
   "id": "e12a161d",
   "metadata": {},
   "outputs": [
    {
     "name": "stdout",
     "output_type": "stream",
     "text": [
      "16\n"
     ]
    }
   ],
   "source": [
    "comparisonCount = 0\n",
    "heapSort([6, 2, 5, 0, 1, 3, 4])\n",
    "print(comparisonCount)"
   ]
  },
  {
   "cell_type": "markdown",
   "id": "independent-doubt",
   "metadata": {
    "deletable": false,
    "nbgrader": {
     "cell_type": "markdown",
     "checksum": "a568a788e81d300eb34351fcc88c174e",
     "grade": true,
     "grade_id": "cell-b4fadfd32992a8cc",
     "locked": false,
     "points": 2,
     "schema_version": 3,
     "solution": true,
     "task": false
    }
   },
   "source": [
    "16 because toMaxHeap has a minimum of 6 compairsons and sortMaxHeap has (7 - 2) x 5 = 10 comparisons as its minimum. So 10 + 6 = 16."
   ]
  },
  {
   "cell_type": "markdown",
   "id": "polar-kazakhstan",
   "metadata": {
    "deletable": false,
    "editable": false,
    "nbgrader": {
     "cell_type": "markdown",
     "checksum": "8972374c182c1fedc98f9d386cee9013",
     "grade": false,
     "grade_id": "cell-b3cee131331b032b",
     "locked": true,
     "schema_version": 3,
     "solution": false,
     "task": false
    }
   },
   "source": [
    "(e) Find the number of comparisons that take place if `toMaxHeap` is run on a list of length 7 that is already in ascending order (this is known to be the maximum)."
   ]
  },
  {
   "cell_type": "code",
   "execution_count": 23,
   "id": "exempt-function",
   "metadata": {
    "deletable": false,
    "nbgrader": {
     "cell_type": "code",
     "checksum": "e0f996a6cc408c9407203e66bba54094",
     "grade": true,
     "grade_id": "cell-e5abc0d7c15bdd88",
     "locked": false,
     "points": 2,
     "schema_version": 3,
     "solution": true,
     "task": false
    }
   },
   "outputs": [
    {
     "name": "stdout",
     "output_type": "stream",
     "text": [
      "8\n"
     ]
    }
   ],
   "source": [
    "comparisonCount = 0\n",
    "toMaxHeap([0, 1, 2, 3, 4, 5, 6])\n",
    "print(comparisonCount)"
   ]
  },
  {
   "cell_type": "markdown",
   "id": "sticky-worst",
   "metadata": {
    "deletable": false,
    "editable": false,
    "nbgrader": {
     "cell_type": "markdown",
     "checksum": "e0ad0d94df9aa12725091ad616a0bdae",
     "grade": false,
     "grade_id": "cell-50bcfd99a131301d",
     "locked": true,
     "schema_version": 3,
     "solution": false,
     "task": false
    }
   },
   "source": [
    "(f) Give, with reasons, an upper bound on the maximum number of comparisons necessary to sort a list of length 7 using `heapSort`. Explain carefully why, on the basis of the information you have been given, it is not clear whether this upper bound is attained."
   ]
  },
  {
   "cell_type": "markdown",
   "id": "laughing-final",
   "metadata": {
    "deletable": false,
    "nbgrader": {
     "cell_type": "markdown",
     "checksum": "b20c90236df17700419f6bfa72626b1f",
     "grade": true,
     "grade_id": "cell-c2ecbd9d0d2b8f34",
     "locked": false,
     "points": 2,
     "schema_version": 3,
     "solution": true,
     "task": false
    }
   },
   "source": [
    "22 comparisons because the maximum for toMaxHeap is 8 the maximum for heapSort is when the list is not a max heap at all so 7 x 2 = 14. 8 + 14 = 22."
   ]
  },
  {
   "cell_type": "markdown",
   "id": "looking-mobility",
   "metadata": {
    "deletable": false,
    "editable": false,
    "nbgrader": {
     "cell_type": "markdown",
     "checksum": "d91289d5cd99146c21419c0b41e84535",
     "grade": false,
     "grade_id": "cell-c8c5ad25ccb295a2",
     "locked": true,
     "schema_version": 3,
     "solution": false,
     "task": false
    }
   },
   "source": [
    "(g) It is difficult to obtain, but an expression for the minimum number of comparisons necessary to sort a list of length $2^r-1$ using this particular implementation of `heapSort` is\n",
    "\n",
    "$$(2r-5)2^r+r+5.$$\n",
    "\n",
    "Describe the algorithm using big Omega notation."
   ]
  },
  {
   "cell_type": "markdown",
   "id": "conventional-extreme",
   "metadata": {
    "deletable": false,
    "nbgrader": {
     "cell_type": "markdown",
     "checksum": "7ea0de6a55e51819001865eafde28240",
     "grade": true,
     "grade_id": "cell-2915f2655f802933",
     "locked": false,
     "points": 4,
     "schema_version": 3,
     "solution": true,
     "task": false
    }
   },
   "source": [
    "$$\\Omega(r2^r)$$"
   ]
  },
  {
   "cell_type": "markdown",
   "id": "sacred-announcement",
   "metadata": {
    "deletable": false,
    "editable": false,
    "nbgrader": {
     "cell_type": "markdown",
     "checksum": "9698140861c10e827fad14cd97892e79",
     "grade": false,
     "grade_id": "cell-42ac55a381c5cb34",
     "locked": true,
     "schema_version": 3,
     "solution": false,
     "task": false
    }
   },
   "source": [
    "(h) <b>[Challenging]</b> In fact, the upper bound from part (f) <i>is</i> attained. Find a list of length 7 for which exactly this many comparisons are necessary in order to sort it using `heapSort`."
   ]
  },
  {
   "cell_type": "code",
   "execution_count": 24,
   "id": "unexpected-hampton",
   "metadata": {
    "deletable": false,
    "nbgrader": {
     "cell_type": "code",
     "checksum": "549049514312705399ab6ed3e9302e43",
     "grade": true,
     "grade_id": "cell-e2df6cdb0b2cd924",
     "locked": false,
     "points": 4,
     "schema_version": 3,
     "solution": true,
     "task": false
    }
   },
   "outputs": [
    {
     "name": "stdout",
     "output_type": "stream",
     "text": [
      "22 [0, 0, 1, 1, 2, 1, 3]\n",
      "21\n"
     ]
    }
   ],
   "source": [
    "high = 0\n",
    "highlist = []\n",
    "\n",
    "for a in range(7):\n",
    "    for b in range(7):\n",
    "        for c in range(7):\n",
    "            for d in range(7):\n",
    "                for e in range(7):\n",
    "                    for f in range(7):\n",
    "                        for g in range(7):\n",
    "                            comparisonCount = 0\n",
    "                            heapSort([a, b, c, d, e, f, g])\n",
    "                            if comparisonCount > high:\n",
    "                                high = comparisonCount\n",
    "                                highlist = [a, b, c, d, e, f, g]\n",
    "\n",
    "print(high, highlist)\n",
    "\n",
    "comparisonCount = 0\n",
    "heapSort([0, 1, 2, 3, 4, 5, 6])\n",
    "print(comparisonCount)"
   ]
  },
  {
   "cell_type": "code",
   "execution_count": null,
   "id": "iraqi-object",
   "metadata": {},
   "outputs": [],
   "source": []
  },
  {
   "cell_type": "code",
   "execution_count": null,
   "id": "7ed0f9e8",
   "metadata": {},
   "outputs": [],
   "source": []
  },
  {
   "cell_type": "code",
   "execution_count": null,
   "id": "90d94004",
   "metadata": {},
   "outputs": [],
   "source": []
  },
  {
   "cell_type": "code",
   "execution_count": null,
   "id": "ddbb50e8",
   "metadata": {},
   "outputs": [],
   "source": []
  },
  {
   "cell_type": "code",
   "execution_count": null,
   "id": "745781f4",
   "metadata": {},
   "outputs": [],
   "source": []
  }
 ],
 "metadata": {
  "kernelspec": {
   "display_name": "Python 3",
   "language": "python",
   "name": "python3"
  },
  "language_info": {
   "codemirror_mode": {
    "name": "ipython",
    "version": 3
   },
   "file_extension": ".py",
   "mimetype": "text/x-python",
   "name": "python",
   "nbconvert_exporter": "python",
   "pygments_lexer": "ipython3",
   "version": "3.8.8"
  }
 },
 "nbformat": 4,
 "nbformat_minor": 5
}
