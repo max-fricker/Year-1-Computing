{
 "cells": [
  {
   "cell_type": "markdown",
   "metadata": {
    "nbgrader": {
     "grade": false,
     "grade_id": "cell-7768773a1cfc3752",
     "locked": true,
     "schema_version": 1,
     "solution": false
    }
   },
   "source": [
    "# M40006 In-Course Assessment\n",
    "\n",
    "# 17 December, 9-11 am\n",
    "\n",
    "## Two Hours\n",
    "\n",
    "### Answer all questions, submitting your answers as a single Jupyter notebook."
   ]
  },
  {
   "cell_type": "markdown",
   "metadata": {
    "nbgrader": {
     "grade": false,
     "grade_id": "cell-2c3056a6124a5127",
     "locked": true,
     "schema_version": 1,
     "solution": false
    }
   },
   "source": [
    "To carry out this assignment, you may find useful, possibly amongst others:\n",
    "<ul>\n",
    "    <li>the core Python <code>pow</code> function;</li>\n",
    "    <li>the functions <code>arcsin</code>, <code>sqrt</code> and <code>gcd</code> from the <code>math</code> module;</li>\n",
    "    <li>the functions <code>arcsin</code> and <code>phase</code>, and the constant <code>pi</code> from the <code>cmath</code> module;</li> \n",
    "    <li>the <code>plot</code> function from the <code>pyplot</code> module of <code>matplotlib</code>.\n",
    "</ul>\n",
    "\n",
    "It is recommended that you simply execute the following code cell:"
   ]
  },
  {
   "cell_type": "code",
   "execution_count": 9,
   "metadata": {
    "nbgrader": {
     "grade": false,
     "grade_id": "cell-9d3af8ae7bbcd825",
     "locked": true,
     "schema_version": 1,
     "solution": false
    }
   },
   "outputs": [],
   "source": [
    "%matplotlib inline\n",
    "import math\n",
    "import cmath\n",
    "import matplotlib.pyplot as plt"
   ]
  },
  {
   "cell_type": "markdown",
   "metadata": {
    "nbgrader": {
     "grade": false,
     "grade_id": "cell-3b0ada2b9a80bba9",
     "locked": true,
     "schema_version": 1,
     "solution": false
    }
   },
   "source": [
    "## Question 1 (20 marks)\n",
    "\n",
    "Using Python, and showing your code, calculate:"
   ]
  },
  {
   "cell_type": "markdown",
   "metadata": {
    "nbgrader": {
     "grade": false,
     "grade_id": "cell-e3b16606adbbf31a",
     "locked": true,
     "schema_version": 1,
     "solution": false
    }
   },
   "source": [
    "(a) $353^{252}$ as an int."
   ]
  },
  {
   "cell_type": "code",
   "execution_count": null,
   "metadata": {
    "nbgrader": {
     "grade": true,
     "grade_id": "cell-5283fe9b75424541",
     "locked": false,
     "points": 0,
     "schema_version": 1,
     "solution": true
    }
   },
   "outputs": [],
   "source": []
  },
  {
   "cell_type": "markdown",
   "metadata": {
    "nbgrader": {
     "grade": false,
     "grade_id": "cell-ea7543901978045e",
     "locked": true,
     "schema_version": 1,
     "solution": false
    }
   },
   "source": [
    "(b) $353.0^{252.0}$ as an approximate float."
   ]
  },
  {
   "cell_type": "code",
   "execution_count": null,
   "metadata": {
    "nbgrader": {
     "grade": true,
     "grade_id": "cell-f3ce9155e9d81a9c",
     "locked": false,
     "points": 0,
     "schema_version": 1,
     "solution": true
    }
   },
   "outputs": [],
   "source": []
  },
  {
   "cell_type": "markdown",
   "metadata": {
    "nbgrader": {
     "grade": false,
     "grade_id": "cell-0260060628275456",
     "locked": true,
     "schema_version": 1,
     "solution": false
    }
   },
   "source": [
    "(c) The residue of $(353 \\times 252)$, modulo $555$."
   ]
  },
  {
   "cell_type": "code",
   "execution_count": null,
   "metadata": {
    "nbgrader": {
     "grade": true,
     "grade_id": "cell-a8e5ebbcdddbcd79",
     "locked": false,
     "points": 0,
     "schema_version": 1,
     "solution": true
    }
   },
   "outputs": [],
   "source": []
  },
  {
   "cell_type": "markdown",
   "metadata": {
    "nbgrader": {
     "grade": false,
     "grade_id": "cell-99fb40e2b475fdc2",
     "locked": true,
     "schema_version": 1,
     "solution": false
    }
   },
   "source": [
    "(d) The residue of $353^{252}$, modulo $555$; there are some marks for doing this fairly efficiently."
   ]
  },
  {
   "cell_type": "code",
   "execution_count": null,
   "metadata": {
    "nbgrader": {
     "grade": true,
     "grade_id": "cell-b9b45249f78a7a43",
     "locked": false,
     "points": 0,
     "schema_version": 1,
     "solution": true
    }
   },
   "outputs": [],
   "source": []
  },
  {
   "cell_type": "markdown",
   "metadata": {
    "nbgrader": {
     "grade": false,
     "grade_id": "cell-3744f46358c8eadf",
     "locked": true,
     "schema_version": 1,
     "solution": false
    }
   },
   "source": [
    "(e) $\\arcsin(0.5)$, as a float."
   ]
  },
  {
   "cell_type": "code",
   "execution_count": null,
   "metadata": {
    "nbgrader": {
     "grade": true,
     "grade_id": "cell-a108cf0248f58238",
     "locked": false,
     "points": 0,
     "schema_version": 1,
     "solution": true
    }
   },
   "outputs": [],
   "source": []
  },
  {
   "cell_type": "markdown",
   "metadata": {
    "nbgrader": {
     "grade": false,
     "grade_id": "cell-47dd8a847b0bd23f",
     "locked": true,
     "schema_version": 1,
     "solution": false
    }
   },
   "source": [
    "(f) $\\arcsin(2\\,i)$, as a complex."
   ]
  },
  {
   "cell_type": "code",
   "execution_count": null,
   "metadata": {
    "nbgrader": {
     "grade": true,
     "grade_id": "cell-366a2c0ddd821e0a",
     "locked": false,
     "points": 0,
     "schema_version": 1,
     "solution": true
    }
   },
   "outputs": [],
   "source": []
  },
  {
   "cell_type": "markdown",
   "metadata": {
    "nbgrader": {
     "grade": false,
     "grade_id": "cell-98993209ca7533c8",
     "locked": true,
     "schema_version": 1,
     "solution": false
    }
   },
   "source": [
    "## Question 2 (20 marks)\n",
    "\n",
    "(a) The following double comprehension creates a list of complex numbers of the form $m + n\\,i$, where $m$ and $n$ are natural numbers:"
   ]
  },
  {
   "cell_type": "code",
   "execution_count": 3,
   "metadata": {
    "nbgrader": {
     "grade": false,
     "grade_id": "cell-215442553308eb1c",
     "locked": true,
     "schema_version": 1,
     "solution": false
    }
   },
   "outputs": [],
   "source": [
    "g_ints = [complex(m,n) for m in range(1,11) for n in range(1,m)]"
   ]
  },
  {
   "cell_type": "markdown",
   "metadata": {
    "nbgrader": {
     "grade": false,
     "grade_id": "cell-21eceb02d1cfe144",
     "locked": true,
     "schema_version": 1,
     "solution": false
    }
   },
   "source": [
    "Describe as carefully as possible the location of these points in the complex plane."
   ]
  },
  {
   "cell_type": "markdown",
   "metadata": {
    "nbgrader": {
     "grade": true,
     "grade_id": "cell-7b3e4bd6a257bf9c",
     "locked": false,
     "points": 0,
     "schema_version": 1,
     "solution": true
    }
   },
   "source": [
    "Insert your description here and \"shift-enter\"."
   ]
  },
  {
   "cell_type": "markdown",
   "metadata": {
    "nbgrader": {
     "grade": false,
     "grade_id": "cell-d5c6bc7408a302c7",
     "locked": true,
     "schema_version": 1,
     "solution": false
    }
   },
   "source": [
    "(b) The following filter comprehension selects only those members of `g_ints` whose argument (called \"phase\" in `cmath`) is greater than $\\pi/8$:"
   ]
  },
  {
   "cell_type": "code",
   "execution_count": null,
   "metadata": {
    "nbgrader": {
     "grade": false,
     "grade_id": "cell-3b52f58818ba83c5",
     "locked": true,
     "schema_version": 1,
     "solution": false
    }
   },
   "outputs": [],
   "source": [
    "g_ints2 = [z for z in g_ints if cmath.phase(z) > pi/8]"
   ]
  },
  {
   "cell_type": "markdown",
   "metadata": {
    "nbgrader": {
     "grade": false,
     "grade_id": "cell-aa14c7ff170338cd",
     "locked": true,
     "schema_version": 1,
     "solution": false
    }
   },
   "source": [
    "Create a list called `g_ints3` consisting of all those elements of `g_ints2` whose absolute value is less than or equal to 10."
   ]
  },
  {
   "cell_type": "code",
   "execution_count": null,
   "metadata": {
    "nbgrader": {
     "grade": true,
     "grade_id": "cell-38e4c8fde77077e2",
     "locked": false,
     "points": 0,
     "schema_version": 1,
     "solution": true
    }
   },
   "outputs": [],
   "source": []
  },
  {
   "cell_type": "markdown",
   "metadata": {
    "nbgrader": {
     "grade": false,
     "grade_id": "cell-548ab2322bc3b6ac",
     "locked": true,
     "schema_version": 1,
     "solution": false
    }
   },
   "source": [
    "(c) Create a list called `squares` consisting of the squares of all the complex numbers in `g_ints3`."
   ]
  },
  {
   "cell_type": "code",
   "execution_count": null,
   "metadata": {
    "nbgrader": {
     "grade": true,
     "grade_id": "cell-0609713398a83702",
     "locked": false,
     "points": 0,
     "schema_version": 1,
     "solution": true
    }
   },
   "outputs": [],
   "source": []
  },
  {
   "cell_type": "markdown",
   "metadata": {
    "nbgrader": {
     "grade": false,
     "grade_id": "cell-43a347e1f79d0922",
     "locked": true,
     "schema_version": 1,
     "solution": false
    }
   },
   "source": [
    "(d) Create a list called `triples` where each element is a tuple of length 3, consisting of the real part, imaginary part and absolute value of each of the elements of `squares`, <em>as ints</em>. Recall that the real and imaginary parts of, say, $3+4\\,i$ are given by\n",
    "```python\n",
    "(3+4j).real, (3+4j).imag\n",
    "```\n"
   ]
  },
  {
   "cell_type": "code",
   "execution_count": null,
   "metadata": {
    "nbgrader": {
     "grade": true,
     "grade_id": "cell-ab8190a7485c6be4",
     "locked": false,
     "points": 0,
     "schema_version": 1,
     "solution": true
    }
   },
   "outputs": [],
   "source": []
  },
  {
   "cell_type": "markdown",
   "metadata": {
    "nbgrader": {
     "grade": false,
     "grade_id": "cell-516e4e7cd1d32430",
     "locked": true,
     "schema_version": 1,
     "solution": false
    }
   },
   "source": [
    "(e) Write some Python code to show that each of the elements of `triples`, your list from part (d), is a Pythagorean triple: that is, that each tuple `(a, b, c)` satisfies $a^2+b^2=c^2$."
   ]
  },
  {
   "cell_type": "code",
   "execution_count": null,
   "metadata": {
    "nbgrader": {
     "grade": true,
     "grade_id": "cell-a32cb5574fa2690a",
     "locked": false,
     "points": 0,
     "schema_version": 1,
     "solution": true
    }
   },
   "outputs": [],
   "source": []
  },
  {
   "cell_type": "markdown",
   "metadata": {
    "nbgrader": {
     "grade": false,
     "grade_id": "cell-5fa7c9b5af4004aa",
     "locked": true,
     "schema_version": 1,
     "solution": false
    }
   },
   "source": [
    "## Question 3 (35 marks)\n",
    "\n",
    "The integer $23005543287841$ is the product of two distinct primes. The challenge is to find these primes.\n",
    "\n",
    "<b>Algorithm 1</b> works as follows.\n",
    "\n",
    "For values of $r$ greater than or equal to $2$, and less than or equal to the square root of $23005543287841$, check whether $r$ is a factor of $23005543287841$. If it is, print this value of $r$ and stop; otherwise continue the loop.\n",
    "\n",
    "(a) Here is some code that implements algorithm 1, using a `for` loop. By executing it, find one of the prime factors of $23005543287841$."
   ]
  },
  {
   "cell_type": "code",
   "execution_count": 7,
   "metadata": {
    "nbgrader": {
     "grade": false,
     "grade_id": "cell-ba36e7e7dc40c251",
     "locked": true,
     "schema_version": 1,
     "solution": false
    }
   },
   "outputs": [
    {
     "name": "stdout",
     "output_type": "stream",
     "text": [
      "4483273\n"
     ]
    }
   ],
   "source": [
    "n = 23005543287841\n",
    "for r in range(2,int(math.sqrt(n))+1):\n",
    "    if n % r == 0:\n",
    "        print(r)\n",
    "        break"
   ]
  },
  {
   "cell_type": "markdown",
   "metadata": {
    "nbgrader": {
     "grade": false,
     "grade_id": "cell-716c6019954e023f",
     "locked": true,
     "schema_version": 1,
     "solution": false
    }
   },
   "source": [
    "(b) Check that the number you've found really is a factor of $23005543287841$. Explain briefly how you know it must be prime."
   ]
  },
  {
   "cell_type": "code",
   "execution_count": null,
   "metadata": {
    "nbgrader": {
     "grade": true,
     "grade_id": "cell-bca7db84f9713c17",
     "locked": false,
     "points": 0,
     "schema_version": 1,
     "solution": true
    }
   },
   "outputs": [],
   "source": []
  },
  {
   "cell_type": "markdown",
   "metadata": {
    "nbgrader": {
     "grade": true,
     "grade_id": "cell-9b74add230df9fe4",
     "locked": false,
     "points": 0,
     "schema_version": 1,
     "solution": true
    }
   },
   "source": [
    "Insert your brief explanation here and \"shift-enter\"."
   ]
  },
  {
   "cell_type": "markdown",
   "metadata": {
    "nbgrader": {
     "grade": false,
     "grade_id": "cell-c0677e74909bc0ba",
     "locked": true,
     "schema_version": 1,
     "solution": false
    }
   },
   "source": [
    "(c) Find the other prime factor of $23005543287841$."
   ]
  },
  {
   "cell_type": "code",
   "execution_count": null,
   "metadata": {
    "nbgrader": {
     "grade": true,
     "grade_id": "cell-887fefb6c615feb0",
     "locked": false,
     "points": 0,
     "schema_version": 1,
     "solution": true
    }
   },
   "outputs": [],
   "source": []
  },
  {
   "cell_type": "markdown",
   "metadata": {
    "nbgrader": {
     "grade": false,
     "grade_id": "cell-e4d02f57b7eea586",
     "locked": true,
     "schema_version": 1,
     "solution": false
    }
   },
   "source": [
    "(d) Explain briefly why it is necessary to iterate only as far as, at most, the square root of $23005543287841$. How many iterations were in fact needed?"
   ]
  },
  {
   "cell_type": "markdown",
   "metadata": {
    "nbgrader": {
     "grade": true,
     "grade_id": "cell-dd6959ed91fa58d0",
     "locked": false,
     "points": 0,
     "schema_version": 1,
     "solution": true
    }
   },
   "source": [
    "Insert your explanation here, and \"shift-enter\"."
   ]
  },
  {
   "cell_type": "markdown",
   "metadata": {
    "nbgrader": {
     "grade": false,
     "grade_id": "cell-33b94fc5ece612be",
     "locked": true,
     "schema_version": 1,
     "solution": false
    }
   },
   "source": [
    "<b>Algorithm 2</b> actually isn't guaranteed to work in all cases, but it often works very quickly. It's defined like this.\n",
    "\n",
    "Define the function $g$ as follows: $g(x)$ is the residue of $x^2+1$, reduced modulo $23005543287841$.\n",
    "\n",
    "Set $x$ and $y$ equal to $2$, and set $d=1$.\n",
    "\n",
    "While $d$ is less than $23005543287841$, repeat the following steps:\n",
    "<ul>\n",
    "    <li>Set $x$ equal to $g(x)$.</li>\n",
    "    <li>Set $y$ equal to $g(g(y))$.</li>\n",
    "    <li>Set $d$ equal to $\\gcd(|x-y|,23005543287841)$.</li>\n",
    "    <li>If $1<d<23005543287841$, then $d$ is a suitable factor of $23005543287841$; print it and stop. Otherwise, continue the loop.</li>\n",
    "</ul>\n",
    "\n",
    "(f) Write some code that implements algorithm 2, and confirm that it finds one of the prime factors of $23005543287841$."
   ]
  },
  {
   "cell_type": "code",
   "execution_count": null,
   "metadata": {
    "nbgrader": {
     "grade": true,
     "grade_id": "cell-c2c00c5739691f81",
     "locked": false,
     "points": 0,
     "schema_version": 1,
     "solution": true
    }
   },
   "outputs": [],
   "source": []
  },
  {
   "cell_type": "markdown",
   "metadata": {
    "nbgrader": {
     "grade": false,
     "grade_id": "cell-dd1fbf14a2e44967",
     "locked": true,
     "schema_version": 1,
     "solution": false
    }
   },
   "source": [
    "(g) Amend your code in order to calculate the number of iterations necessary for finding a suitable factor of $23005543287841$ using algorithm 2."
   ]
  },
  {
   "cell_type": "code",
   "execution_count": null,
   "metadata": {
    "nbgrader": {
     "grade": true,
     "grade_id": "cell-14f4c40ba0034d46",
     "locked": false,
     "points": 0,
     "schema_version": 1,
     "solution": true
    }
   },
   "outputs": [],
   "source": []
  },
  {
   "cell_type": "markdown",
   "metadata": {
    "nbgrader": {
     "grade": false,
     "grade_id": "cell-a8d5f8fe140b77a9",
     "locked": true,
     "schema_version": 1,
     "solution": false
    }
   },
   "source": [
    "## Question 4 (25 marks)\n",
    "\n",
    "(a) Write and test a Python function for calculating two proper divisors of a composite positive integer. Ideally, it should use algorithm 2, but if you weren't able to get that to work, use algorithm 1.\n",
    "\n",
    "Your function should take as its sole argument `n`, which may be assumed to be an int greater than 5, and to be composite. It should return two ints greater than 1, whose product must be `n`; it is not necessary that both be prime.\n",
    "\n",
    "Note that the divisors must be <em>returned</em>, and not merely <em>printed</em>.\n",
    "\n",
    "For full marks, your code should be suitably commented, and your function should include a one-line docstring.\n",
    "\n",
    "Make sure that you test on a variety of cases. (If you've used algorithm 2, you may find it occasionally fails; there are ways to deal with that, but for today, let's just put up with it! This failure should very much be the exception, if it occurs at all.)\n",
    "\n",
    "Make sure, too, that you show evidence of this testing."
   ]
  },
  {
   "cell_type": "code",
   "execution_count": null,
   "metadata": {
    "nbgrader": {
     "grade": true,
     "grade_id": "cell-9e85fbeef9bcbcd8",
     "locked": false,
     "points": 0,
     "schema_version": 1,
     "solution": true
    }
   },
   "outputs": [],
   "source": []
  },
  {
   "cell_type": "markdown",
   "metadata": {
    "nbgrader": {
     "grade": false,
     "grade_id": "cell-ec2d23abb3035e50",
     "locked": true,
     "schema_version": 1,
     "solution": false
    }
   },
   "source": [
    "(b) How does your function deal with prime `n`? If necessary, amend your code so that it does something sensible, such as returning a string telling the user their `n` seems to be prime. Test, showing evidence of this testing."
   ]
  },
  {
   "cell_type": "code",
   "execution_count": null,
   "metadata": {
    "nbgrader": {
     "grade": true,
     "grade_id": "cell-32ed6d6c66de5ec8",
     "locked": false,
     "points": 0,
     "schema_version": 1,
     "solution": true
    }
   },
   "outputs": [],
   "source": []
  },
  {
   "cell_type": "markdown",
   "metadata": {
    "nbgrader": {
     "grade": false,
     "grade_id": "cell-30883a41b40ac7f0",
     "locked": true,
     "schema_version": 1,
     "solution": false
    }
   },
   "source": [
    "(c) By amending your code in a suitable way, calculate the number of iterations necessary to factorise each of the following integers, of increasing size.\n",
    "\n",
    "If your function uses algorithm 1, use the integers $25096579$, $1634498947$, $176792904703$, $23005543287841$ and $3004650884700271$. \n",
    "\n",
    "If your function uses algorithm 2, use the integers $23005543287841$, $3004650884700271$, $303919407802915297$, $36129009292372853471$ and $3449957987637480913651$."
   ]
  },
  {
   "cell_type": "code",
   "execution_count": null,
   "metadata": {
    "nbgrader": {
     "grade": false,
     "grade_id": "cell-7ae6b08b9a35e127",
     "locked": false,
     "schema_version": 1,
     "solution": true
    }
   },
   "outputs": [],
   "source": []
  },
  {
   "cell_type": "markdown",
   "metadata": {
    "nbgrader": {
     "grade": false,
     "grade_id": "cell-4ce7dae2dff9f000",
     "locked": true,
     "schema_version": 1,
     "solution": false
    }
   },
   "source": [
    "(d) Create a point plot showing the logarithm of the number of iterations necessary to find a factor of `n`, against the logarithm of `n`."
   ]
  },
  {
   "cell_type": "code",
   "execution_count": null,
   "metadata": {
    "nbgrader": {
     "grade": true,
     "grade_id": "cell-5f5558d91eca680c",
     "locked": false,
     "points": 0,
     "schema_version": 1,
     "solution": true
    }
   },
   "outputs": [],
   "source": []
  }
 ],
 "metadata": {
  "celltoolbar": "Create Assignment",
  "kernelspec": {
   "display_name": "Python 3",
   "language": "python",
   "name": "python3"
  },
  "language_info": {
   "codemirror_mode": {
    "name": "ipython",
    "version": 3
   },
   "file_extension": ".py",
   "mimetype": "text/x-python",
   "name": "python",
   "nbconvert_exporter": "python",
   "pygments_lexer": "ipython3",
   "version": "3.8.8"
  }
 },
 "nbformat": 4,
 "nbformat_minor": 4
}
