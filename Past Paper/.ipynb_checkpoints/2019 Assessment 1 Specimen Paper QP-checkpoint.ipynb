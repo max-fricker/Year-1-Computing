{
 "cells": [
  {
   "cell_type": "markdown",
   "metadata": {},
   "source": [
    "# M40006 In-Course Assessment\n",
    "\n",
    "# Specimen Paper\n",
    "\n",
    "## Two Hours\n",
    "\n",
    "### Answer all questions, submitting your answers as a single Jupyter notebook."
   ]
  },
  {
   "cell_type": "markdown",
   "metadata": {},
   "source": [
    "## Question 1 (20 marks)\n",
    "\n",
    "Using Python, and showing your code, calculate:"
   ]
  },
  {
   "cell_type": "markdown",
   "metadata": {},
   "source": [
    "(a) $5^{2+8}$ as an int."
   ]
  },
  {
   "cell_type": "code",
   "execution_count": 1,
   "metadata": {},
   "outputs": [
    {
     "name": "stdout",
     "output_type": "stream",
     "text": [
      "9765625\n"
     ]
    }
   ],
   "source": [
    "print(5 ** (2 + 8))"
   ]
  },
  {
   "cell_type": "markdown",
   "metadata": {},
   "source": [
    "(b) $\\displaystyle{\\sin\\left(\\frac{\\pi}{12}\\right)}$ as a float."
   ]
  },
  {
   "cell_type": "code",
   "execution_count": 2,
   "metadata": {},
   "outputs": [
    {
     "name": "stdout",
     "output_type": "stream",
     "text": [
      "0.25881904510252074\n"
     ]
    }
   ],
   "source": [
    "import math\n",
    "\n",
    "print(math.sin(math.pi/12))"
   ]
  },
  {
   "cell_type": "markdown",
   "metadata": {},
   "source": [
    "(c) The residue of $19207812^{41506412}$ modulo $32271881$ as an int."
   ]
  },
  {
   "cell_type": "code",
   "execution_count": 3,
   "metadata": {},
   "outputs": [
    {
     "name": "stdout",
     "output_type": "stream",
     "text": [
      "8333554\n"
     ]
    }
   ],
   "source": [
    "print(pow(19207812, 41506412, 32271881))"
   ]
  },
  {
   "cell_type": "markdown",
   "metadata": {},
   "source": [
    "(d) As floats, the two roots of $12\\,x^2 + 11\\,x - 15 = 0$ (you may use the quadratic formula)."
   ]
  },
  {
   "cell_type": "code",
   "execution_count": null,
   "metadata": {},
   "outputs": [],
   "source": [
    "print((-11))"
   ]
  },
  {
   "cell_type": "markdown",
   "metadata": {},
   "source": [
    "(e) As complexes, the two roots of $9\\,z^2 - 12\\,z + 5 = 0$ (you may use the quadratic formula)."
   ]
  },
  {
   "cell_type": "code",
   "execution_count": null,
   "metadata": {},
   "outputs": [],
   "source": []
  },
  {
   "cell_type": "markdown",
   "metadata": {},
   "source": [
    "(f) As a complex, the value of $\\ln (-e)$."
   ]
  },
  {
   "cell_type": "code",
   "execution_count": null,
   "metadata": {},
   "outputs": [],
   "source": []
  },
  {
   "cell_type": "markdown",
   "metadata": {},
   "source": [
    "## Question 2 (20 marks)\n",
    "\n",
    "(a) Assigning in each case an appropriate variable name, create:"
   ]
  },
  {
   "cell_type": "markdown",
   "metadata": {},
   "source": [
    "(i) A <code>range</code> object containing the numbers $5, 9, 13, \\dots, 101, 105$."
   ]
  },
  {
   "cell_type": "code",
   "execution_count": null,
   "metadata": {},
   "outputs": [],
   "source": []
  },
  {
   "cell_type": "markdown",
   "metadata": {},
   "source": [
    "(ii) A list containing the numbers $5, 9, 13, \\dots, 101, 105$."
   ]
  },
  {
   "cell_type": "code",
   "execution_count": null,
   "metadata": {},
   "outputs": [],
   "source": []
  },
  {
   "cell_type": "markdown",
   "metadata": {},
   "source": [
    "(iii) A tuple containing the numbers $5, 9, 13, \\dots, 101, 105$."
   ]
  },
  {
   "cell_type": "code",
   "execution_count": null,
   "metadata": {},
   "outputs": [],
   "source": []
  },
  {
   "cell_type": "markdown",
   "metadata": {},
   "source": [
    "(b) By slicing your <code>range</code> object from part (a)(i), create a <code>range</code> object containing its fifth, sixth, seventh and eighth elements."
   ]
  },
  {
   "cell_type": "code",
   "execution_count": null,
   "metadata": {},
   "outputs": [],
   "source": []
  },
  {
   "cell_type": "markdown",
   "metadata": {},
   "source": [
    "(c) Append the number $109$ to your list from part (a)(ii)."
   ]
  },
  {
   "cell_type": "code",
   "execution_count": null,
   "metadata": {},
   "outputs": [],
   "source": []
  },
  {
   "cell_type": "markdown",
   "metadata": {},
   "source": [
    "(d) Create a tuple consisting of your tuple from part (a)(iii), repeated five times."
   ]
  },
  {
   "cell_type": "code",
   "execution_count": null,
   "metadata": {},
   "outputs": [],
   "source": []
  },
  {
   "cell_type": "markdown",
   "metadata": {},
   "source": [
    "## Question 3 (30 marks)\n",
    "\n",
    "Kepler's equation links two quantities useful in astronomy: a planet's <b>mean anomaly</b>, $M$, and its <b>eccentric anomaly</b>, $E$. Kepler's equation is\n",
    "$$M = E - e\\, \\sin E,$$\n",
    "where (lower-case) $e$ is the planet's orbital <b>eccentricity</b>."
   ]
  },
  {
   "cell_type": "markdown",
   "metadata": {},
   "source": [
    "(a) For a planet with orbital eccentricity $e=0.5$, find the mean anomaly if the eccentric anomaly is $E = 0.6$ radians."
   ]
  },
  {
   "cell_type": "code",
   "execution_count": null,
   "metadata": {},
   "outputs": [],
   "source": []
  },
  {
   "cell_type": "markdown",
   "metadata": {},
   "source": [
    "(b) For a planet with orbital eccentricity $e=0.5$, find the eccentric anomaly if the mean anomaly is $M = \\pi/2$ radians. Do this by using a <code>for</code> loop to iterate\n",
    "$$E_{n+1} = M + e\\,\\sin E_n$$\n",
    "ten times, with $E_0 = M = \\pi/2$. Print your answer at the end."
   ]
  },
  {
   "cell_type": "code",
   "execution_count": null,
   "metadata": {},
   "outputs": [],
   "source": []
  },
  {
   "cell_type": "markdown",
   "metadata": {},
   "source": [
    "(c) For a planet with orbital eccentricity $e=0.5$, find the eccentric anomaly if the mean anomaly is $M = \\pi/2$ radians. Do this by using a <code>while</code> loop to iterate\n",
    "$$E_{n+1} = M + e\\,\\sin E_n$$\n",
    "until successive iterates lie within $5.0 \\times 10^{-7}$ of one another. Print your answer at the end."
   ]
  },
  {
   "cell_type": "code",
   "execution_count": null,
   "metadata": {},
   "outputs": [],
   "source": []
  },
  {
   "cell_type": "markdown",
   "metadata": {},
   "source": [
    "(d) For a planet with orbital eccentricity $e=0.5$, find the eccentric anomaly if the mean anomaly is $M = \\pi/2$ radians. Do this by using a <code>while</code> loop to iterate\n",
    "$$E_{n+1} = E_n - \\frac{E_n - e\\,\\sin E_n - M}{1 - e\\,\\cos E_n}$$\n",
    "until successive iterates lie within $5.0 \\times 10^{-7}$ of one another. Print your answer at the end."
   ]
  },
  {
   "cell_type": "code",
   "execution_count": null,
   "metadata": {},
   "outputs": [],
   "source": []
  },
  {
   "cell_type": "markdown",
   "metadata": {},
   "source": [
    "(e) By counting the number of iterations necessary in each case, compare the speeds of convergence of the methods you used in parts (c) and (d)."
   ]
  },
  {
   "cell_type": "code",
   "execution_count": null,
   "metadata": {},
   "outputs": [],
   "source": []
  },
  {
   "cell_type": "markdown",
   "metadata": {},
   "source": [
    "## Question 4 (30 marks)"
   ]
  },
  {
   "cell_type": "markdown",
   "metadata": {},
   "source": [
    "(a) Write a Python function called <code>eccentric_anomaly</code>, which \n",
    "<ul>\n",
    "    <li>takes as its arguments a value for the mean anomaly, $M$, the eccentricity, $e$ and a <code>tolerance</code>, and</li>\n",
    "    <li>returns an estimate for the eccentric anomaly.\n",
    "</ul>\n",
    "\n",
    "This estimate should based on iterating one or other of the two iterations in Question 4 parts (c) and (d) (you may choose which) until successive iterates lie within <code>tolerance</code> of one another."
   ]
  },
  {
   "cell_type": "code",
   "execution_count": null,
   "metadata": {},
   "outputs": [],
   "source": []
  },
  {
   "cell_type": "markdown",
   "metadata": {},
   "source": [
    "(b) Test your function on the case $e=0.5$, $M=\\pi/2$, using a tolerance of $5.0\\times 10^{-7}$. Test it, too, on the edge cases $M=\\pi, e=0.5$ and $M=\\pi/2, e=0.0,$ for which the mean anomaly and the eccentric anomaly ought to be equal. Comment <b>briefly</b> on the results of your tests."
   ]
  },
  {
   "cell_type": "code",
   "execution_count": null,
   "metadata": {},
   "outputs": [],
   "source": []
  },
  {
   "cell_type": "markdown",
   "metadata": {},
   "source": [
    "(c) Using in each case an eccentricity of $e=0.5$ and a tolerance of $5.0 \\times 10^{-7}$, calculate the eccentric anomaly for values of the mean anomaly between $0$ and $2\\pi$ radians in steps of $\\pi/12$. For full marks, do this using a single-line <b>comprehension</b>."
   ]
  },
  {
   "cell_type": "code",
   "execution_count": null,
   "metadata": {},
   "outputs": [],
   "source": []
  },
  {
   "cell_type": "code",
   "execution_count": null,
   "metadata": {},
   "outputs": [],
   "source": []
  }
 ],
 "metadata": {
  "kernelspec": {
   "display_name": "Python 3",
   "language": "python",
   "name": "python3"
  },
  "language_info": {
   "codemirror_mode": {
    "name": "ipython",
    "version": 3
   },
   "file_extension": ".py",
   "mimetype": "text/x-python",
   "name": "python",
   "nbconvert_exporter": "python",
   "pygments_lexer": "ipython3",
   "version": "3.8.8"
  }
 },
 "nbformat": 4,
 "nbformat_minor": 2
}
