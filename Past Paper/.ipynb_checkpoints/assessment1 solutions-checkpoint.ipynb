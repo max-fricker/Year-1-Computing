{
 "cells": [
  {
   "cell_type": "markdown",
   "metadata": {
    "nbgrader": {
     "grade": false,
     "grade_id": "cell-7768773a1cfc3752",
     "locked": true,
     "schema_version": 3,
     "solution": false
    }
   },
   "source": [
    "# M40006 In-Course Assessment\n",
    "\n",
    "# 17 December 2020, 9-11 am\n",
    "\n",
    "## Two Hours\n",
    "\n",
    "### Answer all questions, submitting your answers as a single Jupyter notebook."
   ]
  },
  {
   "cell_type": "markdown",
   "metadata": {
    "nbgrader": {
     "grade": false,
     "grade_id": "cell-2c3056a6124a5127",
     "locked": true,
     "schema_version": 3,
     "solution": false
    }
   },
   "source": [
    "To carry out this assignment, you may find useful, possibly amongst others:\n",
    "<ul>\n",
    "    <li>the core Python <code>pow</code> function;</li>\n",
    "    <li>the functions <code>asin</code>, <code>sqrt</code>, <code>log</code> and <code>gcd</code> from the <code>math</code> module;</li>\n",
    "    <li>the functions <code>asin</code> and <code>phase</code>, and the constant <code>pi</code>, from the <code>cmath</code> module;</li> \n",
    "    <li>the <code>plot</code> function from the <code>pyplot</code> module of <code>matplotlib</code>.\n",
    "</ul>\n",
    "\n",
    "It is recommended that you simply execute the following code cell:"
   ]
  },
  {
   "cell_type": "code",
   "execution_count": 4,
   "metadata": {
    "nbgrader": {
     "grade": false,
     "grade_id": "cell-9d3af8ae7bbcd825",
     "locked": true,
     "schema_version": 3,
     "solution": false
    }
   },
   "outputs": [],
   "source": [
    "%matplotlib inline\n",
    "import math\n",
    "import cmath\n",
    "import matplotlib.pyplot as plt"
   ]
  },
  {
   "cell_type": "markdown",
   "metadata": {
    "nbgrader": {
     "grade": false,
     "grade_id": "cell-3b0ada2b9a80bba9",
     "locked": true,
     "schema_version": 3,
     "solution": false
    }
   },
   "source": [
    "## Question 1 (20 marks)\n",
    "\n",
    "Using Python, and showing your code, calculate:"
   ]
  },
  {
   "cell_type": "markdown",
   "metadata": {
    "nbgrader": {
     "grade": false,
     "grade_id": "cell-e3b16606adbbf31a",
     "locked": true,
     "schema_version": 3,
     "solution": false
    }
   },
   "source": [
    "(a) $353^{252}$ as an int."
   ]
  },
  {
   "cell_type": "code",
   "execution_count": 5,
   "metadata": {
    "nbgrader": {
     "grade": true,
     "grade_id": "cell-5283fe9b75424541",
     "locked": false,
     "points": 3,
     "schema_version": 3,
     "solution": true
    }
   },
   "outputs": [
    {
     "data": {
      "text/plain": [
       "1094525181486938052263142385875995566164139501832679376900068233455654406921903870962532424604454429594159713679971618406568610607335329886294606266808234581236569416700169174050218830573965399290349622256963444042806375677313330847263196482366987376839741029981450650736484796555453172217616841558602939565503842312840187433121449930376716718079067173448405066995892546425555015458143915595086481656598252087829452087524234757185572501199344705288850559092582241500612211119400126257644224481149421596461425617100879210182485233999106010391450836595744409444491060316007102888192990020366126940141901475695389750021901922029445861602830336641"
      ]
     },
     "execution_count": 5,
     "metadata": {},
     "output_type": "execute_result"
    }
   ],
   "source": [
    "353**252\n",
    "\n",
    "# 3 marks"
   ]
  },
  {
   "cell_type": "markdown",
   "metadata": {
    "nbgrader": {
     "grade": false,
     "grade_id": "cell-ea7543901978045e",
     "locked": true,
     "schema_version": 3,
     "solution": false
    }
   },
   "source": [
    "(b) $35.0^{25.0}$ as an approximate float."
   ]
  },
  {
   "cell_type": "code",
   "execution_count": 6,
   "metadata": {
    "nbgrader": {
     "grade": true,
     "grade_id": "cell-f3ce9155e9d81a9c",
     "locked": false,
     "points": 3,
     "schema_version": 3,
     "solution": true
    }
   },
   "outputs": [
    {
     "data": {
      "text/plain": [
       "3.996695934724703e+38"
      ]
     },
     "execution_count": 6,
     "metadata": {},
     "output_type": "execute_result"
    }
   ],
   "source": [
    "35.0**25.0\n",
    "\n",
    "# 3 marks"
   ]
  },
  {
   "cell_type": "markdown",
   "metadata": {
    "nbgrader": {
     "grade": false,
     "grade_id": "cell-0260060628275456",
     "locked": true,
     "schema_version": 3,
     "solution": false
    }
   },
   "source": [
    "(c) The residue of $(353 \\times 252)$, modulo $555$."
   ]
  },
  {
   "cell_type": "code",
   "execution_count": 7,
   "metadata": {
    "nbgrader": {
     "grade": true,
     "grade_id": "cell-a8e5ebbcdddbcd79",
     "locked": false,
     "points": 3,
     "schema_version": 3,
     "solution": true
    }
   },
   "outputs": [
    {
     "data": {
      "text/plain": [
       "156"
      ]
     },
     "execution_count": 7,
     "metadata": {},
     "output_type": "execute_result"
    }
   ],
   "source": [
    "(353 * 252) % 555\n",
    "\n",
    "# 3 marks"
   ]
  },
  {
   "cell_type": "markdown",
   "metadata": {
    "nbgrader": {
     "grade": false,
     "grade_id": "cell-99fb40e2b475fdc2",
     "locked": true,
     "schema_version": 3,
     "solution": false
    }
   },
   "source": [
    "(d) The residue of $353^{252}$, modulo $555$; there are some marks for doing this fairly efficiently."
   ]
  },
  {
   "cell_type": "code",
   "execution_count": 8,
   "metadata": {
    "nbgrader": {
     "grade": true,
     "grade_id": "cell-b9b45249f78a7a43",
     "locked": false,
     "points": 4,
     "schema_version": 3,
     "solution": true
    }
   },
   "outputs": [
    {
     "data": {
      "text/plain": [
       "1"
      ]
     },
     "execution_count": 8,
     "metadata": {},
     "output_type": "execute_result"
    }
   ],
   "source": [
    "pow(353,252,555)\n",
    "\n",
    "# 4 marks\n",
    "\n",
    "# If this has been done using, for example,\n",
    "# (353 ** 252) % 55\n",
    "# award a maximum of 2 marks"
   ]
  },
  {
   "cell_type": "markdown",
   "metadata": {
    "nbgrader": {
     "grade": false,
     "grade_id": "cell-3744f46358c8eadf",
     "locked": true,
     "schema_version": 3,
     "solution": false
    }
   },
   "source": [
    "(e) $\\arcsin(0.5)$, as a float."
   ]
  },
  {
   "cell_type": "code",
   "execution_count": 9,
   "metadata": {
    "nbgrader": {
     "grade": true,
     "grade_id": "cell-a108cf0248f58238",
     "locked": false,
     "points": 4,
     "schema_version": 3,
     "solution": true
    }
   },
   "outputs": [
    {
     "data": {
      "text/plain": [
       "0.5235987755982989"
      ]
     },
     "execution_count": 9,
     "metadata": {},
     "output_type": "execute_result"
    }
   ],
   "source": [
    "math.asin(0.5)\n",
    "\n",
    "# 4 marks\n",
    "\n",
    "# If the wrong module has been used, award up to 2 marks \n",
    "# (numpy is permissible, but cmath and sympy aren't)"
   ]
  },
  {
   "cell_type": "markdown",
   "metadata": {
    "nbgrader": {
     "grade": false,
     "grade_id": "cell-47dd8a847b0bd23f",
     "locked": true,
     "schema_version": 3,
     "solution": false
    }
   },
   "source": [
    "(f) $\\arcsin(2\\,i)$, as a complex."
   ]
  },
  {
   "cell_type": "code",
   "execution_count": 10,
   "metadata": {
    "nbgrader": {
     "grade": true,
     "grade_id": "cell-366a2c0ddd821e0a",
     "locked": false,
     "points": 3,
     "schema_version": 3,
     "solution": true
    }
   },
   "outputs": [
    {
     "data": {
      "text/plain": [
       "1.4436354751788103j"
      ]
     },
     "execution_count": 10,
     "metadata": {},
     "output_type": "execute_result"
    }
   ],
   "source": [
    "import cmath\n",
    "cmath.asin(0+2j)\n",
    "\n",
    "# 3 marks\n",
    "\n",
    "# Use of numpy is permissible"
   ]
  },
  {
   "cell_type": "markdown",
   "metadata": {
    "nbgrader": {
     "grade": false,
     "grade_id": "cell-98993209ca7533c8",
     "locked": true,
     "schema_version": 3,
     "solution": false
    }
   },
   "source": [
    "## Question 2 (20 marks)\n",
    "\n",
    "(a) The following double comprehension creates a list of complex numbers of the form $m + n\\,i$, where $m$ and $n$ are natural numbers:"
   ]
  },
  {
   "cell_type": "code",
   "execution_count": 11,
   "metadata": {
    "nbgrader": {
     "grade": false,
     "grade_id": "cell-215442553308eb1c",
     "locked": true,
     "schema_version": 3,
     "solution": false
    }
   },
   "outputs": [
    {
     "name": "stdout",
     "output_type": "stream",
     "text": [
      "[(2+1j), (3+1j), (3+2j), (4+1j), (4+2j), (4+3j), (5+1j), (5+2j), (5+3j), (5+4j), (6+1j), (6+2j), (6+3j), (6+4j), (6+5j), (7+1j), (7+2j), (7+3j), (7+4j), (7+5j), (7+6j), (8+1j), (8+2j), (8+3j), (8+4j), (8+5j), (8+6j), (8+7j), (9+1j), (9+2j), (9+3j), (9+4j), (9+5j), (9+6j), (9+7j), (9+8j), (10+1j), (10+2j), (10+3j), (10+4j), (10+5j), (10+6j), (10+7j), (10+8j), (10+9j)]\n"
     ]
    }
   ],
   "source": [
    "g_ints = [complex(m,n) for m in range(1,11) for n in range(1,m)]\n",
    "print(g_ints)"
   ]
  },
  {
   "cell_type": "markdown",
   "metadata": {
    "nbgrader": {
     "grade": false,
     "grade_id": "cell-21eceb02d1cfe144",
     "locked": true,
     "schema_version": 3,
     "solution": false
    }
   },
   "source": [
    "Describe as carefully as possible the location of these points in the complex plane."
   ]
  },
  {
   "cell_type": "markdown",
   "metadata": {
    "nbgrader": {
     "grade": true,
     "grade_id": "cell-7b3e4bd6a257bf9c",
     "locked": false,
     "points": 3,
     "schema_version": 3,
     "solution": true
    }
   },
   "source": [
    "These are points in the interior of the triangle whose vertices are $0$, $11$ and $11+11i$ (or equivalent).\n",
    "\n",
    "<b>(3 marks)</b>"
   ]
  },
  {
   "cell_type": "markdown",
   "metadata": {
    "nbgrader": {
     "grade": false,
     "grade_id": "cell-d5c6bc7408a302c7",
     "locked": true,
     "schema_version": 3,
     "solution": false
    }
   },
   "source": [
    "(b) The following filter comprehension selects only those members of `g_ints` whose argument (called \"phase\" in `cmath`) is greater than $\\pi/8$:"
   ]
  },
  {
   "cell_type": "code",
   "execution_count": 12,
   "metadata": {
    "nbgrader": {
     "grade": false,
     "grade_id": "cell-3b52f58818ba83c5",
     "locked": true,
     "schema_version": 3,
     "solution": false
    }
   },
   "outputs": [
    {
     "name": "stdout",
     "output_type": "stream",
     "text": [
      "[(2+1j), (3+2j), (4+2j), (4+3j), (5+3j), (5+4j), (6+3j), (6+4j), (6+5j), (7+3j), (7+4j), (7+5j), (7+6j), (8+4j), (8+5j), (8+6j), (8+7j), (9+4j), (9+5j), (9+6j), (9+7j), (9+8j), (10+5j), (10+6j), (10+7j), (10+8j), (10+9j)]\n"
     ]
    }
   ],
   "source": [
    "g_ints2 = [z for z in g_ints if cmath.phase(z) > cmath.pi/8]\n",
    "print(g_ints2)"
   ]
  },
  {
   "cell_type": "markdown",
   "metadata": {
    "nbgrader": {
     "grade": false,
     "grade_id": "cell-aa14c7ff170338cd",
     "locked": true,
     "schema_version": 3,
     "solution": false
    }
   },
   "source": [
    "Create and print a list called `g_ints3` consisting of all those elements of `g_ints2` whose absolute value is less than or equal to 10."
   ]
  },
  {
   "cell_type": "code",
   "execution_count": 13,
   "metadata": {
    "nbgrader": {
     "grade": true,
     "grade_id": "cell-38e4c8fde77077e2",
     "locked": false,
     "points": 4,
     "schema_version": 3,
     "solution": true
    }
   },
   "outputs": [
    {
     "name": "stdout",
     "output_type": "stream",
     "text": [
      "[(2+1j), (3+2j), (4+2j), (4+3j), (5+3j), (5+4j), (6+3j), (6+4j), (6+5j), (7+3j), (7+4j), (7+5j), (7+6j), (8+4j), (8+5j), (8+6j), (9+4j)]\n"
     ]
    }
   ],
   "source": [
    "g_ints3 = [z for z in g_ints2 if abs(z) <= 10]\n",
    "print(g_ints3)\n",
    "\n",
    "# 4 marks\n",
    "\n",
    "# 3 marks for creating g_ints3 correctly\n",
    "# 1 mark for printing it"
   ]
  },
  {
   "cell_type": "markdown",
   "metadata": {
    "nbgrader": {
     "grade": false,
     "grade_id": "cell-548ab2322bc3b6ac",
     "locked": true,
     "schema_version": 3,
     "solution": false
    }
   },
   "source": [
    "(c) Create and print a list called `squares` consisting of the squares of all the complex numbers in `g_ints3`."
   ]
  },
  {
   "cell_type": "code",
   "execution_count": 14,
   "metadata": {
    "nbgrader": {
     "grade": true,
     "grade_id": "cell-0609713398a83702",
     "locked": false,
     "points": 4,
     "schema_version": 3,
     "solution": true
    }
   },
   "outputs": [
    {
     "name": "stdout",
     "output_type": "stream",
     "text": [
      "[(3+4j), (5+12j), (12+16j), (7+24j), (16+30j), (9+40j), (27+36j), (20+48j), (11+60j), (40+42j), (33+56j), (24+70j), (13+84j), (48+64j), (39+80j), (28+96j), (65+72j)]\n"
     ]
    }
   ],
   "source": [
    "squares = [z**2 for z in g_ints3]\n",
    "print(squares)\n",
    "\n",
    "# 4 marks\n",
    "\n",
    "# 3 marks for creating squares correctly\n",
    "# 1 mark for printing it"
   ]
  },
  {
   "cell_type": "markdown",
   "metadata": {
    "nbgrader": {
     "grade": false,
     "grade_id": "cell-43a347e1f79d0922",
     "locked": true,
     "schema_version": 3,
     "solution": false
    }
   },
   "source": [
    "(d) Create and print a list called `triples` where each element is a tuple of length 3, consisting of the real part, imaginary part and absolute value of each of the elements of `squares`, <em>as ints</em>. Recall that the real and imaginary parts of, say, $3+4\\,i$ are given by\n",
    "```python\n",
    "(3+4j).real, (3+4j).imag\n",
    "```\n"
   ]
  },
  {
   "cell_type": "code",
   "execution_count": 15,
   "metadata": {
    "nbgrader": {
     "grade": true,
     "grade_id": "cell-ab8190a7485c6be4",
     "locked": false,
     "points": 5,
     "schema_version": 3,
     "solution": true
    }
   },
   "outputs": [
    {
     "name": "stdout",
     "output_type": "stream",
     "text": [
      "[(3, 4, 5), (5, 12, 13), (12, 16, 20), (7, 24, 25), (16, 30, 34), (9, 40, 41), (27, 36, 45), (20, 48, 52), (11, 60, 61), (40, 42, 58), (33, 56, 65), (24, 70, 74), (13, 84, 85), (48, 64, 80), (39, 80, 89), (28, 96, 100), (65, 72, 97)]\n"
     ]
    }
   ],
   "source": [
    "triples = [(int(z.real), int(z.imag), int(abs(z))) for z in squares]\n",
    "print(triples)\n",
    "\n",
    "# 5 marks\n",
    "\n",
    "# 4 marks for creating squares correctly\n",
    "# (of those 4, award up to 2 marks if the elements of the tuples are not ints)\n",
    "# (of those 4, award up to 3 marks if the elements of triples are, say, lists rather than tuples)\n",
    "\n",
    "# 1 mark for printing it"
   ]
  },
  {
   "cell_type": "markdown",
   "metadata": {
    "nbgrader": {
     "grade": false,
     "grade_id": "cell-516e4e7cd1d32430",
     "locked": true,
     "schema_version": 3,
     "solution": false
    }
   },
   "source": [
    "(e) Write some Python code to show that each of the elements of `triples`, your list from part (d), is a Pythagorean triple: that is, that each tuple `(a, b, c)` satisfies $a^2+b^2=c^2$."
   ]
  },
  {
   "cell_type": "code",
   "execution_count": null,
   "metadata": {
    "nbgrader": {
     "grade": true,
     "grade_id": "cell-a32cb5574fa2690a",
     "locked": false,
     "points": 4,
     "schema_version": 3,
     "solution": true
    }
   },
   "outputs": [],
   "source": [
    "all([trip[0]**2+trip[1]**2==trip[2]**2 for trip in triples])\n",
    "\n",
    "# 4 marks\n",
    "\n",
    "# Accept anything equivalent or valid, such as \n",
    "# print([trip[0]**2+trip[1]**2==trip[2]**2 for trip in triples])\n",
    "# which will print a list of Trues"
   ]
  },
  {
   "cell_type": "markdown",
   "metadata": {
    "nbgrader": {
     "grade": false,
     "grade_id": "cell-5fa7c9b5af4004aa",
     "locked": true,
     "schema_version": 3,
     "solution": false
    }
   },
   "source": [
    "## Question 3 (35 marks)\n",
    "\n",
    "The integer $23005543287841$ is the product of two distinct primes. The challenge is to find these primes.\n",
    "\n",
    "<b>Algorithm 1</b> works as follows.\n",
    "\n",
    "For values of $r$ greater than or equal to $2$, and less than or equal to the square root of $23005543287841$, check whether $r$ is a factor of $23005543287841$. If it is, print this value of $r$ and stop; otherwise continue the loop.\n",
    "\n",
    "(a) Here is some code that implements algorithm 1, using a `for` loop. By executing it, find one of the prime factors of $23005543287841$."
   ]
  },
  {
   "cell_type": "code",
   "execution_count": 5,
   "metadata": {
    "nbgrader": {
     "grade": false,
     "grade_id": "cell-ba36e7e7dc40c251",
     "locked": true,
     "schema_version": 3,
     "solution": false
    }
   },
   "outputs": [
    {
     "name": "stdout",
     "output_type": "stream",
     "text": [
      "4483273\n"
     ]
    }
   ],
   "source": [
    "import math\n",
    "n = 23005543287841\n",
    "for r in range(2,int(math.sqrt(n))+1):\n",
    "    if n % r == 0:\n",
    "        print(r)\n",
    "        break"
   ]
  },
  {
   "cell_type": "code",
   "execution_count": null,
   "metadata": {
    "nbgrader": {
     "grade": true,
     "grade_id": "cell-1a3def6ab07047bb",
     "locked": false,
     "points": 1,
     "schema_version": 1,
     "solution": true
    }
   },
   "outputs": [],
   "source": [
    "# One mark for simply executing the above cell!"
   ]
  },
  {
   "cell_type": "markdown",
   "metadata": {
    "nbgrader": {
     "grade": false,
     "grade_id": "cell-716c6019954e023f",
     "locked": true,
     "schema_version": 3,
     "solution": false
    }
   },
   "source": [
    "(b) Use Python to check that the number you've found really is a factor of $23005543287841$. Explain briefly how you know it must be prime."
   ]
  },
  {
   "cell_type": "code",
   "execution_count": null,
   "metadata": {
    "nbgrader": {
     "grade": true,
     "grade_id": "cell-bca7db84f9713c17",
     "locked": false,
     "points": 4,
     "schema_version": 3,
     "solution": true
    }
   },
   "outputs": [],
   "source": [
    "# 4 marks\n",
    "\n",
    "n % r"
   ]
  },
  {
   "cell_type": "markdown",
   "metadata": {
    "nbgrader": {
     "grade": true,
     "grade_id": "cell-9b74add230df9fe4",
     "locked": false,
     "points": 4,
     "schema_version": 3,
     "solution": true
    }
   },
   "source": [
    "$r$ must be prime, because as it's a factor of $n$, all its factors are factors of $n$, and if it has any other than $1$ and $r$, the loop would have encountered the smallest of them first.\n",
    "\n",
    "<b>(4 marks)</b>\n",
    "\n",
    "[Accept any valid explanation. Award marks for less than entirely convincing explanations at your discretion.]"
   ]
  },
  {
   "cell_type": "markdown",
   "metadata": {
    "nbgrader": {
     "grade": false,
     "grade_id": "cell-c0677e74909bc0ba",
     "locked": true,
     "schema_version": 3,
     "solution": false
    }
   },
   "source": [
    "(c) Find, as an int, the other prime factor of $23005543287841$."
   ]
  },
  {
   "cell_type": "code",
   "execution_count": 6,
   "metadata": {
    "nbgrader": {
     "grade": true,
     "grade_id": "cell-887fefb6c615feb0",
     "locked": false,
     "points": 4,
     "schema_version": 3,
     "solution": true
    }
   },
   "outputs": [
    {
     "data": {
      "text/plain": [
       "5131417"
      ]
     },
     "execution_count": 6,
     "metadata": {},
     "output_type": "execute_result"
    }
   ],
   "source": [
    "# 4 marks\n",
    "\n",
    "n//r"
   ]
  },
  {
   "cell_type": "markdown",
   "metadata": {
    "nbgrader": {
     "grade": false,
     "grade_id": "cell-e4d02f57b7eea586",
     "locked": true,
     "schema_version": 3,
     "solution": false
    }
   },
   "source": [
    "(d) Explain briefly why it is necessary to iterate only as far as, at most, the square root of $23005543287841$. How many iterations were in fact needed?"
   ]
  },
  {
   "cell_type": "markdown",
   "metadata": {
    "nbgrader": {
     "grade": true,
     "grade_id": "cell-dd6959ed91fa58d0",
     "locked": false,
     "points": 7,
     "schema_version": 3,
     "solution": true
    }
   },
   "source": [
    "Given that $n$ has factors other than $1$ and $n$, at least one of them will be less than or equal than $\\sqrt{n}$, since the product of any two factors greater than $\\sqrt{n}$ exceeds $n$.\n",
    "\n",
    "In fact, the algorithm iterated through $2, 3, 4, \\dots, 4483273$, and therefore $4483272$ iterations were needed; this is slightly less than $\\sqrt{n} \\approx 4796409$.\n",
    "\n",
    "<b>(7 marks)</b>\n",
    "\n",
    "[5 marks for the justification in the first paragraph. Accept any valid argument; award marks for less than convincing arguments at your discretion.\n",
    "\n",
    "2 marks for the number of iterations; deduct 1 mark for an off-by-one error]\n",
    "\n"
   ]
  },
  {
   "cell_type": "markdown",
   "metadata": {
    "nbgrader": {
     "grade": false,
     "grade_id": "cell-33b94fc5ece612be",
     "locked": true,
     "schema_version": 3,
     "solution": false
    }
   },
   "source": [
    "<b>Algorithm 2</b> actually isn't guaranteed to work in all cases, but it often works very quickly. It's defined like this.\n",
    "\n",
    "Define the function $g$ as follows: $g(x)$ is the residue of $x^2+1$, reduced modulo $23005543287841$.\n",
    "\n",
    "Set $x$ and $y$ equal to $2$, and set $d=1$.\n",
    "\n",
    "While $d$ is less than $23005543287841$, repeat the following steps:\n",
    "<ul>\n",
    "    <li>Set $x$ equal to $g(x)$.</li>\n",
    "    <li>Set $y$ equal to $g(g(y))$.</li>\n",
    "    <li>Set $d$ equal to $\\gcd(|x-y|,23005543287841)$.</li>\n",
    "    <li>If $1<d<23005543287841$, then $d$ is a suitable factor of $23005543287841$; print it and stop. Otherwise, continue the loop.</li>\n",
    "</ul>\n",
    "\n",
    "(f) Write some code that implements algorithm 2, and confirm that it finds one of the prime factors of $23005543287841$."
   ]
  },
  {
   "cell_type": "code",
   "execution_count": null,
   "metadata": {
    "nbgrader": {
     "grade": true,
     "grade_id": "cell-c2c00c5739691f81",
     "locked": false,
     "points": 9,
     "schema_version": 3,
     "solution": true
    }
   },
   "outputs": [],
   "source": [
    "n = 23005543287841\n",
    "def g(x):\n",
    "    return (x**2 + 1) % n\n",
    "\n",
    "x, y, d = 2, 2, 1\n",
    "while d < n:\n",
    "    x, y = g(x), g(g(y))\n",
    "    d = math.gcd(abs(x-y), n)\n",
    "    if d > 1:\n",
    "        print(d)\n",
    "        break\n",
    "\n",
    "# 9 marks"
   ]
  },
  {
   "cell_type": "markdown",
   "metadata": {
    "nbgrader": {
     "grade": false,
     "grade_id": "cell-dd1fbf14a2e44967",
     "locked": true,
     "schema_version": 3,
     "solution": false
    }
   },
   "source": [
    "(g) Amend your code in order to calculate the number of iterations necessary for finding a suitable factor of $23005543287841$ using algorithm 2."
   ]
  },
  {
   "cell_type": "code",
   "execution_count": 9,
   "metadata": {
    "nbgrader": {
     "grade": true,
     "grade_id": "cell-14f4c40ba0034d46",
     "locked": false,
     "points": 6,
     "schema_version": 3,
     "solution": true
    }
   },
   "outputs": [
    {
     "name": "stdout",
     "output_type": "stream",
     "text": [
      "5131417\n",
      "Number of iterations: 2100\n"
     ]
    }
   ],
   "source": [
    "n = 23005543287841\n",
    "def g(x):\n",
    "    return (x**2 + 1) % n\n",
    "\n",
    "x, y, d, count = 2, 2, 1, 0\n",
    "while d < n:\n",
    "    count += 1\n",
    "    x, y = g(x), g(g(y))\n",
    "    d = math.gcd(abs(x-y), n)\n",
    "    if d > 1:\n",
    "        print(d)\n",
    "        print('Number of iterations: {}'.format(count))\n",
    "        break\n",
    "\n",
    "# 6 marks"
   ]
  },
  {
   "cell_type": "markdown",
   "metadata": {
    "nbgrader": {
     "grade": false,
     "grade_id": "cell-a8d5f8fe140b77a9",
     "locked": true,
     "schema_version": 3,
     "solution": false
    }
   },
   "source": [
    "## Question 4 (25 marks)\n",
    "\n",
    "(a) Write and test a Python function called `divisors` for calculating two proper divisors of a composite positive integer. Ideally, it should use algorithm 2, but if you weren't able to get that to work, use algorithm 1.\n",
    "\n",
    "Your function should take as its sole argument `n`, which may be assumed to be an int greater than 5, and to be composite. It should return two ints greater than 1, whose product must be `n`; it is not necessary that both be prime.\n",
    "\n",
    "Note that the divisors must be <em>returned</em>, and not merely <em>printed</em>.\n",
    "\n",
    "For full marks, your code should be suitably commented, and your function should include a one-line docstring.\n",
    "\n",
    "Make sure that you test on a variety of cases. (If you've used algorithm 2, you may find it occasionally fails; there are ways to deal with that, but for today, let's just put up with it! This failure should very much be the exception, if it occurs at all.)\n",
    "\n",
    "Make sure, too, that you show evidence of this testing."
   ]
  },
  {
   "cell_type": "code",
   "execution_count": null,
   "metadata": {
    "nbgrader": {
     "grade": true,
     "grade_id": "cell-9e85fbeef9bcbcd8",
     "locked": false,
     "points": 10,
     "schema_version": 3,
     "solution": true
    }
   },
   "outputs": [],
   "source": [
    "def divisors(n):\n",
    "    \"Calculates two integer divisors of n\"\n",
    "    \n",
    "    # function g that is iterated\n",
    "    def g(x):\n",
    "        return (x**2 + 1) % n\n",
    "\n",
    "    # initialize variables\n",
    "    x, y, d = 2, 2, 1\n",
    "    \n",
    "    # while loop\n",
    "    while d < n:\n",
    "        # update x and y\n",
    "        x, y = g(x), g(g(y))\n",
    "        # update d\n",
    "        d = math.gcd(abs(x-y), n)\n",
    "        # check whether d is a divisor other than n\n",
    "        if d > 1:\n",
    "            return d, n//d\n",
    "\n",
    "# testing: note, it fails for 341, and some fails are to be expected\n",
    "print('Algorithm 2 Version Testing')\n",
    "print(divisors(n))\n",
    "print(divisors(91))\n",
    "print(divisors(341))\n",
    "print('\\n')\n",
    "\n",
    "# Here's a version based on algorithm 1, which you should also allow\n",
    "# with no penalty\n",
    "def divisors_alg1(n):    \n",
    "    \"Calculates two integer divisors of n\"\n",
    "    \n",
    "    # for loop\n",
    "    for r in range(2,int(math.sqrt(n))+1):\n",
    "        # test whether r is a factor of n\n",
    "        if n % r == 0:\n",
    "            # r is a factor\n",
    "            return r, n//r\n",
    "        \n",
    "# testing: this one should work for all n\n",
    "print('Algorithm 1 Version Testing')\n",
    "print(divisors_alg1(n))\n",
    "print(divisors_alg1(91))\n",
    "print(divisors_alg1(341))\n",
    "\n",
    "# 10 marks in total. Deduct:\n",
    "\n",
    "# 2 marks for any substantial NEW coding error you have not already penalised in Q3\n",
    "# 2 marks for printing values instead of returning them\n",
    "# 1 mark (up to a maximum of 2) for each element of the output that is not an int\n",
    "# 1 mark for missing docstring\n",
    "# 1 mark for uncommented code\n",
    "# up to 2 marks for missing or cursory testing"
   ]
  },
  {
   "cell_type": "markdown",
   "metadata": {
    "nbgrader": {
     "grade": false,
     "grade_id": "cell-ec2d23abb3035e50",
     "locked": true,
     "schema_version": 3,
     "solution": false
    }
   },
   "source": [
    "(b) How does your function deal with prime `n`? If necessary, amend your code so that it <b>prints</b> a string telling the user their `n` seems to be prime, and <b>returns</b> the divisors `n` and `1`. Test, showing evidence of this testing."
   ]
  },
  {
   "cell_type": "code",
   "execution_count": null,
   "metadata": {
    "nbgrader": {
     "grade": true,
     "grade_id": "cell-32ed6d6c66de5ec8",
     "locked": false,
     "points": 5,
     "schema_version": 3,
     "solution": true
    }
   },
   "outputs": [],
   "source": [
    "print('Algorithm 2 Version Pre-testing')\n",
    "print(divisors(17))\n",
    "print('\\n')\n",
    "\n",
    "# this is sensible behaviour, but it should give a warning\n",
    "# here is an amended version [I've given it a new name, but the students needn't]\n",
    "\n",
    "def divisors2(n):\n",
    "    \"Calculates two integer divisors of n\"\n",
    "    \n",
    "    # function g that is iterated\n",
    "    def g(x):\n",
    "        return (x**2 + 1) % n\n",
    "\n",
    "    # initialize variables\n",
    "    x, y, d = 2, 2, 1\n",
    "    \n",
    "    # while loop\n",
    "    while d < n:\n",
    "        # update x and y\n",
    "        x, y = g(x), g(g(y))\n",
    "        # update d\n",
    "        d = math.gcd(abs(x-y), n)\n",
    "        # check whether d is a divisor other than n\n",
    "        if d > 1:\n",
    "            if d == n:\n",
    "                print('The number {} seems to be prime'.format(n))\n",
    "            return d, n//d\n",
    "\n",
    "print('Algorithm 2 Version Post-testing')\n",
    "print(divisors2(17))\n",
    "print('\\n')\n",
    "\n",
    "# Here's a version based on Algorithm 1, which you should accept\n",
    "# with no penalty\n",
    "\n",
    "print('Algorithm 1 Version Pre-testing')\n",
    "print(divisors_alg1(17))\n",
    "print('\\n')\n",
    "\n",
    "# Amended code:\n",
    "def divisors_alg1_2(n):    \n",
    "    \"Calculates two integer divisors of n\"\n",
    "    \n",
    "    # for loop\n",
    "    for r in range(2,int(math.sqrt(n))+1):\n",
    "        # test whether r is a factor of n\n",
    "        if n % r == 0:\n",
    "            # r is a factor\n",
    "            return r, n//r\n",
    "        print('The number {} seems to be prime'.format(n))\n",
    "        return(n, 1)\n",
    "\n",
    "print('Algorithm 1 Version Post-testing')\n",
    "print(divisors_alg1_2(17))\n",
    "\n",
    "# 5 marks\n",
    "\n",
    "# 1 mark for pre-testing\n",
    "# 3 marks for correctly amending code\n",
    "# 1 mark for post-testing\n",
    "# Accept any valid amendment of the student's code"
   ]
  },
  {
   "cell_type": "markdown",
   "metadata": {
    "nbgrader": {
     "grade": false,
     "grade_id": "cell-30883a41b40ac7f0",
     "locked": true,
     "schema_version": 3,
     "solution": false
    }
   },
   "source": [
    "(c) By amending your `divisors` function in a suitable way (and perhaps giving it a new name like `divisors_iteration_count`), calculate the number of iterations necessary to factorise each of the following integers, of increasing size.\n",
    "\n",
    "If your function uses algorithm 1, use the integers $25096579$, $1634498947$, $176792904703$, $23005543287841$ and $3004650884700271$. \n",
    "\n",
    "If your function uses algorithm 2, use the integers $23005543287841$, $3004650884700271$, $303919407802915297$, $36129009292372853471$ and $3449957987637480913651$.\n",
    "\n",
    "These have been given in a couple of lists in the cell below."
   ]
  },
  {
   "cell_type": "code",
   "execution_count": 2,
   "metadata": {
    "nbgrader": {
     "grade": false,
     "grade_id": "cell-174d0bc549edf0e4",
     "locked": true,
     "schema_version": 3,
     "solution": false
    }
   },
   "outputs": [],
   "source": [
    "test_values_alg1 = [25096579, 1634498947, 176792904703, 23005543287841, 3004650884700271]\n",
    "test_values_alg2 = [23005543287841, 3004650884700271, 303919407802915297, 36129009292372853471, 3449957987637480913651]"
   ]
  },
  {
   "cell_type": "code",
   "execution_count": 5,
   "metadata": {
    "nbgrader": {
     "grade": true,
     "grade_id": "cell-7ae6b08b9a35e127",
     "locked": false,
     "points": 5,
     "schema_version": 1,
     "solution": true
    }
   },
   "outputs": [
    {
     "name": "stdout",
     "output_type": "stream",
     "text": [
      "Algorithm 2 count test:\n",
      "[2100, 7390, 11712, 70367, 238460]\n",
      "Algorithm 1 count test:\n",
      "[4152, 34210, 292702, 4483272, 45426652]\n"
     ]
    }
   ],
   "source": [
    "def divisors_iteration_count(n):\n",
    "    \"Counts the number of iterations necessary in order to calculate two integer divisors of n\"\n",
    "    \n",
    "    # function g that is iterated\n",
    "    def g(x):\n",
    "        return (x**2 + 1) % n\n",
    "\n",
    "    # initialize variables\n",
    "    x, y, d, count = 2, 2, 1, 0\n",
    "    \n",
    "    # while loop\n",
    "    while d < n:\n",
    "        count += 1\n",
    "        # update x and y\n",
    "        x, y = g(x), g(g(y))\n",
    "        # update d\n",
    "        d = math.gcd(abs(x-y), n)\n",
    "        # check whether d is a divisor other than n\n",
    "        if d > 1:\n",
    "            return count\n",
    "\n",
    "print('Algorithm 2 count test:')\n",
    "print([divisors_iteration_count(n) for n in test_values_alg2])\n",
    "\n",
    "# Here's an Algorithm 1 version, which you should accept\n",
    "# with no penalty\n",
    "\n",
    "def divisors_alg1_iteration_count(n):    \n",
    "    \"Calculates number of iterations necessary to find factors of n\"\n",
    "    \n",
    "    # for loop\n",
    "    for r in range(2,int(math.sqrt(n))+1):\n",
    "        # test whether r is a factor of n\n",
    "        if n % r == 0:\n",
    "            # r is a factor\n",
    "            return r-1\n",
    "\n",
    "\n",
    "print('Algorithm 1 count test:')\n",
    "print([divisors_alg1_iteration_count(n) for n in test_values_alg1])\n",
    "\n",
    "# 5 marks\n",
    "\n",
    "# 3 marks for correctly amending code\n",
    "# 2 marks for testing"
   ]
  },
  {
   "cell_type": "markdown",
   "metadata": {
    "nbgrader": {
     "grade": false,
     "grade_id": "cell-4ce7dae2dff9f000",
     "locked": true,
     "schema_version": 3,
     "solution": false
    }
   },
   "source": [
    "(d) Create a point plot showing, on the vertical axis, the logarithm of the number of iterations necessary to find a factor of `n`, against, on the horizontal axis, the logarithm of `n`."
   ]
  },
  {
   "cell_type": "code",
   "execution_count": 6,
   "metadata": {
    "nbgrader": {
     "grade": true,
     "grade_id": "cell-5f5558d91eca680c",
     "locked": false,
     "points": 5,
     "schema_version": 3,
     "solution": true
    }
   },
   "outputs": [
    {
     "data": {
      "text/plain": [
       "[<matplotlib.lines.Line2D at 0x18f1c475eb8>]"
      ]
     },
     "execution_count": 6,
     "metadata": {},
     "output_type": "execute_result"
    },
    {
     "data": {
      "image/png": "[encoded data removed]",
      "text/plain": [
       "<Figure size 432x288 with 1 Axes>"
      ]
     },
     "metadata": {
      "needs_background": "light"
     },
     "output_type": "display_data"
    }
   ],
   "source": [
    "plt.plot([math.log(n) for n in test_values_alg2], [math.log(divisors_iteration_count(n)) for n in test_values_alg2], '.')\n",
    "\n",
    "# 5 marks\n",
    "\n",
    "# Deduct 2 marks if logarithms have not been used\n",
    "# Deduct 1 mark if a line plot has been given\n",
    "# Allow, but don't require, use of specialist logarithmic\n",
    "# plotting function, instead of taking logarithms\n",
    "# Allow version based on Algorithm 1; these are roughly on a \n",
    "# straight line with gradient approximately 1/2"
   ]
  },
  {
   "cell_type": "code",
   "execution_count": null,
   "metadata": {},
   "outputs": [],
   "source": []
  }
 ],
 "metadata": {
  "celltoolbar": "Create Assignment",
  "kernelspec": {
   "display_name": "Python 3",
   "language": "python",
   "name": "python3"
  },
  "language_info": {
   "codemirror_mode": {
    "name": "ipython",
    "version": 3
   },
   "file_extension": ".py",
   "mimetype": "text/x-python",
   "name": "python",
   "nbconvert_exporter": "python",
   "pygments_lexer": "ipython3",
   "version": "3.8.8"
  }
 },
 "nbformat": 4,
 "nbformat_minor": 4
}
