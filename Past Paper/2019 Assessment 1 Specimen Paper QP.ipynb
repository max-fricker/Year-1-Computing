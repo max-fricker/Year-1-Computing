{
 "cells": [
  {
   "cell_type": "markdown",
   "metadata": {},
   "source": [
    "# M40006 In-Course Assessment\n",
    "\n",
    "# Specimen Paper\n",
    "\n",
    "## Two Hours\n",
    "\n",
    "### Answer all questions, submitting your answers as a single Jupyter notebook."
   ]
  },
  {
   "cell_type": "markdown",
   "metadata": {},
   "source": [
    "## Question 1 (20 marks)\n",
    "\n",
    "Using Python, and showing your code, calculate:"
   ]
  },
  {
   "cell_type": "markdown",
   "metadata": {},
   "source": [
    "(a) $5^{2+8}$ as an int."
   ]
  },
  {
   "cell_type": "code",
   "execution_count": 1,
   "metadata": {},
   "outputs": [
    {
     "name": "stdout",
     "output_type": "stream",
     "text": [
      "9765625\n"
     ]
    }
   ],
   "source": [
    "print(5 ** (2 + 8))"
   ]
  },
  {
   "cell_type": "markdown",
   "metadata": {},
   "source": [
    "(b) $\\displaystyle{\\sin\\left(\\frac{\\pi}{12}\\right)}$ as a float."
   ]
  },
  {
   "cell_type": "code",
   "execution_count": 2,
   "metadata": {},
   "outputs": [
    {
     "name": "stdout",
     "output_type": "stream",
     "text": [
      "0.25881904510252074\n"
     ]
    }
   ],
   "source": [
    "import math\n",
    "\n",
    "print(math.sin(math.pi/12))"
   ]
  },
  {
   "cell_type": "markdown",
   "metadata": {},
   "source": [
    "(c) The residue of $19207812^{41506412}$ modulo $32271881$ as an int."
   ]
  },
  {
   "cell_type": "code",
   "execution_count": 3,
   "metadata": {},
   "outputs": [
    {
     "name": "stdout",
     "output_type": "stream",
     "text": [
      "8333554\n"
     ]
    }
   ],
   "source": [
    "print(pow(19207812, 41506412, 32271881))"
   ]
  },
  {
   "cell_type": "markdown",
   "metadata": {},
   "source": [
    "(d) As floats, the two roots of $12\\,x^2 + 11\\,x - 15 = 0$ (you may use the quadratic formula)."
   ]
  },
  {
   "cell_type": "code",
   "execution_count": 4,
   "metadata": {},
   "outputs": [
    {
     "name": "stdout",
     "output_type": "stream",
     "text": [
      "0.75\n",
      "-1.6666666666666667\n"
     ]
    }
   ],
   "source": [
    "print((-11 + math.sqrt((11) ** 2 - 4 * 12 * -15)) / (2 * 12))\n",
    "\n",
    "print((-11 - math.sqrt((11) ** 2 - 4 * 12 * -15)) / (2 * 12))"
   ]
  },
  {
   "cell_type": "markdown",
   "metadata": {},
   "source": [
    "(e) As complexes, the two roots of $9\\,z^2 - 12\\,z + 5 = 0$ (you may use the quadratic formula)."
   ]
  },
  {
   "cell_type": "code",
   "execution_count": 5,
   "metadata": {},
   "outputs": [
    {
     "name": "stdout",
     "output_type": "stream",
     "text": [
      "(0.6666666666666666+0.3333333333333333j)\n",
      "(0.6666666666666666-0.3333333333333333j)\n"
     ]
    }
   ],
   "source": [
    "import cmath\n",
    "\n",
    "print((12 + cmath.sqrt((12) ** 2 - 4 * 9 * 5)) / (2 * 9))\n",
    "\n",
    "print((12 - cmath.sqrt((12) ** 2 - 4 * 9 * 5)) / (2 * 9))"
   ]
  },
  {
   "cell_type": "markdown",
   "metadata": {},
   "source": [
    "(f) As a complex, the value of $\\ln (-e)$."
   ]
  },
  {
   "cell_type": "code",
   "execution_count": 6,
   "metadata": {},
   "outputs": [
    {
     "name": "stdout",
     "output_type": "stream",
     "text": [
      "(1+3.141592653589793j)\n"
     ]
    }
   ],
   "source": [
    "print(cmath.log(-math.e))"
   ]
  },
  {
   "cell_type": "markdown",
   "metadata": {},
   "source": [
    "## Question 2 (20 marks)\n",
    "\n",
    "(a) Assigning in each case an appropriate variable name, create:"
   ]
  },
  {
   "cell_type": "markdown",
   "metadata": {},
   "source": [
    "(i) A <code>range</code> object containing the numbers $5, 9, 13, \\dots, 101, 105$."
   ]
  },
  {
   "cell_type": "code",
   "execution_count": 54,
   "metadata": {},
   "outputs": [
    {
     "data": {
      "text/plain": [
       "range(5, 106, 4)"
      ]
     },
     "execution_count": 54,
     "metadata": {},
     "output_type": "execute_result"
    }
   ],
   "source": [
    "range(5,106,4)\n",
    "\n"
   ]
  },
  {
   "cell_type": "markdown",
   "metadata": {},
   "source": [
    "(ii) A list containing the numbers $5, 9, 13, \\dots, 101, 105$."
   ]
  },
  {
   "cell_type": "code",
   "execution_count": 49,
   "metadata": {},
   "outputs": [
    {
     "name": "stdout",
     "output_type": "stream",
     "text": [
      "[5, 9, 13, 17, 21, 25, 29, 33, 37, 41, 45, 49, 53, 57, 61, 65, 69, 73, 77, 81, 85, 89, 93, 97, 101, 105]\n"
     ]
    }
   ],
   "source": [
    "list_range1 = [n for n in range(5,106,4)]\n",
    "\n",
    "print(list_range1)"
   ]
  },
  {
   "cell_type": "markdown",
   "metadata": {},
   "source": [
    "(iii) A tuple containing the numbers $5, 9, 13, \\dots, 101, 105$."
   ]
  },
  {
   "cell_type": "code",
   "execution_count": 12,
   "metadata": {},
   "outputs": [
    {
     "name": "stdout",
     "output_type": "stream",
     "text": [
      "(5, 9, 13, 17, 21, 25, 29, 33, 37, 41, 45, 49, 53, 57, 61, 65, 69, 73, 77, 81, 85, 89, 93, 97, 101, 105)\n"
     ]
    }
   ],
   "source": [
    "tuple_range1 = tuple(list_range1)\n",
    "\n",
    "print(tuple_range1)"
   ]
  },
  {
   "cell_type": "markdown",
   "metadata": {},
   "source": [
    "(b) By slicing your <code>range</code> object from part (a)(i), create a <code>range</code> object containing its fifth, sixth, seventh and eighth elements."
   ]
  },
  {
   "cell_type": "code",
   "execution_count": 53,
   "metadata": {},
   "outputs": [
    {
     "data": {
      "text/plain": [
       "range(25, 41, 4)"
      ]
     },
     "execution_count": 53,
     "metadata": {},
     "output_type": "execute_result"
    }
   ],
   "source": [
    "range1[5:9]"
   ]
  },
  {
   "cell_type": "markdown",
   "metadata": {},
   "source": [
    "(c) Append the number $109$ to your list from part (a)(ii)."
   ]
  },
  {
   "cell_type": "code",
   "execution_count": 50,
   "metadata": {},
   "outputs": [
    {
     "name": "stdout",
     "output_type": "stream",
     "text": [
      "[5, 9, 13, 17, 21, 25, 29, 33, 37, 41, 45, 49, 53, 57, 61, 65, 69, 73, 77, 81, 85, 89, 93, 97, 101, 105, 109]\n"
     ]
    }
   ],
   "source": [
    "list_range1.append(109)\n",
    "\n",
    "print(list_range1)"
   ]
  },
  {
   "cell_type": "markdown",
   "metadata": {},
   "source": [
    "(d) Create a tuple consisting of your tuple from part (a)(iii), repeated five times."
   ]
  },
  {
   "cell_type": "code",
   "execution_count": 23,
   "metadata": {},
   "outputs": [
    {
     "name": "stdout",
     "output_type": "stream",
     "text": [
      "(5, 9, 13, 17, 21, 25, 29, 33, 37, 41, 45, 49, 53, 57, 61, 65, 69, 73, 77, 81, 85, 89, 93, 97, 101, 105, 5, 9, 13, 17, 21, 25, 29, 33, 37, 41, 45, 49, 53, 57, 61, 65, 69, 73, 77, 81, 85, 89, 93, 97, 101, 105, 5, 9, 13, 17, 21, 25, 29, 33, 37, 41, 45, 49, 53, 57, 61, 65, 69, 73, 77, 81, 85, 89, 93, 97, 101, 105, 5, 9, 13, 17, 21, 25, 29, 33, 37, 41, 45, 49, 53, 57, 61, 65, 69, 73, 77, 81, 85, 89, 93, 97, 101, 105, 5, 9, 13, 17, 21, 25, 29, 33, 37, 41, 45, 49, 53, 57, 61, 65, 69, 73, 77, 81, 85, 89, 93, 97, 101, 105)\n"
     ]
    }
   ],
   "source": [
    "tuple2 = 5 * tuple_range1\n",
    "\n",
    "print(tuple2)"
   ]
  },
  {
   "cell_type": "markdown",
   "metadata": {},
   "source": [
    "## Question 3 (30 marks)\n",
    "\n",
    "Kepler's equation links two quantities useful in astronomy: a planet's <b>mean anomaly</b>, $M$, and its <b>eccentric anomaly</b>, $E$. Kepler's equation is\n",
    "$$M = E - e\\, \\sin E,$$\n",
    "where (lower-case) $e$ is the planet's orbital <b>eccentricity</b>."
   ]
  },
  {
   "cell_type": "markdown",
   "metadata": {},
   "source": [
    "(a) For a planet with orbital eccentricity $e=0.5$, find the mean anomaly if the eccentric anomaly is $E = 0.6$ radians."
   ]
  },
  {
   "cell_type": "code",
   "execution_count": 25,
   "metadata": {},
   "outputs": [
    {
     "name": "stdout",
     "output_type": "stream",
     "text": [
      "0.3176787633024823\n"
     ]
    }
   ],
   "source": [
    "print(0.6 - 0.5 * math.sin(0.6))"
   ]
  },
  {
   "cell_type": "markdown",
   "metadata": {},
   "source": [
    "(b) For a planet with orbital eccentricity $e=0.5$, find the eccentric anomaly if the mean anomaly is $M = \\pi/2$ radians. Do this by using a <code>for</code> loop to iterate\n",
    "$$E_{n+1} = M + e\\,\\sin E_n$$\n",
    "ten times, with $E_0 = M = \\pi/2$. Print your answer at the end."
   ]
  },
  {
   "cell_type": "code",
   "execution_count": 26,
   "metadata": {},
   "outputs": [
    {
     "name": "stdout",
     "output_type": "stream",
     "text": [
      "2.020979881456128\n"
     ]
    }
   ],
   "source": [
    "E = math.pi / 2\n",
    "M = math.pi / 2\n",
    "e = 0.5\n",
    "\n",
    "for n in range(1, 11):\n",
    "    E = M + e * math.sin(E)\n",
    "\n",
    "print(E)"
   ]
  },
  {
   "cell_type": "markdown",
   "metadata": {},
   "source": [
    "(c) For a planet with orbital eccentricity $e=0.5$, find the eccentric anomaly if the mean anomaly is $M = \\pi/2$ radians. Do this by using a <code>while</code> loop to iterate\n",
    "$$E_{n+1} = M + e\\,\\sin E_n$$\n",
    "until successive iterates lie within $5.0 \\times 10^{-7}$ of one another. Print your answer at the end."
   ]
  },
  {
   "cell_type": "code",
   "execution_count": 31,
   "metadata": {},
   "outputs": [
    {
     "name": "stdout",
     "output_type": "stream",
     "text": [
      "2.020980198395953\n",
      "9\n"
     ]
    }
   ],
   "source": [
    "E = math.pi / 2\n",
    "M = math.pi / 2\n",
    "e = 0.5\n",
    "iterc = 0\n",
    "\n",
    "while abs(E - (M + e * math.sin(E))) > 5e-7:\n",
    "    E = M + e * math.sin(E)\n",
    "    iterc = iterc + 1\n",
    "\n",
    "print(E)\n",
    "print(iterc)"
   ]
  },
  {
   "cell_type": "markdown",
   "metadata": {},
   "source": [
    "(d) For a planet with orbital eccentricity $e=0.5$, find the eccentric anomaly if the mean anomaly is $M = \\pi/2$ radians. Do this by using a <code>while</code> loop to iterate\n",
    "$$E_{n+1} = E_n - \\frac{E_n - e\\,\\sin E_n - M}{1 - e\\,\\cos E_n}$$\n",
    "until successive iterates lie within $5.0 \\times 10^{-7}$ of one another. Print your answer at the end."
   ]
  },
  {
   "cell_type": "code",
   "execution_count": 32,
   "metadata": {},
   "outputs": [
    {
     "name": "stdout",
     "output_type": "stream",
     "text": [
      "2.020979974372671\n",
      "3\n"
     ]
    }
   ],
   "source": [
    "E = math.pi / 2\n",
    "M = math.pi / 2\n",
    "e = 0.5\n",
    "iterd = 0\n",
    "\n",
    "while abs(E - (E - (E - e * math.sin(E) - M) / (1 - e * math.cos(E)))) > 5e-7:\n",
    "    E = E - (E - e * math.sin(E) - M) / (1 - e * math.cos(E))\n",
    "    iterd = iterd + 1\n",
    "\n",
    "print(E)\n",
    "print(iterd)"
   ]
  },
  {
   "cell_type": "markdown",
   "metadata": {},
   "source": [
    "(e) By counting the number of iterations necessary in each case, compare the speeds of convergence of the methods you used in parts (c) and (d)."
   ]
  },
  {
   "cell_type": "code",
   "execution_count": 34,
   "metadata": {},
   "outputs": [
    {
     "name": "stdout",
     "output_type": "stream",
     "text": [
      "d is much faster as it only takes 3 iterations opposed to the 9 of c\n"
     ]
    }
   ],
   "source": [
    "print('d is much faster as it only takes 3 iterations opposed to the 9 of c')"
   ]
  },
  {
   "cell_type": "markdown",
   "metadata": {},
   "source": [
    "## Question 4 (30 marks)"
   ]
  },
  {
   "cell_type": "markdown",
   "metadata": {},
   "source": [
    "(a) Write a Python function called <code>eccentric_anomaly</code>, which \n",
    "<ul>\n",
    "    <li>takes as its arguments a value for the mean anomaly, $M$, the eccentricity, $e$ and a <code>tolerance</code>, and</li>\n",
    "    <li>returns an estimate for the eccentric anomaly.\n",
    "</ul>\n",
    "\n",
    "This estimate should based on iterating one or other of the two iterations in Question 4 parts (c) and (d) (you may choose which) until successive iterates lie within <code>tolerance</code> of one another."
   ]
  },
  {
   "cell_type": "code",
   "execution_count": 38,
   "metadata": {},
   "outputs": [],
   "source": [
    "def eccentric_anomaly(M, e, tolerance):\n",
    "    E = math.pi / 2\n",
    "    while abs(E - (E - (E - e * math.sin(E) - M) / (1 - e * math.cos(E)))) > tolerance:\n",
    "        E = E - (E - e * math.sin(E) - M) / (1 - e * math.cos(E))\n",
    "    return E"
   ]
  },
  {
   "cell_type": "markdown",
   "metadata": {},
   "source": [
    "(b) Test your function on the case $e=0.5$, $M=\\pi/2$, using a tolerance of $5.0\\times 10^{-7}$. Test it, too, on the edge cases $M=\\pi, e=0.5$ and $M=\\pi/2, e=0.0,$ for which the mean anomaly and the eccentric anomaly ought to be equal. Comment <b>briefly</b> on the results of your tests."
   ]
  },
  {
   "cell_type": "code",
   "execution_count": 40,
   "metadata": {},
   "outputs": [
    {
     "name": "stdout",
     "output_type": "stream",
     "text": [
      "2.020979974372671\n",
      "3.1415929664547164\n",
      "1.5707963267948966\n",
      "As you can see my function is valid as it works on a general case and edge cases\n"
     ]
    }
   ],
   "source": [
    "print(eccentric_anomaly(math.pi / 2, 0.5, 5e-7))\n",
    "print(eccentric_anomaly(math.pi, 0.5, 5e-7))\n",
    "print(eccentric_anomaly(math.pi / 2, 0.0, 5e-7))\n",
    "print('As you can see my function is valid as it works on a general case and edge cases')"
   ]
  },
  {
   "cell_type": "markdown",
   "metadata": {},
   "source": [
    "(c) Using in each case an eccentricity of $e=0.5$ and a tolerance of $5.0 \\times 10^{-7}$, calculate the eccentric anomaly for values of the mean anomaly between $0$ and $2\\pi$ radians in steps of $\\pi/12$. For full marks, do this using a single-line <b>comprehension</b>."
   ]
  },
  {
   "cell_type": "code",
   "execution_count": 45,
   "metadata": {},
   "outputs": [
    {
     "name": "stdout",
     "output_type": "stream",
     "text": [
      "[1.3156251262025354e-15, 0.5026929141712205, 0.9220066053188057, 1.261703062121573, 1.5470566699470845, 1.7963339489319325, 2.020979974372671, 2.228343136932135, 2.4234054584754343, 2.6097539544001584, 2.790130045031977, 2.9667635514343496, 3.1415929664547164, 3.3164219982464136, 3.493055586056898, 3.6734312890794953, 3.8597798487042008, 4.0548425148313605, 4.262205368954982, 4.486851357105382, 4.736128638036367, 5.021482250276675, 5.361178701853829, 5.7804923937411985, 6.283185307179587]\n"
     ]
    }
   ],
   "source": [
    "list_eccentric_anomaly = [eccentric_anomaly(M * math.pi / 12, 0.5, 5e-7) for M in range(0, 25)]\n",
    "\n",
    "print(list_eccentric_anomaly)"
   ]
  },
  {
   "cell_type": "code",
   "execution_count": null,
   "metadata": {},
   "outputs": [],
   "source": []
  }
 ],
 "metadata": {
  "kernelspec": {
   "display_name": "Python 3",
   "language": "python",
   "name": "python3"
  },
  "language_info": {
   "codemirror_mode": {
    "name": "ipython",
    "version": 3
   },
   "file_extension": ".py",
   "mimetype": "text/x-python",
   "name": "python",
   "nbconvert_exporter": "python",
   "pygments_lexer": "ipython3",
   "version": "3.8.8"
  }
 },
 "nbformat": 4,
 "nbformat_minor": 2
}
