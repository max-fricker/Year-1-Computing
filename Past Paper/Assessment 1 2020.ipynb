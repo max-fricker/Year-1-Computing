{
 "cells": [
  {
   "cell_type": "markdown",
   "metadata": {
    "nbgrader": {
     "grade": false,
     "grade_id": "cell-7768773a1cfc3752",
     "locked": true,
     "schema_version": 1,
     "solution": false
    }
   },
   "source": [
    "# M40006 In-Course Assessment\n",
    "\n",
    "# 17 December, 9-11 am\n",
    "\n",
    "## Two Hours\n",
    "\n",
    "### Answer all questions, submitting your answers as a single Jupyter notebook."
   ]
  },
  {
   "cell_type": "markdown",
   "metadata": {
    "nbgrader": {
     "grade": false,
     "grade_id": "cell-2c3056a6124a5127",
     "locked": true,
     "schema_version": 1,
     "solution": false
    }
   },
   "source": [
    "To carry out this assignment, you may find useful, possibly amongst others:\n",
    "<ul>\n",
    "    <li>the core Python <code>pow</code> function;</li>\n",
    "    <li>the functions <code>arcsin</code>, <code>sqrt</code> and <code>gcd</code> from the <code>math</code> module;</li>\n",
    "    <li>the functions <code>arcsin</code> and <code>phase</code>, and the constant <code>pi</code> from the <code>cmath</code> module;</li> \n",
    "    <li>the <code>plot</code> function from the <code>pyplot</code> module of <code>matplotlib</code>.\n",
    "</ul>\n",
    "\n",
    "It is recommended that you simply execute the following code cell:"
   ]
  },
  {
   "cell_type": "code",
   "execution_count": 1,
   "metadata": {
    "nbgrader": {
     "grade": false,
     "grade_id": "cell-9d3af8ae7bbcd825",
     "locked": true,
     "schema_version": 1,
     "solution": false
    }
   },
   "outputs": [],
   "source": [
    "%matplotlib inline\n",
    "import math\n",
    "import cmath\n",
    "import matplotlib.pyplot as plt"
   ]
  },
  {
   "cell_type": "markdown",
   "metadata": {
    "nbgrader": {
     "grade": false,
     "grade_id": "cell-3b0ada2b9a80bba9",
     "locked": true,
     "schema_version": 1,
     "solution": false
    }
   },
   "source": [
    "## Question 1 (20 marks)\n",
    "\n",
    "Using Python, and showing your code, calculate:"
   ]
  },
  {
   "cell_type": "markdown",
   "metadata": {
    "nbgrader": {
     "grade": false,
     "grade_id": "cell-e3b16606adbbf31a",
     "locked": true,
     "schema_version": 1,
     "solution": false
    }
   },
   "source": [
    "(a) $353^{252}$ as an int."
   ]
  },
  {
   "cell_type": "code",
   "execution_count": 2,
   "metadata": {
    "nbgrader": {
     "grade": true,
     "grade_id": "cell-5283fe9b75424541",
     "locked": false,
     "points": 0,
     "schema_version": 1,
     "solution": true
    }
   },
   "outputs": [
    {
     "name": "stdout",
     "output_type": "stream",
     "text": [
      "1094525181486938052263142385875995566164139501832679376900068233455654406921903870962532424604454429594159713679971618406568610607335329886294606266808234581236569416700169174050218830573965399290349622256963444042806375677313330847263196482366987376839741029981450650736484796555453172217616841558602939565503842312840187433121449930376716718079067173448405066995892546425555015458143915595086481656598252087829452087524234757185572501199344705288850559092582241500612211119400126257644224481149421596461425617100879210182485233999106010391450836595744409444491060316007102888192990020366126940141901475695389750021901922029445861602830336641\n"
     ]
    }
   ],
   "source": [
    "print(353 ** 252)"
   ]
  },
  {
   "cell_type": "markdown",
   "metadata": {
    "nbgrader": {
     "grade": false,
     "grade_id": "cell-ea7543901978045e",
     "locked": true,
     "schema_version": 1,
     "solution": false
    }
   },
   "source": [
    "(b) $353.0^{252.0}$ as an approximate float."
   ]
  },
  {
   "cell_type": "code",
   "execution_count": 6,
   "metadata": {
    "nbgrader": {
     "grade": true,
     "grade_id": "cell-f3ce9155e9d81a9c",
     "locked": false,
     "points": 0,
     "schema_version": 1,
     "solution": true
    }
   },
   "outputs": [
    {
     "ename": "OverflowError",
     "evalue": "(34, 'Result too large')",
     "output_type": "error",
     "traceback": [
      "\u001b[1;31m---------------------------------------------------------------------------\u001b[0m",
      "\u001b[1;31mOverflowError\u001b[0m                             Traceback (most recent call last)",
      "\u001b[1;32m<ipython-input-6-73a5ca94d744>\u001b[0m in \u001b[0;36m<module>\u001b[1;34m\u001b[0m\n\u001b[1;32m----> 1\u001b[1;33m \u001b[0my\u001b[0m \u001b[1;33m=\u001b[0m \u001b[1;36m353.0\u001b[0m \u001b[1;33m**\u001b[0m \u001b[1;36m252.0\u001b[0m\u001b[1;33m\u001b[0m\u001b[1;33m\u001b[0m\u001b[0m\n\u001b[0m\u001b[0;32m      2\u001b[0m \u001b[0mx\u001b[0m \u001b[1;33m=\u001b[0m \u001b[0mfloat\u001b[0m\u001b[1;33m(\u001b[0m\u001b[0my\u001b[0m\u001b[1;33m)\u001b[0m\u001b[1;33m\u001b[0m\u001b[1;33m\u001b[0m\u001b[0m\n\u001b[0;32m      3\u001b[0m \u001b[0mprin\u001b[0m\u001b[1;33m(\u001b[0m\u001b[0mx\u001b[0m\u001b[1;33m)\u001b[0m\u001b[1;33m\u001b[0m\u001b[1;33m\u001b[0m\u001b[0m\n",
      "\u001b[1;31mOverflowError\u001b[0m: (34, 'Result too large')"
     ]
    }
   ],
   "source": [
    "y = 353.0 ** 252.0\n",
    "x = float(y)\n",
    "prin(x)"
   ]
  },
  {
   "cell_type": "markdown",
   "metadata": {
    "nbgrader": {
     "grade": false,
     "grade_id": "cell-0260060628275456",
     "locked": true,
     "schema_version": 1,
     "solution": false
    }
   },
   "source": [
    "(c) The residue of $(353 \\times 252)$, modulo $555$."
   ]
  },
  {
   "cell_type": "code",
   "execution_count": 10,
   "metadata": {
    "nbgrader": {
     "grade": true,
     "grade_id": "cell-a8e5ebbcdddbcd79",
     "locked": false,
     "points": 0,
     "schema_version": 1,
     "solution": true
    }
   },
   "outputs": [
    {
     "name": "stdout",
     "output_type": "stream",
     "text": [
      "1\n"
     ]
    }
   ],
   "source": [
    "print((353 ** 252) % 555)"
   ]
  },
  {
   "cell_type": "markdown",
   "metadata": {
    "nbgrader": {
     "grade": false,
     "grade_id": "cell-99fb40e2b475fdc2",
     "locked": true,
     "schema_version": 1,
     "solution": false
    }
   },
   "source": [
    "(d) The residue of $353^{252}$, modulo $555$; there are some marks for doing this fairly efficiently."
   ]
  },
  {
   "cell_type": "code",
   "execution_count": 11,
   "metadata": {
    "nbgrader": {
     "grade": true,
     "grade_id": "cell-b9b45249f78a7a43",
     "locked": false,
     "points": 0,
     "schema_version": 1,
     "solution": true
    }
   },
   "outputs": [
    {
     "name": "stdout",
     "output_type": "stream",
     "text": [
      "1\n"
     ]
    }
   ],
   "source": [
    "print(pow(353,252,555))"
   ]
  },
  {
   "cell_type": "markdown",
   "metadata": {
    "nbgrader": {
     "grade": false,
     "grade_id": "cell-3744f46358c8eadf",
     "locked": true,
     "schema_version": 1,
     "solution": false
    }
   },
   "source": [
    "(e) $\\arcsin(0.5)$, as a float."
   ]
  },
  {
   "cell_type": "code",
   "execution_count": 13,
   "metadata": {
    "nbgrader": {
     "grade": true,
     "grade_id": "cell-a108cf0248f58238",
     "locked": false,
     "points": 0,
     "schema_version": 1,
     "solution": true
    }
   },
   "outputs": [
    {
     "name": "stdout",
     "output_type": "stream",
     "text": [
      "0.5235987755982989\n"
     ]
    }
   ],
   "source": [
    "print(math.asin(0.5))"
   ]
  },
  {
   "cell_type": "markdown",
   "metadata": {
    "nbgrader": {
     "grade": false,
     "grade_id": "cell-47dd8a847b0bd23f",
     "locked": true,
     "schema_version": 1,
     "solution": false
    }
   },
   "source": [
    "(f) $\\arcsin(2\\,i)$, as a complex."
   ]
  },
  {
   "cell_type": "code",
   "execution_count": 16,
   "metadata": {
    "nbgrader": {
     "grade": true,
     "grade_id": "cell-366a2c0ddd821e0a",
     "locked": false,
     "points": 0,
     "schema_version": 1,
     "solution": true
    }
   },
   "outputs": [
    {
     "name": "stdout",
     "output_type": "stream",
     "text": [
      "1.4436354751788103j\n"
     ]
    }
   ],
   "source": [
    "print(cmath.asin(0 + 2j))"
   ]
  },
  {
   "cell_type": "markdown",
   "metadata": {
    "nbgrader": {
     "grade": false,
     "grade_id": "cell-98993209ca7533c8",
     "locked": true,
     "schema_version": 1,
     "solution": false
    }
   },
   "source": [
    "## Question 2 (20 marks)\n",
    "\n",
    "(a) The following double comprehension creates a list of complex numbers of the form $m + n\\,i$, where $m$ and $n$ are natural numbers:"
   ]
  },
  {
   "cell_type": "code",
   "execution_count": 24,
   "metadata": {
    "nbgrader": {
     "grade": false,
     "grade_id": "cell-215442553308eb1c",
     "locked": true,
     "schema_version": 1,
     "solution": false
    }
   },
   "outputs": [
    {
     "name": "stdout",
     "output_type": "stream",
     "text": [
      "[(2+1j), (3+1j), (3+2j), (4+1j), (4+2j), (4+3j), (5+1j), (5+2j), (5+3j), (5+4j), (6+1j), (6+2j), (6+3j), (6+4j), (6+5j), (7+1j), (7+2j), (7+3j), (7+4j), (7+5j), (7+6j), (8+1j), (8+2j), (8+3j), (8+4j), (8+5j), (8+6j), (8+7j), (9+1j), (9+2j), (9+3j), (9+4j), (9+5j), (9+6j), (9+7j), (9+8j), (10+1j), (10+2j), (10+3j), (10+4j), (10+5j), (10+6j), (10+7j), (10+8j), (10+9j)]\n"
     ]
    }
   ],
   "source": [
    "g_ints = [complex(m,n) for m in range(1,11) for n in range(1,m)]\n",
    "print(g_ints)"
   ]
  },
  {
   "cell_type": "markdown",
   "metadata": {
    "nbgrader": {
     "grade": false,
     "grade_id": "cell-21eceb02d1cfe144",
     "locked": true,
     "schema_version": 1,
     "solution": false
    }
   },
   "source": [
    "Describe as carefully as possible the location of these points in the complex plane."
   ]
  },
  {
   "cell_type": "markdown",
   "metadata": {
    "nbgrader": {
     "grade": true,
     "grade_id": "cell-7b3e4bd6a257bf9c",
     "locked": false,
     "points": 0,
     "schema_version": 1,
     "solution": true
    }
   },
   "source": [
    "Each point has integer values for m and n. \n",
    "\n",
    "The triangle with vertices 10 + j, 10 + 9j and 2 + j "
   ]
  },
  {
   "cell_type": "markdown",
   "metadata": {
    "nbgrader": {
     "grade": false,
     "grade_id": "cell-d5c6bc7408a302c7",
     "locked": true,
     "schema_version": 1,
     "solution": false
    }
   },
   "source": [
    "(b) The following filter comprehension selects only those members of `g_ints` whose argument (called \"phase\" in `cmath`) is greater than $\\pi/8$:"
   ]
  },
  {
   "cell_type": "code",
   "execution_count": 26,
   "metadata": {
    "nbgrader": {
     "grade": false,
     "grade_id": "cell-3b52f58818ba83c5",
     "locked": true,
     "schema_version": 1,
     "solution": false
    }
   },
   "outputs": [
    {
     "name": "stdout",
     "output_type": "stream",
     "text": [
      "[(2+1j), (3+2j), (4+2j), (4+3j), (5+3j), (5+4j), (6+3j), (6+4j), (6+5j), (7+3j), (7+4j), (7+5j), (7+6j), (8+4j), (8+5j), (8+6j), (8+7j), (9+4j), (9+5j), (9+6j), (9+7j), (9+8j), (10+5j), (10+6j), (10+7j), (10+8j), (10+9j)]\n"
     ]
    }
   ],
   "source": [
    "g_ints2 = [z for z in g_ints if cmath.phase(z) > math.pi/8]\n",
    "print(g_ints2)"
   ]
  },
  {
   "cell_type": "markdown",
   "metadata": {
    "nbgrader": {
     "grade": false,
     "grade_id": "cell-aa14c7ff170338cd",
     "locked": true,
     "schema_version": 1,
     "solution": false
    }
   },
   "source": [
    "Create a list called `g_ints3` consisting of all those elements of `g_ints2` whose absolute value is less than or equal to 10."
   ]
  },
  {
   "cell_type": "code",
   "execution_count": 27,
   "metadata": {
    "nbgrader": {
     "grade": true,
     "grade_id": "cell-38e4c8fde77077e2",
     "locked": false,
     "points": 0,
     "schema_version": 1,
     "solution": true
    }
   },
   "outputs": [
    {
     "name": "stdout",
     "output_type": "stream",
     "text": [
      "[(2+1j), (3+2j), (4+2j), (4+3j), (5+3j), (5+4j), (6+3j), (6+4j), (6+5j), (7+3j), (7+4j), (7+5j), (7+6j), (8+4j), (8+5j), (9+4j)]\n"
     ]
    }
   ],
   "source": [
    "g_ints3 = [z for z in g_ints2 if abs(z) < 10]\n",
    "print(g_ints3)"
   ]
  },
  {
   "cell_type": "markdown",
   "metadata": {
    "nbgrader": {
     "grade": false,
     "grade_id": "cell-548ab2322bc3b6ac",
     "locked": true,
     "schema_version": 1,
     "solution": false
    }
   },
   "source": [
    "(c) Create a list called `squares` consisting of the squares of all the complex numbers in `g_ints3`."
   ]
  },
  {
   "cell_type": "code",
   "execution_count": 28,
   "metadata": {
    "nbgrader": {
     "grade": true,
     "grade_id": "cell-0609713398a83702",
     "locked": false,
     "points": 0,
     "schema_version": 1,
     "solution": true
    }
   },
   "outputs": [
    {
     "name": "stdout",
     "output_type": "stream",
     "text": [
      "[(3+4j), (5+12j), (12+16j), (7+24j), (16+30j), (9+40j), (27+36j), (20+48j), (11+60j), (40+42j), (33+56j), (24+70j), (13+84j), (48+64j), (39+80j), (65+72j)]\n"
     ]
    }
   ],
   "source": [
    "squares = [z ** 2 for z in g_ints3]\n",
    "print(squares)"
   ]
  },
  {
   "cell_type": "markdown",
   "metadata": {
    "nbgrader": {
     "grade": false,
     "grade_id": "cell-43a347e1f79d0922",
     "locked": true,
     "schema_version": 1,
     "solution": false
    }
   },
   "source": [
    "(d) Create a list called `triples` where each element is a tuple of length 3, consisting of the real part, imaginary part and absolute value of each of the elements of `squares`, <em>as ints</em>. Recall that the real and imaginary parts of, say, $3+4\\,i$ are given by\n",
    "```python\n",
    "(3+4j).real, (3+4j).imag\n",
    "```\n"
   ]
  },
  {
   "cell_type": "code",
   "execution_count": 31,
   "metadata": {
    "nbgrader": {
     "grade": true,
     "grade_id": "cell-ab8190a7485c6be4",
     "locked": false,
     "points": 0,
     "schema_version": 1,
     "solution": true
    }
   },
   "outputs": [
    {
     "name": "stdout",
     "output_type": "stream",
     "text": [
      "[(3, 4, 5), (5, 12, 13), (12, 16, 20), (7, 24, 25), (16, 30, 34), (9, 40, 41), (27, 36, 45), (20, 48, 52), (11, 60, 61), (40, 42, 58), (33, 56, 65), (24, 70, 74), (13, 84, 85), (48, 64, 80), (39, 80, 89), (65, 72, 97)]\n"
     ]
    }
   ],
   "source": [
    "triples = [(int(z.real), int(z.imag), int(abs(z))) for z in squares]\n",
    "print(triples)"
   ]
  },
  {
   "cell_type": "markdown",
   "metadata": {
    "nbgrader": {
     "grade": false,
     "grade_id": "cell-516e4e7cd1d32430",
     "locked": true,
     "schema_version": 1,
     "solution": false
    }
   },
   "source": [
    "(e) Write some Python code to show that each of the elements of `triples`, your list from part (d), is a Pythagorean triple: that is, that each tuple `(a, b, c)` satisfies $a^2+b^2=c^2$."
   ]
  },
  {
   "cell_type": "code",
   "execution_count": 34,
   "metadata": {
    "nbgrader": {
     "grade": true,
     "grade_id": "cell-a32cb5574fa2690a",
     "locked": false,
     "points": 0,
     "schema_version": 1,
     "solution": true
    }
   },
   "outputs": [
    {
     "name": "stdout",
     "output_type": "stream",
     "text": [
      "[True, True, True, True, True, True, True, True, True, True, True, True, True, True, True, True]\n"
     ]
    }
   ],
   "source": [
    "pythag_triples_true_false = [(z[0]) ** 2 + (z[1]) ** 2 == (z[2])**2 for z in triples]\n",
    "print(pythag_triples_true_false)"
   ]
  },
  {
   "cell_type": "markdown",
   "metadata": {
    "nbgrader": {
     "grade": false,
     "grade_id": "cell-5fa7c9b5af4004aa",
     "locked": true,
     "schema_version": 1,
     "solution": false
    }
   },
   "source": [
    "## Question 3 (35 marks)\n",
    "\n",
    "The integer $23005543287841$ is the product of two distinct primes. The challenge is to find these primes.\n",
    "\n",
    "<b>Algorithm 1</b> works as follows.\n",
    "\n",
    "For values of $r$ greater than or equal to $2$, and less than or equal to the square root of $23005543287841$, check whether $r$ is a factor of $23005543287841$. If it is, print this value of $r$ and stop; otherwise continue the loop.\n",
    "\n",
    "(a) Here is some code that implements algorithm 1, using a `for` loop. By executing it, find one of the prime factors of $23005543287841$."
   ]
  },
  {
   "cell_type": "code",
   "execution_count": 39,
   "metadata": {
    "nbgrader": {
     "grade": false,
     "grade_id": "cell-ba36e7e7dc40c251",
     "locked": true,
     "schema_version": 1,
     "solution": false
    }
   },
   "outputs": [
    {
     "name": "stdout",
     "output_type": "stream",
     "text": [
      "4483273\n"
     ]
    }
   ],
   "source": [
    "n = 23005543287841\n",
    "for r in range(2,int(math.sqrt(n))+1):\n",
    "    if n % r == 0:\n",
    "        print(r)\n",
    "        break"
   ]
  },
  {
   "cell_type": "markdown",
   "metadata": {
    "nbgrader": {
     "grade": false,
     "grade_id": "cell-716c6019954e023f",
     "locked": true,
     "schema_version": 1,
     "solution": false
    }
   },
   "source": [
    "(b) Check that the number you've found really is a factor of $23005543287841$. Explain briefly how you know it must be prime."
   ]
  },
  {
   "cell_type": "code",
   "execution_count": 37,
   "metadata": {
    "nbgrader": {
     "grade": true,
     "grade_id": "cell-bca7db84f9713c17",
     "locked": false,
     "points": 0,
     "schema_version": 1,
     "solution": true
    }
   },
   "outputs": [
    {
     "name": "stdout",
     "output_type": "stream",
     "text": [
      "0\n"
     ]
    }
   ],
   "source": [
    "print(23005543287841 % 4483273)"
   ]
  },
  {
   "cell_type": "markdown",
   "metadata": {
    "nbgrader": {
     "grade": true,
     "grade_id": "cell-9b74add230df9fe4",
     "locked": false,
     "points": 0,
     "schema_version": 1,
     "solution": true
    }
   },
   "source": [
    "We know it must be a prime because in the code in (a) there is no values below 4483273 that have modulo n so 4482373 % r for all r below 4483272 is greater than 0 thus 4482373 is prime. "
   ]
  },
  {
   "cell_type": "markdown",
   "metadata": {
    "nbgrader": {
     "grade": false,
     "grade_id": "cell-c0677e74909bc0ba",
     "locked": true,
     "schema_version": 1,
     "solution": false
    }
   },
   "source": [
    "(c) Find the other prime factor of $23005543287841$."
   ]
  },
  {
   "cell_type": "code",
   "execution_count": 40,
   "metadata": {
    "nbgrader": {
     "grade": true,
     "grade_id": "cell-887fefb6c615feb0",
     "locked": false,
     "points": 0,
     "schema_version": 1,
     "solution": true
    }
   },
   "outputs": [
    {
     "name": "stdout",
     "output_type": "stream",
     "text": [
      "5131417\n"
     ]
    }
   ],
   "source": [
    "print(n // 4483273)"
   ]
  },
  {
   "cell_type": "markdown",
   "metadata": {
    "nbgrader": {
     "grade": false,
     "grade_id": "cell-e4d02f57b7eea586",
     "locked": true,
     "schema_version": 1,
     "solution": false
    }
   },
   "source": [
    "(d) Explain briefly why it is necessary to iterate only as far as, at most, the square root of $23005543287841$. How many iterations were in fact needed?"
   ]
  },
  {
   "cell_type": "markdown",
   "metadata": {
    "nbgrader": {
     "grade": true,
     "grade_id": "cell-dd6959ed91fa58d0",
     "locked": false,
     "points": 0,
     "schema_version": 1,
     "solution": true
    }
   },
   "source": [
    "Because for all values greater than square root of 23005543287841 that is a factor of  23005543287841, there is a less than  23005543287841 which is a factor and these two values multiply to  23005543287841. So to find the value greater than the square root just divide  23005543287841 ny the value less than its square root. "
   ]
  },
  {
   "cell_type": "markdown",
   "metadata": {
    "nbgrader": {
     "grade": false,
     "grade_id": "cell-33b94fc5ece612be",
     "locked": true,
     "schema_version": 1,
     "solution": false
    }
   },
   "source": [
    "<b>Algorithm 2</b> actually isn't guaranteed to work in all cases, but it often works very quickly. It's defined like this.\n",
    "\n",
    "Define the function $g$ as follows: $g(x)$ is the residue of $x^2+1$, reduced modulo $23005543287841$.\n",
    "\n",
    "Set $x$ and $y$ equal to $2$, and set $d=1$.\n",
    "\n",
    "While $d$ is less than $23005543287841$, repeat the following steps:\n",
    "<ul>\n",
    "    <li>Set $x$ equal to $g(x)$.</li>\n",
    "    <li>Set $y$ equal to $g(g(y))$.</li>\n",
    "    <li>Set $d$ equal to $\\gcd(|x-y|,23005543287841)$.</li>\n",
    "    <li>If $1<d<23005543287841$, then $d$ is a suitable factor of $23005543287841$; print it and stop. Otherwise, continue the loop.</li>\n",
    "</ul>\n",
    "\n",
    "(f) Write some code that implements algorithm 2, and confirm that it finds one of the prime factors of $23005543287841$."
   ]
  },
  {
   "cell_type": "code",
   "execution_count": 73,
   "metadata": {
    "nbgrader": {
     "grade": true,
     "grade_id": "cell-c2c00c5739691f81",
     "locked": false,
     "points": 0,
     "schema_version": 1,
     "solution": true
    }
   },
   "outputs": [
    {
     "name": "stdout",
     "output_type": "stream",
     "text": [
      "5131417\n"
     ]
    }
   ],
   "source": [
    "def g(a):\n",
    "    b = (a ** 2 + 1) % 23005543287841\n",
    "    return b\n",
    "\n",
    "x = 2\n",
    "y = 2\n",
    "d = 1\n",
    "\n",
    "while d < 23005543287841 :\n",
    "    x = g(x)\n",
    "    y = g(g(y))\n",
    "    d = math.gcd(abs(x - y), 23005543287841)\n",
    "    if d>1:\n",
    "        print(d)\n",
    "        break"
   ]
  },
  {
   "cell_type": "markdown",
   "metadata": {
    "nbgrader": {
     "grade": false,
     "grade_id": "cell-dd1fbf14a2e44967",
     "locked": true,
     "schema_version": 1,
     "solution": false
    }
   },
   "source": [
    "(g) Amend your code in order to calculate the number of iterations necessary for finding a suitable factor of $23005543287841$ using algorithm 2."
   ]
  },
  {
   "cell_type": "code",
   "execution_count": 76,
   "metadata": {
    "nbgrader": {
     "grade": true,
     "grade_id": "cell-14f4c40ba0034d46",
     "locked": false,
     "points": 0,
     "schema_version": 1,
     "solution": true
    }
   },
   "outputs": [
    {
     "name": "stdout",
     "output_type": "stream",
     "text": [
      "5131417\n",
      "2100\n"
     ]
    }
   ],
   "source": [
    "def g(a):\n",
    "    b = (a ** 2 + 1) % 23005543287841\n",
    "    return b\n",
    "\n",
    "x = 2\n",
    "y = 2\n",
    "d = 1\n",
    "h = 0\n",
    "\n",
    "while d < 23005543287841 :\n",
    "    x = g(x)\n",
    "    y = g(g(y))\n",
    "    d = math.gcd(abs(x - y), 23005543287841)\n",
    "    h = h + 1\n",
    "    if d>1:\n",
    "        print(d)\n",
    "        print(h)\n",
    "        break"
   ]
  },
  {
   "cell_type": "markdown",
   "metadata": {
    "nbgrader": {
     "grade": false,
     "grade_id": "cell-a8d5f8fe140b77a9",
     "locked": true,
     "schema_version": 1,
     "solution": false
    }
   },
   "source": [
    "## Question 4 (25 marks)\n",
    "\n",
    "(a) Write and test a Python function for calculating two proper divisors of a composite positive integer. Ideally, it should use algorithm 2, but if you weren't able to get that to work, use algorithm 1.\n",
    "\n",
    "Your function should take as its sole argument `n`, which may be assumed to be an int greater than 5, and to be composite. It should return two ints greater than 1, whose product must be `n`; it is not necessary that both be prime.\n",
    "\n",
    "Note that the divisors must be <em>returned</em>, and not merely <em>printed</em>.\n",
    "\n",
    "For full marks, your code should be suitably commented, and your function should include a one-line docstring.\n",
    "\n",
    "Make sure that you test on a variety of cases. (If you've used algorithm 2, you may find it occasionally fails; there are ways to deal with that, but for today, let's just put up with it! This failure should very much be the exception, if it occurs at all.)\n",
    "\n",
    "Make sure, too, that you show evidence of this testing."
   ]
  },
  {
   "cell_type": "code",
   "execution_count": 77,
   "metadata": {
    "nbgrader": {
     "grade": true,
     "grade_id": "cell-9e85fbeef9bcbcd8",
     "locked": false,
     "points": 0,
     "schema_version": 1,
     "solution": true
    }
   },
   "outputs": [],
   "source": [
    "def f(n):\n",
    "    for r in range(2,int(math.sqrt(n))+1):\n",
    "        if n % r == 0:\n",
    "            return([r, n // r])\n",
    "            \n",
    "            break"
   ]
  },
  {
   "cell_type": "markdown",
   "metadata": {
    "nbgrader": {
     "grade": false,
     "grade_id": "cell-ec2d23abb3035e50",
     "locked": true,
     "schema_version": 1,
     "solution": false
    }
   },
   "source": [
    "(b) How does your function deal with prime `n`? If necessary, amend your code so that it does something sensible, such as returning a string telling the user their `n` seems to be prime. Test, showing evidence of this testing."
   ]
  },
  {
   "cell_type": "code",
   "execution_count": 81,
   "metadata": {
    "nbgrader": {
     "grade": true,
     "grade_id": "cell-32ed6d6c66de5ec8",
     "locked": false,
     "points": 0,
     "schema_version": 1,
     "solution": true
    }
   },
   "outputs": [
    {
     "name": "stdout",
     "output_type": "stream",
     "text": [
      "[2, 9]\n"
     ]
    }
   ],
   "source": [
    "print(f(18))"
   ]
  },
  {
   "cell_type": "markdown",
   "metadata": {
    "nbgrader": {
     "grade": false,
     "grade_id": "cell-30883a41b40ac7f0",
     "locked": true,
     "schema_version": 1,
     "solution": false
    }
   },
   "source": [
    "(c) By amending your code in a suitable way, calculate the number of iterations necessary to factorise each of the following integers, of increasing size.\n",
    "\n",
    "If your function uses algorithm 1, use the integers $25096579$, $1634498947$, $176792904703$, $23005543287841$ and $3004650884700271$. \n",
    "\n",
    "If your function uses algorithm 2, use the integers $23005543287841$, $3004650884700271$, $303919407802915297$, $36129009292372853471$ and $3449957987637480913651$."
   ]
  },
  {
   "cell_type": "code",
   "execution_count": 98,
   "metadata": {
    "nbgrader": {
     "grade": false,
     "grade_id": "cell-7ae6b08b9a35e127",
     "locked": false,
     "schema_version": 1,
     "solution": true
    }
   },
   "outputs": [
    {
     "name": "stdout",
     "output_type": "stream",
     "text": [
      "None\n",
      "4152\n",
      "34210\n",
      "292702\n",
      "4483272\n",
      "45426652\n"
     ]
    }
   ],
   "source": [
    "def h(n):\n",
    "    m = 0\n",
    "    for r in range(2,int(math.sqrt(n))+1):\n",
    "        m = m + 1\n",
    "        if n % r == 0:\n",
    "            return([r, n // r, m])\n",
    "            if [r, n // r, m] == None:\n",
    "                return([0,0,0])\n",
    "            \n",
    "            break\n",
    "            \n",
    "print(h(7))\n",
    "            \n",
    "print(h(25096579)[2])\n",
    "\n",
    "print(h(1634498947)[2])\n",
    "\n",
    "print(h(176792904703)[2])\n",
    "\n",
    "print(h(23005543287841)[2])\n",
    "\n",
    "print(h(3004650884700271)[2])"
   ]
  },
  {
   "cell_type": "markdown",
   "metadata": {
    "nbgrader": {
     "grade": false,
     "grade_id": "cell-4ce7dae2dff9f000",
     "locked": true,
     "schema_version": 1,
     "solution": false
    }
   },
   "source": [
    "(d) Create a point plot showing the logarithm of the number of iterations necessary to find a factor of `n`, against the logarithm of `n`."
   ]
  },
  {
   "cell_type": "code",
   "execution_count": 94,
   "metadata": {
    "nbgrader": {
     "grade": true,
     "grade_id": "cell-5f5558d91eca680c",
     "locked": false,
     "points": 0,
     "schema_version": 1,
     "solution": true
    }
   },
   "outputs": [
    {
     "ename": "TypeError",
     "evalue": "'NoneType' object is not subscriptable",
     "output_type": "error",
     "traceback": [
      "\u001b[1;31m---------------------------------------------------------------------------\u001b[0m",
      "\u001b[1;31mTypeError\u001b[0m                                 Traceback (most recent call last)",
      "\u001b[1;32m<ipython-input-94-a7d7a15e0b26>\u001b[0m in \u001b[0;36m<module>\u001b[1;34m\u001b[0m\n\u001b[1;32m----> 1\u001b[1;33m \u001b[0mx\u001b[0m \u001b[1;33m=\u001b[0m \u001b[1;33m[\u001b[0m\u001b[0mh\u001b[0m\u001b[1;33m(\u001b[0m\u001b[0mn\u001b[0m\u001b[1;33m)\u001b[0m\u001b[1;33m[\u001b[0m\u001b[1;36m2\u001b[0m\u001b[1;33m]\u001b[0m \u001b[1;32mfor\u001b[0m \u001b[0mn\u001b[0m \u001b[1;32min\u001b[0m \u001b[0mrange\u001b[0m\u001b[1;33m(\u001b[0m\u001b[1;36m1\u001b[0m\u001b[1;33m,\u001b[0m \u001b[0mn\u001b[0m \u001b[1;33m+\u001b[0m \u001b[1;36m1\u001b[0m\u001b[1;33m)\u001b[0m\u001b[1;33m]\u001b[0m\u001b[1;33m\u001b[0m\u001b[1;33m\u001b[0m\u001b[0m\n\u001b[0m\u001b[0;32m      2\u001b[0m \u001b[0my\u001b[0m \u001b[1;33m=\u001b[0m \u001b[1;33m[\u001b[0m\u001b[0mmath\u001b[0m\u001b[1;33m.\u001b[0m\u001b[0mlog\u001b[0m\u001b[1;33m(\u001b[0m\u001b[0mn\u001b[0m\u001b[1;33m)\u001b[0m \u001b[1;32mfor\u001b[0m \u001b[0mn\u001b[0m \u001b[1;32min\u001b[0m \u001b[0mrange\u001b[0m\u001b[1;33m(\u001b[0m\u001b[1;36m1\u001b[0m\u001b[1;33m,\u001b[0m \u001b[0mn\u001b[0m \u001b[1;33m+\u001b[0m \u001b[1;36m1\u001b[0m\u001b[1;33m)\u001b[0m\u001b[1;33m]\u001b[0m\u001b[1;33m\u001b[0m\u001b[1;33m\u001b[0m\u001b[0m\n",
      "\u001b[1;32m<ipython-input-94-a7d7a15e0b26>\u001b[0m in \u001b[0;36m<listcomp>\u001b[1;34m(.0)\u001b[0m\n\u001b[1;32m----> 1\u001b[1;33m \u001b[0mx\u001b[0m \u001b[1;33m=\u001b[0m \u001b[1;33m[\u001b[0m\u001b[0mh\u001b[0m\u001b[1;33m(\u001b[0m\u001b[0mn\u001b[0m\u001b[1;33m)\u001b[0m\u001b[1;33m[\u001b[0m\u001b[1;36m2\u001b[0m\u001b[1;33m]\u001b[0m \u001b[1;32mfor\u001b[0m \u001b[0mn\u001b[0m \u001b[1;32min\u001b[0m \u001b[0mrange\u001b[0m\u001b[1;33m(\u001b[0m\u001b[1;36m1\u001b[0m\u001b[1;33m,\u001b[0m \u001b[0mn\u001b[0m \u001b[1;33m+\u001b[0m \u001b[1;36m1\u001b[0m\u001b[1;33m)\u001b[0m\u001b[1;33m]\u001b[0m\u001b[1;33m\u001b[0m\u001b[1;33m\u001b[0m\u001b[0m\n\u001b[0m\u001b[0;32m      2\u001b[0m \u001b[0my\u001b[0m \u001b[1;33m=\u001b[0m \u001b[1;33m[\u001b[0m\u001b[0mmath\u001b[0m\u001b[1;33m.\u001b[0m\u001b[0mlog\u001b[0m\u001b[1;33m(\u001b[0m\u001b[0mn\u001b[0m\u001b[1;33m)\u001b[0m \u001b[1;32mfor\u001b[0m \u001b[0mn\u001b[0m \u001b[1;32min\u001b[0m \u001b[0mrange\u001b[0m\u001b[1;33m(\u001b[0m\u001b[1;36m1\u001b[0m\u001b[1;33m,\u001b[0m \u001b[0mn\u001b[0m \u001b[1;33m+\u001b[0m \u001b[1;36m1\u001b[0m\u001b[1;33m)\u001b[0m\u001b[1;33m]\u001b[0m\u001b[1;33m\u001b[0m\u001b[1;33m\u001b[0m\u001b[0m\n",
      "\u001b[1;31mTypeError\u001b[0m: 'NoneType' object is not subscriptable"
     ]
    }
   ],
   "source": [
    "x = [h(n)[2] for n in range(1, n + 1)]\n",
    "y = [math.log(n) for n in range(1, n + 1)]"
   ]
  },
  {
   "cell_type": "code",
   "execution_count": null,
   "metadata": {},
   "outputs": [],
   "source": []
  }
 ],
 "metadata": {
  "celltoolbar": "Create Assignment",
  "kernelspec": {
   "display_name": "Python 3",
   "language": "python",
   "name": "python3"
  },
  "language_info": {
   "codemirror_mode": {
    "name": "ipython",
    "version": 3
   },
   "file_extension": ".py",
   "mimetype": "text/x-python",
   "name": "python",
   "nbconvert_exporter": "python",
   "pygments_lexer": "ipython3",
   "version": "3.8.8"
  }
 },
 "nbformat": 4,
 "nbformat_minor": 4
}
