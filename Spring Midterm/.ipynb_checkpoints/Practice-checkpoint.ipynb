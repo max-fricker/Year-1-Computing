{
 "cells": [
  {
   "cell_type": "markdown",
   "metadata": {},
   "source": [
    "# <center>MATH40006 Python Midterm Test 2019-20</center>\n",
    "\n",
    "# <center>Version A</center>\n",
    "\n",
    "<center>Fifty Minutes</center>\n",
    "\n",
    "Show all code, output and diagrams, unless instructed otherwise. "
   ]
  },
  {
   "cell_type": "markdown",
   "metadata": {},
   "source": [
    "## Question 1 (20 marks)"
   ]
  },
  {
   "cell_type": "markdown",
   "metadata": {},
   "source": [
    "(a) Import the NumPy module, and use it to set up two 1D arrays called `xvals` and `yvals`, each of which should consist of 100 equally-spaced floats between $-1.2$ and $1.2$."
   ]
  },
  {
   "cell_type": "code",
   "execution_count": null,
   "metadata": {},
   "outputs": [],
   "source": [
    "import numpy as np\n",
    "\n",
    "xvals = np.linspace(-1.2, 1.)"
   ]
  },
  {
   "cell_type": "code",
   "execution_count": null,
   "metadata": {},
   "outputs": [],
   "source": []
  },
  {
   "cell_type": "markdown",
   "metadata": {},
   "source": [
    "(b) Using the `meshgrid` function from NumPy, set up two 2D arrays called `x` and `y`, which should correspond respectively to the $x$- and $y$-coordinates of points on an equally-spaced $100\\times 100$ lattice occupying the square $-1.2\\le x \\le 1.2$, $-1.2 \\le y \\le 1.2$."
   ]
  },
  {
   "cell_type": "markdown",
   "metadata": {},
   "source": [
    "(c) Set up a 2D array called `z`, consisting of the values, on this lattice, of the function\n",
    "$$z(x,y) = \\frac{y\\,(y-x^2+1)\\,(y+x^2-1)}{1+x^2+y^2}.$$"
   ]
  },
  {
   "cell_type": "markdown",
   "metadata": {},
   "source": [
    "(d) Visualize the values of `z` on this lattice using a 2D contour plot, with equal scales on the axes."
   ]
  },
  {
   "cell_type": "markdown",
   "metadata": {},
   "source": [
    "(e) Visualize the values of `z` on this lattice using a 3D wireframe plot."
   ]
  },
  {
   "cell_type": "markdown",
   "metadata": {},
   "source": [
    "## Question 2 (30 marks)\n",
    "\n",
    "The following is an iterative implementation of a function for calculating the greatest common divisor (highest common factor) of two positive ints using Euclid's algorithm."
   ]
  },
  {
   "cell_type": "code",
   "execution_count": null,
   "metadata": {},
   "outputs": [],
   "source": [
    "def gcd1(a, b):\n",
    "    \"\"\"\n",
    "    Calculates the greatest common divisor of a and b\n",
    "    using Euclid's algorithm.\n",
    "    \"\"\"\n",
    "    \n",
    "    # while loop\n",
    "    while b > 0:\n",
    "        a, b = b, a % b\n",
    "        \n",
    "    # return\n",
    "    return a"
   ]
  },
  {
   "cell_type": "markdown",
   "metadata": {},
   "source": [
    "(a) Test this function on a small number of varied cases, including (a) cases you can check by hand, (b) cases that test the performance of the function if `a` and `b` both have over 100 digits, and (c) any edge cases you think necessary."
   ]
  },
  {
   "cell_type": "markdown",
   "metadata": {},
   "source": [
    "(b) Write and test a version of this function, `gcd2`, that uses, instead of a loop beginning\n",
    "```python\n",
    "while a > 0:\n",
    "```\n",
    "a loop beginning \n",
    "```python\n",
    "while True:\n",
    "```"
   ]
  },
  {
   "cell_type": "markdown",
   "metadata": {},
   "source": [
    "(c) Write and test a <b>recursive</b> implementation of this algorithm, `gcd3`."
   ]
  },
  {
   "cell_type": "markdown",
   "metadata": {},
   "source": [
    "The following are two implementations of a <em>lowest common multiple</em> algorithm. The first uses a method called \"topping up\", and the second simply multiplies the two numbers and divides by their greatest common divisor."
   ]
  },
  {
   "cell_type": "code",
   "execution_count": null,
   "metadata": {},
   "outputs": [],
   "source": [
    "def lcm1(a, b):\n",
    "    \"\"\"\n",
    "    Calculates the lowest common multiple using 'topping up'\n",
    "    \"\"\"\n",
    "    p, q = a, b\n",
    "    \n",
    "    # top up the smaller of p or q with multiples of a and b until p==q\n",
    "    while not p==q:\n",
    "        if p < q:\n",
    "            p+=a\n",
    "        else:\n",
    "            q+=b\n",
    "            \n",
    "    return p"
   ]
  },
  {
   "cell_type": "code",
   "execution_count": null,
   "metadata": {},
   "outputs": [],
   "source": [
    "def lcm2(a, b):\n",
    "    \"\"\"\n",
    "    Calculates the lowest common multiple using Euclid's algorithm\n",
    "    \"\"\"\n",
    "    return (a * b) // gcd1(a, b)"
   ]
  },
  {
   "cell_type": "markdown",
   "metadata": {},
   "source": [
    "(d) Briefly explain, with the aid of an example, which of these functions you'd usually expect to use fewer iterations, and why."
   ]
  },
  {
   "cell_type": "code",
   "execution_count": null,
   "metadata": {},
   "outputs": [],
   "source": []
  }
 ],
 "metadata": {
  "kernelspec": {
   "display_name": "Python 3",
   "language": "python",
   "name": "python3"
  },
  "language_info": {
   "codemirror_mode": {
    "name": "ipython",
    "version": 3
   },
   "file_extension": ".py",
   "mimetype": "text/x-python",
   "name": "python",
   "nbconvert_exporter": "python",
   "pygments_lexer": "ipython3",
   "version": "3.8.8"
  }
 },
 "nbformat": 4,
 "nbformat_minor": 2
}
