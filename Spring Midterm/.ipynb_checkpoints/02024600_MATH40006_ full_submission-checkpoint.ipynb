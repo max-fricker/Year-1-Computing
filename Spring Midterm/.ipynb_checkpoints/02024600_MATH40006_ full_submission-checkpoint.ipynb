{
 "cells": [
  {
   "cell_type": "markdown",
   "id": "hearing-england",
   "metadata": {
    "deletable": false,
    "editable": false,
    "nbgrader": {
     "cell_type": "markdown",
     "checksum": "73d13dc522fe774ebd04b33667c6d6b1",
     "grade": false,
     "grade_id": "cell-fdfbf8078392ca73",
     "locked": true,
     "schema_version": 3,
     "solution": false,
     "task": false
    }
   },
   "source": [
    "# M40006 In-Course Assessment\n",
    "\n",
    "# 23 February 2022, 11 am - 12 noon\n",
    "\n",
    "## One Hour\n",
    "\n",
    "### Answer all questions, submitting your answers as a single Jupyter notebook."
   ]
  },
  {
   "cell_type": "markdown",
   "id": "upper-warrant",
   "metadata": {
    "deletable": false,
    "editable": false,
    "nbgrader": {
     "cell_type": "markdown",
     "checksum": "0d8dc3ebd450a5e79ed07ce009b48c28",
     "grade": false,
     "grade_id": "cell-b0af8e739ea85c77",
     "locked": true,
     "schema_version": 3,
     "solution": false,
     "task": false
    }
   },
   "source": [
    "To carry out this assignment, you may find useful, possibly amongst others:\n",
    "<ul>\n",
    "    <li>the functions <code>linspace</code>, <code>meshgrid</code> and <code>arange</code> from the <code>numpy</code> module;</li>\n",
    "    <li>the functions <code>imshow</code>, <code>contour</code> and <code>quiver</code> from the <code>matplotlib.pyplot</code> submodule;</li> \n",
    "    <li>the functions <code>gcd</code> and <code>sqrt</code> from the <code>math</code> module;</li> \n",
    "</ul>\n",
    "\n",
    "It is recommended that you simply execute the following code cell:"
   ]
  },
  {
   "cell_type": "code",
   "execution_count": 1,
   "id": "preceding-attachment",
   "metadata": {},
   "outputs": [],
   "source": [
    "%matplotlib inline\n",
    "import numpy as np\n",
    "import matplotlib.pyplot as plt\n",
    "import math"
   ]
  },
  {
   "cell_type": "markdown",
   "id": "hungry-generation",
   "metadata": {
    "deletable": false,
    "editable": false,
    "nbgrader": {
     "cell_type": "markdown",
     "checksum": "9e6ecd3d478dea37ff479d2d36822d04",
     "grade": false,
     "grade_id": "cell-a872cadd970ef912",
     "locked": true,
     "schema_version": 3,
     "solution": false,
     "task": false
    }
   },
   "source": [
    "## Question 1 (25 marks)\n",
    "\n",
    "(a) Using the `linspace` function from the `numpy` module, or otherwise, define the variables `xrange` and `yrange`, each of which should be equal to an array of 120 floats between $-3.0$ and $3.0$ inclusive."
   ]
  },
  {
   "cell_type": "code",
   "execution_count": 2,
   "id": "quarterly-shopping",
   "metadata": {
    "deletable": false,
    "nbgrader": {
     "cell_type": "code",
     "checksum": "a572c9f98cd078e3da9590783d8d497f",
     "grade": true,
     "grade_id": "cell-c60993c939f22982",
     "locked": false,
     "points": 2,
     "schema_version": 3,
     "solution": true,
     "task": false
    }
   },
   "outputs": [],
   "source": [
    "xrange = np.linspace(-3, 3, 120)\n",
    "yrange = np.linspace(-3, 3, 120)"
   ]
  },
  {
   "cell_type": "markdown",
   "id": "established-detail",
   "metadata": {
    "deletable": false,
    "editable": false,
    "nbgrader": {
     "cell_type": "markdown",
     "checksum": "3d4ac7e694d4bb26dc64e7c999db2205",
     "grade": false,
     "grade_id": "cell-62434426f93ce012",
     "locked": true,
     "schema_version": 3,
     "solution": false,
     "task": false
    }
   },
   "source": [
    "(b) Using the above values, and the `meshgrid` function from the `numpy` module, define the variables `x` and `y` such that they form the $x$- and $y$-coordinates, respectively, of an equally spaced $120$ by $120$ square lattice of points satisfying $-3.0 \\le x \\le 3.0$, $-3.0 \\le y \\le 3.0$.\n",
    "\n",
    "If you've done this right, `print(x)` should produce something like\n",
    "\n",
    "```\n",
    "[[-3.         -2.94957983 -2.89915966 ...  2.89915966  2.94957983\n",
    "   3.        ]\n",
    " [-3.         -2.94957983 -2.89915966 ...  2.89915966  2.94957983\n",
    "   3.        ]\n",
    " [-3.         -2.94957983 -2.89915966 ...  2.89915966  2.94957983\n",
    "   3.        ]\n",
    " ...\n",
    " [-3.         -2.94957983 -2.89915966 ...  2.89915966  2.94957983\n",
    "   3.        ]\n",
    " [-3.         -2.94957983 -2.89915966 ...  2.89915966  2.94957983\n",
    "   3.        ]\n",
    " [-3.         -2.94957983 -2.89915966 ...  2.89915966  2.94957983\n",
    "   3.        ]]\n",
    "```"
   ]
  },
  {
   "cell_type": "code",
   "execution_count": 3,
   "id": "about-trial",
   "metadata": {
    "deletable": false,
    "nbgrader": {
     "cell_type": "code",
     "checksum": "f8fa05355d78f3b5a857760af194e230",
     "grade": true,
     "grade_id": "cell-1d4647b65827e29d",
     "locked": false,
     "points": 2,
     "schema_version": 3,
     "solution": true,
     "task": false
    }
   },
   "outputs": [
    {
     "name": "stdout",
     "output_type": "stream",
     "text": [
      "[[-3.         -2.94957983 -2.89915966 ...  2.89915966  2.94957983\n",
      "   3.        ]\n",
      " [-3.         -2.94957983 -2.89915966 ...  2.89915966  2.94957983\n",
      "   3.        ]\n",
      " [-3.         -2.94957983 -2.89915966 ...  2.89915966  2.94957983\n",
      "   3.        ]\n",
      " ...\n",
      " [-3.         -2.94957983 -2.89915966 ...  2.89915966  2.94957983\n",
      "   3.        ]\n",
      " [-3.         -2.94957983 -2.89915966 ...  2.89915966  2.94957983\n",
      "   3.        ]\n",
      " [-3.         -2.94957983 -2.89915966 ...  2.89915966  2.94957983\n",
      "   3.        ]]\n"
     ]
    }
   ],
   "source": [
    "x, y = np.meshgrid(xrange, yrange)\n",
    "\n",
    "print(x)"
   ]
  },
  {
   "cell_type": "markdown",
   "id": "addressed-result",
   "metadata": {
    "deletable": false,
    "editable": false,
    "nbgrader": {
     "cell_type": "markdown",
     "checksum": "2532849e69a11123a20db335b20b1e5d",
     "grade": false,
     "grade_id": "cell-2822bda60e9a5f34",
     "locked": true,
     "schema_version": 3,
     "solution": false,
     "task": false
    }
   },
   "source": [
    "(c) Using these values of `x` and `y`, define the variable `z` to be equal to the square array of complex numbers corresponding to the points in this lattice. For full marks, do this in one line.\n",
    "\n",
    "If you've done this right, `print(z)` should produce something like\n",
    "\n",
    "```\n",
    "[[-3.        -3.j         -2.94957983-3.j         -2.89915966-3.j\n",
    "  ...  2.89915966-3.j          2.94957983-3.j\n",
    "   3.        -3.j        ]\n",
    " [-3.        -2.94957983j -2.94957983-2.94957983j -2.89915966-2.94957983j\n",
    "  ...  2.89915966-2.94957983j  2.94957983-2.94957983j\n",
    "   3.        -2.94957983j]\n",
    " [-3.        -2.89915966j -2.94957983-2.89915966j -2.89915966-2.89915966j\n",
    "  ...  2.89915966-2.89915966j  2.94957983-2.89915966j\n",
    "   3.        -2.89915966j]\n",
    " ...\n",
    " [-3.        +2.89915966j -2.94957983+2.89915966j -2.89915966+2.89915966j\n",
    "  ...  2.89915966+2.89915966j  2.94957983+2.89915966j\n",
    "   3.        +2.89915966j]\n",
    " [-3.        +2.94957983j -2.94957983+2.94957983j -2.89915966+2.94957983j\n",
    "  ...  2.89915966+2.94957983j  2.94957983+2.94957983j\n",
    "   3.        +2.94957983j]\n",
    " [-3.        +3.j         -2.94957983+3.j         -2.89915966+3.j\n",
    "  ...  2.89915966+3.j          2.94957983+3.j\n",
    "   3.        +3.j        ]]\n",
    "```"
   ]
  },
  {
   "cell_type": "code",
   "execution_count": 4,
   "id": "voluntary-disclaimer",
   "metadata": {
    "deletable": false,
    "nbgrader": {
     "cell_type": "code",
     "checksum": "8c8253e0909fb2b100a6c92a565b8ddf",
     "grade": true,
     "grade_id": "cell-6bde8f3b3be78673",
     "locked": false,
     "points": 2,
     "schema_version": 3,
     "solution": true,
     "task": false
    }
   },
   "outputs": [
    {
     "name": "stdout",
     "output_type": "stream",
     "text": [
      "[[-3.        -3.j         -2.94957983-3.j         -2.89915966-3.j\n",
      "  ...  2.89915966-3.j          2.94957983-3.j\n",
      "   3.        -3.j        ]\n",
      " [-3.        -2.94957983j -2.94957983-2.94957983j -2.89915966-2.94957983j\n",
      "  ...  2.89915966-2.94957983j  2.94957983-2.94957983j\n",
      "   3.        -2.94957983j]\n",
      " [-3.        -2.89915966j -2.94957983-2.89915966j -2.89915966-2.89915966j\n",
      "  ...  2.89915966-2.89915966j  2.94957983-2.89915966j\n",
      "   3.        -2.89915966j]\n",
      " ...\n",
      " [-3.        +2.89915966j -2.94957983+2.89915966j -2.89915966+2.89915966j\n",
      "  ...  2.89915966+2.89915966j  2.94957983+2.89915966j\n",
      "   3.        +2.89915966j]\n",
      " [-3.        +2.94957983j -2.94957983+2.94957983j -2.89915966+2.94957983j\n",
      "  ...  2.89915966+2.94957983j  2.94957983+2.94957983j\n",
      "   3.        +2.94957983j]\n",
      " [-3.        +3.j         -2.94957983+3.j         -2.89915966+3.j\n",
      "  ...  2.89915966+3.j          2.94957983+3.j\n",
      "   3.        +3.j        ]]\n"
     ]
    }
   ],
   "source": [
    "z = x + y * 1j\n",
    "\n",
    "print(z)"
   ]
  },
  {
   "cell_type": "markdown",
   "id": "fifth-location",
   "metadata": {
    "deletable": false,
    "editable": false,
    "nbgrader": {
     "cell_type": "markdown",
     "checksum": "860900b62bfb43eca61ea0aa493f5ea2",
     "grade": false,
     "grade_id": "cell-6fc80126642cfbe2",
     "locked": true,
     "schema_version": 3,
     "solution": false,
     "task": false
    }
   },
   "source": [
    "(d) Using this value of `z`, generate values called `funcreal` and `funcimag`, which should be arrays consisting of, respectively, the real and imaginary parts of each of the elements of the array $z+4/z$. For full marks, do this in one line."
   ]
  },
  {
   "cell_type": "code",
   "execution_count": 5,
   "id": "decreased-palestine",
   "metadata": {
    "deletable": false,
    "nbgrader": {
     "cell_type": "code",
     "checksum": "6fd26aff2f7d687ac376643fc7ea9930",
     "grade": true,
     "grade_id": "cell-e399c0d9a03a2407",
     "locked": false,
     "points": 2,
     "schema_version": 3,
     "solution": true,
     "task": false
    }
   },
   "outputs": [],
   "source": [
    "funcreal, funcimag = np.real(z + 4 / z), np.imag(z + 4 / z)"
   ]
  },
  {
   "cell_type": "markdown",
   "id": "entitled-threat",
   "metadata": {
    "deletable": false,
    "editable": false,
    "nbgrader": {
     "cell_type": "markdown",
     "checksum": "e0702cf41848b72778cd612e1fbb131c",
     "grade": false,
     "grade_id": "cell-3b4fa7ca76256666",
     "locked": true,
     "schema_version": 3,
     "solution": false,
     "task": false
    }
   },
   "source": [
    "(e) Using the `imshow` function from the `matplotlib.pyplot` submodule, with the keyword arguments `vmin` and `vmax` set to $-5$ and $5$ respectively, generate a visualisation of `funcreal`.\n",
    "\n",
    "On a separate pair of axes, generate a visualisation of `funcimag`."
   ]
  },
  {
   "cell_type": "code",
   "execution_count": 6,
   "id": "checked-reynolds",
   "metadata": {
    "deletable": false,
    "nbgrader": {
     "cell_type": "code",
     "checksum": "9788aa30912ced0f17d8bf706b7a042c",
     "grade": true,
     "grade_id": "cell-ba1c2cc715107220",
     "locked": false,
     "points": 2,
     "schema_version": 3,
     "solution": true,
     "task": false
    }
   },
   "outputs": [
    {
     "data": {
      "text/plain": [
       "<matplotlib.image.AxesImage at 0x2742ba8bd00>"
      ]
     },
     "execution_count": 6,
     "metadata": {},
     "output_type": "execute_result"
    },
    {
     "data": {
      "image/png": "[encoded data removed]",
      "text/plain": [
       "<Figure size 432x288 with 1 Axes>"
      ]
     },
     "metadata": {
      "needs_background": "light"
     },
     "output_type": "display_data"
    }
   ],
   "source": [
    "plt.imshow(funcreal, vmin = -5, vmax = 5)"
   ]
  },
  {
   "cell_type": "code",
   "execution_count": 7,
   "id": "together-carroll",
   "metadata": {
    "deletable": false,
    "nbgrader": {
     "cell_type": "code",
     "checksum": "984203b6234464ce064f7df100645a6f",
     "grade": true,
     "grade_id": "cell-96f351305de05511",
     "locked": false,
     "points": 2,
     "schema_version": 3,
     "solution": true,
     "task": false
    }
   },
   "outputs": [
    {
     "data": {
      "text/plain": [
       "<matplotlib.image.AxesImage at 0x2742bb7f850>"
      ]
     },
     "execution_count": 7,
     "metadata": {},
     "output_type": "execute_result"
    },
    {
     "data": {
      "image/png": "[encoded data removed]",
      "text/plain": [
       "<Figure size 432x288 with 1 Axes>"
      ]
     },
     "metadata": {
      "needs_background": "light"
     },
     "output_type": "display_data"
    }
   ],
   "source": [
    "plt.imshow(funcimag, vmin = -5, vmax = 5)"
   ]
  },
  {
   "cell_type": "markdown",
   "id": "consolidated-duration",
   "metadata": {
    "deletable": false,
    "editable": false,
    "nbgrader": {
     "cell_type": "markdown",
     "checksum": "1052fa372bcf97980e3e951a054db051",
     "grade": false,
     "grade_id": "cell-aecbf597cce858b5",
     "locked": true,
     "schema_version": 3,
     "solution": false,
     "task": false
    }
   },
   "source": [
    "(f) On the same pair of axes as each other, display a contour plot of `funcreal` against `x` and `y`, in blue, and a contour plot of `funcimag` against `x` and `y`, in red. In each case, use an appropriate optional argument to make sure that the contours shown are those corresponding to the equally-spaced values $-5,-4,-3,\\dots,4,5$. \n",
    "\n",
    "Make the scales the same on both axes, so that the square region $-3.0 \\le x \\le 3.0$, $-3.0 \\le y \\le 3.0$ appears as a square."
   ]
  },
  {
   "cell_type": "code",
   "execution_count": 8,
   "id": "historical-founder",
   "metadata": {
    "deletable": false,
    "nbgrader": {
     "cell_type": "code",
     "checksum": "8e4a10bfbb8954c132619833d9b48cd7",
     "grade": true,
     "grade_id": "cell-7c099099672f3a90",
     "locked": false,
     "points": 4,
     "schema_version": 3,
     "solution": true,
     "task": false
    }
   },
   "outputs": [
    {
     "data": {
      "text/plain": [
       "(-3.0, 3.0, -3.0, 3.0)"
      ]
     },
     "execution_count": 8,
     "metadata": {},
     "output_type": "execute_result"
    },
    {
     "data": {
      "image/png": "[encoded data removed]",
      "text/plain": [
       "<Figure size 432x288 with 1 Axes>"
      ]
     },
     "metadata": {
      "needs_background": "light"
     },
     "output_type": "display_data"
    }
   ],
   "source": [
    "plt.contour(x, y, funcreal, colors = 'blue', levels = np.arange(-5, 6, 1))\n",
    "plt.contour(x, y, funcimag, colors = 'red', levels = np.arange(-5, 6, 1))\n",
    "\n",
    "plt.axis('equal')"
   ]
  },
  {
   "cell_type": "markdown",
   "id": "comparable-incentive",
   "metadata": {
    "deletable": false,
    "editable": false,
    "nbgrader": {
     "cell_type": "markdown",
     "checksum": "b5cac8f75d4e7e634ede4e8f36707e8c",
     "grade": false,
     "grade_id": "cell-4f7a2074bfe0a736",
     "locked": true,
     "schema_version": 3,
     "solution": false,
     "task": false
    }
   },
   "source": [
    "(g) Define variables `xrange1` and `yrange1` corresponding not to 120 equally-spaced values between $-3.0$ and $3.0$, but to 12. \n",
    "\n",
    "Then, define `x1` and `y1` using `meshgrid`, and `z1` as an array of complex values, in exactly the same way as above, but using these new, sparser ranges of values."
   ]
  },
  {
   "cell_type": "code",
   "execution_count": 9,
   "id": "prerequisite-ordinary",
   "metadata": {
    "deletable": false,
    "nbgrader": {
     "cell_type": "code",
     "checksum": "8d0a743200dc0641b1b1580fae9bd0ee",
     "grade": true,
     "grade_id": "cell-223ba713d7c5785c",
     "locked": false,
     "points": 4,
     "schema_version": 3,
     "solution": true,
     "task": false
    }
   },
   "outputs": [],
   "source": [
    "xrange1 = np.linspace(-3, 3, 12)\n",
    "yrange1 = np.linspace(-3, 3, 12)\n",
    "\n",
    "x1, y1 = np.meshgrid(xrange1, yrange1)\n",
    "\n",
    "z1 = x1 + y1 * 1j"
   ]
  },
  {
   "cell_type": "markdown",
   "id": "eleven-savings",
   "metadata": {
    "deletable": false,
    "editable": false,
    "nbgrader": {
     "cell_type": "markdown",
     "checksum": "c1c0e368f3fc757413ca46f0f063266a",
     "grade": false,
     "grade_id": "cell-64b0d3f18c7538f2",
     "locked": true,
     "schema_version": 3,
     "solution": false,
     "task": false
    }
   },
   "source": [
    "(h) You'll learn about complex differentiation in the Second Year, but the complex derivative of $z+4/z$ is $1-4/z^2$.\n",
    "\n",
    "Using the `quiver` function from `matplotlib.pyplot`, and drawing your values from the array `z1`, generate a vector field plot of the vector field with horizontal component given by\n",
    "\n",
    "$$\\frac{{\\rm Re}\\,(1-4/z^2)}{|1-4/z^2|}$$\n",
    "\n",
    "and vertical component given by\n",
    "\n",
    "$$-\\frac{{\\rm Im}\\,(1-4/z^2)}{|1-4/z^2|}$$\n",
    "\n",
    "(note the minus sign). Show this on the same pair of axes as your contour plots from part (f)."
   ]
  },
  {
   "cell_type": "code",
   "execution_count": 10,
   "id": "sorted-triangle",
   "metadata": {
    "deletable": false,
    "nbgrader": {
     "cell_type": "code",
     "checksum": "f2774ff3d0589502cbd42134ed17fa41",
     "grade": true,
     "grade_id": "cell-41bd76e61124e7b9",
     "locked": false,
     "points": 5,
     "schema_version": 3,
     "solution": true,
     "task": false
    }
   },
   "outputs": [
    {
     "data": {
      "text/plain": [
       "(-3.0, 3.0, -3.0, 3.0)"
      ]
     },
     "execution_count": 10,
     "metadata": {},
     "output_type": "execute_result"
    },
    {
     "data": {
      "image/png": "[encoded data removed]",
      "text/plain": [
       "<Figure size 432x288 with 1 Axes>"
      ]
     },
     "metadata": {
      "needs_background": "light"
     },
     "output_type": "display_data"
    }
   ],
   "source": [
    "der = 1 - 4 / (z1 ** 2)\n",
    "\n",
    "hor = (np.real(der)) / (abs(der))\n",
    "ver = - (np.imag(der)) / (abs(der))\n",
    "\n",
    "plt.contour(x, y, funcreal, colors = 'blue', levels = np.arange(-5, 6, 1))\n",
    "plt.contour(x, y, funcimag, colors = 'red', levels = np.arange(-5, 6, 1))\n",
    "plt.quiver(x1, y1, hor, ver)\n",
    "\n",
    "plt.axis('equal')"
   ]
  },
  {
   "cell_type": "markdown",
   "id": "contemporary-disease",
   "metadata": {
    "deletable": false,
    "editable": false,
    "nbgrader": {
     "cell_type": "markdown",
     "checksum": "36dc111b4e27889a8b82f01cb57ebfc2",
     "grade": false,
     "grade_id": "cell-e745189310dcf5f6",
     "locked": true,
     "schema_version": 3,
     "solution": false,
     "task": false
    }
   },
   "source": [
    "## Question 2 (25 marks)\n",
    "\n",
    "The following function uses a couple of results from number theory to search for nontrivial factors (that is, factors other than 1) of a given integer greater than 1, using an algorithm that runs much more quickly than \"brute force\".\n",
    "\n",
    "It can be guaranteed to terminate, but it isn't always as useful as it might be."
   ]
  },
  {
   "cell_type": "code",
   "execution_count": 11,
   "id": "reliable-grain",
   "metadata": {
    "deletable": false,
    "editable": false,
    "nbgrader": {
     "cell_type": "code",
     "checksum": "4d569564b5ce4d3220bc5d11b98d1637",
     "grade": false,
     "grade_id": "cell-0c5e20f932a0333b",
     "locked": true,
     "schema_version": 3,
     "solution": false,
     "task": false
    }
   },
   "outputs": [],
   "source": [
    "def seekFactor(n):\n",
    "    \"\"\"\n",
    "    Seeks a factor of n, assumed to be an int greater than 1, \n",
    "    using a fairly efficient deterministic algorithm\n",
    "    \"\"\"\n",
    "    from math import gcd\n",
    "    \n",
    "    # \"churning\" function g\n",
    "    \n",
    "    g = lambda x: (x**2 + 1) % n\n",
    "    \n",
    "    # initialize\n",
    "    x, y, d = 2, 2, 1\n",
    "    \n",
    "    # loop\n",
    "    while d == 1:\n",
    "        # update x and y\n",
    "        x, y = g(x), g(g(y))\n",
    "        # recalculate d\n",
    "        d = gcd(abs(x - y), n)\n",
    "    \n",
    "    # if d is not 1, it's a non-trivial factor of n\n",
    "    return d"
   ]
  },
  {
   "cell_type": "markdown",
   "id": "determined-excellence",
   "metadata": {
    "deletable": false,
    "editable": false,
    "nbgrader": {
     "cell_type": "markdown",
     "checksum": "ef61d561f1e4baaa8c8023eed6725cc9",
     "grade": false,
     "grade_id": "cell-726b039954e2a702",
     "locked": true,
     "schema_version": 3,
     "solution": false,
     "task": false
    }
   },
   "source": [
    "(a) A semiprime is the product of two primes. Test the function on the semiprimes $43\\times59$ and $59\\times73$. Comment briefly on what you find: how good does the algorithm appear to be?"
   ]
  },
  {
   "cell_type": "code",
   "execution_count": 12,
   "id": "knowing-sewing",
   "metadata": {
    "deletable": false,
    "nbgrader": {
     "cell_type": "code",
     "checksum": "8a0df448f218793ab915134df27b5e6f",
     "grade": true,
     "grade_id": "cell-0de948ecabf6667b",
     "locked": false,
     "points": 1,
     "schema_version": 3,
     "solution": true,
     "task": false
    }
   },
   "outputs": [
    {
     "name": "stdout",
     "output_type": "stream",
     "text": [
      "43\n",
      "4307\n",
      "4307\n"
     ]
    }
   ],
   "source": [
    "print(seekFactor(43 * 59))\n",
    "\n",
    "print(seekFactor(59 * 73))\n",
    "\n",
    "print(59 * 73)"
   ]
  },
  {
   "cell_type": "markdown",
   "id": "short-lightning",
   "metadata": {
    "deletable": false,
    "nbgrader": {
     "cell_type": "markdown",
     "checksum": "2ffe357a12731615f409824c04cc9f17",
     "grade": true,
     "grade_id": "cell-3ec527fd90eb09cc",
     "locked": false,
     "points": 1,
     "schema_version": 3,
     "solution": true,
     "task": false
    }
   },
   "source": [
    "In the first example, the alogrithim did find a non-trivial factor which is good.\n",
    "\n",
    "However in the second example, the algorithim just finds the number inputted which should really be considered a trivial factor so the alogrithim is not useful for this value. \n",
    "\n",
    "Overall I do not think the function is very good. "
   ]
  },
  {
   "cell_type": "markdown",
   "id": "functioning-position",
   "metadata": {
    "deletable": false,
    "editable": false,
    "nbgrader": {
     "cell_type": "markdown",
     "checksum": "3b60c0d1b6d668bb37477d6ea121c834",
     "grade": false,
     "grade_id": "cell-7e7d17f2ea0ca37e",
     "locked": true,
     "schema_version": 3,
     "solution": false,
     "task": false
    }
   },
   "source": [
    "(b) Write and test a version of the function, `seekFactor2`, that instead uses a while loop that starts with\n",
    "\n",
    "```python\n",
    "    while True\n",
    "```"
   ]
  },
  {
   "cell_type": "code",
   "execution_count": 13,
   "id": "conventional-palmer",
   "metadata": {
    "deletable": false,
    "nbgrader": {
     "cell_type": "code",
     "checksum": "3df74f80dfb1a92604e86df20ad2614a",
     "grade": true,
     "grade_id": "cell-a1936ccae2cde991",
     "locked": false,
     "points": 5,
     "schema_version": 3,
     "solution": true,
     "task": false
    }
   },
   "outputs": [],
   "source": [
    "def seekFactor2(n):\n",
    "    \"\"\"\n",
    "    Seeks a factor of n, assumed to be an int greater than 1, \n",
    "    using a fairly efficient deterministic algorithm\n",
    "    \"\"\"\n",
    "    from math import gcd\n",
    "    \n",
    "    # \"churning\" function g\n",
    "    \n",
    "    g = lambda x: (x**2 + 1) % n\n",
    "    \n",
    "    # initialize\n",
    "    x, y, d = 2, 2, 1\n",
    "    \n",
    "    # loop\n",
    "    while True:\n",
    "        if d == 1:\n",
    "            # update x and y\n",
    "            x, y = g(x), g(g(y))\n",
    "            # recalculate d\n",
    "            d = gcd(abs(x - y), n)\n",
    "        \n",
    "        if d != 1:\n",
    "            # if d is not 1, it's a non-trivial factor of n\n",
    "            return d"
   ]
  },
  {
   "cell_type": "code",
   "execution_count": 14,
   "id": "2169a181",
   "metadata": {},
   "outputs": [
    {
     "name": "stdout",
     "output_type": "stream",
     "text": [
      "43\n",
      "4307\n"
     ]
    }
   ],
   "source": [
    "print(seekFactor2(43 * 59))\n",
    "\n",
    "print(seekFactor2(59 * 73))"
   ]
  },
  {
   "cell_type": "markdown",
   "id": "4010f57e",
   "metadata": {},
   "source": [
    "Produces same answers as original function. "
   ]
  },
  {
   "cell_type": "markdown",
   "id": "religious-cross",
   "metadata": {
    "deletable": false,
    "editable": false,
    "nbgrader": {
     "cell_type": "markdown",
     "checksum": "c3f437ede9e47e6e935cd8e36c51597f",
     "grade": false,
     "grade_id": "cell-ab9ab09b519f1fd3",
     "locked": true,
     "schema_version": 3,
     "solution": false,
     "task": false
    }
   },
   "source": [
    "(c) Write a <em>recursive</em> function called `seekFactorInner` that takes as its arguments integers `n`, `x` and `y`. It should then update `x` and `y` using `g`, as above, and calculate the associated value of `d`. \n",
    "\n",
    "If this value is anything other than 1, this value should be returned; otherwise, the function should call itself recursively with the new values of `x` and `y`.\n",
    "\n",
    "Hence, write and test a third function, `seekFactor3`, that takes `n` as its input and returns a non-trivial factor of `n`."
   ]
  },
  {
   "cell_type": "code",
   "execution_count": 15,
   "id": "subjective-sister",
   "metadata": {
    "deletable": false,
    "nbgrader": {
     "cell_type": "code",
     "checksum": "a2c690de0532e98eca12e062cfbdbc77",
     "grade": true,
     "grade_id": "cell-b30b901a0ba50f3f",
     "locked": false,
     "points": 4,
     "schema_version": 3,
     "solution": true,
     "task": false
    }
   },
   "outputs": [],
   "source": [
    "def seekFactorInner(n, x, y):\n",
    "    \n",
    "    from math import gcd\n",
    "    \n",
    "    # \"churning\" function g\n",
    "    \n",
    "    g = lambda x: (x**2 + 1) % n\n",
    "    \n",
    "    # update x and y\n",
    "    x1, y1 = g(x), g(g(y))\n",
    "    # recalculate d\n",
    "    d = gcd(abs(x1 - y1), n)\n",
    "    \n",
    "    if d != 1:\n",
    "        # if d is not 1, it's a non-trivial factor of n\n",
    "        return d\n",
    "    \n",
    "    else:\n",
    "        # recursive step\n",
    "        return seekFactorInner(n, x1, y1)"
   ]
  },
  {
   "cell_type": "code",
   "execution_count": 16,
   "id": "speaking-gallery",
   "metadata": {
    "deletable": false,
    "nbgrader": {
     "cell_type": "code",
     "checksum": "134acb71a5fbb16412f96c54a1c8bd5a",
     "grade": true,
     "grade_id": "cell-2be54c3e613f7482",
     "locked": false,
     "points": 2,
     "schema_version": 3,
     "solution": true,
     "task": false
    }
   },
   "outputs": [],
   "source": [
    "def seekFactor3(n):\n",
    "    \"\"\"\n",
    "    Seeks a factor of n, assumed to be an int greater than 1, \n",
    "    using a fairly efficient deterministic algorithm\n",
    "    \"\"\"\n",
    "\n",
    "    # initialize\n",
    "    x, y = 2, 2\n",
    "    \n",
    "    # call seekFactorInner function\n",
    "    return seekFactorInner(n, x, y)"
   ]
  },
  {
   "cell_type": "code",
   "execution_count": 17,
   "id": "520728e4",
   "metadata": {},
   "outputs": [
    {
     "name": "stdout",
     "output_type": "stream",
     "text": [
      "43\n",
      "4307\n"
     ]
    }
   ],
   "source": [
    "print(seekFactor3(43 * 59))\n",
    "\n",
    "print(seekFactor3(59 * 73))"
   ]
  },
  {
   "cell_type": "markdown",
   "id": "2399642c",
   "metadata": {},
   "source": [
    "Produces same answers as original function."
   ]
  },
  {
   "cell_type": "markdown",
   "id": "desperate-boating",
   "metadata": {
    "deletable": false,
    "editable": false,
    "nbgrader": {
     "cell_type": "markdown",
     "checksum": "b148814cd777cc4282d6fa902e9f3e76",
     "grade": false,
     "grade_id": "cell-1a31f33ad3fbe1f2",
     "locked": true,
     "schema_version": 3,
     "solution": false,
     "task": false
    }
   },
   "source": [
    "(d) Write and test an improved version of the original `seekFactor` function that allows the user to set the initial value of `x` and `y` (these should both be the same number). It should do this via an optional keyword-only argument, `start`, whose default value is 2."
   ]
  },
  {
   "cell_type": "code",
   "execution_count": 18,
   "id": "flexible-concept",
   "metadata": {
    "deletable": false,
    "nbgrader": {
     "cell_type": "code",
     "checksum": "3cd897940b332eac309a4e567e12597d",
     "grade": true,
     "grade_id": "cell-36a75d4d7708a19f",
     "locked": false,
     "points": 4,
     "schema_version": 3,
     "solution": true,
     "task": false
    }
   },
   "outputs": [],
   "source": [
    "def seekFactor(n, *, start = 2):\n",
    "    \"\"\"\n",
    "    Seeks a factor of n, assumed to be an int greater than 1, \n",
    "    using a fairly efficient deterministic algorithm. optional keyword-only argument 'start' whose default value is 2.\n",
    "    \"\"\"\n",
    "    from math import gcd\n",
    "    \n",
    "    # \"churning\" function g\n",
    "    \n",
    "    g = lambda x: (x**2 + 1) % n\n",
    "    \n",
    "    # initialize\n",
    "    x, y, d = start, start, 1\n",
    "    \n",
    "    # loop\n",
    "    while d == 1:\n",
    "        # update x and y\n",
    "        x, y = g(x), g(g(y))\n",
    "        # recalculate d\n",
    "        d = gcd(abs(x - y), n)\n",
    "    \n",
    "    # if d is not 1, it's a non-trivial factor of n\n",
    "    return d"
   ]
  },
  {
   "cell_type": "code",
   "execution_count": 19,
   "id": "c77fde28",
   "metadata": {},
   "outputs": [
    {
     "name": "stdout",
     "output_type": "stream",
     "text": [
      "43\n",
      "4307\n",
      "43\n",
      "4307\n"
     ]
    }
   ],
   "source": [
    "print(seekFactor(43 * 59))\n",
    "\n",
    "print(seekFactor(59 * 73))\n",
    "\n",
    "print(seekFactor(43 * 59, start = 5))\n",
    "\n",
    "print(seekFactor(start = 5, n = 59 * 73))"
   ]
  },
  {
   "cell_type": "markdown",
   "id": "841b4237",
   "metadata": {},
   "source": [
    "Start is keyword-only and values are returned the same as original function. "
   ]
  },
  {
   "cell_type": "markdown",
   "id": "native-reviewer",
   "metadata": {
    "deletable": false,
    "editable": false,
    "nbgrader": {
     "cell_type": "markdown",
     "checksum": "715fd2f42a6da7a9f80c3e159dd2788e",
     "grade": false,
     "grade_id": "cell-f12ff9de404655db",
     "locked": true,
     "schema_version": 3,
     "solution": false,
     "task": false
    }
   },
   "source": [
    "(e) Hence, write and test a function called `findFactor`, which takes as its argument a value of `n`, and calculates\n",
    "```python\n",
    "seekFactor(n, start=2)\n",
    "seekFactor(n, start=3)\n",
    "seekFactor(n, start=4)\n",
    "```\n",
    "and so on, with `start` taking values up to the integer part of $\\sqrt{n}$, returning the first value that is <em>not</em> equal to `n`. (If no such value is found, it should simply return `n`)."
   ]
  },
  {
   "cell_type": "code",
   "execution_count": 20,
   "id": "greatest-acrobat",
   "metadata": {
    "deletable": false,
    "nbgrader": {
     "cell_type": "code",
     "checksum": "6bca913e1b3e4661b72b6f8f7aad9998",
     "grade": true,
     "grade_id": "cell-f459b9ea774a9ce0",
     "locked": false,
     "points": 4,
     "schema_version": 3,
     "solution": true,
     "task": false
    }
   },
   "outputs": [],
   "source": [
    "def findFactor(n):\n",
    "    \"\"\"\n",
    "    Seeks a factor of n, assumed to be an int greater than 1, using a fairly efficient deterministic algorithm. \n",
    "    If the only factor of n is n, the function returns n otherwise it returns a non-trivial proper divisor. \n",
    "    \"\"\"\n",
    "    import math\n",
    "    \n",
    "    # defining intgerer part of sqrt(n)\n",
    "    N = math.floor(math.sqrt(n))\n",
    "    \n",
    "    # for loop to run seekFactor for values between 2 and integer part of sqrt(n)\n",
    "    for r in range(2, N + 1):\n",
    "        # if value doesn't equal n must be proper divisor\n",
    "        if seekFactor(n, start = r) != n:\n",
    "            #return proper divisor\n",
    "            return seekFactor(n, start = r)\n",
    "    \n",
    "    # if no proper divisors found return n\n",
    "    return n"
   ]
  },
  {
   "cell_type": "code",
   "execution_count": 21,
   "id": "ba11a39b",
   "metadata": {},
   "outputs": [
    {
     "name": "stdout",
     "output_type": "stream",
     "text": [
      "43\n",
      "73\n",
      "11\n"
     ]
    }
   ],
   "source": [
    "print(findFactor(43 * 59))\n",
    "\n",
    "print(findFactor(59 * 73))\n",
    "\n",
    "print(findFactor(11))"
   ]
  },
  {
   "cell_type": "markdown",
   "id": "c6d4b826",
   "metadata": {},
   "source": [
    "Returns proper divisors and works for prime numbers returning n."
   ]
  },
  {
   "cell_type": "markdown",
   "id": "portable-malta",
   "metadata": {
    "deletable": false,
    "editable": false,
    "nbgrader": {
     "cell_type": "markdown",
     "checksum": "90d7ba1fad89a5d166aeeb5ab38d2fb5",
     "grade": false,
     "grade_id": "cell-b27b73bd5efeb826",
     "locked": true,
     "schema_version": 3,
     "solution": false,
     "task": false
    }
   },
   "source": [
    "The following code calculates all the semiprimes less than $10,000$ formed of two distinct primes:"
   ]
  },
  {
   "cell_type": "code",
   "execution_count": 22,
   "id": "further-olive",
   "metadata": {
    "deletable": false,
    "editable": false,
    "nbgrader": {
     "cell_type": "code",
     "checksum": "ea51dd8235837c849e53497091eac178",
     "grade": false,
     "grade_id": "cell-4cf86aceeb593912",
     "locked": true,
     "schema_version": 3,
     "solution": false,
     "task": false
    }
   },
   "outputs": [],
   "source": [
    "primes = [2, 3, 5, 7, 11, 13, 17, 19, 23, 29, 31, 37, 41, 43, 47, 53, 59, 61, 67, 71, 73, 79, 83, 89, 97]\n",
    "semiprimes = [primes[i]*primes[j] for i in range(len(primes)-1) for j in range(i+1,len(primes))]\n",
    "semiprimes.sort()"
   ]
  },
  {
   "cell_type": "markdown",
   "id": "naval-roller",
   "metadata": {
    "deletable": false,
    "editable": false,
    "nbgrader": {
     "cell_type": "markdown",
     "checksum": "f69a8fbb72081cadbdb61a4148796e12",
     "grade": false,
     "grade_id": "cell-397a4d45de864a95",
     "locked": true,
     "schema_version": 3,
     "solution": false,
     "task": false
    }
   },
   "source": [
    "(f) A <b>proper divisor</b> of `n` is a divisor of `n` other than `n` itself. A non-trivial proper divisor is usually what we want when we try to factorise an integer.\n",
    "\n",
    "Find all the elements of `semiprimes` for which `seekFactor` fails to return a proper divisor, and show that `findFactor` returns a proper divisor in every case."
   ]
  },
  {
   "cell_type": "code",
   "execution_count": 23,
   "id": "adopted-poverty",
   "metadata": {
    "deletable": false,
    "nbgrader": {
     "cell_type": "code",
     "checksum": "597f1aa9e8532367bf3e86f89d2458ad",
     "grade": true,
     "grade_id": "cell-e9dbb14be80e8b6d",
     "locked": false,
     "points": 4,
     "schema_version": 3,
     "solution": true,
     "task": false
    }
   },
   "outputs": [
    {
     "name": "stdout",
     "output_type": "stream",
     "text": [
      "[21, 22, 62, 95, 185, 299, 341, 485, 703, 901, 1003, 1027, 1241, 1363, 1817, 1843, 1943, 3127, 3149, 3569, 3589, 3869, 4307]\n",
      "23\n",
      "[]\n"
     ]
    }
   ],
   "source": [
    "sFfails = [] # values of semiprimes that seekFactor fails to return a proper divisor.\n",
    "fFfails = [] # values of semiprimes that findFactor fails to return a proper divisor.\n",
    "\n",
    "for r in range(len(semiprimes)):\n",
    "    if seekFactor(semiprimes[r]) == semiprimes[r]:\n",
    "        sFfails = sFfails + [semiprimes[r]]\n",
    "        \n",
    "for r in range(len(semiprimes)):\n",
    "    if findFactor(semiprimes[r]) == semiprimes[r]:\n",
    "        fFfails = fFfails + [semiprimes[r]]\n",
    "        \n",
    "print(sFfails)\n",
    "print(len(sFfails))\n",
    "print(fFfails)"
   ]
  },
  {
   "cell_type": "markdown",
   "id": "b4b43b24",
   "metadata": {},
   "source": [
    "As you can see seekFactor fails to find 23 proper divisors but findFactor returns a proper divisor everytime as the list fFfails is empty."
   ]
  }
 ],
 "metadata": {
  "kernelspec": {
   "display_name": "Python 3",
   "language": "python",
   "name": "python3"
  },
  "language_info": {
   "codemirror_mode": {
    "name": "ipython",
    "version": 3
   },
   "file_extension": ".py",
   "mimetype": "text/x-python",
   "name": "python",
   "nbconvert_exporter": "python",
   "pygments_lexer": "ipython3",
   "version": "3.8.8"
  }
 },
 "nbformat": 4,
 "nbformat_minor": 5
}
