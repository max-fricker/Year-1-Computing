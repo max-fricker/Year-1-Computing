{
 "cells": [
  {
   "cell_type": "code",
   "execution_count": 1,
   "metadata": {},
   "outputs": [],
   "source": [
    "import numpy as np"
   ]
  },
  {
   "cell_type": "markdown",
   "metadata": {},
   "source": [
    "# <center>MATH40006 Python Midterm Test 2020-21</center>\n",
    "\n",
    "<center>One Hour</center>\n",
    "\n",
    "<center>25 February 2021</center>\n",
    "\n",
    "Show all code, output and diagrams, unless instructed otherwise. Where you are asked to test a function, full marks are only available if you show evidence of this testing. Function code should be appropriately commented, and each function should have at least a one-line docstring.\n",
    "\n",
    "Please submit as a Jupyter notebook."
   ]
  },
  {
   "cell_type": "markdown",
   "metadata": {},
   "source": [
    "## Question 1 (20 marks)"
   ]
  },
  {
   "cell_type": "markdown",
   "metadata": {},
   "source": [
    "(a) Import the NumPy module, and use it to set up two 1D arrays called `xvals` and `yvals`, \n",
    "each of which should consist of 200 equally-spaced floars between $0.01$ and $2.0$."
   ]
  },
  {
   "cell_type": "code",
   "execution_count": 2,
   "metadata": {},
   "outputs": [],
   "source": [
    "xvals = np.linspace(0.01, 2, 200)\n",
    "yvals = np.linspace(0.01, 2, 200)"
   ]
  },
  {
   "cell_type": "markdown",
   "metadata": {},
   "source": [
    "(b) Using the `meshgrid` function from NumPy, set up two 2D arrays called `x` and `y`, which should correspond respectively to the $x$- and $y$-coordinates of points on an equally-spaced $200\\times 200$ lattice occupying the square $0.01\\le x \\le 2.0$, $0.01 \\le y \\le 2.0$."
   ]
  },
  {
   "cell_type": "code",
   "execution_count": 4,
   "metadata": {},
   "outputs": [],
   "source": [
    "x, y = np.meshgrid(xvals, yvals)"
   ]
  },
  {
   "cell_type": "markdown",
   "metadata": {},
   "source": [
    "(c) Set up a 2D array called `z`, consisting of the values, on the $200\\times200$ lattice, of the function\n",
    "$$x + y - \\log x - \\log y.$$"
   ]
  },
  {
   "cell_type": "code",
   "execution_count": 5,
   "metadata": {},
   "outputs": [],
   "source": [
    "z = x + y - np.log(x) - np.log(y)"
   ]
  },
  {
   "cell_type": "markdown",
   "metadata": {},
   "source": [
    "(d) Set up 2D arrays called `dzdx` and `dzdy`, consisting of the values, on the $200\\times200$ lattice, of the functions\n",
    "$$1 - \\frac{1}{x}\\mbox{   and   }1- \\frac{1}{y}$$\n",
    "respectively (note that these correspond to the partial derivatives of $z$ with respect to $x$ and $y$)."
   ]
  },
  {
   "cell_type": "code",
   "execution_count": null,
   "metadata": {},
   "outputs": [],
   "source": []
  },
  {
   "cell_type": "markdown",
   "metadata": {},
   "source": [
    "(e) On the same pair of axes, show a streamplot of the vector field `(dzdy, -dzdx)`, in blue, together with a contour plot of `z`, in red. In the contour plot, set the `levels` keyword argument so that the contours shown correspond to $z=2.01,\\,2.02,\\,2.03,\\,\\dots,\\,3.00$. Make the scales the same on both axes.\n",
    "\n",
    "Comment briefly on what you see."
   ]
  },
  {
   "cell_type": "code",
   "execution_count": null,
   "metadata": {},
   "outputs": [],
   "source": []
  },
  {
   "cell_type": "markdown",
   "metadata": {},
   "source": [
    "## Question 2 (30 marks)\n",
    "\n",
    "The following is an iterative implementation of a function for calculating the $n$th line of Pascal's triangle, where $n$ is a non-negative integer."
   ]
  },
  {
   "cell_type": "code",
   "execution_count": 2,
   "metadata": {},
   "outputs": [],
   "source": [
    "def pascal_line1(n):\n",
    "    \"\"\"\n",
    "    Calculates the nth line of Pascal's triangle\n",
    "    \"\"\"\n",
    "    from numpy import array, append, flip\n",
    "    \n",
    "    line = array([1])\n",
    "    \n",
    "    # for loop\n",
    "    for m in range(n):\n",
    "        lengthened_line = append(line,0)\n",
    "        line = lengthened_line + flip(lengthened_line)\n",
    "        \n",
    "    # return\n",
    "    return line"
   ]
  },
  {
   "cell_type": "markdown",
   "metadata": {},
   "source": [
    "(a) Test this function on a small number of varied cases, including (a) cases you can check by hand and (b) any edge cases you think necessary."
   ]
  },
  {
   "cell_type": "code",
   "execution_count": 3,
   "metadata": {},
   "outputs": [],
   "source": [
    "pascal_line1(10000);"
   ]
  },
  {
   "cell_type": "code",
   "execution_count": null,
   "metadata": {},
   "outputs": [],
   "source": []
  },
  {
   "cell_type": "code",
   "execution_count": null,
   "metadata": {},
   "outputs": [],
   "source": []
  },
  {
   "cell_type": "markdown",
   "metadata": {},
   "source": [
    "(b) Write and test a <b>recursive</b> implementation of this algorithm, `pascal_line2`. Your function must not use a loop, but must instead call itself. As with `pascal_line1`, the sole argument should be a non-negative integer, and the function should return a 1D NumPy array."
   ]
  },
  {
   "cell_type": "code",
   "execution_count": null,
   "metadata": {},
   "outputs": [],
   "source": []
  },
  {
   "cell_type": "code",
   "execution_count": null,
   "metadata": {},
   "outputs": [],
   "source": []
  },
  {
   "cell_type": "code",
   "execution_count": null,
   "metadata": {},
   "outputs": [],
   "source": []
  },
  {
   "cell_type": "code",
   "execution_count": null,
   "metadata": {},
   "outputs": [],
   "source": []
  },
  {
   "cell_type": "markdown",
   "metadata": {},
   "source": [
    "(c) Write and test a version of this function, `pascal_line3`, that uses core Python lists instead of arrays, and makes no use of NumPy functionality. Your function should be iterative: that is, it should use a loop."
   ]
  },
  {
   "cell_type": "code",
   "execution_count": null,
   "metadata": {},
   "outputs": [],
   "source": []
  },
  {
   "cell_type": "code",
   "execution_count": null,
   "metadata": {},
   "outputs": [],
   "source": []
  },
  {
   "cell_type": "code",
   "execution_count": null,
   "metadata": {},
   "outputs": [],
   "source": []
  },
  {
   "cell_type": "code",
   "execution_count": null,
   "metadata": {},
   "outputs": [],
   "source": []
  },
  {
   "cell_type": "markdown",
   "metadata": {},
   "source": [
    "(d) Write and test a recursive version of this function, `pascal_line4`, that uses core Python lists instead of arrays, and makes no use of NumPy functionality. "
   ]
  },
  {
   "cell_type": "code",
   "execution_count": null,
   "metadata": {},
   "outputs": [],
   "source": [
    "      "
   ]
  },
  {
   "cell_type": "code",
   "execution_count": null,
   "metadata": {},
   "outputs": [],
   "source": []
  },
  {
   "cell_type": "code",
   "execution_count": null,
   "metadata": {},
   "outputs": [],
   "source": []
  },
  {
   "cell_type": "code",
   "execution_count": null,
   "metadata": {},
   "outputs": [],
   "source": []
  },
  {
   "cell_type": "markdown",
   "metadata": {},
   "source": [
    "(e) Using the `time` function from the `time` module, or otherwise, time each of your iterative functions, `pascal_line1` and `pascal_line3`, on the task of calculating the $10 000$th (ten thousandth) line of Pascal's triangle. Comment briefly on your findings."
   ]
  },
  {
   "cell_type": "code",
   "execution_count": null,
   "metadata": {},
   "outputs": [],
   "source": []
  },
  {
   "cell_type": "code",
   "execution_count": null,
   "metadata": {},
   "outputs": [],
   "source": []
  },
  {
   "cell_type": "code",
   "execution_count": null,
   "metadata": {},
   "outputs": [],
   "source": []
  }
 ],
 "metadata": {
  "kernelspec": {
   "display_name": "Python 3",
   "language": "python",
   "name": "python3"
  },
  "language_info": {
   "codemirror_mode": {
    "name": "ipython",
    "version": 3
   },
   "file_extension": ".py",
   "mimetype": "text/x-python",
   "name": "python",
   "nbconvert_exporter": "python",
   "pygments_lexer": "ipython3",
   "version": "3.8.8"
  }
 },
 "nbformat": 4,
 "nbformat_minor": 2
}
